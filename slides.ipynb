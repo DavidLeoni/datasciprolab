{
 "cells": [
  {
   "cell_type": "markdown",
   "metadata": {},
   "source": [
    "# Slides 2019/20\n",
    "\n",
    "Old slides: \n",
    "- [2018/19 slides](slides/slides-2018-19.ipynb)"
   ]
  },
  {
   "cell_type": "markdown",
   "metadata": {},
   "source": [
    "\n",
    "## Part A\n",
    "\n",
    "### Lab A.1\n",
    "\n",
    "Tuesday 24 Sep 2019\n",
    "\n",
    "\n",
    "\n",
    "#### Links\n",
    "\n",
    "lab site:  [datasciprolab.readthedocs.org](http://datasciprolab.readthedocs.org)\n",
    "\n",
    "Questionnaire: https://tinyurl.com/y6nlnx7l\n",
    "\n",
    "\n",
    "* [All Google Colab scratchpads](https://drive.google.com/drive/folders/17cAdDWOFoSJ1hzHrYmx7EanqbqEqxZ3w?usp=sharing)\n",
    "* [First Google Colab](https://colab.research.google.com/drive/1SQV2eB6lMzbGHA_zACaxIoyZYjwKT1J9)\n",
    " (for code shown during lesson)\n",
    "* Lesson: [Introduction](exercises/introduction/introduction-solution.ipynb)\n",
    "* Lesson (maybe): [Python basics](exercises/basics/basics-solution.ipynb)\n",
    "\n"
   ]
  },
  {
   "cell_type": "markdown",
   "metadata": {},
   "source": [
    "\n",
    "\n",
    "#### What I expect\n",
    "\n",
    "- if you don't program in Python, you don't learn Python\n",
    "- you don't learn Python if you don't program in Python\n",
    "- to be a successful data scientist, you must know programming\n",
    "- **Exercise**: now put the right priorities in your TODO list ;-)\n",
    "\n",
    "#### Course contents\n",
    "\n",
    "- Hands-on approach\n",
    "\n",
    "**Part A - python intro**\n",
    "\n",
    "- logic basics\n",
    "- discrete structures basics\n",
    "- python basics\n",
    "- data cleaning\n",
    "- format conversion (matrices, tables, graphs, ...)\n",
    "- visualization (matplotlib, graphviz)\n",
    "- some analytics (with pandas)\n",
    "- focus on correct code, don't care about performance\n",
    "- plus: some software engineering wisdom\n",
    "\n",
    "**Part A exams**: \n",
    "\n",
    "There will always be some practical structured exercise\n",
    "\n",
    "Examples:\n",
    "\n",
    "- [analizing employees of University of Trento](https://datasciprolab.readthedocs.io/en/latest/exams/2019-08-26/exam-2019-08-26-solution.html#Part-A)\n",
    "- [visualizing intercity bus network](https://datasciprolab.readthedocs.io/en/latest/exams/2019-02-13/exam-2019-02-13-solution.html#Introduction)\n",
    "- [extracting categories from workshops of Trentino](https://datasciprolab.readthedocs.io/en/latest/exams/2019-07-02/exam-2019-07-02-solution.html#A1-Botteghe-storiche)\n",
    "\n",
    "Sometimes, there can also be a more abstract thing with matrices / relations, (i.e.  [surjective relation](https://datasciprolab.readthedocs.io/en/latest/exams/2018-11-16/exam-2018-11-16-solution.html#2.-surjective))\n",
    "    \n",
    "\n",
    "**Part B - algorithms**\n",
    "\n",
    "- going from theory taught by Prof. Luca Bianco to Python 3 implementation\n",
    "- performance matters\n",
    "- few Python functions\n",
    "\n",
    " "
   ]
  },
  {
   "cell_type": "markdown",
   "metadata": {},
   "source": [
    "##### Python Tutor\n",
    "\n",
    "Let's meet Python on the web with [Python Tutor](http://pythontutor.com/visualize.html) is a great way to visualize Python code.\n",
    "\n",
    "**Use it as much as possible!** . It really provides great guidance about how things are working under the hood.\n",
    "\n",
    "By default works for standard Python code. If you want to use it also with code from modules (i.e.  numpy) you have to select `Write code in Python3 with Anaconda (experimental)` \n",
    "\n",
    "- Anaconda\n",
    "- System console\n",
    "- Jupyter\n",
    "\n",
    "##### Some data types example \n",
    "\n",
    "mutable vs immutable\n",
    "\n",
    "Examples for \n",
    "\n",
    "- int\n",
    "- float\n",
    "- string\n",
    "- boolean\n",
    "    - warning: everything in Python can be interpreted as a boolean !\n",
    "    - 'empty' objects are considered as false:  `None`,  zero `0`, empty string `\"\"`, empty list `[]`, empty dict `dict()`\n",
    "- list\n",
    "\n",
    "**Especially when there are examples involving lists, try them  in Python tutor !!!!**\n",
    "\n",
    "##### Let's start:\n",
    "\n",
    "[introduction exercises](exercises/introduction/introduction-solution.ipynb)\n",
    "\n",
    "\n"
   ]
  },
  {
   "cell_type": "markdown",
   "metadata": {},
   "source": [
    "### Lab A.2\n",
    "\n",
    "Thursday 26 Sep 2019\n",
    "\n",
    "#### Links\n",
    "\n",
    "**If you didn't yet, please fill questionnaire**: https://tinyurl.com/y6nlnx7l\n",
    "\n",
    "* [All Google Colab scratchpads](https://drive.google.com/drive/folders/17cAdDWOFoSJ1hzHrYmx7EanqbqEqxZ3w?usp=sharing)\n",
    "* [Second Google Colab](https://drive.google.com/open?id=1_McK48wpvTD3CVizIafavYcbt6EVZbgf)\n",
    " (for code shown during lesson)\n",
    "\n",
    "* Lesson: [Python basics](exercises/basics/basics-solution.ipynb)"
   ]
  },
  {
   "cell_type": "markdown",
   "metadata": {},
   "source": [
    "### Lab A.3\n",
    "\n",
    "Tuesday 1st Oct 2019\n",
    "\n",
    "#### Links\n",
    "\n",
    "**If you didn't yet, please fill questionnaire**: https://tinyurl.com/y6nlnx7l\n",
    "\n",
    "* [All Google Colab scratchpads](https://drive.google.com/drive/folders/17cAdDWOFoSJ1hzHrYmx7EanqbqEqxZ3w?usp=sharing)\n",
    "* [Third Google Colab](https://colab.research.google.com/drive/10MKRM4zvjez0r7a_jIFZ14THJ3GodOLX)\n",
    " (for code shown during lesson)\n",
    "\n",
    "* Lesson: [Strings](exercises/strings/strings-solution.ipynb) (NOTE: redownload it, was updated)  \n",
    "\n",
    "\n",
    "\n",
    "**Material for Part A is being restructured, always pay attention to** [News section](https://datasciprolab.readthedocs.io/en/latest/index.html#News)\n",
    "\n",
    "In general, Part A basic notebooks will be divided in three parts : \n",
    "\n",
    "- Introduction - does not require any prior knowledge\n",
    "- Exercises with functions: require knowing complex statements, functions, cycles\n",
    "- Verify your comprehension: require knowing complex statements, functions, cycles and also [Error handling and testing with asserts](https://datasciprolab.readthedocs.io/en/latest/exercises/errors-and-testing/errors-and-testing-solution.html)"
   ]
  },
  {
   "cell_type": "markdown",
   "metadata": {},
   "source": [
    "### Lab A.4\n",
    "\n",
    "Thursday 3rd Oct 2019\n",
    "\n",
    "#### Links\n",
    "\n",
    "* [All Google Colab scratchpads](https://drive.google.com/drive/folders/17cAdDWOFoSJ1hzHrYmx7EanqbqEqxZ3w?usp=sharing)\n",
    "* [Fourth Google Colab](https://colab.research.google.com/drive/1IQ03EFsXURgKmh6PV_qxmN_L3S8Nn-Zs)\n",
    " (for code shown during lesson)\n",
    "\n",
    "* Lesson: [Lists](exercises/lists/lists-solution.ipynb) (NOTE: redownload it, was updated)  \n",
    "\n",
    "\n",
    "**Material for Part A is being restructured, always pay attention to** [News section](https://datasciprolab.readthedocs.io/en/latest/index.html#News)\n",
    "\n"
   ]
  },
  {
   "cell_type": "markdown",
   "metadata": {},
   "source": [
    "### Lab A.5\n",
    "\n",
    "Tuesday 8 Oct 2019\n",
    "\n",
    "#### Links\n",
    "\n",
    "* [All Google Colab scratchpads](https://drive.google.com/drive/folders/17cAdDWOFoSJ1hzHrYmx7EanqbqEqxZ3w?usp=sharing)\n",
    "* [Fifth Google Colab](https://colab.research.google.com/drive/1aR-YnwJjSq_2MBGqoAre255PUgCYLdKA)\n",
    " (for code shown during lesson)\n",
    "\n",
    "* Lesson: [Sets](exercises/sets/sets-solution.ipynb)\n",
    "* Lesson: [Tuples](exercises/tuples/tuples-solution.ipynb)\n",
    "* Lesson: [Dictionaries](exercises/dictionaries/dictionaries-solution.ipynb) (NOTE: redownload it, was updated)\n",
    "\n",
    "**Material for Part A is being restructured, always pay attention to** [News section](https://datasciprolab.readthedocs.io/en/latest/index.html#News)\n",
    "\n",
    "**SAVE THE DATE**: \n",
    "\n",
    "\n",
    "- MIDTERM PART A SIMULATION: 31 october 15:30-17:30 room a202\n",
    "\n",
    "- MIDTERM PART A: 7 november 11:30-13:30 room b106 \n",
    "\n",
    "**IMPORTANT: differently from past Part A exams, there will also be an exercise on pandas.**\n"
   ]
  },
  {
   "cell_type": "markdown",
   "metadata": {},
   "source": [
    "### Lab A.6\n",
    "\n",
    "Thursday 10 Oct 2019\n",
    "\n",
    "#### Links\n",
    "\n",
    "* [All Google Colab scratchpads](https://drive.google.com/drive/folders/17cAdDWOFoSJ1hzHrYmx7EanqbqEqxZ3w?usp=sharing)\n",
    "* [Sixth Google Colab](https://drive.google.com/open?id=1fzrnow3WBRXtNNSPbmdjyisFLsrH5sT0)\n",
    " (for code shown during lesson)\n",
    "\n",
    "* Lesson: [Dictionaries (continued)](exercises/dictionaries/dictionaries-solution.ipynb)  \n",
    "* Lesson: [Errors and testing (until testing with assert included)](exercises/errors-and-testing/errors-and-testing-solution.ipynb)\n",
    "* Lesson: [Matrices: list of lists](exercises/matrix-lists/matrix-lists-solution.ipynb)\n",
    "\n",
    "**Material for Part A is being restructured, always pay attention to** [News section](https://datasciprolab.readthedocs.io/en/latest/index.html#News)\n",
    "\n",
    "**SAVE THE DATE**: \n",
    "\n",
    "- MIDTERM PART A SIMULATION: 31 october 15:30-17:30 room a202\n",
    "\n",
    "- MIDTERM PART A: 7 november 11:30-13:30 room b106 \n",
    "\n",
    "**IMPORTANT: differently from past Part A exams, there will also be an exercise on Pandas.**\n"
   ]
  },
  {
   "cell_type": "markdown",
   "metadata": {},
   "source": [
    "### Lab A.7\n",
    "\n",
    "Tuesday 15 Oct 2019\n",
    "\n",
    "#### Links\n",
    "\n",
    "* [All Google Colab scratchpads](https://drive.google.com/drive/folders/17cAdDWOFoSJ1hzHrYmx7EanqbqEqxZ3w?usp=sharing)\n",
    "* [Seventh Google Colab](https://drive.google.com/open?id=1lBlv6mbNdajJ0GHAKJfcY1Ck5F2NKOCH)\n",
    " (for code shown during lesson)\n",
    "\n",
    "* Lesson (continued): [Matrices: list of lists](exercises/matrices-lists/matrices-lists-solution.ipynb)\n",
    "* Lesson: [Data formats](exercises/formats/formats-solution.ipynb)\n"
   ]
  },
  {
   "cell_type": "markdown",
   "metadata": {},
   "source": [
    "### Lab A.8\n",
    "\n",
    "Thursday 17 Oct 2019\n",
    "\n",
    "#### Links\n",
    "\n",
    "* [All Google Colab scratchpads](https://drive.google.com/drive/folders/17cAdDWOFoSJ1hzHrYmx7EanqbqEqxZ3w?usp=sharing)\n",
    "* [Eight Google Colab](https://drive.google.com/open?id=1jAmEde-omImUBd0G6qZmMCzJvQfxO5at)\n",
    " (for code shown during lesson)\n",
    "\n",
    "* Lesson: [Graph formats](exercises/graph-formats/graph-formats-solution.ipynb) until Adjacency lists excluded\n"
   ]
  },
  {
   "cell_type": "markdown",
   "metadata": {},
   "source": [
    "### Lab A.9\n",
    "\n",
    "Tuesday 22 Oct 2019\n",
    "\n",
    "#### Links\n",
    "\n",
    "* [All Google Colab scratchpads](https://drive.google.com/drive/folders/17cAdDWOFoSJ1hzHrYmx7EanqbqEqxZ3w?usp=sharing)\n",
    "* [Ninth Google Colab](https://drive.google.com/open?id=1QmSKK8N7qdVjfPFOpdZNFNOkbjUI5GT5)\n",
    " (for code shown during lesson)\n",
    "\n",
    "* Lesson: [Graph formats](exercises/graph-formats/graph-formats-solution.ipynb) from Adjacency lists included until end\n",
    "* mention: [Binary relations](exercises/binary-relations/binary-relations-solution.ipynb)  (finish it at home)"
   ]
  },
  {
   "cell_type": "markdown",
   "metadata": {},
   "source": [
    "### Lab A.10\n",
    "\n",
    "Thursday 24 Oct 2019\n",
    "\n",
    "#### Links\n",
    "\n",
    "* [All Google Colab scratchpads](https://drive.google.com/drive/folders/17cAdDWOFoSJ1hzHrYmx7EanqbqEqxZ3w?usp=sharing)\n",
    "* [Tenth Google Colab](https://drive.google.com/open?id=1WQ57M1A_SghmoXFncpLK7L5BREkaMDo8)\n",
    " (for code shown during lesson)\n",
    "\n",
    "* lesson: [Numpy matrices](exercises/matrices-numpy/matrices-numpy-solution.ipynb) \n",
    "* lesson: [Visualization](exercises/visualization/visualization-solution.ipynb)  "
   ]
  },
  {
   "cell_type": "markdown",
   "metadata": {},
   "source": [
    "### Lab A.11\n",
    "\n",
    "Thursday 29 Oct 2019\n",
    "\n",
    "#### Links\n",
    "\n",
    "* [All Google Colab scratchpads](https://drive.google.com/drive/folders/17cAdDWOFoSJ1hzHrYmx7EanqbqEqxZ3w?usp=sharing)\n",
    "* [Eleventh Google Colab](https://drive.google.com/open?id=1wMYiMkjrVCr4Nw0gcOsVVV6hSqL6AjiK)\n",
    " (for code shown during lesson)\n",
    "\n",
    "* lesson: [Pandas](exercises/pandas/pandas-solution.ipynb) "
   ]
  },
  {
   "cell_type": "markdown",
   "metadata": {},
   "source": [
    "### Lab A.12\n",
    "\n",
    "Tuesday 5 November\n",
    "\n",
    "* Numpy NANs and infinities - redownload updated [Matrices: Numpy](https://datasciprolab.readthedocs.io/en/latest/exercises/matrices-numpy/matrices-numpy-solution.html#NaNs-and-infinities)\n",
    "* [Exercises on strings from leetcode](https://datasciprolab.readthedocs.io/en/latest/exercises/strings/strings-solution.html#Further-resources)"
   ]
  },
  {
   "cell_type": "markdown",
   "metadata": {},
   "source": [
    "### Lab B.1\n",
    "\n",
    "Tuesday 12 November\n",
    "\n",
    "* [Testing with unittest](exercises/errors-and-testing/errors-and-testing-solution.ipynb#Testing-with-Unittest)\n",
    "* [OOP](exercises/oop/oop.ipynb) (first part until magnitude)\n",
    "\n",
    "Remember that from now on we only use Visual Studio Code"
   ]
  },
  {
   "cell_type": "markdown",
   "metadata": {},
   "source": [
    "### Lab B.2\n",
    "\n",
    "Thursday 14 November\n",
    "\n",
    "* [OOP](exercises/oop/oop.ipynb) (finish)\n",
    "* At home: try to implement MultiSet class\n",
    "\n",
    "Remember that from now on we only use Visual Studio Code"
   ]
  },
  {
   "cell_type": "markdown",
   "metadata": {},
   "source": [
    "### Lab B.3\n",
    "\n",
    "Tuesday 19 November\n",
    "\n",
    "* [Sorting 1](exercises/sorting/sorting.ipynb) (selection sort, insertion sort)"
   ]
  },
  {
   "cell_type": "markdown",
   "metadata": {},
   "source": [
    "### Lab B.4\n",
    "\n",
    "Thursday 21 November\n",
    "\n",
    "* [Sorting 2](exercises/sorting/sorting.ipynb) (merge sort, quicksort, SwapArray)"
   ]
  },
  {
   "cell_type": "markdown",
   "metadata": {},
   "source": [
    "### Lab B.5\n",
    "\n",
    "Tuesday 26 November\n",
    "\n",
    "* [LinkedList v1](exercises/linked-lists/linked-lists.ipynb) \n",
    "\n",
    "At home: try to finish whole LinkedList worksheet"
   ]
  },
  {
   "cell_type": "code",
   "execution_count": null,
   "metadata": {},
   "outputs": [],
   "source": []
  }
 ],
 "metadata": {
  "kernelspec": {
   "display_name": "Python 3",
   "language": "python",
   "name": "python3"
  },
  "language_info": {
   "codemirror_mode": {
    "name": "ipython",
    "version": 3
   },
   "file_extension": ".py",
   "mimetype": "text/x-python",
   "name": "python",
   "nbconvert_exporter": "python",
   "pygments_lexer": "ipython3",
   "version": "3.7.3"
  },
  "toc": {
   "base_numbering": 1,
   "nav_menu": {},
   "number_sections": false,
   "sideBar": true,
   "skip_h1_title": false,
   "title_cell": "Table of Contents",
   "title_sidebar": "Contents",
   "toc_cell": false,
   "toc_position": {},
   "toc_section_display": true,
   "toc_window_display": true
  }
 },
 "nbformat": 4,
 "nbformat_minor": 2
}
