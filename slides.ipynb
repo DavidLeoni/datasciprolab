{
 "cells": [
  {
   "cell_type": "markdown",
   "metadata": {},
   "source": [
    "## Slides\n",
    "\n",
    "**Lab 1 Slides**\n",
    "\n",
    "Monday 13 Nov 2017\n",
    "\n",
    "**Lab Goals**\n",
    "\n",
    "* Going from theory taught by Prof. Alberto Montresor to Python 3 implementation\n",
    "* plus: some software engineering wisdom\n",
    "\n",
    "**How**\n",
    "\n",
    "* Hands-on approach\n",
    "* Performance considerations\n",
    "* Focus on correct code\n",
    "* Few Python functions\n",
    "* Will follow  [last year QCB algolab](https://sciprolab2.readthedocs.io/en/latest/intro.html#Past-exams) BUT: \n",
    "\n",
    "||last year | this year|\n",
    "|-|----------|----------|\n",
    "|Dynamic programming during exams|more|less|\n",
    "|matrices during exams|less|more|\n",
    "|Graphs during exams|less|more|\n",
    "\n",
    "\n",
    "<br/>\n",
    "<div class=\"alert alert-warning\">\n",
    "\n",
    "**WARNING**: Beware the _jupman_ !\n",
    "\n",
    "If you see around commands containing the word `jupman`, please ignore them, they are just for website publishing purposes. \n",
    "</div>\n",
    "\n",
    "**Lab Midterm?**\n",
    "\n",
    "* Probably\n",
    "\n",
    "**Exam**\n",
    "\n",
    "* open book\n",
    "* if you study, you get 30\n",
    "\n",
    "**Today**\n",
    "\n",
    "TODO"
   ]
  }
 ],
 "metadata": {
  "kernelspec": {
   "display_name": "Python 3",
   "language": "python",
   "name": "python3"
  },
  "language_info": {
   "codemirror_mode": {
    "name": "ipython",
    "version": 3
   },
   "file_extension": ".py",
   "mimetype": "text/x-python",
   "name": "python",
   "nbconvert_exporter": "python",
   "pygments_lexer": "ipython3",
   "version": "3.5.2"
  },
  "toc": {
   "base_numbering": 1,
   "nav_menu": {},
   "number_sections": false,
   "sideBar": true,
   "skip_h1_title": false,
   "title_cell": "Table of Contents",
   "title_sidebar": "Contents",
   "toc_cell": false,
   "toc_position": {},
   "toc_section_display": true,
   "toc_window_display": false
  }
 },
 "nbformat": 4,
 "nbformat_minor": 2
}
