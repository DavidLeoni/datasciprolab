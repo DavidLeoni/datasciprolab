{
 "cells": [
  {
   "cell_type": "markdown",
   "metadata": {},
   "source": [
    "# Slides\n",
    "\n"
   ]
  },
  {
   "cell_type": "markdown",
   "metadata": {},
   "source": [
    "\n",
    "## Lab 1\n",
    "\n",
    "Friday 28 Sep 2018\n",
    "\n",
    "\n",
    "\n",
    "### Links\n",
    "\n",
    "lab site:  [datasciprolab.readthedocs.org](http://datasciprolab.readthedocs.org)\n",
    "\n",
    "Questionnaire: https://tinyurl.com/spquest01\n",
    "\n",
    "\n",
    "* [All Google Colab scratchpads](https://drive.google.com/open?id=1aKaEPmqFF7-0EPRohwWKCmrz5FEwwEhq)\n",
    "* [First Google Colab](https://drive.google.com/open?id=1jpY6BZ7tf-zigcgk1MXmrttcTUKB9Dr1)\n",
    " (for code shown during lesson - during each lesson you also can write on it):\n",
    "* Lesson: [Introduction](exercises/introduction/introduction-solution.ipynb)\n",
    "\n"
   ]
  },
  {
   "cell_type": "markdown",
   "metadata": {},
   "source": [
    "\n",
    "\n",
    "### What I expect\n",
    "\n",
    "- if you don't program in Python, you don't learn Python\n",
    "- you don't learn Python if you don't program in Python\n",
    "- to be a successful data scientist, you must know programming\n",
    "- **Exercise**: now put the right priorities in your TODO list ;-)\n",
    "\n",
    "### Course contents\n",
    "\n",
    "- matrices, matrices, matrices\n",
    "    - a table is a matrix\n",
    "    - a social network is a matrix\n",
    "    - you brain is a matrix\n",
    "    - ....\n",
    "- ok, we will also do something else \n",
    "\n",
    "**First course part - python intro**\n",
    "\n",
    "- getting hands dirty\n",
    "- python basics, libs (i.e. pandas)\n",
    "- data cleaning\n",
    "- some analytics\n",
    "- plus: some software engineering wisdom\n",
    "\n",
    "**Second course part - algorithms**\n",
    "\n",
    "- Going from theory taught by Prof. Alberto Montresor to Python 3 implementation\n",
    "- Hands-on approach\n",
    "    - Performance considerations\n",
    "    - Focus on correct code\n",
    "    - Few Python functions\n",
    "    - Will follow last year algorithms lab\n",
    "\n",
    "\n",
    "#### Python Tutor\n",
    "\n",
    "Let's meet Python on the web with [Python Tutor](http://pythontutor.com/visualize.html) is a great way to visualize Python code.\n",
    "\n",
    "**Use it as much as possible!** . It really provides great guidance about how things are working under the hood.\n",
    "\n",
    "By default works for standard Python code. If you want to use it also with code from modules (i.e.  numpy) you have to select `Write code in Python3 with Anaconda (experimental)` \n",
    "\n",
    "- Anaconda\n",
    "- System console\n",
    "- Jupyter\n",
    "\n",
    "#### Some data types example \n",
    "\n",
    "mutable vs immutable\n",
    "\n",
    "Examples for \n",
    "\n",
    "- int\n",
    "- float\n",
    "- string\n",
    "- boolean\n",
    "    - warning: everything in Python can be interpreted as a boolean !\n",
    "    - 'empty' objects are considered as false:  `None`,  zero `0`, empty string `\"\"`, empty list `[]`, empty dict `dict()`\n",
    "- list\n",
    "\n",
    "**Especially when there are examples involving lists, try them  in Python tutor !!!!**\n",
    "\n",
    "#### Let's start:\n",
    "\n",
    "[introduction exercises](exercises/introduction/introduction-solution.ipynb)\n",
    "\n",
    "\n"
   ]
  },
  {
   "cell_type": "markdown",
   "metadata": {},
   "source": [
    "## Lab 2\n",
    "\n",
    "Friday October 5th 2018\n",
    "\n",
    "links: \n",
    "\n",
    "- [Google colab scratchpad 2](https://colab.research.google.com/drive/17GYc2Idok7opLoZdXdL_L_-R_SUuF3WN) \n",
    "\n",
    "-------------------------------\n",
    "\n",
    "- [Slides montresor - Structured data types](http://disi.unitn.it/~montreso/sp/slides/A02-datastructures.pdf)\n",
    "- (maybe) [Slides montresor - Structured programming](http://disi.unitn.it/~montreso/sp/slides/A03-controlflow.pdf)\n",
    "- [ThinkPython General introduction](https://runestone.academy/runestone/static/thinkcspy/GeneralIntro/toctree.html)\n",
    "- [ThinkPythonSimple Python Data](https://runestone.academy/runestone/static/thinkcspy/SimplePythonData/toctree.html)\n",
    "    - [exercises](https://runestone.academy/runestone/static/thinkcspy/SimplePythonData/Exercises.html)\n",
    "- [ThinkPython Debugging interlude 1](https://runestone.academy/runestone/static/thinkcspy/Debugging/toctree.html)\n"
   ]
  },
  {
   "cell_type": "markdown",
   "metadata": {},
   "source": [
    "Will do: \n",
    "\n",
    "- Finish review of tools: Visual Studio Code \n",
    "- some exercise on data types    \n",
    "- simple functions with return\n",
    "- simple tests with assert"
   ]
  },
  {
   "cell_type": "markdown",
   "metadata": {},
   "source": [
    "## Lab 3\n",
    "\n",
    "Tuesday October 9th 2018\n",
    "\n",
    "links: \n",
    "\n",
    "- [Google colab scratchpad 3](https://colab.research.google.com/drive/1gp27m659gbBOQP2jA4xW66tO4R5NIV6W) \n",
    "- lesson: [lists](exercises/lists/lists-solution.ipynb)\n",
    "\n",
    "---------------------\n",
    "\n",
    "- [Slides montresor - Structured data types](http://disi.unitn.it/~montreso/sp/slides/A02-datastructures.pdf)\n",
    "- [Slides montresor - Structured programming](http://disi.unitn.it/~montreso/sp/slides/A03-controlflow.pdf)\n",
    "- [ThinkPython General introduction](https://runestone.academy/runestone/static/thinkcspy/GeneralIntro/toctree.html)\n",
    "- [ThinkPythonSimple Python Data](https://runestone.academy/runestone/static/thinkcspy/SimplePythonData/toctree.html)\n",
    "    - [exercises](https://runestone.academy/runestone/static/thinkcspy/SimplePythonData/Exercises.html)\n",
    "- [ThinkPython Debugging interlude 1](https://runestone.academy/runestone/static/thinkcspy/Debugging/toctree.html)\n"
   ]
  },
  {
   "cell_type": "markdown",
   "metadata": {},
   "source": [
    "## Lab 4\n",
    "\n",
    "Wednesday October 10th 2018\n",
    "\n",
    "links: \n",
    "\n",
    "- [Google colab scratchpad 4](https://colab.research.google.com/drive/1_uM7n77lrxp53-zxthLYYX4f-gAerA6y) \n",
    "- lesson: [Matrix as lists of lists](exercises/matrix-lists/matrix-lists-solution.ipynb)\n",
    "\n",
    "------------------\n",
    "\n",
    "- [Slides montresor - Structured data types](http://disi.unitn.it/~montreso/sp/slides/A02-datastructures.pdf)\n",
    "- [Slides montresor - Structured programming](http://disi.unitn.it/~montreso/sp/slides/A03-controlflow.pdf)\n",
    "- [ThinkPython General introduction](https://runestone.academy/runestone/static/thinkcspy/GeneralIntro/toctree.html)\n",
    "- [ThinkPythonSimple Python Data](https://runestone.academy/runestone/static/thinkcspy/SimplePythonData/toctree.html)\n",
    "- [ThinkPython Debugging interlude 1](https://runestone.academy/runestone/static/thinkcspy/Debugging/toctree.html)\n",
    "\n"
   ]
  },
  {
   "cell_type": "markdown",
   "metadata": {},
   "source": [
    "## Lab 5\n",
    "\n",
    "Friday October 12th, 2018\n",
    "\n",
    "* [Google colab scratchpad 5](https://colab.research.google.com/drive/1YVZVrt3xEO5I1wZjhyNxviEjHjJlH3rv)\n",
    "* lesson: [Matrix as list of lists](exercises/matrix-lists/matrix-lists-solution.ipynb) (continued)\n",
    "\n",
    "------------------\n",
    "\n",
    "- [Slides montresor - Structured data types](http://disi.unitn.it/~montreso/sp/slides/A02-datastructures.pdf)\n",
    "- [Slides montresor - Structured programming](http://disi.unitn.it/~montreso/sp/slides/A03-controlflow.pdf)\n",
    "- [ThinkPython General introduction](https://runestone.academy/runestone/static/thinkcspy/GeneralIntro/toctree.html)\n",
    "- [ThinkPythonSimple Python Data](https://runestone.academy/runestone/static/thinkcspy/SimplePythonData/toctree.html)\n",
    "- [ThinkPython Debugging interlude 1](https://runestone.academy/runestone/static/thinkcspy/Debugging/toctree.html)\n"
   ]
  },
  {
   "cell_type": "markdown",
   "metadata": {},
   "source": [
    "## Lab 6\n",
    "\n",
    "Tuesday October 16th, 2018\n",
    "\n",
    "* [Google colab scratchpad 6](https://colab.research.google.com/drive/14B3jWZTWNKpFaA3x8w8k3Xgd2kvcR613)\n",
    "* lesson: [Matrix networks](exercises/matrix-networks/matrix-networks-solution.ipynb)\n",
    "\n",
    "------------------\n",
    "\n",
    "- [Slides montresor - Structured data types](http://disi.unitn.it/~montreso/sp/slides/A02-datastructures.pdf)\n",
    "- [Slides montresor - Structured programming](http://disi.unitn.it/~montreso/sp/slides/A03-controlflow.pdf)\n",
    "- [ThinkPython General introduction](https://runestone.academy/runestone/static/thinkcspy/GeneralIntro/toctree.html)\n",
    "- [ThinkPythonSimple Python Data](https://runestone.academy/runestone/static/thinkcspy/SimplePythonData/toctree.html)\n",
    "- [ThinkPython Debugging interlude 1](https://runestone.academy/runestone/static/thinkcspy/Debugging/toctree.html)\n"
   ]
  },
  {
   "cell_type": "markdown",
   "metadata": {},
   "source": [
    "### Lab 7\n",
    "\n",
    "Friday October 19th, 2018\n",
    "\n",
    "* [Google colab scratchpad 7](https://colab.research.google.com/drive/1gJ6kI9xhzS66dffuHXSqjlHfKk5Ix3Jx)\n",
    "* lesson: [dictionaries](exercises/dictionaries/dictionaries-solution.ipynb)\n",
    "* lesson: [binary relations](exercises/binary-relations/binary-relations-solution.ipynb), Graph formats paragraph\n",
    "* lesson: [Network statistics](exercises/network-statistics/network-statistics-solution.ipynb)\n"
   ]
  },
  {
   "cell_type": "markdown",
   "metadata": {},
   "source": [
    "### Lab 8\n",
    "\n",
    "Tuesday October 23rd, 2018\n",
    "\n",
    "* [Google colab scratchpad 8](https://colab.research.google.com/drive/149yLlDrwG6AdyCQPtOCZKDYGff3z2k2s)\n",
    "* lesson: [Network statistics](exercises/network-statistics/network-statistics-solution.ipynb) (continued)\n",
    "\n",
    "_____________________________\n",
    "\n",
    "* [Slides montresor - A06 Recursion](http://disi.unitn.it/~montreso/sp/handouts/A06-recursion.pdf)"
   ]
  },
  {
   "cell_type": "markdown",
   "metadata": {},
   "source": [
    "### Lab 9\n",
    "\n",
    "Friday October 26th, 2018\n",
    "\n",
    "* lesson: [Network statistics](exercises/network-statistics/network-statistics-solution.ipynb) (continued)\n",
    "* lesson: [Visualization](exercises/visualization/visualization-solution.ipynb) \n",
    "\n",
    "_____________________________\n",
    "\n",
    "* [Slides montresor - A08 numpy+matplotlib](http://disi.unitn.it/~montreso/sp/handouts/A08-numpy.pdf)"
   ]
  },
  {
   "cell_type": "markdown",
   "metadata": {},
   "source": [
    "### Lab 10\n",
    "\n",
    "Tuesday November 6th, 2018\n",
    "\n",
    "\n",
    "* lesson: [Pandas](exercises/pandas/pandas-solution.ipynb) \n",
    "\n",
    "_____________________________\n",
    "\n",
    "* [Slides montresor - A08 numpy+matplotlib](http://disi.unitn.it/~montreso/sp/handouts/A07-pandas.pdf)\n",
    "\n",
    "\n",
    "**NEWS: RESTRUCTURED WEBSITE**. \n",
    "- Added [Exam modalities](index.ipynb#What-I-expect) , please read them\n",
    "- Added difficulty ratings to exercises\n",
    "- Added sections:\n",
    "    - [Strings](exercises/strings/strings-solution.ipynb)\n",
    "    - [Graph formats](exercises/graph-formats/graph-formats-solution.ipynb)\n",
    "    - [Binary relations](exercises/binary-relations/binary-relations-solution.ipynb)\n",
    "    - [Pandas](exercises/pandas/pandas-solution.ipynb)\n",
    "- Expanded sections:\n",
    "    - [Lists](exercises/lists/lists-solution.ipynb)\n",
    "    - [Visualization](exercises/visualization/visualization-solution.ipynb) \n",
    "\n"
   ]
  },
  {
   "cell_type": "markdown",
   "metadata": {},
   "source": [
    "### Lab 11\n",
    "\n",
    "Friday November 9th, 2018\n",
    "\n",
    "* [Google Colab](https://colab.research.google.com/drive/1aZbmnYeWyjJikv2lGZq8cprm-zOzqWr1)\n",
    "\n",
    "* review exercises [Strings](exercises/strings/strings-solution.ipynb), [Lists](exercises/lists/lists-solution.ipynb) , [Binary relations](exercises/binary-relations/binary-relations-solution.ipynb)\n",
    "\n"
   ]
  },
  {
   "cell_type": "code",
   "execution_count": null,
   "metadata": {},
   "outputs": [],
   "source": []
  }
 ],
 "metadata": {
  "kernelspec": {
   "display_name": "Python 3",
   "language": "python",
   "name": "python3"
  },
  "language_info": {
   "codemirror_mode": {
    "name": "ipython",
    "version": 3
   },
   "file_extension": ".py",
   "mimetype": "text/x-python",
   "name": "python",
   "nbconvert_exporter": "python",
   "pygments_lexer": "ipython3",
   "version": "3.5.2"
  },
  "toc": {
   "base_numbering": 1,
   "nav_menu": {},
   "number_sections": false,
   "sideBar": true,
   "skip_h1_title": false,
   "title_cell": "Table of Contents",
   "title_sidebar": "Contents",
   "toc_cell": false,
   "toc_position": {},
   "toc_section_display": true,
   "toc_window_display": true
  }
 },
 "nbformat": 4,
 "nbformat_minor": 2
}
