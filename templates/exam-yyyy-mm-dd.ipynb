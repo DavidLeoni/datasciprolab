{
 "cells": [
  {
   "cell_type": "code",
   "execution_count": 1,
   "metadata": {
    "collapsed": false,
    "deletable": true,
    "editable": true
   },
   "outputs": [
    {
     "ename": "ImportError",
     "evalue": "No module named jupman",
     "output_type": "error",
     "traceback": [
      "\u001b[0;31m---------------------------------------------------------------------------\u001b[0m",
      "\u001b[0;31mImportError\u001b[0m                               Traceback (most recent call last)",
      "\u001b[0;32m<ipython-input-1-d21707475644>\u001b[0m in \u001b[0;36m<module>\u001b[0;34m()\u001b[0m\n\u001b[0;32m----> 1\u001b[0;31m \u001b[0;32mimport\u001b[0m \u001b[0mjupman\u001b[0m\u001b[0;34m\u001b[0m\u001b[0m\n\u001b[0m\u001b[1;32m      2\u001b[0m \u001b[0mjupman\u001b[0m\u001b[0;34m.\u001b[0m\u001b[0minit_exam\u001b[0m\u001b[0;34m(\u001b[0m\u001b[0;34m\"_JM_(exam.date)\"\u001b[0m\u001b[0;34m)\u001b[0m\u001b[0;34m\u001b[0m\u001b[0m\n",
      "\u001b[0;31mImportError\u001b[0m: No module named jupman"
     ]
    }
   ],
   "source": [
    "import jupman\n",
    "jupman.init_exam(\"_JM_(exam.date)\")"
   ]
  },
  {
   "cell_type": "markdown",
   "metadata": {
    "deletable": true,
    "editable": true
   },
   "source": [
    "<center>\n",
    "<h1 class=\"algolab-title\"> _JM_(conf.project) Exam _JM_(exam.date_human)</h1><br/><br/> \n",
    "<span style=\"font-size:20px\"> _JM_(conf.course) </span> <br/>\n",
    "<span style=\"font-size:20px\"> _JM_(conf.degree)   </span> <br/><br/>\n",
    "<br/><br/>\n",
    "\n",
    "</center>"
   ]
  },
  {
   "cell_type": "markdown",
   "metadata": {
    "collapsed": true,
    "deletable": true,
    "editable": true
   },
   "source": [
    "# Introduction\n",
    "\n",
    "* **Taking part to this exam erases any vote you had before, both lab and theory**\n",
    "* **If you don't ship or don't pass this lab part, you lose also the theory part.**\n",
    "\n",
    "\n",
    "## Allowed material\n",
    "\n",
    "There won't be any internet access. You will only be able to access:\n",
    "\n",
    "* <a href=\"index.html\" target=\"_blank\">Sciprog Algolab worksheets</a>\n",
    "* <a href=\"../montresor/Montresor%20sciprog/cricca.disi.unitn.it/montresor/teaching/scientific-programming/slides/index.html\" target=\"_blank\">Alberto Montresor slides</a>\n",
    "* <a href=\"../teso/disi.unitn.it/_teso/courses/sciprog/index.html\" target=\"_blank\">Stefano Teso docs</a>\n",
    "* Python 2.7 documentation :&nbsp;&nbsp; <a href=\"../python-docs/html/index.html\" target=\"_blank\">html</a>\n",
    "&nbsp;&nbsp;<a href=\"../python-docs/pdf\" target=\"_blank\">pdf</a>\n",
    "    * In particular, <a href=\"../python-docs/html/library/unittest.html\" target=\"_blank\">Unittest docs</a>\n",
    "* The course book _Problem Solving with Algorithms and Data Structures using Python_ &nbsp;&nbsp;<a href=\"../pythonds/index.html\" target=\"_blank\">html</a> &nbsp;&nbsp;&nbsp;<a href=\"../pythonds/ProblemSolvingwithAlgorithmsandDataStructures.pdf\" target=\"_blank\">pdf</a>\n",
    "\n",
    "\n",
    "## Grading\n",
    "\n",
    "\n",
    "* **Lab grade:** The grade of this lab part will range from 0 to 30. Total grade for the module will be given by the average with the theory part of Alberto Montresor.\n",
    "* **Correct implementations**: Correct implementations with the required complexity grant you full grade.\n",
    "* **Partial implementations**: Partial implementations _might_ still give you a few points. If you just can't solve an exercise,  try to solve it at least for some subcase (i.e. array of fixed size 2) commenting why you did so. \n",
    "* **Bonus point**: One bonus point can be earned by writing stylish code. You got style if you:\n",
    "\n",
    "    - do not infringe the [Commandments](../algolab/index.html#Commandments)\n",
    "    - write [pythonic code](http://docs.python-guide.org/en/latest/writing/style)\n",
    "    - avoid convoluted code like i.e.\n",
    "\n",
    "        ```\n",
    "        if x > 5:\n",
    "            return True\n",
    "        else:\n",
    "            return False\n",
    "        ```\n",
    "\n",
    "        when you could write just\n",
    "\n",
    "        ```\n",
    "        return x > 5\n",
    "        ```       \n",
    "\n",
    "## Valid code\n"
   ]
  },
  {
   "cell_type": "markdown",
   "metadata": {
    "collapsed": false,
    "deletable": true,
    "editable": true,
    "scrolled": true
   },
   "source": [
    "<p class=\"alert alert-warning\">\n",
    "WARNING: MAKE SURE ALL EXERCISE FILES AT LEAST COMPILE !!! <br/> 10 MINS BEFORE THE END \n",
    "    OF THE EXAM I WILL ASK YOU TO DO A FINAL CLEAN UP OF THE CODE \n",
    "</p>\n",
    "\n",
    "\n",
    "<p class=\"alert alert-warning\">\n",
    "\n",
    "!!!!!!!!! WARNING !!!!!!!!!\n",
    "    \n",
    "    <br/>\n",
    "    <br/>\n",
    "!!!!!!!!!  **ONLY** IMPLEMENTATIONS OF THE PROVIDED FUNCTION SIGNATURES WILL BE EVALUATED !!!!!!!!! <br/>    \n",
    "\n",
    "</p>"
   ]
  },
  {
   "cell_type": "markdown",
   "metadata": {
    "deletable": true,
    "editable": true
   },
   "source": [
    "\n",
    "For example, if you are given to implement: \n",
    "\n",
    "```python\n",
    "    def f(x):\n",
    "        raise Exception(\"TODO implement me\")\n",
    "```\n",
    "\n",
    "and you ship this code:\n",
    "\n",
    "``` python\n",
    "def my_f(x):\n",
    "    # a super fast, correct and stylish implementation\n",
    "\n",
    "def f(x):\n",
    "    raise Exception(\"TODO implement me\")\n",
    "```\n",
    "\n",
    "We will assess only the latter one `f(x)`, and conclude it doesn't work at all :P   !!!!!!!\n",
    "\n",
    "**Helper functions**\n",
    "\n",
    "Still, you are allowed to define any extra helper function you might need. If your `f(x)` implementation calls some other function you defined like `my_f` here, it is ok:\n",
    "\n",
    "```python\n",
    "# Not called by f, will get ignored:\n",
    "def my_g(x):\n",
    "    # bla\n",
    "\n",
    "# Called by f, will be graded:\n",
    "def my_f(y,z):\n",
    "    # bla\n",
    "\n",
    "def f(x):\n",
    "    my_f(x,5)\n",
    "    \n",
    "\n",
    "```\n",
    "\n",
    "\n",
    "\n",
    "## How to edit\n",
    "\n",
    "To edit the files, you can use any editor of your choice: \n",
    "* **Editra editor** is easy to use, you can find it under _Applications->Programming->Editra_.**\n",
    "* **The Terminal** to run python can be found in_ Accessories -> Terminal_ \n",
    "* Others could be _GEdit_ (simpler), or _PyCharm_ (more complex).\n",
    "\n",
    "\n"
   ]
  },
  {
   "cell_type": "markdown",
   "metadata": {
    "collapsed": false,
    "deletable": true,
    "editable": true
   },
   "source": [
    "\n",
    "<p class=\"alert alert-info\">\n",
    "IMPORTANT: Pay close attention to the comments of the functions.\n",
    "</p>\n",
    "\n",
    "<p class=\"alert alert-warning\">\n",
    "WARNING: <i>DON'T</i> modify function signatures! Just provide the implementation.\n",
    "</p>\n",
    "\n",
    "<p class=\"alert alert-warning\">\n",
    "WARNING: <i>DON'T</i> change the existing test methods, just add new ones !!!  You can add as many as you want.\n",
    "</p>\n",
    "\n",
    "<p class=\"alert alert-warning\">\n",
    "WARNING: <i>DON'T</i> create other files. If you still do it, they won't be evaluated.\n",
    "</p>\n",
    "\n",
    "\n"
   ]
  },
  {
   "cell_type": "markdown",
   "metadata": {
    "deletable": true,
    "editable": true
   },
   "source": [
    "## Debugging \n",
    "\n",
    "If you need to print some debugging information, you are allowed to put extra <code>print</code>\n",
    "    statements in the function bodies."
   ]
  },
  {
   "cell_type": "markdown",
   "metadata": {
    "collapsed": false,
    "deletable": true,
    "editable": true
   },
   "source": [
    "\n",
    "<p class=\"alert alert-warning\">\n",
    "WARNING: even if <code>print</code> statements are allowed, be careful with prints that might\n",
    "     break your function!<br/><br/>\n",
    "        For example, avoid stuff like this: \n",
    "<code>\n",
    "x = 0 \n",
    "print 1/x\n",
    "</code> \n",
    "</p>\n",
    " \n"
   ]
  },
  {
   "cell_type": "markdown",
   "metadata": {
    "deletable": true,
    "editable": true
   },
   "source": [
    "## What to do\n",
    "\n",
    "1) Download  <a href=\"../_JM_(conf.filename)-_JM_(exam.date).zip\" target=\"_blank\">_JM_(conf.filename)-_JM_(exam.date).zip</a> and extract it <b>on your desktop</b>. Folder content should be like this:\n",
    "\n",
    "```\n",
    "_JM_(conf.filename)-_JM_(exam.date)\n",
    "    |- FIRSTNAME-LASTNAME-ID\n",
    "        |- exercise1.py\n",
    "        |- exercise2.py\n",
    "        |- exercise3.py    \n",
    "\n",
    "```\n",
    "\n",
    "2) Rename `FIRSTNAME-LASTNAME-ID` folder: put your name, lastname an id number, like `john-doe-432432`\n",
    "\n",
    "From now on, you will be editing the files in that folder. At the end of the exam, that is what will be evaluated.\n",
    "\n",
    "3) Edit the files following the instructions in this worksheet for each exercise. Every exercise should take max 25 mins. If it takes longer, leave it and try another exercise.\n",
    " \n"
   ]
  },
  {
   "cell_type": "markdown",
   "metadata": {
    "deletable": true,
    "editable": true
   },
   "source": [
    "# 1) MyClass\n",
    "\n",
    "You are going to do.... something"
   ]
  },
  {
   "cell_type": "code",
   "execution_count": 2,
   "metadata": {
    "collapsed": false,
    "deletable": true,
    "editable": true
   },
   "outputs": [
    {
     "ename": "ImportError",
     "evalue": "No module named exercise1",
     "output_type": "error",
     "traceback": [
      "\u001b[0;31m---------------------------------------------------------------------------\u001b[0m",
      "\u001b[0;31mImportError\u001b[0m                               Traceback (most recent call last)",
      "\u001b[0;32m<ipython-input-2-aa9638cdf29f>\u001b[0m in \u001b[0;36m<module>\u001b[0;34m()\u001b[0m\n\u001b[0;32m----> 1\u001b[0;31m \u001b[0;32mfrom\u001b[0m \u001b[0mexercise1\u001b[0m \u001b[0;32mimport\u001b[0m \u001b[0;34m*\u001b[0m\u001b[0;34m\u001b[0m\u001b[0m\n\u001b[0m\u001b[1;32m      2\u001b[0m \u001b[0;32mfrom\u001b[0m \u001b[0mexercise1_test\u001b[0m \u001b[0;32mimport\u001b[0m \u001b[0;34m*\u001b[0m\u001b[0;34m\u001b[0m\u001b[0m\n",
      "\u001b[0;31mImportError\u001b[0m: No module named exercise1"
     ]
    }
   ],
   "source": [
    "from exercise1 import *\n",
    "from exercise1_test import *"
   ]
  },
  {
   "cell_type": "markdown",
   "metadata": {
    "deletable": true,
    "editable": true
   },
   "source": [
    "## 1.0) run `EnvWorkingTest`\n",
    "\n",
    "Now open the file `exercise1.py` and check your environment is working fine, by trying to run the test `EnvWorkingTest`: it should always pass, if it doesn't, tell your instructor.\n",
    "\n",
    "**Notice that  `exercise1` is followed by a dot and test class name: `.EnvWorkingTest` **\n",
    "\n",
    "```bash\n",
    "\n",
    " python -m unittest exercise1.EnvWorkingTest\n",
    "\n",
    "```"
   ]
  },
  {
   "cell_type": "code",
   "execution_count": null,
   "metadata": {
    "collapsed": false,
    "deletable": true,
    "editable": true
   },
   "outputs": [],
   "source": [
    "jupman.run(EnvWorkingTest)"
   ]
  },
  {
   "cell_type": "markdown",
   "metadata": {
    "deletable": true,
    "editable": true
   },
   "source": [
    "## 1.1) `do_something`\n",
    "\n",
    "Implement the method `do_something`:\n",
    "\n",
    "```python\n",
    "\n",
    "    def do_something(self):\n",
    "        \"\"\" Does something \"\"\"\n",
    "        raise Exception(\"TODO IMPLEMENT ME !!!\")\n",
    "     \n",
    "```\n",
    "\n",
    "**Testing**\n",
    "\n",
    "Once done, running this will run only the tests in `DoSomethingTest` class and hopefully they will pass. \n",
    "\n",
    "**Notice that  `exercise1` is followed by a dot and test class name `.DoSomethingTest` : **\n",
    "\n",
    "```bash\n",
    "\n",
    " python -m unittest exercise1.DoSomething\n",
    "\n",
    "```\n"
   ]
  },
  {
   "cell_type": "code",
   "execution_count": null,
   "metadata": {
    "collapsed": false,
    "deletable": true,
    "editable": true
   },
   "outputs": [],
   "source": [
    "jupman.run(DoSomethingTest)"
   ]
  },
  {
   "cell_type": "markdown",
   "metadata": {
    "deletable": true,
    "editable": true
   },
   "source": [
    "## 1.2) `do_something_else`\n",
    "\n",
    "Implement the method `do_something_else`:\n",
    "\n",
    "```python\n",
    "\n",
    "    def do_something_else(self):\n",
    "        \"\"\" Does something \"\"\"\n",
    "        raise Exception(\"TODO IMPLEMENT ME !!!\")\n",
    "    \n",
    "```\n",
    "\n",
    "**Testing**: `python -m unittest exercise1.DoSomethingElse`\n"
   ]
  }
 ],
 "metadata": {
  "kernelspec": {
   "display_name": "Python 2",
   "language": "python",
   "name": "python2"
  },
  "language_info": {
   "codemirror_mode": {
    "name": "ipython",
    "version": 2
   },
   "file_extension": ".py",
   "mimetype": "text/x-python",
   "name": "python",
   "nbconvert_exporter": "python",
   "pygments_lexer": "ipython2",
   "version": "2.7.12"
  }
 },
 "nbformat": 4,
 "nbformat_minor": 1
}
