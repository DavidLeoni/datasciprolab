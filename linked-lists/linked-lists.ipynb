{
 "cells": [
  {
   "cell_type": "code",
   "execution_count": 1,
   "metadata": {
    "nbsphinx": "hidden"
   },
   "outputs": [],
   "source": [
    "#Please execute this cell\n",
    "import jupman;"
   ]
  },
  {
   "cell_type": "markdown",
   "metadata": {},
   "source": [
    "# Linked lists\n",
    "\n",
    "## [Download exercises zip](../_static/generated/linked-lists.zip)\n",
    "\n",
    "[Browse files online](https://github.com/DavidLeoni/sciprog-ds/tree/master/linked-lists)\n"
   ]
  },
  {
   "cell_type": "markdown",
   "metadata": {
    "collapsed": true
   },
   "source": [
    "\n",
    "## 0 Introduction\n",
    "\n",
    "In these exercises, you will be implementing several versions of a `LinkedList`, improving its performances with each new version. \n",
    "\n",
    "### References\n",
    "\n",
    "* [theory slides](https://sciproalgo2019.readthedocs.io/slides/Lecture4.pdf)(Monodirectional list)\n",
    "* [LinkedList Abstract Data Type](http://interactivepython.org/runestone/static/pythonds/BasicDS/TheUnorderedListAbstractDataType.html) on the book\n",
    "* [Implementing LinkedListLinkedLists](http://interactivepython.org/runestone/static/pythonds/BasicDS/ImplementinganUnorderedListLinkedLists.html) on the book\n",
    "\n",
    "**NOTE**: What the book calls `UnorderedList`, in this lab is just called `LinkedList`. May look confusing, but in the wild you will never find code called `UnorderedList` so let's get rid of the weird name right now!\n",
    "\n",
    "\n",
    "### What to do\n",
    "\n",
    "- unzip exercises in a folder, you should get something like this: \n",
    "\n",
    "```\n",
    "linked-lists\n",
    "    linked-lists.ipynb         \n",
    "    linked_list_test.py\n",
    "    linked_list.py               \n",
    "    linked_list_sol.py         \n",
    "    linked_list_v2_sol.py         \n",
    "    linked_list_v2_test_sol.py         \n",
    "    linked_list_v3_sol.py         \n",
    "    linked_list_v3_test_sol.py         \n",
    "    jupman.py\n",
    "    sciprog.py         \n",
    "```\n",
    "\n",
    "\n",
    "- open the editor of your choice (for example Visual Studio Code, Spyder or PyCharme), you will edit the files ending in `.py` files\n",
    "- Go on reading this notebook, and follow instuctions inside.\n"
   ]
  },
  {
   "cell_type": "markdown",
   "metadata": {},
   "source": [
    "### 0.1 Initialization\n",
    "\n",
    "A `LinkedList` for us is a linked list starting with a pointer called _head_ that points to the first `Node` (if the list is empty the pointer points to `None`). Think of the list as a chain where each `Node` can contain some data retriavable with `Node.get_data()` method and you can access one `Node` at a time by calling the method `Node.get_next()` on each node.\n",
    "\n",
    "Let's see how a LinkedList should behave:"
   ]
  },
  {
   "cell_type": "code",
   "execution_count": 2,
   "metadata": {},
   "outputs": [],
   "source": [
    "from linked_list_sol import *"
   ]
  },
  {
   "cell_type": "code",
   "execution_count": 3,
   "metadata": {},
   "outputs": [],
   "source": [
    "ll = LinkedList()"
   ]
  },
  {
   "cell_type": "markdown",
   "metadata": {},
   "source": [
    "At the beginning the `LinkedList` is empty:"
   ]
  },
  {
   "cell_type": "code",
   "execution_count": 4,
   "metadata": {},
   "outputs": [
    {
     "name": "stdout",
     "output_type": "stream",
     "text": [
      "LinkedList: \n"
     ]
    }
   ],
   "source": [
    "print(ll)"
   ]
  },
  {
   "cell_type": "markdown",
   "metadata": {},
   "source": [
    "**NOTE**: `print` calls `__str__` method, which in our implementation was overridden to produce a nice string you've just seen. Still, we did not override `__repr__` method which is the default one used by Jupyter when displaying on object without using `print`, so if you omit it you won't get nice display:"
   ]
  },
  {
   "cell_type": "code",
   "execution_count": 5,
   "metadata": {},
   "outputs": [
    {
     "data": {
      "text/plain": [
       "<linked_list_sol.LinkedList at 0x7f19247363c8>"
      ]
     },
     "execution_count": 5,
     "metadata": {},
     "output_type": "execute_result"
    }
   ],
   "source": [
    "ll"
   ]
  },
  {
   "cell_type": "markdown",
   "metadata": {},
   "source": [
    "### 0.2 Growing \n",
    "\n",
    "Main way to grow a `LinkedList` is by using the `.add` method, which executes in costant time $O(1)$:"
   ]
  },
  {
   "cell_type": "code",
   "execution_count": 6,
   "metadata": {},
   "outputs": [],
   "source": [
    "ll.add('a')"
   ]
  },
  {
   "cell_type": "markdown",
   "metadata": {},
   "source": [
    "Internally, each time you call `.add` a new `Node` object is created which will hold the actual data that you are passing. In this implementation, users of the class are supposed to never get instances of `Node`, they will just be able to see the actual data contained in the `Node`s:"
   ]
  },
  {
   "cell_type": "code",
   "execution_count": 7,
   "metadata": {},
   "outputs": [
    {
     "name": "stdout",
     "output_type": "stream",
     "text": [
      "LinkedList: a\n"
     ]
    }
   ],
   "source": [
    "print(ll)"
   ]
  },
  {
   "cell_type": "markdown",
   "metadata": {},
   "source": [
    "Notice that `.add` actually inserts nodes _at the beginning_ :"
   ]
  },
  {
   "cell_type": "code",
   "execution_count": 8,
   "metadata": {},
   "outputs": [],
   "source": [
    "ll.add('b')"
   ]
  },
  {
   "cell_type": "code",
   "execution_count": 9,
   "metadata": {},
   "outputs": [
    {
     "name": "stdout",
     "output_type": "stream",
     "text": [
      "LinkedList: b,a\n"
     ]
    }
   ],
   "source": [
    "print(ll)"
   ]
  },
  {
   "cell_type": "code",
   "execution_count": 10,
   "metadata": {},
   "outputs": [],
   "source": [
    "ll.add('c')"
   ]
  },
  {
   "cell_type": "code",
   "execution_count": 11,
   "metadata": {},
   "outputs": [
    {
     "name": "stdout",
     "output_type": "stream",
     "text": [
      "LinkedList: c,b,a\n"
     ]
    }
   ],
   "source": [
    "print(ll)"
   ]
  },
  {
   "cell_type": "markdown",
   "metadata": {},
   "source": [
    "Our basic `LinkedList` instance will only hold a pointer to the _first_ `Node` of the chain (such pointer is called `_next`). When you add an element:\n",
    "\n",
    "1. a new Node is created\n",
    "2. provided data is stored inside new node\n",
    "3. the new node `_next` field is set to point to current first Node\n",
    "4. the new node becomes the first node of the `LinkedList`, by setting `LinkedList._next` to new node\n"
   ]
  },
  {
   "cell_type": "markdown",
   "metadata": {},
   "source": [
    "### 0.3 Visiting\n",
    "\n",
    "Any method that needs to visit the `LinkedList` will have to start from the first Node pointed by `LinkedList._next` and then follow the chain of `_next` links from one Node to the next one. This is why the data structure is called 'linked'. While insertion at the beginning is very fast, retrieving an element at arbitrary position requires a linear scan which in worst case costs $O(n)$."
   ]
  },
  {
   "cell_type": "markdown",
   "metadata": {},
   "source": [
    "\n",
    "## 1 v1: a slow LinkedList\n",
    "\n",
    "Implement the missing methods in `linked_list.py`, in the order they are presented in the skeleton. **Before implementing, read carefully all this point 1) and all its subsections (1.a,b and c)**\n",
    "\n"
   ]
  },
  {
   "cell_type": "markdown",
   "metadata": {},
   "source": [
    "### 1.a) Testing\n",
    "\n",
    "You will have two files to look at, the code in `linked_list.py` and the test code in a separate `linked_list_test.py` file: \n",
    "\n",
    "* `linked_list.py`\n",
    "* `linked_list_test.py`\n",
    "\n",
    "\n",
    "You can run tests with this shell command:\n",
    "\n",
    "\n",
    "```bash\n",
    "python3 -m unittest linked_list_test\n",
    "```\n",
    "\n",
    "Let's look inside the first lines of `linked_list_test.py` code, you will see a structure like this:\n",
    "\n",
    "```python\n",
    "from linked_list import *\n",
    "import unittest\n",
    "\n",
    "class LinkedListTest(unittest.TestCase):\n",
    "\n",
    "    def myAssert(self, linked_list, python_list):\n",
    "        #####  etc #####\n",
    "    \n",
    "\n",
    "class AddTest(LinkedListTest):\n",
    "    \n",
    "    def test_01_init(self):\n",
    "        #####  etc #####\n",
    "\n",
    "    def test_04_add(self):\n",
    "        #####  etc #####\n",
    "\n",
    "class SizeTest(LinkedListTest):\n",
    "    #####  etc  #####\n",
    "\n",
    "```\n",
    "\n",
    "Note: \n",
    "\n",
    "* the test automatically imports everything from first module `linked_list`, so when you run the test, it automatically loads the file you will be working on.) :\n",
    "\n",
    "```python\n",
    "from linked_list import *\n",
    "```\n",
    "\n",
    "* there is a base class for testing called `LinkedListTest`\n",
    "* there are many classes for testing individual methods, each class inherits from `LinkedListTest`\n",
    "* You will be writing several versions of the linked list. For the first one, you won't need `myAssert`\n",
    "* This time there is not much Python code to find around, you should rely solely on theory from the slides and book, method definitions and your intuition "
   ]
  },
  {
   "cell_type": "markdown",
   "metadata": {},
   "source": [
    "### 1.b) Differences with the book\n",
    "\n",
    "* We don't assume the list has all different values\n",
    "* We used [more pythonic names](https://www.python.org/dev/peps/pep-0008/#id45) for properties and methods, so for example private attribute `Node.data` was renamed to `Node._data` and accessor method `Node.getData()` was renamed to `Node.get_data()`. There are nicer ways to handle these kind of getters/setters pairs called 'properties' but we won't address them here.\n",
    "* In boundary cases like removing a non-existing element we prefer to raise an `LookupError` with the command \n",
    "\n",
    "```python\n",
    "    raise LookupError(\"Some error occurred!\")\n",
    "```\n",
    "\n",
    "In general, this is the behaviour you also find in regular Python lists.   \n"
   ]
  },
  {
   "cell_type": "markdown",
   "metadata": {},
   "source": [
    "### 1.c) Please remember..."
   ]
  },
  {
   "cell_type": "markdown",
   "metadata": {},
   "source": [
    "\n",
    "\n",
    "<div class=\"alert alert-warning\" >\n",
    "\n",
    "**WARNING:** Methods of the class `LinkedList` are supposed to _never_ return instances of `Node`. If\n",
    " you see them returned in the tests, then you are making some mistake. Users of `LinkedList` are\n",
    "    should only be able to get access to items inside the Node `data` fields. \n",
    "</div>\n",
    "\n",
    "<div class=\"alert alert-warning\">\n",
    "\n",
    "**WARNING**: Do _not_ use a Python list to hold data inside the data structure.  Differently from the `CappedStack` exercise, here you can only use `Node` class. Each `Node` in the `_data` field can hold only one element which is provided by the user of the class, and we don't care about the type of the value the user gives us (so it can be an `int`, a `float`, a `string`, or even a Python list !)\n",
    "</div>\n",
    "\n",
    "\n",
    "<div class=\"alert alert-info\" >\n",
    "\n",
    "**COMMANDMENT 2**: You shall also draw lists on paper, helps a lot avoiding mistakes\n",
    "</div>\n",
    "\n",
    "<div class=\"alert alert-info\">\n",
    "\n",
    "**COMMANDMENT 5:  You shall never ever reassign `self`:**    \n",
    "</div>\n",
    "\n",
    "Never ever write horrors such as:\n",
    "\n",
    "```python\n",
    "\n",
    "class MyClass\n",
    "    def my_method(self, x, y):\n",
    "        self = {a:666}  # since self is a kind of dictionary, you might be tempted to do like this\n",
    "                        # but to the outside world this will bring no effect.\n",
    "                        # For example, let's say somebody from outside makes a call like this:\n",
    "                        #    mc = MyClass()\n",
    "                        #    mc.my_method()\n",
    "                        # after the call mc will not point to {a:666}\n",
    "        self = ['666']  # self is only supposed to be a sort of dictionary and passed from outside\n",
    "        self = 6        # self is only supposed to be a sort of dictionary and passed from outside\n",
    "```\n",
    "\n",
    "\n",
    "<div class=\"alert alert-info\" >\n",
    "\n",
    "**COMMANDMENT 7:** You shall use `return` command only if you see written _return_ in the function description!\n",
    "</div>\n",
    "\n",
    "If there is no `return` in function description, the function is intended to return `None`. In this case you don't even need to write `return None`, as Python will do it implicitly for you."
   ]
  },
  {
   "cell_type": "code",
   "execution_count": 12,
   "metadata": {
    "nbsphinx": "hidden"
   },
   "outputs": [
    {
     "name": "stderr",
     "output_type": "stream",
     "text": [
      ".......................\n",
      "----------------------------------------------------------------------\n",
      "Ran 23 tests in 0.023s\n",
      "\n",
      "OK\n"
     ]
    }
   ],
   "source": [
    "# Ignore this code\n",
    "\n",
    "import sys\n",
    "import linked_list_sol\n",
    "# while this monkey-patching is not strictly mandatory here, we put it anyway \n",
    "# because we will have several versions of the same file\n",
    "sys.modules['linked_list_sol'] = linked_list_sol\n",
    "sys.modules['linked_list'] = linked_list_sol\n",
    "import linked_list_test\n",
    "jupman.run(linked_list_test)"
   ]
  },
  {
   "cell_type": "markdown",
   "metadata": {},
   "source": [
    "\n",
    "## 2 v2 faster size\n",
    "\n",
    "### 2.1 Save a copy of your work\n",
    "\n",
    "You already wrote a lot of code, and you don't want to lose it, right? Since we are going to make many modifications, when you reach a point when the code does something useful, it is good practice to save a copy of what you have done somewhere, so if you later screw up something, you can always restore the copy.\n",
    "\n",
    "* Copy the whole folder `linked-lists` in a new folder `linked-lists-v1` \n",
    "* Add also in the copied folder a separate `README.txt` file, writing inside the version (like `1.0`), the date, and a description of the main features you implemented (for example \"Simple linked list, not particularly performant\").\n",
    "* Backing up the work is a form of the so-called _versioning_ : there are much better ways to do it (like using [git](https://git-scm.com)) but we don't address them here.\n",
    "\n",
    "<br/>\n",
    "<div class=\"alert alert-warning\" >\n",
    "\n",
    "**WARNING:** **DO NOT SKIP THIS STEP!** \n",
    "\n",
    "No matter how smart you are, you _will_ fail, and a backup may be the only way out. \n",
    "</div>\n",
    "\n",
    "\n",
    "<div class=\"alert alert-warning\" >\n",
    "\n",
    "**WARNING:** **HAVE YOU READ WHAT I JUST WROTE ????** \n",
    "\n",
    "Just. Copy. The. Folder.\n",
    "</div>\n",
    "\n",
    "\n",
    "### 2.2. Improve size\n",
    "\n",
    "Once you saved your precious work in the copy folder `linked-lists-v1`, you can now more freely improve the current folder `linked-lists`, being sure your previous efforts are not going to get lost!\n",
    "\n",
    "As a first step, in `linked-lists/linked_list.py` implement a `size()` method that works in `O(1)`. To make this work without going through the whole list each time, we will need a new `_size` field that keeps track of the size. When the list is mutated with methods like `add`, `append`, etc you will also need to update the `_size` field accordingly. Proceed like this:\n",
    "\n",
    "2.2.1) add a new field `_size` in the class constructor and initialize it to zero\n",
    "\n",
    "2.2.2) modify the `size()` method to just return the `_size` field.\n",
    "\n",
    "2.2.3) The data structure starts to be complex, and we need better testing. If you look at the tests, very often there are lines of code like `self.assertEquals(to_py(ul), ['a', 'b'])` in the `test_add` method: \n",
    "\n",
    "\n",
    "```python\n",
    "    def test_add(self):                \n",
    "        ul = LinkedList()\n",
    "        self.myAssert(ul, [])\n",
    "        ul.add('b')\n",
    "        self.assertEquals(to_py(ul), ['b'])\n",
    "        ul.add('a')\n",
    "        self.assertEquals(to_py(ul), ['a', 'b'])\n",
    "```\n",
    "\n",
    "\n",
    "Last line checks our linked list `ul` contains a sequence of linked nodes that once transformed to a python list actually equals `['a', 'b']`. Since in the new implementation we are going to mutate `_size` field a lot, it could be smart to also check that `ul.size()` equals `len([\"a\", \"b\"])`. Repeating this check in every test method could be quite verbose. Instead, we can do a smarter thing, and develop in the `LinkedListTest` class a new assertion method on our own: \n",
    "\n",
    "If you noticed, there is a  method `myAssert` in `LinkedListTest` class (in the current `linked-lists/linked_list_test.py` file) which we never used so far, which performs a more thourough check:\n",
    "\n",
    "```python\n",
    "\n",
    "class LinkedListTest(unittest.TestCase):\n",
    "\n",
    "    def myAssert(self, linked_list, python_list):\n",
    "        \"\"\" Checks provided linked_list can be represented as the given python_list. Since v2.\n",
    "        \"\"\"\n",
    "        self.assertEquals(to_py(linked_list), python_list)\n",
    "        # check this new invariant about the size        \n",
    "        self.assertEquals(linked_list.size(), len(python_list)) \n",
    "```\n",
    "\n",
    "<div class=\"alert alert-warning\">\n",
    "\n",
    "**WARNING:** method `myAssert` must _not_ start with `test`, otherwise `unittest` \n",
    "will run it as a test!\n",
    "</div>"
   ]
  },
  {
   "cell_type": "markdown",
   "metadata": {},
   "source": [
    "2.3.4) Now, how to use this powerful new `myAssert` method? In the test class, just replace every occurence of\n",
    "\n",
    "```python \n",
    "    self.assertEquals(to_py(ul), ['a', 'b'])\n",
    "```\n",
    "\n",
    "into calls like this:\n",
    "\n",
    "```python\n",
    "    self.myAssert(ul, ['a', 'b'])\n",
    "```\n",
    "\n",
    "<div class=\"alert alert-warning\">\n",
    "\n",
    "**WARNING:** Notice the `to_py(  )` enclosing `ul` is gone.\n",
    "</div>\n",
    "\n",
    "2.3.5) Actually update `_size` in the various methods where data is mutated, like `add`, `insert`, etc.\n",
    "\n",
    "2.3.6) Run the tests and hope for the best ;-)\n",
    "\n",
    "```bash\n",
    "python3 -m unittest linked_list_test\n",
    "```\n"
   ]
  },
  {
   "cell_type": "code",
   "execution_count": 13,
   "metadata": {
    "nbsphinx": "hidden"
   },
   "outputs": [
    {
     "name": "stderr",
     "output_type": "stream",
     "text": [
      ".......................\n",
      "----------------------------------------------------------------------\n",
      "Ran 23 tests in 0.025s\n",
      "\n",
      "OK\n"
     ]
    }
   ],
   "source": [
    "# Ignore this code\n",
    "\n",
    "import linked_list_v2_solution\n",
    "sys.modules['linked_list_sol'] = linked_list_v2_solution\n",
    "sys.modules['linked_list'] = linked_list_v2_solution\n",
    "import linked_list_v2_test_solution\n",
    "jupman.run(linked_list_v2_test_solution)"
   ]
  },
  {
   "cell_type": "markdown",
   "metadata": {},
   "source": [
    "\n",
    "## 3 v3 Faster append\n",
    "\n",
    "We are now better equipped to make further improvements. Once you're done implementing the above and made sure everything works, you can implement an `append` method that works in $O(1)$ by adding an additional pointer in the data structure that always point at the last node. To further exploit the pointer, you can also add a fast `last(self)` method that returns the last value in the list. Proceed like this:\n",
    "\n",
    "### 3.1 Save a copy of your work\n",
    "\n",
    "* Copy the whole folder `linked-lists` in a new folder `linked-lists-v2` \n",
    "* Add also in the copied folder a separate `README.txt` file, writing inside the version (like `2.0`), the date, and a description of the main features you implemented (for example \"Simple linked list, not particularly performant\").\n",
    "\n",
    "<div class=\"alert alert-warning\" >\n",
    "\n",
    "**WARNING:** **DO NOT SKIP THIS STEP!** \n",
    "\n",
    "</div>\n",
    "\n",
    "### 3.2 add `_last` field\n",
    "\n",
    "Work on `linked_list.py` and simply add an additional pointer called `_last` in the constructor. \n",
    "\n",
    "### 3.3 add method skeleton\n",
    "\n",
    "Copy this method `last` into the class. Just copy it, don't implement it for now.\n",
    "\n",
    "```python \n",
    "    def last(self):\n",
    "        \"\"\" Returns the last element in the list, in O(1). \n",
    "        \n",
    "            - If list is empty, raises a ValueError. Since v3. \n",
    "        \"\"\"\n",
    "        raise ValueError(\"TODO implement me!\")\n",
    "```    \n",
    "\n",
    "\n",
    "### 3.4 test driven development\n",
    "\n",
    "Let's do some so-called _test driven development_, that is, first we write the tests, then we write the implementation. \n",
    "\n",
    "<div class=\"alert alert-warning\">\n",
    "\n",
    "**WARNING:** During the exam you _may_ be asked to write tests, so don't skip writing them now !!    \n",
    "</div>\n",
    "\n",
    "### 3.4.1 LastTest\n",
    "\n",
    "Create a class `LastTest` which inherits from `LinkedListTest`, and add this method Implement a test for `last()` method, by adding this to `LinkedListTest` class:\n",
    "\n",
    "```python\n",
    "    def test_01_last(self):\n",
    "        raise Exception(\"TODO IMPLEMENT ME !\")\n",
    "```\n",
    "In the method, create a list and add elements using only calls to `add` method and checks using the `myAssert` method. When done, ask your instructor if the test is correct (or look at the proposed solution), it is important you get it right otherwise you won't be able to properly test your code.\n",
    "\n",
    "### 3.4.2 improve myAssert\n",
    "\n",
    "You already have a test for the `append()` method, but, how can you be sure the `_last` pointer is updated correctly throughout the code? When you implemented the fast `size()` method you wrote some invariant in the `myAssert` method. We can do the same this time, too. Find the invariant and add the corresponding check to the `myAssert` method. When done, ask your instructor if the invariant is correct (or look at the proposed solution): it is important you get it right otherwise you won't be able to properly test your code.\n",
    "\n",
    "### 3.5 update methods that mutate the LinkedList\n",
    "\n",
    "Update the methods that mutate the data structure (`add`, `insert`, `remove` ...) so they keep `_last` pointed to last element. If the list is empty, `_last` will point to `None`. Take particular care of corner cases such as empty list and one element list. \n",
    "\n",
    "### 3.6 Run tests\n",
    "\n",
    "Cross your fingers and run the tests!\n",
    "\n",
    "```bash\n",
    "python3 -m unittest linked_list_test\n",
    "```\n"
   ]
  },
  {
   "cell_type": "code",
   "execution_count": 14,
   "metadata": {
    "nbsphinx": "hidden"
   },
   "outputs": [
    {
     "name": "stderr",
     "output_type": "stream",
     "text": [
      "........................\n",
      "----------------------------------------------------------------------\n",
      "Ran 24 tests in 0.023s\n",
      "\n",
      "OK\n"
     ]
    }
   ],
   "source": [
    "# Ignore this code\n",
    "import linked_list_v3_solution\n",
    "sys.modules['linked_list_sol'] = linked_list_v3_solution\n",
    "sys.modules['linked_list'] = linked_list_v3_solution\n",
    "import linked_list_v3_test_solution\n",
    "jupman.run(linked_list_v3_test_solution)\n"
   ]
  },
  {
   "cell_type": "markdown",
   "metadata": {},
   "source": [
    "\n",
    "## 4 v4 Go bidirectional\n",
    "\n",
    "Our list so far has links that allow us to traverse it fast in one direction. But what if we want fast traversal in the reverse direction, from last to first element? What if we want a `pop()` that works in $O(1)$ ? To speed up these operations we could add  backward links to each `Node`. Note no solution is provided for this part (yet).\n",
    "\n",
    "\n",
    "Proceed in the following way:\n",
    "\n",
    "### 4.1 Save your work \n",
    "\n",
    "Once you're done with previous points, save the version you have in a folder `linked-list-v3` somewhere adding in the `README.txt` comments about the improvements done so far, the version number (like 3.0) and the date. Then start working on a new copy. \n",
    "\n",
    "### 4.2 Node backlinks\n",
    "\n",
    "In `Node` class, add backlinks by adding the attribute `_prev` and methods `get_prev(self)` and `set_prev(self, pointer)`.\n",
    "\n"
   ]
  },
  {
   "cell_type": "markdown",
   "metadata": {},
   "source": [
    "### 4.3 Better __str__\n",
    "\n",
    "Improve `__str__` method so it shows presence or absence of links, along with the size of the list (note you might need to adapt the test for str method):\n",
    "\n",
    "* `next` pointers presence must be represented with `>` character , absence with `*` character. They must be put after the item representation. \n",
    "* `prev` pointers presence must be represented with `<` character , absence with `*` character. They must be put befor the item representation.\n",
    "\n",
    "For example, for the list `['a','b','c']`, you would have the following representation:\n",
    "\n",
    "```\n",
    "LinkedList(size=3):*a><b><c*  \n",
    "\n",
    "```\n",
    "\n",
    "As a special case for empty list you should print the following:\n",
    "\n",
    "```\n",
    "LinkedList(size=0):**\n",
    "```\n",
    "\n",
    "Other examples of proper lists, with 3, 2, and 1 element can be: \n",
    "```\n",
    "LinkedList(size=3):*a><b><c*  \n",
    "LinkedList(size=2):*a><b*\n",
    "LinkedList(size=1):*a*\n",
    "```\n",
    "This new `__str__` method should help you to spot broken lists like the following, were some pointers are not correct:\n",
    "```\n",
    "Broken list, all prev pointers are missing:\n",
    "LinkedList(size=3):*a>*b>*c*\n",
    "\n",
    "Broken list, size = 3 but shows only one element with next pointer set to None:\n",
    "LinkedList(size=3):*a*\n",
    "\n",
    "Broken list, first backward pointer points to something other than None \n",
    "LinkedList(size=3):<a>*b><c*\n",
    "\n",
    "```"
   ]
  },
  {
   "cell_type": "markdown",
   "metadata": {},
   "source": [
    "### 4.4 Modify add\n",
    "\n",
    "Update the `LinkedList` `add` method to take into account you now have backlinks. Take particular care for the boundary cases when the list is empty, has one element, or for nodes at the head and at the tail of the list.\n",
    "    \n",
    "### 4.5  Add to_python_reversed\n",
    "\n",
    "Implement `to_python_reversed` method with a linear scan by using the newly added backlinks:\n",
    "        \n",
    "```python\n",
    "    def to_python_reversed(self):\n",
    "        \"\"\" Returns a regular Python list with the elements in reverse order,\n",
    "            from last to first. Since v3. \"\"\"\n",
    "        raise Exception(\"TODO implement me\")\n",
    "```\n",
    "\n",
    "  Add also this test, and make sure it pass:\n",
    "\n",
    "```python\n",
    "    def test_to_python_reversed(self):    \n",
    "        ul = LinkedList()\n",
    "        ul.add('c')\n",
    "        ul.add('b')\n",
    "        ul.add('a')\n",
    "        pr = to_py(ul)\n",
    "        pr.reverse()  # we are reversing pr with Python's 'reverse()' method\n",
    "        self.assertEquals(pr, ul.to_python_reversed())\n",
    "```\n",
    "\n"
   ]
  },
  {
   "cell_type": "markdown",
   "metadata": {},
   "source": [
    "### 4.6 Add invariant\n",
    "\n",
    "By using the method `to_python_reversed()`, add a new invariant to the `myAssert` method. If implemented correctly, this will surely spot a lot of possible errors in the code.\n",
    "\n",
    "### 4.7 Modify other methods\n",
    "\n",
    "Modify all other methods that mutate the data structure (`insert`, `remove`, etc) so that they update the backward links properly. \n",
    "\n",
    "### 4.8 Run the tests\n",
    "\n",
    "If you wrote meaningful tests and all pass, congrats!\n"
   ]
  },
  {
   "cell_type": "markdown",
   "metadata": {},
   "source": [
    "## 5 EqList\n",
    "\n",
    "Open file `eqlist.py` , which is a simple linked list, and start editing the following methods.\n",
    "\n",
    "### 5.1 eq\n",
    "\n",
    "Implement the method `__eq__` (with TWO underscores before and TWO underscores after 'eq') !:\n",
    "\n",
    "```python\n",
    "\n",
    "    def __eq__(self, other):\n",
    "        \"\"\" Returns True if self is equal to other, that is, if all the data elements in the respective\n",
    "            nodes are the same. Otherwise, return False.\n",
    "            \n",
    "            NOTE: compares the *data* in the nodes, NOT the nodes themselves !\n",
    "        \"\"\"\n",
    "    \n",
    "```\n",
    "\n",
    "**Testing**: `python -m unittest eqlist_test.EqTest`\n"
   ]
  },
  {
   "cell_type": "markdown",
   "metadata": {},
   "source": [
    "\n",
    "### 5.2 remsub\n",
    "\n",
    "Implement the method `remsub`:\n",
    "\n",
    "```python\n",
    "    def remsub(self, rem):\n",
    "        \"\"\" Removes the first elements found in this LinkedList that match subsequence rem\n",
    "            Parameter rem is the subsequence to eliminate, which is also a LinkedList.\n",
    "            \n",
    "            Examples:\n",
    "                aabca  remsub ac  =  aba \n",
    "                aabca  remsub cxa =  aaba  # when we find a never matching character in rem like 'x' here, \n",
    "                                             the rest of rem after 'x' is not considered.\n",
    "                aabca  remsub ba  =  aac\n",
    "                aabca  remsub a   =  abca\n",
    "                abcbab remsub bb  =  acab\n",
    "        \"\"\"\n",
    "```\n",
    "\n",
    "**Testing**: `python3 -m unittest eqlist_test.RemsubTest`\n"
   ]
  },
  {
   "cell_type": "code",
   "execution_count": 15,
   "metadata": {
    "nbsphinx": "hidden",
    "scrolled": true
   },
   "outputs": [
    {
     "name": "stderr",
     "output_type": "stream",
     "text": [
      ".....................\n",
      "----------------------------------------------------------------------\n",
      "Ran 21 tests in 0.018s\n",
      "\n",
      "OK\n"
     ]
    }
   ],
   "source": [
    "# Ignore this code\n",
    "import eqlist_test\n",
    "jupman.run(eqlist_test)\n"
   ]
  },
  {
   "cell_type": "markdown",
   "metadata": {},
   "source": [
    "## 6 Cloning\n",
    "\n",
    "Start editing the file `cloning.py`, which contains a simplified LinkedList.\n",
    "\n",
    "### 6.1 rev\n",
    "\n",
    "Implement the method `rev(self)` that you find in the skeleton and check provided tests pass.\n",
    "\n",
    "**Testing**: `python3 -m unittest cloning_test.RevTest`\n",
    "\n",
    "### 6.2 clone\n",
    "\n",
    "Implement the method `clone(self)` that you find in the skeleton and check provided tests pass.\n",
    "\n",
    "**Testing**: `python3 -m unittest cloning_test.CloneTest`\n"
   ]
  },
  {
   "cell_type": "code",
   "execution_count": 16,
   "metadata": {
    "nbsphinx": "hidden",
    "scrolled": false
   },
   "outputs": [
    {
     "name": "stderr",
     "output_type": "stream",
     "text": [
      ".............\n",
      "----------------------------------------------------------------------\n",
      "Ran 13 tests in 0.010s\n",
      "\n",
      "OK\n"
     ]
    }
   ],
   "source": [
    "# Ignore this code\n",
    "import cloning_test\n",
    "jupman.run(cloning_test)\n"
   ]
  },
  {
   "cell_type": "markdown",
   "metadata": {},
   "source": [
    "## 7 More exercises\n",
    "\n",
    "Start editing the file `more.py`, which contains a simplified LinkedList.\n"
   ]
  },
  {
   "cell_type": "markdown",
   "metadata": {},
   "source": [
    "### 7.1 occurrences\n",
    "\n",
    "Implement this method:\n",
    "\n",
    "```python\n",
    "    def occurrences(self, item):\n",
    "        \"\"\" \n",
    "            Returns the number of occurrences of item in the list.\n",
    "            \n",
    "            - MUST execute in O(n) where 'n' is the length of the list.\n",
    "        \"\"\"\n",
    "```   \n",
    "\n",
    "**Testing**: `python3 -m unittest more_test.CloneTest`\n",
    "\n",
    "\n",
    "**Examples: **"
   ]
  },
  {
   "cell_type": "code",
   "execution_count": 17,
   "metadata": {},
   "outputs": [
    {
     "name": "stdout",
     "output_type": "stream",
     "text": [
      "LinkedList: a,b,c,a\n"
     ]
    }
   ],
   "source": [
    "from more_sol import *\n",
    "\n",
    "ul = LinkedList()\n",
    "ul.add('a')\n",
    "ul.add('c')\n",
    "ul.add('b')\n",
    "ul.add('a')\n",
    "print(ul)"
   ]
  },
  {
   "cell_type": "code",
   "execution_count": 18,
   "metadata": {},
   "outputs": [
    {
     "name": "stdout",
     "output_type": "stream",
     "text": [
      "2\n"
     ]
    }
   ],
   "source": [
    "print(ul.occurrences('a'))"
   ]
  },
  {
   "cell_type": "code",
   "execution_count": 19,
   "metadata": {},
   "outputs": [
    {
     "name": "stdout",
     "output_type": "stream",
     "text": [
      "1\n"
     ]
    }
   ],
   "source": [
    "print(ul.occurrences('c'))"
   ]
  },
  {
   "cell_type": "code",
   "execution_count": 20,
   "metadata": {},
   "outputs": [
    {
     "name": "stdout",
     "output_type": "stream",
     "text": [
      "0\n"
     ]
    }
   ],
   "source": [
    "print(ul.occurrences('z'))"
   ]
  },
  {
   "cell_type": "markdown",
   "metadata": {
    "collapsed": true
   },
   "source": [
    "### 7.2 shrink"
   ]
  },
  {
   "cell_type": "markdown",
   "metadata": {},
   "source": [
    "\n",
    "Implement this method in `LinkedList` class:\n",
    "\n",
    "```python\n",
    "\n",
    "    def shrink(self):\n",
    "        \"\"\" \n",
    "            Removes from this LinkedList all nodes at odd indeces (1, 3, 5, ...), \n",
    "            supposing that the first node has index zero, the second node \n",
    "            has index one, and so on. \n",
    "            \n",
    "            So if the LinkedList is \n",
    "                'a','b','c','d','e' \n",
    "            a call to shrink will transform the UnorderedList into \n",
    "                'a','c','e'\n",
    "            \n",
    "            - MUST execute in O(n) where 'n' is the length of the list.\n",
    "            - Does *not* return anything.\n",
    "        \"\"\"\n",
    "        raise Exception(\"TODO IMPLEMENT ME!\")\n",
    "```\n",
    "\n",
    "**Testing**: `python3 -m unittest more_test.ShrinkTest`"
   ]
  },
  {
   "cell_type": "code",
   "execution_count": 21,
   "metadata": {},
   "outputs": [
    {
     "name": "stdout",
     "output_type": "stream",
     "text": [
      "LinkedList: a,b,c,d,e\n"
     ]
    }
   ],
   "source": [
    "ul = LinkedList()\n",
    "ul.add('e')\n",
    "ul.add('d')\n",
    "ul.add('c')\n",
    "ul.add('b')\n",
    "ul.add('a')\n",
    "print(ul)"
   ]
  },
  {
   "cell_type": "code",
   "execution_count": 22,
   "metadata": {},
   "outputs": [
    {
     "name": "stdout",
     "output_type": "stream",
     "text": [
      "LinkedList: a,c,e\n"
     ]
    }
   ],
   "source": [
    "ul.shrink()\n",
    "print(ul)"
   ]
  },
  {
   "cell_type": "markdown",
   "metadata": {},
   "source": [
    "\n",
    "### 7.3 dup_first\n",
    "\n",
    "Implement the method `dup_first`:\n",
    "\n",
    "```python\n",
    "    def dup_first(self):\n",
    "        \"\"\" MODIFIES this list by adding a duplicate of first node right after it. \n",
    "        \n",
    "            For example, the list 'a','b','c' should become 'a','a','b','c'.            \n",
    "            An empty list remains unmodified.            \n",
    "\n",
    "            - DOES NOT RETURN ANYTHING !!!     \n",
    "\n",
    "        \"\"\"\n",
    "        \n",
    "        raise Exception(\"TODO IMPLEMENT ME !\")\n",
    "```\n",
    "\n",
    "**Testing:** `python3 -m unittest more_test.DupFirstTest`"
   ]
  },
  {
   "cell_type": "markdown",
   "metadata": {},
   "source": [
    "### 7.4 dup_all\n",
    "\n",
    "Implement the method `dup_all`:\n",
    "\n",
    "```python\n",
    "    def dup_all(self):\n",
    "        \"\"\" Modifies this list by adding a duplicate of each node right after it.\n",
    "        \n",
    "            For example, the list 'a','b','c' should become 'a','a','b','b','c','c'.\n",
    "            An empty list remains unmodified.      \n",
    "            \n",
    "            - MUST PERFORM IN O(n) WHERE n is the length of the list.\n",
    "            \n",
    "            - DOES NOT RETURN ANYTHING !!!\n",
    "        \"\"\"\n",
    "\n",
    "        raise Exception(\"TODO IMPLEMENT ME !\")\n",
    "```\n",
    "\n",
    "**Testing:** `python3 -m unittest more_test.DupAllTest`\n",
    "    "
   ]
  },
  {
   "cell_type": "markdown",
   "metadata": {},
   "source": [
    "### 7.5 mirror\n",
    "\n",
    "Implement following `mirror` function. **NOTE**: the function is external to class `LinkedList`.\n",
    "\n",
    "```python\n",
    "def mirror(lst):\n",
    "    \"\"\" Returns a new LinkedList having double the nodes of provided lst\n",
    "        First nodes will have same elements of lst, following nodes will \n",
    "        have the same elements but in reversed order.\n",
    "        \n",
    "        For example:\n",
    "            \n",
    "            >>> mirror(['a'])\n",
    "            LinkedList: a,a            \n",
    "            \n",
    "            >>> mirror(['a','b'])\n",
    "            LinkedList: a,b,b,a\n",
    "\n",
    "            >>> mirror(['a','c','b'])\n",
    "            LinkedList: a,c,b,b,c,a\n",
    "    \n",
    "    \"\"\"\n",
    "    raise Exception(\"TODO IMPLEMENT ME !\")        \n",
    "        \n",
    "```\n",
    "\n",
    "**Testing:** `python -m unittest more_test.MirrorTest`"
   ]
  },
  {
   "cell_type": "markdown",
   "metadata": {},
   "source": [
    "### 7.6 norep\n",
    "\n",
    "Implement the method `norep`:\n",
    "\n",
    "```python\n",
    "    def norep(self):\n",
    "        \"\"\" MODIFIES this list by removing all the consecutive \n",
    "            repetitions from it.\n",
    "\n",
    "            - MUST perform in O(n), where n is the list size.\n",
    "\n",
    "            For example, after calling norep:\n",
    "\n",
    "            'a','a','b','c','c','c'   will become  'a','b','c'\n",
    "\n",
    "            'a','a','b','a'   will become   'a','b','a'            \n",
    "\n",
    "        \"\"\"\n",
    "        \n",
    "        raise Exception(\"TODO IMPLEMENT ME !\")\n",
    "```\n",
    "\n",
    "**Testing:** `python -m unittest more_test.NorepTest`\n",
    "    "
   ]
  },
  {
   "cell_type": "markdown",
   "metadata": {},
   "source": [
    "\n",
    "### 7.8 find_couple\n",
    "\n",
    "Implement following `find_couple` method. \n",
    "\n",
    "```python\n",
    "    def find_couple(self,a,b):\n",
    "        \"\"\" Search the list for the first two consecutive elements having data equal to \n",
    "            provided a and b, respectively. If such elements are found, the position\n",
    "            of the first one is returned, otherwise raises LookupError.\n",
    "            \n",
    "            - MUST run in O(n), where n is the size of the list.\n",
    "            - Returned index start from 0 included\n",
    "            \n",
    "        \"\"\"                \n",
    "```\n",
    "\n",
    "**Testing:** `python3 -m unittest more_test.FindCoupleTest`"
   ]
  },
  {
   "cell_type": "markdown",
   "metadata": {},
   "source": [
    "### 7.9 swap\n",
    "\n",
    "Implement the method `swap`:\n",
    "\n",
    "```python\n",
    "    def swap (self, i, j):\n",
    "        \"\"\"\n",
    "            Swap the data of nodes at index i and j. Indeces start from 0 included.\n",
    "            If any of the indeces is out of bounds, rises IndexError.\n",
    "            \n",
    "            NOTE: You MUST implement this function with a single scan of the list.\n",
    "            \n",
    "        \"\"\"\n",
    "```\n",
    "\n",
    "**Testing:** `python3 -m unittest more_test.SwapTest`    "
   ]
  },
  {
   "cell_type": "markdown",
   "metadata": {},
   "source": [
    "\n",
    "### 7.10 gaps\n",
    "\n",
    "Given a linked list of size n which only contains integers, a gap is an **index** `i`, `0<i<n`, such that `L[i−1]<L[i]`. \n",
    "For the purpose of this exercise, we assume an empy list or a list with one element have zero gaps\n",
    "\n",
    "\n",
    "**Example**: \n",
    "\n",
    "```\n",
    "   data:  9 7 6 8 9 2 2 5 \n",
    "  index:  0 1 2 3 4 5 6 7  \n",
    "```\n",
    "\n",
    "contains three gaps [3,4,7] because:\n",
    "\n",
    "- number 8 at index 3 is greater than previous number 6 at index 2\n",
    "- number 9 at index 4 is greater than previous number 8 at index 3\n",
    "- number 5 at index 7 is greater than previous number 2 at index 6"
   ]
  },
  {
   "cell_type": "markdown",
   "metadata": {},
   "source": [
    "Implement this method:\n",
    "\n",
    "```python\n",
    "    def gaps(self):\n",
    "        \"\"\" Assuming all the data in the linked list is made by numbers,\n",
    "            finds the gaps in the LinkedList and return them as a Python list.\n",
    "            \n",
    "            - we assume empty list and list of one element have zero gaps\n",
    "            - MUST perform in O(n) where n is the length of the list\n",
    "\n",
    "            NOTE: gaps to return are *indeces* , *not* data!!!!\n",
    "        \"\"\"\n",
    "```\n",
    "\n",
    "**Testing**: `python3 -m unittest more_test.GapsTest`"
   ]
  },
  {
   "cell_type": "markdown",
   "metadata": {},
   "source": [
    "### 7.11 flatv\n",
    "\n",
    "Suppose a `LinkedList` only contains integer numbers, say 3,8,8,7,5,8,6,3,9.\n",
    "Implement method `flatv` which scans the list: when it finds the *first* occurence of a node which contains a number which is less then the previous one, and the  less than successive one, it inserts after the current one another node with the same data as the current one, and exits.\n",
    "\n",
    "Example: \n",
    "\n",
    "for Linked list 3,8,8,7,5,8,6,3,9\n",
    "\n",
    "calling `flatv` should modify the linked list so that it becomes\n",
    "\n",
    "Linked list 3,8,8,7,5,5,8,6,3,9\n",
    "\n",
    "Note that it only modifies the first occurrence found 7,5,8 to 7,5,5,8  and the successive sequence 6,3,9  is not altered\n",
    "\n",
    "Implement this method:\n",
    "\n",
    "```python\n",
    "    def flatv(self):\n",
    "```\n",
    "\n",
    "**Testing:** `python3 -m unittest more_test.FlatvTest`    \n"
   ]
  },
  {
   "cell_type": "markdown",
   "metadata": {},
   "source": [
    "### 7.12 bubble_sort\n",
    "\n",
    "You will implement bubble sort on a `LinkedList`. \n",
    "\n",
    "    def bubble_sort(self):\n",
    "        \"\"\" Sorts in-place this linked list using the method of bubble sort\n",
    "        \n",
    "            - MUST execute in O(n^2) where n is the length of the linked list\n",
    "        \"\"\"\n",
    "\n",
    "\n",
    "As a reference, you can look at this `example_bubble` implementation below that operates on regular python lists. Basically, you will have to translate the `for` cycles into two suitable `while` and use node pointers.\n",
    "\n",
    "**NOTE**: this version of the algorithm is inefficient as we do not use `j` in the inner loop: your linked list implementation can have this inefficiency as well.\n",
    "\n",
    "**Testing**: `python3 -m unittest more_test.BubbleSortTest`"
   ]
  },
  {
   "cell_type": "code",
   "execution_count": 23,
   "metadata": {},
   "outputs": [
    {
     "name": "stdout",
     "output_type": "stream",
     "text": [
      "[1, 2, 3, 23, 32, 34, 55, 98, 7777]\n"
     ]
    }
   ],
   "source": [
    "def example_bubble(plist):\n",
    "    for j in range(len(plist)):\n",
    "        for i in range(len(plist)):\n",
    "            if i + 1 < len(plist) and plist[i]>plist[i+1]:\n",
    "                temp = plist[i]\n",
    "                plist[i] = plist[i+1]\n",
    "                plist[i+1] = temp\n",
    "\n",
    "my_list = [23, 34, 55, 32, 7777, 98, 3, 2, 1]\n",
    "example_bubble(my_list)\n",
    "print(my_list)\n"
   ]
  },
  {
   "cell_type": "markdown",
   "metadata": {},
   "source": [
    "\n",
    "### 7.13 merge\n",
    "\n",
    "Implement this method:\n",
    "\n",
    "```python\n",
    "    def merge(self,l2):\n",
    "        \"\"\" Assumes this linkedlist and l2 linkedlist contain integer numbers\n",
    "            sorted in ASCENDING order, and  RETURN a NEW LinkedList with\n",
    "            all the numbers from this and l2 sorted in DESCENDING order\n",
    "\n",
    "            IMPORTANT 1: *MUST* EXECUTE IN O(n1+n2) TIME where n1 and n2 are\n",
    "                         the sizes of this and l2 linked_list, respectively\n",
    "                         \n",
    "            IMPORTANT 2: *DO NOT* attempt to convert linked lists to\n",
    "                         python lists!\n",
    "        \"\"\"\n",
    "```\n",
    "\n",
    "**Testing**: `python3 -m unittest more_test.MergeTest`"
   ]
  },
  {
   "cell_type": "code",
   "execution_count": 24,
   "metadata": {
    "nbsphinx": "hidden",
    "scrolled": true
   },
   "outputs": [
    {
     "name": "stderr",
     "output_type": "stream",
     "text": [
      "....................................................................................\n",
      "----------------------------------------------------------------------\n",
      "Ran 84 tests in 0.065s\n",
      "\n",
      "OK\n"
     ]
    }
   ],
   "source": [
    "# Ignore this code\n",
    "import more_test\n",
    "jupman.run(more_test)\n"
   ]
  },
  {
   "cell_type": "code",
   "execution_count": null,
   "metadata": {},
   "outputs": [],
   "source": []
  }
 ],
 "metadata": {
  "celltoolbar": "Edit Metadata",
  "kernelspec": {
   "display_name": "Python 3",
   "language": "python",
   "name": "python3"
  },
  "language_info": {
   "codemirror_mode": {
    "name": "ipython",
    "version": 3
   },
   "file_extension": ".py",
   "mimetype": "text/x-python",
   "name": "python",
   "nbconvert_exporter": "python",
   "pygments_lexer": "ipython3",
   "version": "3.5.2"
  },
  "toc": {
   "base_numbering": 1,
   "nav_menu": {},
   "number_sections": false,
   "sideBar": true,
   "skip_h1_title": false,
   "title_cell": "Table of Contents",
   "title_sidebar": "Contents",
   "toc_cell": false,
   "toc_position": {},
   "toc_section_display": true,
   "toc_window_display": true
  }
 },
 "nbformat": 4,
 "nbformat_minor": 1
}
