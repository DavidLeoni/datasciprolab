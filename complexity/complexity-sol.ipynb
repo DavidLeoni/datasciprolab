{
 "cells": [
  {
   "cell_type": "code",
   "execution_count": 1,
   "metadata": {
    "nbsphinx": "hidden"
   },
   "outputs": [],
   "source": [
    "#Please execute this cell\n",
    "import sys;\n",
    "sys.path.append('../'); \n",
    "import jupman;"
   ]
  },
  {
   "cell_type": "markdown",
   "metadata": {},
   "source": [
    "# Complexity\n",
    "\n",
    "[Browse files online](https://github.com/DavidLeoni/sciprog-ds/tree/master/complexity)\n",
    "\n",
    "## Introduction\n",
    "\n",
    "### References\n",
    "\n",
    "- [Luca Bianco's Introduction to algorithms slides](https://sciproalgo2020.readthedocs.io/en/latest/slides/Lecture1.pdf)\n",
    "- [Luca Bianco's Algorithms and complexity slides](https://sciproalgo2020.readthedocs.io/en/latest/slides/Lecture2.pdf)\n",
    "- [Python DS Chapter 2.6: Algorithm analysis](https://runestone.academy/runestone/books/published/pythonds/AlgorithmAnalysis/toctree.html)\n"
   ]
  },
  {
   "cell_type": "markdown",
   "metadata": {},
   "source": [
    "\n",
    "## List performance\n",
    "\n",
    "Python lists are generic containers, they are useful in a variety of scenarios but sometimes their perfomance  can be disappointing, so it's best to know and avoid potentially expensive operations.\n",
    "Table from [the book Chapter 2.6: Lists](http://interactivepython.org/runestone/static/pythonds/AlgorithmAnalysis/Lists.html):\n",
    "\n",
    "|Operation        |Big-O Efficiency|Operation        |Big-O Efficiency |\n",
    "|-----------------|----------------|-----------------|-----------------|\n",
    "|index []         | $O(1)$         |`in` (contains)  | $O(n)$          |\n",
    "|index assignment | $O(1)$         |get slice `[x:y]`| $O(k)$          |\n",
    "|append           | $O(1)$         |del slice        | $O(n)$          |\n",
    "|pop()            | $O(1)$         |set slice        | $O(n+k)$        |\n",
    "|pop(i)           | $O(n)$         |reverse          | $O(n)$          |\n",
    "|extend(lb)       | $O(m)$         | la `+` lb       | $O(n+m)$        | \n",
    "|insert(i,item)   | $O(n)$         |sort             | $O(n  \\log{n})$ |\n",
    "|del operator     | $O(n)$         |multiply         | $O(nk)$         |\n",
    "|iteration        | $O(n)$         |                 |                 |\n",
    "\n"
   ]
  },
  {
   "cell_type": "markdown",
   "metadata": {},
   "source": [
    "\n",
    "### Fast or not?\n",
    " \n",
    "```python\n",
    "\n",
    "x = [\"a\", \"b\", \"c\"]\n",
    "\n",
    "x[2]       \n",
    "x[2] = \"d\"       \n",
    "x.append(\"d\")     \n",
    "x.insert(0, \"d\")        \n",
    "x[3:5]        \n",
    "x.sort()\n",
    "\n",
    "\n",
    "```\n",
    "What about `len(x)` ? If you don't know the answer, try googling it! "
   ]
  },
  {
   "cell_type": "markdown",
   "metadata": {},
   "source": [
    "Sublist iteration performance\n",
    "\n",
    "`get slice` time complexity is `O(k)`, but what about memory? It's the same!\n",
    "\n",
    "So if you want to iterate a part of a list, beware of slicing! For example, slicing a list like this can occupy much more memory than necessary:"
   ]
  },
  {
   "cell_type": "code",
   "execution_count": 2,
   "metadata": {},
   "outputs": [
    {
     "name": "stdout",
     "output_type": "stream",
     "text": [
      "[200, 202, 204, 206, 208, 210, 212, 214, 216, 218, 220, 222, 224, 226, 228, 230, 232, 234, 236, 238, 240, 242, 244, 246, 248, 250, 252, 254, 256, 258, 260, 262, 264, 266, 268, 270, 272, 274, 276, 278, 280, 282, 284, 286, 288, 290, 292, 294, 296, 298, 300, 302, 304, 306, 308, 310, 312, 314, 316, 318, 320, 322, 324, 326, 328, 330, 332, 334, 336, 338, 340, 342, 344, 346, 348, 350, 352, 354, 356, 358, 360, 362, 364, 366, 368, 370, 372, 374, 376, 378, 380, 382, 384, 386, 388, 390, 392, 394, 396, 398]\n"
     ]
    }
   ],
   "source": [
    "x = range(1000)\n",
    "\n",
    "print([2*y for y in x[100:200]])"
   ]
  },
  {
   "cell_type": "markdown",
   "metadata": {},
   "source": [
    "The reason is that, depending on the Python interpreter you have, slicing like `x[100:200]`at loop start can create a _new_ list. If we want to explicitly tell Python we just want to iterate through the list, we can use the so called <a href=\"https://docs.python.org/2/library/itertools.html\" target=\"_blank\">itertools</a>. In particular, the <a href=\"https://docs.python.org/2/library/itertools.html#itertools.islice\" target=\"_blank\"> islice </a> method is handy, with it we can rewrite the list comprehension above like this:\n"
   ]
  },
  {
   "cell_type": "code",
   "execution_count": 3,
   "metadata": {
    "scrolled": true
   },
   "outputs": [
    {
     "name": "stdout",
     "output_type": "stream",
     "text": [
      "[200, 202, 204, 206, 208, 210, 212, 214, 216, 218, 220, 222, 224, 226, 228, 230, 232, 234, 236, 238, 240, 242, 244, 246, 248, 250, 252, 254, 256, 258, 260, 262, 264, 266, 268, 270, 272, 274, 276, 278, 280, 282, 284, 286, 288, 290, 292, 294, 296, 298, 300, 302, 304, 306, 308, 310, 312, 314, 316, 318, 320, 322, 324, 326, 328, 330, 332, 334, 336, 338, 340, 342, 344, 346, 348, 350, 352, 354, 356, 358, 360, 362, 364, 366, 368, 370, 372, 374, 376, 378, 380, 382, 384, 386, 388, 390, 392, 394, 396, 398]\n"
     ]
    }
   ],
   "source": [
    "import itertools\n",
    "\n",
    "print([2*y for y in itertools.islice(x, 100, 200)])"
   ]
  },
  {
   "cell_type": "markdown",
   "metadata": {},
   "source": [
    "## TODO WILL PUT EXERCISES HERE"
   ]
  },
  {
   "cell_type": "code",
   "execution_count": 4,
   "metadata": {},
   "outputs": [],
   "source": [
    "# SOLUTION"
   ]
  },
  {
   "cell_type": "code",
   "execution_count": null,
   "metadata": {},
   "outputs": [],
   "source": []
  }
 ],
 "metadata": {
  "celltoolbar": "Edit Metadata",
  "kernelspec": {
   "display_name": "Python 3",
   "language": "python",
   "name": "python3"
  },
  "language_info": {
   "codemirror_mode": {
    "name": "ipython",
    "version": 3
   },
   "file_extension": ".py",
   "mimetype": "text/x-python",
   "name": "python",
   "nbconvert_exporter": "python",
   "pygments_lexer": "ipython3",
   "version": "3.5.2"
  },
  "toc": {
   "base_numbering": 1,
   "nav_menu": {},
   "number_sections": false,
   "sideBar": true,
   "skip_h1_title": false,
   "title_cell": "Table of Contents",
   "title_sidebar": "Contents",
   "toc_cell": false,
   "toc_position": {},
   "toc_section_display": true,
   "toc_window_display": true
  }
 },
 "nbformat": 4,
 "nbformat_minor": 4
}
