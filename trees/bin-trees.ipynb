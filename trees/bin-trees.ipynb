{
 "cells": [
  {
   "cell_type": "code",
   "execution_count": 80,
   "metadata": {
    "nbsphinx": "hidden"
   },
   "outputs": [],
   "source": [
    "#Please execute this cell\n",
    "import sys;\n",
    "sys.path.append('../'); \n",
    "import jupman;\n",
    "import sciprog"
   ]
  },
  {
   "cell_type": "markdown",
   "metadata": {
    "collapsed": true
   },
   "source": [
    "\n",
    "#  Binary Trees \n",
    "\n",
    "## [Download exercises zip](../_static/generated/trees.zip) \n",
    "(before editing read whole introduction section)\n",
    "\n",
    "[Browse files online](https://github.com/DavidLeoni/sciprog-ds/tree/master/trees)\n",
    "\n",
    "## 0. Introduction\n",
    "\n",
    "Here we only deal with binary trees,  for generic trees [see separate notebook](https://sciprog.davidleoni.it/trees/gen-trees.html). \n",
    "\n",
    "### What to do\n",
    "\n",
    "- unzip exercises in a folder, you should get something like this: \n",
    "\n",
    "```\n",
    "trees\n",
    "   bin-trees.ipynb         \n",
    "   gen-trees.ipynb\n",
    "   bin_tree_test.py\n",
    "   bin_tree.py               \n",
    "   bin_tree_sol.py\n",
    "   gen_tree_test.py\n",
    "   gen_tree.py               \n",
    "   gen_tree_sol.py         \n",
    "   jupman.py\n",
    "   sciprog.py\n",
    "```\n",
    "\n",
    "\n",
    "- open the editor of your choice (for example Visual Studio Code, Spyder or PyCharme), you will edit the files ending in `.py` files\n",
    "- Go on reading this notebook, and follow instuctions inside.\n",
    "\n",
    "\n",
    "## 0. Introduction\n",
    "\n",
    "### 0.1 References\n",
    "\n",
    "See\n",
    "\n",
    "* Luca Bianco [theory here](https://sciproalgo2020.readthedocs.io/slides/Lecture6.pdf) \n",
    "* [Trees on the book](https://interactivepython.org/runestone/static/pythonds/Trees/toctree.html)\n",
    "    * In particular, [Vocabulary and definitions](https://interactivepython.org/runestone/static/pythonds/Trees/VocabularyandDefinitions.html)"
   ]
  },
  {
   "cell_type": "markdown",
   "metadata": {},
   "source": [
    "### 0.2 Terminology - relations\n",
    "\n",
    "![bt terminology 1 i3u4i34u](img/bt-terminology-1.png)"
   ]
  },
  {
   "cell_type": "markdown",
   "metadata": {},
   "source": [
    "### 0.3 Terminology - levels\n",
    "\n",
    "![bt terminology 2 kjklj34](img/bt-terminology-2.png)"
   ]
  },
  {
   "cell_type": "markdown",
   "metadata": {},
   "source": [
    "### 0.4 Terminology - shapes\n",
    "\n",
    "![bt shapes kj3iu32i](img/bt-shapes.png)\n"
   ]
  },
  {
   "cell_type": "markdown",
   "metadata": {},
   "source": [
    "In this worksheet we are first going to provide an implementation of a `BinaryTree` class:\n",
    "\n",
    "* Differently from the `LinkedList`, which actually had two classes `Node` and `LinkedList` that was pointing to the first node, in this case we just have one `BinaryTree` class. \n",
    "* Each `BinaryTree` instance _may_ have a left `BinaryTree` instance and _may_ have a right `BinaryTree` instance, while absence of a branch is marked with `None`. This reflects the recursive nature of trees.\n",
    "* To grow a tree, first you need to create an instance of `BinaryTree`, and then you call `.insert_left` or  `.insert_right` methods on it and pass _data_. Keep reading to see how to do it.\n",
    "\n",
    "### 0.2 Code skeleton\n",
    "\n",
    "Look at the files:\n",
    "\n",
    "* `trees/bin_tree.py`    : the exercise to edit\n",
    "* `trees/bin_tree_test.py`: the tests to run. Do not modify this file.\n",
    "\n",
    "\n",
    "Before starting to implement methods in `BinaryTree` class, read all the following sub sections (starting with '0.x')\n",
    "\n",
    "\n",
    "### 0.3 Building trees\n",
    "\n",
    "Let's learn how to build `BinaryTree`. For these trials, feel free to launch a Python 3 interpreter and load this module: "
   ]
  },
  {
   "cell_type": "code",
   "execution_count": 2,
   "metadata": {},
   "outputs": [],
   "source": [
    "from bin_tree_sol import *"
   ]
  },
  {
   "cell_type": "markdown",
   "metadata": {},
   "source": [
    "\n",
    "### 0.3.1 Pointers\n",
    "\n",
    "A `BinaryTree` class holds 2 pointers that link it to other nodes: `_left`, and `_right`\n",
    "\n",
    "It also holds a value `data` which is provided by the user to store arbitrary data (could be ints, strings, lists, even other trees, we don't care):\n",
    "\n",
    "```python\n",
    "\n",
    "class BinaryTree:\n",
    "    \n",
    "    def __init__(self, data):\n",
    "        self._data = data\n",
    "        self._left = None\n",
    "        self._right = None\n",
    "```\n",
    "\n",
    "**NOTE**: `BinaryTree` as defined here is unidirectional, that is, has no backlinks (so no `_parent` field). \n",
    "\n",
    "Formally, a tree as described in discrete mathematics books is always unidirectional (can't have any cycle) and every node can have at most one incoming link. When we program, though, for convenience we may decide to have or not have backlinks (later with `GenericTree` we will see an example)"
   ]
  },
  {
   "cell_type": "markdown",
   "metadata": {},
   "source": [
    "\n",
    "To create a `BinaryTree` of one node, just call the constructor passing whatever you want like this:\n"
   ]
  },
  {
   "cell_type": "code",
   "execution_count": 3,
   "metadata": {},
   "outputs": [],
   "source": [
    "tblah = BinaryTree(\"blah\")\n",
    "tn = BinaryTree(5)"
   ]
  },
  {
   "cell_type": "markdown",
   "metadata": {},
   "source": [
    "\n",
    "Note that with the provided constructor you can't pass children.\n",
    "\n",
    "### 0.3.2 Building with `insert_left`\n",
    "\n",
    "To grow a `BinaryTree`, as basic building block you will have to implement `insert_left`:\n",
    "\n",
    "```python\n",
    "    def insert_left(self, data):\n",
    "        \"\"\" Takes as input DATA (*NOT* a node !!) and MODIFIES current\n",
    "            node this way:\n",
    "        \n",
    "            - First creates a new BinaryTree (let's call it B) into which \n",
    "              provided data is wrapped.\n",
    "            - Then:\n",
    "                - if there is no left node in self, new node B is attached to \n",
    "                  the left of self\n",
    "                - if there already is a left node L, it is substituted by \n",
    "                  new node B, and L becomes the left node of B\n",
    "        \"\"\"\n",
    "```\n",
    "\n",
    "You can call it like this:"
   ]
  },
  {
   "cell_type": "code",
   "execution_count": 4,
   "metadata": {},
   "outputs": [],
   "source": [
    "t = BinaryTree('a')\n",
    "\n",
    "t.insert_left('c')"
   ]
  },
  {
   "cell_type": "code",
   "execution_count": 5,
   "metadata": {},
   "outputs": [
    {
     "name": "stdout",
     "output_type": "stream",
     "text": [
      "a\n",
      "├c\n",
      "└\n"
     ]
    }
   ],
   "source": [
    "print(t)"
   ]
  },
  {
   "cell_type": "code",
   "execution_count": 6,
   "metadata": {},
   "outputs": [],
   "source": [
    "t.insert_left('b')"
   ]
  },
  {
   "cell_type": "code",
   "execution_count": 7,
   "metadata": {},
   "outputs": [
    {
     "name": "stdout",
     "output_type": "stream",
     "text": [
      "a\n",
      "├b\n",
      "│├c\n",
      "│└\n",
      "└\n"
     ]
    }
   ],
   "source": [
    "print(t)"
   ]
  },
  {
   "cell_type": "code",
   "execution_count": 8,
   "metadata": {},
   "outputs": [
    {
     "data": {
      "text/plain": [
       "'b'"
      ]
     },
     "execution_count": 8,
     "metadata": {},
     "output_type": "execute_result"
    }
   ],
   "source": [
    "t.left().data()"
   ]
  },
  {
   "cell_type": "code",
   "execution_count": 9,
   "metadata": {},
   "outputs": [
    {
     "data": {
      "text/plain": [
       "'c'"
      ]
     },
     "execution_count": 9,
     "metadata": {},
     "output_type": "execute_result"
    }
   ],
   "source": [
    "t.left().left().data()"
   ]
  },
  {
   "cell_type": "markdown",
   "metadata": {},
   "source": [
    "### 0.3.3 Building with `bt`\n",
    "\n",
    "If you need to test your data structure, we provide you with this handy function `bt` in `bin_tree_test` module that allows to easily construct trees from other trees.\n",
    "\n",
    "<br/>\n",
    "\n",
    "<div class=\"alert alert-warning\">\n",
    "\n",
    "**WARNING:** DO NOT USE `bt` inside your implementation code !!!! `bt` is just meant for testing.\n",
    "</div>\n",
    "\n",
    "```python\n",
    "def bt(*args):\n",
    "    \"\"\" Shorthand function that returns a GenericTree containing the provided \n",
    "        data and children. First parameter is the data, the following ones are the children.\n",
    "```"
   ]
  },
  {
   "cell_type": "code",
   "execution_count": 10,
   "metadata": {},
   "outputs": [
    {
     "name": "stdout",
     "output_type": "stream",
     "text": [
      "a\n"
     ]
    }
   ],
   "source": [
    "from bin_tree_test import bt\n",
    "\n",
    "bt('a')\n",
    "print(bt('a'))\n"
   ]
  },
  {
   "cell_type": "code",
   "execution_count": 11,
   "metadata": {},
   "outputs": [
    {
     "name": "stdout",
     "output_type": "stream",
     "text": [
      "a\n",
      "├\n",
      "└b\n"
     ]
    }
   ],
   "source": [
    "print(bt('a', None, bt('b')))\n"
   ]
  },
  {
   "cell_type": "code",
   "execution_count": 12,
   "metadata": {},
   "outputs": [
    {
     "name": "stdout",
     "output_type": "stream",
     "text": [
      "a\n",
      "├b\n",
      "└c\n"
     ]
    }
   ],
   "source": [
    "\n",
    "print(bt('a', bt('b'), bt('c')))\n",
    "\n"
   ]
  },
  {
   "cell_type": "code",
   "execution_count": 13,
   "metadata": {},
   "outputs": [
    {
     "name": "stdout",
     "output_type": "stream",
     "text": [
      "a\n",
      "├b\n",
      "└c\n",
      " ├d\n",
      " └\n"
     ]
    }
   ],
   "source": [
    "print(bt('a', bt('b'), bt('c', bt('d'), None)) )"
   ]
  },
  {
   "cell_type": "markdown",
   "metadata": {},
   "source": [
    "## 1. Insertions\n",
    "\n",
    "### 1.1 insert_left\n",
    "\n",
    "Implement `insert_left`\n",
    "\n",
    "```python\n",
    "def insert_left(self, data):\n",
    "        \"\"\" Takes as input DATA (*NOT* a node !!) and MODIFIES current node\n",
    "            this way:\n",
    "        \n",
    "            - First creates a new BinaryTree (let's call it B) into which \n",
    "              provided data is wrapped.\n",
    "            - Then:\n",
    "                - if there is no left node in self, new node B is attached to \n",
    "                  the left of self\n",
    "                - if there already is a left node L, it is substituted by\n",
    "                  new node B, and L becomes the left node of B\n",
    "```\n",
    "\n",
    "**Testing:**  `python3 -m unittest bin_tree_test.InsertLeftTest`\n"
   ]
  },
  {
   "cell_type": "markdown",
   "metadata": {},
   "source": [
    "### 1.2 insert_right\n",
    "\n",
    "```python\n",
    "def insert_right(self, data):\n",
    "        \"\"\" Takes as input DATA (*NOT* a node !!) and MODIFIES current node\n",
    "            this way:\n",
    "        \n",
    "            - First creates a new BinaryTree (let's call it B) into which\n",
    "              provided data is wrapped.\n",
    "            - Then:\n",
    "                - if there is no right node in self, new node B is attached \n",
    "                  to the right of self\n",
    "                - if there already is a right node L, it is substituted by \n",
    "                  new node B, and L becomes the right node of B\n",
    "        \"\"\"\n",
    "```\n",
    "\n",
    "**Testing:**  `python3 -m unittest bin_tree_test.InsertRightTest`"
   ]
  },
  {
   "cell_type": "markdown",
   "metadata": {},
   "source": [
    "## 2. Recursive visit\n",
    "\n",
    "In these exercises, we are going to implement methods which do _recursive_ calls. Before doing it, we should ask oursevles why. Tyipically, recursive calls are present in funcitonal languages. Is Python one of them?\n",
    "Python is a general purpose language, that allows writing imperative, object-oriented code and also sports _some_, but not _all_ functional programming features. Unfortunately, one notably missing feature is the capability to efficiently perform recursive calls. If too many recursive calls happen, you will probabily get a 'Recursion limit exceed' error. So why should we bother?\n",
    "\n",
    "It turns out that recursive code is much shorter and elegant than corrisponding imperative one (which would often use stacks). So to gain a first understanding of problems, it might be beneficial to think about a recursive solution. After that, we may increase efficiency by explicitly using a stack instead of recursive calls."
   ]
  },
  {
   "cell_type": "code",
   "execution_count": 89,
   "metadata": {
    "nbsphinx": "hidden"
   },
   "outputs": [
    {
     "name": "stdout",
     "output_type": "stream",
     "text": [
      "Image saved to file:  img/plr.png\n"
     ]
    },
    {
     "data": {
      "image/png": "[encoded data removed]",
      "text/plain": [
       "<IPython.core.display.Image object>"
      ]
     },
     "metadata": {},
     "output_type": "display_data"
    },
    {
     "name": "stdout",
     "output_type": "stream",
     "text": [
      "Image saved to file:  img/pl.png\n"
     ]
    },
    {
     "data": {
      "image/png": "[encoded data removed]",
      "text/plain": [
       "<IPython.core.display.Image object>"
      ]
     },
     "metadata": {},
     "output_type": "display_data"
    },
    {
     "name": "stdout",
     "output_type": "stream",
     "text": [
      "Image saved to file:  img/pr.png\n"
     ]
    },
    {
     "data": {
      "image/png": "[encoded data removed]",
      "text/plain": [
       "<IPython.core.display.Image object>"
      ]
     },
     "metadata": {},
     "output_type": "display_data"
    },
    {
     "name": "stdout",
     "output_type": "stream",
     "text": [
      "Image saved to file:  img/p.png\n"
     ]
    },
    {
     "data": {
      "image/png": "[encoded data removed]",
      "text/plain": [
       "<IPython.core.display.Image object>"
      ]
     },
     "metadata": {},
     "output_type": "display_data"
    }
   ],
   "source": [
    "#jupman-purge\n",
    "from sciprog import draw_nx\n",
    "from networkx import nx\n",
    "\n",
    "def xl(label):\n",
    "    return '<<font color=\"#992e00\">%s</font>>' % label\n",
    "\n",
    "G = nx.DiGraph()\n",
    "G.add_node('P',)\n",
    "G.add_node('L')\n",
    "G.add_node('R')\n",
    "G.add_edge('P','L')\n",
    "G.add_edge('P','R')\n",
    "draw_nx(G, options={'graph':{'rankdir':'TD'}}, save_to='img/plr.png')\n",
    "\n",
    "G = nx.DiGraph()\n",
    "G.add_node('L')\n",
    "G.add_node('R', color='white', fontcolor='white')\n",
    "G.add_edge('P','L')\n",
    "G.add_edge('P','R', color='white', fontcolor='white')\n",
    "draw_nx(G, options={'graph':{'rankdir':'TD'}}, save_to='img/pl.png')\n",
    "\n",
    "G = nx.DiGraph()\n",
    "G.add_node('L', color='white', fontcolor='white')\n",
    "G.add_node('R')\n",
    "G.add_edge('P','L', color='white', fontcolor='white')\n",
    "G.add_edge('P','R')\n",
    "draw_nx(G, options={'graph':{'rankdir':'TD'}}, save_to='img/pr.png')\n",
    "\n",
    "G = nx.DiGraph()\n",
    "G.add_node('L', color='white', fontcolor='white')\n",
    "G.add_node('R', color='white', fontcolor='white')\n",
    "G.add_edge('P','L', color='white', fontcolor='white')\n",
    "G.add_edge('P','R', color='white', fontcolor='white')\n",
    "draw_nx(G, options={'graph':{'rankdir':'TD'}}, save_to='img/p.png')\n",
    "\n",
    "\n",
    "#/jupman-purge"
   ]
  },
  {
   "cell_type": "markdown",
   "metadata": {},
   "source": [
    "When devising recursive algorithms on binary trees, given a parent node P (in the methods it would be `self`) a good strategy to start with is to consider all possible cases you can have:"
   ]
  },
  {
   "cell_type": "markdown",
   "metadata": {},
   "source": [
    "|No child|Left child|Right child|Both children|\n",
    "|:-:|:-:|:-:|:-:|\n",
    "|![p](img/p.png)|![pl](img/pl.png)|![pr](img/pr.png)|![plr](img/plr.png)|"
   ]
  },
  {
   "cell_type": "markdown",
   "metadata": {},
   "source": [
    "Let's see an application of the idea."
   ]
  },
  {
   "cell_type": "markdown",
   "metadata": {},
   "source": [
    "### 2.1 sum_rec\n",
    "\n",
    "Supposing all nodes hold a number, let's see how to write a method that returns the sum of all numbers in the tree. We can define sum recursively:\n",
    "\n",
    "- if a node has no children: the sum is equal to the node data\n",
    "- if a node has only left child: the sum is equal to the node data plus the (recursive) sum of left child\n",
    "- if a node has only right child: the sum is equal to the node data plus the (recursive) sum of right child\n",
    "- if a node has both left and right child: the sum is equal to the node data plus the (recursive) sum of left child and the (recursive) sum of the right child\n",
    "\n",
    "**Example**: black numbers are node data, purple numbers are the respective sums. \n",
    "\n",
    "Let's look at node with black number `10`: its sum is `23`, which is given by its data `10`, plus `1` ( the recursive sum of the left child `1`), plus `12` ( recursive sum of the right child `7`)"
   ]
  },
  {
   "cell_type": "markdown",
   "metadata": {},
   "source": [
    "![bt sum 9834uu4](img/bt-sum.png)"
   ]
  },
  {
   "cell_type": "markdown",
   "metadata": {},
   "source": [
    "```python\n",
    "    def sum_rec(self):\n",
    "        \"\"\" Supposing the tree holds integer numbers in all nodes,\n",
    "            RETURN the sum of the numbers.\n",
    "\n",
    "            - implement it as a recursive Depth First Search (DFS) traversal\n",
    "              NOTE: with big trees a recursive solution would surely \n",
    "                    exceed the call stack, but here we don't mind            \n",
    "        \"\"\" \n",
    "```\n",
    "\n",
    "**Testing**: `python3 -m unittest bin_tree_test.ContainsRecTest`\n",
    "\n",
    "**Code example**: "
   ]
  },
  {
   "cell_type": "code",
   "execution_count": 15,
   "metadata": {},
   "outputs": [
    {
     "name": "stdout",
     "output_type": "stream",
     "text": [
      "3\n",
      "├10\n",
      "│├1\n",
      "│└7\n",
      "│ ├5\n",
      "│ └\n",
      "└9\n",
      " ├6\n",
      " │├2\n",
      " ││├\n",
      " ││└4\n",
      " │└8\n",
      " └\n"
     ]
    }
   ],
   "source": [
    "t = bt(3, \n",
    "           bt(10,\n",
    "                bt(1), \n",
    "                bt(7, \n",
    "                      bt(5))),\n",
    "           bt(9, \n",
    "                bt(6, \n",
    "                       bt(2,\n",
    "                             None,\n",
    "                             bt(4)),\n",
    "                       bt(8))))\n",
    "print(t)"
   ]
  },
  {
   "cell_type": "code",
   "execution_count": 16,
   "metadata": {},
   "outputs": [
    {
     "data": {
      "text/plain": [
       "55"
      ]
     },
     "execution_count": 16,
     "metadata": {},
     "output_type": "execute_result"
    }
   ],
   "source": [
    "t.sum_rec()"
   ]
  },
  {
   "cell_type": "markdown",
   "metadata": {},
   "source": [
    "### 2.2  height_rec\n",
    "\n",
    "Let's say we want to know the height a tree, which is defined as 'the maximum depth of all the leaves'. We can think recursively as:\n",
    "\n",
    "- the height of a node without children is 0\n",
    "- the height of a node with only a left child is the height of the left node plus one\n",
    "- the height of a node with only a right child is the height of the right node plus one\n",
    "- the height of a node with both left and right children  is the maximum of the height of the left node and height of the right node, plus one\n",
    "\n",
    "Look at the example and try to convince yourself this makes sense:\n",
    "\n",
    "- in purple you see nodes corresponding heights\n",
    "- notice how leaves have all height 0"
   ]
  },
  {
   "cell_type": "markdown",
   "metadata": {},
   "source": [
    "![bt height 9893u3](img/bt-height.png)"
   ]
  },
  {
   "cell_type": "markdown",
   "metadata": {},
   "source": [
    "\n",
    "```python\n",
    "    def height_rec(self):\n",
    "        \"\"\" RETURN an integer which is the height of the tree\n",
    "\n",
    "            - implement it as recursive call which does NOT modify the tree\n",
    "              NOTE: with big trees a recursive solution would surely exceed\n",
    "                    the call stack, but here we don't mind\n",
    "            - A tree with only one node has height zero.\n",
    "\n",
    "```\n",
    "\n",
    "**Testing:**  `python3 -m unittest bin_tree_test.HeightRecTest`"
   ]
  },
  {
   "cell_type": "code",
   "execution_count": null,
   "metadata": {},
   "outputs": [],
   "source": []
  },
  {
   "cell_type": "markdown",
   "metadata": {},
   "source": [
    "\n",
    "### 2.3 depth_rec\n",
    "\n",
    "```python\n",
    "    def depth_rec(self, level):\n",
    "        \"\"\"\n",
    "            - MODIFIES the tree by putting in the data field the provided \n",
    "              value level (which is an integer),\n",
    "              and recursively calls itself on left and right nodes \n",
    "              (if present) passing level + 1\n",
    "            - implement it as a recursive Depth First Search (DFS) traversal\n",
    "              NOTE: with big trees a recursive solution would surely exceed\n",
    "                    the  call stack, but here we don't mind\n",
    "            - The root of a tree has depth zero.\n",
    "            - does not return anything\n",
    "```            \n",
    "\n",
    "**Testing:**  `python3 -m unittest bin_tree_test.DepthDfsTest`\n",
    "\n",
    "**Example**: For example, if we take this tree:"
   ]
  },
  {
   "cell_type": "code",
   "execution_count": 17,
   "metadata": {},
   "outputs": [
    {
     "name": "stdout",
     "output_type": "stream",
     "text": [
      "a\n",
      "├b\n",
      "│├c\n",
      "│└\n",
      "└d\n",
      " ├\n",
      " └e\n",
      "  ├f\n",
      "  └\n"
     ]
    }
   ],
   "source": [
    "t = bt('a', bt('b', bt('c'), None), bt('d', None, bt('e', bt('f'))))\n",
    "\n",
    "print(t)"
   ]
  },
  {
   "cell_type": "markdown",
   "metadata": {},
   "source": [
    "After a call do `depth_rec` on `t` passing 0 as starting level, all letters will be substituted by the tree depth at that point:"
   ]
  },
  {
   "cell_type": "code",
   "execution_count": 18,
   "metadata": {},
   "outputs": [],
   "source": [
    "t.depth_rec(0)"
   ]
  },
  {
   "cell_type": "code",
   "execution_count": 19,
   "metadata": {},
   "outputs": [
    {
     "name": "stdout",
     "output_type": "stream",
     "text": [
      "0\n",
      "├1\n",
      "│├2\n",
      "│└\n",
      "└1\n",
      " ├\n",
      " └2\n",
      "  ├3\n",
      "  └\n"
     ]
    }
   ],
   "source": [
    "print(t)"
   ]
  },
  {
   "cell_type": "markdown",
   "metadata": {},
   "source": [
    "### 2.4 contains_rec\n",
    "\n",
    "```python\n",
    "    def contains_rec(self, item):\n",
    "        \"\"\" RETURN True if at least one node in the tree has data equal \n",
    "            to item,  otherwise RETURN False.\n",
    "\n",
    "            - implement it as a recursive Depth First Search (DFS) traversal\n",
    "              NOTE: with big trees a recursive solution would surely exceed \n",
    "                    the  call stack, but here we don't mind            \n",
    "        \"\"\"\n",
    "```\n",
    "\n",
    "**Testing**: `python3 -m unittest bin_tree_test.ContainsRecTest`\n",
    "\n",
    "**Example**: "
   ]
  },
  {
   "cell_type": "code",
   "execution_count": 20,
   "metadata": {},
   "outputs": [],
   "source": [
    "t = bt('a',\n",
    "            bt('b',\n",
    "                    bt('c'), \n",
    "                    bt('d', \n",
    "                            None, \n",
    "                            bt('e'))),\n",
    "            bt('f', \n",
    "                    bt('g', \n",
    "                            bt('h')), \n",
    "                    bt('i')))"
   ]
  },
  {
   "cell_type": "code",
   "execution_count": 21,
   "metadata": {},
   "outputs": [
    {
     "name": "stdout",
     "output_type": "stream",
     "text": [
      "a\n",
      "├b\n",
      "│├c\n",
      "│└d\n",
      "│ ├\n",
      "│ └e\n",
      "└f\n",
      " ├g\n",
      " │├h\n",
      " │└\n",
      " └i\n"
     ]
    }
   ],
   "source": [
    "print(t)"
   ]
  },
  {
   "cell_type": "code",
   "execution_count": 22,
   "metadata": {},
   "outputs": [
    {
     "data": {
      "text/plain": [
       "True"
      ]
     },
     "execution_count": 22,
     "metadata": {},
     "output_type": "execute_result"
    }
   ],
   "source": [
    "t.contains_rec('g')"
   ]
  },
  {
   "cell_type": "code",
   "execution_count": 23,
   "metadata": {},
   "outputs": [
    {
     "data": {
      "text/plain": [
       "False"
      ]
     },
     "execution_count": 23,
     "metadata": {},
     "output_type": "execute_result"
    }
   ],
   "source": [
    "t.contains_rec('z')"
   ]
  },
  {
   "cell_type": "markdown",
   "metadata": {},
   "source": [
    "### 2.5 join_rec\n",
    "\n",
    "```python\n",
    "    def join_rec(self):\n",
    "        \"\"\" Supposing the tree nodes hold a character each, RETURN a STRING\n",
    "            holding all characters IN-ORDER\n",
    "\n",
    "            - implement it as a recursive Depth First Search (DFS) traversal\n",
    "              NOTE: with big trees a recursive solution would surely \n",
    "                    exceed the call stack, but here we don't mind            \n",
    "        \"\"\" \n",
    "```\n",
    "\n",
    "**Testing**: `python3 -m unittest bin_tree_test.JoinRecTest`"
   ]
  },
  {
   "cell_type": "code",
   "execution_count": 24,
   "metadata": {},
   "outputs": [],
   "source": [
    "t = bt('e', \n",
    "            bt('b',\n",
    "                    bt('a'), \n",
    "                    bt('c', \n",
    "                            None,\n",
    "                            bt('d'))),\n",
    "            bt('h', \n",
    "                    bt('g', \n",
    "                            bt('f')), \n",
    "                    bt('i')))"
   ]
  },
  {
   "cell_type": "code",
   "execution_count": 25,
   "metadata": {},
   "outputs": [
    {
     "name": "stdout",
     "output_type": "stream",
     "text": [
      "e\n",
      "├b\n",
      "│├a\n",
      "│└c\n",
      "│ ├\n",
      "│ └d\n",
      "└h\n",
      " ├g\n",
      " │├f\n",
      " │└\n",
      " └i\n"
     ]
    }
   ],
   "source": [
    "print(t)"
   ]
  },
  {
   "cell_type": "code",
   "execution_count": 26,
   "metadata": {},
   "outputs": [
    {
     "data": {
      "text/plain": [
       "'abcdefghi'"
      ]
     },
     "execution_count": 26,
     "metadata": {},
     "output_type": "execute_result"
    }
   ],
   "source": [
    "t.join_rec()"
   ]
  },
  {
   "cell_type": "markdown",
   "metadata": {},
   "source": [
    "### 2.6 fun_rec\n",
    "\n",
    "\n",
    "```python\n",
    "    def fun_rec(self):\n",
    "        \"\"\" Supposing the tree nodes hold expressions which can either be\n",
    "            functions or single variables, RETURN a string holding \n",
    "            the complete formula with needed parenthesis.\n",
    "\n",
    "            - implement it as a recursive Depth First Search (DFS)\n",
    "              PRE-ORDER visit\n",
    "            - NOTE: with big trees a recursive solution would surely \n",
    "                    exceed the call stack, but here we don't mind            \n",
    "        \"\"\" \n",
    "\n",
    "```\n",
    "\n",
    "**Testing**: `python3 -m unittest bin_tree_test.FunRecTest`\n",
    "\n",
    "**Example**:"
   ]
  },
  {
   "cell_type": "code",
   "execution_count": 27,
   "metadata": {},
   "outputs": [],
   "source": [
    "t = bt('f', \n",
    "            bt('g',\n",
    "                    bt('x'), \n",
    "                    bt('y')),\n",
    "            bt('f', \n",
    "                    bt('h', \n",
    "                            bt('z')), \n",
    "                    bt('w')))"
   ]
  },
  {
   "cell_type": "code",
   "execution_count": 28,
   "metadata": {},
   "outputs": [
    {
     "name": "stdout",
     "output_type": "stream",
     "text": [
      "f\n",
      "├g\n",
      "│├x\n",
      "│└y\n",
      "└f\n",
      " ├h\n",
      " │├z\n",
      " │└\n",
      " └w\n"
     ]
    }
   ],
   "source": [
    "print(t)"
   ]
  },
  {
   "cell_type": "code",
   "execution_count": 29,
   "metadata": {},
   "outputs": [
    {
     "data": {
      "text/plain": [
       "'f(g(x,y),f(h(z),w))'"
      ]
     },
     "execution_count": 29,
     "metadata": {},
     "output_type": "execute_result"
    }
   ],
   "source": [
    "t.fun_rec()"
   ]
  },
  {
   "cell_type": "markdown",
   "metadata": {},
   "source": [
    "### 2.7 bin_search_rec\n",
    "\n",
    "You are given a so-called binary search tree, which holds numbers as data, and all nodes respect this constraint:\n",
    "\n",
    "- if a node A holds a number strictly less than the number held by its parent node B, then node A must be a left child of B\n",
    "- if a node C holds a number greater or equal than its parent node B, then node C must be a right child of B"
   ]
  },
  {
   "cell_type": "markdown",
   "metadata": {},
   "source": [
    "![bt bin search 984uu43](img/bt-bin-search.png)"
   ]
  },
  {
   "cell_type": "code",
   "execution_count": 30,
   "metadata": {},
   "outputs": [
    {
     "name": "stdout",
     "output_type": "stream",
     "text": [
      "7\n",
      "├3\n",
      "│├2\n",
      "│└6\n",
      "└12\n",
      " ├8\n",
      " │├\n",
      " │└11\n",
      " │ ├9\n",
      " │ └\n",
      " └14\n",
      "  ├13\n",
      "  └\n"
     ]
    }
   ],
   "source": [
    "t = bt(7, \n",
    "             bt(3, \n",
    "                    bt(2), \n",
    "                    bt(6)),\n",
    "             bt(12, \n",
    "                    bt(8, \n",
    "                           None,\n",
    "                           bt(11,\n",
    "                                 bt(9))),\n",
    "                    bt(14, \n",
    "                           bt(13))))\n",
    "print(t)"
   ]
  },
  {
   "cell_type": "markdown",
   "metadata": {},
   "source": [
    "Implement following method:\n",
    "\n",
    "\n",
    "```python\n",
    "    \n",
    "    def bin_search_rec(self, m):\n",
    "        \"\"\" Assuming the tree is a binary search tree of integer numbers, \n",
    "            RETURN True if m is present in the tree, False otherwise\n",
    "        \n",
    "            - MUST EXECUTE IN O(height(t))\n",
    "            - NOTE: with big trees a recursive solution would surely \n",
    "                    exceed the call stack, but here we don't mind\n",
    "        \"\"\"\n",
    "        raise Exception(\"TODO IMPLEMENT ME !\")\n",
    "        \n",
    "```\n",
    "\n",
    "- **QUESTION**: what is the complexity in worst case scenario?\n",
    "- **QUESTION**: what is the complexity when tree is balanced?\n",
    "\n",
    "**Testing**: `python3 -m unittest bin_tree_test.BinSearchRecTest`"
   ]
  },
  {
   "cell_type": "markdown",
   "metadata": {},
   "source": [
    "### 2.8 univalued_rec\n",
    "\n",
    "```python\n",
    "    def univalued_rec(self):\n",
    "        \"\"\" RETURN True if the tree is univalued, otherwise RETURN False. \n",
    "\n",
    "            - a tree is univalued when all nodes have the same value as data\n",
    "            - MUST execute in O(n) where n is the number of nodes of the tree\n",
    "            - NOTE: with big trees a recursive solution would surely \n",
    "                    exceed the call stack, but here we don't mind\n",
    "        \"\"\"\n",
    "```\n",
    "\n",
    "**Testing**: `python3 -m unittest bin_tree_test.UnivaluedRecTest`\n",
    "\n",
    "**Example**: "
   ]
  },
  {
   "cell_type": "code",
   "execution_count": 31,
   "metadata": {},
   "outputs": [
    {
     "name": "stdout",
     "output_type": "stream",
     "text": [
      "3\n",
      "├3\n",
      "└3\n",
      " ├3\n",
      " │├3\n",
      " ││├\n",
      " ││└3\n",
      " │└\n",
      " └\n"
     ]
    }
   ],
   "source": [
    "t = bt(3, bt(3), bt(3, bt(3, bt(3, None, bt(3)))))\n",
    "print(t)"
   ]
  },
  {
   "cell_type": "code",
   "execution_count": 32,
   "metadata": {},
   "outputs": [
    {
     "data": {
      "text/plain": [
       "True"
      ]
     },
     "execution_count": 32,
     "metadata": {},
     "output_type": "execute_result"
    }
   ],
   "source": [
    "t.univalued_rec()"
   ]
  },
  {
   "cell_type": "code",
   "execution_count": 33,
   "metadata": {},
   "outputs": [
    {
     "name": "stdout",
     "output_type": "stream",
     "text": [
      "2\n",
      "├3\n",
      "└6\n",
      " ├3\n",
      " │├3\n",
      " ││├\n",
      " ││└3\n",
      " │└\n",
      " └\n"
     ]
    }
   ],
   "source": [
    "t = bt(2, bt(3), bt(6, bt(3, bt(3, None, bt(3)))))\n",
    "print(t)"
   ]
  },
  {
   "cell_type": "code",
   "execution_count": 34,
   "metadata": {},
   "outputs": [
    {
     "data": {
      "text/plain": [
       "False"
      ]
     },
     "execution_count": 34,
     "metadata": {},
     "output_type": "execute_result"
    }
   ],
   "source": [
    "t.univalued_rec()"
   ]
  },
  {
   "cell_type": "markdown",
   "metadata": {},
   "source": [
    "### 2.9 same_rec\n",
    "\n",
    "```python\n",
    "    def same_rec(self, other):\n",
    "        \"\"\" RETURN True if this binary tree is equal to other binary tree,\n",
    "            otherwise return False.\n",
    "            \n",
    "            - MUST execute in O(n) where n is the number of nodes of the tree\n",
    "            - NOTE: with big trees a recursive solution would surely \n",
    "                    exceed the call stack, but here we don't mind\n",
    "            - HINT: defining a helper function \n",
    "                    \n",
    "                    def helper(t1, t2):\n",
    "\n",
    "                    which recursively calls itself and assumes both of the\n",
    "                    inputs can be None may reduce the number of ifs to write.\n",
    "        \"\"\"\n",
    "```\n",
    "\n",
    "**Testing**: `python3 -m unittest bin_tree_test.SameRecTest`"
   ]
  },
  {
   "cell_type": "markdown",
   "metadata": {},
   "source": [
    "### 2.10 sum_leaves_rec\n",
    "\n",
    "We will now go looking for leaves, that is, nodes with no children:\n",
    "\n",
    "![bt leaves numbers 98udfuj](img/bt-leaves-numbers.png)\n",
    "\n",
    "\n",
    "✪✪ Implement this method:\n",
    "\n",
    "```python    \n",
    "    def sum_leaves_rec(self):\n",
    "        \"\"\" Supposing the tree holds integer numbers in all nodes,\n",
    "            RETURN the sum of ONLY the numbers in the leaves.\n",
    "\n",
    "            - a root with no children is considered a leaf\n",
    "            - implement it as a recursive Depth First Search (DFS) traversal\n",
    "              NOTE: with big trees a recursive solution would surely \n",
    "                    exceed the call stack, but here we don't mind            \n",
    "        \"\"\" \n",
    "```     \n",
    "\n",
    "**Testing**: `python3 -m unittest bin_tree_test.SumLeavesRecTest`\n",
    "\n",
    "**Example**: "
   ]
  },
  {
   "cell_type": "code",
   "execution_count": 35,
   "metadata": {},
   "outputs": [
    {
     "data": {
      "text/plain": [
       "18"
      ]
     },
     "execution_count": 35,
     "metadata": {},
     "output_type": "execute_result"
    }
   ],
   "source": [
    "t = bt(3, \n",
    "        bt(10,\n",
    "                bt(1), \n",
    "                bt(7, \n",
    "                    bt(5))),\n",
    "        bt(9, \n",
    "                bt(6, \n",
    "                    bt(2,\n",
    "                            None,\n",
    "                            bt(4)),\n",
    "                    bt(8))))\n",
    "\n",
    "t.sum_leaves_rec()  #  1 + 5 + 4 + 8"
   ]
  },
  {
   "cell_type": "markdown",
   "metadata": {},
   "source": [
    "### 2.11 schedule_rec\n",
    "\n",
    "Suppose the nodes of a binary tree represent tasks (nodes data is the task label). Each task may have up to two subtasks, represented by its children. To be declared as completed, each task requires first the completion of all of its subtasks.\n",
    "\n",
    "We want to create a schedule of tasks, so that to declare completed the task at the root of the tree, before all tasks below it must be  completed, specifically first the tasks on the left side, and then the tasks on the right side. If you apply this reasoning recursively, you can obtain a schedule of tasks to be executed.\n",
    "\n",
    "\n",
    "```python\n",
    "    def schedule_rec(self):\n",
    "        \"\"\" RETURN a list of task labels in the order they will be completed.\n",
    "\n",
    "            - Implement it with recursive calls.\n",
    "            - MUST run in O(n) where n is the size of the tree\n",
    "            \n",
    "            NOTE: with big trees a recursive solution would surely\n",
    "                  exceed the call stack, but here we don't mind\n",
    "        \"\"\"\n",
    "```\n",
    "\n",
    "**Testing**: `python3 -m unittest bin_tree_test.ScheduleRecTest`"
   ]
  },
  {
   "cell_type": "markdown",
   "metadata": {},
   "source": [
    "**Example**:\n",
    "\n",
    "For this tree, it should return the schedule `['a', 'b', 'c', 'd', 'e', 'f', 'g', 'h', 'i']`\n",
    "\n",
    "![abc](img/bt-tasks.png)"
   ]
  },
  {
   "cell_type": "markdown",
   "metadata": {},
   "source": [
    "Here we show code execution with the same tree:"
   ]
  },
  {
   "cell_type": "code",
   "execution_count": 36,
   "metadata": {},
   "outputs": [],
   "source": [
    "from bin_tree_sol import *\n",
    "from bin_tree_test import bt"
   ]
  },
  {
   "cell_type": "code",
   "execution_count": 37,
   "metadata": {},
   "outputs": [],
   "source": [
    "tasks = bt('i',\n",
    "                bt('d', \n",
    "                        bt('b',\n",
    "                                bt('a')),\n",
    "                        bt('c')),\n",
    "                bt('h',\n",
    "                        bt('f',\n",
    "                                None,\n",
    "                                bt('e')),\n",
    "                        bt('g')))\n"
   ]
  },
  {
   "cell_type": "code",
   "execution_count": 38,
   "metadata": {},
   "outputs": [
    {
     "name": "stdout",
     "output_type": "stream",
     "text": [
      "i\n",
      "├d\n",
      "│├b\n",
      "││├a\n",
      "││└\n",
      "│└c\n",
      "└h\n",
      " ├f\n",
      " │├\n",
      " │└e\n",
      " └g\n"
     ]
    }
   ],
   "source": [
    "print(tasks)"
   ]
  },
  {
   "cell_type": "code",
   "execution_count": 90,
   "metadata": {
    "scrolled": false
   },
   "outputs": [
    {
     "data": {
      "text/plain": [
       "['a', 'b', 'c', 'd', 'e', 'f', 'g', 'h', 'i']"
      ]
     },
     "execution_count": 90,
     "metadata": {},
     "output_type": "execute_result"
    }
   ],
   "source": [
    "tasks.schedule_rec()"
   ]
  },
  {
   "cell_type": "markdown",
   "metadata": {},
   "source": [
    "### 2.12 paths_slow_rec\n",
    "\n",
    "\n",
    "\n",
    "\n",
    "Try giving two implementations: first try reasoning case by case, and give an implementation which uses `+` operator or `.extend` method, which should be pretty straight forward \n",
    "\n",
    "- **DO NOT** use `.append` (we will reserve it for the fast implementation)"
   ]
  },
  {
   "cell_type": "code",
   "execution_count": 141,
   "metadata": {},
   "outputs": [],
   "source": [
    "from bin_tree_sol import *\n",
    "\n",
    "t = bt('a',\n",
    "                bt('b', \n",
    "                        bt('d',\n",
    "                                bt('h')),\n",
    "                        bt('e')),\n",
    "                bt('c',\n",
    "                        bt('f',\n",
    "                                None,\n",
    "                                bt('i', \n",
    "                                         bt('l'),\n",
    "                                         bt('m'))),\n",
    "                        bt('g')))\n"
   ]
  },
  {
   "cell_type": "code",
   "execution_count": 125,
   "metadata": {},
   "outputs": [
    {
     "data": {
      "image/png": "[encoded data removed]",
      "text/plain": [
       "<IPython.core.display.Image object>"
      ]
     },
     "metadata": {},
     "output_type": "display_data"
    }
   ],
   "source": [
    "from sciprog import draw_bt\n",
    "draw_bt(t)"
   ]
  },
  {
   "cell_type": "code",
   "execution_count": 122,
   "metadata": {},
   "outputs": [
    {
     "data": {
      "text/plain": [
       "[['a', 'b', 'd', 'h'],\n",
       " ['a', 'b', 'e'],\n",
       " ['a', 'c', 'f', 'i', 'l'],\n",
       " ['a', 'c', 'f', 'i', 'm'],\n",
       " ['a', 'c', 'g']]"
      ]
     },
     "execution_count": 122,
     "metadata": {},
     "output_type": "execute_result"
    }
   ],
   "source": [
    "t.paths_slow_rec()"
   ]
  },
  {
   "cell_type": "code",
   "execution_count": 121,
   "metadata": {},
   "outputs": [],
   "source": [
    "### 2.13 paths_fast_rec\n",
    "\n"
   ]
  },
  {
   "cell_type": "markdown",
   "metadata": {},
   "source": [
    "## 3. Stack visit\n",
    "\n",
    "To avoid getting 'Recursion limit exceeded' errors which can happen with Python, instead of using recursion we can implement tree operations with a while cycle and a stack (or a queue, depending on the case). \n",
    "\n",
    "Typically, in these algorithms you follow this recipe:\n",
    "\n",
    "- at the beginning you put inside the stack the current node on which the method is called\n",
    "- you keep executing the while until the stack is empty\n",
    "- inside the while, you pop the stack and do some processing on the popped node data\n",
    "- if the node has children, you put them on the stack\n",
    "\n",
    "We will try to reimplement this way methods we've already seen."
   ]
  },
  {
   "cell_type": "markdown",
   "metadata": {},
   "source": [
    "### 3.1 sum_stack\n",
    "\n",
    "Implement `sum_stack`\n",
    "\n",
    "```python\n",
    "    def sum_stack(self):\n",
    "        \"\"\" Supposing the tree holds integer numbers in all nodes,\n",
    "            RETURN the sum of the numbers.\n",
    "            \n",
    "            - DO *NOT* use recursion\n",
    "            - implement it with a while and a stack (as a python list)\n",
    "            - In the stack place nodes to process\n",
    "        \"\"\" \n",
    "\n",
    "```\n",
    "\n",
    "**Testing**: `python3 -m unittest bin_tree_test.SumStackTest`"
   ]
  },
  {
   "cell_type": "markdown",
   "metadata": {},
   "source": [
    "![bt su iuiu4383](img/bt-sum.png)"
   ]
  },
  {
   "cell_type": "markdown",
   "metadata": {},
   "source": [
    "### 3.3 height_stack\n",
    "\n",
    "The idea of this function is not that different from the [Tasks do_level exercise](https://sciprog.davidleoni.it/stacks/stacks.html#5.2-do_level) we've seen in the lab about stacks\n",
    "\n",
    "```python\n",
    "    def height_stack(self):\n",
    "        \"\"\" RETURN an integer which is the height of the tree\n",
    "\n",
    "            - A tree with only one node has height zero.\n",
    "            - DO *NOT* use recursion\n",
    "            - implement it with a while and a stack (as a python list). \n",
    "            - In the stack place *tuples* holding a node *and* its level\n",
    "            \n",
    "        \"\"\"\n",
    "```\n",
    "\n",
    "**Testing**: `python3 -m unittest bin_tree_test.HeightStackTest`"
   ]
  },
  {
   "cell_type": "markdown",
   "metadata": {},
   "source": [
    "![bt height 989uure](img/bt-height.png)"
   ]
  },
  {
   "cell_type": "markdown",
   "metadata": {},
   "source": [
    "### 3.3 leaves_stack\n",
    "\n",
    "✪✪✪ Implement this method:\n",
    "\n",
    "```python\n",
    "    def leaves_stack(self):\n",
    "        \"\"\" RETURN a list holding the *data* of all the leaves  of the tree,\n",
    "            in left to right order.\n",
    "\n",
    "            - a root with no children is considered a leaf\n",
    "            - DO *NOT* use recursion\n",
    "            - implement it with a while and a stack (as a Python list)            \n",
    "        \"\"\"        \n",
    "```\n",
    "\n",
    "**Testing**: `python3 -m unittest bin_tree_test.LeavesStackTest`\n",
    "\n",
    "**Example:**"
   ]
  },
  {
   "cell_type": "code",
   "execution_count": 40,
   "metadata": {},
   "outputs": [
    {
     "data": {
      "text/plain": [
       "['c', 'e', 'h', 'i']"
      ]
     },
     "execution_count": 40,
     "metadata": {},
     "output_type": "execute_result"
    }
   ],
   "source": [
    "\n",
    "t = bt('a', \n",
    "            bt('b',\n",
    "                    bt('c'), \n",
    "                    bt('d', \n",
    "                            None,\n",
    "                            bt('e'))),\n",
    "            bt('f', \n",
    "                    bt('g', \n",
    "                            bt('h')), \n",
    "                    bt('i')))\n",
    "t.leaves_stack()"
   ]
  },
  {
   "cell_type": "markdown",
   "metadata": {},
   "source": [
    "### 3.4 others\n",
    "\n",
    "Hopefully you got an idea of how stack recursion works, now you could try to implement by yourself previously defined recursive functions, this time using a while and a stack (or a queue, depending on what you are trying to achieve)."
   ]
  },
  {
   "cell_type": "markdown",
   "metadata": {},
   "source": [
    "## 4. Modifying the tree"
   ]
  },
  {
   "cell_type": "markdown",
   "metadata": {},
   "source": [
    "### 4.1 bin_insert_rec\n",
    "\n",
    "```python\n",
    "def bin_insert_rec(self, m):\n",
    "    \"\"\" Assuming the tree is a binary search tree of integer numbers, \n",
    "        MODIFIES the tree by inserting a new node with the value m\n",
    "        in the appropriate position. Node is always added as a leaf.\n",
    "\n",
    "        - MUST EXECUTE IN O(height(t))\n",
    "        - NOTE: with big trees a recursive solution would surely \n",
    "                exceed the call stack, but here we don't mind\n",
    "    \"\"\"\n",
    "```     \n",
    "\n",
    "**Testing**: `python3 -m unittest bin_tree_test.BinInsertRecTest`\n",
    "\n",
    "**Example**:"
   ]
  },
  {
   "cell_type": "code",
   "execution_count": 41,
   "metadata": {},
   "outputs": [
    {
     "name": "stdout",
     "output_type": "stream",
     "text": [
      "7\n"
     ]
    }
   ],
   "source": [
    "\n",
    "t = bt(7)\n",
    "print(t)"
   ]
  },
  {
   "cell_type": "code",
   "execution_count": 42,
   "metadata": {},
   "outputs": [
    {
     "name": "stdout",
     "output_type": "stream",
     "text": [
      "7\n",
      "├3\n",
      "└\n"
     ]
    }
   ],
   "source": [
    "t.bin_insert_rec(3)\n",
    "print(t)"
   ]
  },
  {
   "cell_type": "code",
   "execution_count": 43,
   "metadata": {},
   "outputs": [
    {
     "name": "stdout",
     "output_type": "stream",
     "text": [
      "7\n",
      "├3\n",
      "│├\n",
      "│└6\n",
      "└\n"
     ]
    }
   ],
   "source": [
    "t.bin_insert_rec(6)\n",
    "print(t)"
   ]
  },
  {
   "cell_type": "code",
   "execution_count": 44,
   "metadata": {},
   "outputs": [
    {
     "name": "stdout",
     "output_type": "stream",
     "text": [
      "7\n",
      "├3\n",
      "│├2\n",
      "│└6\n",
      "└\n"
     ]
    }
   ],
   "source": [
    "t.bin_insert_rec(2)\n",
    "print(t)"
   ]
  },
  {
   "cell_type": "code",
   "execution_count": 45,
   "metadata": {},
   "outputs": [
    {
     "name": "stdout",
     "output_type": "stream",
     "text": [
      "7\n",
      "├3\n",
      "│├2\n",
      "│└6\n",
      "└12\n"
     ]
    }
   ],
   "source": [
    "t.bin_insert_rec(12)\n",
    "print(t)"
   ]
  },
  {
   "cell_type": "code",
   "execution_count": 46,
   "metadata": {},
   "outputs": [
    {
     "name": "stdout",
     "output_type": "stream",
     "text": [
      "7\n",
      "├3\n",
      "│├2\n",
      "│└6\n",
      "└12\n",
      " ├\n",
      " └14\n"
     ]
    }
   ],
   "source": [
    "t.bin_insert_rec(14)\n",
    "print(t)"
   ]
  },
  {
   "cell_type": "code",
   "execution_count": 47,
   "metadata": {},
   "outputs": [
    {
     "name": "stdout",
     "output_type": "stream",
     "text": [
      "7\n",
      "├3\n",
      "│├2\n",
      "│└6\n",
      "└12\n",
      " ├\n",
      " └14\n",
      "  ├13\n",
      "  └\n"
     ]
    }
   ],
   "source": [
    "t.bin_insert_rec(13)\n",
    "print(t)"
   ]
  },
  {
   "cell_type": "code",
   "execution_count": 48,
   "metadata": {},
   "outputs": [
    {
     "name": "stdout",
     "output_type": "stream",
     "text": [
      "7\n",
      "├3\n",
      "│├2\n",
      "│└6\n",
      "└12\n",
      " ├8\n",
      " └14\n",
      "  ├13\n",
      "  └\n"
     ]
    }
   ],
   "source": [
    "t.bin_insert_rec(8)\n",
    "print(t)"
   ]
  },
  {
   "cell_type": "code",
   "execution_count": 49,
   "metadata": {},
   "outputs": [
    {
     "name": "stdout",
     "output_type": "stream",
     "text": [
      "7\n",
      "├3\n",
      "│├2\n",
      "│└6\n",
      "└12\n",
      " ├8\n",
      " │├\n",
      " │└11\n",
      " └14\n",
      "  ├13\n",
      "  └\n"
     ]
    }
   ],
   "source": [
    "t.bin_insert_rec(11)\n",
    "print(t)"
   ]
  },
  {
   "cell_type": "code",
   "execution_count": 50,
   "metadata": {
    "scrolled": true
   },
   "outputs": [
    {
     "name": "stdout",
     "output_type": "stream",
     "text": [
      "7\n",
      "├3\n",
      "│├2\n",
      "│└6\n",
      "└12\n",
      " ├8\n",
      " │├\n",
      " │└11\n",
      " │ ├9\n",
      " │ └\n",
      " └14\n",
      "  ├13\n",
      "  └\n"
     ]
    }
   ],
   "source": [
    "t.bin_insert_rec(9)\n",
    "print(t)"
   ]
  },
  {
   "cell_type": "markdown",
   "metadata": {},
   "source": [
    "### 4.2 add_row\n",
    "\n",
    "![tree iu9fidomnv](img/bt-tree-last-row.jpg)"
   ]
  },
  {
   "cell_type": "markdown",
   "metadata": {},
   "source": [
    "```python\n",
    "    def add_row(self, elems):\n",
    "        \"\"\" Takes as input a list of data and MODIFIES the tree by adding\n",
    "            a row of new leaves, each having as data one element of elems,\n",
    "            in order.\n",
    "            \n",
    "            - elems size can be less than 2*|leaves|\n",
    "            - if elems size is more than 2*|leaves|, raises ValueError\n",
    "            - for simplicity, you can assume assume self is a perfect \n",
    "              binary tree, that is a binary tree in which all interior nodes \n",
    "              have two children and all leaves have the same depth\n",
    "            - MUST execute in O(n+|elems|)  where n is the size of the tree\n",
    "            - DO *NOT* use recursion\n",
    "            - implement it with a while and a stack (as a Python list)\n",
    "        \"\"\"        \n",
    "```\n",
    "\n",
    "\n",
    "**Test**: `python3 -m unittest bin_tree_test.AddRowTest`\n",
    "\n",
    "**Example**: "
   ]
  },
  {
   "cell_type": "code",
   "execution_count": 51,
   "metadata": {},
   "outputs": [
    {
     "name": "stdout",
     "output_type": "stream",
     "text": [
      "a\n",
      "├b\n",
      "│├d\n",
      "│└e\n",
      "└c\n",
      " ├f\n",
      " └g\n"
     ]
    }
   ],
   "source": [
    "from bin_tree_sol import *\n",
    "from bin_tree_test import bt\n",
    "\n",
    "t = bt('a', \n",
    "            bt('b',\n",
    "                    bt('d'), \n",
    "                    bt('e')),\n",
    "            bt('c', \n",
    "                    bt('f'),                                    \n",
    "                    bt('g')))\n",
    "\n",
    "print(t)"
   ]
  },
  {
   "cell_type": "code",
   "execution_count": 52,
   "metadata": {},
   "outputs": [],
   "source": [
    "t.add_row(['h','i','j','k','l'])"
   ]
  },
  {
   "cell_type": "code",
   "execution_count": 53,
   "metadata": {
    "scrolled": false
   },
   "outputs": [
    {
     "name": "stdout",
     "output_type": "stream",
     "text": [
      "a\n",
      "├b\n",
      "│├d\n",
      "││├h\n",
      "││└i\n",
      "│└e\n",
      "│ ├j\n",
      "│ └k\n",
      "└c\n",
      " ├f\n",
      " │├l\n",
      " │└\n",
      " └g\n"
     ]
    }
   ],
   "source": [
    "print(t)"
   ]
  },
  {
   "cell_type": "markdown",
   "metadata": {},
   "source": [
    "### 4.3 prune_rec\n",
    "\n",
    "\n",
    "Implement the method `prune_rec`:\n",
    "\n",
    "```python\n",
    "    def prune_rec(self, el):\n",
    "        \"\"\" MODIFIES the tree by cutting all the subtrees that have their \n",
    "            root node data equal to el. By 'cutting' we mean they are no longer linked \n",
    "            by the tree on which prune is called.\n",
    "\n",
    "            - if prune is called on a node having data equal to el, raises ValueError\n",
    "            \n",
    "            - MUST execute in O(n) where n is the number of nodes of the tree\n",
    "            - NOTE: with big trees a recursive solution would surely \n",
    "                    exceed the call stack, but here we don't mind\n",
    "        \"\"\"\n",
    "```\n",
    "\n",
    "**Testing**: `python3 -m unittest bin_tree_test.PruneRecTest`\n",
    "\n",
    "**Example**:"
   ]
  },
  {
   "cell_type": "code",
   "execution_count": 54,
   "metadata": {},
   "outputs": [],
   "source": [
    "from bin_tree_sol import *\n",
    "from bin_tree_test import bt"
   ]
  },
  {
   "cell_type": "code",
   "execution_count": 55,
   "metadata": {},
   "outputs": [],
   "source": [
    "t = bt('a',\n",
    "            bt('b',\n",
    "                   bt('z'),\n",
    "                   bt('c',\n",
    "                        bt('d'),\n",
    "                        bt('z',\n",
    "                               None,\n",
    "                               bt('e')))),\n",
    "            bt('z', \n",
    "                   bt('f'),\n",
    "                   bt('z', \n",
    "                          None,\n",
    "                          bt('g'))))"
   ]
  },
  {
   "cell_type": "code",
   "execution_count": 56,
   "metadata": {},
   "outputs": [
    {
     "name": "stdout",
     "output_type": "stream",
     "text": [
      "a\n",
      "├b\n",
      "│├z\n",
      "│└c\n",
      "│ ├d\n",
      "│ └z\n",
      "│  ├\n",
      "│  └e\n",
      "└z\n",
      " ├f\n",
      " └z\n",
      "  ├\n",
      "  └g\n"
     ]
    }
   ],
   "source": [
    "print(t)"
   ]
  },
  {
   "cell_type": "code",
   "execution_count": 57,
   "metadata": {},
   "outputs": [],
   "source": [
    "t.prune_rec('z')"
   ]
  },
  {
   "cell_type": "code",
   "execution_count": 58,
   "metadata": {},
   "outputs": [
    {
     "name": "stdout",
     "output_type": "stream",
     "text": [
      "a\n",
      "├b\n",
      "│├\n",
      "│└c\n",
      "│ ├d\n",
      "│ └\n",
      "└\n"
     ]
    }
   ],
   "source": [
    "print(t)"
   ]
  },
  {
   "cell_type": "code",
   "execution_count": 59,
   "metadata": {},
   "outputs": [],
   "source": [
    "t.prune_rec('c')"
   ]
  },
  {
   "cell_type": "code",
   "execution_count": 60,
   "metadata": {},
   "outputs": [
    {
     "name": "stdout",
     "output_type": "stream",
     "text": [
      "a\n",
      "├b\n",
      "└\n"
     ]
    }
   ],
   "source": [
    "print(t)"
   ]
  },
  {
   "cell_type": "markdown",
   "metadata": {},
   "source": [
    "Trying to prune the root will throw a `ValueError`:"
   ]
  },
  {
   "cell_type": "markdown",
   "metadata": {},
   "source": [
    "```python\n",
    "t.prune_rec('a')\n",
    "\n",
    "---------------------------------------------------------------------------\n",
    "ValueError                                Traceback (most recent call last)\n",
    "<ipython-input-27-f8e8fa8a97dd> in <module>()\n",
    "----> 1 t.prune_rec('a')\n",
    "\n",
    "ValueError: Tried to prune the tree root !\n",
    "```    "
   ]
  },
  {
   "cell_type": "markdown",
   "metadata": {},
   "source": [
    "## Further resources\n",
    "\n",
    "See [Trees exercises](https://leetcode.com/tag/tree/) on LeetCode (sort by easy difficulty), for example: \n",
    "\n",
    "\n",
    "* [Sum range of BST](https://leetcode.com/problems/range-sum-of-bst/)"
   ]
  },
  {
   "cell_type": "code",
   "execution_count": 61,
   "metadata": {
    "nbsphinx": "hidden",
    "scrolled": true
   },
   "outputs": [
    {
     "name": "stderr",
     "output_type": "stream",
     "text": [
      "................................................................................................................\n",
      "----------------------------------------------------------------------\n",
      "Ran 112 tests in 0.085s\n",
      "\n",
      "OK\n"
     ]
    }
   ],
   "source": [
    "# plese ignore this cell\n",
    "import bin_tree_test\n",
    "jupman.run(bin_tree_test)\n"
   ]
  },
  {
   "cell_type": "code",
   "execution_count": null,
   "metadata": {},
   "outputs": [],
   "source": []
  }
 ],
 "metadata": {
  "celltoolbar": "Edit Metadata",
  "kernelspec": {
   "display_name": "Python 3",
   "language": "python",
   "name": "python3"
  },
  "language_info": {
   "codemirror_mode": {
    "name": "ipython",
    "version": 3
   },
   "file_extension": ".py",
   "mimetype": "text/x-python",
   "name": "python",
   "nbconvert_exporter": "python",
   "pygments_lexer": "ipython3",
   "version": "3.7.9"
  },
  "toc": {
   "base_numbering": 1,
   "nav_menu": {},
   "number_sections": false,
   "sideBar": true,
   "skip_h1_title": false,
   "title_cell": "Table of Contents",
   "title_sidebar": "Contents",
   "toc_cell": false,
   "toc_position": {
    "height": "calc(100% - 180px)",
    "left": "10px",
    "top": "150px",
    "width": "299px"
   },
   "toc_section_display": true,
   "toc_window_display": true
  }
 },
 "nbformat": 4,
 "nbformat_minor": 1
}
