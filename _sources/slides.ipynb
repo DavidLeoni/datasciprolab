{
 "cells": [
  {
   "cell_type": "markdown",
   "metadata": {},
   "source": [
    "# Slides 2020/21\n",
    "\n",
    "[old 2019/20 slides](old-slides.ipynb)"
   ]
  },
  {
   "cell_type": "markdown",
   "metadata": {},
   "source": [
    "\n",
    "## Part A\n",
    "\n",
    "### Lab A.1\n",
    "\n",
    "Wednesday 23 Sep 2020\n",
    "\n",
    "#### Links\n",
    "\n",
    "lab site:  [sciprog.davidleoni.it](https://sciprog.davidleoni.it)\n",
    "\n",
    "* [Installation](installation.ipynb) from sciprog, with links to relevant SoftPython stuff\n",
    "* [Tools and Scripts on SoftPython](https://en.softpython.org/tools/tools-sol.html) : describes Jupyter and other things are described more in detail\n",
    "* [Python basics](https://en.softpython.org/basics/basics-sol.html) : hopefully we will see something (try doing them at home anyway)"
   ]
  },
  {
   "cell_type": "markdown",
   "metadata": {},
   "source": [
    "\n",
    "\n",
    "#### What I expect\n",
    "\n",
    "- if you don't program in Python, you don't learn Python\n",
    "- you don't learn Python if you don't program in Python\n",
    "- to be a successful data scientist, you must know programming\n",
    "- **Exercise**: now put the right priorities in your TODO list ;-)\n",
    "\n",
    "#### Course contents\n",
    "\n",
    "- Hands-on approach\n",
    "\n",
    "**Part A - python intro**\n",
    "\n",
    "- logic basics\n",
    "- discrete structures basics\n",
    "- python basics\n",
    "- data cleaning\n",
    "- format conversion (matrices, tables, graphs, ...)\n",
    "- visualization (matplotlib, graphviz)\n",
    "- some analytics (with pandas)\n",
    "- focus on correct code, don't care about performance\n",
    "- plus: some software engineering wisdom\n",
    "\n",
    "**Part A exams**: \n",
    "\n",
    "There will always be some practical structured exercise.\n",
    "\n",
    "Examples:\n",
    "\n",
    "- [analizing employees of University of Trento](https://sciprog.davidleoni.it/exams/2019-08-26/solutions/exam-2019-08-26-sol.html#Part-A---University-of-Trento-staff)\n",
    "- [visualizing intercity bus network](https://sciprog.davidleoni.it/exams/2019-02-13/solutions/exam-2019-02-13-sol.html#Part-A---Bus-network-visualization)\n",
    "- [extracting categories from workshops of Trentino](https://sciprog.davidleoni.it/exams/2019-07-02/solutions/exam-2019-07-02-sol.html#A1-Botteghe-storiche)\n",
    "\n",
    "Sometimes, there can also be a more abstract thing with matrices / relations, (i.e.  [surjective relation](https://sciprog.davidleoni.it/exams/2018-11-16/solutions/exam-2018-11-16-sol.html#A2-surjective))\n",
    "    \n",
    "\n",
    "[DO read the exam rules](https://sciprog.davidleoni.it/#Exams)\n",
    "\n",
    "**Part B - algorithms**\n",
    "\n",
    "- going from theory taught by Prof. Luca Bianco to Python 3 implementation\n",
    "- performance matters\n",
    "- few Python functions\n",
    "\n",
    " "
   ]
  },
  {
   "cell_type": "markdown",
   "metadata": {},
   "source": [
    "### Lab A.2\n",
    "\n",
    "Monday 28 Sep 2020\n",
    "\n",
    "* Lesson:\n",
    "    - [Finish Basics](strings/strings-sol.ipynb) (NOTE: redownload it, was updated)  \n",
    "    - References: [Andrea Passerini - Introduction to Python slides](http://disi.unitn.it/~passerini/teaching/2020-2021/sci-pro/slides/A01-introduction.pdf)\n",
    "* Lesson: \n",
    "    - [Strings1 - Introduction](https://en.softpython.org/strings/strings1-sol.html)\n",
    "    - [Strings2 - Operators](https://en.softpython.org/strings/strings2-sol.html)\n",
    "    - [Strings3 - Methods](https://en.softpython.org/strings/strings3-sol.html) \n",
    "    - (a fourth page remains to be added)\n",
    "    - References: [Andrea Passerini - data structures slides](http://disi.unitn.it/~passerini/teaching/2020-2021/sci-pro/slides/A02-datastructures.pdf)\n"
   ]
  },
  {
   "cell_type": "markdown",
   "metadata": {},
   "source": [
    "## Lab A.3\n",
    "\n",
    "Wednesday 30 Set 2020\n",
    "\n",
    "* Lesson: \n",
    "    - [Lists1 - Introduction](https://en.softpython.org/lists/lists1-sol.html)\n",
    "    - [Lists2 - Operators](https://en.softpython.org/lists/lists2-sol.html)\n",
    "    - [Lists3 - Methods](https://en.softpython.org/lists/lists3-sol.html) \n",
    "    - (a fourth page remains to be added)\n",
    "    - References: [Andrea Passerini - data structures slides](http://disi.unitn.it/~passerini/teaching/2020-2021/sci-pro/slides/A02-datastructures.pdf)\n",
    "    \n",
    "**For ealtime stuff during the lab, see this repl:** \n",
    "\n",
    "https://repl.it/@DavidLeoniWork/sciprog-ds-lab-2020-21\n"
   ]
  },
  {
   "cell_type": "markdown",
   "metadata": {},
   "source": [
    "## Lab A.4\n",
    "\n",
    "Monday 5 Oct 2020\n",
    "\n",
    "* Lessons (now English links are finally online!)\n",
    "    - [Tuples](https://en.softpython.org/tuples/tuples-sol.html)\n",
    "    - [Sets](https://en.softpython.org/sets/sets-sol.html)\n",
    "    - [Dictionaries1 - Introduction](https://en.softpython.org/dictionaries/dictionaries1-sol.html)\n",
    "    - [Dictionaries2 - Operators](https://en.softpython.org/dictionaries/dictionaries2-sol.html)\n",
    "    - [Dictionaries3 - Methods](https://en.softpython.org/dictionaries/dictionaries3-sol.html) \n",
    "    - (a fourth and fifth pages remain to be added)\n",
    "    - References: [Andrea Passerini - data structures slides](http://disi.unitn.it/~passerini/teaching/2020-2021/sci-pro/slides/A02-datastructures.pdf)\n",
    "    - [Real Python sets](https://realpython.com/python-sets/)\n",
    "    \n",
    "**For realtime stuff during the lab, see this repl:** \n",
    "\n",
    "https://repl.it/@DavidLeoniWork/sciprog-ds-lab-2020-21\n",
    "\n",
    "\n",
    "I copy here last weekend announcment:\n",
    "\n",
    "I added here some links to exercises:   https://en.softpython.org/references.html\n",
    "\n",
    "- Beginners:  try  W3Resources\n",
    "- Intermediate: exercises from LeetCode and first tutorial from Software Carpentry\n",
    "- Math-oriented people:  try Introduction to Scientific Programming with Python by Joakim Sundnes\n"
   ]
  },
  {
   "cell_type": "markdown",
   "metadata": {},
   "source": [
    "## Lab A.5\n",
    "\n",
    "Wednesday 7 Oct 2020\n",
    "\n",
    "* Lessons (NOTE: english links may not work, will translate them as soon as possible)\n",
    "    - [Control Flow 1 - ifs](https://en.softpython.org/control-flow/control-flow1-sol.html)\n",
    "    - [Control Flow 2 - for](https://en.softpython.org/control-flow/control-flow2-sol.html)\n",
    "    - [Control Flow 3 - while](https://en.softpython.org/control-flow/control-flow3-sol.html)\n",
    "    - [Errors and testing](https://en.softpython.org/errors-and-testing/errors-and-testing-sol.html) Note: SoftPython tutorial only talks about quick testing with `assert` which is fine for Part A of this course. In Part B we will use more sophisticated testing with `unittest`\n",
    "    - References: [Andrea Passerini - complex statements](http://disi.unitn.it/~passerini/teaching/2020-2021/sci-pro/slides/A03-controlflow.pdf)    \n",
    "    \n",
    "**For realtime stuff during the lab, see this repl:** \n",
    "\n",
    "https://repl.it/@DavidLeoniWork/sciprog-ds-lab-2020-21\n"
   ]
  },
  {
   "cell_type": "code",
   "execution_count": null,
   "metadata": {},
   "outputs": [],
   "source": []
  }
 ],
 "metadata": {
  "kernelspec": {
   "display_name": "Python 3",
   "language": "python",
   "name": "python3"
  },
  "language_info": {
   "codemirror_mode": {
    "name": "ipython",
    "version": 3
   },
   "file_extension": ".py",
   "mimetype": "text/x-python",
   "name": "python",
   "nbconvert_exporter": "python",
   "pygments_lexer": "ipython3",
   "version": "3.5.2"
  },
  "toc": {
   "base_numbering": 1,
   "nav_menu": {},
   "number_sections": false,
   "sideBar": true,
   "skip_h1_title": false,
   "title_cell": "Table of Contents",
   "title_sidebar": "Contents",
   "toc_cell": false,
   "toc_position": {},
   "toc_section_display": true,
   "toc_window_display": true
  }
 },
 "nbformat": 4,
 "nbformat_minor": 2
}
