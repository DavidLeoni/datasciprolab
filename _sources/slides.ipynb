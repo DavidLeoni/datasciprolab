{
 "cells": [
  {
   "cell_type": "markdown",
   "metadata": {},
   "source": [
    "# Slides 2020/21\n",
    "\n",
    "[old 2019/20 slides](old-slides.ipynb)"
   ]
  },
  {
   "cell_type": "markdown",
   "metadata": {},
   "source": [
    "\n",
    "## Part A\n",
    "\n",
    "### Lab A.1\n",
    "\n",
    "Wednesday 23 Sep 2020\n",
    "\n",
    "#### Links\n",
    "\n",
    "lab site:  [sciprog.davidleoni.it](https://sciprog.davidleoni.it)\n",
    "\n",
    "* [Installation](installation.ipynb) from sciprog, with links to relevant SoftPython stuff\n",
    "* [Tools and Scripts on SoftPython](https://en.softpython.org/tools/tools-sol.html) : describes Jupyter and other things are described more in detail\n",
    "* [Python basics](https://en.softpython.org/basics/basics-sol.html) : hopefully we will see something (try doing them at home anyway)"
   ]
  },
  {
   "cell_type": "markdown",
   "metadata": {},
   "source": [
    "\n",
    "\n",
    "#### What I expect\n",
    "\n",
    "- if you don't program in Python, you don't learn Python\n",
    "- you don't learn Python if you don't program in Python\n",
    "- to be a successful data scientist, you must know programming\n",
    "- **Exercise**: now put the right priorities in your TODO list ;-)\n",
    "\n",
    "#### Course contents\n",
    "\n",
    "- Hands-on approach\n",
    "\n",
    "**Part A - python intro**\n",
    "\n",
    "- logic basics\n",
    "- discrete structures basics\n",
    "- python basics\n",
    "- data cleaning\n",
    "- format conversion (matrices, tables, graphs, ...)\n",
    "- visualization (matplotlib, graphviz)\n",
    "- some analytics (with pandas)\n",
    "- focus on correct code, don't care about performance\n",
    "- plus: some software engineering wisdom\n",
    "\n",
    "**Part A exams**: \n",
    "\n",
    "There will always be some practical structured exercise.\n",
    "\n",
    "Examples:\n",
    "\n",
    "- [analizing employees of University of Trento](https://sciprog.davidleoni.it/exams/2019-08-26/solutions/exam-2019-08-26-sol.html#Part-A---University-of-Trento-staff)\n",
    "- [visualizing intercity bus network](https://sciprog.davidleoni.it/exams/2019-02-13/solutions/exam-2019-02-13-sol.html#Part-A---Bus-network-visualization)\n",
    "- [extracting categories from workshops of Trentino](https://sciprog.davidleoni.it/exams/2019-07-02/solutions/exam-2019-07-02-sol.html#A1-Botteghe-storiche)\n",
    "\n",
    "Sometimes, there can also be a more abstract thing with matrices / relations, (i.e.  [surjective relation](https://sciprog.davidleoni.it/exams/2018-11-16/solutions/exam-2018-11-16-sol.html#A2-surjective))\n",
    "    \n",
    "\n",
    "[DO read the exam rules](https://sciprog.davidleoni.it/#Exams)\n",
    "\n",
    "**Part B - algorithms**\n",
    "\n",
    "- going from theory taught by Prof. Luca Bianco to Python 3 implementation\n",
    "- performance matters\n",
    "- few Python functions\n",
    "\n",
    " "
   ]
  },
  {
   "cell_type": "code",
   "execution_count": null,
   "metadata": {},
   "outputs": [],
   "source": []
  }
 ],
 "metadata": {
  "kernelspec": {
   "display_name": "Python 3",
   "language": "python",
   "name": "python3"
  },
  "language_info": {
   "codemirror_mode": {
    "name": "ipython",
    "version": 3
   },
   "file_extension": ".py",
   "mimetype": "text/x-python",
   "name": "python",
   "nbconvert_exporter": "python",
   "pygments_lexer": "ipython3",
   "version": "3.5.2"
  },
  "toc": {
   "base_numbering": 1,
   "nav_menu": {},
   "number_sections": false,
   "sideBar": true,
   "skip_h1_title": false,
   "title_cell": "Table of Contents",
   "title_sidebar": "Contents",
   "toc_cell": false,
   "toc_position": {},
   "toc_section_display": true,
   "toc_window_display": true
  }
 },
 "nbformat": 4,
 "nbformat_minor": 2
}
