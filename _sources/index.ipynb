{
 "cells": [
  {
   "cell_type": "markdown",
   "metadata": {},
   "source": [
    "# Scientific Programming Lab\n",
    "\n",
    "**Data Science Master @University of Trento** - AA 2020/21\n",
    "\n"
   ]
  },
  {
   "cell_type": "raw",
   "metadata": {
    "raw_mimetype": "text/latex"
   },
   "source": [
    "% Latex fixes, DO NOT DELETE THIS !!!!\n",
    "\n",
    "% need to demote chapters to sections because sphinx promotes them *just in the home* :-/\n",
    "% https://tex.stackexchange.com/questions/161259/macro-for-promoting-sections-to-chapters\n",
    "% for alternatives, see https://texfaq.org/FAQ-patch\n",
    "\n",
    "\\let\\truechapter\\chapter\n",
    "\\let\\truesection\\section\n",
    "\\let\\truesubsection\\subsection\n",
    "\\let\\truesubsubsection\\subsubsection\n",
    "\\let\\truethesection\\thesection\n",
    "\n",
    "\\let\\chapter\\truesection\n",
    "\\let\\section\\truesubsection\n",
    "% suspend number printing , according to   https://tex.stackexchange.com/a/80114\n",
    "\\renewcommand\\thesection{}\n",
    "\n",
    "\\truesection{About}"
   ]
  },
  {
   "cell_type": "raw",
   "metadata": {
    "raw_mimetype": "text/html"
   },
   "source": [
    "<!-- HTML download links -->\n",
    "\n",
    " Download: &nbsp;&nbsp; <a href=\"https://sciprog.davidleoni.it/sciprog-ds.pdf\" target=\"_blank\">PDF</a>\n",
    "           &nbsp;&nbsp; <a href=\"https://sciprog.davidleoni.it/sciprog-ds.epub\" target=\"_blank\"> EPUB </a>\n",
    "           &nbsp;&nbsp; <a href=\"https://github.com/DavidLeoni/sciprog-ds/archive/sciprog.davidleoni.it.zip\" target=\"_blank\"> HTML </a>\n",
    "           &nbsp;&nbsp; <a href=\"https://github.com/DavidLeoni/sciprog-ds\" target=\"_blank\"> Github </a>\n",
    " <br/>\n",
    " <br/>"
   ]
  },
  {
   "cell_type": "markdown",
   "metadata": {},
   "source": [
    "Teaching assistant: David Leoni  david.leoni@unitn.it  website: [davidleoni.it](http://www.davidleoni.it)\n",
    "\n",
    "This work is licensed under a Creative Commons Attribution 4.0 License  [CC-BY](https://creativecommons.org/licenses/by/4.0/) \n",
    "\n",
    "![cc-by jiu99](_static/img/cc-by.png)\n"
   ]
  },
  {
   "cell_type": "raw",
   "metadata": {
    "raw_mimetype": "text/latex"
   },
   "source": [
    "% Latex: preface for book\n",
    "\n",
    "\\truesection{Preface}\n",
    "\n",
    "\\begin{quote}\n",
    "\n",
    "Once men turned their thinking over to machines in the hope that this would set them free. But that only permitted other men with machines to enslave them. ― Frank Herbert, Dune, 1965\n",
    "\\end{quote}\n",
    "\n",
    "You can let your smart devices decide what you should see and think, or you can understand how they work.\n",
    "\n",
    "Make your choice."
   ]
  },
  {
   "cell_type": "markdown",
   "metadata": {},
   "source": [
    "## Timetable and lecture rooms\n",
    "\n",
    "Due to the current situation regarding the Covid-19 pandemic, Practicals will take place ONLINE this year. They will be held on Mondays from 14:30 to 16:30 and on Wednesdays from 11:30 to 12:30.\n",
    "\n",
    "Practicals will use the Zoom platform (https://zoom.us/) and the link for the connection will be published on the practical page available in this site a few minutes before the start of the session.\n",
    "\n",
    "This first part of the course will tentatively run from Wednesday, September 23rd, 2020 to Monday, November 2nd, 2020.\n",
    "\n",
    "### Moodle\n",
    "\n",
    "In the [Moodle page of the course](https://didatticaonline.unitn.it/dol/course/view.php?id=25445) you can find announcements and videos of the lectures. \n",
    "\n",
    "### Zoom links\n",
    "\n",
    "The zoom links for the practicals can be found in the Announcements section of the moodle web page. To get you started quickly, I report them here: \n",
    "\n",
    "[CLICK HERE TO SEE ZOOM LINK](https://sciprog.davidleoni.it/meeting.html)\n"
   ]
  },
  {
   "cell_type": "markdown",
   "metadata": {},
   "source": [
    "\n",
    "## News\n",
    "\n",
    "**22 September 2020:** \n",
    "\n",
    "<div class=\"alert alert-warning\">\n",
    "    \n",
    "**WARNING: Part A of this website is being gradually improved and transfered to** [en.softpython.org](https://en.softpython.org)\n",
    "    \n",
    "**Keep an eye an news to see what has been transfered so far.** Whenever a page is moved, I will substitute the old page with a link.\n",
    "</div>    \n",
    "\n",
    "\n",
    "**12 September 2020:**\n",
    "\n",
    "- Moved DS Lab website to [sciprog.davidleoni.it](https://sciprog.davidleoni.it)\n",
    "- Simplified exercises structure\n",
    "\n",
    "\n",
    "[Old news](old-news.ipynb)"
   ]
  },
  {
   "cell_type": "raw",
   "metadata": {
    "raw_mimetype": "text/latex"
   },
   "source": [
    "% Latex: fix for book structure\n",
    "\n",
    "\\let\\thesection\\truethesection\n",
    "\\truechapter{Overview}\n"
   ]
  },
  {
   "cell_type": "markdown",
   "metadata": {},
   "source": [
    "\n",
    "## Slides\n",
    "\n",
    "See [Slides page](slides.ipynb)\n"
   ]
  },
  {
   "cell_type": "markdown",
   "metadata": {},
   "source": [
    "## Office hours\n",
    "\n",
    "To schedule a meeting, [see here](http://www.davidleoni.it/office-hours)\n",
    "\n",
    "## Labs timetable\n",
    "\n",
    "For the regular labs timetable please see:\n",
    "\n",
    "* Part A: [Andrea Passerini's course site](http://disi.unitn.it/~passerini/teaching/2020-2021/sci-pro/)\n",
    "* Part B: [Luca Bianco's course site](https://sciproalgo2020.readthedocs.io/)"
   ]
  },
  {
   "cell_type": "markdown",
   "metadata": {},
   "source": [
    "## Tutoring\n",
    "\n",
    "A tutoring service for Scientific Programming will be set up\n",
    "\n",
    "Please take advantage of it as much as possible so you don't end up writing random code at the exam!\n",
    "\n",
    "TBD"
   ]
  },
  {
   "cell_type": "markdown",
   "metadata": {},
   "source": [
    "\n",
    "## Resources\n",
    "\n",
    "* [Google colabs](https://drive.google.com/drive/folders/1aKaEPmqFF7-0EPRohwWKCmrz5FEwwEhq): Scratchpads to show python code. During the lesson you can also write on them to share code.\n",
    "\n",
    "* [Source code](https://github.com/DavidLeoni/sciprog-ds) of these worksheets ([download zip](https://github.com/DavidLeoni/sciprog-ds/archive/sciprog.davidleoni.it.zip)), in [Jupyter Notebook](http://jupyter.org) format. \n",
    "\n",
    "\n",
    "### Part A  Resources\n",
    "\n",
    "\n",
    "Part A [Theory slides](http://disi.unitn.it/~passerini/teaching/2019-2020/sci-pro/)  by Andrea Passerini\n",
    "\n",
    "**Allen Downey, Think Python**\n",
    "\n",
    "* Talks a lot, step by step, good for beginners\n",
    "* [online](http://www.greenteapress.com/thinkpython/html/)\n",
    "* [printed](https://www.amazon.it/Think-Python-Like-Computer-Scientist/dp/1491939362/ref=sr_1_1?ie=UTF8&qid=1537163819&sr=8-1&keywords=think+python)\n",
    "* [PDF](http://greenteapress.com/thinkpython2/thinkpython2.pdf)\n",
    "* [Interactive edition](https://runestone.academy/runestone/static/thinkcspy/index.html)\n",
    "\n",
    "License: [Creative Commons CC BY Non Commercial 3.0](http://creativecommons.org/licenses/by-nc/3.0/deed.it)as reported in the [original page](http://greenteapress.com/wp/think-python-2e/)\n",
    "\n"
   ]
  },
  {
   "cell_type": "markdown",
   "metadata": {},
   "source": [
    "**Tutorials from Nicola Cassetta**\n",
    "\n",
    "* Tutorial step by step, in Italian, good for beginners. They are well done and with solutions - please try them all.\n",
    "* [online](http://ncassetta.altervista.org/Tutorial_Python/index.html)\n",
    "\n",
    "\n"
   ]
  },
  {
   "cell_type": "markdown",
   "metadata": {},
   "source": [
    "**Dive into Python 3**\n",
    "\n",
    "* More practical, contains more focused tutorials (i.e. manage XML files) \n",
    "* [online version](http://www.diveintopython3.net/)\n",
    "* [printed](http://www.amazon.com/gp/product/1430224150?ie=UTF8&tag=diveintomark-20&creativeASIN=1430224150)\n",
    "* [zip offline](https://github.com/diveintomark/diveintopython3/zipball/master)\n",
    "* [PDF](https://github.com/downloads/diveintomark/diveintopython3/dive-into-python3.pdf)\n",
    "\n",
    "\n",
    "Licence: [Creative Commons By Share-alike 3.0](http://creativecommons.org/licenses/by-sa/3.0/) as reported at the bottom [of book website](http://www.diveintopython3.net/)\n",
    "\n"
   ]
  },
  {
   "cell_type": "markdown",
   "metadata": {},
   "source": [
    "**LeetCode**\n",
    "\n",
    "Website with collections of exercises sorted by difficulty and acceptance rate. You can generally try sorting by _Acceptance_ and _Easy_ filters.\n",
    "\n",
    "[leetcode.com](https://leetcode.com)\n",
    "\n",
    "For a selection of exercises from leetcode, see _Further resources_ sections at the ends of\n",
    "\n",
    "* [List chapter](lists/lists-sol.ipynb#Further-resources)\n",
    "* [Strings chapter](strings/strings-sol.ipynb#Further-resources)\n",
    "\n"
   ]
  },
  {
   "cell_type": "markdown",
   "metadata": {},
   "source": [
    "**HackerRank**\n",
    "\n",
    "Contains many Python 3 exercises on algorithms and data structures (Needs to login)\n",
    "\n",
    "[hackerrank.com](https://www.hackerrank.com)"
   ]
  },
  {
   "cell_type": "markdown",
   "metadata": {},
   "source": [
    "**Geeks for Geeks**\n",
    "\n",
    "Contains many exercises - doesn't have solutions nor explicit asserts but if you login and submit solutions, the system will run some tests serverside and give you a response.\n",
    "\n",
    "\n",
    "In general for Part A you can filter difficulty by school+basic+easy and if you need to do part B also include medium.\n",
    "\n",
    "\n",
    "[Example: Filter difficulty by school+basic+easy and topic String](https://practice.geeksforgeeks.org/explore/?category%5B%5D=Strings&difficulty%5B%5D=-2&difficulty%5B%5D=-1&difficulty%5B%5D=0&page=1)\n",
    "\n",
    "You can select many more topics if you click  `more>>` un der Topic Tags:\n",
    "\n",
    "![immagine.png](_static/img/geeks-for-geeks-more-topics.jpeg)\n"
   ]
  },
  {
   "cell_type": "markdown",
   "metadata": {},
   "source": [
    "**Material from other courses of mine (in Italian)**\n",
    "\n",
    "* [SoftPython - pulizia e analisi dati con Python](http://it.softpython.org) : contains many practical example of reading files and performing analysis on them."
   ]
  },
  {
   "cell_type": "markdown",
   "metadata": {},
   "source": [
    "### Part B Resources\n",
    "\n",
    "* Part B theory slides by Luca Bianco\n",
    "\n",
    "* [Problem Solving with Algorithms and Data Structures using Python](https://runestone.academy/runestone/static/pythonds/index.html) online book by Brad Miller and David Ranum\n",
    "\n",
    "* [Theory exercises (complexity, tree visits, graph visits) - by Alberto Montresor](https://drive.google.com/drive/folders/1RwjiSvIq60Z9mj_gCd5K2E6Bj9y1R0CL)\n",
    "* [LeetCode](https://leetcode.com/problemset/all/) (sort by easy difficulty)"
   ]
  },
  {
   "cell_type": "markdown",
   "metadata": {},
   "source": [
    "### Editors\n",
    "\n",
    "* [Visual Studio Code](https://code.visualstudio.com/): the course official editor. \n",
    "* [Spyder](https://pythonhosted.org/spyder/): Seems like a fine and simple editor\n",
    "* [PyCharme Community Edition](https://www.jetbrains.com/pycharm/download/#section=linux)\n",
    "* [Jupyter Notebook](http://jupyter.org): Nice environment to execute Python commands and display results like graphs. Allows to include documentation in Markdown format\n",
    "* [JupyterLab](https://github.com/jupyterlab/jupyterlab) : next and much better version of Jupyter, although as of Sept 2018 is still in beta\n",
    "* [PythonTutor](http://www.pythontutor.com/visualize.html#mode=edit), a visual virtual machine (_very useful_! can also be found in examples inside the book!)\n",
    "\n",
    "\n"
   ]
  },
  {
   "cell_type": "markdown",
   "metadata": {},
   "source": [
    "### Further readings\n",
    "\n",
    "* [Rule based design](https://www.researchgate.net/profile/Stef_Joosten/publication/327022933_Rule_Based_Design/links/5b7321be45851546c903234a/Rule-Based-Design.pdf) by Lex Wedemeijer, Stef Joosten, Jaap van der woude: a very readable text on how to represent information using only binary relations with boolean matrices (not mandatory read, it only gives  context and practical applications for some of the material on graphs presented during the course)\n"
   ]
  },
  {
   "cell_type": "markdown",
   "metadata": {},
   "source": [
    "\n",
    "## Exams\n",
    "\n"
   ]
  },
  {
   "cell_type": "markdown",
   "metadata": {},
   "source": [
    "Exams dates: see [Moodle](https://didatticaonline.unitn.it/dol/course/view.php?id=25445)"
   ]
  },
  {
   "cell_type": "markdown",
   "metadata": {},
   "source": [
    "### Past exams\n",
    "\n",
    "* [Past exams page](past-exams.ipynb)\n"
   ]
  },
  {
   "cell_type": "markdown",
   "metadata": {},
   "source": [
    "### Exam modalities\n",
    "\n",
    "**Make practice with the lab computers !!** \n",
    "\n",
    "Exam will be in Linux Ubuntu environment (even when online) - so learn how to browse folders there and if in presence also typing with noisy lab keyboards :-)\n",
    "\n",
    "Sciprog exams are open book. You will only be given access to this documentation (if in presence you can also bring a printed version of the material listed below):\n",
    "\n",
    "* [Sciprog lab website](https://sciprog.davidleoni.it)\n",
    "* [Andrea Passerini slides](http://disi.unitn.it/~passerini/teaching/2019-2020/sci-pro/) and Luca Bianco slides\n",
    "* [Python 3 documentation](https://docs.python.org/3/)\n",
    "    * In particular, [Unittest docs](https://docs.python.org/3/library/unittest.html)\n",
    "    * If you need to look up some Python function, please start today learning how to search documentation on Python website.\n",
    "* Part A: [Think Python](https://runestone.academy/runestone/static/thinkcspy/index.html) book\n",
    "* Part B: [Problem Solving with Algorithms and Data Structures using Python](https://runestone.academy/runestone/static/pythonds/index.html) book\n"
   ]
  },
  {
   "cell_type": "markdown",
   "metadata": {},
   "source": [
    "### Expectations\n",
    "\n",
    "This is a data science master, so you must learn to be a proficient programmer - no matter the background you have. \n",
    "\n",
    "Exercises proposed during labs are an example of what you will get during the exam, BUT **there is no way you can learn the required level of programming  only doing exercises on this website**. Fortunately, since Python is so trendy nowadays there are a zillion good resources to hone your skills - you can find some in [Resources](#Resources)\n",
    "\n",
    "To successfully pass the exam, you should be able to quickly solve exercises proposed during labs with difficulty ranging from ✪ to ✪✪✪ stars. By quickly I mean in half on hour you should be able to solve a three star exercise ✪✪✪. Typically, an exercise will be divided in two parts, the first easy ✪✪ to introduce you to the concept and the second more difficult ✪✪✪ to see if you really grasped the idea.\n",
    "\n",
    "Before getting scared, keep in mind I'm most interested in your capability to understand the problem and find your way to the solution. In real life, junior programmers are often given by senior colleagues functions to implement based on specifications and possibly tests to make sure what they are implementing meets the specifications. Also, programmers copy code all of the time.  This is why during the exam I give you tests for the functions to implement so you can quickly spot errors, and also let you use the course material (see [exam modalities](#Exam-modalities)). \n"
   ]
  },
  {
   "cell_type": "markdown",
   "metadata": {},
   "source": [
    "**Part A expectations**: performance does _not_ matters: if you are able to run the required algorithm on your computer and the tests pass, it should be fine. Just be careful when given a 100Mb file, in that case sometimes bad code may lead to very slow execution and/or clog the memory. \n",
    "\n",
    "In particular, in lab computers the whole system can even hang, so watch out for errors such as:\n",
    "\n",
    "- infinite `while` which keeps adding new elements to lists - whenever possible, prefer `for` loops\n",
    "- scanning a big pandas dataframe using a `for in` instead of pandas native transformations \n",
    "\n"
   ]
  },
  {
   "cell_type": "markdown",
   "metadata": {},
   "source": [
    "**Part B expectations:** performance _does_ matters (i.e. finding the diagonal of a matrix should take a time linearly proportional to $n$, not $n^2$). Also, in this part we will deal with more complex data structures. Here we generally follow the _Do It Yourself_ method, reimplementing things from scratch. So please, use the brain:\n",
    "\n",
    "* if the exercise is about _sorting,_ _do not_ call Python `.sort()` method !!!\n",
    "* if the exercise is about data structures, and you are thinking about converting the whole data structure (or part of it) into  python lists, _first,_ think about the computational cost of such conversion, and _second,_ do ask the instructor for permission.\n"
   ]
  },
  {
   "cell_type": "markdown",
   "metadata": {},
   "source": [
    "### Grading\n",
    "\n",
    "**Taking part to an exam erases** ***any*** **vote you had before** (except for Midterm B which of course doesn't erase Midterm A taken in the same academic year)\n",
    "\n",
    "**Correct implementations**: Correct implementations with the required complexity grant you full grade.\n",
    "\n",
    "**Partial implementations**: Partial implementations _might_ still give you a few points. If you just can't solve an exercise,  try to solve it at least for some subcase (i.e. array of fixed size 2) commenting why you did so. \n",
    "\n",
    "\n",
    "When all tests pass hopefully should get full grade (although tests are never exhaustive!), but if the code is not correct you will still get a percentage. Percentage of course is _subjective,_ and may depend on unfathomable factors such as the quantity of jam I found in the morning croissant that particular day. Jokes aside, the amount you get is usually proportional to the amount of time I have to spend to fix your algorithm. \n",
    "\n",
    "After exams I publish the code with corrections. If all tests pass and you still don't get 100% grade, you may come to my office questioning the grade. If tests _don't_  pass I'm less available for debating - I don't like much complaints like 'my colleague did the same error as me and got more points' - even worse is complaining without having read the corrections."
   ]
  },
  {
   "cell_type": "markdown",
   "metadata": {},
   "source": [
    "### Exams FAQ\n",
    "\n",
    "First and foremost, I'm not the boss here, please refer to exam rules explained by [Andrea Passerini](http://disi.unitn.it/~passerini/teaching/2020-2021/sci-pro/slides/00-introcorso.pdf) slides.\n",
    "\n",
    "I add here some further questions I sometimes receive - luckily, answers are pretty easy to remember.\n",
    "\n",
    "**I did good part A/B, can I only do part B/A on next exam?**\n",
    "\n",
    "No way.\n",
    "\n",
    "**Can I have additional retake just for me?**\n",
    "\n",
    "No way. \n",
    "\n",
    "**Can I have additional oral to increase the grade?**\n",
    "\n",
    "No way. \n",
    "\n",
    "**I have** 7 + $\\sqrt{3}$ **INF credits from a Summer School in Applied Calculonics, can I please give only Part B?**  \n",
    "\n",
    "I'm not into credits engineering, please ask the administrative office or/and Passerini.\n",
    "\n",
    "**I have another request which does not concern corrections / possibly wrong grading**\n",
    "\n",
    "I'm not the boss, ask Passerini.\n",
    "\n",
    "**I've got 26.99 but this is my last exam and I really need 27 so I can get good master final outcome, could you please raise grade of just that little 0.01?**\n",
    "\n",
    "Preposterous requests like this will be forwarded to our T-800 assistent, _it's very efficient_ :\n",
    "\n",
    "![judgment-day](_static/img/judgement-day.png)"
   ]
  },
  {
   "cell_type": "markdown",
   "metadata": {},
   "source": [
    "### Exams How To"
   ]
  },
  {
   "cell_type": "markdown",
   "metadata": {
    "scrolled": true
   },
   "source": [
    "\n",
    "**Make sure all exercises at least compile!**\n",
    "\n",
    "**Don't forget duplicated code around!** \n",
    "\n",
    "If I see duplicated code, I don't know what to grade, I waste time, and you don't want me angry while grading.\n",
    "\n",
    "\n",
    "\n",
    "**Only implementations of provided function signatures will be evaluated !!**"
   ]
  },
  {
   "cell_type": "markdown",
   "metadata": {},
   "source": [
    "\n",
    "For example, if you are given to implement: \n",
    "\n",
    "```python\n",
    "    def f(x):\n",
    "        raise Exception(\"TODO implement me\")\n",
    "```\n",
    "\n",
    "and you ship this code:\n",
    "\n",
    "``` python\n",
    "def my_f(x):\n",
    "    # a super fast, correct and stylish implementation\n",
    "\n",
    "def f(x):\n",
    "    raise Exception(\"TODO implement me\")\n",
    "```\n",
    "\n",
    "We will assess only the latter one `f(x)`, and conclude it doesn't work at all :P   !!!!!!!\n",
    "\n",
    "**Helper functions**\n",
    "\n",
    "Still, you are allowed to define any extra helper function you might need. If your `f(x)` implementation calls some other function you defined like `my_f` here, it is ok:\n",
    "\n",
    "```python\n",
    "# Not called by f, will get ignored:\n",
    "def my_g(x):\n",
    "    # bla\n",
    "\n",
    "# Called by f, will be graded:\n",
    "def my_f(y,z):\n",
    "    # bla\n",
    "\n",
    "def f(x):\n",
    "    my_f(x,5)\n",
    "    \n",
    "\n",
    "```\n",
    "\n",
    "\n",
    "\n",
    "#### How to edit and run\n",
    "\n",
    "Look in _Applications->Programming:_\n",
    "\n",
    "* Part A: **Jupyter**: open `Terminal` and type `jupyter notebook`\n",
    "* Part B: open **Visual Studio Code**\n",
    "\n",
    "If for whatever reason tests don't work in Visual Studio Code, be prepared to run them in the Terminal."
   ]
  },
  {
   "cell_type": "markdown",
   "metadata": {},
   "source": [
    "\n",
    "**PAY close attention to function comments!**\n",
    "\n",
    "**DON'T modify function signatures!** Just provide the implementation\n",
    "\n",
    "**DON'T change existing test methods.** If you want, you can add tests\n",
    "\n",
    "**DON'T create other files.** If you still do it, they won't be evaluated"
   ]
  },
  {
   "cell_type": "markdown",
   "metadata": {},
   "source": [
    "#### Debugging \n",
    "\n",
    "If you need to print some debugging information, you are allowed to put extra <code>print</code>\n",
    "    statements in the function bodies"
   ]
  },
  {
   "cell_type": "markdown",
   "metadata": {},
   "source": [
    "Even if print statements are allowed, be careful with prints that might break your function! For example, avoid stuff like this: "
   ]
  },
  {
   "cell_type": "markdown",
   "metadata": {},
   "source": [
    "```python\n",
    "x = 0\n",
    "print(1/x)\n",
    "```"
   ]
  },
  {
   "cell_type": "markdown",
   "metadata": {},
   "source": [
    "\n",
    "## Acknowledgements\n",
    "\n",
    "* I wish to thank Dr. Luca Bianco for the introductory material on Visual Studio Code and Python\n",
    "* This site was made  with Jupyter using [NBSphinx extension](http://nbsphinx.readthedocs.io/) and [Jupman template](http://jupman.softpython.org/)"
   ]
  },
  {
   "cell_type": "raw",
   "metadata": {
    "raw_mimetype": "text/latex"
   },
   "source": [
    "% Latex: Restores all the previous substitutions \n",
    "% DO NOT DELETE THIS !!!!\n",
    " \n",
    "\\let\\chapter\\truechapter\n",
    "\\let\\section\\truesection\n",
    "\\let\\subsection\\truesubsection\n",
    "\\let\\subsubsection\\truesubsubsection\n"
   ]
  }
 ],
 "metadata": {
  "celltoolbar": "Raw Cell Format",
  "kernelspec": {
   "display_name": "Python 3",
   "language": "python",
   "name": "python3"
  },
  "language_info": {
   "codemirror_mode": {
    "name": "ipython",
    "version": 3
   },
   "file_extension": ".py",
   "mimetype": "text/x-python",
   "name": "python",
   "nbconvert_exporter": "python",
   "pygments_lexer": "ipython3",
   "version": "3.5.2"
  },
  "toc": {
   "base_numbering": 1,
   "nav_menu": {},
   "number_sections": false,
   "sideBar": true,
   "skip_h1_title": false,
   "title_cell": "Table of Contents",
   "title_sidebar": "Contents",
   "toc_cell": false,
   "toc_position": {},
   "toc_section_display": true,
   "toc_window_display": true
  }
 },
 "nbformat": 4,
 "nbformat_minor": 2
}
