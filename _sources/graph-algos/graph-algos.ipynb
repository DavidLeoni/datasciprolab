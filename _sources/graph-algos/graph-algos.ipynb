{
 "cells": [
  {
   "cell_type": "code",
   "execution_count": 1,
   "metadata": {
    "nbsphinx": "hidden"
   },
   "outputs": [],
   "source": [
    "#Please execute this cell\n",
    "import sys;\n",
    "sys.path.append('../'); \n",
    "import jupman;\n"
   ]
  },
  {
   "cell_type": "markdown",
   "metadata": {},
   "source": [
    "# Graph algorithms\n",
    "\n",
    "\n",
    "## [Download exercises zip](../_static/generated/graph-algos.zip) \n",
    "(before editing read whole introduction section 0.x)\n",
    "\n",
    "[Browse files online](https://github.com/DavidLeoni/sciprog-ds/tree/master/graph-algos)\n",
    "\n",
    "\n",
    "\n",
    "### What to do\n",
    "\n",
    "- unzip exercises in a folder, you should get something like this: \n",
    "\n",
    "```\n",
    "\n",
    "graph-algos\n",
    "    graph-algos.ipynb         \n",
    "    graph.py\n",
    "    graph_sol.py\n",
    "    jupman.py\n",
    "    sciprog.py         \n",
    "```\n",
    "\n",
    "\n",
    "- open the editor of your choice (for example Visual Studio Code, Spyder or PyCharme), you will edit the files ending in `.py` files\n",
    "- Go on reading this notebook, and follow instuctions inside.\n",
    "\n",
    "\n",
    "## Introduction\n",
    "\n",
    "\n",
    "### 0.1 Graph theory\n",
    "\n",
    "In short, a graph is a set of vertices linked by edges. \n",
    "\n",
    "Longer version:\n",
    "\n",
    "* [Luca Bianco theory](https://sciproalgo2019.readthedocs.io/slides/Lecture7.pdf)\n",
    "* [Graphs on the book](https://interactivepython.org/runestone/static/pythonds/Graphs/toctree.html)\n",
    "    * In particular, see [Vocabulary and definitions](https://interactivepython.org/runestone/static/pythonds/Graphs/VocabularyandDefinitions.html)\n"
   ]
  },
  {
   "cell_type": "markdown",
   "metadata": {},
   "source": [
    "![graph dir undir 12312j123](img/graph-dir-undir.png)"
   ]
  },
  {
   "cell_type": "markdown",
   "metadata": {},
   "source": [
    "![graph adjacent 334234j](img/graph-adjacent.png)"
   ]
  },
  {
   "cell_type": "markdown",
   "metadata": {},
   "source": [
    "### 0.2 Directed graphs\n",
    "\n",
    "In this worksheet we are going to use so called Directed Graphs (`DiGraph` for brevity), that is, graphs with _directed_ edges: each edge can be pictured as an arrow linking source node `a` to target node `b`.  With such an arrow, you can go from `a` to `b` but you cannot go from `b` to `a` unless there is another edge in the reverse direction. \n",
    "\n",
    "* `DiGraph` for us can also have no edges or no verteces at all. \n",
    "* Verteces for us can be anything, strings like _'abc'_, numbers like `3`, etc \n",
    "* In our model, edges simply link vertices and have no weights\n",
    "* `DiGraph` is represented as an adjacency list, mapping each vertex to the verteces it is linked to.\n",
    "\n",
    "\n",
    "<div class=\"alert alert-info\">\n",
    "\n",
    "**QUESTION**: is `DiGraph` model good for dense or sparse graphs?\n",
    "</div>"
   ]
  },
  {
   "cell_type": "markdown",
   "metadata": {},
   "source": [
    "### 0.3 Serious graphs\n",
    "\n",
    "In this worksheet we follow the _Do It Yourself_ methodology and create graph classes from scratch for didactical purposes. Of course, in Python world you have alread nice libraries entirely devoted to graphs like [networkx](https://networkx.github.io/), you can also use them for visualizating graphs. If you have huge graphs to process you might consider big data tools like [Spark GraphX](http://spark.apache.org/graphx) which is programmable in Python."
   ]
  },
  {
   "cell_type": "markdown",
   "metadata": {},
   "source": [
    "### 0.4 Code skeleton\n",
    "\n",
    "First off, download the exercises zip and look at the files:\n",
    "\n",
    "* `graph.py`    : the exercise to edit\n",
    "* `graph_test.py`: the tests to run. Do not modify this file.\n",
    "\n",
    "Before starting to implement methods in `DiGraph` class, read all the following sub sections (starting with '0.x')\n"
   ]
  },
  {
   "cell_type": "markdown",
   "metadata": {},
   "source": [
    "\n",
    "### 0.5 Building graphs\n",
    "\n",
    "<br/>\n",
    "\n",
    "<div class=\"alert alert-info\">\n",
    "\n",
    "**IMPORTANT**: All the functions in section 0 are already provided and you don't need to implement them !\n",
    "</div>\n",
    "\n",
    "\n"
   ]
  },
  {
   "cell_type": "markdown",
   "metadata": {},
   "source": [
    "For now, open a Python 3 interpreter and try out the `graph_sol` module :"
   ]
  },
  {
   "cell_type": "code",
   "execution_count": 2,
   "metadata": {},
   "outputs": [],
   "source": [
    "from graph_sol import *"
   ]
  },
  {
   "cell_type": "markdown",
   "metadata": {},
   "source": [
    "### 0.5.1 Building basics\n",
    "\n",
    "Let's look at the constructor `__init__` and `add_vertex`. They are already provided and you don't need to implement it:\n",
    "\n",
    "```python\n",
    "class DiGraph:\n",
    "    def __init__(self):\n",
    "        # The class just holds the dictionary _edges: as keys it has the verteces, and \n",
    "        # to each vertex associates a list with the verteces it is linked to.\n",
    "\n",
    "        self._edges = {}\n",
    "        \n",
    "    def add_vertex(self, vertex):\n",
    "        \"\"\" Adds vertex to the DiGraph. A vertex can be any object.\n",
    "            \n",
    "            If the vertex already exist, does nothing.\n",
    "        \"\"\"\n",
    "        if vertex not in self._edges:            \n",
    "            self._edges[vertex] = []            \n",
    "```           \n",
    "\n",
    "You will see that inside it just initializes `_edges`. So the only way to create a `DiGraph` is with a call like"
   ]
  },
  {
   "cell_type": "code",
   "execution_count": 3,
   "metadata": {},
   "outputs": [],
   "source": [
    "g = DiGraph()"
   ]
  },
  {
   "cell_type": "markdown",
   "metadata": {},
   "source": [
    "`DiGraph` provides an `__str__` method to have a nice printout:"
   ]
  },
  {
   "cell_type": "code",
   "execution_count": 4,
   "metadata": {},
   "outputs": [
    {
     "name": "stdout",
     "output_type": "stream",
     "text": [
      "\n",
      "DiGraph()\n"
     ]
    }
   ],
   "source": [
    "print(g)"
   ]
  },
  {
   "cell_type": "markdown",
   "metadata": {},
   "source": [
    "To draw a DiGraph, you can use `draw_dig` from `sciprog` module - in this case draw nothing as the graph is empty:"
   ]
  },
  {
   "cell_type": "code",
   "execution_count": 5,
   "metadata": {},
   "outputs": [
    {
     "data": {
      "image/png": "[encoded data removed]",
      "text/plain": [
       "<IPython.core.display.Image object>"
      ]
     },
     "metadata": {},
     "output_type": "display_data"
    }
   ],
   "source": [
    "from sciprog import draw_dig\n",
    "draw_dig(g)"
   ]
  },
  {
   "cell_type": "markdown",
   "metadata": {},
   "source": [
    "You can add then vertices to the graph like so:"
   ]
  },
  {
   "cell_type": "code",
   "execution_count": 6,
   "metadata": {},
   "outputs": [],
   "source": [
    "g.add_vertex('a')\n",
    "g.add_vertex('b')\n",
    "g.add_vertex('c')"
   ]
  },
  {
   "cell_type": "code",
   "execution_count": 7,
   "metadata": {},
   "outputs": [
    {
     "name": "stdout",
     "output_type": "stream",
     "text": [
      "\n",
      "a: []\n",
      "b: []\n",
      "c: []\n",
      "\n"
     ]
    }
   ],
   "source": [
    "print(g)"
   ]
  },
  {
   "cell_type": "markdown",
   "metadata": {},
   "source": [
    "To draw a DiGraph, you can use `draw_dig` from `sciprog` module:"
   ]
  },
  {
   "cell_type": "code",
   "execution_count": 8,
   "metadata": {},
   "outputs": [
    {
     "data": {
      "image/png": "[encoded data removed]",
      "text/plain": [
       "<IPython.core.display.Image object>"
      ]
     },
     "metadata": {},
     "output_type": "display_data"
    }
   ],
   "source": [
    "from sciprog import draw_dig\n",
    "draw_dig(g)"
   ]
  },
  {
   "cell_type": "markdown",
   "metadata": {},
   "source": [
    "Adding a vertex twice does nothing:"
   ]
  },
  {
   "cell_type": "code",
   "execution_count": 9,
   "metadata": {},
   "outputs": [
    {
     "name": "stdout",
     "output_type": "stream",
     "text": [
      "\n",
      "a: []\n",
      "b: []\n",
      "c: []\n",
      "\n"
     ]
    }
   ],
   "source": [
    "g.add_vertex('a')\n",
    "print(g)"
   ]
  },
  {
   "cell_type": "markdown",
   "metadata": {},
   "source": [
    "Once you added the verteces, you can start adding directed edges among them with the method `add_edge`:\n",
    "\n",
    "```python\n",
    "    def add_edge(self, vertex1, vertex2):\n",
    "        \"\"\" Adds an edge to the graph, from vertex1 to vertex2\n",
    "        \n",
    "            If verteces don't exist, raises an Exception.\n",
    "            If there is already such an edge, exits silently.            \n",
    "        \"\"\"\n",
    "        \n",
    "        if not vertex1 in self._edges:\n",
    "            raise Exception(\"Couldn't find source vertex:\" + str(vertex1))\n",
    "\n",
    "        if not vertex2 in self._edges:\n",
    "            raise Exception(\"Couldn't find target vertex:\" + str(vertex2))        \n",
    "            \n",
    "        if not vertex2 in self._edges[vertex1]:\n",
    "            self._edges[vertex1].append(vertex2)\n",
    "\n",
    "```"
   ]
  },
  {
   "cell_type": "code",
   "execution_count": 10,
   "metadata": {},
   "outputs": [
    {
     "name": "stdout",
     "output_type": "stream",
     "text": [
      "\n",
      "a: ['c']\n",
      "b: []\n",
      "c: []\n",
      "\n"
     ]
    }
   ],
   "source": [
    "g.add_edge('a', 'c')\n",
    "print(g)"
   ]
  },
  {
   "cell_type": "code",
   "execution_count": 11,
   "metadata": {},
   "outputs": [
    {
     "data": {
      "image/png": "[encoded data removed]",
      "text/plain": [
       "<IPython.core.display.Image object>"
      ]
     },
     "metadata": {},
     "output_type": "display_data"
    }
   ],
   "source": [
    "draw_dig(g)"
   ]
  },
  {
   "cell_type": "code",
   "execution_count": 12,
   "metadata": {},
   "outputs": [
    {
     "name": "stdout",
     "output_type": "stream",
     "text": [
      "\n",
      "a: ['c', 'b']\n",
      "b: []\n",
      "c: []\n",
      "\n"
     ]
    }
   ],
   "source": [
    "g.add_edge('a', 'b')\n",
    "print(g)"
   ]
  },
  {
   "cell_type": "code",
   "execution_count": 13,
   "metadata": {},
   "outputs": [
    {
     "data": {
      "image/png": "[encoded data removed]",
      "text/plain": [
       "<IPython.core.display.Image object>"
      ]
     },
     "metadata": {},
     "output_type": "display_data"
    }
   ],
   "source": [
    "draw_dig(g)"
   ]
  },
  {
   "cell_type": "markdown",
   "metadata": {},
   "source": [
    "Adding an edge twice makes no difference:"
   ]
  },
  {
   "cell_type": "code",
   "execution_count": 14,
   "metadata": {},
   "outputs": [
    {
     "name": "stdout",
     "output_type": "stream",
     "text": [
      "\n",
      "a: ['c', 'b']\n",
      "b: []\n",
      "c: []\n",
      "\n"
     ]
    }
   ],
   "source": [
    "g.add_edge('a', 'b')\n",
    "print(g)"
   ]
  },
  {
   "cell_type": "markdown",
   "metadata": {},
   "source": [
    "Notice a `DiGraph` can have self-loops too (also called _caps_):"
   ]
  },
  {
   "cell_type": "code",
   "execution_count": 15,
   "metadata": {},
   "outputs": [
    {
     "name": "stdout",
     "output_type": "stream",
     "text": [
      "\n",
      "a: ['c', 'b']\n",
      "b: ['b']\n",
      "c: []\n",
      "\n"
     ]
    }
   ],
   "source": [
    "g.add_edge('b', 'b')\n",
    "print(g)"
   ]
  },
  {
   "cell_type": "code",
   "execution_count": 16,
   "metadata": {},
   "outputs": [
    {
     "data": {
      "image/png": "[encoded data removed]",
      "text/plain": [
       "<IPython.core.display.Image object>"
      ]
     },
     "metadata": {},
     "output_type": "display_data"
    }
   ],
   "source": [
    "draw_dig(g)"
   ]
  },
  {
   "cell_type": "markdown",
   "metadata": {},
   "source": [
    "### 0.5.2 dig()\n",
    "\n",
    "`dig()` is a shortcut to build graphs, it is already provided and you don't need to implement it.\n",
    "\n",
    "**USE IT ONLY WHEN TESTING,** ***NOT*** **IN THE `DiGraph` CLASS CODE !!!!**\n",
    "\n",
    "First of all, remember to import it from `graph_test` package:"
   ]
  },
  {
   "cell_type": "code",
   "execution_count": 17,
   "metadata": {},
   "outputs": [],
   "source": [
    "from graph_test import dig"
   ]
  },
  {
   "cell_type": "markdown",
   "metadata": {},
   "source": [
    "With empty dict prints the empty graph:"
   ]
  },
  {
   "cell_type": "code",
   "execution_count": 18,
   "metadata": {},
   "outputs": [
    {
     "name": "stdout",
     "output_type": "stream",
     "text": [
      "\n",
      "DiGraph()\n"
     ]
    }
   ],
   "source": [
    "print(dig({}))"
   ]
  },
  {
   "cell_type": "markdown",
   "metadata": {},
   "source": [
    "To build more complex graphs, provide a dictionary with pairs source vertex / target verteces list  like in the following examples:        "
   ]
  },
  {
   "cell_type": "code",
   "execution_count": 19,
   "metadata": {},
   "outputs": [
    {
     "name": "stdout",
     "output_type": "stream",
     "text": [
      "\n",
      "a: ['b', 'c']\n",
      "b: []\n",
      "c: []\n",
      "\n"
     ]
    }
   ],
   "source": [
    "print(dig({'a':['b','c']}))"
   ]
  },
  {
   "cell_type": "code",
   "execution_count": 20,
   "metadata": {},
   "outputs": [
    {
     "name": "stdout",
     "output_type": "stream",
     "text": [
      "\n",
      "a: ['b', 'c']\n",
      "b: ['b']\n",
      "c: ['a']\n",
      "\n"
     ]
    }
   ],
   "source": [
    "print(dig({'a': ['b','c'],\n",
    "           'b': ['b'],\n",
    "           'c': ['a']}))"
   ]
  },
  {
   "cell_type": "markdown",
   "metadata": {},
   "source": [
    "### 0.6 Equality\n",
    "\n",
    "Graphs for us are equal irrespectively of the order in which elements in adjacency lists are specified. So for example \n",
    "these two graphs will be considered equal:"
   ]
  },
  {
   "cell_type": "code",
   "execution_count": 21,
   "metadata": {},
   "outputs": [
    {
     "data": {
      "text/plain": [
       "True"
      ]
     },
     "execution_count": 21,
     "metadata": {},
     "output_type": "execute_result"
    }
   ],
   "source": [
    "dig({'a': ['c', 'b']}) == dig({'a': ['b', 'c']})"
   ]
  },
  {
   "cell_type": "markdown",
   "metadata": {},
   "source": [
    "\n",
    "### 0.7 Basic querying\n",
    "\n",
    "There are some provided methods to query the `DiGraph`: `adj`, `verteces`, `is_empty`\n",
    "\n",
    "### 0.7.1 adj\n",
    "\n",
    "To obtain the edges, you can use the method `adj(self, vertex)`. It is already provided and you don't need to implement it:\n",
    "```python\n",
    "    def adj(self, vertex):\n",
    "        \"\"\" Returns the verteces adjacent to vertex. \n",
    "            \n",
    "            NOTE: verteces are returned in a NEW list.\n",
    "            Modifying the list will have NO effect on the graph!\n",
    "        \"\"\"\n",
    "        if not vertex in self._edges:\n",
    "            raise Exception(\"Couldn't find a vertex \" + str(vertex))\n",
    "        \n",
    "        return self._edges[vertex][:]\n",
    "\n",
    "```"
   ]
  },
  {
   "cell_type": "code",
   "execution_count": 22,
   "metadata": {},
   "outputs": [
    {
     "name": "stdout",
     "output_type": "stream",
     "text": [
      "['b', 'c']\n"
     ]
    }
   ],
   "source": [
    "lst = dig({'a': ['b', 'c'],\n",
    "           'b': ['c']}).adj('a')\n",
    "print(lst)"
   ]
  },
  {
   "cell_type": "markdown",
   "metadata": {},
   "source": [
    "Let's check we actually get back a new list (so modifying the old one won't change the graph):"
   ]
  },
  {
   "cell_type": "code",
   "execution_count": 23,
   "metadata": {},
   "outputs": [
    {
     "name": "stdout",
     "output_type": "stream",
     "text": [
      "['b', 'c', 'd']\n"
     ]
    }
   ],
   "source": [
    "lst.append('d')\n",
    "print(lst)"
   ]
  },
  {
   "cell_type": "code",
   "execution_count": 24,
   "metadata": {},
   "outputs": [
    {
     "name": "stdout",
     "output_type": "stream",
     "text": [
      "['c', 'b']\n"
     ]
    }
   ],
   "source": [
    "print(g.adj('a'))"
   ]
  },
  {
   "cell_type": "markdown",
   "metadata": {},
   "source": [
    "**NOTE**: This technique of giving back copies is also called _defensive copying_: it prevents users from modifying the \n",
    "internal data structures of a class instance in an uncontrolled manner. For example, if we allowed them direct access to the internal verteces list, they could add duplicate edges, which we don't allow in our model.\n",
    "If instead we only allow users to add edges by calling `add_edge`, we are sure the constraints for our model will always remain satisfied."
   ]
  },
  {
   "cell_type": "markdown",
   "metadata": {},
   "source": [
    "### 0.7.2 is_empty()\n",
    "\n",
    "We can check if a `DiGraph` is empty. It is already provided and you don't need to implement it:\n",
    "\n",
    "```python\n",
    "    def is_empty(self):\n",
    "        \"\"\"  A DiGraph for us is empty if it has no verteces and no edges \"\"\"\n",
    "        \n",
    "        return len(self._edges) == 0\n",
    "```"
   ]
  },
  {
   "cell_type": "code",
   "execution_count": 25,
   "metadata": {},
   "outputs": [
    {
     "name": "stdout",
     "output_type": "stream",
     "text": [
      "True\n"
     ]
    }
   ],
   "source": [
    "print(dig({}).is_empty())"
   ]
  },
  {
   "cell_type": "code",
   "execution_count": 26,
   "metadata": {},
   "outputs": [
    {
     "name": "stdout",
     "output_type": "stream",
     "text": [
      "False\n"
     ]
    }
   ],
   "source": [
    "print(dig({'a':[]}).is_empty())"
   ]
  },
  {
   "cell_type": "markdown",
   "metadata": {},
   "source": [
    "### 0.7.3 verteces()\n",
    "\n",
    "To obtain the verteces, you can use the function `verteces`. (NOTE for Italians: method is called vert**e**c**e**s, with two **e**s !!!). It is already provided and you don't need to implement it:\n",
    "\n",
    "```python\n",
    "    def verteces(self):\n",
    "        \"\"\" Returns a set of the graph verteces. Verteces can be any object. \"\"\"\n",
    "        \n",
    "        # Note dict keys() return a list, not a set. Bleah.  \n",
    "        # See http://stackoverflow.com/questions/13886129/why-does-pythons-dict-keys-return-a-list-and-not-a-set\n",
    "        return set(self._edges.keys()) \n",
    "```"
   ]
  },
  {
   "cell_type": "code",
   "execution_count": 27,
   "metadata": {},
   "outputs": [
    {
     "name": "stdout",
     "output_type": "stream",
     "text": [
      "{'a', 'c', 'b'}\n"
     ]
    }
   ],
   "source": [
    "g = dig({'a': ['c', 'b'],\n",
    "         'b': ['c']})\n",
    "print(g.verteces())"
   ]
  },
  {
   "cell_type": "markdown",
   "metadata": {},
   "source": [
    "Notice it returns a _set_, as verteces are stored as keys in a dictionary, so they are not supposed to be in any particular order. When you print the whole graph you see them vertically ordered though, for clarity purposes:"
   ]
  },
  {
   "cell_type": "code",
   "execution_count": 28,
   "metadata": {},
   "outputs": [
    {
     "name": "stdout",
     "output_type": "stream",
     "text": [
      "\n",
      "a: ['c', 'b']\n",
      "b: ['c']\n",
      "c: []\n",
      "\n"
     ]
    }
   ],
   "source": [
    "print(g)"
   ]
  },
  {
   "cell_type": "markdown",
   "metadata": {},
   "source": [
    "Verteces in the edges list are instead stored and displayed in the order in which they were inserted."
   ]
  },
  {
   "cell_type": "markdown",
   "metadata": {},
   "source": [
    "### 0.8 Blow up your computer\n",
    "\n",
    "Try to call the already implemented function `graph_test.gen_graphs` with small numbers for `n`, like _1_, _2_ , _3_ , _4_ .... Just with _2_ we get back a lot of graphs:\n",
    "\n",
    "```python\n",
    "\n",
    "def gen_graphs(n):    \n",
    "    \"\"\" Returns a list with all the possible 2^(n^2) graphs of size n \n",
    "    \n",
    "        Verteces will be identified with numbers from 1 to n \n",
    "    \"\"\"    \n",
    "\n",
    "```"
   ]
  },
  {
   "cell_type": "code",
   "execution_count": 29,
   "metadata": {},
   "outputs": [
    {
     "name": "stdout",
     "output_type": "stream",
     "text": [
      "[\n",
      "1: []\n",
      "2: []\n",
      ", \n",
      "1: []\n",
      "2: [2]\n",
      ", \n",
      "1: []\n",
      "2: [1]\n",
      ", \n",
      "1: []\n",
      "2: [1, 2]\n",
      ", \n",
      "1: [2]\n",
      "2: []\n",
      ", \n",
      "1: [2]\n",
      "2: [2]\n",
      ", \n",
      "1: [2]\n",
      "2: [1]\n",
      ", \n",
      "1: [2]\n",
      "2: [1, 2]\n",
      ", \n",
      "1: [1]\n",
      "2: []\n",
      ", \n",
      "1: [1]\n",
      "2: [2]\n",
      ", \n",
      "1: [1]\n",
      "2: [1]\n",
      ", \n",
      "1: [1]\n",
      "2: [1, 2]\n",
      ", \n",
      "1: [1, 2]\n",
      "2: []\n",
      ", \n",
      "1: [1, 2]\n",
      "2: [2]\n",
      ", \n",
      "1: [1, 2]\n",
      "2: [1]\n",
      ", \n",
      "1: [1, 2]\n",
      "2: [1, 2]\n",
      "]\n"
     ]
    }
   ],
   "source": [
    "from graph_test import gen_graphs\n",
    "print(gen_graphs(2))"
   ]
  },
  {
   "cell_type": "markdown",
   "metadata": {},
   "source": [
    "\n",
    "<div class=\"alert alert-info\"> \n",
    "\n",
    "**QUESTION**: What happens if you call `gen_graphs(10)` ? How many graphs do you get back ?\n",
    "</div>\n"
   ]
  },
  {
   "cell_type": "markdown",
   "metadata": {},
   "source": [
    "\n",
    "## 1. Implement building\n",
    "\n",
    "Enough for talking! Let's implement building graphs.\n",
    "\n",
    "### 1.1 has_edge\n",
    "\n",
    "Implement this method in `DiGraph`: \n",
    "\n",
    "```python\n",
    "    def has_edge(self, source, target):\n",
    "        \"\"\"  Returns True if there is an edge between source vertex and target vertex. \n",
    "             Otherwise returns False.\n",
    "\n",
    "            If either source, target or both verteces don't exist raises an Exception.\n",
    "        \"\"\"\n",
    "        \n",
    "        raise Exception(\"TODO IMPLEMENT ME!\")                             \n",
    "```\n",
    "**Testing**: `python3 -m unittest graph_test.HasEdgeTest`\n",
    "\n",
    "### 1.2 full_graph\n",
    "\n",
    "Implement this function **outside** the class definition. It is **not** a method of `DiGraph` !\n",
    "\n",
    "```python\n",
    "def full_graph(verteces):\n",
    "    \"\"\" Returns a DiGraph which is a full graph with provided verteces list.\n",
    "    \n",
    "        In a full graph all verteces link to all other verteces (including themselves!).\n",
    "    \"\"\"\n",
    "    \n",
    "    raise Exception(\"TODO IMPLEMENT ME!\")\n",
    "```    \n",
    "\n",
    "**Testing**: `python3 -m unittest graph_test.FullGraphTest`\n",
    "\n",
    "### 1.3 dag\n",
    "\n",
    "Implement this function **outside** the class definition. It is **not** a method of `DiGraph` !\n",
    "\n",
    "```python\n",
    "def dag(verteces):\n",
    "    \"\"\" Returns a DiGraph which is DAG (Directed Acyclic Graph) made out of provided verteces list\n",
    "    \n",
    "        Provided list is intended to be in topological order.\n",
    "        NOTE: a DAG is ACYCLIC, so caps (self-loops) are not allowed !!\n",
    "    \"\"\"\n",
    "\n",
    "    raise Exception(\"TODO IMPLEMENT ME!\")\n",
    "```\n",
    "\n",
    "**Testing**: `python3 -m unittest graph_test.DagTest`\n",
    "\n",
    "### 1.4 list_graph\n",
    "\n",
    "Implement this function **outside** the class definition. It is **not** a method of `DiGraph` !\n",
    "\n",
    "\n",
    "```python\n",
    "def list_graph(n):\n",
    "    \"\"\" Return a graph of n verteces displaced like a \n",
    "        monodirectional list:  1 -> 2 -> 3 -> ... -> n \n",
    "        \n",
    "        Each vertex is a number i, 1 <= i <= n  and has only one edge connecting it\n",
    "        to the following one in the sequence        \n",
    "        If n = 0, return the empty graph.\n",
    "        if n < 0, raises an Exception.\n",
    "    \"\"\"    \n",
    "        \n",
    "    raise Exception(\"TODO IMPLEMENT ME!\")\n",
    "```\n",
    "\n",
    "**Testing**: `python3 -m unittest graph_test.ListGraphTest`\n",
    "\n",
    "### 1.5 star_graph\n",
    "\n",
    "Implement this function **outside** the class definition. It is **not** a method of `DiGraph` !\n",
    "\n",
    "\n",
    "```python\n",
    "def star_graph(n):\n",
    "    \"\"\" Returns graph which is a star with n nodes \n",
    "\n",
    "        First node is the center of the star and it is labeled with 1. This node is linked \n",
    "        to all the others. For example, for n=4 you would have a graph like this:\n",
    "        \n",
    "                3\n",
    "                ^\n",
    "                |    \n",
    "           2 <- 1 -> 4           \n",
    "           \n",
    "        If n = 0, the empty graph is returned\n",
    "        If n < 0, raises an Exception           \n",
    "    \"\"\"    \n",
    "    \n",
    "    raise Exception(\"TODO IMPLEMENT ME!\")    \n",
    "```\n",
    "\n",
    "**Testing**: `python3 -m unittest graph_test.StarGraphTest`"
   ]
  },
  {
   "cell_type": "markdown",
   "metadata": {},
   "source": [
    "### 1.6 odd_line\n",
    "\n",
    "Implement this function **outside** the class definition. It is **not** a method of `DiGraph` !\n",
    "\n",
    "\n",
    "```python\n",
    "def odd_line(n):\n",
    "    \"\"\" Returns a DiGraph with n verteces, displaced like a line of odd numbers\n",
    "\n",
    "        Each vertex is an odd number i, for  1 <= i < 2n. For example, for\n",
    "        n=4 verteces are displaced like this:\n",
    "\n",
    "        1 -> 3 -> 5 -> 7\n",
    "\n",
    "        For n = 0, return the empty graph\n",
    "\n",
    "    \"\"\"\n",
    "```\n",
    "\n",
    "**Testing**: `python3 -m unittest graph_test.OddLineTest`\n",
    "\n",
    "**Example usage**:"
   ]
  },
  {
   "cell_type": "code",
   "execution_count": 30,
   "metadata": {},
   "outputs": [
    {
     "data": {
      "text/plain": [
       "\n",
       "DiGraph()"
      ]
     },
     "execution_count": 30,
     "metadata": {},
     "output_type": "execute_result"
    }
   ],
   "source": [
    "odd_line(0)"
   ]
  },
  {
   "cell_type": "code",
   "execution_count": 31,
   "metadata": {},
   "outputs": [
    {
     "data": {
      "text/plain": [
       "\n",
       "1: []"
      ]
     },
     "execution_count": 31,
     "metadata": {},
     "output_type": "execute_result"
    }
   ],
   "source": [
    "odd_line(1)"
   ]
  },
  {
   "cell_type": "code",
   "execution_count": 32,
   "metadata": {},
   "outputs": [
    {
     "data": {
      "text/plain": [
       "\n",
       "1: [3]\n",
       "3: []"
      ]
     },
     "execution_count": 32,
     "metadata": {},
     "output_type": "execute_result"
    }
   ],
   "source": [
    " odd_line(2)"
   ]
  },
  {
   "cell_type": "code",
   "execution_count": 33,
   "metadata": {},
   "outputs": [
    {
     "data": {
      "text/plain": [
       "\n",
       "1: [3]\n",
       "3: [5]\n",
       "5: []"
      ]
     },
     "execution_count": 33,
     "metadata": {},
     "output_type": "execute_result"
    }
   ],
   "source": [
    "odd_line(3)"
   ]
  },
  {
   "cell_type": "code",
   "execution_count": 34,
   "metadata": {},
   "outputs": [
    {
     "data": {
      "text/plain": [
       "\n",
       "1: [3]\n",
       "3: [5]\n",
       "5: [7]\n",
       "7: []"
      ]
     },
     "execution_count": 34,
     "metadata": {},
     "output_type": "execute_result"
    }
   ],
   "source": [
    "odd_line(4)"
   ]
  },
  {
   "cell_type": "markdown",
   "metadata": {},
   "source": [
    "### 1.7 even_line\n",
    "\n",
    "Implement this function **outside** the class definition. It is **not** a method of `DiGraph` !\n",
    "\n",
    "```python\n",
    "def even_line(n):\n",
    "    \"\"\" Returns a DiGraph with n verteces, displaced like a line of even numbers\n",
    "\n",
    "        Each vertex is an even number i, for  2 <= i <= 2n. For example, for\n",
    "        n=4 verteces are displaced like this:\n",
    "\n",
    "        2 <- 4 <- 6 <- 8\n",
    "\n",
    "        For n = 0, return the empty graph\n",
    "\n",
    "    \"\"\"\n",
    "```\n",
    "\n",
    "**Testing**: `python3 -m unittest graph_test.EvenLineTest`\n",
    "\n",
    "**Example usage**: "
   ]
  },
  {
   "cell_type": "code",
   "execution_count": 35,
   "metadata": {},
   "outputs": [
    {
     "data": {
      "text/plain": [
       "\n",
       "DiGraph()"
      ]
     },
     "execution_count": 35,
     "metadata": {},
     "output_type": "execute_result"
    }
   ],
   "source": [
    "even_line(0)"
   ]
  },
  {
   "cell_type": "code",
   "execution_count": 36,
   "metadata": {},
   "outputs": [
    {
     "data": {
      "text/plain": [
       "\n",
       "2: []"
      ]
     },
     "execution_count": 36,
     "metadata": {},
     "output_type": "execute_result"
    }
   ],
   "source": [
    "even_line(1)"
   ]
  },
  {
   "cell_type": "code",
   "execution_count": 37,
   "metadata": {},
   "outputs": [
    {
     "data": {
      "text/plain": [
       "\n",
       "2: []\n",
       "4: [2]"
      ]
     },
     "execution_count": 37,
     "metadata": {},
     "output_type": "execute_result"
    }
   ],
   "source": [
    " even_line(2)"
   ]
  },
  {
   "cell_type": "code",
   "execution_count": 38,
   "metadata": {},
   "outputs": [
    {
     "data": {
      "text/plain": [
       "\n",
       "2: []\n",
       "4: [2]\n",
       "6: [4]"
      ]
     },
     "execution_count": 38,
     "metadata": {},
     "output_type": "execute_result"
    }
   ],
   "source": [
    "even_line(3)"
   ]
  },
  {
   "cell_type": "markdown",
   "metadata": {},
   "source": [
    "### 1.8 quads\n",
    "\n",
    "Implement this function **outside** the class definition. It is **not** a method of `DiGraph` !\n",
    "\n",
    "```python\n",
    "def quads(n):\n",
    "    \"\"\" Returns a DiGraph with 2n verteces, displaced like a strip of quads.\n",
    "\n",
    "        Each vertex is a number i,  1 <= i <= 2n. \n",
    "        For example, for n = 4, verteces are displaced like this:\n",
    "\n",
    "        1 -> 3 -> 5 -> 7\n",
    "        ^    |    ^    |\n",
    "        |    ;    |    ;\n",
    "        2 <- 4 <- 6 <- 8\n",
    "\n",
    "        where \n",
    "\n",
    "          ^                                         |\n",
    "          |  represents an upward arrow,   while    ;  represents a downward arrow        \n",
    "\n",
    "    \"\"\"\n",
    "```\n",
    "\n",
    "**Testing**: `python3 -m unittest graph_test.QuadsTest`\n",
    "\n",
    "**Example usage**: "
   ]
  },
  {
   "cell_type": "code",
   "execution_count": 39,
   "metadata": {},
   "outputs": [
    {
     "data": {
      "text/plain": [
       "\n",
       "DiGraph()"
      ]
     },
     "execution_count": 39,
     "metadata": {},
     "output_type": "execute_result"
    }
   ],
   "source": [
    "quads(0)"
   ]
  },
  {
   "cell_type": "code",
   "execution_count": 40,
   "metadata": {},
   "outputs": [
    {
     "data": {
      "text/plain": [
       "\n",
       "1: []\n",
       "2: [1]"
      ]
     },
     "execution_count": 40,
     "metadata": {},
     "output_type": "execute_result"
    }
   ],
   "source": [
    "quads(1)"
   ]
  },
  {
   "cell_type": "code",
   "execution_count": 41,
   "metadata": {},
   "outputs": [
    {
     "data": {
      "text/plain": [
       "\n",
       "1: [3]\n",
       "2: [1]\n",
       "3: [4]\n",
       "4: [2]"
      ]
     },
     "execution_count": 41,
     "metadata": {},
     "output_type": "execute_result"
    }
   ],
   "source": [
    "quads(2)"
   ]
  },
  {
   "cell_type": "code",
   "execution_count": 42,
   "metadata": {},
   "outputs": [
    {
     "data": {
      "text/plain": [
       "\n",
       "1: [3]\n",
       "2: [1]\n",
       "3: [5, 4]\n",
       "4: [2]\n",
       "5: []\n",
       "6: [4, 5]"
      ]
     },
     "execution_count": 42,
     "metadata": {},
     "output_type": "execute_result"
    }
   ],
   "source": [
    "quads(3)"
   ]
  },
  {
   "cell_type": "code",
   "execution_count": 43,
   "metadata": {},
   "outputs": [
    {
     "data": {
      "text/plain": [
       "\n",
       "1: [3]\n",
       "2: [1]\n",
       "3: [5, 4]\n",
       "4: [2]\n",
       "5: [7]\n",
       "6: [4, 5]\n",
       "7: [8]\n",
       "8: [6]"
      ]
     },
     "execution_count": 43,
     "metadata": {},
     "output_type": "execute_result"
    }
   ],
   "source": [
    "quads(4)"
   ]
  },
  {
   "cell_type": "markdown",
   "metadata": {},
   "source": [
    "### 1.9 pie\n",
    "\n",
    "Implement this function **outside** the class definition. It is **not** a method of `DiGraph` !\n",
    "\n",
    "```python\n",
    "def pie(n):\n",
    "    \"\"\"\n",
    "        Returns a DiGraph with n+1 verteces, displaced like a polygon with a perimeter \n",
    "        of n verteces progressively numbered from 1 to n. \n",
    "        A central vertex numbered zero has outgoing edges to all other verteces.\n",
    "\n",
    "        For n = 0, return the empty graph.\n",
    "        For n = 1, return vertex zero connected to node 1, and node 1 has a self-loop.\n",
    "\n",
    "    \"\"\"\n",
    "```\n",
    "\n",
    "**Testing**: `python3 -m unittest graph_test.PieTest`\n",
    "\n",
    "**Example usage**: \n",
    "\n",
    "For `n=5`, the function creates this graph:"
   ]
  },
  {
   "cell_type": "code",
   "execution_count": 44,
   "metadata": {},
   "outputs": [
    {
     "data": {
      "text/plain": [
       "\n",
       "0: [1, 2, 3, 4, 5]\n",
       "1: [2]\n",
       "2: [3]\n",
       "3: [4]\n",
       "4: [5]\n",
       "5: [1]"
      ]
     },
     "execution_count": 44,
     "metadata": {},
     "output_type": "execute_result"
    }
   ],
   "source": [
    "pie(5)"
   ]
  },
  {
   "cell_type": "markdown",
   "metadata": {},
   "source": [
    "![pie 34hy243y](img/pie.png)"
   ]
  },
  {
   "cell_type": "markdown",
   "metadata": {},
   "source": [
    "**Degenerate cases:**"
   ]
  },
  {
   "cell_type": "code",
   "execution_count": 45,
   "metadata": {},
   "outputs": [
    {
     "data": {
      "text/plain": [
       "\n",
       "DiGraph()"
      ]
     },
     "execution_count": 45,
     "metadata": {},
     "output_type": "execute_result"
    }
   ],
   "source": [
    "pie(0)"
   ]
  },
  {
   "cell_type": "code",
   "execution_count": 46,
   "metadata": {},
   "outputs": [
    {
     "data": {
      "text/plain": [
       "\n",
       "0: [1]\n",
       "1: [1]"
      ]
     },
     "execution_count": 46,
     "metadata": {},
     "output_type": "execute_result"
    }
   ],
   "source": [
    "pie(1)"
   ]
  },
  {
   "cell_type": "markdown",
   "metadata": {},
   "source": [
    "### 1.10 Flux Capacitor\n",
    "\n",
    "A _Flux Capacitor_ is a plutonium-powered device that enables time travelling. During the 80s it was installed on a Delorean car and successfully used to ride humans back and forth across centuries:\n",
    "\n",
    "![flux capacitor j3k3](img/flux-capacitor.jpg)\n",
    "\n",
    "In this exercise you will build a Flux Capacitor model as a Y-shaped `DiGraph`, created according to a parameter `depth`. Here you see examples at different depths:\n",
    "\n",
    "![flux capacitor graph i324324](img/flux-capacitor-graph.png)\n",
    "\n",
    "Implement this function **outside** the class definition. It is **not** a method of `DiGraph` !\n",
    "\n",
    "\n",
    "```python\n",
    "def flux(depth):\n",
    "    \"\"\" Returns a DiGraph with 1 + (d * 3) numbered verteces displaced like a Flux Capacitor:\n",
    "\n",
    "        - from a central node numbered 0, three branches depart  \n",
    "        - all edges are directed outward\n",
    "        - on each branch there are 'depth' verteces. \n",
    "        - if depth < 0, raises a ValueError \n",
    "\n",
    "        For example, for depth=2 we get the following graph (suppose arrows point outward):\n",
    "\n",
    "             4         5\n",
    "              \\       /\n",
    "               1     2\n",
    "                \\   /\n",
    "                  0\n",
    "                  |\n",
    "                  3\n",
    "                  |\n",
    "                  6\n",
    "\n",
    "\n",
    "```\n",
    "\n",
    "**Testing**: `python3 -m unittest graph_test.FluxTest`\n",
    "\n",
    "**Example usage**: "
   ]
  },
  {
   "cell_type": "code",
   "execution_count": 47,
   "metadata": {},
   "outputs": [
    {
     "data": {
      "text/plain": [
       "\n",
       "0: []"
      ]
     },
     "execution_count": 47,
     "metadata": {},
     "output_type": "execute_result"
    }
   ],
   "source": [
    "flux(0)"
   ]
  },
  {
   "cell_type": "code",
   "execution_count": 48,
   "metadata": {},
   "outputs": [
    {
     "data": {
      "text/plain": [
       "\n",
       "0: [1, 2, 3]\n",
       "1: []\n",
       "2: []\n",
       "3: []"
      ]
     },
     "execution_count": 48,
     "metadata": {},
     "output_type": "execute_result"
    }
   ],
   "source": [
    "flux(1)"
   ]
  },
  {
   "cell_type": "code",
   "execution_count": 49,
   "metadata": {},
   "outputs": [
    {
     "data": {
      "text/plain": [
       "\n",
       "0: [1, 2, 3]\n",
       "1: [4]\n",
       "2: [5]\n",
       "3: [6]\n",
       "4: []\n",
       "5: []\n",
       "6: []"
      ]
     },
     "execution_count": 49,
     "metadata": {},
     "output_type": "execute_result"
    }
   ],
   "source": [
    "flux(2)"
   ]
  },
  {
   "cell_type": "code",
   "execution_count": 50,
   "metadata": {},
   "outputs": [
    {
     "data": {
      "text/plain": [
       "\n",
       "0: [1, 2, 3]\n",
       "1: [4]\n",
       "2: [5]\n",
       "3: [6]\n",
       "4: [7]\n",
       "5: [8]\n",
       "6: [9]\n",
       "7: []\n",
       "8: []\n",
       "9: []"
      ]
     },
     "execution_count": 50,
     "metadata": {},
     "output_type": "execute_result"
    }
   ],
   "source": [
    " flux(3)"
   ]
  },
  {
   "cell_type": "markdown",
   "metadata": {},
   "source": [
    "\n",
    "## 2. Manipulate graphs\n",
    "\n",
    "You will now implement some methods to manipulate graphs.\n",
    "\n",
    "### 2.1 remove_vertex\n",
    "\n",
    "```python\n",
    "    def remove_vertex(self, vertex):\n",
    "        \"\"\" Removes the provided vertex  and returns it\n",
    "            \n",
    "            If the vertex is not found, raises an Exception.\n",
    "        \"\"\"\n",
    "```\n",
    "\n",
    "**Testing**: `python3 -m unittest graph_test.RemoveVertexTest`\n"
   ]
  },
  {
   "cell_type": "markdown",
   "metadata": {},
   "source": [
    "### 2.2 transpose\n",
    "\n",
    "\n",
    "```python    \n",
    "    def transpose(self):\n",
    "        \"\"\" Reverses the direction of all the edges \n",
    "        \n",
    "            - MUST perform in O(|V|+|E|)  \n",
    "                 Note in adjacency lists model we suppose there are only few edges per node,\n",
    "                 so if you end up with an algorithm which is O(|V|^2) you are ending up with a\n",
    "                 complexity usually reserved for matrix representations !!\n",
    "\n",
    "            NOTE: this method changes in-place the graph: does **not** create a new instance\n",
    "                  and does *not* return anything !!\n",
    "            \n",
    "            NOTE: To implement it *avoid* modifying the existing _edges dictionary (would\n",
    "                  probably more problems than anything else).\n",
    "                  Instead, create a new dictionary, fill it with the required \n",
    "                  verteces and edges ad then set _edges to point to the new dictionary.\n",
    "        \"\"\"\n",
    "```\n",
    "\n",
    "**Testing**: `python3 -m unittest graph_test.TransposeTest`\n"
   ]
  },
  {
   "cell_type": "markdown",
   "metadata": {},
   "source": [
    "\n",
    "### 2.3 has_self_loops    \n",
    "\n",
    "```python    \n",
    "\n",
    "    def has_self_loops(self):\n",
    "        \"\"\" Returns True if the graph has any self loop (a.k.a. cap), False otherwise \"\"\"\n",
    "```\n",
    "**Testing**: `python3 -m unittest graph_test.HasSelfLoopsTest`\n",
    " "
   ]
  },
  {
   "cell_type": "markdown",
   "metadata": {},
   "source": [
    "### 2.4 remove_self_loops    \n",
    "\n",
    "```python    \n",
    "\n",
    "    def remove_self_loops(self):\n",
    "        \"\"\" Removes all of the self-loops edges (a.k.a. caps) \n",
    "            \n",
    "            NOTE: Removes just the edges, not the verteces!\n",
    "        \"\"\"\n",
    "\n",
    "```\n",
    "**Testing**: `python3 -m unittest graph_test.RemoveSelfLoopsTest`\n"
   ]
  },
  {
   "cell_type": "markdown",
   "metadata": {},
   "source": [
    "### 2.5 undir\n",
    "\n",
    "```python\n",
    "    def undir(self):\n",
    "        \"\"\" Return a *NEW* undirected version of this graph, that is, if an edge a->b exists in this graph,\n",
    "            the returned graph must also have both edges  a->b and b->a\n",
    "            \n",
    "            *DO NOT* modify the current graph, just return an entirely new one.\n",
    "        \"\"\"\n",
    "```\n",
    "\n",
    "**Testing**: `python3 -m unittest graph_test.UndirTest`\n"
   ]
  },
  {
   "cell_type": "markdown",
   "metadata": {},
   "source": [
    "\n",
    "## 3. Query graphs \n",
    "\n",
    "You can query graphs the _Do it yourself_ way with Depth First Search (DFS) or Breadth First Search (BFS). \n",
    "\n",
    "\n",
    "Let's make a simple example: "
   ]
  },
  {
   "cell_type": "code",
   "execution_count": 51,
   "metadata": {},
   "outputs": [
    {
     "data": {
      "image/png": "[encoded data removed]",
      "text/plain": [
       "<IPython.core.display.Image object>"
      ]
     },
     "metadata": {},
     "output_type": "display_data"
    }
   ],
   "source": [
    "g = dig({'a': ['a','b', 'c'],\n",
    "         'b': ['c'],\n",
    "         'd': ['e']})\n",
    "\n",
    "from sciprog import draw_dig\n",
    "draw_dig(g)"
   ]
  },
  {
   "cell_type": "code",
   "execution_count": 52,
   "metadata": {},
   "outputs": [
    {
     "name": "stdout",
     "output_type": "stream",
     "text": [
      "DEBUG:  Stack is: ['a'] \n",
      "DEBUG:  popping from stack: a\n",
      "DEBUG:    not yet visited\n",
      "DEBUG:    Scheduling for visit: a\n",
      "DEBUG:    Scheduling for visit: b\n",
      "DEBUG:    Scheduling for visit: c\n",
      "DEBUG:  Stack is : ['a', 'b', 'c'] \n",
      "DEBUG:  popping from stack: c\n",
      "DEBUG:    not yet visited\n",
      "DEBUG:  Stack is : ['a', 'b'] \n",
      "DEBUG:  popping from stack: b\n",
      "DEBUG:    not yet visited\n",
      "DEBUG:    Scheduling for visit: c\n",
      "DEBUG:  Stack is : ['a', 'c'] \n",
      "DEBUG:  popping from stack: c\n",
      "DEBUG:    already visited!\n",
      "DEBUG:  popping from stack: a\n",
      "DEBUG:    already visited!\n"
     ]
    }
   ],
   "source": [
    "g.dfs('a')"
   ]
  },
  {
   "cell_type": "markdown",
   "metadata": {},
   "source": [
    "Compare it wirh the example for the bfs : "
   ]
  },
  {
   "cell_type": "code",
   "execution_count": 53,
   "metadata": {},
   "outputs": [
    {
     "data": {
      "image/png": "[encoded data removed]",
      "text/plain": [
       "<IPython.core.display.Image object>"
      ]
     },
     "metadata": {},
     "output_type": "display_data"
    }
   ],
   "source": [
    "draw_dig(g)"
   ]
  },
  {
   "cell_type": "code",
   "execution_count": 54,
   "metadata": {},
   "outputs": [
    {
     "name": "stdout",
     "output_type": "stream",
     "text": [
      "DEBUG:  Removed from queue: a\n",
      "DEBUG:    Found neighbor: a\n",
      "DEBUG:      already visited\n",
      "DEBUG:    Found neighbor: b\n",
      "DEBUG:      not yet visited, enqueueing ..\n",
      "DEBUG:    Found neighbor: c\n",
      "DEBUG:      not yet visited, enqueueing ..\n",
      "DEBUG:    Queue is: ['b', 'c'] \n",
      "DEBUG:  Removed from queue: b\n",
      "DEBUG:    Found neighbor: c\n",
      "DEBUG:      already visited\n",
      "DEBUG:    Queue is: ['c'] \n",
      "DEBUG:  Removed from queue: c\n",
      "DEBUG:    Queue is: [] \n"
     ]
    }
   ],
   "source": [
    "g.bfs('a')"
   ]
  },
  {
   "cell_type": "markdown",
   "metadata": {},
   "source": [
    "Predictably, results are different."
   ]
  },
  {
   "cell_type": "markdown",
   "metadata": {},
   "source": [
    "\n",
    "### 3.1 distances()\n",
    "\n",
    "Implement this method of `DiGraph`:\n",
    "\n",
    "```python \n",
    "    def distances(self, source):\n",
    "        \"\"\" \n",
    "        Returns a dictionary where the keys are verteces, and each vertex v is associated\n",
    "        to the *minimal* distance in number of edges required to go from the source \n",
    "        vertex to vertex v. If node is unreachable, the distance will be -1\n",
    "        \n",
    "        Source has distance zero from itself\n",
    "        Verteces immediately connected to source have distance one.\n",
    "\n",
    "        - if source is not a vertex, raises an LookupError\n",
    "        - MUST execute in O(|V| + |E|)\n",
    "        - HINT: implement this using bfs search.\n",
    "        \"\"\"        \n",
    "```\n",
    "\n",
    "If you look at the following graph, you can see an example of the distances to associate to each vertex, supposing that the `source` is `a`. Note that `a` iself is at distance zero from itself and also that unreachable nodes like `f` and `g` will be at distance -1 \n",
    "    "
   ]
  },
  {
   "cell_type": "code",
   "execution_count": 55,
   "metadata": {
    "npshinx": "hidden"
   },
   "outputs": [
    {
     "data": {
      "image/png": "[encoded data removed]",
      "text/plain": [
       "<IPython.core.display.Image object>"
      ]
     },
     "metadata": {},
     "output_type": "display_data"
    }
   ],
   "source": [
    "import sciprog\n",
    "sciprog.draw_nx(sciprog.show_distances())"
   ]
  },
  {
   "cell_type": "markdown",
   "metadata": {},
   "source": [
    "`distances('a')` called on this graph would return a map like this: \n",
    "```python\n",
    "{\n",
    "  'a':0,\n",
    "  'b':1,\n",
    "  'c':1,\n",
    "  'd':2,\n",
    "  'e':3,\n",
    "  'f':-1,\n",
    "  'g':-1,\n",
    "  \n",
    "}\n",
    "```"
   ]
  },
  {
   "cell_type": "markdown",
   "metadata": {},
   "source": [
    "### 3.2 equidistances()\n",
    "\n",
    "Implement this method of `DiGraph`:\n",
    "\n",
    "\n",
    "```python\n",
    "    def equidistances(self, va, vb):\n",
    "        \"\"\" RETURN a dictionary holding the nodes which \n",
    "            are equidistant from input verteces va and vb.\n",
    "            The dictionary values will be the distances of the nodes.\n",
    "\n",
    "            - if va or vb are not present in the graph, raises LookupError\n",
    "            - MUST execute in O(|V| + |E|)\n",
    "            - HINT: To implement this, you can use the previously defined distances() method            \n",
    "        \"\"\"\n",
    "```\n",
    "\n",
    "**Example**:"
   ]
  },
  {
   "cell_type": "code",
   "execution_count": 56,
   "metadata": {},
   "outputs": [
    {
     "data": {
      "image/png": "[encoded data removed]",
      "text/plain": [
       "<IPython.core.display.Image object>"
      ]
     },
     "metadata": {},
     "output_type": "display_data"
    }
   ],
   "source": [
    "G = dig({'a': ['b','e'],\n",
    "         'b': ['d'],\n",
    "         'c': ['d'],\n",
    "         'd': ['f'],\n",
    "         'e': ['d','b'],\n",
    "         'f': ['g','h'],\n",
    "         'g': ['e']})\n",
    "draw_dig(G, options={'graph':{'size':'15,3!', 'rankdir':'LR'}})"
   ]
  },
  {
   "cell_type": "markdown",
   "metadata": {},
   "source": [
    "Consider `a` and `g`, they both:\n",
    "\n",
    "- can reach `e` in one step\n",
    "- can reach `d` in two steps\n",
    "- can reach `f` in three steps\n",
    "- can reach `h` in four steps\n",
    "\n",
    "- `c` is unreachable by both `a` and`g`,so it won't be present in the output\n",
    "- `b` is reached from `a` in one step, and from `g` in two steps, so it won't be included in the output\n"
   ]
  },
  {
   "cell_type": "code",
   "execution_count": 57,
   "metadata": {},
   "outputs": [
    {
     "data": {
      "text/plain": [
       "{'e': 1, 'd': 2, 'f': 3, 'h': 4}"
      ]
     },
     "execution_count": 57,
     "metadata": {},
     "output_type": "execute_result"
    }
   ],
   "source": [
    "G.equidistances('a','g')"
   ]
  },
  {
   "cell_type": "markdown",
   "metadata": {},
   "source": [
    "### 3.3 Play with dfs and bfs\n",
    "\n",
    "Create small graphs (like linked lists a->b->c, triangles, mini-full graphs, trees - you can also use the functions you defined to create graphs like `full_graph`, `dag`, `list_graph`, `star_graph`) and try to predict \n",
    "the visit sequence (verteces order, with discovery and finish times) you would have running a dfs or bfs. \n",
    "Then write tests that assert you actually get those sequences when running provided dfs and bfs\n",
    "\n"
   ]
  },
  {
   "cell_type": "markdown",
   "metadata": {},
   "source": [
    "### 3.4 Exits graph\n",
    "\n",
    "\n",
    "There is a place nearby Trento called Silent Hill, where people always study and do little else. Unfortunately, one day an unethical biotech AI experiment goes wrong and a buggy cyborg is left free to roam in the building. To avoid panic, you are quickly asked to devise an evacuation plan. The place is a well known labyrinth, with endless corridors also looping into cycles. But you know you can model this network as a digraph, and decide to represent crossings as nodes. When a crossing has a door to leave the building, its label starts with letter `e`, while when there is no such door the label starts with letter `n`.\n",
    "\n",
    "In the example below, there are three exits `e1`, `e2`, and `e3`.  Given a node, say `n1`, you want to tell the crowd in that node the **shortest** paths leading to the three exits. To avoid congestion, one third of the crowd may be told to go to  `e2`, one third to reach `e1` and  the remaining third will go to `e3` even if they are farther than `e2`.\n",
    "\n",
    "In Python terms, we would like to obtain a dictionary of paths like the following, where as keys we have the exits and as values the shortest sequence of nodes from `n1` leading to that exit\n",
    "\n",
    "```python\n",
    "{\n",
    "    'e1': ['n1', 'n2', 'e1'], \n",
    "    'e2': ['n1', 'e2'], \n",
    "    'e3': ['n1', 'e2', 'n3', 'e3']\n",
    "}\n",
    "```"
   ]
  },
  {
   "cell_type": "code",
   "execution_count": 58,
   "metadata": {},
   "outputs": [],
   "source": [
    "from sciprog import draw_dig\n",
    "from graph_sol import *\n",
    "from graph_test import dig\n"
   ]
  },
  {
   "cell_type": "code",
   "execution_count": 59,
   "metadata": {},
   "outputs": [
    {
     "data": {
      "image/png": "[encoded data removed]",
      "text/plain": [
       "<IPython.core.display.Image object>"
      ]
     },
     "metadata": {},
     "output_type": "display_data"
    }
   ],
   "source": [
    "G = dig({'n1':['n2','e2'],\n",
    "         'n2':['e1'],\n",
    "         'e1':['n1'],\n",
    "         'e2':['n2','n3', 'n4'],\n",
    "         'n3':['e3'],\n",
    "         'n4':['n1']})\n",
    "draw_dig(G)"
   ]
  },
  {
   "cell_type": "markdown",
   "metadata": {},
   "source": [
    "\n",
    "You will solve the exercise in steps, so open `exits_sol.py` and proceed reading the following points.\n",
    "\n",
    "### 3.4.1 Exits graph cp\n",
    "\n",
    "Implement this method\n",
    "\n",
    "```python\n",
    "    def cp(self, source):\n",
    "        \"\"\" Performs a BFS search starting from provided node label source and \n",
    "            RETURN a dictionary of nodes representing the visit tree in the \n",
    "            child-to-parent format, that is, each key is a node label and as value \n",
    "            has the node label from which it was discovered for the first time\n",
    "\n",
    "            So if node \"n2\" was discovered for the first time while\n",
    "            inspecting the neighbors of \"n1\", then in the output dictionary there \n",
    "            will be the pair \"n2\":\"n1\".\n",
    "\n",
    "            The source node will have None as parent, so if source is \"n1\" in the \n",
    "            output dictionary there will be the pair  \"n1\": None\n",
    "\n",
    "            - MUST execute in O(|V| + |E|)\n",
    "            - NOTE: This method must *NOT* distinguish between exits \n",
    "                    and normal nodes, in the tests we label them n1, e1 etc just\n",
    "                    because we will reuse in next exercise\n",
    "            - NOTE: You are allowed to put debug prints, but the only thing that\n",
    "                    matters for the evaluation and tests to pass is the returned \n",
    "                    dictionary\n",
    "        \"\"\"\n",
    "```\n",
    "\n",
    "**Testing**: `python3 -m unittest graph_test.CpTest`\n",
    "\n",
    "**Example:**"
   ]
  },
  {
   "cell_type": "code",
   "execution_count": 60,
   "metadata": {},
   "outputs": [
    {
     "name": "stdout",
     "output_type": "stream",
     "text": [
      "DEBUG:  Removed from queue: n1\n",
      "DEBUG:    Found neighbor: n2\n",
      "DEBUG:      not yet visited, enqueueing ..\n",
      "DEBUG:    Found neighbor: e2\n",
      "DEBUG:      not yet visited, enqueueing ..\n",
      "DEBUG:    Queue is: ['n2', 'e2'] \n",
      "DEBUG:  Removed from queue: n2\n",
      "DEBUG:    Found neighbor: e1\n",
      "DEBUG:      not yet visited, enqueueing ..\n",
      "DEBUG:    Queue is: ['e2', 'e1'] \n",
      "DEBUG:  Removed from queue: e2\n",
      "DEBUG:    Found neighbor: n2\n",
      "DEBUG:      already visited\n",
      "DEBUG:    Found neighbor: n3\n",
      "DEBUG:      not yet visited, enqueueing ..\n",
      "DEBUG:    Found neighbor: n4\n",
      "DEBUG:      not yet visited, enqueueing ..\n",
      "DEBUG:    Queue is: ['e1', 'n3', 'n4'] \n",
      "DEBUG:  Removed from queue: e1\n",
      "DEBUG:    Found neighbor: n1\n",
      "DEBUG:      already visited\n",
      "DEBUG:    Queue is: ['n3', 'n4'] \n",
      "DEBUG:  Removed from queue: n3\n",
      "DEBUG:    Found neighbor: e3\n",
      "DEBUG:      not yet visited, enqueueing ..\n",
      "DEBUG:    Queue is: ['n4', 'e3'] \n",
      "DEBUG:  Removed from queue: n4\n",
      "DEBUG:    Found neighbor: n1\n",
      "DEBUG:      already visited\n",
      "DEBUG:    Queue is: ['e3'] \n",
      "DEBUG:  Removed from queue: e3\n",
      "DEBUG:    Queue is: [] \n"
     ]
    },
    {
     "data": {
      "text/plain": [
       "{'n1': None,\n",
       " 'n2': 'n1',\n",
       " 'e2': 'n1',\n",
       " 'e1': 'n2',\n",
       " 'n3': 'e2',\n",
       " 'n4': 'e2',\n",
       " 'e3': 'n3'}"
      ]
     },
     "execution_count": 60,
     "metadata": {},
     "output_type": "execute_result"
    }
   ],
   "source": [
    "G.cp('n1')"
   ]
  },
  {
   "cell_type": "markdown",
   "metadata": {},
   "source": [
    "Basically, the dictionary above represents this visit tree:\n",
    "\n",
    "```\n",
    "              n1\n",
    "             /   \\\n",
    "           n2     e2\n",
    "            \\    /  \\\n",
    "            e1   n3  n4\n",
    "                 |\n",
    "                 e3\n",
    "```\n",
    "\n"
   ]
  },
  {
   "cell_type": "markdown",
   "metadata": {},
   "source": [
    "### 3.4.2 Exit graph exits\n",
    "\n",
    "Implement this function. **NOTE**: the function is external to class DiGraph.\n",
    "\n",
    "```python\n",
    "def exits(cp):\n",
    "    \"\"\"\n",
    "        INPUT: a dictionary of nodes representing a visit tree in the \n",
    "        child-to-parent format, that is, each key is a node label and \n",
    "        as value has its parent as a node label. The root has\n",
    "        associated None as parent.\n",
    "\n",
    "        OUTPUT: a dictionary mapping node labels of exits to a list\n",
    "                of node labels representing the the shortest path from \n",
    "                the root to the exit (root and exit included)\n",
    "\n",
    "        - MUST execute in O(|V| + |E|)                \n",
    "    \"\"\"\n",
    "```\n",
    "\n",
    "**Testing**: `python3 -m unittest graph_test.ExitsTest`\n",
    "\n",
    "**Example**: "
   ]
  },
  {
   "cell_type": "code",
   "execution_count": 61,
   "metadata": {},
   "outputs": [
    {
     "data": {
      "text/plain": [
       "{'e1': ['n1', 'n2', 'e1'], 'e2': ['n1', 'e2'], 'e3': ['n1', 'e2', 'n3', 'e3']}"
      ]
     },
     "execution_count": 61,
     "metadata": {},
     "output_type": "execute_result"
    }
   ],
   "source": [
    "# as example we can use the same dictionary outputted by the cp call in the previous exercise\n",
    "\n",
    "visit_cp = { 'e1': 'n2',\n",
    "             'e2': 'n1',\n",
    "             'e3': 'n3',\n",
    "             'n1': None,\n",
    "             'n2': 'n1',\n",
    "             'n3': 'e2',\n",
    "             'n4': 'e2'\n",
    "            }\n",
    "exits(visit_cp)"
   ]
  },
  {
   "cell_type": "markdown",
   "metadata": {
    "scrolled": true
   },
   "source": [
    "### 3.5 connected components\n",
    "\n",
    "Implement `cc`:\n",
    "\n",
    "```python\n",
    "    def cc(self):\n",
    "        \"\"\" Finds the connected components of the graph, returning a dict object\n",
    "            which associates to the verteces the corresponding connected component \n",
    "            number id, where 1 <= id <= |V|  \n",
    "        \n",
    "            IMPORTANT:  ASSUMES THE GRAPH IS UNDIRECTED ! \n",
    "                        ON DIRECTED GRAPHS, THE RESULT IS UNPREDICTABLE !\n",
    "            \n",
    "            To develop this function, implement also ccdfs\n",
    "            \n",
    "            HINT: store 'counter' as field in Visit object                        \n",
    "        \"\"\"\n",
    "\n",
    "```\n",
    "\n",
    "Which in turn uses the FUNCTION `ccdfs`, also to implement INSIDE the method cc: \n",
    "\n",
    "```python\n",
    "        def ccdfs(counter, source, ids):\n",
    "            \"\"\"\n",
    "                Performs a DFS from source vertex\n",
    "                \n",
    "                HINT: Copy in here the method from DFS and adapt it as needed       \n",
    "                HINT: store the connected component id in VertexLog objects\n",
    "            \"\"\"\n",
    "```\n",
    "\n",
    "**Testing**: `python3 -m unittest graph_test.CCTest`\n",
    "\n",
    "**NOTE**: In tests, to keep code compact graphs are created a call to `udig()`"
   ]
  },
  {
   "cell_type": "code",
   "execution_count": 62,
   "metadata": {},
   "outputs": [
    {
     "data": {
      "text/plain": [
       "\n",
       "a: ['b']\n",
       "b: ['a']\n",
       "c: ['d']\n",
       "d: ['c']"
      ]
     },
     "execution_count": 62,
     "metadata": {},
     "output_type": "execute_result"
    }
   ],
   "source": [
    "from graph_test import udig\n",
    "\n",
    "udig({'a': ['b'],\n",
    "      'c': ['d']})"
   ]
  },
  {
   "cell_type": "markdown",
   "metadata": {},
   "source": [
    "which makes sure the resulting graph is undirected as CC algorithm requires (so if there is one edge `a->b` there will also be another edge `b->a`)"
   ]
  },
  {
   "cell_type": "markdown",
   "metadata": {},
   "source": [
    "\n",
    "### 3.6 has_cycle\n",
    "\n",
    "Implement `has_cycle` method for directed graphs:\n",
    "\n",
    "```python\n",
    "        \n",
    "    def has_cycle(self):\n",
    "        \"\"\" Return True if this directed graph has a cycle, return False otherwise. \n",
    "        \n",
    "            - To develop this function, implement also has_cycle_rec(u) inside this method\n",
    "            - Inside has_cycle_rec, to reference variables of has_cycle you need to\n",
    "              declare them as nonlocal like  \n",
    "                 nonlocal clock, dt, ft\n",
    "            - MUST be able to also detect self-loops\n",
    "        \"\"\"```\n",
    "\n",
    "and also `has_cycle_rec` inside `has_cycle`:\n",
    "\n",
    "```python \n",
    "    def has_cycle_rec(u):\n",
    "        raise Exception(\"TODO IMPLEMENT ME !\")\n",
    "```\n",
    "\n",
    "**Testing**:  `python3 -m unittest graph_test.HasCycleTest`"
   ]
  },
  {
   "cell_type": "markdown",
   "metadata": {},
   "source": [
    "\n",
    "### 3.7 top_sort\n",
    "\n",
    "Look at [Montresor slides on topological sort](http://disi.unitn.it/~montreso/sp/slides/B04-grafi.pdf) \n",
    "\n",
    "Keep in mind two things: \n",
    "\n",
    "- topological sort works on DAGs, that is, Directed _Acyclic_ Graphs\n",
    "- given a graph, there can be more than one valid topological sort\n",
    "- it works also on DAGs having disconnected components, in which case the nodes of one component can be interspersed with the nodes of other components at will, provided the order within nodes belonging to the same component is preserved.\n",
    "\n",
    "**EXERCISE**: Before coding, try by hand to find all the topological sorts of the following graphs. For all them, you will find the solutions listed in the tests. "
   ]
  },
  {
   "cell_type": "code",
   "execution_count": 63,
   "metadata": {},
   "outputs": [
    {
     "data": {
      "image/png": "[encoded data removed]",
      "text/plain": [
       "<IPython.core.display.Image object>"
      ]
     },
     "metadata": {},
     "output_type": "display_data"
    }
   ],
   "source": [
    "G = dig({'a':['c'],\n",
    "         'b':['c']})\n",
    "draw_dig(G)"
   ]
  },
  {
   "cell_type": "code",
   "execution_count": 64,
   "metadata": {},
   "outputs": [
    {
     "data": {
      "image/png": "[encoded data removed]",
      "text/plain": [
       "<IPython.core.display.Image object>"
      ]
     },
     "metadata": {},
     "output_type": "display_data"
    }
   ],
   "source": [
    "G = dig({'a':['b'], 'c':[]})\n",
    "draw_dig(G)"
   ]
  },
  {
   "cell_type": "code",
   "execution_count": 65,
   "metadata": {},
   "outputs": [
    {
     "data": {
      "image/png": "[encoded data removed]",
      "text/plain": [
       "<IPython.core.display.Image object>"
      ]
     },
     "metadata": {},
     "output_type": "display_data"
    }
   ],
   "source": [
    "G = dig({'a':['b'], 'c':['d']})\n",
    "draw_dig(G)"
   ]
  },
  {
   "cell_type": "code",
   "execution_count": 66,
   "metadata": {},
   "outputs": [
    {
     "data": {
      "image/png": "[encoded data removed]",
      "text/plain": [
       "<IPython.core.display.Image object>"
      ]
     },
     "metadata": {},
     "output_type": "display_data"
    }
   ],
   "source": [
    "G = dig({'a':['b','c'], 'b':['d'], 'c':['d']})\n",
    "draw_dig(G)"
   ]
  },
  {
   "cell_type": "code",
   "execution_count": 67,
   "metadata": {},
   "outputs": [
    {
     "data": {
      "image/png": "[encoded data removed]",
      "text/plain": [
       "<IPython.core.display.Image object>"
      ]
     },
     "metadata": {},
     "output_type": "display_data"
    }
   ],
   "source": [
    "G = dig({'a':['b','c','d'], 'b':['e'], 'c':['e'], 'd':['e']})\n",
    "draw_dig(G)"
   ]
  },
  {
   "cell_type": "code",
   "execution_count": 68,
   "metadata": {},
   "outputs": [
    {
     "data": {
      "image/png": "[encoded data removed]",
      "text/plain": [
       "<IPython.core.display.Image object>"
      ]
     },
     "metadata": {},
     "output_type": "display_data"
    }
   ],
   "source": [
    "G = dig({'a':['b','c','d'], 'b':['c','d'], 'c':['d'], 'd':[]})\n",
    "draw_dig(G)"
   ]
  },
  {
   "cell_type": "markdown",
   "metadata": {},
   "source": [
    "Now implement this method:\n",
    "\n",
    "```python\n",
    "\n",
    "    def top_sort(self):\n",
    "        \"\"\" RETURN a topological sort of the graph. To implement this code, \n",
    "            feel free to adapt Montresor algorithm\n",
    "\n",
    "            - implement  Stack S  as a list\n",
    "            - implement  visited  as a set\n",
    "            - NOTE: differently from Montresor code, for tests to pass \n",
    "                    you will need to return a reversed list. Why ?\n",
    "        \"\"\"\n",
    "```\n",
    "\n",
    "**Testing**:  `python3 -m unittest graph_test.TopSortTest`\n",
    "\n",
    "**Note**: in tests there is the method `self.assertIn(el,elements)` which checks `el` is in `elements`. We use it because for a graph there a many valid topological sorts, and we want the test independent from your particular implementation ."
   ]
  },
  {
   "cell_type": "code",
   "execution_count": 69,
   "metadata": {
    "nbsphinx": "hidden"
   },
   "outputs": [
    {
     "name": "stderr",
     "output_type": "stream",
     "text": [
      "......................................................................................................................\n",
      "----------------------------------------------------------------------\n",
      "Ran 118 tests in 0.077s\n",
      "\n",
      "OK\n"
     ]
    }
   ],
   "source": [
    "# Ignore this cell\n",
    "import graph_sol\n",
    "graph_sol.DEBUG = False\n",
    "import graph_test\n",
    "jupman.run(graph_test)"
   ]
  },
  {
   "cell_type": "code",
   "execution_count": null,
   "metadata": {},
   "outputs": [],
   "source": []
  }
 ],
 "metadata": {
  "celltoolbar": "Edit Metadata",
  "kernelspec": {
   "display_name": "Python 3",
   "language": "python",
   "name": "python3"
  },
  "language_info": {
   "codemirror_mode": {
    "name": "ipython",
    "version": 3
   },
   "file_extension": ".py",
   "mimetype": "text/x-python",
   "name": "python",
   "nbconvert_exporter": "python",
   "pygments_lexer": "ipython3",
   "version": "3.5.2"
  },
  "toc": {
   "base_numbering": 1,
   "nav_menu": {},
   "number_sections": false,
   "sideBar": true,
   "skip_h1_title": false,
   "title_cell": "Table of Contents",
   "title_sidebar": "Contents",
   "toc_cell": false,
   "toc_position": {},
   "toc_section_display": true,
   "toc_window_display": true
  }
 },
 "nbformat": 4,
 "nbformat_minor": 1
}
