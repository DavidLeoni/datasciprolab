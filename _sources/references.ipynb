{
 "cells": [
  {
   "cell_type": "markdown",
   "metadata": {},
   "source": [
    "# Part B References"
   ]
  },
  {
   "cell_type": "markdown",
   "metadata": {},
   "source": [
    "* [Part B theory slides](https://sciproalgo2020.readthedocs.io/en/latest/) by Luca Bianco\n",
    "\n",
    "* [Problem Solving with Algorithms and Data Structures using Python](https://runestone.academy/runestone/static/pythonds/index.html) online book by Brad Miller and David Ranum\n",
    "\n",
    "* [Theory exercises (complexity, tree visits, graph visits) - by Alberto Montresor](https://drive.google.com/drive/folders/1RwjiSvIq60Z9mj_gCd5K2E6Bj9y1R0CL)\n"
   ]
  },
  {
   "cell_type": "markdown",
   "metadata": {},
   "source": [
    "## LeetCode for Part B\n",
    "\n",
    "In general: https://leetcode.com/problemset/all/ (sort by easy difficulty)\n",
    "\n",
    "### LeetCode LinkedLists\n",
    "\n",
    "* [Merge Two Sorted Lists](https://leetcode.com/problems/merge-two-sorted-lists/)\n",
    "* [Remove Duplicates from Sorted List](https://leetcode.com/problems/remove-duplicates-from-sorted-list/)\n",
    "* [Intersection of Two Linked Lists](https://leetcode.com/problems/intersection-of-two-linked-lists/)\n",
    "* [Linked List Cycle](https://leetcode.com/problems/linked-list-cycle/) NOTE: a solution which occupies $O(n)$ memory is easy - the follow up question requires $O(1)$ memory, for that you will probably need to look at the solution\n",
    "* [Palindrome Linked List](https://leetcode.com/problems/palindrome-linked-list/)\n",
    "* [Merge In Between Linked Lists](https://leetcode.com/problems/merge-in-between-linked-lists/)\n",
    "* [Odd Even Linked List](https://leetcode.com/problems/odd-even-linked-list/)\n",
    "* [Split Linked List in Parts](https://leetcode.com/problems/split-linked-list-in-parts/)\n",
    "* [Partition List](https://leetcode.com/problems/partition-list/)\n",
    "* [Reverse Linked List II](https://leetcode.com/problems/reverse-linked-list-ii/)\n",
    "* [Remove Duplicates from Sorted List II](https://leetcode.com/problems/remove-duplicates-from-sorted-list-ii/)\n",
    "* [Copy List with Random Pointer](https://leetcode.com/problems/copy-list-with-random-pointer/)\n",
    "\n",
    "\n",
    "### LeetCode Queues\n",
    "\n",
    "* [Number of Recent Calls](https://leetcode.com/problems/number-of-recent-calls/) notice you **only** need to return number of calls occurred during last 3000 ms, so please try avoiding storing all previous calls history\n",
    "* [Design Front Middle Back Queue](https://leetcode.com/problems/design-front-middle-back-queue/)\n",
    "\n",
    "\n",
    "\n",
    "### LeetCode Trees\n",
    "\n",
    "[Trees exercises](https://leetcode.com/tag/tree/) on LeetCode (sort by easy difficulty), for example: \n",
    "\n",
    "\n",
    "* [Sum range of BST](https://leetcode.com/problems/range-sum-of-bst/)"
   ]
  },
  {
   "cell_type": "markdown",
   "metadata": {},
   "source": [
    "## Geeks for geeks\n",
    "\n",
    "### Queues\n",
    "\n",
    "* [Interleave the first half of the queue with second half](https://www.geeksforgeeks.org/interleave-first-half-queue-second-half/) to implement it, use `Queue` object from python module [queue](https://docs.python.org/3/library/queue.html)\n",
    "* [Sorting a Queue without extra space](https://www.geeksforgeeks.org/sorting-queue-without-extra-space/) remember to use only the allowed operations !"
   ]
  },
  {
   "cell_type": "code",
   "execution_count": null,
   "metadata": {},
   "outputs": [],
   "source": []
  }
 ],
 "metadata": {
  "kernelspec": {
   "display_name": "Python 3",
   "language": "python",
   "name": "python3"
  },
  "language_info": {
   "codemirror_mode": {
    "name": "ipython",
    "version": 3
   },
   "file_extension": ".py",
   "mimetype": "text/x-python",
   "name": "python",
   "nbconvert_exporter": "python",
   "pygments_lexer": "ipython3",
   "version": "3.7.9"
  },
  "toc": {
   "base_numbering": 1,
   "nav_menu": {},
   "number_sections": false,
   "sideBar": true,
   "skip_h1_title": false,
   "title_cell": "Table of Contents",
   "title_sidebar": "Contents",
   "toc_cell": false,
   "toc_position": {},
   "toc_section_display": true,
   "toc_window_display": false
  }
 },
 "nbformat": 4,
 "nbformat_minor": 4
}
