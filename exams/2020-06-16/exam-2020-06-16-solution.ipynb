{
 "cells": [
  {
   "cell_type": "markdown",
   "metadata": {},
   "source": [
    "# Exam -  Tuesday 16, June 2020 - solutions\n",
    "\n",
    "**Scientific Programming - Data Science @ University of Trento**\n",
    "\n",
    "## [Download exercises and solutions](../../_static/datasciprolab-2020-06-16-exam.zip)"
   ]
  },
  {
   "cell_type": "markdown",
   "metadata": {
    "collapsed": true
   },
   "source": [
    "## Introduction\n",
    "\n",
    "* **Taking part to this exam erases any vote you had before**\n"
   ]
  },
  {
   "cell_type": "markdown",
   "metadata": {},
   "source": [
    "\n",
    "### Grading\n",
    "\n",
    "\n",
    "* **Correct implementations**: Correct implementations with the required complexity grant you full grade.\n",
    "* **Partial implementations**: Partial implementations _might_ still give you a few points. If you just can't solve an exercise,  try to solve it at least for some subcase (i.e. array of fixed size 2) commenting why you did so. \n",
    "\n",
    "### Valid code"
   ]
  },
  {
   "cell_type": "markdown",
   "metadata": {
    "scrolled": true
   },
   "source": [
    "<div class=\"alert alert-warning\">\n",
    "\n",
    "**WARNING**: MAKE SURE ALL EXERCISE FILES AT LEAST COMPILE !!! \n",
    "10 MINS BEFORE THE END OF THE EXAM I WILL ASK YOU TO DO A FINAL CLEAN UP OF THE CODE \n",
    "</div>\n",
    "\n",
    "\n",
    "\n",
    "<div class=\"alert alert-warning\">\n",
    "\n",
    "**WARNING**: _ONLY_ IMPLEMENTATIONS OF THE PROVIDED FUNCTION SIGNATURES WILL BE EVALUATED !!!!!!!!! <br/>    \n",
    "\n",
    "</div>"
   ]
  },
  {
   "cell_type": "markdown",
   "metadata": {},
   "source": [
    "\n",
    "For example, if you are given to implement: \n",
    "\n",
    "```python\n",
    "    def f(x):\n",
    "        raise Exception(\"TODO implement me\")\n",
    "```\n",
    "\n",
    "and you ship this code:\n",
    "\n",
    "``` python\n",
    "def my_f(x):\n",
    "    # a super fast, correct and stylish implementation\n",
    "\n",
    "def f(x):\n",
    "    raise Exception(\"TODO implement me\")\n",
    "```\n",
    "\n",
    "We will assess only the latter one `f(x)`, and conclude it doesn't work at all :P   !!!!!!!\n",
    "\n",
    "**Helper functions**\n",
    "\n",
    "Still, you are allowed to define any extra helper function you might need. If your `f(x)` implementation calls some other function you defined like `my_f` here, it is ok:\n",
    "\n",
    "```python\n",
    "# Not called by f, will get ignored:\n",
    "def my_g(x):\n",
    "    # bla\n",
    "\n",
    "# Called by f, will be graded:\n",
    "def my_f(y,z):\n",
    "    # bla\n",
    "\n",
    "def f(x):\n",
    "    my_f(x,5)\n",
    "    \n",
    "\n",
    "```\n",
    "\n",
    "\n",
    "\n",
    "### How to edit and run\n",
    "\n",
    "To edit the files, you can use any editor of your choice,  you can find them under _Applications->Programming_:\n",
    "\n",
    "* **Visual Studio Code**\n",
    "* Editra is easy to use, you can find it under _Applications->Programming->Editra_.\n",
    "* Others could be _GEdit_ (simpler), or _PyCharm_ (more complex).\n",
    "\n",
    "To run the tests, use **the Terminal** which can be found in _Accessories -> Terminal_ \n"
   ]
  },
  {
   "cell_type": "markdown",
   "metadata": {},
   "source": [
    "\n",
    "<div class=\"alert alert-info\">\n",
    "\n",
    "**IMPORTANT**: Pay close attention to the comments of the functions.\n",
    "</div>\n",
    "\n",
    "<div class=\"alert alert-warning\">\n",
    "\n",
    "**WARNING**: _DON'T_ modify function signatures! Just provide the implementation.\n",
    "</div>\n",
    "\n",
    "<div class=\"alert alert-warning\">\n",
    "\n",
    "**WARNING**: <i>DON'T</i> change the existing test methods, just add new ones !!!  You can add as many as you want.\n",
    "</div>\n",
    "\n",
    "<div class=\"alert alert-warning\">\n",
    "\n",
    "**WARNING**: _DON'T_ create other files. If you still do it, they won't be evaluated.\n",
    "</div>\n",
    "\n",
    "\n"
   ]
  },
  {
   "cell_type": "markdown",
   "metadata": {},
   "source": [
    "### Debugging \n",
    "\n",
    "If you need to print some debugging information, you are allowed to put extra <code>print</code>\n",
    "    statements in the function bodies."
   ]
  },
  {
   "cell_type": "markdown",
   "metadata": {},
   "source": [
    "\n",
    "<div class=\"alert alert-warning\">\n",
    "\n",
    "**WARNING:** even if print statements are allowed, be careful with prints that might\n",
    "     break your function! \n",
    "</div>\n"
   ]
  },
  {
   "cell_type": "markdown",
   "metadata": {},
   "source": [
    "For example, avoid stuff like this: \n",
    "\n",
    "```python\n",
    "x = 0\n",
    "print(1/x)\n",
    "```\n"
   ]
  },
  {
   "cell_type": "markdown",
   "metadata": {},
   "source": [
    "### What to do\n",
    "\n",
    "1) Download  `datasciprolab-2020-06-16-exam.zip` and extract it <b>on your desktop</b>. Folder content should be like this:\n",
    "\n",
    "```\n",
    "\n",
    "datasciprolab-2020-06-16-FIRSTNAME-LASTNAME-ID\n",
    "   exam-2020-06-16-exercise.ipynb\n",
    "   theory.txt\n",
    "   linked_list_exercise.py\n",
    "   linked_list_test.py\n",
    "   bin_tree_exercise.py\n",
    "   bin_tree_test.py\n",
    "```\n",
    "\n",
    "2) Rename `datasciprolab-2020-06-16-FIRSTNAME-LASTNAME-ID` folder: put your name, lastname an id number, like `datasciprolab-2020-06-16-john-doe-432432`\n",
    "\n",
    "From now on, you will be editing the files in that folder. At the end of the exam, that is what will be evaluated.\n",
    "\n",
    "3) Edit the files following the instructions in this worksheet for each exercise. Every exercise should take max 25 mins. If it takes longer, leave it and try another exercise.\n",
    "\n",
    "4) When done:\n",
    "\n",
    "- if you have unitn login:  zip and send to [examina.icts.unitn.it/studente](http://examina.icts.unitn.it/studente)\n",
    "  \n",
    "- If you don't have unitn login: tell instructors and we will download your work manually"
   ]
  },
  {
   "cell_type": "markdown",
   "metadata": {},
   "source": [
    "## Part A - Zoom surveillance\n",
    "\n",
    "A training center holds online courses with [Zoom software](https://zoom.us/). Participants attendance is mandatory, and teachers want to determine who left, when and for what reason. Zoom allows to save a meeting log in a sort of CSV format which holds the timings of joins and leaves of each student. You will clean the file content and show relevant data in charts. \n",
    "\n",
    "Basically, you are going to build a surveillance system to monitor YOU. Welcome to digital age.\n",
    "\n",
    "### CSV format\n",
    "\n",
    "You are provided with the file  `UserQos_12345678901.csv`. Unfortunately, it is a weird CSV which actually looks like two completely different CSVs were merged together, one after the other. It contains the following:\n",
    "\n",
    "* 1st line: general meeting header\n",
    "* 2nd line: general meeting data\n",
    "* 3rd line: empty\n",
    "* 4th line completely different header for participant sessions for that meeting. Each session contains a join time and a leave time, and each participant can have multiple sessions in a meeting.\n",
    "* 5th line and following: sessions data\n",
    "\n",
    "The file has lots of useless fields, try to explore it and understand the format (if you want, you may use LibreOffice Calc to help yourself)"
   ]
  },
  {
   "cell_type": "markdown",
   "metadata": {},
   "source": [
    "Here we only show the few fields we are actually interested in, and examples of trasformations you should apply:\n",
    "\n",
    "From general meeting information section:\n",
    "\n",
    "- `Meeting ID`: `123 4567 8901`\n",
    "- `Topic`: `Hydraulics Exam`\n",
    "- `Start Time`: `\"Apr 17, 2020 02:00 PM\"` should become  `Apr 17, 2020` \n",
    "\n",
    "From participant sessions section:\n",
    "\n",
    "- `Participant`: `Luigi` \n",
    "- `Join Time`: `01:54 PM` should become `13:54` \n",
    "- `Leave Time`: `03:10 PM(Luigi got disconnected from the meeting.Reason: Network connection error. )` should be split into two fields, one for actual leave time in `15:10` format and another one for disconnection reason."
   ]
  },
  {
   "cell_type": "markdown",
   "metadata": {},
   "source": [
    "There are 3 possible disconnection reasons (try to come up with a general way to parse them - notice that there is no dot at the end of transformed string):\n",
    "\n",
    "- `(Luigi got disconnected from the meeting.Reason: Network connection error. )` should become `Network connection error`\n",
    "- `(Bowser left the meeting.Reason: Host closed the meeting. )` should become `Host closed the meeting`\n",
    "- `(Princess Toadstool left the meeting.Reason: left the meeting.)` should become `left the meeting`\n",
    "\n"
   ]
  },
  {
   "cell_type": "markdown",
   "metadata": {},
   "source": [
    "Your first goal will be to load the dataset and restructure the data so it looks like this:\n",
    "\n",
    "```python\n",
    "[['meeting_id', 'topic', 'date', 'participant', 'join_time', 'leave_time', 'reason'],\n",
    " ['123 4567 8901','Hydraulics Exam','Apr 17, 2020','Luigi','13:54','15:10','Network connection error'],\n",
    " ['123 4567 8901','Hydraulics Exam','Apr 17, 2020','Luigi','15:12','15:54','left the meeting'],\n",
    " ['123 4567 8901','Hydraulics Exam','Apr 17, 2020','Mario','14:02','14:16','Network connection error'],\n",
    " ['123 4567 8901','Hydraulics Exam','Apr 17, 2020','Mario','14:19','15:02','Network connection error'],\n",
    " ['123 4567 8901','Hydraulics Exam','Apr 17, 2020','Mario','15:04','15:50','Network connection error'],\n",
    " ['123 4567 8901','Hydraulics Exam','Apr 17, 2020','Mario','15:52','15:55','Network connection error'],\n",
    " ['123 4567 8901','Hydraulics Exam','Apr 17, 2020','Mario','15:56','16:00','Host closed the meeting'],\n",
    " ...\n",
    "]\n",
    "```"
   ]
  },
  {
   "cell_type": "markdown",
   "metadata": {},
   "source": [
    "To fix the times, you will first need to implement the following function.\n",
    "\n",
    "Open Jupyter and start editing this notebook `exam-2020-06-16-exercise.ipynb`"
   ]
  },
  {
   "cell_type": "markdown",
   "metadata": {},
   "source": [
    "### A1 time24"
   ]
  },
  {
   "cell_type": "code",
   "execution_count": 1,
   "metadata": {},
   "outputs": [],
   "source": [
    "def time24(t):\n",
    "    \"\"\" Takes a time string like '06:27 PM' and outputs a string like 18:27\n",
    "    \"\"\"\n",
    "    #jupman_raise\n",
    "    if t.endswith('AM'):\n",
    "        if t.startswith('12:00'):\n",
    "            return '00:00'\n",
    "        else:\n",
    "            return t.replace(' AM', '')\n",
    "    else:\n",
    "        if t.startswith('12:00'):\n",
    "            return '12:00'\n",
    "            \n",
    "        h = '%0.d' % (int(t.split(':')[0]) + 12)\n",
    "        \n",
    "        return h + ':' + t.split(':')[1].replace(' PM','')\n",
    "    #/jupman_raise\n",
    "    \n",
    "assert time24('12:00 AM') == '00:00'  # midnight\n",
    "assert time24('01:06 AM') == '01:06' \n",
    "assert time24('09:45 AM') == '09:45'\n",
    "assert time24('12:00 PM') == '12:00'  # special case, it's actually midday\n",
    "assert time24('01:27 PM') == '13:27'\n",
    "assert time24('06:27 PM') == '18:27'\n",
    "assert time24('10:03 PM') == '22:03'"
   ]
  },
  {
   "cell_type": "markdown",
   "metadata": {},
   "source": [
    "### A2 load\n",
    "\n",
    "Implement a function which loads the file `UserQos_12345678901.csv` and RETURN a list of lists. \n",
    "\n",
    "To parse the file, you can use simple [CSV parsing](https://datasciprolab.readthedocs.io/en/latest/exercises/formats/formats-solution.html#2.-File-CSV) as seen in class (there is no need to use pandas)"
   ]
  },
  {
   "cell_type": "code",
   "execution_count": 2,
   "metadata": {},
   "outputs": [
    {
     "name": "stdout",
     "output_type": "stream",
     "text": [
      "[['meeting_id', 'topic', 'date', 'participant', 'join_time', 'leave_time', 'reason'],\n",
      " ['123 4567 8901', 'Hydraulics Exam', 'Apr 17, 2020', 'Luigi', '13:54', '15:10', 'Network connection error'],\n",
      " ['123 4567 8901', 'Hydraulics Exam', 'Apr 17, 2020', 'Luigi', '15:12', '15:54', 'left the meeting'],\n",
      " ['123 4567 8901', 'Hydraulics Exam', 'Apr 17, 2020', 'Mario', '14:02', '14:16', 'Network connection error'],\n",
      " ['123 4567 8901', 'Hydraulics Exam', 'Apr 17, 2020', 'Mario', '14:19', '15:02', 'Network connection error'],\n",
      " ['123 4567 8901', 'Hydraulics Exam', 'Apr 17, 2020', 'Mario', '15:04', '15:50', 'Network connection error'],\n",
      " ['123 4567 8901', 'Hydraulics Exam', 'Apr 17, 2020', 'Mario', '15:52', '15:55', 'Network connection error'],\n",
      " ['123 4567 8901', 'Hydraulics Exam', 'Apr 17, 2020', 'Mario', '15:56', '16:00', 'Host closed the meeting'],\n",
      " ['123 4567 8901', 'Hydraulics Exam', 'Apr 17, 2020', 'Bowser', '14:15', '14:30', 'Network connection error'],\n",
      " ['123 4567 8901', 'Hydraulics Exam', 'Apr 17, 2020', 'Bowser', '14:54', '15:03', 'Network connection error'],\n",
      " ['123 4567 8901', 'Hydraulics Exam', 'Apr 17, 2020', 'Bowser', '15:12', '15:40', 'Network connection error'],\n",
      " ['123 4567 8901', 'Hydraulics Exam', 'Apr 17, 2020', 'Bowser', '15:45', '16:00', 'Host closed the meeting'],\n",
      " ['123 4567 8901', 'Hydraulics Exam', 'Apr 17, 2020', 'Princess Toadstool', '13:56', '15:33', 'left the meeting'],\n",
      " ['123 4567 8901', 'Hydraulics Exam', 'Apr 17, 2020', 'Wario', '14:05', '14:10', 'Network connection error'],\n",
      " ['123 4567 8901', 'Hydraulics Exam', 'Apr 17, 2020', 'Wario', '14:15', '14:29', 'Network connection error'],\n",
      " ['123 4567 8901', 'Hydraulics Exam', 'Apr 17, 2020', 'Wario', '14:33', '15:10', 'left the meeting'],\n",
      " ['123 4567 8901', 'Hydraulics Exam', 'Apr 17, 2020', 'Wario', '15:25', '15:54', 'Network connection error'],\n",
      " ['123 4567 8901', 'Hydraulics Exam', 'Apr 17, 2020', 'Wario', '15:55', '16:00', 'Host closed the meeting']]\n"
     ]
    }
   ],
   "source": [
    "import csv\n",
    "\n",
    "def load(filepath): \n",
    "    #jupman-raise\n",
    "    ret = []\n",
    "    with open(filepath, encoding='utf-8', newline='') as f:\n",
    "\n",
    "        lettore = csv.reader(f, delimiter=',')\n",
    "        next(lettore)\n",
    "        riga_meeting = next(lettore)\n",
    "        meeting_id = riga_meeting[0]            \n",
    "        topic = riga_meeting[1]\n",
    "        meeting_date = riga_meeting[7]        \n",
    "        next(lettore) # riga vuota\n",
    "        next(lettore) # secondo header        \n",
    "        ret.append(['meeting_id', 'topic','date', 'participant','join_time','leave_time','reason'])\n",
    "        for riga in lettore:            \n",
    "            session = {}\n",
    "            if len(riga) > 0:\n",
    "                ret.append([meeting_id,\n",
    "                            topic,\n",
    "                            meeting_date[:12],\n",
    "                            riga[0],                            \n",
    "                            time24(riga[10]), \n",
    "                            time24(riga[11].split('(')[0]),\n",
    "                            riga[11].split('Reason: ')[1].split('.')[0]])\n",
    "    return ret\n",
    "    #/jupman-raise       \n",
    "\n",
    "meeting_log = load('UserQos_12345678901.csv')\n",
    "\n",
    "from pprint import pprint\n",
    "pprint(meeting_log, width=150)"
   ]
  },
  {
   "cell_type": "code",
   "execution_count": 3,
   "metadata": {},
   "outputs": [],
   "source": [
    "EXPECTED_MEETING_LOG = \\\n",
    "[['meeting_id', 'topic', 'date', 'participant', 'join_time', 'leave_time', 'reason'],\n",
    " ['123 4567 8901', 'Hydraulics Exam', 'Apr 17, 2020', 'Luigi', '13:54', '15:10', 'Network connection error'],\n",
    " ['123 4567 8901', 'Hydraulics Exam', 'Apr 17, 2020', 'Luigi', '15:12', '15:54', 'left the meeting'],\n",
    " ['123 4567 8901', 'Hydraulics Exam', 'Apr 17, 2020', 'Mario', '14:02', '14:16', 'Network connection error'],\n",
    " ['123 4567 8901', 'Hydraulics Exam', 'Apr 17, 2020', 'Mario', '14:19', '15:02', 'Network connection error'],\n",
    " ['123 4567 8901', 'Hydraulics Exam', 'Apr 17, 2020', 'Mario', '15:04', '15:50', 'Network connection error'],\n",
    " ['123 4567 8901', 'Hydraulics Exam', 'Apr 17, 2020', 'Mario', '15:52', '15:55', 'Network connection error'],\n",
    " ['123 4567 8901', 'Hydraulics Exam', 'Apr 17, 2020', 'Mario', '15:56', '16:00', 'Host closed the meeting'],\n",
    " ['123 4567 8901', 'Hydraulics Exam', 'Apr 17, 2020', 'Bowser', '14:15', '14:30', 'Network connection error'],\n",
    " ['123 4567 8901', 'Hydraulics Exam', 'Apr 17, 2020', 'Bowser', '14:54', '15:03', 'Network connection error'],\n",
    " ['123 4567 8901', 'Hydraulics Exam', 'Apr 17, 2020', 'Bowser', '15:12', '15:40', 'Network connection error'],\n",
    " ['123 4567 8901', 'Hydraulics Exam', 'Apr 17, 2020', 'Bowser', '15:45', '16:00', 'Host closed the meeting'],\n",
    " ['123 4567 8901', 'Hydraulics Exam', 'Apr 17, 2020', 'Princess Toadstool', '13:56', '15:33', 'left the meeting'],\n",
    " ['123 4567 8901', 'Hydraulics Exam', 'Apr 17, 2020', 'Wario', '14:05', '14:10', 'Network connection error'],\n",
    " ['123 4567 8901', 'Hydraulics Exam', 'Apr 17, 2020', 'Wario', '14:15', '14:29', 'Network connection error'],\n",
    " ['123 4567 8901', 'Hydraulics Exam', 'Apr 17, 2020', 'Wario', '14:33', '15:10', 'left the meeting'],\n",
    " ['123 4567 8901', 'Hydraulics Exam', 'Apr 17, 2020', 'Wario', '15:25', '15:54', 'Network connection error'],\n",
    " ['123 4567 8901', 'Hydraulics Exam', 'Apr 17, 2020', 'Wario', '15:55', '16:00', 'Host closed the meeting']]\n",
    "\n",
    "assert meeting_log == EXPECTED_MEETING_LOG"
   ]
  },
  {
   "cell_type": "markdown",
   "metadata": {},
   "source": [
    "### A3.1 duration\n",
    "\n",
    "Given two times as strings `a` and `b` in format like `17:34`, RETURN the duration in minutes between them as an integer. \n",
    "\n",
    "To calculate gap durations, **we assume a meeting NEVER ends after midnight**"
   ]
  },
  {
   "cell_type": "code",
   "execution_count": 4,
   "metadata": {},
   "outputs": [],
   "source": [
    "def duration(a, b):\n",
    "    #jupman-raise\n",
    "    asp = a.split(':')    \n",
    "    ta = int(asp[0])*60+int(asp[1]) \n",
    "    bsp = b.split(':')\n",
    "    tb = int(bsp[0])*60 + int(bsp[1])\n",
    "    return tb - ta\n",
    "    #/jupman-raise\n",
    "    \n",
    "assert duration('15:00','15:34') == 34\n",
    "assert duration('15:00','17:34') == 120 + 34\n",
    "assert duration('15:50','16:12') == 22\n",
    "assert duration('09:55','11:06') == 5 + 60 + 6\n",
    "assert duration('00:00','00:01') == 1\n",
    "#assert duration('11:58','00:01') == 3  # no need to support this case !!"
   ]
  },
  {
   "cell_type": "markdown",
   "metadata": {},
   "source": [
    "### A3.2 calc_stats\n",
    "\n",
    "We want to know something about the time each participant has been disconnected from the exam. We call such intervals `gaps`, which are the difference between a session leave time and successive session join time.\n",
    "\n",
    "Implement the function `calc_stats` that given a cleaned log produced by `load`, RETURN a dictionary mapping each partecipant to a dictionary with these statistics:\n",
    "\n",
    "- `max_gap` : the longest time in minutes in which the participant has been disconnected\n",
    "- `gaps` : the number of disconnections happend to the participant during the meeting\n",
    "- `time_away` : the total time in minutes during which the participant has been disconnected during the meeting\n",
    "\n",
    "To calculate gap durations, **we assume a meeting NEVER ends after midnight**\n",
    "\n",
    "For the data format details, see `EXPECTED_STATS` below.\n",
    "\n",
    "<div class=\"alert alert-warning\">\n",
    "\n",
    "**To test the function, you DON'T NEED to have correctly implemented previous functions** \n",
    "\n",
    "</div>\n"
   ]
  },
  {
   "cell_type": "code",
   "execution_count": 5,
   "metadata": {},
   "outputs": [
    {
     "data": {
      "text/plain": [
       "{'Bowser': {'gaps': 3, 'max_gap': 24, 'time_away': 38},\n",
       " 'Luigi': {'gaps': 1, 'max_gap': 2, 'time_away': 2},\n",
       " 'Mario': {'gaps': 4, 'max_gap': 3, 'time_away': 8},\n",
       " 'Princess Toadstool': {'gaps': 0, 'max_gap': 0, 'time_away': 0},\n",
       " 'Wario': {'gaps': 4, 'max_gap': 15, 'time_away': 25}}"
      ]
     },
     "execution_count": 5,
     "metadata": {},
     "output_type": "execute_result"
    }
   ],
   "source": [
    "\n",
    "def calc_stats(log):\n",
    "    #jupman-raise\n",
    "    ret = {}\n",
    "    \n",
    "    last_sessions = {}\n",
    "    \n",
    "    first = True\n",
    "    for session in log:\n",
    "        if first:\n",
    "            first = False\n",
    "            continue\n",
    "        date = session[2]\n",
    "        participant = session[3]\n",
    "        join_time = session[4]\n",
    "        leave_time = session[5]\n",
    "        reason = session[6]\n",
    "        \n",
    "        if participant not in ret:\n",
    "            ret[participant] = {'max_gap': 0,\n",
    "                                'gaps': 0,\n",
    "                                'time_away':0\n",
    "                               }                                        \n",
    "        \n",
    "        if participant in last_sessions:\n",
    "            last_leave_time = last_sessions[participant][5]                        \n",
    "            gap = duration(last_leave_time, join_time)            \n",
    "            ret[participant]['max_gap'] = max(gap, ret[participant]['max_gap'])\n",
    "            ret[participant]['gaps'] += 1\n",
    "            ret[participant]['time_away'] += gap\n",
    "        \n",
    "        last_sessions[participant] = session\n",
    "    return ret\n",
    "    #/jupman-raise\n",
    "    \n",
    "\n",
    "stats = calc_stats(meeting_log)\n",
    "\n",
    "# in case you had trouble implementing load function, use this: \n",
    "#stats = calc_stats(EXPECTED_MEETING_LOG)\n",
    "\n",
    "stats"
   ]
  },
  {
   "cell_type": "code",
   "execution_count": 6,
   "metadata": {},
   "outputs": [],
   "source": [
    "EXPECTED_STATS = {            'Bowser': {'gaps': 3, 'max_gap': 24, 'time_away': 38},\n",
    "                               'Luigi': {'gaps': 1, 'max_gap': 2,  'time_away': 2},\n",
    "                               'Mario': {'gaps': 4, 'max_gap': 3,  'time_away': 8},\n",
    "                  'Princess Toadstool': {'gaps': 0, 'max_gap': 0,  'time_away': 0},\n",
    "                               'Wario': {'gaps': 4, 'max_gap': 15, 'time_away': 25}}\n",
    "\n",
    "assert stats == EXPECTED_STATS"
   ]
  },
  {
   "cell_type": "markdown",
   "metadata": {},
   "source": [
    "### A4 viz\n",
    "\n",
    "Produce a bar chart of the statistics you calculated before. For how to do it, see examples in [Visualiation tutorial](https://datasciprolab.readthedocs.io/en/latest/exercises/visualization/visualization-solution.html)\n",
    "\n",
    "- participant names MUST be sorted in alphabetical order\n",
    "- remember to put title, legend and axis labels\n",
    "\n",
    "<div class=\"alert alert-warning\">\n",
    "\n",
    "**To test the function, you DON'T NEED to have correctly implemented previous functions** \n",
    "\n",
    "</div>\n"
   ]
  },
  {
   "cell_type": "code",
   "execution_count": 7,
   "metadata": {},
   "outputs": [
    {
     "data": {
      "image/png": "[encoded data removed]",
      "text/plain": [
       "<Figure size 720x216 with 1 Axes>"
      ]
     },
     "metadata": {
      "needs_background": "light"
     },
     "output_type": "display_data"
    }
   ],
   "source": [
    "%matplotlib inline\n",
    "\n",
    "import numpy as np\n",
    "import matplotlib.pyplot as plt\n",
    "\n",
    "def viz(stats):\n",
    "    #jupman-raise\n",
    "    \n",
    "    xs = np.arange(len(stats))\n",
    "    ys_max_gap = []\n",
    "    ys_time_away = []\n",
    "    \n",
    "    labels = list(sorted(stats.keys()))\n",
    "    \n",
    "    for participant in sorted(stats):\n",
    "        pstats = stats[participant]\n",
    "        ys_max_gap.append(pstats['max_gap'])\n",
    "        ys_time_away.append(pstats['time_away'])\n",
    "        \n",
    "    width = 0.35\n",
    "    fig, ax = plt.subplots(figsize=(10,3))\n",
    "    rects1 = ax.bar(xs - width/2, ys_max_gap, width, \n",
    "                    color='red', label='max gap')\n",
    "    rects2 = ax.bar(xs + width/2, ys_time_away, width,\n",
    "                    color='darkred', label='time_away')\n",
    "\n",
    "    plt.xticks(xs, labels)\n",
    "        \n",
    "    ax.set_title('Zoom Surveillance SOLUTION')\n",
    "    ax.legend()\n",
    "    \n",
    "    \n",
    "    plt.ylabel('minutes')\n",
    "    plt.savefig('surveillance.png')\n",
    "    plt.show()\n",
    "    #/jupman-raise\n",
    "        \n",
    "viz(stats)\n",
    "\n",
    "# in case you had trouble implementing calc_stats, use this:\n",
    "#viz(EXPECTED_STATS)\n"
   ]
  },
  {
   "cell_type": "markdown",
   "metadata": {},
   "source": [
    "![surveillance](surveillance.png)"
   ]
  },
  {
   "cell_type": "markdown",
   "metadata": {},
   "source": [
    "## Part B"
   ]
  },
  {
   "cell_type": "markdown",
   "metadata": {},
   "source": [
    "### B1 Theory\n",
    "\n",
    "**Write the solution in separate** `theory.txt` **file**\n",
    "\n",
    "### B1.1 complexity\n",
    "\n",
    "Given a list `L` of `n` positive integers, please compute the asymptotic computational complexity of the following function, explaining your reasoning.\n",
    "\n",
    "\n",
    "```python\n",
    " \n",
    "def my_max(L):\n",
    "    M = -1\n",
    "    for e in L:\n",
    "        if e > M:\n",
    "            M = e\n",
    "    return M\n",
    "\n",
    "def my_fun(L):\n",
    "    n = len(L)\n",
    "    out = 0\n",
    "    for i in range(5):\n",
    "        out = out + my_max(L[i:])\n",
    "    return out\n",
    "```\n",
    "\n",
    "### B1.2 describe\n",
    "\n",
    "Briefly describe what a bidirectional linked list is. How does it differ from a queue?"
   ]
  },
  {
   "cell_type": "markdown",
   "metadata": {},
   "source": [
    "### B2 - LinkedList slice\n",
    "\n",
    "**Open a text editor** and edit file `linked_list_exercise.py`\n",
    "\n",
    "Implement the method `slice`:\n",
    "\n",
    "```python\n",
    "    def slice(self, start, end):\n",
    "        \"\"\" RETURN a NEW LinkedList created by copying nodes of this list\n",
    "            from index start INCLUDED to index end EXCLUDED\n",
    "        \n",
    "            - if start is greater or equal than end, returns an empty LinkedList\n",
    "            - if start is greater than available nodes, returns an empty LinkedList\n",
    "            - if end is greater than the available nodes, copies all items until the tail without errors\n",
    "            - if start index is negative, raises ValueError\n",
    "            - if end index is negative, raises ValueError            \n",
    "\n",
    "            - IMPORTANT: All nodes in the returned LinkedList MUST be NEW\n",
    "            - DO *NOT* modify original linked list\n",
    "            - DO *NOT* add an extra size field\n",
    "            - MUST execute in O(n), where n is the size of the list\n",
    "            \n",
    "        \"\"\"\n",
    "```\n",
    "\n",
    "**Testing**: `python3 -m unittest linked_list_test.SliceTest`\n",
    "\n",
    "**Example**:"
   ]
  },
  {
   "cell_type": "code",
   "execution_count": 8,
   "metadata": {},
   "outputs": [],
   "source": [
    "from linked_list_solution import *"
   ]
  },
  {
   "cell_type": "code",
   "execution_count": 9,
   "metadata": {},
   "outputs": [],
   "source": [
    "la = LinkedList()\n",
    "la.add('g')\n",
    "la.add('f')\n",
    "la.add('e')\n",
    "la.add('d')\n",
    "la.add('c')\n",
    "la.add('b')\n",
    "la.add('a')"
   ]
  },
  {
   "cell_type": "code",
   "execution_count": 10,
   "metadata": {},
   "outputs": [
    {
     "name": "stdout",
     "output_type": "stream",
     "text": [
      "LinkedList: a,b,c,d,e,f,g\n"
     ]
    }
   ],
   "source": [
    "print(la)"
   ]
  },
  {
   "cell_type": "markdown",
   "metadata": {},
   "source": [
    "Creates a **NEW** `LinkedList` copying nodes from index `2` INCLUDED up to index `5` EXCLUDED:"
   ]
  },
  {
   "cell_type": "code",
   "execution_count": 11,
   "metadata": {},
   "outputs": [],
   "source": [
    "lb = la.slice(2,5)"
   ]
  },
  {
   "cell_type": "code",
   "execution_count": 12,
   "metadata": {},
   "outputs": [
    {
     "name": "stdout",
     "output_type": "stream",
     "text": [
      "LinkedList: c,d,e\n"
     ]
    }
   ],
   "source": [
    "print(lb)"
   ]
  },
  {
   "cell_type": "markdown",
   "metadata": {},
   "source": [
    "Note original `LinkedList` is still intact:"
   ]
  },
  {
   "cell_type": "code",
   "execution_count": 13,
   "metadata": {},
   "outputs": [
    {
     "name": "stdout",
     "output_type": "stream",
     "text": [
      "LinkedList: a,b,c,d,e,f,g\n"
     ]
    }
   ],
   "source": [
    "print(la)"
   ]
  },
  {
   "cell_type": "markdown",
   "metadata": {},
   "source": [
    "#### Special cases"
   ]
  },
  {
   "cell_type": "markdown",
   "metadata": {},
   "source": [
    "If `start` is greater or equal then `end`, you get an empty `LinkedList`:"
   ]
  },
  {
   "cell_type": "code",
   "execution_count": 14,
   "metadata": {},
   "outputs": [
    {
     "name": "stdout",
     "output_type": "stream",
     "text": [
      "LinkedList: \n"
     ]
    }
   ],
   "source": [
    "print(la.slice(5,3))"
   ]
  },
  {
   "cell_type": "markdown",
   "metadata": {},
   "source": [
    "If `start` is greater than available nodes, you get an empty `LinkedList`:"
   ]
  },
  {
   "cell_type": "code",
   "execution_count": 15,
   "metadata": {},
   "outputs": [
    {
     "name": "stdout",
     "output_type": "stream",
     "text": [
      "LinkedList: \n"
     ]
    }
   ],
   "source": [
    "print(la.slice(10,15))"
   ]
  },
  {
   "cell_type": "markdown",
   "metadata": {},
   "source": [
    "If `end` is greater than the available nodes, you get a copy of all the nodes until the tail without errors:"
   ]
  },
  {
   "cell_type": "code",
   "execution_count": 16,
   "metadata": {},
   "outputs": [
    {
     "name": "stdout",
     "output_type": "stream",
     "text": [
      "LinkedList: d,e,f,g\n"
     ]
    }
   ],
   "source": [
    "print(la.slice(3,10))"
   ]
  },
  {
   "cell_type": "markdown",
   "metadata": {},
   "source": [
    "Using negative indexes for either `start` , `end` or both raises `ValueError`:"
   ]
  },
  {
   "cell_type": "markdown",
   "metadata": {},
   "source": [
    "```python\n",
    "la.slice(-3,4)\n",
    "\n",
    "---------------------------------------------------------------------------\n",
    "ValueError                                Traceback (most recent call last)\n",
    "<ipython-input-184-e3380bb66e77> in <module>()\n",
    "----> 1 la.slice(-3,4)\n",
    "\n",
    "~/Da/prj/datasciprolab/prj/exams/2020-06-16/linked_list_solution.py in slice(self, start, end)\n",
    "     63 \n",
    "     64         if start < 0:\n",
    "---> 65             raise ValueError('Negative values for start are not supported! %s ' % start)\n",
    "     66         if end < 0:\n",
    "     67             raise ValueError('Negative values for end are not supported: %s' % end)\n",
    "\n",
    "ValueError: Negative values for start are not supported! -3 \n",
    "```"
   ]
  },
  {
   "cell_type": "markdown",
   "metadata": {},
   "source": [
    "```python\n",
    "la.slice(1,-2)\n",
    "\n",
    "---------------------------------------------------------------------------\n",
    "ValueError                                Traceback (most recent call last)\n",
    "<ipython-input-185-8e09ec468c30> in <module>()\n",
    "----> 1 la.slice(1,-2)\n",
    "\n",
    "~/Da/prj/datasciprolab/prj/exams/2020-06-16/linked_list_solution.py in slice(self, start, end)\n",
    "     65             raise ValueError('Negative values for start are not supported! %s ' % start)\n",
    "     66         if end < 0:\n",
    "---> 67             raise ValueError('Negative values for end are not supported: %s' % end)\n",
    "     68 \n",
    "     69         ret = LinkedList()\n",
    "\n",
    "ValueError: Negative values for end are not supported: -2\n",
    "```    "
   ]
  },
  {
   "cell_type": "markdown",
   "metadata": {},
   "source": [
    "### B3 BinaryTree prune_rec\n",
    "\n",
    "\n",
    "Implement the method `prune_rec`:\n",
    "\n",
    "```python\n",
    "    def prune_rec(self, el):\n",
    "        \"\"\" MODIFIES the tree by cutting all the subtrees that have their \n",
    "            root node data equal to el. By 'cutting' we mean they are no longer linked \n",
    "            by the tree on which prune is called.\n",
    "\n",
    "            - if prune is called on a node having data equal to el, raises ValueError\n",
    "            \n",
    "            - MUST execute in O(n) where n is the number of nodes of the tree\n",
    "            - NOTE: with big trees a recursive solution would surely \n",
    "                    exceed the call stack, but here we don't mind\n",
    "        \"\"\"\n",
    "```\n",
    "\n",
    "**Testing**: `python3 -m unittest bin_tree_test.PruneRecTest`\n",
    "\n",
    "**Example**:"
   ]
  },
  {
   "cell_type": "code",
   "execution_count": 17,
   "metadata": {},
   "outputs": [],
   "source": [
    "from bin_tree_solution import *\n",
    "from bin_tree_test import bt"
   ]
  },
  {
   "cell_type": "code",
   "execution_count": 18,
   "metadata": {},
   "outputs": [],
   "source": [
    "t = bt('a',\n",
    "            bt('b',\n",
    "                   bt('z'),\n",
    "                   bt('c',\n",
    "                        bt('d'),\n",
    "                        bt('z',\n",
    "                               None,\n",
    "                               bt('e')))),\n",
    "            bt('z', \n",
    "                   bt('f'),\n",
    "                   bt('z', \n",
    "                          None,\n",
    "                          bt('g'))))"
   ]
  },
  {
   "cell_type": "code",
   "execution_count": 19,
   "metadata": {},
   "outputs": [
    {
     "name": "stdout",
     "output_type": "stream",
     "text": [
      "a\n",
      "├b\n",
      "│├z\n",
      "│└c\n",
      "│ ├d\n",
      "│ └z\n",
      "│  ├\n",
      "│  └e\n",
      "└z\n",
      " ├f\n",
      " └z\n",
      "  ├\n",
      "  └g\n"
     ]
    }
   ],
   "source": [
    "print(t)"
   ]
  },
  {
   "cell_type": "code",
   "execution_count": 20,
   "metadata": {},
   "outputs": [],
   "source": [
    "t.prune_rec('z')"
   ]
  },
  {
   "cell_type": "code",
   "execution_count": 21,
   "metadata": {},
   "outputs": [
    {
     "name": "stdout",
     "output_type": "stream",
     "text": [
      "a\n",
      "├b\n",
      "│├\n",
      "│└c\n",
      "│ ├d\n",
      "│ └\n",
      "└\n"
     ]
    }
   ],
   "source": [
    "print(t)"
   ]
  },
  {
   "cell_type": "code",
   "execution_count": 22,
   "metadata": {},
   "outputs": [],
   "source": [
    "t.prune_rec('c')"
   ]
  },
  {
   "cell_type": "code",
   "execution_count": 23,
   "metadata": {},
   "outputs": [
    {
     "name": "stdout",
     "output_type": "stream",
     "text": [
      "a\n",
      "├b\n",
      "└\n"
     ]
    }
   ],
   "source": [
    "print(t)"
   ]
  },
  {
   "cell_type": "markdown",
   "metadata": {},
   "source": [
    "Trying to prune the root will throw a `ValueError`:"
   ]
  },
  {
   "cell_type": "markdown",
   "metadata": {},
   "source": [
    "```python\n",
    "t.prune_rec('a')\n",
    "\n",
    "---------------------------------------------------------------------------\n",
    "ValueError                                Traceback (most recent call last)\n",
    "<ipython-input-27-f8e8fa8a97dd> in <module>()\n",
    "----> 1 t.prune_rec('a')\n",
    "\n",
    "ValueError: Tried to prune the tree root !\n",
    "```    "
   ]
  },
  {
   "cell_type": "code",
   "execution_count": 24,
   "metadata": {
    "nbsphinx": "hidden"
   },
   "outputs": [
    {
     "name": "stderr",
     "output_type": "stream",
     "text": [
      "...................\n",
      "----------------------------------------------------------------------\n",
      "Ran 19 tests in 0.021s\n",
      "\n",
      "OK\n",
      "................\n",
      "----------------------------------------------------------------------\n",
      "Ran 16 tests in 0.026s\n",
      "\n",
      "OK\n"
     ]
    }
   ],
   "source": [
    "import sys\n",
    "sys.path.append('../../')\n",
    "import jupman\n",
    "import linked_list_test\n",
    "import bin_tree_test\n",
    "\n",
    "jupman.run(linked_list_test)\n",
    "jupman.run(bin_tree_test)"
   ]
  },
  {
   "cell_type": "code",
   "execution_count": null,
   "metadata": {},
   "outputs": [],
   "source": []
  }
 ],
 "metadata": {
  "celltoolbar": "Edit Metadata",
  "kernelspec": {
   "display_name": "Python 3",
   "language": "python",
   "name": "python3"
  },
  "language_info": {
   "codemirror_mode": {
    "name": "ipython",
    "version": 3
   },
   "file_extension": ".py",
   "mimetype": "text/x-python",
   "name": "python",
   "nbconvert_exporter": "python",
   "pygments_lexer": "ipython3",
   "version": "3.5.2"
  },
  "toc": {
   "base_numbering": 1,
   "nav_menu": {},
   "number_sections": false,
   "sideBar": true,
   "skip_h1_title": false,
   "title_cell": "Table of Contents",
   "title_sidebar": "Contents",
   "toc_cell": false,
   "toc_position": {},
   "toc_section_display": true,
   "toc_window_display": true
  }
 },
 "nbformat": 4,
 "nbformat_minor": 1
}
