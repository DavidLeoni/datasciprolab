{
 "cells": [
  {
   "cell_type": "markdown",
   "metadata": {},
   "source": [
    "# Exam -  Friday 17, June 2020 - solutions\n",
    "\n",
    "**Scientific Programming - Data Science @ University of Trento**\n",
    "\n",
    "## [Download exercises and solutions](../../_static/datasciprolab-2020-07-17-exam.zip)"
   ]
  },
  {
   "cell_type": "markdown",
   "metadata": {
    "collapsed": true
   },
   "source": [
    "## Introduction\n",
    "\n",
    "* **Taking part to this exam erases any vote you had before**\n"
   ]
  },
  {
   "cell_type": "markdown",
   "metadata": {},
   "source": [
    "\n",
    "### Grading\n",
    "\n",
    "\n",
    "* **Correct implementations**: Correct implementations with the required complexity grant you full grade.\n",
    "* **Partial implementations**: Partial implementations _might_ still give you a few points. If you just can't solve an exercise,  try to solve it at least for some subcase (i.e. array of fixed size 2) commenting why you did so. \n",
    "\n",
    "### Valid code"
   ]
  },
  {
   "cell_type": "markdown",
   "metadata": {
    "scrolled": true
   },
   "source": [
    "<div class=\"alert alert-warning\">\n",
    "\n",
    "**WARNING**: MAKE SURE ALL EXERCISE FILES AT LEAST COMPILE !!! \n",
    "10 MINS BEFORE THE END OF THE EXAM I WILL ASK YOU TO DO A FINAL CLEAN UP OF THE CODE \n",
    "</div>\n",
    "\n",
    "\n",
    "\n",
    "<div class=\"alert alert-warning\">\n",
    "\n",
    "**WARNING**: _ONLY_ IMPLEMENTATIONS OF THE PROVIDED FUNCTION SIGNATURES WILL BE EVALUATED !!!!!!!!! <br/>    \n",
    "\n",
    "</div>"
   ]
  },
  {
   "cell_type": "markdown",
   "metadata": {},
   "source": [
    "\n",
    "For example, if you are given to implement: \n",
    "\n",
    "```python\n",
    "    def f(x):\n",
    "        raise Exception(\"TODO implement me\")\n",
    "```\n",
    "\n",
    "and you ship this code:\n",
    "\n",
    "``` python\n",
    "def my_f(x):\n",
    "    # a super fast, correct and stylish implementation\n",
    "\n",
    "def f(x):\n",
    "    raise Exception(\"TODO implement me\")\n",
    "```\n",
    "\n",
    "We will assess only the latter one `f(x)`, and conclude it doesn't work at all :P   !!!!!!!\n",
    "\n",
    "**Helper functions**\n",
    "\n",
    "Still, you are allowed to define any extra helper function you might need. If your `f(x)` implementation calls some other function you defined like `my_f` here, it is ok:\n",
    "\n",
    "```python\n",
    "# Not called by f, will get ignored:\n",
    "def my_g(x):\n",
    "    # bla\n",
    "\n",
    "# Called by f, will be graded:\n",
    "def my_f(y,z):\n",
    "    # bla\n",
    "\n",
    "def f(x):\n",
    "    my_f(x,5)\n",
    "```\n",
    "\n",
    "### How to edit and run\n",
    "\n",
    "To edit the files, you can use any editor of your choice,  you can find them under _Applications->Programming_:\n",
    "\n",
    "* **Visual Studio Code**\n",
    "* Editra is easy to use, you can find it under _Applications->Programming->Editra_.\n",
    "* Others could be _GEdit_ (simpler), or _PyCharm_ (more complex).\n",
    "\n",
    "To run the tests, use **the Terminal** which can be found in _Accessories -> Terminal_ \n"
   ]
  },
  {
   "cell_type": "markdown",
   "metadata": {},
   "source": [
    "\n",
    "<div class=\"alert alert-info\">\n",
    "\n",
    "**IMPORTANT**: Pay close attention to the comments of the functions.\n",
    "</div>\n",
    "\n",
    "<div class=\"alert alert-warning\">\n",
    "\n",
    "**WARNING**: _DON'T_ modify function signatures! Just provide the implementation.\n",
    "</div>\n",
    "\n",
    "<div class=\"alert alert-warning\">\n",
    "\n",
    "**WARNING**: <i>DON'T</i> change the existing test methods, just add new ones !!!  You can add as many as you want.\n",
    "</div>\n",
    "\n",
    "<div class=\"alert alert-warning\">\n",
    "\n",
    "**WARNING**: _DON'T_ create other files. If you still do it, they won't be evaluated.\n",
    "</div>\n",
    "\n",
    "\n"
   ]
  },
  {
   "cell_type": "markdown",
   "metadata": {},
   "source": [
    "### Debugging \n",
    "\n",
    "If you need to print some debugging information, you are allowed to put extra <code>print</code>\n",
    "    statements in the function bodies."
   ]
  },
  {
   "cell_type": "markdown",
   "metadata": {},
   "source": [
    "\n",
    "<div class=\"alert alert-warning\">\n",
    "\n",
    "**WARNING:** even if print statements are allowed, be careful with prints that might\n",
    "     break your function! \n",
    "</div>\n"
   ]
  },
  {
   "cell_type": "markdown",
   "metadata": {},
   "source": [
    "For example, avoid stuff like this: \n",
    "\n",
    "```python\n",
    "x = 0\n",
    "print(1/x)\n",
    "```\n"
   ]
  },
  {
   "cell_type": "markdown",
   "metadata": {},
   "source": [
    "### What to do\n",
    "\n",
    "1) Download  `datasciprolab-2020-07-17-exam.zip` and extract it <b>on your desktop</b>. Folder content should be like this:\n",
    "\n",
    "```\n",
    "\n",
    "datasciprolab-2020-07-17-FIRSTNAME-LASTNAME-ID\n",
    "   exam-2020-07-17-exercise.ipynb\n",
    "   theory.txt\n",
    "   office_queue_exercise.py\n",
    "   office_queue_test.py   \n",
    "```\n",
    "\n",
    "2) Rename `datasciprolab-2020-07-17-FIRSTNAME-LASTNAME-ID` folder: put your name, lastname an id number, like `datasciprolab-2020-07-17-john-doe-432432`\n",
    "\n",
    "From now on, you will be editing the files in that folder. At the end of the exam, that is what will be evaluated.\n",
    "\n",
    "3) Edit the files following the instructions in this worksheet for each exercise. Every exercise should take max 25 mins. If it takes longer, leave it and try another exercise.\n",
    "\n",
    "4) When done:\n",
    "\n",
    "- if you have unitn login:  zip and send to [examina.icts.unitn.it/studente](http://examina.icts.unitn.it/studente)\n",
    "  \n",
    "- If you don't have unitn login: tell instructors and we will download your work manually"
   ]
  },
  {
   "cell_type": "markdown",
   "metadata": {},
   "source": [
    "## Part A - NACE codes\n",
    "\n",
    "\n",
    "https://ec.europa.eu/eurostat/ramon/nomenclatures/index.cfm?TargetUrl=LST_CLS_DLD&StrNom=NACE_REV2&StrLanguageCode=EN&StrLayoutCode=HIERARCHIC#\n",
    "\n",
    "So you want to be a data scientist. Good, plenty of oopportunities ahead!\n",
    "\n",
    "After graduating, you might discover though that many companies require you to actually work as a freelancer: you will just need to declare to the state which type of economic activity you are going to perform, they say. Seems easy, but you will soon encounter a pretty burocratic problem: do public institutions even _know_ what a data scientist is? If not, what is the closest category they recognize? Is there any specific _exclusion_ that would bar you from entering that category?\n",
    "\n",
    "If you are in Europe, you will be presented with a catalog of economic activites you can choose from called [NACE](https://ec.europa.eu/eurostat/ramon/nomenclatures/index.cfm?TargetUrl=LST_NOM_DTL&StrNom=NACE_REV2&StrLanguageCode=EN&IntPcKey=&StrLayoutCode=HIERARCHIC), which is then further specialized by various states (for example Italy's catalog is called [ATECO](https://www.istat.it/it/archivio/17888))\n",
    "\n",
    "### Sections\n",
    "\n",
    "A NACE code is subdivided in a hierarchical, four-level structure. The categories at the highest level are called _sections_, here they are:\n",
    "\n",
    "![](img/nace-sections.jpg)"
   ]
  },
  {
   "cell_type": "markdown",
   "metadata": {},
   "source": [
    "### Section detail\n",
    "\n",
    "If you drill down in say, section `M`, you will find something like this:\n",
    "\n",
    "The first two digits of the code identify the _division_, the third digit identifies the _group_, and the fourth digit identifies the _class_:\n",
    "\n",
    "\n",
    "![](img/example-nace.jpg)"
   ]
  },
  {
   "cell_type": "markdown",
   "metadata": {},
   "source": [
    "\n",
    "Let's pick for example _Advertising agencies_, which has code `73.11`:\n",
    "\n",
    "|Level|        |Code  |Spec | Description|\n",
    "|--------|----|-|-|-|\n",
    "|1|**Section** |**M**|a single alphabetic char| PROFESSIONAL, SCIENTIFIC AND TECHNICAL ACTIVITIES|\n",
    "|2|**Division**|**73**|two-digits|Advertising and market research|\n",
    "|3|**Group**| **73.1** |three-digits, with dot after first two|Advertising|\n",
    "|4|**Class**| **73.12**|four-digits, with dot after first two|Advertising agencies|\n"
   ]
  },
  {
   "cell_type": "markdown",
   "metadata": {},
   "source": [
    "### Specifications\n",
    "\n",
    "<div class=\"alert alert-warning\">\n",
    "            \n",
    "**WARNING: CODES MAY CONTAIN ZEROES!**\n",
    "\n",
    "\n",
    "**IF YOU LOAD THE CSV IN LIBREOFFICE CALC OR EXCEL, MAKE SURE IT IMPORTS EVERYTHING AS STRING!**\n",
    "\n",
    "**WATCH OUT FOR CHOPPED ZEROES !**\n",
    "\n",
    "</div>\n",
    "\n",
    "**Zero examples**:\n",
    "\n",
    "* _Veterinary activities_ contains a double zero _at the end_: `75.00`  </li>\n",
    "*  group _Manufacture of beverages_ contains a single zero at the end:  `11.0` </li>\n",
    "*  _Manufacture of beer_ contains zero _inside_: `11.05` </li>\n",
    "*  _Support services to forestry_ contains a zero _at the beginning_: `02.4` which is different from  `02.40` even if they have the same description ! \n",
    "\n",
    "**The section level code is not integrated in the NACE code**: For example, the activity _Manufacture of glues_ is identified by the code `20.52`, where `20` is the code for the division, `20.5` is the code for the group and `20.52` is the code of the class; section `C`, to which this class belongs, does not appear in the code itself.\n",
    "\n",
    "\n",
    "**There may be gaps** (not very important for us): The divisions are coded consecutively. However, some \"gaps\" have been provided to allow the introduction of additional divisions without a complete change of the NACE coding. "
   ]
  },
  {
   "cell_type": "markdown",
   "metadata": {},
   "source": [
    "### NACE CSV\n",
    "\n",
    "We provide you with a CSV  [NACE_REV2_20200628_213139.csv](NACE_REV2_20200628_213139.csv) that contains all the codes. Try to explore it with LibreOffice Calc or pandas\n",
    "\n",
    "Here we show some relevant parts (**NOTE**: for part A you will **NOT** need to use pandas)"
   ]
  },
  {
   "cell_type": "code",
   "execution_count": 1,
   "metadata": {},
   "outputs": [
    {
     "name": "stdout",
     "output_type": "stream",
     "text": [
      "<class 'pandas.core.frame.DataFrame'>\n",
      "RangeIndex: 996 entries, 0 to 995\n",
      "Data columns (total 10 columns):\n",
      "Order                       996 non-null int64\n",
      "Level                       996 non-null int64\n",
      "Code                        996 non-null object\n",
      "Parent                      975 non-null object\n",
      "Description                 996 non-null object\n",
      "This item includes          778 non-null object\n",
      "This item also includes     202 non-null object\n",
      "Rulings                     134 non-null object\n",
      "This item excludes          507 non-null object\n",
      "Reference to ISIC Rev. 4    996 non-null object\n",
      "dtypes: int64(2), object(8)\n",
      "memory usage: 77.9+ KB\n"
     ]
    }
   ],
   "source": [
    "\n",
    "import pandas as pd   # we import pandas and for ease we rename it to 'pd'\n",
    "import numpy as np    # we import numpy and for ease we rename it to 'np'\n",
    "\n",
    "pd.set_option('display.max_colwidth', -1)           \n",
    "df = pd.read_csv('NACE_REV2_20200628_213139.csv', encoding='UTF-8')\n",
    "df.info()\n"
   ]
  },
  {
   "cell_type": "code",
   "execution_count": 2,
   "metadata": {
    "scrolled": false
   },
   "outputs": [
    {
     "data": {
      "text/html": [
       "<div>\n",
       "<style scoped>\n",
       "    .dataframe tbody tr th:only-of-type {\n",
       "        vertical-align: middle;\n",
       "    }\n",
       "\n",
       "    .dataframe tbody tr th {\n",
       "        vertical-align: top;\n",
       "    }\n",
       "\n",
       "    .dataframe thead th {\n",
       "        text-align: right;\n",
       "    }\n",
       "</style>\n",
       "<table border=\"1\" class=\"dataframe\">\n",
       "  <thead>\n",
       "    <tr style=\"text-align: right;\">\n",
       "      <th></th>\n",
       "      <th>Order</th>\n",
       "      <th>Level</th>\n",
       "      <th>Code</th>\n",
       "      <th>Parent</th>\n",
       "      <th>Description</th>\n",
       "      <th>This item includes</th>\n",
       "      <th>This item also includes</th>\n",
       "      <th>Rulings</th>\n",
       "      <th>This item excludes</th>\n",
       "      <th>Reference to ISIC Rev. 4</th>\n",
       "    </tr>\n",
       "  </thead>\n",
       "  <tbody>\n",
       "    <tr>\n",
       "      <th>0</th>\n",
       "      <td>398481</td>\n",
       "      <td>1</td>\n",
       "      <td>A</td>\n",
       "      <td>NaN</td>\n",
       "      <td>AGRICULTURE, FORESTRY AND FISHING</td>\n",
       "      <td>This section includes the exploitation of vegetal and animal natural resources, comprising the activities of growing of crops, raising and breeding of animals, harvesting of timber and other plants, animals or animal products from a farm or their natural habitats.</td>\n",
       "      <td>NaN</td>\n",
       "      <td>NaN</td>\n",
       "      <td>NaN</td>\n",
       "      <td>A</td>\n",
       "    </tr>\n",
       "    <tr>\n",
       "      <th>1</th>\n",
       "      <td>398482</td>\n",
       "      <td>2</td>\n",
       "      <td>01</td>\n",
       "      <td>A</td>\n",
       "      <td>Crop and animal production, hunting and related service activities</td>\n",
       "      <td>This division includes two basic activities, namely the production of crop products and production of animal products, covering also the forms of organic agriculture, the growing of genetically modified crops and the raising of genetically modified animals. This division includes growing of crops in open fields as well in greenhouses.\\n \\nGroup 01.5 (Mixed farming) breaks with the usual principles for identifying main activity. It accepts that many agricultural holdings have reasonably balanced crop and animal production, and that it would be arbitrary to classify them in one category or the other.</td>\n",
       "      <td>This division also includes service activities incidental to agriculture, as well as hunting, trapping and related activities.</td>\n",
       "      <td>NaN</td>\n",
       "      <td>Agricultural activities exclude any subsequent processing of the agricultural products (classified under divisions 10 and 11 (Manufacture of food products and beverages) and division 12 (Manufacture of tobacco products)), beyond that needed to prepare them for the primary markets. The preparation of products for the primary markets is included here.\\n\\nThe division excludes field construction (e.g. agricultural land terracing, drainage, preparing rice paddies etc.) classified in section F (Construction) and buyers and cooperative associations engaged in the marketing of farm products classified in section G. Also excluded is the landscape care and maintenance, which is classified in class 81.30.</td>\n",
       "      <td>01</td>\n",
       "    </tr>\n",
       "    <tr>\n",
       "      <th>2</th>\n",
       "      <td>398483</td>\n",
       "      <td>3</td>\n",
       "      <td>01.1</td>\n",
       "      <td>01</td>\n",
       "      <td>Growing of non-perennial crops</td>\n",
       "      <td>This group includes the growing of non-perennial crops, i.e. plants that do not last for more than two growing seasons. Included is the growing of these plants for the purpose of seed production.</td>\n",
       "      <td>NaN</td>\n",
       "      <td>NaN</td>\n",
       "      <td>NaN</td>\n",
       "      <td>011</td>\n",
       "    </tr>\n",
       "    <tr>\n",
       "      <th>3</th>\n",
       "      <td>398484</td>\n",
       "      <td>4</td>\n",
       "      <td>01.11</td>\n",
       "      <td>01.1</td>\n",
       "      <td>Growing of cereals (except rice), leguminous crops and oil seeds</td>\n",
       "      <td>This class includes all forms of growing of cereals, leguminous crops and oil seeds in open fields. The growing of these crops is often combined within agricultural units.\\n\\nThis class includes:\\n- growing of cereals such as:\\n  . wheat\\n  . grain maize\\n  . sorghum\\n  . barley\\n  . rye\\n  . oats\\n  . millets\\n  . other cereals n.e.c.\\n- growing of leguminous crops such as:\\n  . beans\\n  . broad beans\\n  . chick peas\\n  . cow peas\\n  . lentils\\n  . lupines\\n  . peas\\n  . pigeon peas\\n  . other leguminous crops\\n- growing of oil seeds such as:\\n  . soya beans\\n  . groundnuts\\n  . castor bean\\n  . linseed\\n  . mustard seed\\n  . niger seed\\n  . rapeseed\\n  . safflower seed\\n  . sesame seed\\n  . sunflower seed\\n  . other oil seeds</td>\n",
       "      <td>NaN</td>\n",
       "      <td>NaN</td>\n",
       "      <td>This class excludes:\\n- growing of rice, see 01.12\\n- growing of sweet corn, see 01.13\\n- growing of maize for fodder, see 01.19\\n- growing of oleaginous fruits, see 01.26</td>\n",
       "      <td>0111</td>\n",
       "    </tr>\n",
       "    <tr>\n",
       "      <th>4</th>\n",
       "      <td>398485</td>\n",
       "      <td>4</td>\n",
       "      <td>01.12</td>\n",
       "      <td>01.1</td>\n",
       "      <td>Growing of rice</td>\n",
       "      <td>This class includes:\\n- growing of rice (including organic farming and the growing of genetically modified rice)</td>\n",
       "      <td>NaN</td>\n",
       "      <td>NaN</td>\n",
       "      <td>NaN</td>\n",
       "      <td>0112</td>\n",
       "    </tr>\n",
       "  </tbody>\n",
       "</table>\n",
       "</div>"
      ],
      "text/plain": [
       "    Order  Level   Code Parent  \\\n",
       "0  398481  1      A      NaN     \n",
       "1  398482  2      01     A       \n",
       "2  398483  3      01.1   01      \n",
       "3  398484  4      01.11  01.1    \n",
       "4  398485  4      01.12  01.1    \n",
       "\n",
       "                                                          Description  \\\n",
       "0  AGRICULTURE, FORESTRY AND FISHING                                    \n",
       "1  Crop and animal production, hunting and related service activities   \n",
       "2  Growing of non-perennial crops                                       \n",
       "3  Growing of cereals (except rice), leguminous crops and oil seeds     \n",
       "4  Growing of rice                                                      \n",
       "\n",
       "                                                                                                                                                                                                                                                                                                                                                                                                                                                                                                                                                                                                                                                                                                                                                  This item includes  \\\n",
       "0  This section includes the exploitation of vegetal and animal natural resources, comprising the activities of growing of crops, raising and breeding of animals, harvesting of timber and other plants, animals or animal products from a farm or their natural habitats.                                                                                                                                                                                                                                                                                                                                                                                                                                                                                            \n",
       "1  This division includes two basic activities, namely the production of crop products and production of animal products, covering also the forms of organic agriculture, the growing of genetically modified crops and the raising of genetically modified animals. This division includes growing of crops in open fields as well in greenhouses.\\n \\nGroup 01.5 (Mixed farming) breaks with the usual principles for identifying main activity. It accepts that many agricultural holdings have reasonably balanced crop and animal production, and that it would be arbitrary to classify them in one category or the other.                                                                                                                                       \n",
       "2  This group includes the growing of non-perennial crops, i.e. plants that do not last for more than two growing seasons. Included is the growing of these plants for the purpose of seed production.                                                                                                                                                                                                                                                                                                                                                                                                                                                                                                                                                                 \n",
       "3  This class includes all forms of growing of cereals, leguminous crops and oil seeds in open fields. The growing of these crops is often combined within agricultural units.\\n\\nThis class includes:\\n- growing of cereals such as:\\n  . wheat\\n  . grain maize\\n  . sorghum\\n  . barley\\n  . rye\\n  . oats\\n  . millets\\n  . other cereals n.e.c.\\n- growing of leguminous crops such as:\\n  . beans\\n  . broad beans\\n  . chick peas\\n  . cow peas\\n  . lentils\\n  . lupines\\n  . peas\\n  . pigeon peas\\n  . other leguminous crops\\n- growing of oil seeds such as:\\n  . soya beans\\n  . groundnuts\\n  . castor bean\\n  . linseed\\n  . mustard seed\\n  . niger seed\\n  . rapeseed\\n  . safflower seed\\n  . sesame seed\\n  . sunflower seed\\n  . other oil seeds   \n",
       "4  This class includes:\\n- growing of rice (including organic farming and the growing of genetically modified rice)                                                                                                                                                                                                                                                                                                                                                                                                                                                                                                                                                                                                                                                    \n",
       "\n",
       "                                                                                                          This item also includes  \\\n",
       "0  NaN                                                                                                                              \n",
       "1  This division also includes service activities incidental to agriculture, as well as hunting, trapping and related activities.   \n",
       "2  NaN                                                                                                                              \n",
       "3  NaN                                                                                                                              \n",
       "4  NaN                                                                                                                              \n",
       "\n",
       "  Rulings  \\\n",
       "0  NaN      \n",
       "1  NaN      \n",
       "2  NaN      \n",
       "3  NaN      \n",
       "4  NaN      \n",
       "\n",
       "                                                                                                                                                                                                                                                                                                                                                                                                                                                                                                                                                                                                                                                                                                                 This item excludes  \\\n",
       "0  NaN                                                                                                                                                                                                                                                                                                                                                                                                                                                                                                                                                                                                                                                                                                                                \n",
       "1  Agricultural activities exclude any subsequent processing of the agricultural products (classified under divisions 10 and 11 (Manufacture of food products and beverages) and division 12 (Manufacture of tobacco products)), beyond that needed to prepare them for the primary markets. The preparation of products for the primary markets is included here.\\n\\nThe division excludes field construction (e.g. agricultural land terracing, drainage, preparing rice paddies etc.) classified in section F (Construction) and buyers and cooperative associations engaged in the marketing of farm products classified in section G. Also excluded is the landscape care and maintenance, which is classified in class 81.30.   \n",
       "2  NaN                                                                                                                                                                                                                                                                                                                                                                                                                                                                                                                                                                                                                                                                                                                                \n",
       "3  This class excludes:\\n- growing of rice, see 01.12\\n- growing of sweet corn, see 01.13\\n- growing of maize for fodder, see 01.19\\n- growing of oleaginous fruits, see 01.26                                                                                                                                                                                                                                                                                                                                                                                                                                                                                                                                                        \n",
       "4  NaN                                                                                                                                                                                                                                                                                                                                                                                                                                                                                                                                                                                                                                                                                                                                \n",
       "\n",
       "  Reference to ISIC Rev. 4  \n",
       "0  A                        \n",
       "1  01                       \n",
       "2  011                      \n",
       "3  0111                     \n",
       "4  0112                     "
      ]
     },
     "execution_count": 2,
     "metadata": {},
     "output_type": "execute_result"
    }
   ],
   "source": [
    "df.head(5)"
   ]
  },
  {
   "cell_type": "markdown",
   "metadata": {},
   "source": [
    "We can focus on just these columns:"
   ]
  },
  {
   "cell_type": "code",
   "execution_count": 3,
   "metadata": {
    "scrolled": false
   },
   "outputs": [
    {
     "data": {
      "text/html": [
       "<style  type=\"text/css\" >\n",
       "    #T_caa07c0e_c82d_11ea_90ea_9cb6d08b17bfrow0_col0 {\n",
       "            white-space:  pre-wrap;\n",
       "        }    #T_caa07c0e_c82d_11ea_90ea_9cb6d08b17bfrow0_col1 {\n",
       "            white-space:  pre-wrap;\n",
       "        }    #T_caa07c0e_c82d_11ea_90ea_9cb6d08b17bfrow0_col2 {\n",
       "            white-space:  pre-wrap;\n",
       "        }    #T_caa07c0e_c82d_11ea_90ea_9cb6d08b17bfrow0_col3 {\n",
       "            white-space:  pre-wrap;\n",
       "        }    #T_caa07c0e_c82d_11ea_90ea_9cb6d08b17bfrow0_col4 {\n",
       "            white-space:  pre-wrap;\n",
       "        }    #T_caa07c0e_c82d_11ea_90ea_9cb6d08b17bfrow0_col5 {\n",
       "            white-space:  pre-wrap;\n",
       "        }    #T_caa07c0e_c82d_11ea_90ea_9cb6d08b17bfrow1_col0 {\n",
       "            white-space:  pre-wrap;\n",
       "        }    #T_caa07c0e_c82d_11ea_90ea_9cb6d08b17bfrow1_col1 {\n",
       "            white-space:  pre-wrap;\n",
       "        }    #T_caa07c0e_c82d_11ea_90ea_9cb6d08b17bfrow1_col2 {\n",
       "            white-space:  pre-wrap;\n",
       "        }    #T_caa07c0e_c82d_11ea_90ea_9cb6d08b17bfrow1_col3 {\n",
       "            white-space:  pre-wrap;\n",
       "        }    #T_caa07c0e_c82d_11ea_90ea_9cb6d08b17bfrow1_col4 {\n",
       "            white-space:  pre-wrap;\n",
       "        }    #T_caa07c0e_c82d_11ea_90ea_9cb6d08b17bfrow1_col5 {\n",
       "            white-space:  pre-wrap;\n",
       "        }    #T_caa07c0e_c82d_11ea_90ea_9cb6d08b17bfrow2_col0 {\n",
       "            white-space:  pre-wrap;\n",
       "        }    #T_caa07c0e_c82d_11ea_90ea_9cb6d08b17bfrow2_col1 {\n",
       "            white-space:  pre-wrap;\n",
       "        }    #T_caa07c0e_c82d_11ea_90ea_9cb6d08b17bfrow2_col2 {\n",
       "            white-space:  pre-wrap;\n",
       "        }    #T_caa07c0e_c82d_11ea_90ea_9cb6d08b17bfrow2_col3 {\n",
       "            white-space:  pre-wrap;\n",
       "        }    #T_caa07c0e_c82d_11ea_90ea_9cb6d08b17bfrow2_col4 {\n",
       "            white-space:  pre-wrap;\n",
       "        }    #T_caa07c0e_c82d_11ea_90ea_9cb6d08b17bfrow2_col5 {\n",
       "            white-space:  pre-wrap;\n",
       "        }    #T_caa07c0e_c82d_11ea_90ea_9cb6d08b17bfrow3_col0 {\n",
       "            white-space:  pre-wrap;\n",
       "        }    #T_caa07c0e_c82d_11ea_90ea_9cb6d08b17bfrow3_col1 {\n",
       "            white-space:  pre-wrap;\n",
       "        }    #T_caa07c0e_c82d_11ea_90ea_9cb6d08b17bfrow3_col2 {\n",
       "            white-space:  pre-wrap;\n",
       "        }    #T_caa07c0e_c82d_11ea_90ea_9cb6d08b17bfrow3_col3 {\n",
       "            white-space:  pre-wrap;\n",
       "        }    #T_caa07c0e_c82d_11ea_90ea_9cb6d08b17bfrow3_col4 {\n",
       "            white-space:  pre-wrap;\n",
       "        }    #T_caa07c0e_c82d_11ea_90ea_9cb6d08b17bfrow3_col5 {\n",
       "            white-space:  pre-wrap;\n",
       "        }    #T_caa07c0e_c82d_11ea_90ea_9cb6d08b17bfrow4_col0 {\n",
       "            white-space:  pre-wrap;\n",
       "        }    #T_caa07c0e_c82d_11ea_90ea_9cb6d08b17bfrow4_col1 {\n",
       "            white-space:  pre-wrap;\n",
       "        }    #T_caa07c0e_c82d_11ea_90ea_9cb6d08b17bfrow4_col2 {\n",
       "            white-space:  pre-wrap;\n",
       "        }    #T_caa07c0e_c82d_11ea_90ea_9cb6d08b17bfrow4_col3 {\n",
       "            white-space:  pre-wrap;\n",
       "        }    #T_caa07c0e_c82d_11ea_90ea_9cb6d08b17bfrow4_col4 {\n",
       "            white-space:  pre-wrap;\n",
       "        }    #T_caa07c0e_c82d_11ea_90ea_9cb6d08b17bfrow4_col5 {\n",
       "            white-space:  pre-wrap;\n",
       "        }    #T_caa07c0e_c82d_11ea_90ea_9cb6d08b17bfrow5_col0 {\n",
       "            white-space:  pre-wrap;\n",
       "        }    #T_caa07c0e_c82d_11ea_90ea_9cb6d08b17bfrow5_col1 {\n",
       "            white-space:  pre-wrap;\n",
       "        }    #T_caa07c0e_c82d_11ea_90ea_9cb6d08b17bfrow5_col2 {\n",
       "            white-space:  pre-wrap;\n",
       "        }    #T_caa07c0e_c82d_11ea_90ea_9cb6d08b17bfrow5_col3 {\n",
       "            white-space:  pre-wrap;\n",
       "        }    #T_caa07c0e_c82d_11ea_90ea_9cb6d08b17bfrow5_col4 {\n",
       "            white-space:  pre-wrap;\n",
       "        }    #T_caa07c0e_c82d_11ea_90ea_9cb6d08b17bfrow5_col5 {\n",
       "            white-space:  pre-wrap;\n",
       "        }    #T_caa07c0e_c82d_11ea_90ea_9cb6d08b17bfrow6_col0 {\n",
       "            white-space:  pre-wrap;\n",
       "        }    #T_caa07c0e_c82d_11ea_90ea_9cb6d08b17bfrow6_col1 {\n",
       "            white-space:  pre-wrap;\n",
       "        }    #T_caa07c0e_c82d_11ea_90ea_9cb6d08b17bfrow6_col2 {\n",
       "            white-space:  pre-wrap;\n",
       "        }    #T_caa07c0e_c82d_11ea_90ea_9cb6d08b17bfrow6_col3 {\n",
       "            white-space:  pre-wrap;\n",
       "        }    #T_caa07c0e_c82d_11ea_90ea_9cb6d08b17bfrow6_col4 {\n",
       "            white-space:  pre-wrap;\n",
       "        }    #T_caa07c0e_c82d_11ea_90ea_9cb6d08b17bfrow6_col5 {\n",
       "            white-space:  pre-wrap;\n",
       "        }</style>  \n",
       "<table id=\"T_caa07c0e_c82d_11ea_90ea_9cb6d08b17bf\" > \n",
       "<thead>    <tr> \n",
       "        <th class=\"blank level0\" ></th> \n",
       "        <th class=\"col_heading level0 col0\" >Order</th> \n",
       "        <th class=\"col_heading level0 col1\" >Level</th> \n",
       "        <th class=\"col_heading level0 col2\" >Code</th> \n",
       "        <th class=\"col_heading level0 col3\" >Parent</th> \n",
       "        <th class=\"col_heading level0 col4\" >Description</th> \n",
       "        <th class=\"col_heading level0 col5\" >This item excludes</th> \n",
       "    </tr></thead> \n",
       "<tbody>    <tr> \n",
       "        <th id=\"T_caa07c0e_c82d_11ea_90ea_9cb6d08b17bflevel0_row0\" class=\"row_heading level0 row0\" >1</th> \n",
       "        <td id=\"T_caa07c0e_c82d_11ea_90ea_9cb6d08b17bfrow0_col0\" class=\"data row0 col0\" >398482</td> \n",
       "        <td id=\"T_caa07c0e_c82d_11ea_90ea_9cb6d08b17bfrow0_col1\" class=\"data row0 col1\" >2</td> \n",
       "        <td id=\"T_caa07c0e_c82d_11ea_90ea_9cb6d08b17bfrow0_col2\" class=\"data row0 col2\" >01</td> \n",
       "        <td id=\"T_caa07c0e_c82d_11ea_90ea_9cb6d08b17bfrow0_col3\" class=\"data row0 col3\" >A</td> \n",
       "        <td id=\"T_caa07c0e_c82d_11ea_90ea_9cb6d08b17bfrow0_col4\" class=\"data row0 col4\" >Crop and animal production, hunting and related service activities</td> \n",
       "        <td id=\"T_caa07c0e_c82d_11ea_90ea_9cb6d08b17bfrow0_col5\" class=\"data row0 col5\" >Agricultural activities exclude any subsequent processing of the agricultural products (classified under divisions 10 and 11 (Manufacture of food products and beverages) and division 12 (Manufacture of tobacco products)), beyond that needed to prepare them for the primary markets. The preparation of products for the primary markets is included here.\n",
       "\n",
       "The division excludes field construction (e.g. agricultural land terracing, drainage, preparing rice paddies etc.) classified in section F (Construction) and buyers and cooperative associations engaged in the marketing of farm products classified in section G. Also excluded is the landscape care and maintenance, which is classified in class 81.30.</td> \n",
       "    </tr>    <tr> \n",
       "        <th id=\"T_caa07c0e_c82d_11ea_90ea_9cb6d08b17bflevel0_row1\" class=\"row_heading level0 row1\" >7</th> \n",
       "        <td id=\"T_caa07c0e_c82d_11ea_90ea_9cb6d08b17bfrow1_col0\" class=\"data row1 col0\" >398488</td> \n",
       "        <td id=\"T_caa07c0e_c82d_11ea_90ea_9cb6d08b17bfrow1_col1\" class=\"data row1 col1\" >4</td> \n",
       "        <td id=\"T_caa07c0e_c82d_11ea_90ea_9cb6d08b17bfrow1_col2\" class=\"data row1 col2\" >01.15</td> \n",
       "        <td id=\"T_caa07c0e_c82d_11ea_90ea_9cb6d08b17bfrow1_col3\" class=\"data row1 col3\" >01.1</td> \n",
       "        <td id=\"T_caa07c0e_c82d_11ea_90ea_9cb6d08b17bfrow1_col4\" class=\"data row1 col4\" >Growing of tobacco</td> \n",
       "        <td id=\"T_caa07c0e_c82d_11ea_90ea_9cb6d08b17bfrow1_col5\" class=\"data row1 col5\" >This class excludes:\n",
       "- manufacture of tobacco products, see 12.00</td> \n",
       "    </tr>    <tr> \n",
       "        <th id=\"T_caa07c0e_c82d_11ea_90ea_9cb6d08b17bflevel0_row2\" class=\"row_heading level0 row2\" >37</th> \n",
       "        <td id=\"T_caa07c0e_c82d_11ea_90ea_9cb6d08b17bfrow2_col0\" class=\"data row2 col0\" >398518</td> \n",
       "        <td id=\"T_caa07c0e_c82d_11ea_90ea_9cb6d08b17bfrow2_col1\" class=\"data row2 col1\" >4</td> \n",
       "        <td id=\"T_caa07c0e_c82d_11ea_90ea_9cb6d08b17bfrow2_col2\" class=\"data row2 col2\" >01.64</td> \n",
       "        <td id=\"T_caa07c0e_c82d_11ea_90ea_9cb6d08b17bfrow2_col3\" class=\"data row2 col3\" >01.6</td> \n",
       "        <td id=\"T_caa07c0e_c82d_11ea_90ea_9cb6d08b17bfrow2_col4\" class=\"data row2 col4\" >Seed processing for propagation</td> \n",
       "        <td id=\"T_caa07c0e_c82d_11ea_90ea_9cb6d08b17bfrow2_col5\" class=\"data row2 col5\" >This class excludes:\n",
       "- growing of seeds, see groups 01.1 and 01.2\n",
       "- processing of seeds to obtain oil, see 10.41\n",
       "- research to develop or modify new forms of seeds, see 72.11</td> \n",
       "    </tr>    <tr> \n",
       "        <th id=\"T_caa07c0e_c82d_11ea_90ea_9cb6d08b17bflevel0_row3\" class=\"row_heading level0 row3\" >40</th> \n",
       "        <td id=\"T_caa07c0e_c82d_11ea_90ea_9cb6d08b17bfrow3_col0\" class=\"data row3 col0\" >398521</td> \n",
       "        <td id=\"T_caa07c0e_c82d_11ea_90ea_9cb6d08b17bfrow3_col1\" class=\"data row3 col1\" >2</td> \n",
       "        <td id=\"T_caa07c0e_c82d_11ea_90ea_9cb6d08b17bfrow3_col2\" class=\"data row3 col2\" >02</td> \n",
       "        <td id=\"T_caa07c0e_c82d_11ea_90ea_9cb6d08b17bfrow3_col3\" class=\"data row3 col3\" >A</td> \n",
       "        <td id=\"T_caa07c0e_c82d_11ea_90ea_9cb6d08b17bfrow3_col4\" class=\"data row3 col4\" >Forestry and logging</td> \n",
       "        <td id=\"T_caa07c0e_c82d_11ea_90ea_9cb6d08b17bfrow3_col5\" class=\"data row3 col5\" >Excluded is further processing of wood beginning with sawmilling and planing of wood, see division 16.</td> \n",
       "    </tr>    <tr> \n",
       "        <th id=\"T_caa07c0e_c82d_11ea_90ea_9cb6d08b17bflevel0_row4\" class=\"row_heading level0 row4\" >49</th> \n",
       "        <td id=\"T_caa07c0e_c82d_11ea_90ea_9cb6d08b17bfrow4_col0\" class=\"data row4 col0\" >398530</td> \n",
       "        <td id=\"T_caa07c0e_c82d_11ea_90ea_9cb6d08b17bfrow4_col1\" class=\"data row4 col1\" >2</td> \n",
       "        <td id=\"T_caa07c0e_c82d_11ea_90ea_9cb6d08b17bfrow4_col2\" class=\"data row4 col2\" >03</td> \n",
       "        <td id=\"T_caa07c0e_c82d_11ea_90ea_9cb6d08b17bfrow4_col3\" class=\"data row4 col3\" >A</td> \n",
       "        <td id=\"T_caa07c0e_c82d_11ea_90ea_9cb6d08b17bfrow4_col4\" class=\"data row4 col4\" >Fishing and aquaculture</td> \n",
       "        <td id=\"T_caa07c0e_c82d_11ea_90ea_9cb6d08b17bfrow4_col5\" class=\"data row4 col5\" >This division does not include building and repairing of ships and boats (30.1, 33.15) and sport or recreational fishing activities (93.19). Processing of fish, crustaceans or molluscs is excluded, whether at land-based plants or on factory ships (10.20).</td> \n",
       "    </tr>    <tr> \n",
       "        <th id=\"T_caa07c0e_c82d_11ea_90ea_9cb6d08b17bflevel0_row5\" class=\"row_heading level0 row5\" >86</th> \n",
       "        <td id=\"T_caa07c0e_c82d_11ea_90ea_9cb6d08b17bfrow5_col0\" class=\"data row5 col0\" >398567</td> \n",
       "        <td id=\"T_caa07c0e_c82d_11ea_90ea_9cb6d08b17bfrow5_col1\" class=\"data row5 col1\" >4</td> \n",
       "        <td id=\"T_caa07c0e_c82d_11ea_90ea_9cb6d08b17bfrow5_col2\" class=\"data row5 col2\" >09.90</td> \n",
       "        <td id=\"T_caa07c0e_c82d_11ea_90ea_9cb6d08b17bfrow5_col3\" class=\"data row5 col3\" >09.9</td> \n",
       "        <td id=\"T_caa07c0e_c82d_11ea_90ea_9cb6d08b17bfrow5_col4\" class=\"data row5 col4\" >Support activities for other mining and quarrying</td> \n",
       "        <td id=\"T_caa07c0e_c82d_11ea_90ea_9cb6d08b17bfrow5_col5\" class=\"data row5 col5\" >This class excludes:\n",
       "- operating mines or quarries on a contract or fee basis, see division 05, 07 or 08\n",
       "- specialised repair of mining machinery, see 33.12\n",
       "- geophysical surveying services, on a contract or fee basis, see 71.12</td> \n",
       "    </tr>    <tr> \n",
       "        <th id=\"T_caa07c0e_c82d_11ea_90ea_9cb6d08b17bflevel0_row6\" class=\"row_heading level0 row6\" >127</th> \n",
       "        <td id=\"T_caa07c0e_c82d_11ea_90ea_9cb6d08b17bfrow6_col0\" class=\"data row6 col0\" >398608</td> \n",
       "        <td id=\"T_caa07c0e_c82d_11ea_90ea_9cb6d08b17bfrow6_col1\" class=\"data row6 col1\" >4</td> \n",
       "        <td id=\"T_caa07c0e_c82d_11ea_90ea_9cb6d08b17bfrow6_col2\" class=\"data row6 col2\" >11.03</td> \n",
       "        <td id=\"T_caa07c0e_c82d_11ea_90ea_9cb6d08b17bfrow6_col3\" class=\"data row6 col3\" >11.0</td> \n",
       "        <td id=\"T_caa07c0e_c82d_11ea_90ea_9cb6d08b17bfrow6_col4\" class=\"data row6 col4\" >Manufacture of cider and other fruit wines</td> \n",
       "        <td id=\"T_caa07c0e_c82d_11ea_90ea_9cb6d08b17bfrow6_col5\" class=\"data row6 col5\" >This class excludes:\n",
       "- merely bottling and labelling, see 46.34 (if performed as part of wholesale) and 82.92 (if performed on a fee or contract basis)</td> \n",
       "    </tr></tbody> \n",
       "</table> "
      ],
      "text/plain": [
       "<pandas.io.formats.style.Styler at 0x7f7d1c5f5080>"
      ]
     },
     "metadata": {},
     "output_type": "display_data"
    }
   ],
   "source": [
    "selection = [398482,398488,398530,398608,398482,398518,398521,398567]\n",
    "\n",
    "from IPython.display import display\n",
    "\n",
    "example_df = df[['Order', 'Level','Code','Parent','Description','This item excludes']]\n",
    "# Assuming the variable df contains the relevant DataFrame\n",
    "example_df = example_df[example_df['Order'].isin(selection)]\n",
    "display(example_df.style.set_properties(**{'white-space': 'pre-wrap',}))"
   ]
  },
  {
   "cell_type": "markdown",
   "metadata": {},
   "source": [
    "## A1 extract_codes\n",
    "\n",
    "Let's say European Commission wants to review the catalog to simplify it. One way to do it, could be to look for codes that have lots of exclusions, the reasoning being that trying to explain somebody something by stating what it is _not_ often results in confusion.\n",
    "\n",
    "Implement following function which extracts codes from 'This item exclues' column cells. See asserts for examples."
   ]
  },
  {
   "cell_type": "code",
   "execution_count": 4,
   "metadata": {},
   "outputs": [],
   "source": [
    "def extract_codes(text):\n",
    "    \"\"\"Extracts all the NACE codes from given text (a single string), and RETURN a list of the codes\n",
    "    \n",
    "       - also extracts section letters\n",
    "    \"\"\"\n",
    "    #jupman-raise\n",
    "    ret = []\n",
    "    \n",
    "    words = [word.strip(';,.:()\"\\'') for word in text.split()]\n",
    "    for i in range(len(words)):         \n",
    "        \n",
    "        if i < len(words) - 1 \\\n",
    "            and words[i].lower() == 'section' \\\n",
    "            and len(words[i+1]) == 1 \\\n",
    "            and words[i+1][0].isalpha():\n",
    "            \n",
    "            ret.append(words[i+1])\n",
    "        else:\n",
    "            for char in words[i]:\n",
    "                found = False\n",
    "                if char.isdigit():\n",
    "                    found = True\n",
    "                    break\n",
    "            if found:\n",
    "                ret.append(words[i])\n",
    "    return ret\n",
    "    #/jupman-raise\n",
    "\n",
    "assert extract_codes('group 02.4') == ['02.4']\n",
    "assert extract_codes('class 02.40') == ['02.40']\n",
    "assert extract_codes('see 46.34') == ['46.34']\n",
    "assert extract_codes('divisions 10 and 11') == ['10','11']\n",
    "assert extract_codes('(10.20)') == ['10.20']\n",
    "assert extract_codes('(30.1, 33.15)') == ['30.1', '33.15']\n",
    "assert extract_codes('section A') == ['A']\n",
    "assert extract_codes('in section G. Also') == ['G']\n",
    "assert extract_codes('section F (Construction)') == ['F']"
   ]
  },
  {
   "cell_type": "code",
   "execution_count": 5,
   "metadata": {},
   "outputs": [],
   "source": [
    "# MORE REALISTIC asserts: \n",
    "\n",
    "t01 = \"\"\"Agricultural activities exclude any subsequent processing of the \n",
    "agricultural products (classified under divisions 10 and 11 (Manufacture of food \n",
    "products and beverages) and division 12 (Manufacture of tobacco products)), beyond \n",
    "that needed to prepare them for the primary markets. The preparation of products for\n",
    "the primary markets is included here.\n",
    "\n",
    "The division excludes field construction (e.g. agricultural land terracing, \n",
    "drainage, preparing rice paddies etc.) classified in section F (Construction) and buyers \n",
    "and cooperative associations engaged in the marketing of farm products classified \n",
    "in section G. Also excluded is the landscape care and maintenance,\n",
    "which is classified in class 81.30.\n",
    "\"\"\"\n",
    "assert extract_codes(t01) == ['10','11','12','F','G','81.30']\n",
    "\n",
    "t01_15 = \"\"\"This class excludes:\n",
    "- manufacture of tobacco products, see 12.00\n",
    "\"\"\"\n",
    "assert extract_codes(t01_15) == ['12.00']\n",
    "\n",
    "t03 = \"\"\"This division does not include building and repairing of ships and \n",
    "boats (30.1, 33.15) and sport or recreational fishing activities (93.19).\n",
    "Processing of fish, crustaceans or molluscs is excluded, whether at land-based\n",
    "plants or on factory ships (10.20).\n",
    "\"\"\"\n",
    "\n",
    "assert extract_codes(t03) == ['30.1', '33.15','93.19','10.20']\n",
    "\n",
    "t11_03 = \"\"\"This class excludes:\n",
    "- merely bottling and labelling, see 46.34 (if performed as part of wholesale) \n",
    "and 82.92 (if performed on a fee or contract basis)\n",
    "\"\"\"\n",
    "assert extract_codes(t11_03) == ['46.34', '82.92']\n",
    "\n",
    "\n",
    "t01_64 = \"\"\"This class excludes:\n",
    "- growing of seeds, see groups 01.1 and 01.2\n",
    "- processing of seeds to obtain oil, see 10.41\n",
    "- research to develop or modify new forms of seeds, see 72.11\n",
    "\"\"\"\n",
    "assert extract_codes(t01_64) == ['01.1','01.2','10.41','72.11']\n",
    "\n",
    "t02 = \"\"\"Excluded is further processing of wood beginning with sawmilling and planing of wood, \n",
    "see division 16.\n",
    "\"\"\"\n",
    "assert extract_codes(t02) == ['16']\n",
    "\n",
    "t09_90 = \"\"\"This class excludes:\n",
    "- operating mines or quarries on a contract or fee basis, see division 05, 07 or 08\n",
    "- specialised repair of mining machinery, see 33.12\n",
    "- geophysical surveying services, on a contract or fee basis, see 71.12\n",
    "\"\"\"\n",
    "assert extract_codes(t09_90) == ['05','07','08','33.12','71.12']"
   ]
  },
  {
   "cell_type": "markdown",
   "metadata": {},
   "source": [
    "## A2 build_db\n",
    "\n",
    "Given a filepath pointing to a NACE CSV, reads the CSV and RETURN a dictionary mapping codes to dictionaries which hold the code descriptionn and a field with the list of excluded codes, for example:\n",
    "\n",
    "```python\n",
    "{'01': {'description': 'Crop and animal production, hunting and related service activities',\n",
    "  'exclusions': ['10', '11', '12', 'F', 'G', '81.30']},\n",
    " '01.1': {'description': 'Growing of non-perennial crops', 'exclusions': []},\n",
    " '01.11': {'description': 'Growing of cereals (except rice), leguminous crops and oil seeds',\n",
    "  'exclusions': ['01.12', '01.13', '01.19', '01.26']},\n",
    " '01.12': {'description': 'Growing of rice', 'exclusions': []},\n",
    " '01.13': {'description': 'Growing of vegetables and melons, roots and tubers',\n",
    "  'exclusions': ['01.28', '01.30']},\n",
    " ...\n",
    " ...\n",
    "}\n",
    "```\n",
    "\n",
    "The complete desired output is [in file expected_db.py](expected_db.py)"
   ]
  },
  {
   "cell_type": "code",
   "execution_count": 6,
   "metadata": {},
   "outputs": [],
   "source": [
    "def build_db(filepath):\n",
    "    #jupman-raise\n",
    "    ret = {}\n",
    "    import csv\n",
    "    with open(filepath, encoding='utf-8', newline='') as f:    \n",
    "        my_reader = csv.DictReader(f, delimiter=',')\n",
    "        for d in my_reader:\n",
    "            diz = {'description' : d['Description'],\n",
    "                   'exclusions' : extract_codes(d['This item excludes'])}\n",
    "            ret[d['Code']] = diz\n",
    "    return ret\n",
    "    #/jupman-raise\n",
    "    \n",
    "activities_db = build_db('NACE_REV2_20200628_213139.csv')    \n",
    "#activities_db"
   ]
  },
  {
   "cell_type": "markdown",
   "metadata": {},
   "source": [
    "## A3 plot\n",
    "\n",
    "Implement function `plot` which given a `db` as created at previous point and a code `level` among 1,2,3,4, plots the number of exclusions for all codes of that level, sorted in reversed order. \n",
    "\n",
    "- don't forget title\n",
    "- try to display labels nicely\n",
    "\n",
    "(if you look at the graph, apparently European Union has a hard time defining what an artist is :-)\n",
    "\n",
    "<div class=\"alert alert-warning\">\n",
    "\n",
    "**IMPORTANT: IF you couldn't implement the function build_db,  you will find still the complete desired output** [in file expected_db.py](expected_db.py), just copy paste it here.\n",
    "\n",
    "</div>"
   ]
  },
  {
   "cell_type": "code",
   "execution_count": 7,
   "metadata": {},
   "outputs": [
    {
     "data": {
      "image/png": "[encoded data removed]",
      "text/plain": [
       "<Figure size 936x432 with 1 Axes>"
      ]
     },
     "metadata": {},
     "output_type": "display_data"
    }
   ],
   "source": [
    "%matplotlib inline\n",
    "def plot(db, level):    \n",
    "    \n",
    "    import matplotlib.pyplot as plt\n",
    "    #jupman-raise\n",
    "    \n",
    "    coords = [(code, len(db[code]['exclusions'])) for code in db if len(code.replace('.','')) == level]\n",
    "    coords.sort(key=lambda c: c[1], reverse=True)\n",
    "    \n",
    "    coords = coords[:10]\n",
    "            \n",
    "    xs = [c[0] for c in coords]\n",
    "    ys = [c[1] for c in coords]\n",
    "\n",
    "    fig = plt.figure(figsize=(13,6))  # width: 10 inches, height 3 inches\n",
    "\n",
    "\n",
    "    plt.bar(xs, ys, 0.5, align='center')\n",
    "    \n",
    "    def fix_label(label):\n",
    "        # coding horror, sorry\n",
    "        return label.replace(' ','\\n').replace('\\nand\\n',' and\\n').replace('\\nof\\n',' of\\n')\n",
    "    \n",
    "    plt.xticks(xs, [c[0] + '\\n' + fix_label(db[c[0]]['description']) for c in coords])   \n",
    "    \n",
    "    level_names = {\n",
    "        1:'Section',\n",
    "        2:'division',\n",
    "        3:'Group',\n",
    "        4:'Class'\n",
    "    }\n",
    "    plt.title(\"# of exclusions for %ss (level %s) - SOLUTION\" % (level_names[level], level))\n",
    "    #plt.xlabel('level_names[level]')\n",
    "    #plt.ylabel('y')\n",
    "    fig.tight_layout()\n",
    "    plt.savefig('division-exclusions-solution.png')\n",
    "    plt.show()\n",
    "    \n",
    "    #/jupman-raise\n",
    "\n",
    "plot(activities_db, 2)"
   ]
  },
  {
   "cell_type": "markdown",
   "metadata": {},
   "source": [
    "![excl](division-exclusions-solution.png)"
   ]
  },
  {
   "cell_type": "markdown",
   "metadata": {},
   "source": [
    "## Part B"
   ]
  },
  {
   "cell_type": "markdown",
   "metadata": {},
   "source": [
    " ### B1 Theory\n",
    "\n",
    "**Write the solution in separate** `theory.txt` **file**\n",
    "\n",
    "### B1.1 complexity\n",
    "\n",
    "Given a list `L` of `n` elements, please compute the asymptotic computational complexity of the following function, explaining your reasoning.\n",
    "\n",
    "```python\n",
    "def my_fun(L):\n",
    "    n = len(L)\n",
    "    if n <= 1:\n",
    "        return 1\n",
    "    else:\n",
    "        L1 = L[0:n//2]\n",
    "        L2 = L[n//2:]\n",
    "        a = my_fun(L1) + min(L1) - n\n",
    "        b = my_fun(L2) + min(L2) - n\n",
    "        return a + b \n",
    "```\n",
    "     \n",
    "### B1.2 describe\n",
    "Briefly describe what a hash table is and provide an example of its usage."
   ]
  },
  {
   "cell_type": "markdown",
   "metadata": {},
   "source": [
    "## B2 - OfficeQueue\n"
   ]
  },
  {
   "cell_type": "markdown",
   "metadata": {},
   "source": [
    "An office offers services `'x'`, `'y'` and `'z'`. When people arrive at the office, they state which service they need, get a ticket and enqueue. Suppose at the beginning of the day we are considering there is only one queue. \n",
    "\n",
    "The office knows on average how much time each service requires:"
   ]
  },
  {
   "cell_type": "code",
   "execution_count": 8,
   "metadata": {},
   "outputs": [],
   "source": [
    "SERVICES = { 'x':5,   # minutes\n",
    "             'y':20,\n",
    "             'z':30\n",
    "           }"
   ]
  },
  {
   "cell_type": "markdown",
   "metadata": {},
   "source": [
    "\n",
    "With this information it is able to inform new clients approximately how long they will need to wait."
   ]
  },
  {
   "cell_type": "markdown",
   "metadata": {},
   "source": [
    "\n",
    "`OfficeQueue` is implemented as a linked list, where people enter the queue from the tail and leave from the head. We can represent it like this (**NOTE**: 'cumulative wait' is not actually stored in the queue):\n",
    "\n",
    "```\n",
    "    wait time: 155 minutes\n",
    "    \n",
    "    cumulative wait:  5    10   15   45   50   55   85   105  110  130  150  155    \n",
    "    wait times:       5    5    5    30   5    5    30   20   5    20   20   5\n",
    "                      x    x    x    z    x    x    z    y    x    y    y    x\n",
    "                      a -> b -> c -> d -> e -> f -> g -> h -> i -> l -> m -> n\n",
    "                      ^                                                      ^\n",
    "                      |                                                      |\n",
    "                     head                                                   tail\n",
    "```"
   ]
  },
  {
   "cell_type": "markdown",
   "metadata": {},
   "source": [
    "Each node holds the client identifier `'a'`, `'b'`, `'c'`, and the service label (like `'x'`) requested by the client:\n",
    "\n",
    "```python\n",
    "class Node:\n",
    "    def __init__(self, initdata, service):\n",
    "        self._data = initdata\n",
    "        self._service = service\n",
    "        self._next = None        \n",
    "```        "
   ]
  },
  {
   "cell_type": "markdown",
   "metadata": {},
   "source": [
    "`OfficeQueue` keeps fields `_services`, `_size` and a field `_wait_time` which holds the total wait time of the queue:\n",
    "\n",
    "```python\n",
    "class OfficeQueue:    \n",
    "    def __init__(self, services):\n",
    "        self._head = None\n",
    "        self._tail = None        \n",
    "        self._size = 0\n",
    "        self._wait_time = 0\n",
    "        self._services = dict(services)\n",
    "```"
   ]
  },
  {
   "cell_type": "code",
   "execution_count": 9,
   "metadata": {},
   "outputs": [
    {
     "name": "stdout",
     "output_type": "stream",
     "text": [
      "OfficeQueue: \n",
      "  \n",
      "  \n"
     ]
    }
   ],
   "source": [
    "from office_queue_solution import *\n",
    "SERVICES = { 'x':5,   # minutes\n",
    "             'y':20,\n",
    "             'z':30\n",
    "           }\n",
    "\n",
    "\n",
    "oq = OfficeQueue(SERVICES)\n",
    "print(oq)"
   ]
  },
  {
   "cell_type": "code",
   "execution_count": 10,
   "metadata": {},
   "outputs": [],
   "source": [
    "oq.enqueue('a','x')\n",
    "oq.enqueue('b','x')\n",
    "oq.enqueue('c','x')\n",
    "oq.enqueue('d','z')\n",
    "oq.enqueue('e','x')\n",
    "oq.enqueue('f','x')\n",
    "oq.enqueue('g','z')\n",
    "oq.enqueue('h','y')\n",
    "oq.enqueue('i','x')\n",
    "oq.enqueue('l','y')\n",
    "oq.enqueue('m','y')\n",
    "oq.enqueue('n','x')"
   ]
  },
  {
   "cell_type": "code",
   "execution_count": 11,
   "metadata": {},
   "outputs": [
    {
     "name": "stdout",
     "output_type": "stream",
     "text": [
      "OfficeQueue: \n",
      "  x    x    x    z    x    x    z    y    x    y    y    x\n",
      "  a -> b -> c -> d -> e -> f -> g -> h -> i -> l -> m -> n\n"
     ]
    }
   ],
   "source": [
    "print(oq)"
   ]
  },
  {
   "cell_type": "code",
   "execution_count": 12,
   "metadata": {},
   "outputs": [
    {
     "data": {
      "text/plain": [
       "12"
      ]
     },
     "execution_count": 12,
     "metadata": {},
     "output_type": "execute_result"
    }
   ],
   "source": [
    "oq.size()"
   ]
  },
  {
   "cell_type": "markdown",
   "metadata": {},
   "source": [
    "Total wait time can be accessed from outside with the method `wait_time()`:"
   ]
  },
  {
   "cell_type": "code",
   "execution_count": 13,
   "metadata": {},
   "outputs": [
    {
     "data": {
      "text/plain": [
       "155"
      ]
     },
     "execution_count": 13,
     "metadata": {},
     "output_type": "execute_result"
    }
   ],
   "source": [
    "oq.wait_time()"
   ]
  },
  {
   "cell_type": "markdown",
   "metadata": {},
   "source": [
    "<div class=\"alert alert-warning\">\n",
    "\n",
    "**ATTENTION**: you only need to implement the methods `time_to_service` and `split`\n",
    "\n",
    "**DO NOT** touch other methods.\n",
    "\n",
    "</div>"
   ]
  },
  {
   "cell_type": "markdown",
   "metadata": {},
   "source": [
    "## B2.1 - time_to_service\n",
    "\n",
    "Open file `office_queue_exercise.py` with and start editing.\n",
    "\n",
    "In order to schedule work and pauses, for each service office employees want to know after how long they will have to process the first client requiring that particular service.           \n",
    "\n",
    "First service encountered will always have a zero time interval (in this example it's `x`):\n",
    "\n",
    "\n",
    "```\n",
    "wait time: 155\n",
    "\n",
    "cumulative wait:  5    10   15   45   50   55   85   105  110  130  150  155\n",
    "wait times:       5    5    5    30   5    5    30   20   5    20   20   5\n",
    "                  x    x    x    z    x    x    z    y    x    y    y    x\n",
    "                  a -> b -> c -> d -> e -> f -> g -> h -> i -> l -> m -> n\n",
    "                 ||              |                   |\n",
    "                 x : 0           |                   |\n",
    "                 |               |                   |\n",
    "                 |---------------|                   |\n",
    "                 |     z : 15                        | \n",
    "                 |                                   |\n",
    "                 |-----------------------------------|\n",
    "                                  y : 85\n",
    "```"
   ]
  },
  {
   "cell_type": "code",
   "execution_count": 14,
   "metadata": {},
   "outputs": [
    {
     "name": "stdout",
     "output_type": "stream",
     "text": [
      "OfficeQueue: \n",
      "  \n",
      "  \n"
     ]
    }
   ],
   "source": [
    "SERVICES = { 'x':5,   # minutes\n",
    "             'y':20,\n",
    "             'z':30\n",
    "           }\n",
    "\n",
    "oq = OfficeQueue(SERVICES)\n",
    "print(oq)"
   ]
  },
  {
   "cell_type": "code",
   "execution_count": 15,
   "metadata": {},
   "outputs": [
    {
     "name": "stdout",
     "output_type": "stream",
     "text": [
      "OfficeQueue: \n",
      "  x    x    x    z    x    x    z    y    x    y    y    x\n",
      "  a -> b -> c -> d -> e -> f -> g -> h -> i -> l -> m -> n\n"
     ]
    }
   ],
   "source": [
    "oq.enqueue('a','x')\n",
    "oq.enqueue('b','x')\n",
    "oq.enqueue('c','x')\n",
    "oq.enqueue('d','z')\n",
    "oq.enqueue('e','x')\n",
    "oq.enqueue('f','x')\n",
    "oq.enqueue('g','z')\n",
    "oq.enqueue('h','y')\n",
    "oq.enqueue('i','x')\n",
    "oq.enqueue('l','y')\n",
    "oq.enqueue('m','y')\n",
    "oq.enqueue('n','x')\n",
    "\n",
    "print(oq)"
   ]
  },
  {
   "cell_type": "markdown",
   "metadata": {},
   "source": [
    "Method to implement will return a dictionary mapping each service to the time interval after which the service is first required:"
   ]
  },
  {
   "cell_type": "code",
   "execution_count": 16,
   "metadata": {},
   "outputs": [
    {
     "data": {
      "text/plain": [
       "{'x': 0, 'y': 85, 'z': 15}"
      ]
     },
     "execution_count": 16,
     "metadata": {},
     "output_type": "execute_result"
    }
   ],
   "source": [
    "oq.time_to_service()"
   ]
  },
  {
   "cell_type": "markdown",
   "metadata": {},
   "source": [
    "### Services not required by any client\n",
    "\n",
    "As a special case, if a service is not required by any client, its time interval is set to the queue total wait time (because a client requiring that service might still show up in the future and get enqueued)"
   ]
  },
  {
   "cell_type": "code",
   "execution_count": 17,
   "metadata": {},
   "outputs": [
    {
     "name": "stdout",
     "output_type": "stream",
     "text": [
      "OfficeQueue: \n",
      "  x    y\n",
      "  a -> b\n"
     ]
    }
   ],
   "source": [
    "    \n",
    "oq = OfficeQueue(SERVICES)\n",
    "oq.enqueue('a','x')   # completed after 5 mins\n",
    "oq.enqueue('b','y')   # completed after 5 + 20 mins\n",
    "print(oq)"
   ]
  },
  {
   "cell_type": "code",
   "execution_count": 18,
   "metadata": {},
   "outputs": [
    {
     "name": "stdout",
     "output_type": "stream",
     "text": [
      "25\n"
     ]
    }
   ],
   "source": [
    "print(oq.wait_time())"
   ]
  },
  {
   "cell_type": "code",
   "execution_count": 19,
   "metadata": {},
   "outputs": [
    {
     "data": {
      "text/plain": [
       "{'x': 0, 'y': 5, 'z': 25}"
      ]
     },
     "execution_count": 19,
     "metadata": {},
     "output_type": "execute_result"
    }
   ],
   "source": [
    "oq.time_to_service()   # note z is set to total wait time"
   ]
  },
  {
   "cell_type": "markdown",
   "metadata": {},
   "source": [
    "\n",
    "Now implement this:\n",
    "\n",
    "```python\n",
    "    def time_to_service(self):\n",
    "        \"\"\" RETURN a dictionary mapping each service to the time interval after which\n",
    "            the service is first required.\n",
    "\n",
    "            - the first service encountered will always have a zero time interval\n",
    "            - If a service is not required by any client, time interval is set to \n",
    "              the queue total wait time\n",
    "            - MUST run in O(n) where n is the size of the queue.\n",
    "        \"\"\"\n",
    "```        \n",
    "\n",
    "**Testing**: `python3 -m unittest office_queue_test.TestTimeToService`\n"
   ]
  },
  {
   "cell_type": "markdown",
   "metadata": {},
   "source": [
    "## B2.2 split\n",
    "\n",
    "Suppose a new desk is opened: to reduce waiting times the office will comunicate on a screen to some people in the current queue to move to the new desk, thereby creating a new queue. The current queue will be split in two according to this criteria: after the cut, the total waiting time of the current queue should be the same or slightly bigger than the waiting time in the new queue:\n",
    "\n",
    "<div class=\"alert alert-warning\">\n",
    "**ATTENTION**: This example is **different** from previous one (total wait time is 150 instead of 155)\n",
    "</div>\n",
    "\n",
    "```\n",
    "ORIGINAL QUEUE:\n",
    "\n",
    "wait time = 150 minutes\n",
    "wait time / 2 = 75 minutes\n",
    "\n",
    "\n",
    "cumulative wait:  30   50   80   110  115  120  140  145  150  \n",
    "wait times:       30   20   30   30   5    5    20   5    5\n",
    "                  z    y    z    z    x    x    y    x    x\n",
    "                  a -> b -> c -> d -> e -> f -> g -> h -> i                    \n",
    "                  ^            ^                          ^\n",
    "                  |            |                          |\n",
    "                 head       cut here                     tail\n",
    "\n",
    "\n",
    "MODIFIED QUEUE: \n",
    "\n",
    "wait time: 80 minutes\n",
    "\n",
    "wait times:       30   20   30   \n",
    "cumulative wait:  30   50   80   \n",
    "                  z    y    z    \n",
    "                  a -> b -> c \n",
    "                  ^         ^  \n",
    "                  |         |  \n",
    "                 head      tail\n",
    "\n",
    "\n",
    "NEW QUEUE: \n",
    "\n",
    "wait time: 75 minutes\n",
    "\n",
    "wait times:       30   5    5    20   5    5\n",
    "cumulative wait:  30   35   40   60   65   70\n",
    "                  z    x    x    y    x    x\n",
    "                  d -> e -> f -> g -> h -> i                    \n",
    "                  ^                        ^\n",
    "                  |                        |\n",
    "                 head                     tail\n",
    "```"
   ]
  },
  {
   "cell_type": "markdown",
   "metadata": {},
   "source": [
    "Implement this method:\n",
    "\n",
    "```python\n",
    "    def split(self):\n",
    "        \"\"\" Perform two operations:\n",
    "            - MODIFY the queue by cutting it so that the wait time of this cut\n",
    "              will be half (or slightly more) of wait time for the whole original queue\n",
    "            - RETURN a NEW queue holding remaining nodes after the cut - the wait time of  \n",
    "              new queue will be half (or slightly less) than original wait time\n",
    "\n",
    "            - If queue to split is empty or has only one element, modify nothing\n",
    "              and RETURN a NEW empty queue\n",
    "            - After the call, present queue wait time should be equal or slightly bigger \n",
    "              than returned queue.\n",
    "            - DO *NOT* create new nodes, just reuse existing ones\n",
    "            - REMEMBER to set _size, _wait_time, _tail in both original and new queue\n",
    "            - MUST execute in O(n) where n is the size of the queue\n",
    "        \"\"\"\n",
    "```\n",
    "\n",
    "**Testing**: `python3 -m unittest office_queue_test.SplitTest`"
   ]
  },
  {
   "cell_type": "code",
   "execution_count": 22,
   "metadata": {
    "nbsphinx": "hidden"
   },
   "outputs": [
    {
     "name": "stderr",
     "output_type": "stream",
     "text": [
      ".................\n",
      "----------------------------------------------------------------------\n",
      "Ran 17 tests in 0.017s\n",
      "\n",
      "OK\n"
     ]
    }
   ],
   "source": [
    "import sys\n",
    "sys.path.append('../../')\n",
    "import jupman\n",
    "\n",
    "import office_queue_test\n",
    "\n",
    "jupman.run(office_queue_test)"
   ]
  },
  {
   "cell_type": "code",
   "execution_count": null,
   "metadata": {},
   "outputs": [],
   "source": []
  }
 ],
 "metadata": {
  "celltoolbar": "Edit Metadata",
  "kernelspec": {
   "display_name": "Python 3",
   "language": "python",
   "name": "python3"
  },
  "language_info": {
   "codemirror_mode": {
    "name": "ipython",
    "version": 3
   },
   "file_extension": ".py",
   "mimetype": "text/x-python",
   "name": "python",
   "nbconvert_exporter": "python",
   "pygments_lexer": "ipython3",
   "version": "3.5.2"
  },
  "toc": {
   "base_numbering": 1,
   "nav_menu": {},
   "number_sections": false,
   "sideBar": true,
   "skip_h1_title": false,
   "title_cell": "Table of Contents",
   "title_sidebar": "Contents",
   "toc_cell": false,
   "toc_position": {},
   "toc_section_display": true,
   "toc_window_display": true
  }
 },
 "nbformat": 4,
 "nbformat_minor": 1
}
