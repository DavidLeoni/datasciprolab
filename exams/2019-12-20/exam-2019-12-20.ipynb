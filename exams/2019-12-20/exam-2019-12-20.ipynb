{
 "cells": [
  {
   "cell_type": "code",
   "execution_count": 1,
   "metadata": {
    "nbsphinx": "hidden"
   },
   "outputs": [],
   "source": [
    "#Please execute this cell\n",
    "import sys;\n",
    "sys.path.append('../../'); \n",
    "import jupman;"
   ]
  },
  {
   "cell_type": "markdown",
   "metadata": {},
   "source": [
    "# Midterm B -  Fri 20, Dec 2019\n",
    "\n",
    "\n",
    "**Scientific Programming - Data Science @ University of Trento**\n",
    "\n",
    "## [Download exercises and solution](../../_static/datasciprolab-2019-12-20-exam.zip)"
   ]
  },
  {
   "cell_type": "markdown",
   "metadata": {
    "collapsed": true
   },
   "source": [
    "## Introduction\n",
    "\n",
    "**You can take this midterm ONLY IF you got grade >= 16 in Part A midterm.**\n"
   ]
  },
  {
   "cell_type": "markdown",
   "metadata": {},
   "source": [
    "\n",
    "### Grading\n",
    "\n",
    "\n",
    "* **Correct implementations**: Correct implementations with the required complexity grant you full grade.\n",
    "* **Partial implementations**: Partial implementations _might_ still give you a few points. If you just can't solve an exercise,  try to solve it at least for some subcase (i.e. array of fixed size 2) commenting why you did so. \n",
    "* **Bonus point**: One bonus point can be earned by writing stylish code. You got style if you:\n",
    "\n",
    "    - do not infringe the [Commandments](https://datasciprolab.readthedocs.io/en/latest/commandments.html)\n",
    "    - write [pythonic code](http://docs.python-guide.org/en/latest/writing/style)\n",
    "    - avoid convoluted code like i.e.\n",
    "\n",
    "        ```\n",
    "        if x > 5:\n",
    "            return True\n",
    "        else:\n",
    "            return False\n",
    "        ```\n",
    "\n",
    "        when you could write just\n",
    "\n",
    "        ```\n",
    "        return x > 5\n",
    "        ```       \n",
    "\n",
    "### Valid code"
   ]
  },
  {
   "cell_type": "markdown",
   "metadata": {
    "scrolled": true
   },
   "source": [
    "<div class=\"alert alert-warning\">\n",
    "\n",
    "**WARNING**: MAKE SURE ALL EXERCISE FILES AT LEAST COMPILE !!! \n",
    "10 MINS BEFORE THE END OF THE EXAM I WILL ASK YOU TO DO A FINAL CLEAN UP OF THE CODE \n",
    "</div>\n",
    "\n",
    "\n",
    "\n",
    "<div class=\"alert alert-warning\">\n",
    "\n",
    "**WARNING**: _ONLY_ IMPLEMENTATIONS OF THE PROVIDED FUNCTION SIGNATURES WILL BE EVALUATED !!!!!!!!! <br/>    \n",
    "\n",
    "</div>"
   ]
  },
  {
   "cell_type": "markdown",
   "metadata": {},
   "source": [
    "\n",
    "For example, if you are given to implement: \n",
    "\n",
    "```python\n",
    "    def f(x):\n",
    "        raise Exception(\"TODO implement me\")\n",
    "```\n",
    "\n",
    "and you ship this code:\n",
    "\n",
    "``` python\n",
    "def my_f(x):\n",
    "    # a super fast, correct and stylish implementation\n",
    "\n",
    "def f(x):\n",
    "    raise Exception(\"TODO implement me\")\n",
    "```\n",
    "\n",
    "We will assess only the latter one `f(x)`, and conclude it doesn't work at all :P   !!!!!!!\n",
    "\n",
    "**Helper functions**\n",
    "\n",
    "Still, you are allowed to define any extra helper function you might need. If your `f(x)` implementation calls some other function you defined like `my_f` here, it is ok:\n",
    "\n",
    "```python\n",
    "# Not called by f, will get ignored:\n",
    "def my_g(x):\n",
    "    # bla\n",
    "\n",
    "# Called by f, will be graded:\n",
    "def my_f(y,z):\n",
    "    # bla\n",
    "\n",
    "def f(x):\n",
    "    my_f(x,5)\n",
    "    \n",
    "\n",
    "```\n",
    "\n",
    "\n",
    "\n",
    "### How to edit and run\n",
    "\n",
    "To edit the files, you can use any editor of your choice,  you can find them under _Applications->Programming_:\n",
    "\n",
    "* **Visual Studio Code**\n",
    "* Editra is easy to use, you can find it under _Applications->Programming->Editra_.\n",
    "* Others could be _GEdit_ (simpler), or _PyCharm_ (more complex).\n",
    "\n",
    "To run the tests, use **the Terminal** which can be found in _Accessories -> Terminal_ \n"
   ]
  },
  {
   "cell_type": "markdown",
   "metadata": {},
   "source": [
    "\n",
    "<div class=\"alert alert-info\">\n",
    "\n",
    "**IMPORTANT**: Pay close attention to the comments of the functions.\n",
    "</div>\n",
    "\n",
    "<div class=\"alert alert-warning\">\n",
    "\n",
    "**WARNING**: _DON'T_ modify function signatures! Just provide the implementation.\n",
    "</div>\n",
    "\n",
    "<div class=\"alert alert-warning\">\n",
    "\n",
    "**WARNING**: <i>DON'T</i> change the existing test methods, just add new ones !!!  You can add as many as you want.\n",
    "</div>\n",
    "\n",
    "<div class=\"alert alert-warning\">\n",
    "\n",
    "**WARNING**: _DON'T_ create other files. If you still do it, they won't be evaluated.\n",
    "</div>\n",
    "\n",
    "\n"
   ]
  },
  {
   "cell_type": "markdown",
   "metadata": {},
   "source": [
    "### Debugging \n",
    "\n",
    "If you need to print some debugging information, you are allowed to put extra <code>print</code>\n",
    "    statements in the function bodies."
   ]
  },
  {
   "cell_type": "markdown",
   "metadata": {},
   "source": [
    "\n",
    "<div class=\"alert alert-warning\">\n",
    "\n",
    "**WARNING:** even if print statements are allowed, be careful with prints that might\n",
    "     break your function! \n",
    "</div>\n"
   ]
  },
  {
   "cell_type": "markdown",
   "metadata": {},
   "source": [
    "For example, avoid stuff like this: \n",
    "\n",
    "```python\n",
    "x = 0\n",
    "print(1/x)\n",
    "```\n"
   ]
  },
  {
   "cell_type": "markdown",
   "metadata": {},
   "source": [
    "### What to do\n",
    "\n",
    "1) Download  `datasciprolab-2019-12-20-exam.zip` and extract it <b>on your desktop</b>. Folder content should be like this:\n",
    "\n",
    "```\n",
    "datasciprolab-2019-12-20-FIRSTNAME-LASTNAME-ID\n",
    "    |-jupman.py\n",
    "    |-sciprog.py\n",
    "    |-exams\n",
    "        |-2019-12-20\n",
    "            |- exam-2019-12-20-exercise.ipynb\n",
    "            |- theory.txt\n",
    "            |- linked_list_exercise.py\n",
    "            |- linked_list_test.py\n",
    "            |- bin_tree_exercise.py\n",
    "            |- bin_tree_test.py                        \n",
    "```\n",
    "\n",
    "2) Rename `datasciprolab-2019-12-20-FIRSTNAME-LASTNAME-ID` folder: put your name, lastname an id number, like `datasciprolab-2019-12-20-john-doe-432432`\n",
    "\n",
    "From now on, you will be editing the files in that folder. At the end of the exam, that is what will be evaluated.\n",
    "\n",
    "3) Edit the files following the instructions in this worksheet for each exercise. Every exercise should take max 25 mins. If it takes longer, leave it and try another exercise.\n",
    "\n",
    "4) When done:\n",
    "\n",
    "- if you have unitn login:  zip and send to [examina.icts.unitn.it/studente](http://examina.icts.unitn.it/studente)\n",
    "  \n",
    "- If you don't have unitn login: tell instructors and we will download your work manually\n",
    " \n"
   ]
  },
  {
   "cell_type": "markdown",
   "metadata": {},
   "source": [
    "## Part B"
   ]
  },
  {
   "cell_type": "markdown",
   "metadata": {},
   "source": [
    "## B1 Theory\n",
    "\n",
    "**Write the solution in separate `theory.txt` file**\n",
    "\n",
    "### B1.1 Complexity\n",
    "\n",
    "\n",
    "Given a list 𝐿 of 𝑛 elements, please compute the asymptotic computational complexity of the following function, explaining your reasoning.\n",
    "\n",
    "```python\n",
    "def my_fun(L):\n",
    "    R = 0\n",
    "    for i in range(len(L)):\n",
    "        for j in range(len(L)-1,0,-1):\n",
    "            k = 0\n",
    "            while k < 4:\n",
    "                R = R + L[j] - L[i]\n",
    "                k += 1\n",
    "    return R\n",
    "```"
   ]
  },
  {
   "cell_type": "markdown",
   "metadata": {},
   "source": [
    "### B1.2 Data structure choice\n",
    "\n",
    "\n",
    "Given an algorithm that frequently checks the presence of an element in its internal data structure. Please briefly answer the following questions:\n",
    "\n",
    "a. What data structure would you choose? Why?\n",
    "\n",
    "b. In case entries are sorted, would you use the same data structures?"
   ]
  },
  {
   "cell_type": "markdown",
   "metadata": {},
   "source": [
    "## B2 LinkedList\n",
    "\n",
    "**Open a text editor** and edit file `linkedlist_exercise.py`\n",
    "\n",
    "You are given a `LinkedList` holding pointers `_head`,  `_last`, and also `_size` attribute.\n",
    "\n",
    "<div class=\"alert alert-warning\">\n",
    "\n",
    "Notice the list also holds `_last` and `_size` attributes !!!\n",
    "</div>\n",
    "\n"
   ]
  },
  {
   "cell_type": "markdown",
   "metadata": {},
   "source": [
    "## B2.1 rotate\n",
    "\n",
    "✪✪ Implement this method:\n",
    "\n",
    "```python\n",
    "    def rotate(self):\n",
    "        \"\"\" Rotate the list of 1 element, that is, removes last node and\n",
    "            inserts it as the first one.\n",
    "\n",
    "           - MUST execute in O(n) where n is the length of the list\n",
    "           - Remember to also update _last pointer\n",
    "           - WARNING: DO *NOT* try to convert whole linked list to a python list      \n",
    "           - WARNING: DO *NOT* swap node data or create nodes, I want you to\n",
    "                      change existing node links !!\n",
    "        \"\"\"\n",
    "```        \n",
    "\n",
    "**Testing**: `python3 -m unittest linked_list_test.RotateTest`\n",
    "\n",
    "**Example**: "
   ]
  },
  {
   "cell_type": "code",
   "execution_count": 2,
   "metadata": {},
   "outputs": [],
   "source": [
    "from linked_list_solution import *"
   ]
  },
  {
   "cell_type": "code",
   "execution_count": 3,
   "metadata": {},
   "outputs": [
    {
     "name": "stdout",
     "output_type": "stream",
     "text": [
      "LinkedList: a,b,c,d\n"
     ]
    }
   ],
   "source": [
    "\n",
    "ll = LinkedList()\n",
    "ll.add('d')\n",
    "ll.add('c')\n",
    "ll.add('b')\n",
    "ll.add('a')\n",
    "print(ll)"
   ]
  },
  {
   "cell_type": "code",
   "execution_count": 4,
   "metadata": {},
   "outputs": [],
   "source": [
    "ll.rotate()"
   ]
  },
  {
   "cell_type": "code",
   "execution_count": 5,
   "metadata": {},
   "outputs": [
    {
     "name": "stdout",
     "output_type": "stream",
     "text": [
      "LinkedList: d,a,b,c\n"
     ]
    }
   ],
   "source": [
    "print(ll)"
   ]
  },
  {
   "cell_type": "markdown",
   "metadata": {},
   "source": [
    "## B2.2 rotaten\n",
    "\n",
    "✪✪✪ Implement this method:\n",
    "\n",
    "```python\n",
    "    def rotaten(self, k):\n",
    "        \"\"\" Rotate k times the linkedlist\n",
    "        \n",
    "            - k can range from 0 to any positive integer number (even greater than list size)\n",
    "            - if k < 0 raise ValueError\n",
    "        \n",
    "            - MUST execute in O( n-(k%n) ) where n is the length of the list\n",
    "            - WARNING: DO *NOT* call .rotate() k times !!!!\n",
    "            - WARNING: DO *NOT* try to convert whole linked list to a python list           \n",
    "            - WARNING: DO *NOT* swap node data or create nodes, I want you to\n",
    "                       change node links !!\n",
    "        \"\"\"\n",
    "```\n",
    "\n",
    "**Testing**: `python3 -m unittest linked_list_test.RotatenTest`\n",
    "\n",
    "<div class=\"alert alert-warning\">\n",
    "\n",
    "**IMPORTANT HINT**\n",
    "\n",
    "The line \"MUST execute in O( n-(k%n) ) where n is the length of the list\" means that you have to calculate `m = k%n`, and then only scan first `n-m` nodes!\n",
    "</div>\n",
    "\n",
    "**Example**:      "
   ]
  },
  {
   "cell_type": "code",
   "execution_count": 6,
   "metadata": {},
   "outputs": [
    {
     "name": "stdout",
     "output_type": "stream",
     "text": [
      "LinkedList: a,b,c,d,e,f,g,h\n"
     ]
    }
   ],
   "source": [
    "ll = LinkedList()\n",
    "ll.add('h')\n",
    "ll.add('g')\n",
    "ll.add('f')\n",
    "ll.add('e')\n",
    "ll.add('d')\n",
    "ll.add('c')\n",
    "ll.add('b')\n",
    "ll.add('a')\n",
    "print(ll)"
   ]
  },
  {
   "cell_type": "code",
   "execution_count": 7,
   "metadata": {},
   "outputs": [],
   "source": [
    "ll.rotaten(0)  # changes nothing"
   ]
  },
  {
   "cell_type": "code",
   "execution_count": 8,
   "metadata": {},
   "outputs": [
    {
     "name": "stdout",
     "output_type": "stream",
     "text": [
      "LinkedList: a,b,c,d,e,f,g,h\n"
     ]
    }
   ],
   "source": [
    "print(ll)"
   ]
  },
  {
   "cell_type": "code",
   "execution_count": 9,
   "metadata": {},
   "outputs": [],
   "source": [
    "ll.rotaten(3)"
   ]
  },
  {
   "cell_type": "code",
   "execution_count": 10,
   "metadata": {},
   "outputs": [
    {
     "name": "stdout",
     "output_type": "stream",
     "text": [
      "LinkedList: f,g,h,a,b,c,d,e\n"
     ]
    }
   ],
   "source": [
    "print(ll)"
   ]
  },
  {
   "cell_type": "code",
   "execution_count": 11,
   "metadata": {},
   "outputs": [],
   "source": [
    "ll.rotaten(8)  # changes nothing"
   ]
  },
  {
   "cell_type": "code",
   "execution_count": 12,
   "metadata": {},
   "outputs": [
    {
     "name": "stdout",
     "output_type": "stream",
     "text": [
      "LinkedList: f,g,h,a,b,c,d,e\n"
     ]
    }
   ],
   "source": [
    "print(ll)"
   ]
  },
  {
   "cell_type": "code",
   "execution_count": 13,
   "metadata": {},
   "outputs": [],
   "source": [
    "ll.rotaten(5)"
   ]
  },
  {
   "cell_type": "code",
   "execution_count": 14,
   "metadata": {},
   "outputs": [
    {
     "name": "stdout",
     "output_type": "stream",
     "text": [
      "LinkedList: a,b,c,d,e,f,g,h\n"
     ]
    }
   ],
   "source": [
    "print(ll)"
   ]
  },
  {
   "cell_type": "code",
   "execution_count": 15,
   "metadata": {},
   "outputs": [],
   "source": [
    "ll.rotaten(11)  # 11 = 8 + 3 , only rotates 3 nodes"
   ]
  },
  {
   "cell_type": "code",
   "execution_count": 16,
   "metadata": {},
   "outputs": [
    {
     "name": "stdout",
     "output_type": "stream",
     "text": [
      "LinkedList: f,g,h,a,b,c,d,e\n"
     ]
    }
   ],
   "source": [
    "print(ll)"
   ]
  },
  {
   "cell_type": "markdown",
   "metadata": {},
   "source": [
    "## B3 Binary trees\n",
    "\n",
    "We will now go looking for leaves, that is, nodes with no children. Open `bin_tree_exercise`.\n",
    "\n",
    "![](img/bt-leaves-numbers.png)\n"
   ]
  },
  {
   "cell_type": "code",
   "execution_count": 17,
   "metadata": {},
   "outputs": [],
   "source": [
    "from bin_tree_test import bt\n",
    "from bin_tree_solution import *"
   ]
  },
  {
   "cell_type": "markdown",
   "metadata": {},
   "source": [
    "## B3.1 sum_leaves_rec\n",
    "\n",
    "✪✪ Implement this method:\n",
    "\n",
    "```python    \n",
    "    def sum_leaves_rec(self):\n",
    "        \"\"\" Supposing the tree holds integer numbers in all nodes,\n",
    "            RETURN the sum of ONLY the numbers in the leaves.\n",
    "\n",
    "            - a root with no children is considered a leaf\n",
    "            - implement it as a recursive Depth First Search (DFS) traversal\n",
    "              NOTE: with big trees a recursive solution would surely \n",
    "                    exceed the call stack, but here we don't mind            \n",
    "        \"\"\" \n",
    "```     \n",
    "\n",
    "**Testing**: `python3 -m unittest bin_tree_test.SumLeavesRecTest`\n",
    "\n",
    "**Example**: "
   ]
  },
  {
   "cell_type": "code",
   "execution_count": 18,
   "metadata": {},
   "outputs": [
    {
     "data": {
      "text/plain": [
       "18"
      ]
     },
     "execution_count": 18,
     "metadata": {},
     "output_type": "execute_result"
    }
   ],
   "source": [
    "t = bt(3, \n",
    "        bt(10,\n",
    "                bt(1), \n",
    "                bt(7, \n",
    "                    bt(5))),\n",
    "        bt(9, \n",
    "                bt(6, \n",
    "                    bt(2,\n",
    "                            None,\n",
    "                            bt(4)),\n",
    "                    bt(8))))\n",
    "\n",
    "t.sum_leaves_rec()  #  1 + 5 + 4 + 8"
   ]
  },
  {
   "cell_type": "markdown",
   "metadata": {},
   "source": [
    "## B3.2 leaves_stack\n",
    "\n",
    "✪✪✪ Implement this method:\n",
    "\n",
    "```python\n",
    "    def leaves_stack(self):\n",
    "        \"\"\" RETURN a list holding the *data* of all the leaves  of the tree,\n",
    "            in left to right order.\n",
    "\n",
    "            - a root with no children is considered a leaf\n",
    "            - DO *NOT* use recursion\n",
    "            - implement it with a while and a stack (as a Python list)            \n",
    "        \"\"\"        \n",
    "```\n",
    "\n",
    "**Testing**: `python3 -m unittest bin_tree_test.LeavesStackTest`\n",
    "\n",
    "**Example:**"
   ]
  },
  {
   "cell_type": "code",
   "execution_count": 19,
   "metadata": {},
   "outputs": [
    {
     "data": {
      "text/plain": [
       "['c', 'e', 'h', 'i']"
      ]
     },
     "execution_count": 19,
     "metadata": {},
     "output_type": "execute_result"
    }
   ],
   "source": [
    "\n",
    "t = bt('a', \n",
    "            bt('b',\n",
    "                    bt('c'), \n",
    "                    bt('d', \n",
    "                            None,\n",
    "                            bt('e'))),\n",
    "            bt('f', \n",
    "                    bt('g', \n",
    "                            bt('h')), \n",
    "                    bt('i')))\n",
    "t.leaves_stack()"
   ]
  },
  {
   "cell_type": "code",
   "execution_count": 20,
   "metadata": {
    "nbsphinx": "hidden"
   },
   "outputs": [
    {
     "name": "stderr",
     "output_type": "stream",
     "text": [
      "...............................\n",
      "----------------------------------------------------------------------\n",
      "Ran 31 tests in 0.015s\n",
      "\n",
      "OK\n",
      ".......................\n",
      "----------------------------------------------------------------------\n",
      "Ran 23 tests in 0.017s\n",
      "\n",
      "OK\n"
     ]
    }
   ],
   "source": [
    "import linked_list_test\n",
    "jupman.run(linked_list_test)\n",
    "import bin_tree_test\n",
    "jupman.run(bin_tree_test)"
   ]
  },
  {
   "cell_type": "code",
   "execution_count": null,
   "metadata": {},
   "outputs": [],
   "source": []
  }
 ],
 "metadata": {
  "celltoolbar": "Edit Metadata",
  "kernelspec": {
   "display_name": "Python 3",
   "language": "python",
   "name": "python3"
  },
  "language_info": {
   "codemirror_mode": {
    "name": "ipython",
    "version": 3
   },
   "file_extension": ".py",
   "mimetype": "text/x-python",
   "name": "python",
   "nbconvert_exporter": "python",
   "pygments_lexer": "ipython3",
   "version": "3.7.3"
  },
  "toc": {
   "base_numbering": 1,
   "nav_menu": {},
   "number_sections": false,
   "sideBar": true,
   "skip_h1_title": false,
   "title_cell": "Table of Contents",
   "title_sidebar": "Contents",
   "toc_cell": false,
   "toc_position": {},
   "toc_section_display": true,
   "toc_window_display": true
  }
 },
 "nbformat": 4,
 "nbformat_minor": 1
}
