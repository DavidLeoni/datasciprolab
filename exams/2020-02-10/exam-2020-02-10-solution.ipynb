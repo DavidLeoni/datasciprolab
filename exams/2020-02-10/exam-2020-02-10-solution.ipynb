{
 "cells": [
  {
   "cell_type": "code",
   "execution_count": 1,
   "metadata": {
    "nbsphinx": "hidden"
   },
   "outputs": [],
   "source": [
    "#Please execute this cell\n",
    "import sys;\n",
    "sys.path.append('../../'); \n",
    "import jupman;"
   ]
  },
  {
   "cell_type": "markdown",
   "metadata": {},
   "source": [
    "# Exam -  Monday 10, February 2020 - solutions\n",
    "\n",
    "**Scientific Programming - Data Science @ University of Trento**\n",
    "\n",
    "## [Download exercises and solution](../../_static/datasciprolab-2020-02-10-exam.zip)\n"
   ]
  },
  {
   "cell_type": "markdown",
   "metadata": {
    "collapsed": true
   },
   "source": [
    "## Introduction\n",
    "\n",
    "* **Taking part to this exam erases any vote you had before**\n"
   ]
  },
  {
   "cell_type": "markdown",
   "metadata": {},
   "source": [
    "\n",
    "### Grading\n",
    "\n",
    "\n",
    "* **Correct implementations**: Correct implementations with the required complexity grant you full grade.\n",
    "* **Partial implementations**: Partial implementations _might_ still give you a few points. If you just can't solve an exercise,  try to solve it at least for some subcase (i.e. array of fixed size 2) commenting why you did so. \n",
    "* **Bonus point**: One bonus point can be earned by writing stylish code. You got style if you:\n",
    "\n",
    "    - do not infringe the [Commandments](https://datasciprolab.readthedocs.io/en/latest/commandments.html)\n",
    "    - write [pythonic code](http://docs.python-guide.org/en/latest/writing/style)\n",
    "    - avoid convoluted code like i.e.\n",
    "\n",
    "        ```\n",
    "        if x > 5:\n",
    "            return True\n",
    "        else:\n",
    "            return False\n",
    "        ```\n",
    "\n",
    "        when you could write just\n",
    "\n",
    "        ```\n",
    "        return x > 5\n",
    "        ```       \n",
    "\n",
    "### Valid code"
   ]
  },
  {
   "cell_type": "markdown",
   "metadata": {
    "scrolled": true
   },
   "source": [
    "<div class=\"alert alert-warning\">\n",
    "\n",
    "**WARNING**: MAKE SURE ALL EXERCISE FILES AT LEAST COMPILE !!! \n",
    "10 MINS BEFORE THE END OF THE EXAM I WILL ASK YOU TO DO A FINAL CLEAN UP OF THE CODE \n",
    "</div>\n",
    "\n",
    "\n",
    "\n",
    "<div class=\"alert alert-warning\">\n",
    "\n",
    "**WARNING**: _ONLY_ IMPLEMENTATIONS OF THE PROVIDED FUNCTION SIGNATURES WILL BE EVALUATED !!!!!!!!! <br/>    \n",
    "\n",
    "</div>"
   ]
  },
  {
   "cell_type": "markdown",
   "metadata": {},
   "source": [
    "\n",
    "For example, if you are given to implement: \n",
    "\n",
    "```python\n",
    "    def f(x):\n",
    "        raise Exception(\"TODO implement me\")\n",
    "```\n",
    "\n",
    "and you ship this code:\n",
    "\n",
    "``` python\n",
    "def my_f(x):\n",
    "    # a super fast, correct and stylish implementation\n",
    "\n",
    "def f(x):\n",
    "    raise Exception(\"TODO implement me\")\n",
    "```\n",
    "\n",
    "We will assess only the latter one `f(x)`, and conclude it doesn't work at all :P   !!!!!!!\n",
    "\n",
    "**Helper functions**\n",
    "\n",
    "Still, you are allowed to define any extra helper function you might need. If your `f(x)` implementation calls some other function you defined like `my_f` here, it is ok:\n",
    "\n",
    "```python\n",
    "# Not called by f, will get ignored:\n",
    "def my_g(x):\n",
    "    # bla\n",
    "\n",
    "# Called by f, will be graded:\n",
    "def my_f(y,z):\n",
    "    # bla\n",
    "\n",
    "def f(x):\n",
    "    my_f(x,5)\n",
    "    \n",
    "\n",
    "```\n",
    "\n",
    "\n",
    "\n",
    "### How to edit and run\n",
    "\n",
    "To edit the files, you can use any editor of your choice,  you can find them under _Applications->Programming_:\n",
    "\n",
    "* **Visual Studio Code**\n",
    "* Editra is easy to use, you can find it under _Applications->Programming->Editra_.\n",
    "* Others could be _GEdit_ (simpler), or _PyCharm_ (more complex).\n",
    "\n",
    "To run the tests, use **the Terminal** which can be found in _Accessories -> Terminal_ \n"
   ]
  },
  {
   "cell_type": "markdown",
   "metadata": {},
   "source": [
    "\n",
    "<div class=\"alert alert-info\">\n",
    "\n",
    "**IMPORTANT**: Pay close attention to the comments of the functions.\n",
    "</div>\n",
    "\n",
    "<div class=\"alert alert-warning\">\n",
    "\n",
    "**WARNING**: _DON'T_ modify function signatures! Just provide the implementation.\n",
    "</div>\n",
    "\n",
    "<div class=\"alert alert-warning\">\n",
    "\n",
    "**WARNING**: <i>DON'T</i> change the existing test methods, just add new ones !!!  You can add as many as you want.\n",
    "</div>\n",
    "\n",
    "<div class=\"alert alert-warning\">\n",
    "\n",
    "**WARNING**: _DON'T_ create other files. If you still do it, they won't be evaluated.\n",
    "</div>\n",
    "\n",
    "\n"
   ]
  },
  {
   "cell_type": "markdown",
   "metadata": {},
   "source": [
    "### Debugging \n",
    "\n",
    "If you need to print some debugging information, you are allowed to put extra <code>print</code>\n",
    "    statements in the function bodies."
   ]
  },
  {
   "cell_type": "markdown",
   "metadata": {},
   "source": [
    "\n",
    "<div class=\"alert alert-warning\">\n",
    "\n",
    "**WARNING:** even if print statements are allowed, be careful with prints that might\n",
    "     break your function! \n",
    "</div>\n"
   ]
  },
  {
   "cell_type": "markdown",
   "metadata": {},
   "source": [
    "For example, avoid stuff like this: \n",
    "\n",
    "```python\n",
    "x = 0\n",
    "print(1/x)\n",
    "```\n"
   ]
  },
  {
   "cell_type": "markdown",
   "metadata": {},
   "source": [
    "### What to do\n",
    "\n",
    "1) Download  `datasciprolab-2020-02-10-exam.zip` and extract it <b>on your desktop</b>. Folder content should be like this:\n",
    "\n",
    "```\n",
    "datasciprolab-2020-02-10-FIRSTNAME-LASTNAME-ID\n",
    "    |-jupman.py\n",
    "    |-sciprog.py\n",
    "    |-exams\n",
    "        |-2020-02-10\n",
    "            |- exam-2020-02-10-exercise.ipynb\n",
    "            |- B1-theory.txt\n",
    "            |- B2_italian_queue_v2_exercise.py\n",
    "            |- B2_italian_queue_v2_test.py            \n",
    "            \n",
    "```\n",
    "\n",
    "2) Rename `datasciprolab-2020-02-10-FIRSTNAME-LASTNAME-ID` folder: put your name, lastname an id number, like `datasciprolab-2020-02-10-john-doe-432432`\n",
    "\n",
    "From now on, you will be editing the files in that folder. At the end of the exam, that is what will be evaluated.\n",
    "\n",
    "3) Edit the files following the instructions in this worksheet for each exercise. Every exercise should take max 25 mins. If it takes longer, leave it and try another exercise.\n",
    "\n",
    "4) When done:\n",
    "\n",
    "- if you have unitn login:  zip and send to [examina.icts.unitn.it/studente](http://examina.icts.unitn.it/studente)\n",
    "  \n",
    "- If you don't have unitn login: tell instructors and we will download your work manually\n",
    " \n"
   ]
  },
  {
   "cell_type": "markdown",
   "metadata": {},
   "source": [
    "## Part A\n",
    "\n",
    "Open Jupyter and start editing this notebook `exam-2020-02-10-exercise.ipynb`\n",
    "\n"
   ]
  },
  {
   "cell_type": "markdown",
   "metadata": {},
   "source": [
    " \n",
    "> [WordNet](https://wordnet.princeton.edu/)® is a large lexical database of English. Nouns, verbs, adjectives and adverbs are grouped into sets of cognitive synonyms (synsets), each expressing a distinct concept. Synsets are interlinked by means of semantic relations. The resulting network of related words and concepts can be navigated with the browser. WordNet is also freely and publicly available for download, making it a useful tool for computational linguistics and natural language processing.\n",
    "> Princeton University \"About WordNet.\" [WordNet](https://wordnet.princeton.edu/). Princeton University. 2010    \n",
    "\n",
    "In Python there are specialized libraries to read WordNet like [NLTK](https://www.nltk.org/howto/wordnet.html), but for the sake of this exercise, you will parse the noun database as a text file which can be read line by line.\n",
    "\n",
    "We will focus on _names_ and how they are linked by _IS A_ relation, for example, a `dalmatian` _IS A_  `dog` (_IS A_ is also called _hypernym_ relation)"
   ]
  },
  {
   "cell_type": "markdown",
   "metadata": {},
   "source": [
    "## A1 parse_db\n",
    "\n",
    "First, you will begin with parsing an excerpt of wordnet `data/dogs.noun`, which is a noun database shown here in its entirety.\n",
    "\n",
    "[According to documentation](https://wordnet.princeton.edu/documentation/wndb5wn), a noun database begins with several lines containing a copyright notice, version number, and license agreement: these lines all begin with **two spaces** and the line number like \n",
    "\n",
    "```\n",
    "  1 This software and database is being provided to you, the LICENSEE, by  \n",
    "  2 Princeton University under the following license.  By obtaining, using  \n",
    "  3 and/or copying this software and database, you agree that you have  \n",
    "```\n",
    "\n",
    "Afterwards, each of following lines describe a noun synset, that is, a unique concept identified by a number called `synset_offset`.\n",
    "\n",
    "- each synset can have many words to represent it - for example, the noun synset `02112993`  has `03` (`w_cnt`) words `dalmatian`  `coach_dog`, `carriage_dog`.\n",
    "- a synset can be linked to other ones by relations. The dalmatian synset is linked to `002` (`p_cnt`) other synsets: to synset `02086723` by the `@` relation,  and to synset `02113184` by the `~` relation. For our purposes, you can focus on the `@` symbol which means _IS A_ relation (also called `hypernym`). If you search for a line starting with `02086723`, you will see it is the synset for `dog`, so Wordnet is telling us a `dalmatian` _IS A_ `dog`.\n",
    "\n",
    "\n",
    "<div class=\"alert alert-warning\">\n",
    "\n",
    "**WARNING 1**: lines can be quite long so if they appear to span multiple lines don't be fooled : remember each name definition only occupies one single line with no carriage returns!\n",
    "\n",
    "</div>\n",
    "\n",
    "\n",
    "<div class=\"alert alert-warning\">\n",
    "\n",
    "**WARNING 2**: there are no empty lines between the synsets, here you see them just to visually separate the text blobs\n",
    "\n",
    "</div>"
   ]
  },
  {
   "cell_type": "markdown",
   "metadata": {},
   "source": [
    "```\n",
    "  1 This software and database is being provided to you, the LICENSEE, by  \n",
    "  2 Princeton University under the following license.  By obtaining, using  \n",
    "  3 and/or copying this software and database, you agree that you have  \n",
    "  4 read, understood, and will comply with these terms and conditions.:  \n",
    "  5   \n",
    "  6 Permission to use, copy, modify and distribute this software and  \n",
    "  7 database and its documentation for any purpose and without fee or  \n",
    "  8 royalty is hereby granted, provided that you agree to comply with  \n",
    "  9 the following copyright notice and statements, including the disclaimer,  \n",
    "  10 and that the same appear on ALL copies of the software, database and  \n",
    "  11 documentation, including modifications that you make for internal  \n",
    "  12 use or for distribution.  \n",
    "  13   \n",
    "  14 WordNet 3.1 Copyright 2011 by Princeton University.  All rights reserved.  \n",
    "  15   \n",
    "  16 THIS SOFTWARE AND DATABASE IS PROVIDED \"AS IS\" AND PRINCETON  \n",
    "  17 UNIVERSITY MAKES NO REPRESENTATIONS OR WARRANTIES, EXPRESS OR  \n",
    "  18 IMPLIED.  BY WAY OF EXAMPLE, BUT NOT LIMITATION, PRINCETON  \n",
    "  19 UNIVERSITY MAKES NO REPRESENTATIONS OR WARRANTIES OF MERCHANT-  \n",
    "  20 ABILITY OR FITNESS FOR ANY PARTICULAR PURPOSE OR THAT THE USE  \n",
    "  21 OF THE LICENSED SOFTWARE, DATABASE OR DOCUMENTATION WILL NOT  \n",
    "  22 INFRINGE ANY THIRD PARTY PATENTS, COPYRIGHTS, TRADEMARKS OR  \n",
    "  23 OTHER RIGHTS.  \n",
    "  24   \n",
    "  25 The name of Princeton University or Princeton may not be used in  \n",
    "  26 advertising or publicity pertaining to distribution of the software  \n",
    "  27 and/or database.  Title to copyright in this software, database and  \n",
    "  28 any associated documentation shall at all times remain with  \n",
    "  29 Princeton University and LICENSEE agrees to preserve same. \n",
    "```\n",
    "\n",
    "**01320032** 05 n 02 domestic_animal 0 domesticated_animal 0 007 @ 00015568 n 0000 ~ 01320304 n 0000 ~ 01320544 n 0000 ~ 01320872 n 0000 ~ 02086723 n 0000 ~ 02124460 n 0000 ~ 02125232 n 0000 | any of various animals that have been tamed and made fit for a human environment\n",
    "\n",
    "**02085998** 05 n 02 canine 0 canid 0 011 @ 02077948 n 0000 #m 02085690 n 0000 + 02688440 a 0101 ~ 02086324 n 0000 ~ 02086723 n 0000 ~ 02116752 n 0000 ~ 02117748 n 0000 ~ 02117987 n 0000 ~ 02119787 n 0000 ~ 02120985 n 0000 %p 02442560 n 0000 | any of various fissiped mammals with nonretractile claws and typically long muzzles\n",
    "\n",
    "**02086723** 05 n 03 dog 0 domestic_dog 0 Canis_familiaris 0 023 @ 02085998 n 0000 @ 01320032 n 0000 #m 02086515 n 0000 #m 08011383 n 0000 ~ 01325095 n 0000 ~ 02087384 n 0000 ~ 02087513 n 0000 ~ 02087924 n 0000 ~ 02088026 n 0000 ~ 02089774 n 0000 ~ 02106058 n 0000 ~ 02112993 n 0000 ~ 02113458 n 0000 ~ 02113610 n 0000 ~ 02113781 n 0000 ~ 02113929 n 0000 ~ 02114152 n 0000 ~ 02114278 n 0000 ~ 02115149 n 0000 ~ 02115478 n 0000 ~ 02115987 n 0000 ~ 02116630 n 0000 %p 02161498 n 0000 | a member of the genus Canis (probably descended from the common wolf) that has been domesticated by man since prehistoric times; occurs in many breeds; \"the dog barked all night\"\n",
    "\n",
    "**02106058** 05 n 01 working_dog 0 016 @ 02086723 n 0000 ~ 02106493 n 0000 ~ 02107175 n 0000 ~ 02109506 n 0000 ~ 02110072 n 0000 ~ 02110741 n 0000 ~ 02110906 n 0000 ~ 02111074 n 0000 ~ 02111324 n 0000 ~ 02111699 n 0000 ~ 02111802 n 0000 ~ 02112043 n 0000 ~ 02112177 n 0000 ~ 02112339 n 0000 ~ 02112463 n 0000 ~ 02112613 n 0000 | any of several breeds of usually large powerful dogs bred to work as draft animals and guard and guide dogs\n",
    "\n",
    "**02112993** 05 n 03 dalmatian 0 coach_dog 0 carriage_dog 0 002 @ 02086723 n 0000 ~ 02113184 n 0000 | a large breed having a smooth white coat with black or brown spots; originated in Dalmatia\n",
    "\n",
    "**02107175** 05 n 03 shepherd_dog 0 sheepdog 0 sheep_dog 0 012 @ 02106058 n 0000 ~ 02107534 n 0000 ~ 02107903 n 0000 ~ 02108064 n 0000 ~ 02108157 n 0000 ~ 02108293 n 0000 ~ 02108507 n 0000 ~ 02108682 n 0000 ~ 02108818 n 0000 ~ 02109034 n 0000 ~ 02109202 n 0000 ~ 02109314 n 0000 | any of various usually long-haired breeds of dog reared to herd and guard sheep\n",
    "\n",
    "**02111324** 05 n 02 bulldog 0 English_bulldog 0 003 @ 02106058 n 0000 + 01121448 v 0101 ~ 02111567 n 0000 | a sturdy thickset short-haired breed with a large head and strong undershot lower jaw; developed originally in England for bull baiting\n",
    "\n",
    "**02116752** 05 n 01 wolf 0 007 @ 02085998 n 0000 #m 02086515 n 0000 ~ 01324999 n 0000 ~ 02117019 n 0000 ~ 02117200 n 0000 ~ 02117364 n 0000 ~ 02117507 n 0000 | any of various predatory carnivorous canine mammals of North America and Eurasia that usually hunt in packs\n",
    "\n"
   ]
  },
  {
   "cell_type": "markdown",
   "metadata": {},
   "source": [
    "### Field description\n",
    "\n",
    "While parsing, skip the copyright notice. Then, each name definition follows the following format:\n",
    "\n",
    "```\n",
    "synset_offset lex_filenum ss_type w_cnt word lex_id [word  lex_id...] p_cnt [ptr...] | gloss \n",
    "```\n",
    "\n",
    "* `synset_offset`: Number identifying the synset, for example `02112993`. **MUST be converted to a Python int**\n",
    "\n",
    "* `lex_filenum`: Two digit decimal integer corresponding to the lexicographer file name containing the synset, for example `03`. **MUST be converted to a Python int**\n",
    "\n",
    "* `ss_type`: One character code indicating the synset type, store it as a string.\n"
   ]
  },
  {
   "cell_type": "markdown",
   "metadata": {},
   "source": [
    "\n",
    "* `w_cnt`: Two digit **hexadecimal** integer indicating the number of words in the synset, for example `b3`. **MUST be converted to a Python int**.\n",
    "\n",
    "<div class=\"alert alert-warning\">\n",
    "\n",
    "**WARNING**: `w_cnt` is expressed as **hexadecimal**!\n",
    "\n",
    "To convert an hexadecimal number like `b3` to a decimal int you will need to specify the base 16 like in `int('b3',16)` which produces the decimal integer `179`.\n",
    "</div>\n",
    "\n",
    "* Afterwards, there will be `w_cnt` words, each represented by two fields (for example, `dalmatian 0`). You MUST store these fields into a Python list called `words` containing a dictionary for each word, having these fields:\n",
    "\n",
    "    - `word`: ASCII form of a word (example: `dalmatian`), with spaces replaced by underscore characters (`_`)\n",
    "\n",
    "    - `lex_id`: One digit **hexadecimal** integer (example: `0`) that **MUST be converted to a Python int**\n",
    "\n",
    "<div class=\"alert alert-warning\">\n",
    "\n",
    "**WARNING**: `lex_id` is expressed as **hexadecimal**!\n",
    "\n",
    "To convert an hexadecimal number like `b3` to a decimal int you will need to specify the base 16 like in `int('b3',16)` which produces the decimal integer `179`.\n",
    "</div>\n"
   ]
  },
  {
   "cell_type": "markdown",
   "metadata": {},
   "source": [
    "* `p_cnt`: Three digit **decimal** integer indicating the number of pointers (that is, relations like for example _IS A_) from this synset to other synsets. **MUST be converted to a Python int** \n",
    "\n",
    "<div class=\"alert alert-warning\">\n",
    "**WARNING**: differently from `w_cnt`,  the value `p_cnt` is expressed as **decimal**!\n",
    "</div>\n",
    "\n",
    "* Afterwards, there will be `p_cnt` pointers, each represented by four fields `pointer_symbol` `synset_offset` `pos`  `source/target` (for example, `@ 02086723 n 0000`). **You MUST store these fields into a Python list called** `ptrs` containing a dictionary for each pointer, having these fields:\n",
    "\n",
    "    - `pointer_symbol`: a symbol indicating the type of relation, for example `@` (which represents _IS A_ relation)\n",
    "    - `synset_offset` : the identifier of the target synset, for example `02086723`. **You MUST convert this to a Python int**\n",
    "    - `pos`: just parse it as a string (we will not use it)\n",
    "    - `source/target`: just parse it as a string (we will not use it)\n",
    "\n",
    "<div class=\"alert alert-warning\">\n",
    "    \n",
    "**WARNING: DO NOT** assume first pointer is an `@` (_IS A_) !!\n",
    "\n",
    "In the full database, the root synset _entity_ can't possibly have a parent synset:<br/><br/>\n",
    "\n",
    "\n",
    "```\n",
    "\n",
    "\n",
    "0        1  2 3  4      5 6   7 8        9 10   11 12      13 14   15 16       17 18\n",
    "00001740 03 n 01 entity 0 003 ~ 00001930 n 0000 ~ 00002137 n  0000 ~  04431553 n  0000 | that which is perceived or known or inferred to have its own distinct existence (living or nonliving)\n",
    "\n",
    "```\n",
    "</div>\n",
    "\n",
    "* `gloss`: Each synset contains a gloss (that is, a description). A gloss is represented as a vertical bar (`|`), followed by a text string that continues until the end of the line. For example, `a large breed having a smooth white coat with black or brown spots; originated in Dalmatia`"
   ]
  },
  {
   "cell_type": "markdown",
   "metadata": {},
   "source": [
    "### implement parse_db"
   ]
  },
  {
   "cell_type": "code",
   "execution_count": 2,
   "metadata": {},
   "outputs": [],
   "source": [
    "def parse_db(filename):\n",
    "    \"\"\" Parses noun database filename as a text file and RETURN a dictionary containing \n",
    "        all the synset found. Each key will be a synset_offset mapping to a dictionary\n",
    "        holding the fields of the correspoing synset. See next printout for an example.\n",
    "    \"\"\"\n",
    "    #jupman-raise\n",
    "    \n",
    "    ret = {}\n",
    "    with open(filename, encoding='utf-8') as f:\n",
    "        line=f.readline()\n",
    "        r = 0\n",
    "        while line.startswith('  '):\n",
    "            line=f.readline()\n",
    "            #print(line)\n",
    "            r += 1\n",
    "\n",
    "\n",
    "        while line != \"\":\n",
    "            i = 0\n",
    "\n",
    "            d = {}\n",
    "\n",
    "            params  = line.split('|')[0].split(' ')\n",
    "            \n",
    "            d['synset_offset'] = int(params[0])    # '00001740'\n",
    "            d['lex_filenum'] = int(params[1])      # '03'\n",
    "            d['ss_type'] = params[2]          # 'n'\n",
    "            # WARNING: HERE THE STRING REPRESENT A NUMBER IN *HEXADECIMAL* FORMAT,\n",
    "            #          AND WE WANT TO STORE AN *INTEGER*\n",
    "            #          TO DO THE CONVERSION PROPERLY, YOU NEED TO USE int(my_string, 16)\n",
    "            d['w_cnt'] = int(params[3], 16)       # 'b3' -> 179  \n",
    "            d['words'] = [] \n",
    "            i = 4\n",
    "            for j in range(d['w_cnt']):\n",
    "                wd = {\n",
    "                      'word'  : params[i],     # 'entity'\n",
    "                      'lex_id': int(params[i + 1],16), # '0'         \n",
    "                }\n",
    "                d['words'].append(wd)\n",
    "                i += 2\n",
    "               # \n",
    "            # WARNING: HERE THE STRING REPRESENT A NUMBER IN *DECIMAL* FORMAT, \n",
    "            #          AND WE WANT TO STORE AN *INTEGER*\n",
    "            #          TO DO THE CONVERSION PROPERLY, YOU NEED TO USE int(my_string)\n",
    "            d['p_cnt'] = int(params[i])       # '003' -> 3   \n",
    "            d['ptrs'] = []\n",
    "            i += 1\n",
    "            for j in range(d['p_cnt']):\n",
    "                ptr =  {                   \n",
    "                         'pointer_symbol': params[i ],    # '~'\n",
    "                         'synset_offset': int(params[i + 1]),  # '00001930' \n",
    "                         'pos': params[i + 2],           # 'n'\n",
    "                         'source_target':params[i + 3],  # '0000'\n",
    "                       }\n",
    "                d['ptrs'].append(ptr)\n",
    "                i += 4\n",
    "\n",
    "\n",
    "            d['gloss'] = line.split('|')[1]\n",
    "\n",
    "            ret[d['synset_offset']] = d\n",
    "            i += 1\n",
    "            line=f.readline()\n",
    "        return ret\n",
    "    #/jupman-raise"
   ]
  },
  {
   "cell_type": "code",
   "execution_count": 3,
   "metadata": {},
   "outputs": [
    {
     "name": "stdout",
     "output_type": "stream",
     "text": [
      "{1320032: {'gloss': ' any of various animals that have been tamed and made fit '\n",
      "                    'for a human environment\\n',\n",
      "           'lex_filenum': 5,\n",
      "           'p_cnt': 7,\n",
      "           'ptrs': [{'pointer_symbol': '@',\n",
      "                     'pos': 'n',\n",
      "                     'source_target': '0000',\n",
      "                     'synset_offset': 15568},\n",
      "                    {'pointer_symbol': '~',\n",
      "                     'pos': 'n',\n",
      "                     'source_target': '0000',\n",
      "                     'synset_offset': 1320304},\n",
      "                    {'pointer_symbol': '~',\n",
      "                     'pos': 'n',\n",
      "                     'source_target': '0000',\n",
      "                     'synset_offset': 1320544},\n",
      "                    {'pointer_symbol': '~',\n",
      "                     'pos': 'n',\n",
      "                     'source_target': '0000',\n",
      "                     'synset_offset': 1320872},\n",
      "                    {'pointer_symbol': '~',\n",
      "                     'pos': 'n',\n",
      "                     'source_target': '0000',\n",
      "                     'synset_offset': 2086723},\n",
      "                    {'pointer_symbol': '~',\n",
      "                     'pos': 'n',\n",
      "                     'source_target': '0000',\n",
      "                     'synset_offset': 2124460},\n",
      "                    {'pointer_symbol': '~',\n",
      "                     'pos': 'n',\n",
      "                     'source_target': '0000',\n",
      "                     'synset_offset': 2125232}],\n",
      "           'ss_type': 'n',\n",
      "           'synset_offset': 1320032,\n",
      "           'w_cnt': 2,\n",
      "           'words': [{'lex_id': 0, 'word': 'domestic_animal'},\n",
      "                     {'lex_id': 0, 'word': 'domesticated_animal'}]},\n",
      " 2085998: {'gloss': ' any of various fissiped mammals with nonretractile claws '\n",
      "                    'and typically long muzzles  \\n',\n",
      "           'lex_filenum': 5,\n",
      "           'p_cnt': 11,\n",
      "           'ptrs': [{'pointer_symbol': '@',\n",
      "                     'pos': 'n',\n",
      "                     'source_target': '0000',\n",
      "                     'synset_offset': 2077948},\n",
      "                    {'pointer_symbol': '#m',\n",
      "                     'pos': 'n',\n",
      "                     'source_target': '0000',\n",
      "                     'synset_offset': 2085690},\n",
      "                    {'pointer_symbol': '+',\n",
      "                     'pos': 'a',\n",
      "                     'source_target': '0101',\n",
      "                     'synset_offset': 2688440},\n",
      "                    {'pointer_symbol': '~',\n",
      "                     'pos': 'n',\n",
      "                     'source_target': '0000',\n",
      "                     'synset_offset': 2086324},\n",
      "                    {'pointer_symbol': '~',\n",
      "                     'pos': 'n',\n",
      "                     'source_target': '0000',\n",
      "                     'synset_offset': 2086723},\n",
      "                    {'pointer_symbol': '~',\n",
      "                     'pos': 'n',\n",
      "                     'source_target': '0000',\n",
      "                     'synset_offset': 2116752},\n",
      "                    {'pointer_symbol': '~',\n",
      "                     'pos': 'n',\n",
      "                     'source_target': '0000',\n",
      "                     'synset_offset': 2117748},\n",
      "                    {'pointer_symbol': '~',\n",
      "                     'pos': 'n',\n",
      "                     'source_target': '0000',\n",
      "                     'synset_offset': 2117987},\n",
      "                    {'pointer_symbol': '~',\n",
      "                     'pos': 'n',\n",
      "                     'source_target': '0000',\n",
      "                     'synset_offset': 2119787},\n",
      "                    {'pointer_symbol': '~',\n",
      "                     'pos': 'n',\n",
      "                     'source_target': '0000',\n",
      "                     'synset_offset': 2120985},\n",
      "                    {'pointer_symbol': '%p',\n",
      "                     'pos': 'n',\n",
      "                     'source_target': '0000',\n",
      "                     'synset_offset': 2442560}],\n",
      "           'ss_type': 'n',\n",
      "           'synset_offset': 2085998,\n",
      "           'w_cnt': 2,\n",
      "           'words': [{'lex_id': 0, 'word': 'canine'},\n",
      "                     {'lex_id': 0, 'word': 'canid'}]},\n",
      " 2086723: {'gloss': ' a member of the genus Canis (probably descended from the '\n",
      "                    'common wolf) that has been domesticated by man since '\n",
      "                    'prehistoric times; occurs in many breeds; \"the dog barked '\n",
      "                    'all night\" \\n',\n",
      "           'lex_filenum': 5,\n",
      "           'p_cnt': 23,\n",
      "           'ptrs': [{'pointer_symbol': '@',\n",
      "                     'pos': 'n',\n",
      "                     'source_target': '0000',\n",
      "                     'synset_offset': 2085998},\n",
      "                    {'pointer_symbol': '@',\n",
      "                     'pos': 'n',\n",
      "                     'source_target': '0000',\n",
      "                     'synset_offset': 1320032},\n",
      "                    {'pointer_symbol': '#m',\n",
      "                     'pos': 'n',\n",
      "                     'source_target': '0000',\n",
      "                     'synset_offset': 2086515},\n",
      "                    {'pointer_symbol': '#m',\n",
      "                     'pos': 'n',\n",
      "                     'source_target': '0000',\n",
      "                     'synset_offset': 8011383},\n",
      "                    {'pointer_symbol': '~',\n",
      "                     'pos': 'n',\n",
      "                     'source_target': '0000',\n",
      "                     'synset_offset': 1325095},\n",
      "                    {'pointer_symbol': '~',\n",
      "                     'pos': 'n',\n",
      "                     'source_target': '0000',\n",
      "                     'synset_offset': 2087384},\n",
      "                    {'pointer_symbol': '~',\n",
      "                     'pos': 'n',\n",
      "                     'source_target': '0000',\n",
      "                     'synset_offset': 2087513},\n",
      "                    {'pointer_symbol': '~',\n",
      "                     'pos': 'n',\n",
      "                     'source_target': '0000',\n",
      "                     'synset_offset': 2087924},\n",
      "                    {'pointer_symbol': '~',\n",
      "                     'pos': 'n',\n",
      "                     'source_target': '0000',\n",
      "                     'synset_offset': 2088026},\n",
      "                    {'pointer_symbol': '~',\n",
      "                     'pos': 'n',\n",
      "                     'source_target': '0000',\n",
      "                     'synset_offset': 2089774},\n",
      "                    {'pointer_symbol': '~',\n",
      "                     'pos': 'n',\n",
      "                     'source_target': '0000',\n",
      "                     'synset_offset': 2106058},\n",
      "                    {'pointer_symbol': '~',\n",
      "                     'pos': 'n',\n",
      "                     'source_target': '0000',\n",
      "                     'synset_offset': 2112993},\n",
      "                    {'pointer_symbol': '~',\n",
      "                     'pos': 'n',\n",
      "                     'source_target': '0000',\n",
      "                     'synset_offset': 2113458},\n",
      "                    {'pointer_symbol': '~',\n",
      "                     'pos': 'n',\n",
      "                     'source_target': '0000',\n",
      "                     'synset_offset': 2113610},\n",
      "                    {'pointer_symbol': '~',\n",
      "                     'pos': 'n',\n",
      "                     'source_target': '0000',\n",
      "                     'synset_offset': 2113781},\n",
      "                    {'pointer_symbol': '~',\n",
      "                     'pos': 'n',\n",
      "                     'source_target': '0000',\n",
      "                     'synset_offset': 2113929},\n",
      "                    {'pointer_symbol': '~',\n",
      "                     'pos': 'n',\n",
      "                     'source_target': '0000',\n",
      "                     'synset_offset': 2114152},\n",
      "                    {'pointer_symbol': '~',\n",
      "                     'pos': 'n',\n",
      "                     'source_target': '0000',\n",
      "                     'synset_offset': 2114278},\n",
      "                    {'pointer_symbol': '~',\n",
      "                     'pos': 'n',\n",
      "                     'source_target': '0000',\n",
      "                     'synset_offset': 2115149},\n",
      "                    {'pointer_symbol': '~',\n",
      "                     'pos': 'n',\n",
      "                     'source_target': '0000',\n",
      "                     'synset_offset': 2115478},\n",
      "                    {'pointer_symbol': '~',\n",
      "                     'pos': 'n',\n",
      "                     'source_target': '0000',\n",
      "                     'synset_offset': 2115987},\n",
      "                    {'pointer_symbol': '~',\n",
      "                     'pos': 'n',\n",
      "                     'source_target': '0000',\n",
      "                     'synset_offset': 2116630},\n",
      "                    {'pointer_symbol': '%p',\n",
      "                     'pos': 'n',\n",
      "                     'source_target': '0000',\n",
      "                     'synset_offset': 2161498}],\n",
      "           'ss_type': 'n',\n",
      "           'synset_offset': 2086723,\n",
      "           'w_cnt': 3,\n",
      "           'words': [{'lex_id': 0, 'word': 'dog'},\n",
      "                     {'lex_id': 0, 'word': 'domestic_dog'},\n",
      "                     {'lex_id': 0, 'word': 'Canis_familiaris'}]},\n",
      " 2106058: {'gloss': ' any of several breeds of usually large powerful dogs '\n",
      "                    'bred to work as draft animals and guard and guide '\n",
      "                    'dogs  \\n',\n",
      "           'lex_filenum': 5,\n",
      "           'p_cnt': 16,\n",
      "           'ptrs': [{'pointer_symbol': '@',\n",
      "                     'pos': 'n',\n",
      "                     'source_target': '0000',\n",
      "                     'synset_offset': 2086723},\n",
      "                    {'pointer_symbol': '~',\n",
      "                     'pos': 'n',\n",
      "                     'source_target': '0000',\n",
      "                     'synset_offset': 2106493},\n",
      "                    {'pointer_symbol': '~',\n",
      "                     'pos': 'n',\n",
      "                     'source_target': '0000',\n",
      "                     'synset_offset': 2107175},\n",
      "                    {'pointer_symbol': '~',\n",
      "                     'pos': 'n',\n",
      "                     'source_target': '0000',\n",
      "                     'synset_offset': 2109506},\n",
      "                    {'pointer_symbol': '~',\n",
      "                     'pos': 'n',\n",
      "                     'source_target': '0000',\n",
      "                     'synset_offset': 2110072},\n",
      "                    {'pointer_symbol': '~',\n",
      "                     'pos': 'n',\n",
      "                     'source_target': '0000',\n",
      "                     'synset_offset': 2110741},\n",
      "                    {'pointer_symbol': '~',\n",
      "                     'pos': 'n',\n",
      "                     'source_target': '0000',\n",
      "                     'synset_offset': 2110906},\n",
      "                    {'pointer_symbol': '~',\n",
      "                     'pos': 'n',\n",
      "                     'source_target': '0000',\n",
      "                     'synset_offset': 2111074},\n",
      "                    {'pointer_symbol': '~',\n",
      "                     'pos': 'n',\n",
      "                     'source_target': '0000',\n",
      "                     'synset_offset': 2111324},\n",
      "                    {'pointer_symbol': '~',\n",
      "                     'pos': 'n',\n",
      "                     'source_target': '0000',\n",
      "                     'synset_offset': 2111699},\n",
      "                    {'pointer_symbol': '~',\n",
      "                     'pos': 'n',\n",
      "                     'source_target': '0000',\n",
      "                     'synset_offset': 2111802},\n",
      "                    {'pointer_symbol': '~',\n",
      "                     'pos': 'n',\n",
      "                     'source_target': '0000',\n",
      "                     'synset_offset': 2112043},\n",
      "                    {'pointer_symbol': '~',\n",
      "                     'pos': 'n',\n",
      "                     'source_target': '0000',\n",
      "                     'synset_offset': 2112177},\n",
      "                    {'pointer_symbol': '~',\n",
      "                     'pos': 'n',\n",
      "                     'source_target': '0000',\n",
      "                     'synset_offset': 2112339},\n",
      "                    {'pointer_symbol': '~',\n",
      "                     'pos': 'n',\n",
      "                     'source_target': '0000',\n",
      "                     'synset_offset': 2112463},\n",
      "                    {'pointer_symbol': '~',\n",
      "                     'pos': 'n',\n",
      "                     'source_target': '0000',\n",
      "                     'synset_offset': 2112613}],\n",
      "           'ss_type': 'n',\n",
      "           'synset_offset': 2106058,\n",
      "           'w_cnt': 1,\n",
      "           'words': [{'lex_id': 0, 'word': 'working_dog'}]},\n",
      " 2107175: {'gloss': ' any of various usually long-haired breeds of dog reared '\n",
      "                    'to herd and guard sheep\\n',\n",
      "           'lex_filenum': 5,\n",
      "           'p_cnt': 12,\n",
      "           'ptrs': [{'pointer_symbol': '@',\n",
      "                     'pos': 'n',\n",
      "                     'source_target': '0000',\n",
      "                     'synset_offset': 2106058},\n",
      "                    {'pointer_symbol': '~',\n",
      "                     'pos': 'n',\n",
      "                     'source_target': '0000',\n",
      "                     'synset_offset': 2107534},\n",
      "                    {'pointer_symbol': '~',\n",
      "                     'pos': 'n',\n",
      "                     'source_target': '0000',\n",
      "                     'synset_offset': 2107903},\n",
      "                    {'pointer_symbol': '~',\n",
      "                     'pos': 'n',\n",
      "                     'source_target': '0000',\n",
      "                     'synset_offset': 2108064},\n",
      "                    {'pointer_symbol': '~',\n",
      "                     'pos': 'n',\n",
      "                     'source_target': '0000',\n",
      "                     'synset_offset': 2108157},\n",
      "                    {'pointer_symbol': '~',\n",
      "                     'pos': 'n',\n",
      "                     'source_target': '0000',\n",
      "                     'synset_offset': 2108293},\n",
      "                    {'pointer_symbol': '~',\n",
      "                     'pos': 'n',\n",
      "                     'source_target': '0000',\n",
      "                     'synset_offset': 2108507},\n",
      "                    {'pointer_symbol': '~',\n",
      "                     'pos': 'n',\n",
      "                     'source_target': '0000',\n",
      "                     'synset_offset': 2108682},\n",
      "                    {'pointer_symbol': '~',\n",
      "                     'pos': 'n',\n",
      "                     'source_target': '0000',\n",
      "                     'synset_offset': 2108818},\n",
      "                    {'pointer_symbol': '~',\n",
      "                     'pos': 'n',\n",
      "                     'source_target': '0000',\n",
      "                     'synset_offset': 2109034},\n",
      "                    {'pointer_symbol': '~',\n",
      "                     'pos': 'n',\n",
      "                     'source_target': '0000',\n",
      "                     'synset_offset': 2109202},\n",
      "                    {'pointer_symbol': '~',\n",
      "                     'pos': 'n',\n",
      "                     'source_target': '0000',\n",
      "                     'synset_offset': 2109314}],\n",
      "           'ss_type': 'n',\n",
      "           'synset_offset': 2107175,\n",
      "           'w_cnt': 3,\n",
      "           'words': [{'lex_id': 0, 'word': 'shepherd_dog'},\n",
      "                     {'lex_id': 0, 'word': 'sheepdog'},\n",
      "                     {'lex_id': 0, 'word': 'sheep_dog'}]},\n",
      " 2111324: {'gloss': ' a sturdy thickset short-haired breed with a large head '\n",
      "                    'and strong undershot lower jaw; developed originally in '\n",
      "                    'England for bull baiting  \\n',\n",
      "           'lex_filenum': 5,\n",
      "           'p_cnt': 3,\n",
      "           'ptrs': [{'pointer_symbol': '@',\n",
      "                     'pos': 'n',\n",
      "                     'source_target': '0000',\n",
      "                     'synset_offset': 2106058},\n",
      "                    {'pointer_symbol': '+',\n",
      "                     'pos': 'v',\n",
      "                     'source_target': '0101',\n",
      "                     'synset_offset': 1121448},\n",
      "                    {'pointer_symbol': '~',\n",
      "                     'pos': 'n',\n",
      "                     'source_target': '0000',\n",
      "                     'synset_offset': 2111567}],\n",
      "           'ss_type': 'n',\n",
      "           'synset_offset': 2111324,\n",
      "           'w_cnt': 2,\n",
      "           'words': [{'lex_id': 0, 'word': 'bulldog'},\n",
      "                     {'lex_id': 0, 'word': 'English_bulldog'}]},\n",
      " 2112993: {'gloss': ' a large breed having a smooth white coat with black or '\n",
      "                    'brown spots; originated in Dalmatia  \\n',\n",
      "           'lex_filenum': 5,\n",
      "           'p_cnt': 2,\n",
      "           'ptrs': [{'pointer_symbol': '@',\n",
      "                     'pos': 'n',\n",
      "                     'source_target': '0000',\n",
      "                     'synset_offset': 2086723},\n",
      "                    {'pointer_symbol': '~',\n",
      "                     'pos': 'n',\n",
      "                     'source_target': '0000',\n",
      "                     'synset_offset': 2113184}],\n",
      "           'ss_type': 'n',\n",
      "           'synset_offset': 2112993,\n",
      "           'w_cnt': 3,\n",
      "           'words': [{'lex_id': 0, 'word': 'dalmatian'},\n",
      "                     {'lex_id': 0, 'word': 'coach_dog'},\n",
      "                     {'lex_id': 0, 'word': 'carriage_dog'}]},\n",
      " 2116752: {'gloss': ' any of various predatory carnivorous canine mammals of '\n",
      "                    'North America and Eurasia that usually hunt in packs  \\n',\n",
      "           'lex_filenum': 5,\n",
      "           'p_cnt': 7,\n",
      "           'ptrs': [{'pointer_symbol': '@',\n",
      "                     'pos': 'n',\n",
      "                     'source_target': '0000',\n",
      "                     'synset_offset': 2085998},\n",
      "                    {'pointer_symbol': '#m',\n",
      "                     'pos': 'n',\n",
      "                     'source_target': '0000',\n",
      "                     'synset_offset': 2086515},\n",
      "                    {'pointer_symbol': '~',\n",
      "                     'pos': 'n',\n",
      "                     'source_target': '0000',\n",
      "                     'synset_offset': 1324999},\n",
      "                    {'pointer_symbol': '~',\n",
      "                     'pos': 'n',\n",
      "                     'source_target': '0000',\n",
      "                     'synset_offset': 2117019},\n",
      "                    {'pointer_symbol': '~',\n",
      "                     'pos': 'n',\n",
      "                     'source_target': '0000',\n",
      "                     'synset_offset': 2117200},\n",
      "                    {'pointer_symbol': '~',\n",
      "                     'pos': 'n',\n",
      "                     'source_target': '0000',\n",
      "                     'synset_offset': 2117364},\n",
      "                    {'pointer_symbol': '~',\n",
      "                     'pos': 'n',\n",
      "                     'source_target': '0000',\n",
      "                     'synset_offset': 2117507}],\n",
      "           'ss_type': 'n',\n",
      "           'synset_offset': 2116752,\n",
      "           'w_cnt': 1,\n",
      "           'words': [{'lex_id': 0, 'word': 'wolf'}]}}\n"
     ]
    }
   ],
   "source": [
    "dogs_db = parse_db('data/dogs.noun')\n",
    "\n",
    "from pprint import pprint\n",
    "pprint(dogs_db)"
   ]
  },
  {
   "cell_type": "markdown",
   "metadata": {},
   "source": [
    "## A2 to_adj\n",
    "\n",
    "Implement a function `to_adj` which takes the parsed db and RETURN a graph-like data structure in  adjacency list format. Each node represent a synset - as label use the first word of the synset. A node is linked to another one if there is a _IS A_ relation among the nodes, so use the `@` symbol to filter the hypernyms.\n",
    "\n",
    "**IMPORTANT**: not all linked synsets are present in the dogs excerpt.\n",
    "\n",
    "**HINT**: If you couldn't implement the `parse_db` function properly, use as data the result of the previous print."
   ]
  },
  {
   "cell_type": "code",
   "execution_count": 4,
   "metadata": {},
   "outputs": [
    {
     "name": "stdout",
     "output_type": "stream",
     "text": [
      "{'bulldog': ['working_dog'],\n",
      " 'canine': [],\n",
      " 'dalmatian': ['dog'],\n",
      " 'dog': ['canine', 'domestic_animal'],\n",
      " 'domestic_animal': [],\n",
      " 'shepherd_dog': ['working_dog'],\n",
      " 'wolf': ['canine'],\n",
      " 'working_dog': ['dog']}\n"
     ]
    }
   ],
   "source": [
    "def to_adj(db):\n",
    "    #jupman-raise\n",
    "    ret = {}\n",
    "\n",
    "    for d in db.values():\n",
    "        targets = []\n",
    "        for ptr in d['ptrs']:\n",
    "            if ptr['pointer_symbol'] == '@':\n",
    "                if ptr['synset_offset'] in db:\n",
    "                    targets.append(db[ptr['synset_offset']]['words'][0]['word'])\n",
    "                #else:\n",
    "                #    targets.append(ptr['synset_offset'])\n",
    "        ret[d['words'][0]['word']] = targets\n",
    "    return ret\n",
    "    #/jupman-raise\n",
    "\n",
    "dogs_graph = to_adj(dogs_db)\n",
    "from pprint import pprint\n",
    "pprint(dogs_graph)"
   ]
  },
  {
   "cell_type": "markdown",
   "metadata": {},
   "source": [
    "\n",
    "### Check results\n",
    "\n",
    "If parsing is right, you should get the following graph\n",
    "\n",
    "<div class=\"alert alert-warning\">\n",
    "\n",
    "**DO NOT** implement any drawing function, this is just for checking your results\n",
    "</div>"
   ]
  },
  {
   "cell_type": "code",
   "execution_count": 5,
   "metadata": {},
   "outputs": [
    {
     "data": {
      "image/png": "[encoded data removed]",
      "text/plain": [
       "<IPython.core.display.Image object>"
      ]
     },
     "metadata": {},
     "output_type": "display_data"
    }
   ],
   "source": [
    "from sciprog import draw_adj\n",
    "draw_adj(dogs_graph, options={'graph':{'rankdir':'BT'}})"
   ]
  },
  {
   "cell_type": "markdown",
   "metadata": {},
   "source": [
    "## A.3 hist\n",
    "\n",
    "You are given a dictionary mapping each relation symbol (i.e. `@`) to its description (i.e. `Hypernym`). \n",
    "\n",
    "Implement a function to draw the histogram of relation frequencies found in the relation links of the entire Wordnet, which can be loaded from the file `data/data.noun`. If you previously implemented `parse_db` in a correct way, you should be able to load the whole db. If for any reasons you can't, try at least to draw the histogram of frequencies found in `dogs_db`\n",
    "\n",
    "- sort the histogram from greatest to lowest frequency\n",
    "- do not count the relations containing the word 'domain' inside (upper/lowercase)\n",
    "- do not count the '\\\\' relation\n",
    "- display the relation names nicely, adding newlines if necessary"
   ]
  },
  {
   "cell_type": "code",
   "execution_count": 6,
   "metadata": {},
   "outputs": [],
   "source": [
    "\n",
    "\n",
    "relation_names = {\n",
    "    '!':'Antonym',\n",
    "    '@':'Hypernym', \n",
    "    '@i':'Instance Hypernym',\n",
    "    '~':'Hyponym',\n",
    "    '~i':'Instance Hyponym',\n",
    "    '#m':'Member holonym',\n",
    "    '#s':'Substance holonym',\n",
    "    '#p':'Part holonym',\n",
    "    '%m':'Member meronym',\n",
    "    '%s':'Substance meronym',\n",
    "    '%p':'Part meronym',\n",
    "    '=':'Attribute',\n",
    "    '+':'Derivationally related form',\n",
    "    ';c':'Domain of synset - TOPIC',           # DISCARD\n",
    "    '-c':'Member of this domain - TOPIC',      # DISCARD\n",
    "    ';r':'Domain of synset - REGION',          # DISCARD\n",
    "    '-r':'Member of this domain - REGION',     # DISCARD\n",
    "    ';u':'Domain of synset - USAGE',           # DISCARD\n",
    "    '-u':'Member of this domain - USAGE',      # DISCARD\n",
    "    '\\\\': 'Pertainym (pertains to noun)'       # DISCARD\n",
    "}\n",
    "\n",
    "def draw_hist(db):\n",
    "    #jupman-raise\n",
    "    hist = {}\n",
    "    for d in db.values():\n",
    "        for ptr in d['ptrs']:\n",
    "            ps = ptr['pointer_symbol']\n",
    "            if 'domain' not in relation_names[ps].lower() and ps != '\\\\':\n",
    "                if ps in hist:\n",
    "                    hist[ps] += 1\n",
    "                else:\n",
    "                    hist[ps] = 0\n",
    "\n",
    "    pprint(hist)      \n",
    "\n",
    "    import numpy as np\n",
    "    import matplotlib.pyplot as plt\n",
    "\n",
    "    xs = list(range(len(hist.keys())))\n",
    "    coords = [(x,hist[x]) for x in hist.keys()]\n",
    "    coords.sort(key=lambda c: c[1], reverse=True)\n",
    "    ys = [c[1] for c in coords]\n",
    "\n",
    "    fig = plt.figure(figsize=(18,6))\n",
    "\n",
    "    plt.bar(xs, ys,\n",
    "            0.5,             # the width of the bars\n",
    "            color='green',   # someone suggested the default blue color is depressing, so let's put green\n",
    "            align='center')  # bars are centered on the xtick\n",
    "\n",
    "    plt.title('Wordnet Relation frequency SOLUTION')\n",
    "    xticks = [relation_names[c[0]].replace(' ', '\\n') for c in coords]\n",
    "    plt.xticks(xs,xticks)\n",
    "\n",
    "    plt.show()\n",
    "    #/jupman-raise"
   ]
  },
  {
   "cell_type": "code",
   "execution_count": null,
   "metadata": {},
   "outputs": [],
   "source": []
  },
  {
   "cell_type": "code",
   "execution_count": 7,
   "metadata": {},
   "outputs": [
    {
     "name": "stdout",
     "output_type": "stream",
     "text": [
      "{'!': 2153,\n",
      " '#m': 12287,\n",
      " '#p': 9110,\n",
      " '#s': 796,\n",
      " '%m': 12287,\n",
      " '%p': 9110,\n",
      " '%s': 796,\n",
      " '+': 37235,\n",
      " '=': 638,\n",
      " '@': 75915,\n",
      " '@i': 8588,\n",
      " '~': 75915,\n",
      " '~i': 8588}\n"
     ]
    },
    {
     "data": {
      "image/png": "[encoded data removed]",
      "text/plain": [
       "<Figure size 1296x432 with 1 Axes>"
      ]
     },
     "metadata": {
      "needs_background": "light"
     },
     "output_type": "display_data"
    }
   ],
   "source": [
    "wordnet = parse_db('data/data.noun')  \n",
    "draw_hist(wordnet)"
   ]
  },
  {
   "cell_type": "markdown",
   "metadata": {},
   "source": [
    "## Part B"
   ]
  },
  {
   "cell_type": "markdown",
   "metadata": {},
   "source": [
    "## B1 Theory\n",
    "\n",
    "**Write the solution in separate `theory.txt` file**\n",
    "\n",
    "### B1.1 complexity\n",
    "\n",
    "Given a list 𝐿 of 𝑛 elements, please compute the asymptotic computational complexity of the following function, explaining your reasoning. Any ideas on how to improve the complexity of this code?\n",
    "\n",
    "```python\n",
    "def my_fun(L):\n",
    "    n = len(L)\n",
    "    out = []\n",
    "    for i in range(n-2):\n",
    "        out.insert(0,L[i] + L[i+1] + L[i+2])    \n",
    "    return out\n",
    "```\n",
    "\n",
    "### B1.2 graph visits\n",
    "\n",
    "Briefly describe the two classic ways of visiting the nodes of a graph."
   ]
  },
  {
   "cell_type": "markdown",
   "metadata": {},
   "source": [
    "## B2 ItalianQueue v2\n",
    "\n",
    "**Open a text editor** and have a look at file `italian_queue_v2_exercise.py`\n",
    "\n",
    "In the original v1 implementation of the ItalianQueue [we've already seen in class](https://datasciprolab.readthedocs.io/en/latest/exercises/queues/queues.html#3.-ItalianQueue), `enqueue` can take $O(n)$: you will improve it by adding further indexing so it  runs in $O(1)$\n",
    "\n",
    "An `ItalianQueue` is modelled as a LinkedList with two pointers, a `_head` and a `_tail`:\n",
    "\n",
    "* an element is enqueued scanning from `_head` until a matching group is found, in which case the element is inserted after (that is, at the right) of the matching group, otherwise the element is appended at the very end marked by `_tail` \n",
    "* an element is dequeued from the `_head`\n",
    "\n",
    "\n",
    "For this improved v2 version, you will use an additional dictionary `_tails` which associates to each group present in the queue the node at the tail of that group sequence. This way, instead of scanning you will be able to directly jump to insertion point."
   ]
  },
  {
   "cell_type": "markdown",
   "metadata": {},
   "source": [
    "```python\n",
    "class ItalianQueue:\n",
    "    \n",
    "    def __init__(self):\n",
    "        \"\"\" Initializes the queue. \n",
    "                \n",
    "            - Complexity: O(1)\n",
    "        \"\"\"\n",
    "        self._head = None\n",
    "        self._tail = None\n",
    "        self._tails = {}   #  <---- NEW  !\n",
    "        self._size = 0\n",
    "```\n",
    "\n",
    "**Example**:"
   ]
  },
  {
   "cell_type": "markdown",
   "metadata": {},
   "source": [
    "If we have the following situation:\n",
    "\n",
    "```\n",
    "   data  :  a -> b -> c -> d -> e -> f -> g -> h \n",
    "   group :  x    x    y    y    y    z    z    z\n",
    "            ^    ^              ^              ^\n",
    "            |    |              |              | \n",
    "            | _tails[x]      _tails[y]      _tails[z]\n",
    "            |                                  |\n",
    "          _head                             _tail\n",
    "```\n",
    "\n",
    "By calling \n",
    "\n",
    "```python\n",
    "q.enqueue('i','y')\n",
    "```\n",
    "\n",
    "We get:\n",
    "\n",
    "\n",
    "```\n",
    "   data  :  a -> b -> c -> d -> e -> i -> f -> g -> h \n",
    "   group :  x    x    y    y    y    y    z    z    z\n",
    "            ^    ^                   ^              ^\n",
    "            |    |                   |              | \n",
    "            | _tails[x]           _tails[y]      _tails[z]\n",
    "            |                                       |\n",
    "          _head                                  _tail\n",
    "\n",
    "```\n",
    "\n",
    "We can see here the complete run:"
   ]
  },
  {
   "cell_type": "code",
   "execution_count": 8,
   "metadata": {},
   "outputs": [
    {
     "name": "stdout",
     "output_type": "stream",
     "text": [
      "ItalianQueue: \n",
      "              \n",
      "       _head: None\n",
      "       _tail: None\n",
      "      _tails: {}\n"
     ]
    }
   ],
   "source": [
    "from italian_queue_v2_solution import *\n",
    "\n",
    "q = ItalianQueue()\n",
    "print(q)"
   ]
  },
  {
   "cell_type": "code",
   "execution_count": 9,
   "metadata": {},
   "outputs": [],
   "source": [
    "q.enqueue('a','x')   # 'a' is the element,'x' is the group"
   ]
  },
  {
   "cell_type": "code",
   "execution_count": 10,
   "metadata": {},
   "outputs": [
    {
     "name": "stdout",
     "output_type": "stream",
     "text": [
      "ItalianQueue: a\n",
      "              x\n",
      "       _head: Node(a,x)\n",
      "       _tail: Node(a,x)\n",
      "      _tails: {'x': Node(a,x),}\n"
     ]
    }
   ],
   "source": [
    "print(q)"
   ]
  },
  {
   "cell_type": "code",
   "execution_count": 11,
   "metadata": {},
   "outputs": [],
   "source": [
    "q.enqueue('c','y')    # 'c' belongs to new group 'y', goes to the end of the queue"
   ]
  },
  {
   "cell_type": "code",
   "execution_count": 12,
   "metadata": {},
   "outputs": [
    {
     "name": "stdout",
     "output_type": "stream",
     "text": [
      "ItalianQueue: a->c\n",
      "              x  y\n",
      "       _head: Node(a,x)\n",
      "       _tail: Node(c,y)\n",
      "      _tails: {'x': Node(a,x),\n",
      "               'y': Node(c,y),}\n"
     ]
    }
   ],
   "source": [
    "print(q)"
   ]
  },
  {
   "cell_type": "code",
   "execution_count": 13,
   "metadata": {},
   "outputs": [],
   "source": [
    "q.enqueue('d','y')    # 'd' belongs to existing group 'y', goes to the end of the group"
   ]
  },
  {
   "cell_type": "code",
   "execution_count": 14,
   "metadata": {},
   "outputs": [
    {
     "name": "stdout",
     "output_type": "stream",
     "text": [
      "ItalianQueue: a->c->d\n",
      "              x  y  y\n",
      "       _head: Node(a,x)\n",
      "       _tail: Node(d,y)\n",
      "      _tails: {'x': Node(a,x),\n",
      "               'y': Node(d,y),}\n"
     ]
    }
   ],
   "source": [
    "print(q)"
   ]
  },
  {
   "cell_type": "code",
   "execution_count": 15,
   "metadata": {},
   "outputs": [],
   "source": [
    "q.enqueue('b','x')    # 'b' belongs to existing group 'x', goes to the end of the group"
   ]
  },
  {
   "cell_type": "code",
   "execution_count": 16,
   "metadata": {},
   "outputs": [
    {
     "name": "stdout",
     "output_type": "stream",
     "text": [
      "ItalianQueue: a->b->c->d\n",
      "              x  x  y  y\n",
      "       _head: Node(a,x)\n",
      "       _tail: Node(d,y)\n",
      "      _tails: {'x': Node(b,x),\n",
      "               'y': Node(d,y),}\n"
     ]
    }
   ],
   "source": [
    "print(q)"
   ]
  },
  {
   "cell_type": "code",
   "execution_count": 17,
   "metadata": {},
   "outputs": [],
   "source": [
    "q.enqueue('f','z')    # 'f' belongs to new group, goes at the end of the queue"
   ]
  },
  {
   "cell_type": "code",
   "execution_count": 18,
   "metadata": {},
   "outputs": [
    {
     "name": "stdout",
     "output_type": "stream",
     "text": [
      "ItalianQueue: a->b->c->d->f\n",
      "              x  x  y  y  z\n",
      "       _head: Node(a,x)\n",
      "       _tail: Node(f,z)\n",
      "      _tails: {'x': Node(b,x),\n",
      "               'y': Node(d,y),\n",
      "               'z': Node(f,z),}\n"
     ]
    }
   ],
   "source": [
    "print(q)"
   ]
  },
  {
   "cell_type": "code",
   "execution_count": 19,
   "metadata": {},
   "outputs": [],
   "source": [
    "q.enqueue('e','y')   # 'e' belongs to an existing group 'y', goes at the end of the group"
   ]
  },
  {
   "cell_type": "code",
   "execution_count": 20,
   "metadata": {},
   "outputs": [
    {
     "name": "stdout",
     "output_type": "stream",
     "text": [
      "ItalianQueue: a->b->c->d->e->f\n",
      "              x  x  y  y  y  z\n",
      "       _head: Node(a,x)\n",
      "       _tail: Node(f,z)\n",
      "      _tails: {'x': Node(b,x),\n",
      "               'y': Node(e,y),\n",
      "               'z': Node(f,z),}\n"
     ]
    }
   ],
   "source": [
    "print(q)"
   ]
  },
  {
   "cell_type": "code",
   "execution_count": 21,
   "metadata": {},
   "outputs": [],
   "source": [
    "q.enqueue('g','z')   # 'g' belongs to an existing group 'z', goes at the end of the group"
   ]
  },
  {
   "cell_type": "code",
   "execution_count": 22,
   "metadata": {},
   "outputs": [
    {
     "name": "stdout",
     "output_type": "stream",
     "text": [
      "ItalianQueue: a->b->c->d->e->f->g\n",
      "              x  x  y  y  y  z  z\n",
      "       _head: Node(a,x)\n",
      "       _tail: Node(g,z)\n",
      "      _tails: {'x': Node(b,x),\n",
      "               'y': Node(e,y),\n",
      "               'z': Node(g,z),}\n"
     ]
    }
   ],
   "source": [
    "print(q)"
   ]
  },
  {
   "cell_type": "code",
   "execution_count": 23,
   "metadata": {},
   "outputs": [],
   "source": [
    "q.enqueue('h','z')  # 'h' belongs to an existing group 'z', goes at the end of the group"
   ]
  },
  {
   "cell_type": "code",
   "execution_count": 24,
   "metadata": {},
   "outputs": [
    {
     "name": "stdout",
     "output_type": "stream",
     "text": [
      "ItalianQueue: a->b->c->d->e->f->g->h\n",
      "              x  x  y  y  y  z  z  z\n",
      "       _head: Node(a,x)\n",
      "       _tail: Node(h,z)\n",
      "      _tails: {'x': Node(b,x),\n",
      "               'y': Node(e,y),\n",
      "               'z': Node(h,z),}\n"
     ]
    }
   ],
   "source": [
    "print(q)"
   ]
  },
  {
   "cell_type": "code",
   "execution_count": 25,
   "metadata": {},
   "outputs": [],
   "source": [
    "q.enqueue('h','z')  # 'h' belongs to an existing group 'z', goes at the end of the group"
   ]
  },
  {
   "cell_type": "code",
   "execution_count": 26,
   "metadata": {},
   "outputs": [
    {
     "name": "stdout",
     "output_type": "stream",
     "text": [
      "ItalianQueue: a->b->c->d->e->f->g->h->h\n",
      "              x  x  y  y  y  z  z  z  z\n",
      "       _head: Node(a,x)\n",
      "       _tail: Node(h,z)\n",
      "      _tails: {'x': Node(b,x),\n",
      "               'y': Node(e,y),\n",
      "               'z': Node(h,z),}\n"
     ]
    }
   ],
   "source": [
    "print(q)"
   ]
  },
  {
   "cell_type": "code",
   "execution_count": 27,
   "metadata": {},
   "outputs": [],
   "source": [
    "q.enqueue('i','y')  # 'i' belongs to an existing group 'y', goes at the end of the group"
   ]
  },
  {
   "cell_type": "code",
   "execution_count": 28,
   "metadata": {},
   "outputs": [
    {
     "name": "stdout",
     "output_type": "stream",
     "text": [
      "ItalianQueue: a->b->c->d->e->i->f->g->h->h\n",
      "              x  x  y  y  y  y  z  z  z  z\n",
      "       _head: Node(a,x)\n",
      "       _tail: Node(h,z)\n",
      "      _tails: {'x': Node(b,x),\n",
      "               'y': Node(i,y),\n",
      "               'z': Node(h,z),}\n"
     ]
    }
   ],
   "source": [
    "print(q)"
   ]
  },
  {
   "cell_type": "markdown",
   "metadata": {},
   "source": [
    "Dequeue is always from the head, without taking in consideration the group:"
   ]
  },
  {
   "cell_type": "code",
   "execution_count": 29,
   "metadata": {},
   "outputs": [
    {
     "data": {
      "text/plain": [
       "'a'"
      ]
     },
     "execution_count": 29,
     "metadata": {},
     "output_type": "execute_result"
    }
   ],
   "source": [
    "q.dequeue()"
   ]
  },
  {
   "cell_type": "code",
   "execution_count": 30,
   "metadata": {},
   "outputs": [
    {
     "name": "stdout",
     "output_type": "stream",
     "text": [
      "ItalianQueue: b->c->d->e->i->f->g->h->h\n",
      "              x  y  y  y  y  z  z  z  z\n",
      "       _head: Node(b,x)\n",
      "       _tail: Node(h,z)\n",
      "      _tails: {'x': Node(b,x),\n",
      "               'y': Node(i,y),\n",
      "               'z': Node(h,z),}\n"
     ]
    }
   ],
   "source": [
    "print(q)"
   ]
  },
  {
   "cell_type": "code",
   "execution_count": 31,
   "metadata": {},
   "outputs": [
    {
     "data": {
      "text/plain": [
       "'b'"
      ]
     },
     "execution_count": 31,
     "metadata": {},
     "output_type": "execute_result"
    }
   ],
   "source": [
    "q.dequeue()   # removed last member of group 'x', key 'x' disappears from _tails['x']"
   ]
  },
  {
   "cell_type": "code",
   "execution_count": 32,
   "metadata": {},
   "outputs": [
    {
     "name": "stdout",
     "output_type": "stream",
     "text": [
      "ItalianQueue: c->d->e->i->f->g->h->h\n",
      "              y  y  y  y  z  z  z  z\n",
      "       _head: Node(c,y)\n",
      "       _tail: Node(h,z)\n",
      "      _tails: {'y': Node(i,y),\n",
      "               'z': Node(h,z),}\n"
     ]
    }
   ],
   "source": [
    "print(q)"
   ]
  },
  {
   "cell_type": "code",
   "execution_count": 33,
   "metadata": {
    "scrolled": true
   },
   "outputs": [
    {
     "data": {
      "text/plain": [
       "'c'"
      ]
     },
     "execution_count": 33,
     "metadata": {},
     "output_type": "execute_result"
    }
   ],
   "source": [
    "q.dequeue()"
   ]
  },
  {
   "cell_type": "code",
   "execution_count": 34,
   "metadata": {},
   "outputs": [
    {
     "name": "stdout",
     "output_type": "stream",
     "text": [
      "ItalianQueue: d->e->i->f->g->h->h\n",
      "              y  y  y  z  z  z  z\n",
      "       _head: Node(d,y)\n",
      "       _tail: Node(h,z)\n",
      "      _tails: {'y': Node(i,y),\n",
      "               'z': Node(h,z),}\n"
     ]
    }
   ],
   "source": [
    "print(q)"
   ]
  },
  {
   "cell_type": "markdown",
   "metadata": {},
   "source": [
    "## B2.1 enqueue\n",
    "\n",
    "Implement `enqueue`:"
   ]
  },
  {
   "cell_type": "markdown",
   "metadata": {},
   "source": [
    "\n",
    "\n",
    "```python\n",
    "    def enqueue(self, v, g):\n",
    "        \"\"\" Enqueues provided element v having group g, with the following \n",
    "            criteria:\n",
    "        \n",
    "            Queue is scanned from head to find if there is another element \n",
    "            with a matching group:\n",
    "                - if there is, v is inserted after the last element in the \n",
    "                  same group sequence (so to the right of the group)\n",
    "                - otherwise v is inserted at the end of the queue\n",
    "\n",
    "            - MUST run in O(1)\n",
    "        \"\"\"\n",
    "```  \n",
    "\n",
    "**Testing**: `python3 -m unittest italian_queue_test.EnqueueTest`"
   ]
  },
  {
   "cell_type": "markdown",
   "metadata": {},
   "source": [
    "## B2.2 dequeue\n",
    "\n",
    "Implement `dequeue`:\n",
    "\n",
    "```python\n",
    "def dequeue(self):\n",
    "        \"\"\" Removes head element and returns it.\n",
    "            \n",
    "            - If the queue is empty, raises a LookupError.\n",
    "            - MUST perform in O(1)\n",
    "            - REMEMBER to clean unused _tails keys\n",
    "        \"\"\"\n",
    "```\n",
    "\n",
    "<div class=\"alert alert-warning\">\n",
    "\n",
    "**IMPORTANT: you can test `dequeue` even if you didn't implement `enqueue` correctly**\n",
    "</div>\n",
    "\n",
    "\n",
    "**Testing**: `python3 -m unittest italian_queue_test.DequeueTest`"
   ]
  },
  {
   "cell_type": "code",
   "execution_count": 35,
   "metadata": {
    "nbsphinx": "hidden"
   },
   "outputs": [
    {
     "name": "stderr",
     "output_type": "stream",
     "text": [
      ".........\n",
      "----------------------------------------------------------------------\n",
      "Ran 9 tests in 0.010s\n",
      "\n",
      "OK\n"
     ]
    }
   ],
   "source": [
    "import italian_queue_v2_test\n",
    "jupman.run(italian_queue_v2_test)"
   ]
  },
  {
   "cell_type": "code",
   "execution_count": null,
   "metadata": {},
   "outputs": [],
   "source": []
  }
 ],
 "metadata": {
  "celltoolbar": "Edit Metadata",
  "kernelspec": {
   "display_name": "Python 3",
   "language": "python",
   "name": "python3"
  },
  "language_info": {
   "codemirror_mode": {
    "name": "ipython",
    "version": 3
   },
   "file_extension": ".py",
   "mimetype": "text/x-python",
   "name": "python",
   "nbconvert_exporter": "python",
   "pygments_lexer": "ipython3",
   "version": "3.5.2"
  },
  "toc": {
   "base_numbering": 1,
   "nav_menu": {},
   "number_sections": false,
   "sideBar": true,
   "skip_h1_title": false,
   "title_cell": "Table of Contents",
   "title_sidebar": "Contents",
   "toc_cell": false,
   "toc_position": {},
   "toc_section_display": true,
   "toc_window_display": true
  }
 },
 "nbformat": 4,
 "nbformat_minor": 1
}
