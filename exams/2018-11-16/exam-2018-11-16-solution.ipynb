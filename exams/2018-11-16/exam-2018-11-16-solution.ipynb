{
 "cells": [
  {
   "cell_type": "code",
   "execution_count": 1,
   "metadata": {
    "nbsphinx": "hidden"
   },
   "outputs": [],
   "source": [
    "#Please execute this cell\n",
    "import sys;\n",
    "sys.path.append('../../'); \n",
    "import jupman;\n",
    "from sciprog import draw_mat\n",
    "from sciprog import draw_adj"
   ]
  },
  {
   "cell_type": "markdown",
   "metadata": {},
   "source": [
    "# Midterm - Fri 16 November 2018 - solutions\n",
    "\n",
    "**Scientific Programming - Data Science Master @ University of Trento**\n",
    "\n",
    "## [Download exercises and solution](../../_static/datasciprolab-2018-11-16-exam.zip)"
   ]
  },
  {
   "cell_type": "markdown",
   "metadata": {
    "collapsed": true
   },
   "source": [
    "## Introduction\n"
   ]
  },
  {
   "cell_type": "markdown",
   "metadata": {},
   "source": [
    "\n",
    "### Grading\n",
    "\n",
    "* **Correct implementations**: Correct implementations with the required complexity grant you full grade.\n",
    "* **Partial implementations**: Partial implementations _might_ still give you a few points. If you just can't solve an exercise,  try to solve it at least for some subcase (i.e. array of fixed size 2) commenting why you did so. \n",
    "* **Bonus point**: One bonus point can be earned by writing stylish code. You got style if you:\n",
    "\n",
    "    - do not infringe the [Commandments](https://datasciprolab.readthedocs.io/en/latest/commandments.html)\n",
    "    - write [pythonic code](http://docs.python-guide.org/en/latest/writing/style)\n",
    "    - avoid convoluted code like i.e.\n",
    "\n",
    "        ```\n",
    "        if x > 5:\n",
    "            return True\n",
    "        else:\n",
    "            return False\n",
    "        ```\n",
    "\n",
    "        when you could write just\n",
    "\n",
    "        ```\n",
    "        return x > 5\n",
    "        ```       \n",
    "\n",
    "### Valid code"
   ]
  },
  {
   "cell_type": "markdown",
   "metadata": {
    "scrolled": true
   },
   "source": [
    "<div class=\"alert alert-warning\">\n",
    "\n",
    "**WARNING**: MAKE SURE ALL EXERCISE FILES AT LEAST COMPILE !!! \n",
    "10 MINS BEFORE THE END OF THE EXAM I WILL ASK YOU TO DO A FINAL CLEAN UP OF THE CODE \n",
    "</div>\n",
    "\n",
    "\n",
    "\n",
    "<div class=\"alert alert-warning\">\n",
    "\n",
    "**WARNING**: _ONLY_ IMPLEMENTATIONS OF THE PROVIDED FUNCTION SIGNATURES WILL BE EVALUATED !!!!!!!!! <br/>    \n",
    "\n",
    "</div>"
   ]
  },
  {
   "cell_type": "markdown",
   "metadata": {},
   "source": [
    "\n",
    "For example, if you are given to implement: \n",
    "\n",
    "```python\n",
    "    def f(x):\n",
    "        raise Exception(\"TODO implement me\")\n",
    "```\n",
    "\n",
    "and you ship this code:\n",
    "\n",
    "``` python\n",
    "def my_f(x):\n",
    "    # a super fast, correct and stylish implementation\n",
    "\n",
    "def f(x):\n",
    "    raise Exception(\"TODO implement me\")\n",
    "```\n",
    "\n",
    "We will assess only the latter one `f(x)`, and conclude it doesn't work at all :P   !!!!!!!\n",
    "\n",
    "**Helper functions**\n",
    "\n",
    "Still, you are allowed to define any extra helper function you might need. If your `f(x)` implementation calls some other function you defined like `my_f` here, it is ok:\n",
    "\n",
    "```python\n",
    "# Not called by f, will get ignored:\n",
    "def my_g(x):\n",
    "    # bla\n",
    "\n",
    "# Called by f, will be graded:\n",
    "def my_f(y,z):\n",
    "    # bla\n",
    "\n",
    "def f(x):\n",
    "    my_f(x,5)\n",
    "    \n",
    "\n",
    "```\n",
    "\n",
    "\n",
    "\n",
    "### How to edit and run\n",
    "\n",
    "To edit the files, you can use Jupyter (start it from Terminal with `jupyter notebook`),  if it doesn't work use an editor of your choice,  you can find them under _Applications->Programming_:\n",
    "\n",
    "* **Visual Studio Code**\n",
    "* Editra is easy to use, you can find it under _Applications->Programming->Editra_.\n",
    "* Others could be _GEdit_ (simpler), or _PyCharm_ (more complex).\n"
   ]
  },
  {
   "cell_type": "markdown",
   "metadata": {},
   "source": [
    "\n",
    "<div class=\"alert alert-info\">\n",
    "\n",
    "**IMPORTANT**: Pay close attention to the comments of the functions.\n",
    "</div>\n",
    "\n",
    "<div class=\"alert alert-warning\">\n",
    "\n",
    "**WARNING**: _DON'T_ modify function signatures! Just provide the implementation.\n",
    "</div>\n",
    "\n",
    "<div class=\"alert alert-warning\">\n",
    "\n",
    "**WARNING**: <i>DON'T</i> change the existing test methods, just add new ones !!!  You can add as many as you want.\n",
    "</div>\n",
    "\n",
    "<div class=\"alert alert-warning\">\n",
    "\n",
    "**WARNING**: _DON'T_ create other files. If you still do it, they won't be evaluated.\n",
    "</div>\n",
    "\n",
    "\n"
   ]
  },
  {
   "cell_type": "markdown",
   "metadata": {},
   "source": [
    "### Debugging \n",
    "\n",
    "If you need to print some debugging information, you are allowed to put extra <code>print</code>\n",
    "    statements in the function bodies."
   ]
  },
  {
   "cell_type": "markdown",
   "metadata": {},
   "source": [
    "\n",
    "<div class=\"alert alert-warning\">\n",
    "\n",
    "**WARNING:** even if print statements are allowed, be careful with prints that might\n",
    "     break your function! \n",
    "</div>\n"
   ]
  },
  {
   "cell_type": "markdown",
   "metadata": {},
   "source": [
    "For example, avoid stuff like this: \n",
    "\n",
    "```python\n",
    "x = 0\n",
    "print(1/x)\n",
    "```\n"
   ]
  },
  {
   "cell_type": "markdown",
   "metadata": {},
   "source": [
    "### What to do\n",
    "\n",
    "1) Download  `datasciprolab-2018-11-16-exam.zip` and extract it <b>on your desktop</b>. Folder content should be like this:\n",
    "\n",
    "```\n",
    "datasciprolab-2018-11-16-FIRSTNAME-LASTNAME-ID\n",
    "    |-jupman.py\n",
    "    |-sciprog.py\n",
    "    |-other stuff ...\n",
    "    |-exams\n",
    "        |-2018-11-16\n",
    "            |- exam-2018-11-16-exercise.ipynb            \n",
    "            \n",
    "```\n",
    "\n",
    "2) Rename `datasciprolab-2018-11-16-FIRSTNAME-LASTNAME-ID` folder: put your name, lastname an id number, like `datasciprolab-2018-11-16-john-doe-432432`\n",
    "\n",
    "From now on, you will be editing the files in that folder. At the end of the exam, that is what will be evaluated.\n",
    "\n",
    "3) Edit the files following the instructions in this worksheet for each exercise.\n",
    " \n",
    "4) When done:\n",
    "\n",
    "if you have unitn login:  zip and send to [examina.icts.unitn.it](http://examina.icts.unitn.it)\n",
    "   \n",
    "If you don't have unitn login: tell instructors and we will download your work manually\n"
   ]
  },
  {
   "cell_type": "markdown",
   "metadata": {},
   "source": [
    "## Implementation"
   ]
  },
  {
   "cell_type": "markdown",
   "metadata": {},
   "source": [
    "### 1. union\n",
    "\n",
    "✪✪ When we talk about the _union_ of two graphs, we intend the graph having union of verteces of both graphs and having as edges the union of edges of both graphs. In this exercise, we have two graphs as list of lists with boolean edges. To simplify we suppose they have the same vertices but possibly different edges, and we want to calculate the union as a new graph.\n",
    "\n",
    "For example, if we have a graph `ma` like this: "
   ]
  },
  {
   "cell_type": "code",
   "execution_count": 2,
   "metadata": {},
   "outputs": [],
   "source": [
    "\n",
    "ma =  [\n",
    "            [True, False, False],\n",
    "            [False, True, False],\n",
    "            [True, False, False] \n",
    "      ]\n"
   ]
  },
  {
   "cell_type": "code",
   "execution_count": 3,
   "metadata": {},
   "outputs": [
    {
     "data": {
      "image/png": "[encoded data removed]",
      "text/plain": [
       "<IPython.core.display.Image object>"
      ]
     },
     "metadata": {},
     "output_type": "display_data"
    }
   ],
   "source": [
    "draw_mat(ma)"
   ]
  },
  {
   "cell_type": "markdown",
   "metadata": {},
   "source": [
    "And another `mb` like this:"
   ]
  },
  {
   "cell_type": "code",
   "execution_count": 4,
   "metadata": {},
   "outputs": [],
   "source": [
    "mb =  [\n",
    "            [True, True, False],\n",
    "            [False, False, True],\n",
    "            [False, True, False]    \n",
    "    \n",
    "      ]"
   ]
  },
  {
   "cell_type": "code",
   "execution_count": 5,
   "metadata": {},
   "outputs": [
    {
     "data": {
      "image/png": "[encoded data removed]",
      "text/plain": [
       "<IPython.core.display.Image object>"
      ]
     },
     "metadata": {},
     "output_type": "display_data"
    }
   ],
   "source": [
    "draw_mat(mb)"
   ]
  },
  {
   "cell_type": "markdown",
   "metadata": {},
   "source": [
    "The result of calling `union(ma, mb)` will be the following: "
   ]
  },
  {
   "cell_type": "code",
   "execution_count": 6,
   "metadata": {},
   "outputs": [
    {
     "ename": "NameError",
     "evalue": "name 'union' is not defined",
     "output_type": "error",
     "traceback": [
      "\u001b[0;31m---------------------------------------------------------------------------\u001b[0m",
      "\u001b[0;31mNameError\u001b[0m                                 Traceback (most recent call last)",
      "\u001b[0;32m<ipython-input-6-4ae0837a587d>\u001b[0m in \u001b[0;36m<module>\u001b[0;34m()\u001b[0m\n\u001b[0;32m----> 1\u001b[0;31m \u001b[0mu\u001b[0m \u001b[0;34m=\u001b[0m \u001b[0munion\u001b[0m\u001b[0;34m(\u001b[0m\u001b[0mma\u001b[0m\u001b[0;34m,\u001b[0m \u001b[0mmb\u001b[0m\u001b[0;34m)\u001b[0m\u001b[0;34m\u001b[0m\u001b[0m\n\u001b[0m\u001b[1;32m      2\u001b[0m \u001b[0;34m\u001b[0m\u001b[0m\n\u001b[1;32m      3\u001b[0m \u001b[0mprint\u001b[0m\u001b[0;34m(\u001b[0m\u001b[0mu\u001b[0m\u001b[0;34m)\u001b[0m\u001b[0;34m\u001b[0m\u001b[0m\n",
      "\u001b[0;31mNameError\u001b[0m: name 'union' is not defined"
     ]
    }
   ],
   "source": [
    "u = union(ma, mb)\n",
    "\n",
    "print(u)"
   ]
  },
  {
   "cell_type": "code",
   "execution_count": null,
   "metadata": {},
   "outputs": [],
   "source": [
    "draw_mat(u)"
   ]
  },
  {
   "cell_type": "markdown",
   "metadata": {},
   "source": [
    "So we get same verteces and edges from both `ma` and `mb`"
   ]
  },
  {
   "cell_type": "code",
   "execution_count": null,
   "metadata": {},
   "outputs": [],
   "source": [
    "def union(mata, matb):\n",
    "    \"\"\" Takes two graphs represented as nxn matrices of lists of lists with boolean edges, \n",
    "        and RETURN a NEW matrix which is the union of both graphs\n",
    "       \n",
    "        if mata row number is different from matb, raises ValueError\n",
    "    \"\"\"\n",
    "    #jupman-raise\n",
    "    \n",
    "    if len(mata) != len(matb):\n",
    "        raise ValueError(\"mata and matb have different row number a:%s b:%s!\" % (len(mata), len(matb)))\n",
    "                        \n",
    "                         \n",
    "    n = len(mata)\n",
    "    \n",
    "    ret = []\n",
    "    for i in range(n):\n",
    "        row = []\n",
    "        ret.append(row)\n",
    "        for j in range(n):\n",
    "            row.append(mata[i][j] or matb[i][j])\n",
    "    return ret\n",
    "    #/jupman-raise\n",
    "\n",
    "try:\n",
    "    union([[False],[False]], [[False]])\n",
    "    raise Exception(\"Shouldn't arrive here !\")\n",
    "except ValueError:\n",
    "    \"test passed\"\n",
    "\n",
    "try:\n",
    "    union([[False]], [[False],[False]])\n",
    "    raise Exception(\"Shouldn't arrive here !\")\n",
    "except ValueError:\n",
    "    \"test passed\"\n",
    "    \n",
    "    \n",
    "    \n",
    "ma1 =  [\n",
    "            [False]\n",
    "        ]\n",
    "mb1 =  [\n",
    "            [False]\n",
    "      ]\n",
    "\n",
    "assert union(ma1, mb1) == [\n",
    "                          [False]\n",
    "                        ]\n",
    "\n",
    "ma2 =  [\n",
    "            [False]\n",
    "      ]\n",
    "mb2 =  [\n",
    "            [True]\n",
    "      ]\n",
    "\n",
    "assert union(ma2, mb2) == [\n",
    "                          [True]\n",
    "                        ]\n",
    "\n",
    "ma3 =  [\n",
    "            [True]\n",
    "      ]\n",
    "mb3 =  [\n",
    "            [False]\n",
    "      ]\n",
    "\n",
    "assert union(ma3, mb3) == [\n",
    "                          [True]\n",
    "                        ]\n",
    "\n",
    "\n",
    "ma4 =  [\n",
    "            [True]\n",
    "      ]\n",
    "mb4 =  [\n",
    "            [True]\n",
    "      ]\n",
    "\n",
    "assert union(ma4, mb4) == [\n",
    "                            [True]\n",
    "                          ]\n",
    " \n",
    "ma5 =  [\n",
    "            [False, False, False],    \n",
    "            [False, False, False],\n",
    "            [False, False, False]        \n",
    "    \n",
    "       ]\n",
    "mb5 =  [\n",
    "            [True, False, True],\n",
    "            [False, True, True],    \n",
    "            [False, False, False]     \n",
    "       ]\n",
    "\n",
    "assert union(ma5, mb5) == [\n",
    "                             [True, False, True],\n",
    "                             [False, True, True],\n",
    "                             [False, False, False]        \n",
    "                          ]\n",
    "\n",
    "ma6 =  [\n",
    "            [True, False, True],\n",
    "            [False, True, True],\n",
    "            [False, False, False]        \n",
    "      ]\n",
    "mb6 =  [\n",
    "            [False, False, False],    \n",
    "            [False, False, False],\n",
    "            [False, False, False]        \n",
    "    \n",
    "      ]\n",
    "\n",
    "assert union(ma6, mb6) == [\n",
    "                             [True, False, True],\n",
    "                             [False, True, True],\n",
    "                             [False, False, False]        \n",
    "                          ]\n",
    "\n",
    "ma7 =  [\n",
    "            [True, False, False],\n",
    "            [False, True, False],\n",
    "            [True, False, False] \n",
    "      ]\n",
    "\n",
    "mb7 =  [\n",
    "            [True, True, False],\n",
    "            [False, False, True],\n",
    "            [False, True, False]    \n",
    "    \n",
    "      ]\n",
    "\n",
    "assert union(ma7, mb7) == [\n",
    "                            [True, True, False],\n",
    "                            [False, True, True],\n",
    "                            [True, True, False]\n",
    "\n",
    "                        ]\n",
    "    "
   ]
  },
  {
   "cell_type": "markdown",
   "metadata": {},
   "source": [
    "### 2. surjective\n",
    "\n",
    "✪✪ If we consider a graph as a nxn binary relation where the domain is the same as the codomain, such relation is called _surjective_ if every node is reached by _at least_ one edge. \n",
    "\n",
    "For example, `G1` here is surjective, because there is at least one edge reaching into each node (self-loops as in 0 node also count as incoming edges)"
   ]
  },
  {
   "cell_type": "code",
   "execution_count": null,
   "metadata": {},
   "outputs": [],
   "source": [
    "G1 = [\n",
    "        [True, True, False, False],\n",
    "        [False, False,  False, True],\n",
    "        [False, True, True, False],\n",
    "        [False, True, True, True],\n",
    "    \n",
    "     ]\n"
   ]
  },
  {
   "cell_type": "code",
   "execution_count": null,
   "metadata": {},
   "outputs": [],
   "source": [
    "draw_mat(G1)"
   ]
  },
  {
   "cell_type": "markdown",
   "metadata": {},
   "source": [
    "`G2` down here instead does not represent a surjective relation, as there is _at least_ one node ( `2` in our case) which does not have any incoming edge: "
   ]
  },
  {
   "cell_type": "code",
   "execution_count": null,
   "metadata": {},
   "outputs": [],
   "source": [
    "G2 = [\n",
    "        [True, True, False, False],\n",
    "        [False, False,  False, True],\n",
    "        [False, True, False, False],\n",
    "        [False, True, False, False],\n",
    "    \n",
    "     ]\n"
   ]
  },
  {
   "cell_type": "code",
   "execution_count": null,
   "metadata": {},
   "outputs": [],
   "source": [
    "draw_mat(G2)"
   ]
  },
  {
   "cell_type": "code",
   "execution_count": null,
   "metadata": {},
   "outputs": [],
   "source": [
    "def surjective(mat): \n",
    "    \"\"\" RETURN True if provided graph mat as list of boolean lists is an \n",
    "        nxn surjective binary relation, otherwise return False\n",
    "    \"\"\"\n",
    "    #jupman-raise\n",
    "    n = len(mat)\n",
    "    c = 0   # number of incoming edges found\n",
    "    for j in range(len(mat)):      # go column by column\n",
    "        for i in range(len(mat)):  # go row by row\n",
    "            if mat[i][j]: \n",
    "                c += 1      \n",
    "                break    # as you find first incoming edge, increment c and stop search for that column\n",
    "    return c == n\n",
    "    #/jupman-raise\n",
    "    \n",
    "    \n",
    "    \n",
    "m1 =  [\n",
    "         [False]\n",
    "     ]\n",
    "\n",
    "assert surjective(m1) == False\n",
    "\n",
    "\n",
    "m2 =  [\n",
    "         [True]\n",
    "     ]\n",
    "\n",
    "assert surjective(m2) == True\n",
    "\n",
    "m3 =  [\n",
    "         [True, False],\n",
    "         [False, False],\n",
    "     ]\n",
    "\n",
    "assert surjective(m3) == False\n",
    "\n",
    "\n",
    "m4 =  [\n",
    "         [False, True],\n",
    "         [False, False],\n",
    "     ]\n",
    "\n",
    "assert surjective(m4) == False\n",
    "\n",
    "m5 =  [\n",
    "         [False, False],\n",
    "         [True, False],\n",
    "     ]\n",
    "\n",
    "assert surjective(m5) == False\n",
    "\n",
    "m6 =  [\n",
    "         [False, False],\n",
    "         [False, True],\n",
    "     ]\n",
    "\n",
    "assert surjective(m6) == False\n",
    "\n",
    "\n",
    "m7 =  [\n",
    "         [True, False],\n",
    "         [True, False],\n",
    "     ]\n",
    "\n",
    "assert surjective(m7) == False\n",
    "\n",
    "m8 =  [\n",
    "         [True, False],\n",
    "         [False, True],\n",
    "     ]\n",
    "\n",
    "assert surjective(m8) == True\n",
    "\n",
    "\n",
    "m9 =  [\n",
    "         [True, True],\n",
    "         [False, True],\n",
    "     ]\n",
    "\n",
    "assert surjective(m9) == True\n",
    "\n",
    "\n",
    "m10 = [\n",
    "        [True, True, False, False],\n",
    "        [False, False,  False, True],\n",
    "        [False, True, False, False],\n",
    "        [False, True, False, False],\n",
    "    \n",
    "     ]\n",
    "assert surjective(m10) == False\n",
    "\n",
    "m11 = [\n",
    "        [True, True, False, False],\n",
    "        [False, False,  False, True],\n",
    "        [False, True, True, False],\n",
    "        [False, True, True, True],\n",
    "    \n",
    "     ]\n",
    "assert surjective(m11) == True"
   ]
  },
  {
   "cell_type": "markdown",
   "metadata": {},
   "source": [
    "### 3. ediff\n",
    "\n",
    "✪✪✪  The _edge difference_ of two graphs `ediff(da,db)` is a graph with the edges of the first except the edges of the second. For simplicity, here we consider only graphs having the same verteces but possibly different edges. This time we will try operate on graphs represented as dictionaries of adjacency lists. "
   ]
  },
  {
   "cell_type": "markdown",
   "metadata": {},
   "source": [
    "For example, if we have"
   ]
  },
  {
   "cell_type": "code",
   "execution_count": null,
   "metadata": {},
   "outputs": [],
   "source": [
    "da =  {\n",
    "          'a':['a','c'],\n",
    "          'b':['b', 'c'],\n",
    "          'c':['b','c']\n",
    "        }"
   ]
  },
  {
   "cell_type": "code",
   "execution_count": null,
   "metadata": {},
   "outputs": [],
   "source": [
    "draw_adj(da)"
   ]
  },
  {
   "cell_type": "markdown",
   "metadata": {},
   "source": [
    "and"
   ]
  },
  {
   "cell_type": "code",
   "execution_count": null,
   "metadata": {},
   "outputs": [],
   "source": [
    "db =  {\n",
    "          'a':['c'],\n",
    "          'b':['a','b', 'c'],\n",
    "          'c':['a']\n",
    "        }\n"
   ]
  },
  {
   "cell_type": "code",
   "execution_count": null,
   "metadata": {},
   "outputs": [],
   "source": [
    "draw_adj(db)"
   ]
  },
  {
   "cell_type": "markdown",
   "metadata": {},
   "source": [
    "The result of calling `ediff(da,db)` will be:"
   ]
  },
  {
   "cell_type": "code",
   "execution_count": null,
   "metadata": {},
   "outputs": [],
   "source": [
    "res = {\n",
    "         'a':['a'],\n",
    "         'b':[],\n",
    "         'c':['b','c']\n",
    "      }"
   ]
  },
  {
   "cell_type": "markdown",
   "metadata": {},
   "source": [
    "Which can be shown as "
   ]
  },
  {
   "cell_type": "code",
   "execution_count": null,
   "metadata": {},
   "outputs": [],
   "source": [
    "draw_adj(res)"
   ]
  },
  {
   "cell_type": "code",
   "execution_count": null,
   "metadata": {},
   "outputs": [],
   "source": [
    "def ediff(da,db):   \n",
    "    \"\"\"  Takes two graphs as dictionaries of adjacency lists da and db, and \n",
    "         RETURN a NEW graph as dictionary of adjacency lists, containing the same vertices of da, \n",
    "         and the edges of da except the edges of db. \n",
    "        \n",
    "        - As order of elements within the adjacency lists, use the same order as found in da.\n",
    "        - We assume all verteces in da and db are represented in the keys (even if they have \n",
    "          no outgoing edge), and that da and db have the same keys\n",
    "          \n",
    "          EXAMPLE: \n",
    "          \n",
    "            da =  {\n",
    "                      'a':['a','c'],\n",
    "                      'b':['b', 'c'],\n",
    "                      'c':['b','c']\n",
    "                    }\n",
    "\n",
    "            db =  {\n",
    "                      'a':['c'],\n",
    "                      'b':['a','b', 'c'],\n",
    "                      'c':['a']\n",
    "                    }\n",
    "\n",
    "            assert ediff(da, db) == {\n",
    "                                       'a':['a'],\n",
    "                                       'b':[],\n",
    "                                       'c':['b','c']\n",
    "                                     }          \n",
    "    \n",
    "    \"\"\"\n",
    "    #jupman-raise\n",
    "        \n",
    "    ret = {}\n",
    "    for key in da:\n",
    "        ret[key] = []\n",
    "        for target in da[key]:   \n",
    "            # not efficient but works for us \n",
    "            # using sets would be better, see https://stackoverflow.com/a/6486483\n",
    "            if target not in db[key]:    \n",
    "                ret[key].append(target)\n",
    "    return ret\n",
    "    #/jupman-raise\n",
    "\n",
    "    \n",
    "\n",
    "    \n",
    "da1 =  {\n",
    "          'a': []\n",
    "       }\n",
    "db1 =  {\n",
    "          'a': []\n",
    "       }\n",
    "\n",
    "\n",
    "assert ediff(da1, db1) ==   {\n",
    "                             'a': []\n",
    "                           }\n",
    "\n",
    "da2 =  {\n",
    "          'a': []\n",
    "       }\n",
    "        \n",
    "db2 =  {\n",
    "          'a': ['a']\n",
    "       }\n",
    "\n",
    "assert ediff(da2, db2) == {\n",
    "                            'a': []\n",
    "                         }\n",
    "\n",
    "da3 =  {\n",
    "         'a': ['a']\n",
    "       }\n",
    "db3 =  {\n",
    "          'a': []\n",
    "       }\n",
    "\n",
    "assert ediff(da3, db3) ==   {\n",
    "                              'a': ['a']\n",
    "                           }\n",
    "\n",
    "\n",
    "da4 =  {\n",
    "           'a': ['a']\n",
    "       }\n",
    "db4 =  {\n",
    "           'a': ['a']\n",
    "       }\n",
    "\n",
    "assert ediff(da4, db4) == {\n",
    "                           'a': []\n",
    "                          } \n",
    "da5 =  {\n",
    "          'a':['b'],\n",
    "          'b':[]\n",
    "        }\n",
    "db5 =  {\n",
    "          'a':['b'],\n",
    "          'b':[]\n",
    "       }\n",
    "\n",
    "assert ediff(da5, db5) == {\n",
    "                          'a':[],\n",
    "                          'b':[]    \n",
    "                        }\n",
    "\n",
    "da6 =  {\n",
    "          'a':['b'],\n",
    "          'b':[]\n",
    "        }\n",
    "db6 =  {\n",
    "          'a':[],\n",
    "          'b':[]    \n",
    "        }\n",
    "\n",
    "assert ediff(da6, db6) == {\n",
    "                           'a':['b'],\n",
    "                           'b':[]\n",
    "                         }\n",
    "\n",
    "da7 =  {\n",
    "          'a':['a','b'],\n",
    "          'b':[]\n",
    "        }\n",
    "db7 =  {\n",
    "          'a':['a'],\n",
    "          'b':[]    \n",
    "        }\n",
    "\n",
    "assert ediff(da7, db7) == {\n",
    "                           'a':['b'],\n",
    "                           'b':[]\n",
    "                         }\n",
    "\n",
    "\n",
    "da8 =  {\n",
    "          'a':['a','b'],\n",
    "          'b':['a']\n",
    "        }\n",
    "db8 =  {\n",
    "          'a':['a'],\n",
    "          'b':['b']    \n",
    "        }\n",
    "\n",
    "assert ediff(da8, db8) == {\n",
    "                           'a':['b'],\n",
    "                           'b':['a']\n",
    "                         }\n",
    "\n",
    "da9 =  {\n",
    "          'a':['a','c'],\n",
    "          'b':['b', 'c'],\n",
    "          'c':['b','c']\n",
    "        }\n",
    "\n",
    "db9 =  {\n",
    "          'a':['c'],\n",
    "          'b':['a','b', 'c'],\n",
    "          'c':['a']\n",
    "        }\n",
    "\n",
    "assert ediff(da9, db9) == {\n",
    "                           'a':['a'],\n",
    "                           'b':[],\n",
    "                           'c':['b','c']\n",
    "                         }\n"
   ]
  }
 ],
 "metadata": {
  "celltoolbar": "Edit Metadata",
  "kernelspec": {
   "display_name": "Python 3",
   "language": "python",
   "name": "python3"
  },
  "language_info": {
   "codemirror_mode": {
    "name": "ipython",
    "version": 3
   },
   "file_extension": ".py",
   "mimetype": "text/x-python",
   "name": "python",
   "nbconvert_exporter": "python",
   "pygments_lexer": "ipython3",
   "version": "3.7.3"
  },
  "toc": {
   "base_numbering": 1,
   "nav_menu": {},
   "number_sections": false,
   "sideBar": true,
   "skip_h1_title": false,
   "title_cell": "Table of Contents",
   "title_sidebar": "Contents",
   "toc_cell": false,
   "toc_position": {},
   "toc_section_display": true,
   "toc_window_display": true
  }
 },
 "nbformat": 4,
 "nbformat_minor": 1
}
