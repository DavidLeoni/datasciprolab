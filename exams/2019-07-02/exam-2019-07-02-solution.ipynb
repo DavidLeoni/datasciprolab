{
 "cells": [
  {
   "cell_type": "code",
   "execution_count": 1,
   "metadata": {
    "nbsphinx": "hidden"
   },
   "outputs": [],
   "source": [
    "#Please execute this cell\n",
    "import sys;\n",
    "sys.path.append('../../'); \n",
    "import jupman;"
   ]
  },
  {
   "cell_type": "markdown",
   "metadata": {},
   "source": [
    "# Exam -  Tue 02, July 2019 - solutions\n",
    "\n",
    "**Scientific Programming - Data Science Master @ University of Trento**\n",
    "\n",
    "## [Download exercises and solution](../../_static/datasciprolab-2019-07-02-exam.zip)"
   ]
  },
  {
   "cell_type": "markdown",
   "metadata": {
    "collapsed": true
   },
   "source": [
    "## Introduction\n",
    "\n",
    "* **Taking part to this exam erases any vote you had before**\n"
   ]
  },
  {
   "cell_type": "markdown",
   "metadata": {},
   "source": [
    "\n",
    "### Grading\n",
    "\n",
    "\n",
    "* **Correct implementations**: Correct implementations with the required complexity grant you full grade.\n",
    "* **Partial implementations**: Partial implementations _might_ still give you a few points. If you just can't solve an exercise,  try to solve it at least for some subcase (i.e. array of fixed size 2) commenting why you did so. \n",
    "* **Bonus point**: One bonus point can be earned by writing stylish code. You got style if you:\n",
    "\n",
    "    - do not infringe the [Commandments](https://datasciprolab.readthedocs.io/en/latest/commandments.html)\n",
    "    - write [pythonic code](http://docs.python-guide.org/en/latest/writing/style)\n",
    "    - avoid convoluted code like i.e.\n",
    "\n",
    "        ```\n",
    "        if x > 5:\n",
    "            return True\n",
    "        else:\n",
    "            return False\n",
    "        ```\n",
    "\n",
    "        when you could write just\n",
    "\n",
    "        ```\n",
    "        return x > 5\n",
    "        ```       \n",
    "\n",
    "### Valid code"
   ]
  },
  {
   "cell_type": "markdown",
   "metadata": {
    "scrolled": true
   },
   "source": [
    "<div class=\"alert alert-warning\">\n",
    "\n",
    "**WARNING**: MAKE SURE ALL EXERCISE FILES AT LEAST COMPILE !!! \n",
    "10 MINS BEFORE THE END OF THE EXAM I WILL ASK YOU TO DO A FINAL CLEAN UP OF THE CODE \n",
    "</div>\n",
    "\n",
    "\n",
    "\n",
    "<div class=\"alert alert-warning\">\n",
    "\n",
    "**WARNING**: _ONLY_ IMPLEMENTATIONS OF THE PROVIDED FUNCTION SIGNATURES WILL BE EVALUATED !!!!!!!!! <br/>    \n",
    "\n",
    "</div>"
   ]
  },
  {
   "cell_type": "markdown",
   "metadata": {},
   "source": [
    "\n",
    "For example, if you are given to implement: \n",
    "\n",
    "```python\n",
    "    def f(x):\n",
    "        raise Exception(\"TODO implement me\")\n",
    "```\n",
    "\n",
    "and you ship this code:\n",
    "\n",
    "``` python\n",
    "def my_f(x):\n",
    "    # a super fast, correct and stylish implementation\n",
    "\n",
    "def f(x):\n",
    "    raise Exception(\"TODO implement me\")\n",
    "```\n",
    "\n",
    "We will assess only the latter one `f(x)`, and conclude it doesn't work at all :P   !!!!!!!\n",
    "\n",
    "**Helper functions**\n",
    "\n",
    "Still, you are allowed to define any extra helper function you might need. If your `f(x)` implementation calls some other function you defined like `my_f` here, it is ok:\n",
    "\n",
    "```python\n",
    "# Not called by f, will get ignored:\n",
    "def my_g(x):\n",
    "    # bla\n",
    "\n",
    "# Called by f, will be graded:\n",
    "def my_f(y,z):\n",
    "    # bla\n",
    "\n",
    "def f(x):\n",
    "    my_f(x,5)\n",
    "    \n",
    "\n",
    "```\n",
    "\n",
    "\n",
    "\n",
    "### How to edit and run\n",
    "\n",
    "To edit the files, you can use any editor of your choice,  you can find them under _Applications->Programming_:\n",
    "\n",
    "* **Visual Studio Code**\n",
    "* Editra is easy to use, you can find it under _Applications->Programming->Editra_.\n",
    "* Others could be _GEdit_ (simpler), or _PyCharm_ (more complex).\n",
    "\n",
    "To run the tests, use **the Terminal** which can be found in _Accessories -> Terminal_ \n"
   ]
  },
  {
   "cell_type": "markdown",
   "metadata": {},
   "source": [
    "\n",
    "<div class=\"alert alert-info\">\n",
    "\n",
    "**IMPORTANT**: Pay close attention to the comments of the functions.\n",
    "</div>\n",
    "\n",
    "<div class=\"alert alert-warning\">\n",
    "\n",
    "**WARNING**: _DON'T_ modify function signatures! Just provide the implementation.\n",
    "</div>\n",
    "\n",
    "<div class=\"alert alert-warning\">\n",
    "\n",
    "**WARNING**: <i>DON'T</i> change the existing test methods, just add new ones !!!  You can add as many as you want.\n",
    "</div>\n",
    "\n",
    "<div class=\"alert alert-warning\">\n",
    "\n",
    "**WARNING**: _DON'T_ create other files. If you still do it, they won't be evaluated.\n",
    "</div>\n",
    "\n",
    "\n"
   ]
  },
  {
   "cell_type": "markdown",
   "metadata": {},
   "source": [
    "### Debugging \n",
    "\n",
    "If you need to print some debugging information, you are allowed to put extra <code>print</code>\n",
    "    statements in the function bodies."
   ]
  },
  {
   "cell_type": "markdown",
   "metadata": {},
   "source": [
    "\n",
    "<div class=\"alert alert-warning\">\n",
    "\n",
    "**WARNING:** even if print statements are allowed, be careful with prints that might\n",
    "     break your function! \n",
    "</div>\n"
   ]
  },
  {
   "cell_type": "markdown",
   "metadata": {},
   "source": [
    "For example, avoid stuff like this: \n",
    "\n",
    "```python\n",
    "x = 0\n",
    "print(1/x)\n",
    "```\n"
   ]
  },
  {
   "cell_type": "markdown",
   "metadata": {},
   "source": [
    "### What to do\n",
    "\n",
    "1) Download  `datasciprolab-2019-07-02-exam.zip` and extract it <b>on your desktop</b>. Folder content should be like this:\n",
    "\n",
    "```\n",
    "datasciprolab-2019-07-02-FIRSTNAME-LASTNAME-ID\n",
    "    |-jupman.py\n",
    "    |-sciprog.py\n",
    "    |-other stuff ...\n",
    "    |-exams\n",
    "        |-2019-07-02\n",
    "            |- exam-2019-07-02-exercise.ipynb\n",
    "            |- theory.txt\n",
    "            |- linked_sort_exercise.py\n",
    "            |- linked_sort_test.py\n",
    "            |- stacktris_exercise.py\n",
    "            |- stacktris_test.py\n",
    "            \n",
    "            \n",
    "```\n",
    "\n",
    "2) Rename `datasciprolab-2019-07-02-FIRSTNAME-LASTNAME-ID` folder: put your name, lastname an id number, like `datasciprolab-2019-07-02-john-doe-432432`\n",
    "\n",
    "From now on, you will be editing the files in that folder. At the end of the exam, that is what will be evaluated.\n",
    "\n",
    "3) Edit the files following the instructions in this worksheet for each exercise.\n",
    "\n",
    "4) When done:\n",
    "\n",
    "- if you have unitn login:  zip and send to [examina.icts.unitn.it/studente](http://examina.icts.unitn.it/studente)\n",
    "  \n",
    "- If you don't have unitn login: tell instructors and we will download your work manually\n",
    " \n"
   ]
  },
  {
   "cell_type": "markdown",
   "metadata": {},
   "source": [
    "## Part A\n",
    "\n",
    "Open Jupyter and start editing this notebook `exam-2019-07-02-exercise.ipynb`\n"
   ]
  },
  {
   "cell_type": "markdown",
   "metadata": {},
   "source": [
    "### A1 Botteghe storiche\n",
    "\n",
    "You will work on the dataset of _Botteghe storiche del Trentino\" (small shops, workshops of Trentino)\n",
    "\n",
    "Data provider: [Provincia Autonoma di Trento - dati.trentino.it](https://dati.trentino.it/dataset/botteghe-storiche-del-trentino)\n",
    "\n",
    "A function `load_botteghe` is given to load the dataset (you don’t need to implement it):"
   ]
  },
  {
   "cell_type": "code",
   "execution_count": 2,
   "metadata": {},
   "outputs": [],
   "source": [
    "def load_botteghe():\n",
    "    \"\"\"Loads file data and RETURN a list of dictionaries with the botteghe dati\n",
    "    \"\"\"\n",
    "\n",
    "    import csv\n",
    "    with open('data/botteghe.csv', newline='',  encoding='utf-8',) as csvfile:\n",
    "        reader = csv.DictReader(csvfile,  delimiter=',')\n",
    "        lst = []\n",
    "        for d in reader:\n",
    "            lst.append(d)\n",
    "    return lst\n",
    "\n",
    "\n",
    "botteghe = load_botteghe()"
   ]
  },
  {
   "cell_type": "markdown",
   "metadata": {},
   "source": [
    "\n",
    "\n",
    "<div class=\"alert alert-warning\">\n",
    "\n",
    "**IMPORTANT**: look at the dataset !\n",
    "\n",
    "Here we show only first 5 rows, but to get a clear picture of the dataset you should explore it further.\n",
    "\n",
    "</div>\n"
   ]
  },
  {
   "cell_type": "code",
   "execution_count": 3,
   "metadata": {},
   "outputs": [
    {
     "data": {
      "text/plain": [
       "[{'Cap': '38068',\n",
       "  'Civico': '30',\n",
       "  'Comune': 'Sover',\n",
       "  'Frazione/Località': 'Piscine di Sover',\n",
       "  'Indirizzo': 'Via del Lagorai',\n",
       "  'Insegna': 'BAZZANELLA RENATA',\n",
       "  'Note': 'generi misti, bar - ristorante',\n",
       "  'Numero': '1'},\n",
       " {'Cap': '38051',\n",
       "  'Civico': '48',\n",
       "  'Comune': 'Borgo Valsugana',\n",
       "  'Frazione/Località': '',\n",
       "  'Indirizzo': 'Corso Ausugum',\n",
       "  'Insegna': 'CONFEZIONI MONTIBELLER S.R.L.',\n",
       "  'Note': 'esercizio commerciale',\n",
       "  'Numero': '2'},\n",
       " {'Cap': '38051',\n",
       "  'Civico': '8',\n",
       "  'Comune': 'Borgo Valsugana',\n",
       "  'Frazione/Località': '',\n",
       "  'Indirizzo': 'Largo Dordi',\n",
       "  'Insegna': 'FOTOGRAFICA TRINTINAGLIA UMBERTO S.N.C.',\n",
       "  'Note': 'esercizio commerciale, attività artigianale',\n",
       "  'Numero': '3'},\n",
       " {'Cap': '38055',\n",
       "  'Civico': '24',\n",
       "  'Comune': 'Grigno',\n",
       "  'Frazione/Località': 'Serafini',\n",
       "  'Indirizzo': '',\n",
       "  'Insegna': 'BAR SERAFINI DI MINATI RENZO',\n",
       "  'Note': 'esercizio commerciale',\n",
       "  'Numero': '4'},\n",
       " {'Cap': '38066',\n",
       "  'Civico': '35',\n",
       "  'Comune': 'Riva del Garda',\n",
       "  'Frazione/Località': '',\n",
       "  'Indirizzo': 'Via S. Francesco',\n",
       "  'Insegna': 'SEMBENINI GINO & FIGLI S.R.L.',\n",
       "  'Note': '',\n",
       "  'Numero': '6'}]"
      ]
     },
     "execution_count": 3,
     "metadata": {},
     "output_type": "execute_result"
    }
   ],
   "source": [
    "botteghe[:5]"
   ]
  },
  {
   "cell_type": "markdown",
   "metadata": {},
   "source": [
    "We would like to know which different categories of _bottega_ there are, and count them. Unfortunately, there is no specific field for _Categoria_, so we will need to extract this information from other fields such as `Insegna` and `Note`. For example, this `Insegna` contains the category `BAR`, while the `Note` (_commercial enterprise_) is a bit too generic to be useful:\n",
    "\n",
    "```python\n",
    "    'Insegna': 'BAR SERAFINI DI MINATI RENZO',\n",
    "    'Note': 'esercizio commerciale',\n",
    "```\n",
    "\n",
    "while this other `Insegna` contains just the owner name and  `Note` holds both the categories `bar` and `ristorante`:\n",
    "\n",
    "```python\n",
    "    'Insegna': 'BAZZANELLA RENATA',\n",
    "    'Note': 'generi misti, bar - ristorante',\n",
    "```\n",
    "\n",
    "As you see, data is non uniform: \n",
    "\n",
    "* sometimes the category is in the `Insegna`\n",
    "* sometimes is in the `Note`\n",
    "* sometimes is in both\n",
    "* sometimes is lowercase\n",
    "* sometimes is uppercase\n",
    "* sometimes is single\n",
    "* sometimes is multiple (`bar - ristorante`)"
   ]
  },
  {
   "cell_type": "markdown",
   "metadata": {},
   "source": [
    "First we want to extract all categories we can find, and rank them according their frequency, from most frequent to least frequent.\n",
    "\n",
    "To do so, you need to\n",
    "\n",
    "- count all words you can find in both `Insegna` and `Note` fields, and sort them. Note you need to normalize the uppercase. \n",
    "\n",
    "- consider a category relevant if it is present at least 11 times in the dataset.\n",
    "\n",
    "- filter non relevant words: some words like prepositions, type of company (`'S.N.C'`, `S.R.L.`, ..), etc will appear a lot, and will need to be ignored. To detect them, you are given a list called `stopwords`.\n",
    "\n",
    "**NOTE**: the rules above do not actually extract all the categories, for the sake of the exercise we only keep the most frequent ones. "
   ]
  },
  {
   "cell_type": "markdown",
   "metadata": {},
   "source": [
    "### A1.1 rank_categories"
   ]
  },
  {
   "cell_type": "code",
   "execution_count": 4,
   "metadata": {},
   "outputs": [
    {
     "data": {
      "text/plain": [
       "[('BAR', 191),\n",
       " ('RISTORANTE', 150),\n",
       " ('HOTEL', 67),\n",
       " ('ALBERGO', 64),\n",
       " ('MACELLERIA', 27),\n",
       " ('PANIFICIO', 22),\n",
       " ('CALZATURE', 21),\n",
       " ('FARMACIA', 21),\n",
       " ('ALIMENTARI', 20),\n",
       " ('SPORT', 16),\n",
       " ('PIZZERIA', 16),\n",
       " ('FERRAMENTA', 12),\n",
       " ('TABACCHI', 12),\n",
       " ('BAZAR', 11)]"
      ]
     },
     "execution_count": 4,
     "metadata": {},
     "output_type": "execute_result"
    }
   ],
   "source": [
    "def rank_categories(db, stopwords):\n",
    "    #jupman-raise\n",
    "    ret = {}\n",
    "    for diz in db:\n",
    "        parole = diz['Insegna'].split(\" \") + diz['Note'].upper().split(\" \") \n",
    "        for parola in parole:\n",
    "            if parola in ret and not parola in stopwords:\n",
    "                ret[parola] += 1\n",
    "            else:\n",
    "                ret[parola] = 1\n",
    "    return sorted([(key, val) for key,val in ret.items() if val > 10], key=lambda c: c[1], reverse=True)\n",
    "    #/jupman-raise\n",
    "\n",
    "stopwords = ['',\n",
    "             'S.N.C.', 'SNC','S.A.S.', 'S.R.L.', 'S.C.A.R.L.', 'SCARL','S.A.S', 'COMMERCIALE','FAMIGLIA','COOPERATIVA',\n",
    "             '-', '&', 'C.', 'ESERCIZIO',\n",
    "             'IL', 'DE', 'DI','A', 'DA', 'E', 'LA', 'AL',  'DEL', 'ALLA', ]\n",
    "categories = rank_categories(botteghe, stopwords)\n",
    "\n",
    "categories  "
   ]
  },
  {
   "cell_type": "markdown",
   "metadata": {},
   "source": [
    "### A1.2 plot\n",
    "\n",
    "Now plot the 10 most frequent categories. Please pay attention to plot title, width and height, axis labels. Everything MUST display in a readable way."
   ]
  },
  {
   "cell_type": "code",
   "execution_count": 5,
   "metadata": {},
   "outputs": [],
   "source": [
    "# write here\n",
    "\n"
   ]
  },
  {
   "cell_type": "code",
   "execution_count": 6,
   "metadata": {},
   "outputs": [
    {
     "data": {
      "image/png": "[encoded data removed]",
      "text/plain": [
       "<Figure size 1080x360 with 1 Axes>"
      ]
     },
     "metadata": {
      "needs_background": "light"
     },
     "output_type": "display_data"
    }
   ],
   "source": [
    "\n",
    "# SOLUTION\n",
    "\n",
    "%matplotlib inline\n",
    "import numpy as np\n",
    "import matplotlib.pyplot as plt\n",
    "\n",
    "cats = categories[:10]\n",
    "\n",
    "xs = np.arange(len(cats))\n",
    "\n",
    "xs_labels = [t[0] for t in cats]\n",
    "\n",
    "ys = [t[1] for t in cats]\n",
    "\n",
    "fig = plt.figure(figsize=(15,5))\n",
    "\n",
    "plt.bar(xs, ys, 0.5, align='center')\n",
    "\n",
    "plt.title(\"Categorie botteghe storiche SOLUTION\")\n",
    "plt.xticks(xs, xs_labels)\n",
    "\n",
    "plt.xlabel('name')\n",
    "plt.ylabel('frequency')\n",
    "\n",
    "plt.show()\n",
    "\n"
   ]
  },
  {
   "cell_type": "markdown",
   "metadata": {},
   "source": [
    "### A1.3 enrich\n",
    "\n",
    "Once you found the categories, implement function `enrich`, which takes the db and previously computed categories, and RETURN a NEW DB where the dictionaries are enriched with a new field `Categorie`, which holds a list of the categories a particular _bottega_ belongs to. "
   ]
  },
  {
   "cell_type": "code",
   "execution_count": 7,
   "metadata": {},
   "outputs": [
    {
     "data": {
      "text/plain": [
       "[{'Cap': '38068',\n",
       "  'Categorie': ['BAR', 'RISTORANTE'],\n",
       "  'Civico': '30',\n",
       "  'Comune': 'Sover',\n",
       "  'Frazione/Località': 'Piscine di Sover',\n",
       "  'Indirizzo': 'Via del Lagorai',\n",
       "  'Insegna': 'BAZZANELLA RENATA',\n",
       "  'Note': 'generi misti, bar - ristorante',\n",
       "  'Numero': '1'},\n",
       " {'Cap': '38051',\n",
       "  'Categorie': [],\n",
       "  'Civico': '48',\n",
       "  'Comune': 'Borgo Valsugana',\n",
       "  'Frazione/Località': '',\n",
       "  'Indirizzo': 'Corso Ausugum',\n",
       "  'Insegna': 'CONFEZIONI MONTIBELLER S.R.L.',\n",
       "  'Note': 'esercizio commerciale',\n",
       "  'Numero': '2'},\n",
       " {'Cap': '38051',\n",
       "  'Categorie': [],\n",
       "  'Civico': '8',\n",
       "  'Comune': 'Borgo Valsugana',\n",
       "  'Frazione/Località': '',\n",
       "  'Indirizzo': 'Largo Dordi',\n",
       "  'Insegna': 'FOTOGRAFICA TRINTINAGLIA UMBERTO S.N.C.',\n",
       "  'Note': 'esercizio commerciale, attività artigianale',\n",
       "  'Numero': '3'},\n",
       " {'Cap': '38055',\n",
       "  'Categorie': ['BAR'],\n",
       "  'Civico': '24',\n",
       "  'Comune': 'Grigno',\n",
       "  'Frazione/Località': 'Serafini',\n",
       "  'Indirizzo': '',\n",
       "  'Insegna': 'BAR SERAFINI DI MINATI RENZO',\n",
       "  'Note': 'esercizio commerciale',\n",
       "  'Numero': '4'},\n",
       " {'Cap': '38066',\n",
       "  'Categorie': [],\n",
       "  'Civico': '35',\n",
       "  'Comune': 'Riva del Garda',\n",
       "  'Frazione/Località': '',\n",
       "  'Indirizzo': 'Via S. Francesco',\n",
       "  'Insegna': 'SEMBENINI GINO & FIGLI S.R.L.',\n",
       "  'Note': '',\n",
       "  'Numero': '6'},\n",
       " {'Cap': '38015',\n",
       "  'Categorie': ['RISTORANTE', 'HOTEL', 'PIZZERIA'],\n",
       "  'Civico': '29',\n",
       "  'Comune': 'Lavis',\n",
       "  'Frazione/Località': 'Nave San Felice',\n",
       "  'Indirizzo': 'Via Nazionale',\n",
       "  'Insegna': 'HOTEL RISTORANTE PIZZERIA “ALLA NAVE”',\n",
       "  'Note': '',\n",
       "  'Numero': '7'}]"
      ]
     },
     "execution_count": 7,
     "metadata": {},
     "output_type": "execute_result"
    }
   ],
   "source": [
    "def enrich(db, categories):\n",
    "    #jupman-raise\n",
    "    ret = []\n",
    "    \n",
    "    for diz in db:\n",
    "        new_diz = {key:val for key,val in diz.items()}\n",
    "        new_diz['Categorie'] = []\n",
    "        for cat in categories:\n",
    "            if cat[0] in diz['Insegna'].upper() or cat[0] in diz['Note'].upper():\n",
    "                new_diz['Categorie'].append(cat[0])\n",
    "        ret.append(new_diz)\n",
    "    return ret\n",
    "    #/jupman-raise\n",
    "\n",
    "\n",
    "new_db = enrich(botteghe, rank_categories(botteghe, stopwords))                \n",
    "\n",
    "new_db[:6]   #NOTE here we only show a sample"
   ]
  },
  {
   "cell_type": "markdown",
   "metadata": {},
   "source": [
    "### A2 dump\n",
    "\n",
    "The multinational ToxiCorp wants to hire you for devising an automated truck driver which will deposit highly contaminated waste in the illegal dumps they own worldwide. You find it ethically questionable, but they pay well, so you accept.\n",
    "\n",
    "A dump is modelled as a rectangular region of dimensions `nrow` and `ncol`, implemented as a list of lists matrix. Every cell `i`, `j` contains the tons of waste present, and can contain _at most_ `7` tons of waste. \n",
    "\n",
    "The dumpster truck will transport `q` tons of waste, and try to fill the dump by depositing waste in the first row, filling each cell up to 7 tons. When the first row is filled, it will proceed to the second one _from the left_ , then to the third one again _from the left_ until there is no waste to dispose of. \n",
    "\n",
    "Function `dump(m, q)` takes as input the dump `mat` and the number of tons `q` to dispose of, and RETURN a NEW list representing a plan with the sequence of tons to dispose. If waste to dispose exceeds dump capacity, raises `ValueError`.\n",
    "\n",
    "**NOTE**: the function does **not** modify the matrix\n",
    "\n",
    "**Example:**\n",
    "\n",
    "```python\n",
    "m = [          \n",
    "        [5,4,6],   \n",
    "        [4,7,1],   \n",
    "        [3,2,6],   \n",
    "        [3,6,2],   \n",
    "]\n",
    "\n",
    "dump(m, 22)\n",
    "\n",
    "[2, 3, 1, 3, 0, 6, 4, 3]\n",
    "\n",
    "```\n",
    "\n",
    "For first row we dispose of 2,3,1 tons in three cells, for second row we dispose of 3,0,6 tons in three cells, for third row we only dispose 4, 3 tons in two cells as limit q=22 is reached.\n",
    "\n",
    "\n"
   ]
  },
  {
   "cell_type": "code",
   "execution_count": 8,
   "metadata": {},
   "outputs": [],
   "source": [
    "def dump(mat, q):\n",
    "    #jupman-raise\n",
    "    rem = q\n",
    "    ret = []\n",
    "    \n",
    "    for riga in mat:\n",
    "        for j in range(len(riga)):\n",
    "            cellfill = 7 - riga[j]\n",
    "            unload = min(cellfill, rem)\n",
    "            rem -= unload\n",
    "            \n",
    "            if rem > 0:                \n",
    "                ret.append(unload)            \n",
    "            else:             \n",
    "                if unload > 0:\n",
    "                    ret.append(unload)            \n",
    "                return ret\n",
    "                  \n",
    "    if rem > 0:\n",
    "        raise ValueError(\"Couldn't fill the dump, %s tons remain!\")\n",
    "    #/jupman-raise\n",
    "    \n",
    "m1 = [\n",
    "    [5]\n",
    "]     \n",
    "\n",
    "assert dump(m1,0) == []  # nothing to dump\n",
    "\n",
    "m2 = [\n",
    "    [4]\n",
    "]     \n",
    "\n",
    "assert dump(m2,2) == [2]\n",
    "\n",
    "m3 = [\n",
    "    [5,4]   \n",
    "]     \n",
    "\n",
    "assert dump(m3,3) == [2, 1]\n",
    "\n",
    "\n",
    "m3 = [\n",
    "    [5,7,3]   \n",
    "]     \n",
    "\n",
    "assert dump(m3,3) == [2, 0, 1]\n",
    "\n",
    "\n",
    "m5 = [\n",
    "    [2,5],   # 5 2\n",
    "    [4,3]    # 3 1\n",
    "    \n",
    "]     \n",
    "\n",
    "assert dump(m5,11) == [5,2,3,1]\n",
    "\n",
    "\n",
    "m6 = [         # tons to dump in each cell\n",
    "    [5,4,6],   # 2 3 1     \n",
    "    [4,7,1],   # 3 0 6     \n",
    "    [3,2,6],   # 4 3 0     \n",
    "    [3,6,2],   # 0 0 0\n",
    "]\n",
    "\n",
    "\n",
    "assert dump(m6, 22) == [2,3,1,3,0,6,4,3]\n",
    "\n",
    "\n",
    "try:\n",
    "    dump ([[5]], 10)\n",
    "    raise Exception(\"Should have failed !\")\n",
    "except ValueError:\n",
    "    pass"
   ]
  },
  {
   "cell_type": "markdown",
   "metadata": {},
   "source": [
    "## Part B"
   ]
  },
  {
   "cell_type": "markdown",
   "metadata": {},
   "source": [
    "### B1 Theory\n",
    "\n",
    "**Write the solution in separate `theory.txt` file**\n",
    "\n",
    "Let `L1` and `L2` be two lists containing `n` lists, each of them of size `n`. Compute the\n",
    "computational complexity of function `fun()` with respect to `n`.\n",
    "\n",
    "\n",
    "```python\n",
    "\n",
    "def fun(L1,L2):\n",
    "    for r1 in L1:\n",
    "        for val in r1:\n",
    "            for r2 in L2:\n",
    "                if val = sum(r2):\n",
    "                    print(val)\n",
    "\n",
    "```"
   ]
  },
  {
   "cell_type": "markdown",
   "metadata": {},
   "source": [
    "**ANSWER**: $\\Theta(n^4) $"
   ]
  },
  {
   "cell_type": "markdown",
   "metadata": {},
   "source": [
    "### B2 Linked List sorting\n",
    "\n",
    "**Open a text editor** and edit file `linked_sort_exercise.py`"
   ]
  },
  {
   "cell_type": "markdown",
   "metadata": {},
   "source": [
    "### B2.1 bubble_sort\n",
    "\n",
    "You will implement bubble sort on a `LinkedList`. \n",
    "\n",
    "    def bubble_sort(self):\n",
    "        \"\"\" Sorts in-place this linked list using the method of bubble sort\n",
    "        \n",
    "            - MUST execute in O(n^2) where n is the length of the linked list\n",
    "        \"\"\"\n",
    "\n",
    "**Testing**: `python3 -m unittest linked_sort_test.BubbleSortTest`\n",
    "\n",
    "As a reference, you can look at this `example_bubble` implementation below that operates on regular python lists. Basically, you will have to translate the `for` cycles into two suitable `while` and use node pointers.\n",
    "\n",
    "**NOTE**: this version of the algorithm is inefficient as we do not use `j` in the inner loop: your linked list implementation can have this inefficiency as well.\n"
   ]
  },
  {
   "cell_type": "code",
   "execution_count": 9,
   "metadata": {},
   "outputs": [
    {
     "name": "stdout",
     "output_type": "stream",
     "text": [
      "[1, 2, 3, 23, 32, 34, 55, 98, 7777]\n"
     ]
    }
   ],
   "source": [
    "def example_bubble(plist):\n",
    "    for j in range(len(plist)):\n",
    "        for i in range(len(plist)):\n",
    "            if i + 1 < len(plist) and plist[i]>plist[i+1]:\n",
    "                temp = plist[i]\n",
    "                plist[i] = plist[i+1]\n",
    "                plist[i+1] = temp\n",
    "\n",
    "my_list = [23, 34, 55, 32, 7777, 98, 3, 2, 1]\n",
    "example_bubble(my_list)\n",
    "print(my_list)\n"
   ]
  },
  {
   "cell_type": "markdown",
   "metadata": {},
   "source": [
    "\n",
    "### B2.2 merge\n",
    "\n",
    "Implement this method:\n",
    "\n",
    "```python\n",
    "    def merge(self,l2):\n",
    "        \"\"\" Assumes this linkedlist and l2 linkedlist contain integer numbers\n",
    "            sorted in ASCENDING order, and  RETURN a NEW LinkedList with\n",
    "            all the numbers from this and l2 sorted in DESCENDING order\n",
    "\n",
    "            IMPORTANT 1: *MUST* EXECUTE IN O(n1+n2) TIME where n1 and n2 are\n",
    "                         the sizes of this and l2 linked_list, respectively\n",
    "                         \n",
    "            IMPORTANT 2: *DO NOT* attempt to convert linked lists to\n",
    "                         python lists!\n",
    "        \"\"\"\n",
    "```\n",
    "\n",
    "**Testing**: `python3 -m unittest linked_sort_test.MergeTest`"
   ]
  },
  {
   "cell_type": "markdown",
   "metadata": {},
   "source": [
    "### B3 Stacktris\n",
    "\n",
    "**Open a text editor** and edit file `stacktris_exercise.py`\n",
    "\n",
    "A `Stacktris` is a data structure that operates like the famous game Tetris, with some restrictions:\n",
    "\n",
    "- Falling pieces can be either of length 1 or 2. We call them `1-block` and `2-block` respectively\n",
    "- The pit has a fixed width of 3 columns\n",
    "- `2-block`s can only be in horizontal\n",
    "\n",
    "We print a `Stacktris` like this: \n",
    "\n",
    "```\n",
    "\\ j 012\n",
    "i\n",
    "4  | 11|    # two 1-block\n",
    "3  | 22|    # one 2-block\n",
    "2  | 1 |    # one 1-block\n",
    "1  |22 |    # one 2-block\n",
    "0  |1 1|    # on the ground there are two 1-block\n",
    "```\n",
    "\n"
   ]
  },
  {
   "cell_type": "markdown",
   "metadata": {},
   "source": [
    "In Python, we model the `Stacktris` as a class holding in the variable `_stack` a list of lists of integers, which models the pit:\n",
    "\n",
    "```python\n",
    "\n",
    "class Stacktris:\n",
    "\n",
    "    def __init__(self):\n",
    "        \"\"\" Creates a Stacktris\n",
    "        \"\"\"\n",
    "        self._stack = []\n",
    "\n",
    "```\n",
    "\n",
    "So in the situation above the `_stack` variable would look like this (notice row order is inverted with respect to the print)\n",
    "\n",
    "```python\n",
    "[ \n",
    "    [1,0,1],\n",
    "    [2,2,0],\n",
    "    [0,1,0],\n",
    "    [0,2,2],\n",
    "    [0,1,1],\n",
    "]\n",
    "```\n",
    "\n",
    "The class has three methods of interest which you will implement,  `drop1(j)` ,  `drop2h(j)` and `_shorten`\n",
    "\n"
   ]
  },
  {
   "cell_type": "markdown",
   "metadata": {},
   "source": [
    "**Example**\n",
    "\n",
    "Let's see an example:"
   ]
  },
  {
   "cell_type": "code",
   "execution_count": 10,
   "metadata": {},
   "outputs": [],
   "source": [
    "from stacktris_solution import * \n",
    "\n",
    "st = Stacktris()"
   ]
  },
  {
   "cell_type": "markdown",
   "metadata": {},
   "source": [
    "At the beginning the pit is empty:"
   ]
  },
  {
   "cell_type": "code",
   "execution_count": 11,
   "metadata": {},
   "outputs": [
    {
     "data": {
      "text/plain": [
       "Stacktris: \n",
       "EMPTY"
      ]
     },
     "execution_count": 11,
     "metadata": {},
     "output_type": "execute_result"
    }
   ],
   "source": [
    "st"
   ]
  },
  {
   "cell_type": "markdown",
   "metadata": {},
   "source": [
    "We can start by dropping from the ceiling a block of dimension 1 into the last column at index `j=2`. By doing so, a new row will be created, and will be a list containing the numbers `[0,0,1]`\n",
    "\n",
    "**IMPORTANT**: zeroes are not displayed"
   ]
  },
  {
   "cell_type": "code",
   "execution_count": 12,
   "metadata": {},
   "outputs": [
    {
     "name": "stdout",
     "output_type": "stream",
     "text": [
      "DEBUG:  Stacktris: \n",
      "        |  1|\n",
      "        \n"
     ]
    },
    {
     "data": {
      "text/plain": [
       "[]"
      ]
     },
     "execution_count": 12,
     "metadata": {},
     "output_type": "execute_result"
    }
   ],
   "source": [
    "st.drop1(2)"
   ]
  },
  {
   "cell_type": "markdown",
   "metadata": {},
   "source": [
    "Now we drop an horizontal block of dimension 2 (a `2-block`) having the leftmost block at column `j=1`. Since below in the pit there is already the `1` block we previosly put, the new block will fall and stay upon it. Internally, we will add a new row as a python list containing the numbers `[0,2,2]`"
   ]
  },
  {
   "cell_type": "code",
   "execution_count": 13,
   "metadata": {},
   "outputs": [
    {
     "name": "stdout",
     "output_type": "stream",
     "text": [
      "DEBUG:  Stacktris: \n",
      "        | 22|\n",
      "        |  1|\n",
      "        \n"
     ]
    },
    {
     "data": {
      "text/plain": [
       "[]"
      ]
     },
     "execution_count": 13,
     "metadata": {},
     "output_type": "execute_result"
    }
   ],
   "source": [
    "st.drop2h(1)"
   ]
  },
  {
   "cell_type": "markdown",
   "metadata": {},
   "source": [
    "We see the zeroth column is empty, so if we drop there a `1-block` it will fall to the ground. Internally, the zeroth list will become `[1,0,1]`:"
   ]
  },
  {
   "cell_type": "code",
   "execution_count": 14,
   "metadata": {},
   "outputs": [
    {
     "name": "stdout",
     "output_type": "stream",
     "text": [
      "DEBUG:  Stacktris: \n",
      "        | 22|\n",
      "        |1 1|\n",
      "        \n"
     ]
    },
    {
     "data": {
      "text/plain": [
       "[]"
      ]
     },
     "execution_count": 14,
     "metadata": {},
     "output_type": "execute_result"
    }
   ],
   "source": [
    "st.drop1(0)"
   ]
  },
  {
   "cell_type": "markdown",
   "metadata": {},
   "source": [
    "Now we drop again a `2-block` at column `j=2`, on top of the previously laid one. This will add a new row as list `[0,2,2]`."
   ]
  },
  {
   "cell_type": "code",
   "execution_count": 15,
   "metadata": {},
   "outputs": [
    {
     "name": "stdout",
     "output_type": "stream",
     "text": [
      "DEBUG:  Stacktris: \n",
      "        | 22|\n",
      "        | 22|\n",
      "        |1 1|\n",
      "        \n"
     ]
    },
    {
     "data": {
      "text/plain": [
       "[]"
      ]
     },
     "execution_count": 15,
     "metadata": {},
     "output_type": "execute_result"
    }
   ],
   "source": [
    "st.drop2h(1)"
   ]
  },
  {
   "cell_type": "markdown",
   "metadata": {},
   "source": [
    "In the game Tetris, when a row becomes completely filled it disappears. So if we drop a `1-block` to the leftmost column, the mid line should be removed. \n",
    "\n",
    "**NOTE**: The messages on the console are just debug print, the function `drop1` only returns the extracted line `[1,2,2]`:"
   ]
  },
  {
   "cell_type": "code",
   "execution_count": 16,
   "metadata": {},
   "outputs": [
    {
     "name": "stdout",
     "output_type": "stream",
     "text": [
      "DEBUG:  Stacktris: \n",
      "        | 22|\n",
      "        |122|\n",
      "        |1 1|\n",
      "        \n",
      "DEBUG:  POPPING [1, 2, 2]\n",
      "DEBUG:  Stacktris: \n",
      "        | 22|\n",
      "        |1 1|\n",
      "        \n"
     ]
    },
    {
     "data": {
      "text/plain": [
       "[1, 2, 2]"
      ]
     },
     "execution_count": 16,
     "metadata": {},
     "output_type": "execute_result"
    }
   ],
   "source": [
    "st.drop1(0)"
   ]
  },
  {
   "cell_type": "markdown",
   "metadata": {},
   "source": [
    "Now we insert another `2-block` starting at `j=0`. It will fall upon the previously laid one: "
   ]
  },
  {
   "cell_type": "code",
   "execution_count": 17,
   "metadata": {},
   "outputs": [
    {
     "name": "stdout",
     "output_type": "stream",
     "text": [
      "DEBUG:  Stacktris: \n",
      "        |22 |\n",
      "        | 22|\n",
      "        |1 1|\n",
      "        \n"
     ]
    },
    {
     "data": {
      "text/plain": [
       "[]"
      ]
     },
     "execution_count": 17,
     "metadata": {},
     "output_type": "execute_result"
    }
   ],
   "source": [
    "st.drop2h(0)"
   ]
  },
  {
   "cell_type": "markdown",
   "metadata": {},
   "source": [
    "We can complete teh topmost row by dropping a `1-block` to the rightmost column. As a result, the row will be removed from the stack and the row will be returned by the call to `drop1`:"
   ]
  },
  {
   "cell_type": "code",
   "execution_count": 18,
   "metadata": {},
   "outputs": [
    {
     "name": "stdout",
     "output_type": "stream",
     "text": [
      "DEBUG:  Stacktris: \n",
      "        |221|\n",
      "        | 22|\n",
      "        |1 1|\n",
      "        \n",
      "DEBUG:  POPPING [2, 2, 1]\n",
      "DEBUG:  Stacktris: \n",
      "        | 22|\n",
      "        |1 1|\n",
      "        \n"
     ]
    },
    {
     "data": {
      "text/plain": [
       "[2, 2, 1]"
      ]
     },
     "execution_count": 18,
     "metadata": {},
     "output_type": "execute_result"
    }
   ],
   "source": [
    "st.drop1(2)"
   ]
  },
  {
   "cell_type": "markdown",
   "metadata": {},
   "source": [
    "Another line completion with a `drop1` at column `j=0`:"
   ]
  },
  {
   "cell_type": "code",
   "execution_count": 19,
   "metadata": {},
   "outputs": [
    {
     "name": "stdout",
     "output_type": "stream",
     "text": [
      "DEBUG:  Stacktris: \n",
      "        |122|\n",
      "        |1 1|\n",
      "        \n",
      "DEBUG:  POPPING [1, 2, 2]\n",
      "DEBUG:  Stacktris: \n",
      "        |1 1|\n",
      "        \n"
     ]
    },
    {
     "data": {
      "text/plain": [
       "[1, 2, 2]"
      ]
     },
     "execution_count": 19,
     "metadata": {},
     "output_type": "execute_result"
    }
   ],
   "source": [
    "st.drop1(0)"
   ]
  },
  {
   "cell_type": "markdown",
   "metadata": {},
   "source": [
    "We can finally empty the Stacktris by dropping a `1-block` in the mod column:"
   ]
  },
  {
   "cell_type": "code",
   "execution_count": 20,
   "metadata": {},
   "outputs": [
    {
     "name": "stdout",
     "output_type": "stream",
     "text": [
      "DEBUG:  Stacktris: \n",
      "        |111|\n",
      "        \n",
      "DEBUG:  POPPING [1, 1, 1]\n",
      "DEBUG:  Stacktris: \n",
      "        EMPTY\n"
     ]
    },
    {
     "data": {
      "text/plain": [
       "[1, 1, 1]"
      ]
     },
     "execution_count": 20,
     "metadata": {},
     "output_type": "execute_result"
    }
   ],
   "source": [
    "st.drop1(1)"
   ]
  },
  {
   "cell_type": "markdown",
   "metadata": {},
   "source": [
    "### B3.1 _shorten\n",
    "\n",
    "Start by implementing this private method:\n",
    "\n",
    "```python\n",
    "    def _shorten(self):      \n",
    "        \"\"\" Scans the Stacktris from top to bottom searching for a completely filled line:\n",
    "            - if found, remove it from the Stacktris and return it as a list.\n",
    "            - if not found, return an empty list.\n",
    "        \"\"\"\n",
    "```\n",
    "If you wish, you can add debug prints but they are not mandatory\n",
    "\n",
    "**Testing**: `python3 -m unittest stacktris_test.ShortenTest`"
   ]
  },
  {
   "cell_type": "markdown",
   "metadata": {},
   "source": [
    "### B3.2 drop1\n",
    "\n",
    "Once you are done with the previous function, implement `drop1` method:\n",
    "\n",
    "**NOTE**: In the implementation, feel free to call the previously implemented `_shorten` method.\n",
    "\n",
    "```python\n",
    "    def drop1(self, j):\n",
    "        \"\"\" Drops a 1-block on column j. \n",
    "        \n",
    "             - If another block is found,  place the 1-block on top of that block,\n",
    "               otherwise place it on the ground.\n",
    "\n",
    "            - If, after the 1-block is placed, a row results completely filled, removes \n",
    "              the row and RETURN it. Otherwise, RETURN an empty list.\n",
    "\n",
    "            - if index `j` is outside bounds, raises ValueError\n",
    "        \"\"\"        \n",
    "\n",
    "```\n",
    "\n",
    "**Testing**: `python3 -m unittest stacktris_test.Drop1Test`"
   ]
  },
  {
   "cell_type": "markdown",
   "metadata": {},
   "source": [
    "### B3.3 drop2h\n",
    "\n",
    "Once you are done with the previous function, implement `drop2` method:\n",
    "\n",
    "\n",
    "```python\n",
    "\n",
    "    def drop2h(self, j):\n",
    "        \"\"\" Drops a 2-block horizontally with left block on column j, \n",
    "\n",
    "             - If another block is found,  place the 2-block on top of that block,\n",
    "               otherwise place it on the ground.\n",
    "\n",
    "            - If, after the 2-block is placed, a row results completely filled, \n",
    "              removes the row and RETURN it. Otherwise, RETURN an empty list.        \n",
    "        \n",
    "            - if index `j` is outside bounds, raises ValueError\n",
    "        \"\"\"        \n",
    "```\n",
    "\n",
    "**Testing**: `python3 -m unittest stacktris_test.Drop2hTest`"
   ]
  },
  {
   "cell_type": "code",
   "execution_count": 21,
   "metadata": {
    "nbsphinx": "hidden"
   },
   "outputs": [
    {
     "name": "stderr",
     "output_type": "stream",
     "text": [
      "....................\n",
      "----------------------------------------------------------------------\n",
      "Ran 20 tests in 0.013s\n",
      "\n",
      "OK\n",
      "................................\n",
      "----------------------------------------------------------------------\n",
      "Ran 32 tests in 0.020s\n",
      "\n",
      "OK\n"
     ]
    }
   ],
   "source": [
    "#jupman-strip\n",
    "import linked_sort_test \n",
    "jupman.run(linked_sort_test)\n",
    "\n",
    "import stacktris_solution\n",
    "import stacktris_test\n",
    "stacktris_solution.DEBUG = False\n",
    "jupman.run(stacktris_test)\n",
    "#/jupman-strip"
   ]
  },
  {
   "cell_type": "code",
   "execution_count": null,
   "metadata": {},
   "outputs": [],
   "source": []
  }
 ],
 "metadata": {
  "celltoolbar": "Edit Metadata",
  "kernelspec": {
   "display_name": "Python 3",
   "language": "python",
   "name": "python3"
  },
  "language_info": {
   "codemirror_mode": {
    "name": "ipython",
    "version": 3
   },
   "file_extension": ".py",
   "mimetype": "text/x-python",
   "name": "python",
   "nbconvert_exporter": "python",
   "pygments_lexer": "ipython3",
   "version": "3.7.3"
  },
  "toc": {
   "base_numbering": 1,
   "nav_menu": {},
   "number_sections": false,
   "sideBar": true,
   "skip_h1_title": false,
   "title_cell": "Table of Contents",
   "title_sidebar": "Contents",
   "toc_cell": false,
   "toc_position": {},
   "toc_section_display": true,
   "toc_window_display": true
  }
 },
 "nbformat": 4,
 "nbformat_minor": 1
}
