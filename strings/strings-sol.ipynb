{
 "cells": [
  {
   "cell_type": "markdown",
   "metadata": {},
   "source": [
    "# Strings solutions\n",
    "\n",
    "## [Download exercises zip](../_static/generated/strings.zip)\n",
    "\n",
    "[Browse files online](https://github.com/DavidLeoni/sciprog-ds/tree/master/strings)\n",
    "\n",
    "\n",
    "\n"
   ]
  },
  {
   "cell_type": "markdown",
   "metadata": {},
   "source": [
    "\n",
    "## What to do\n",
    "\n",
    "- unzip exercises in a folder, you should get something like this: \n",
    "\n",
    "```\n",
    "\n",
    "-jupman.py\n",
    "-my_lib.py\n",
    "-other stuff ...\n",
    "-exercises\n",
    "     |- lists\n",
    "         |- strings.ipynb     \n",
    "         |- strings-sol.ipynb\n",
    "         |- other stuff ..\n",
    "```\n",
    "\n",
    "<div class=\"alert alert-warning\">\n",
    "\n",
    "**WARNING 1**: to correctly visualize the notebook, it MUST be in an unzipped folder !\n",
    "</div>\n",
    "\n",
    "\n",
    "- open Jupyter Notebook from that folder. Two things should open, first a console and then browser. The browser should show a file list: navigate the list and open the notebook `strings/strings.ipynb`\n",
    "\n",
    "<div class=\"alert alert-warning\">\n",
    "\n",
    "**WARNING 2**: DO NOT use the _Upload_ button in Jupyter, instead navigate to the unzipped folder while in Jupyter browser!\n",
    "</div>\n",
    "\n",
    "\n",
    "- Go on reading that notebook, and follow instuctions inside.\n",
    "\n",
    "\n",
    "Shortcut keys:\n",
    "\n",
    "- to execute Python code inside a Jupyter cell, press `Control + Enter`\n",
    "- to execute Python code inside a Jupyter cell AND select next cell, press `Shift + Enter`\n",
    "- to execute Python code inside a Jupyter cell AND a create a new cell aftwerwards, press `Alt + Enter`\n",
    "- If the notebooks look stuck, try to select `Kernel -> Restart`\n",
    "\n",
    "\n",
    "\n"
   ]
  },
  {
   "cell_type": "markdown",
   "metadata": {},
   "source": [
    "## Introduction\n",
    "\n",
    "**References**: \n",
    "\n",
    "- [Andrea Passerini slides A02 - datastructures](http://disi.unitn.it/~passerini/teaching/2019-2020/sci-pro/slides/A02-datastructures.pdf)\n",
    "- [Think Python, Chapter 8, Strings](http://greenteapress.com/thinkpython2/html/thinkpython2009.html)\n",
    "- [Think Python, Chapter 9, word play](http://greenteapress.com/thinkpython2/html/thinkpython2010.html)\n",
    "- _extra_ if you want to do _text mining_:\n",
    "    - Read before first part on Unicode encoding [from chapter Strings in book Dive into Python](https://diveintopython3.problemsolving.io/strings.html)\n",
    "    - Look at [NLTK library](https://www.nltk.org/)\n",
    "\n",
    "\n",
    "Strings are **immutable objects** (note the actual type is **str**) used by python to handle text data. Strings are sequences of *unicode code points* that can represent characters, but also formatting information (e.g. '\\\\n' for new line). Unlike other programming languages, python does not have the data type character, which is represented as a string of length 1.\n",
    "\n",
    "There are several ways to define a string:\n"
   ]
  },
  {
   "cell_type": "code",
   "execution_count": 1,
   "metadata": {},
   "outputs": [
    {
     "name": "stdout",
     "output_type": "stream",
     "text": [
      "my first string, in double quotes \n",
      "\n",
      "my second string, in single quotes \n",
      "\n",
      "my third string is \n",
      "in triple quotes\n",
      "therefore it can span several lines \n",
      "\n",
      "my fourth string, in triple double-quotes\n",
      "can also span\n",
      "several lines \n",
      "\n"
     ]
    }
   ],
   "source": [
    "S = \"my first string, in double quotes\"\n",
    "\n",
    "S1 = 'my second string, in single quotes'\n",
    "\n",
    "S2 = '''my third string is \n",
    "in triple quotes\n",
    "therefore it can span several lines'''\n",
    "\n",
    "S3 = \"\"\"my fourth string, in triple double-quotes\n",
    "can also span\n",
    "several lines\"\"\"\n",
    "\n",
    "print(S, '\\n') #let's add a new line at the end of the string with \\n\n",
    "print(S1,'\\n')\n",
    "print(S2, '\\n')\n",
    "print(S3, '\\n')"
   ]
  },
  {
   "cell_type": "markdown",
   "metadata": {},
   "source": [
    "To put special characters like ',\" and so on you need to \"escape them\" (i.e. write them following a back-slash).\n",
    "\n",
    "![escapes ioi4o3](img/escapes.png)\n",
    "\n",
    "**Example**:\n",
    "Let's print a string containing a quote and double quote (i.e. ' and \")."
   ]
  },
  {
   "cell_type": "code",
   "execution_count": 2,
   "metadata": {},
   "outputs": [
    {
     "name": "stdout",
     "output_type": "stream",
     "text": [
      "This is how I 'quote' and \"double quote\" things in strings\n"
     ]
    }
   ],
   "source": [
    "myString = \"This is how I \\'quote\\' and \\\"double quote\\\" things in strings\"\n",
    "print(myString)"
   ]
  },
  {
   "cell_type": "markdown",
   "metadata": {},
   "source": [
    "Strings can be converted to and from numbers with the functions ```str()```, ```int()``` or ```float()```.\n",
    "\n",
    "**Example**:\n",
    "Let's define a string *myString* with the value \"47001\" and convert it into an `int`. Try adding one and print the result."
   ]
  },
  {
   "cell_type": "code",
   "execution_count": 3,
   "metadata": {},
   "outputs": [
    {
     "name": "stdout",
     "output_type": "stream",
     "text": [
      "47001  has type  <class 'str'>\n",
      "47001  has type  <class 'int'>\n",
      "47008\n",
      "4700177\n"
     ]
    }
   ],
   "source": [
    "my_string = \"47001\"\n",
    "print(my_string, \" has type \", type(my_string))\n",
    "\n",
    "my_int = int(my_string)\n",
    "\n",
    "print(my_int, \" has type \", type(my_int))\n",
    "\n",
    "my_int = my_int + 7   #adds seven\n",
    "\n",
    "my_string = my_string + \"7\" # cannot add 7 (we need to use a string). \n",
    "                            # This will append 7 at the end of the string\n",
    "\n",
    "#my_string = my_string + 7 # CANNOT DO THIS, python will complain about concatenating a stirng to a different type, \n",
    "                           #                in this case an int\n",
    "    \n",
    "my_string = my_string + str(7) # this works, I have to force before the conversion of inter to string.\n",
    "                             \n",
    "\n",
    "print(my_int)\n",
    "print(my_string)"
   ]
  },
  {
   "cell_type": "markdown",
   "metadata": {},
   "source": [
    "Python defines some operators to work with strings. Recall the slides shown during the lecture:\n",
    "\n",
    "![string operators kj43j4](img/stringoperators.png)\n"
   ]
  },
  {
   "cell_type": "markdown",
   "metadata": {},
   "source": [
    "### Exercise: many hello\n",
    "\n",
    "Look at the table above. Given the string `x = \"hello\"`, print a string with  `\"hello\"` repeated 5 times: `\"hellohellohellohellohello\"`. Your code must work with any string stored in the variable `x`\n"
   ]
  },
  {
   "cell_type": "code",
   "execution_count": 4,
   "metadata": {},
   "outputs": [
    {
     "name": "stdout",
     "output_type": "stream",
     "text": [
      "hellohellohellohellohello\n"
     ]
    }
   ],
   "source": [
    "x = \"hello\"\n",
    "\n",
    "# write here\n",
    "\n",
    "print(\"hello\"*5)"
   ]
  },
  {
   "cell_type": "markdown",
   "metadata": {},
   "source": [
    "### Exercise: interleave terns\n",
    "\n",
    "Given two strings which both have length `3`, print a string which interleaves characters from both strings. Your code should work for any string of such lenght.\n",
    "\n",
    "Example:\n",
    "\n",
    "Given \n",
    "```python\n",
    "x=\"say\"\n",
    "y=\"hi!\"\n",
    "```\n",
    "should print\n",
    "```\n",
    "shaiy!\n",
    "```"
   ]
  },
  {
   "cell_type": "code",
   "execution_count": 5,
   "metadata": {},
   "outputs": [
    {
     "name": "stdout",
     "output_type": "stream",
     "text": [
      "shaiy!\n"
     ]
    }
   ],
   "source": [
    "# write here\n",
    "\n",
    "x=\"say\"\n",
    "y=\"hi!\"\n",
    "print(x[0] + y[0] + x[1] + y[1] + x[2] + y[2])"
   ]
  },
  {
   "cell_type": "markdown",
   "metadata": {},
   "source": [
    "### Exercise: print length\n",
    "\n",
    "Write some code that given a string `x`, prints the content of the string followed by its length. Your code should work for any content of the variable `x`.\n",
    "\n",
    "Example:\n",
    "\n",
    "Given\n",
    "\n",
    "```python\n",
    "x = 'howdy'\n",
    "```\n",
    "\n",
    "should print\n",
    "\n",
    "```bash\n",
    "howdy5\n",
    "```"
   ]
  },
  {
   "cell_type": "code",
   "execution_count": 6,
   "metadata": {},
   "outputs": [
    {
     "name": "stdout",
     "output_type": "stream",
     "text": [
      "howdy5\n"
     ]
    }
   ],
   "source": [
    "# write here\n",
    "\n",
    "x = 'howdy'\n",
    "print(x + str(len(x)))"
   ]
  },
  {
   "cell_type": "markdown",
   "metadata": {},
   "source": [
    "### Exercise: both contained\n",
    "\n",
    "\n"
   ]
  },
  {
   "cell_type": "markdown",
   "metadata": {},
   "source": [
    "You are given two strings `x` and `y`, and a third one `z`. Write some code that prints `True` if  `x` and `y` are contained in `z`.\n",
    "\n",
    "For example, \n",
    "\n",
    "Given\n",
    "\n",
    "```python\n",
    "x = 'cad'\n",
    "y = 'ra'\n",
    "z = 'abracadabra'\n",
    "```\n",
    "it should print\n",
    "\n",
    "```bash\n",
    "True\n",
    "```\n",
    "\n",
    "```python\n",
    "x = 'zam'\n",
    "y = 'ra'\n",
    "z = 'abracadabra'\n",
    "```\n",
    "it should print\n",
    "\n",
    "```bash\n",
    "False\n",
    "```\n",
    "\n"
   ]
  },
  {
   "cell_type": "code",
   "execution_count": 7,
   "metadata": {},
   "outputs": [
    {
     "name": "stdout",
     "output_type": "stream",
     "text": [
      "True\n"
     ]
    }
   ],
   "source": [
    "# write here\n",
    "\n",
    "x = 'cad'\n",
    "y = 'ra'\n",
    "z = 'abracadabra'\n",
    "\n",
    "\n",
    "print((x in z) and (y in z))"
   ]
  },
  {
   "cell_type": "markdown",
   "metadata": {},
   "source": [
    "### Slicing"
   ]
  },
  {
   "cell_type": "markdown",
   "metadata": {},
   "source": [
    "We can access strings at specific positions (indexing) or get a substring starting from a position S to a position E. The only thing to remember is that numbering starts from 0. The```i```-th character of a string can be accessed as ```str[i-1]```. Substrings can be accessed as ```str[S:E]```, optionally a third parameter can be specified to set the step (i.e. ```str[S:E:STEP]```). \n",
    "\n",
    "<div class=\"alert alert-warning\">\n",
    "\n",
    "**Important note.**\n",
    "Remember that when you do str[S:E], **S is inclusive, while E is exclusive** (see S[0:6] below).\n",
    "\n",
    "</div>\n",
    "\n",
    "\n",
    "![slicing string 9898juu](img/slicingstring.png)\n",
    "\n",
    "Let's see these aspects in action with an example:"
   ]
  },
  {
   "cell_type": "code",
   "execution_count": 8,
   "metadata": {},
   "outputs": [
    {
     "name": "stdout",
     "output_type": "stream",
     "text": [
      "Luther College\n",
      "True\n",
      "L\n",
      "h\n",
      "e\n",
      "Luther\n",
      "College\n",
      "Lte olg\n",
      "uhrClee\n"
     ]
    }
   ],
   "source": [
    "S = \"Luther College\"\n",
    "\n",
    "print(S) #print the whole string\n",
    "print(S == S[:]) #a fancy way of making a copy of the original string\n",
    "print(S[0]) #first character\n",
    "print(S[3]) #fourth character\n",
    "print(S[-1]) #last character\n",
    "print(S[0:6]) #first six characters\n",
    "print(S[-7:]) #final seven characters\n",
    "print(S[0:len(S):2]) #every other character starting from the first\n",
    "print(S[1:len(S):2]) #every other character starting from the second"
   ]
  },
  {
   "cell_type": "markdown",
   "metadata": {},
   "source": [
    "### Exercise: garalampog\n",
    "\n",
    "Write some code to extract and print `alam` from the string `\"garalampog\"`. Try to correctly guess indeces."
   ]
  },
  {
   "cell_type": "code",
   "execution_count": 9,
   "metadata": {},
   "outputs": [
    {
     "name": "stdout",
     "output_type": "stream",
     "text": [
      "alam\n"
     ]
    }
   ],
   "source": [
    "x = \"garalampog\"\n",
    "# write here\n",
    "\n",
    "#      0123456789\n",
    "print(x[3:7])\n"
   ]
  },
  {
   "cell_type": "markdown",
   "metadata": {},
   "source": [
    "### Exercise: ifE\\te\\nfav  lkD lkWe\n",
    "\n",
    "Write some code to extract and print `kS` from the string `\"ifE\\te\\nfav  lkD lkWe\"`. Mind the spaces and special characters (you might want to print `x` first). Try to correctly guess indeces."
   ]
  },
  {
   "cell_type": "code",
   "execution_count": 10,
   "metadata": {},
   "outputs": [
    {
     "name": "stdout",
     "output_type": "stream",
     "text": [
      "kD\n"
     ]
    }
   ],
   "source": [
    "x = \"ifE\\te\\nfav  lkD lkWe\"\n",
    "\n",
    "# write here\n",
    "\n",
    "#     0123 45 67890123456789\n",
    "#x = \"ifE\\te\\nfav  lkD lkWe\"\n",
    "\n",
    "print(x[12:14])"
   ]
  },
  {
   "cell_type": "markdown",
   "metadata": {},
   "source": [
    "### Exercise: javarnanda\n",
    "\n",
    "Given a string `x`, write some code to extract and print its last 3 characters and join them to the first 3. Code should work for any string of length at least 3.\n",
    "\n",
    "Example:\n",
    "\n",
    "Given\n",
    "\n",
    "```python\n",
    "x = \"javarnanda\"\n",
    "```\n",
    "\n",
    "it should print\n",
    "\n",
    "```bash\n",
    "javnda\n",
    "```\n",
    "\n",
    "Given\n",
    "\n",
    "```python\n",
    "x = \"abcd\"\n",
    "```\n",
    "\n",
    "it should print\n",
    "\n",
    "```bash\n",
    "abcbcd\n",
    "```"
   ]
  },
  {
   "cell_type": "code",
   "execution_count": 11,
   "metadata": {},
   "outputs": [
    {
     "name": "stdout",
     "output_type": "stream",
     "text": [
      "abcbcd\n"
     ]
    }
   ],
   "source": [
    "# write here\n",
    "\n",
    "x = \"abcd\"\n",
    "print(x[:3] + x[-3:])"
   ]
  },
  {
   "cell_type": "markdown",
   "metadata": {},
   "source": [
    "### Methods for the str object\n",
    "\n",
    "The object ```str``` has some methods that can be applied to it (remember methods are things you can do on objects). Recall from the lecture that the main methods are:\n",
    "\n",
    "![str methods kjiu49](img/strmethods.png)"
   ]
  },
  {
   "cell_type": "markdown",
   "metadata": {},
   "source": [
    "<div class=\"alert alert-warning\">\n",
    "**ATTENTION**:\n",
    "Since Strings are immutable, every operation that changes the string actually produces a new *str* object  having the modified string as value. \n",
    "</div>"
   ]
  },
  {
   "cell_type": "markdown",
   "metadata": {},
   "source": [
    "**Example**"
   ]
  },
  {
   "cell_type": "code",
   "execution_count": 12,
   "metadata": {},
   "outputs": [
    {
     "name": "stdout",
     "output_type": "stream",
     "text": [
      "CIAO\n"
     ]
    }
   ],
   "source": [
    "my_string = \"ciao\"\n",
    "\n",
    "anotherstring = my_string.upper()\n",
    "\n",
    "print(anotherstring)\n"
   ]
  },
  {
   "cell_type": "code",
   "execution_count": 13,
   "metadata": {},
   "outputs": [
    {
     "name": "stdout",
     "output_type": "stream",
     "text": [
      "ciao\n"
     ]
    }
   ],
   "source": [
    "print(my_string)  # didn't change"
   ]
  },
  {
   "cell_type": "markdown",
   "metadata": {},
   "source": [
    "If you are unsure about a method (for example `strip`), you can ask python help like this:\n",
    "    \n",
    "**NOTICE** there are no round parenthesis after the method !!!\n"
   ]
  },
  {
   "cell_type": "code",
   "execution_count": 14,
   "metadata": {},
   "outputs": [
    {
     "name": "stdout",
     "output_type": "stream",
     "text": [
      "Help on built-in function strip:\n",
      "\n",
      "strip(...) method of builtins.str instance\n",
      "    S.strip([chars]) -> str\n",
      "    \n",
      "    Return a copy of the string S with leading and trailing\n",
      "    whitespace removed.\n",
      "    If chars is given and not None, remove characters in chars instead.\n",
      "\n"
     ]
    }
   ],
   "source": [
    "help(\"ciao\".strip)\n"
   ]
  },
  {
   "cell_type": "markdown",
   "metadata": {},
   "source": [
    "### Exercise substitute\n",
    "\n",
    "Given a string `x`, write some code to print a string like `x` but with all occurrences of `bab` substituted by `dada`"
   ]
  },
  {
   "cell_type": "markdown",
   "metadata": {},
   "source": [
    "Example:\n",
    "\n",
    "Given \n",
    "\n",
    "```python\n",
    "x = 'kljsfsdbabòkkrbabej'\n",
    "```\n",
    "\n",
    "it should print\n",
    "\n",
    "```bash\n",
    "kljsfsddadaòkkrdadaej\n",
    "```\n",
    "\n"
   ]
  },
  {
   "cell_type": "code",
   "execution_count": 15,
   "metadata": {},
   "outputs": [
    {
     "name": "stdout",
     "output_type": "stream",
     "text": [
      "kljsfsddadaòkkrdadaej\n"
     ]
    }
   ],
   "source": [
    "# write here\n",
    "\n",
    "x = 'kljsfsdbabòkkrbabej'\n",
    "print(x.replace('bab', 'dada'))"
   ]
  },
  {
   "cell_type": "markdown",
   "metadata": {},
   "source": [
    "### Exercise hatespace\n",
    "\n",
    "Given a string `x` which may contain blanks ( spaces,  special controls characters such as `\\t` and `n`, ...) at the beginning and end, write some code that prints the string without the blanks and the strings `START` and `END` at the extremities. \n",
    "\n",
    "Example:\n",
    "\n",
    "Given \n",
    "\n",
    "```python\n",
    "x = ' \\t  \\n \\n hatespace\\n   \\t \\n'\n",
    "```\n",
    "\n",
    "prints\n",
    "\n",
    "```\n",
    "STARThatespaceEND\n",
    "```\n"
   ]
  },
  {
   "cell_type": "code",
   "execution_count": 16,
   "metadata": {},
   "outputs": [
    {
     "name": "stdout",
     "output_type": "stream",
     "text": [
      "STARThatespaceEND\n"
     ]
    }
   ],
   "source": [
    "# write here\n",
    "\n",
    "x = ' \\t  \\n \\n hatespace\\n   \\t \\n'\n",
    "\n",
    "print('START' + x.strip() + 'END')"
   ]
  },
  {
   "cell_type": "markdown",
   "metadata": {},
   "source": [
    "## Exercises with functions\n",
    "\n",
    "\n",
    "<div class=\"alert alert-warning\">\n",
    "\n",
    "**ATTENTION**\n",
    "\n",
    "Following exercises require you to know:\n",
    "\n",
    "<ul>\n",
    "<li>Complex statements: [Andrea Passerini slides A03](http://disi.unitn.it/~passerini/teaching/2019-2020/sci-pro/slides/A03-controlflow.pdf)</li>\n",
    "<li>\n",
    "Functions: [Andrea Passerini slides A04](http://disi.unitn.it/~passerini/teaching/2019-2020/sci-pro/slides/A04-functions.pdf)</li>\n",
    "</ul>\n",
    "</div>\n"
   ]
  },
  {
   "cell_type": "markdown",
   "metadata": {},
   "source": [
    "### length\n",
    "\n",
    "✪ a. Write a function `length1(s)` in which, given a string, RETURN the length of the string. Use `len` function. For example, with `\"ciao\"` string your function should return `4` while with `\"hi\"` it should return `2`\n",
    "\n",
    "```python\n",
    ">>> x = length1(\"ciao\")\n",
    ">>> x\n",
    "4\n",
    "```\n",
    "\n",
    "✪ b. Write a function `length2` that like before calculates the string length, this time without using `len` (instead, use a `for` cycle)\n",
    "\n",
    "```python\n",
    ">>> y = length2(\"mondo\")\n",
    ">>> y\n",
    "5\n",
    "```"
   ]
  },
  {
   "cell_type": "code",
   "execution_count": 17,
   "metadata": {},
   "outputs": [],
   "source": [
    "# write here\n",
    "\n",
    "# version with len, faster because python with a string always mantains in memory \n",
    "# the number of length immediately available\n",
    "\n",
    "def length1(s):\n",
    "    return len(s)\n",
    "\n",
    "# version with counter, slower\n",
    "def length2(s):\n",
    "    counter = 0\n",
    "    for character in s:\n",
    "        counter = counter + 1\n",
    "    return counter\n"
   ]
  },
  {
   "cell_type": "markdown",
   "metadata": {},
   "source": [
    "### contains\n",
    "\n",
    "✪ Write the function `contains(word, character)`, which RETURN  `True` is the string contains the given character, otherwise RETURN `False` \n",
    "    \n",
    "- Use `in` operator\n",
    "\n",
    "\n",
    "\n",
    "```python\n",
    ">>> x = contains('ciao', 'a')\n",
    ">>> x\n",
    "True\n",
    ">>> y = contains('ciao', 'z')\n",
    ">>> y\n",
    "False\n",
    "```"
   ]
  },
  {
   "cell_type": "code",
   "execution_count": 18,
   "metadata": {},
   "outputs": [],
   "source": [
    "# write here\n",
    "\n",
    "def contains(word, character):\n",
    "    return character in word\n"
   ]
  },
  {
   "cell_type": "markdown",
   "metadata": {},
   "source": [
    "### invertilet\n",
    "\n",
    "✪ Write the function `invertilet(first, second)` which takes in input two strings of length greater than 3, and RETURN a nnew string in which the words are concataned and separated by a space, the last two characters in the words are inverted. For example, if you pass in input `'ciao'` and `'world'`, the function should RETURN `'ciad worlo'`\n",
    "\n",
    "If the two strings are not of adequate length, the program PRINTS _error!_\n",
    "\n",
    "HINT: use  _slices_\n",
    "\n",
    "NOTE 1: PRINTing is different from RETURNing !!! Whatever gets printed is shown to the user but Python cannot reuse it for calculations.\n",
    "\n",
    "NOTE 2: if a function does not explicitly return anything, Python implicitly returns `None`. \n",
    "\n",
    "NOTE 3: Resorting to prints on error conditions is not actually good practice, here we use it as invitation to think about what happens when you print something and do not return anything. You can read a discussion about it in [Errors handling and testing page](https://sciprog.davidleoni.it/errors-and-testing/errors-and-testing-sol.html#Unforeseen-situations)\n",
    "\n",
    "\n",
    "```python\n",
    ">>> x = invertilet(\"ciao\", \"world\")\n",
    ">>> x\n",
    "'ciad worlo'\n",
    ">>> x = invertilet('hi','mondo')\n",
    "'errore!'\n",
    ">>> x\n",
    "None\n",
    ">>> x = invertilet('cirippo', 'bla')\n",
    "'errore!'\n",
    ">>> x\n",
    "None\n",
    "```"
   ]
  },
  {
   "cell_type": "code",
   "execution_count": 19,
   "metadata": {},
   "outputs": [],
   "source": [
    "# write here\n",
    "\n",
    "def invertilet(first,second):\n",
    "    if len(first) <= 3 or len(second) <=3:\n",
    "        print(\"errore!\")\n",
    "    else:\n",
    "        return first[:-1] + second[-1] + \" \" + second[:-1] + first[-1]\n"
   ]
  },
  {
   "cell_type": "markdown",
   "metadata": {},
   "source": [
    "### nspace\n",
    "\n",
    "✪ Write the function `nspace` that given a string `s` in input, RETURN a new string in which the `n`-character is a space. \n",
    "\n",
    "For example, given the string `'largamente'` and the index `5`, the program should RETURN the string `'larga ente'`. NOTE: if the number is too big (for example, the word has 6 characters and you pass the number 9), the program PRINTS _error!_.\n",
    "\n",
    "NOTE 1: if the number is too big (for example, the word has 6 character and you pass the number 9), the program PRINTS _error!_.\n",
    "\n",
    "NOTE 2: PRINTing is different from RETURNing !!! Whatever gets printed is shown to the user but Python cannot reuse it for other calculations.\n",
    "\n",
    "NOTE 3: Resorting to prints on error conditions is not actually a good practice, here we use it as invitation to think about what happens when you print something and do not return anything. You can read a discussion about it in [Errors handling and testing page](https://sciprog.davidleoni.it/errors-and-testing/errors-and-testing-sol.html#Unforeseen-situations)\n",
    "\n",
    "\n",
    "```python\n",
    ">>> x = nspazio('largamente', 5)\n",
    ">>> x\n",
    "'larga ente'\n",
    "\n",
    ">>> x = nspazio('ciao', 9)\n",
    "errore!\n",
    ">>> x\n",
    "None\n",
    "\n",
    ">>> x = nspazio('ciao', 4)\n",
    "errore!\n",
    ">>> x\n",
    "None\n",
    "```"
   ]
  },
  {
   "cell_type": "code",
   "execution_count": 20,
   "metadata": {},
   "outputs": [],
   "source": [
    "# write here\n",
    "\n",
    "def nspace(word, index):\n",
    "    if index >= len(word):\n",
    "        print(\"error!\")\n",
    "    return word[:index] + ' ' + word[index+1:]\n",
    "\n",
    "#nspace(\"largamente\", 5)"
   ]
  },
  {
   "cell_type": "markdown",
   "metadata": {},
   "source": [
    "### startend\n",
    "\n",
    "✪ Write a Python program which takes a string `s`, and if it  has a length greater than 4, the program PRINTS the first and last two characters, otherwise, PRINTS `I want at least 4 characters`. For example, by passing `\"ciaomondo\"`, the function should print `\"cido\"`. By passing `\"ciao\"` it should print `ciao` and by passing `\"hi\"` it should print `I want at least 4 characters`.\n",
    "\n",
    "\n",
    "```python\n",
    ">>> startend('ciaomondo')\n",
    "cido\n",
    "\n",
    ">>> startend('hi')\n",
    "Voglio almeno 4 caratteri\n",
    "```"
   ]
  },
  {
   "cell_type": "code",
   "execution_count": 21,
   "metadata": {},
   "outputs": [],
   "source": [
    "# write here\n",
    "\n",
    "def startend(s):\n",
    "    if len(s) >= 4:\n",
    "        print(s[:2] + s[-2:])\n",
    "    else:\n",
    "        print(\"I want at least 4 characters\")"
   ]
  },
  {
   "cell_type": "markdown",
   "metadata": {},
   "source": [
    "### swap\n",
    "\n",
    "Write a function that given a string, swaps the first and last character and PRINTS the result.\n",
    "\n",
    "For example, given the string `\"world\"`, the program will PRINT `'oondm'`\n",
    "\n",
    "```python\n",
    ">>> swap('mondo')\n",
    "oondm\n",
    "```"
   ]
  },
  {
   "cell_type": "code",
   "execution_count": 22,
   "metadata": {},
   "outputs": [],
   "source": [
    "# write here\n",
    "\n",
    "def swap(s):\n",
    "    print(s[-1] + s[1:-1] + s[0])"
   ]
  },
  {
   "cell_type": "markdown",
   "metadata": {},
   "source": [
    "## Verify comprehension\n",
    "\n",
    "\n",
    "<div class=\"alert alert-warning\">\n",
    "\n",
    "**ATTENTION**\n",
    "\n",
    "Following exercises require you to know:\n",
    "\n",
    "<ul>\n",
    "<li>Complex statements: [Andrea Passerini slides A03](http://disi.unitn.it/~passerini/teaching/2019-2020/sci-pro/slides/A03-controlflow.pdf)</li>\n",
    "<li>Functions: [Andrea Passerini slides A04](http://disi.unitn.it/~passerini/teaching/2019-2020/sci-pro/slides/A04-functions.pdf)</li>\n",
    "<li>[Tests with asserts](https://sciprog.davidleoni.it/errors-and-testing/errors-and-testing-sol.html#Testing-with-asserts): Following exercises contain automated tests to help you spot errors. To understand how to do them, read before [Error handling and testing](https://sciprog.davidleoni.it/errors-and-testing/errors-and-testing-sol.html)</li>\n",
    "</ul>\n",
    "</div>\n",
    "\n",
    "</div>"
   ]
  },
  {
   "cell_type": "markdown",
   "metadata": {},
   "source": [
    "### has_char\n",
    "\n",
    "✪ RETURN `True` if `word` contains `char`, `False` otherwise\n",
    "        \n",
    "- use `while` cycle (just for didactical purposes, using `in` would certainly be faster & shorter)"
   ]
  },
  {
   "cell_type": "code",
   "execution_count": 23,
   "metadata": {},
   "outputs": [],
   "source": [
    "def has_char(word, char):\n",
    "    #jupman-raise\n",
    "    index = 0     # initialize index\n",
    "    while index < len(word):\n",
    "        if word[index] == char:\n",
    "            return True   # we found the character, we can stop search\n",
    "        index += 1   # it is like writing index = index + 1\n",
    "    # if we arrive AFTER the while, there is only one reason:\n",
    "    # we found nothing, so we have to return False\n",
    "    return False\n",
    "    #/jupman-raise\n",
    "\n",
    "\n",
    "# TEST START - DO NOT TOUCH!      \n",
    "# if you wrote the whole code correct, and execute the cell, Python shouldn't raise `AssertionError`\n",
    "\n",
    "assert has_char(\"ciao\", 'a')\n",
    "assert not has_char(\"ciao\", 'A')\n",
    "assert has_char(\"ciao\", 'c') \n",
    "assert not has_char(\"\", 'a')\n",
    "assert not has_char(\"ciao\", 'z')\n",
    "\n",
    "# TEST END"
   ]
  },
  {
   "cell_type": "markdown",
   "metadata": {},
   "source": [
    "### count\n",
    "\n",
    "✪ RETURN the number of occurrences of `char` in `word`\n",
    "\n",
    "NOTE: I DO NOT WANT A PRINT, IT MUST *RETURN* THE VALUE !\n",
    "        \n",
    "- Use the cycle for in (just for didactical purposes, strings already provide a method to do it fast - which one?)"
   ]
  },
  {
   "cell_type": "code",
   "execution_count": 24,
   "metadata": {},
   "outputs": [],
   "source": [
    "\n",
    "def count(word, char):\n",
    "    #jupman-raise\n",
    "    occurrences = 0\n",
    "    for c in word:\n",
    "        #print(\"current character = \", char)    # debugging prints are allowed\n",
    "        if c == char:\n",
    "            #print(\"found occurrence !\")    # debugging prints are allowed\n",
    "            occurrences += 1\n",
    "    return occurrences     # THE IMPORTANT IS TO _RETURN_ THE VALUE AS THE EXERCISE TEXT REQUIRES !!\n",
    "    #/jupman-raise\n",
    "    \n",
    "# TEST START - DO NOT TOUCH!      \n",
    "# if you wrote the whole code correct, and execute the cell, Python shouldn't raise `AssertionError`\n",
    "\n",
    "assert count(\"ciao\", \"z\") == 0 \n",
    "assert count(\"ciao\", \"c\") == 1\n",
    "assert count(\"babbo\", \"b\") == 3\n",
    "assert count(\"\", \"b\") == 0\n",
    "assert count(\"ciao\", \"C\") == 0 \n",
    "# TEST END"
   ]
  },
  {
   "cell_type": "markdown",
   "metadata": {},
   "source": [
    "### dialect\n",
    "\n",
    "✪✪ There exist a dialect in which all the `\"a\"` must be always preceded by a `\"g\"`. In case a word contains an `\"a\"` _not_ preceded by a `\"g\"`, we can say with certainty that this word _does not_ belong to the dialect. Write a function that given a word, RETURN `True` if the word respects the rules of the dialect, `False` otherwise.\n",
    "\n",
    "```python\n",
    ">>> dialect(\"ammot\")\n",
    "False\n",
    ">>> print(dialect(\"paganog\")\n",
    "False\n",
    ">>> print(dialect(\"pgaganog\")\n",
    "True\n",
    ">>> print(dialect(\"ciao\")\n",
    "False\n",
    ">>> dialect(\"cigao\")\n",
    "True\n",
    ">>> dialect(\"zogava\")\n",
    "False\n",
    ">>> dialect(\"zogavga\")\n",
    "True\n",
    "```"
   ]
  },
  {
   "cell_type": "code",
   "execution_count": 25,
   "metadata": {},
   "outputs": [],
   "source": [
    "\n",
    "\n",
    "def dialect(word):\n",
    "    #jupman-raise\n",
    "    n = 0\n",
    "    for i in range(0,len(word)):\n",
    "        if word[i] == \"a\":\n",
    "            if i == 0 or word[i - 1] != \"g\":\n",
    "                return False\n",
    "    return True\n",
    "    #/jupman-raise\n",
    "\n",
    "# TEST START - DO NOT TOUCH!      \n",
    "# if you wrote the whole code correct, and execute the cell, Python shouldn't raise `AssertionError`\n",
    "    \n",
    "assert dialect(\"a\") == False\n",
    "assert dialect(\"ab\") == False\n",
    "assert dialect(\"ag\") == False\n",
    "assert dialect(\"ag\") == False\n",
    "assert dialect(\"ga\") == True\n",
    "assert dialect(\"gga\") == True\n",
    "assert dialect(\"gag\") == True\n",
    "assert dialect(\"gaa\") == False\n",
    "assert dialect(\"gaga\") == True\n",
    "assert dialect(\"gabga\") == True\n",
    "assert dialect(\"gabgac\") == True\n",
    "assert dialect(\"gabbgac\") == True\n",
    "assert dialect(\"gabbgagag\") == True\n",
    "# TEST END"
   ]
  },
  {
   "cell_type": "markdown",
   "metadata": {},
   "source": [
    "### countvoc\n",
    "\n",
    "✪✪  Given a string, write a function that counts the number of vocals.\n",
    "If the vocals number is even, RETURN the number of vocals, otherwise raises exception `ValueError`\n",
    "\t\n",
    "```python        \n",
    ">>> countvoc(\"arco\")        \n",
    "2\n",
    ">>> count_voc(\"ciao\")\n",
    "---------------------------------------------------------------------------\n",
    "ValueError                                Traceback (most recent call last)\n",
    "<ipython-input-15-058310342431> in <module>()\n",
    "     16 countvoc(\"arco\")\n",
    "---> 19 countvoc(\"ciao\")\n",
    "\n",
    "ValueError: Odd vocals !\n",
    "```"
   ]
  },
  {
   "cell_type": "code",
   "execution_count": 26,
   "metadata": {},
   "outputs": [],
   "source": [
    "\n",
    "def countvoc(word):\n",
    "    #jupman-raise\n",
    "    n_vocals = 0\n",
    "\n",
    "    vocals = [\"a\",\"e\",\"i\",\"o\",\"u\"]\n",
    "\n",
    "    for char in word:\n",
    "        if char.lower() in vocals:\n",
    "            n_vocals = n_vocals + 1\n",
    "\n",
    "    if n_vocals % 2 == 0:\n",
    "        return n_vocals\n",
    "    else:\n",
    "        raise ValueError(\"Odd vocals !\")\n",
    "    #/jupman-raise\n",
    "        \n",
    "# TEST START - DO NOT TOUCH!      \n",
    "# if you wrote the whole code correct, and execute the cell, Python shouldn't raise `AssertionError`\n",
    "        \n",
    "assert countvoc(\"arco\") == 2\n",
    "assert countvoc(\"scaturire\") == 4\n",
    "\n",
    "try:\n",
    "    countvoc(\"ciao\")    # with this string we expect it raises exception ValueError\n",
    "    raise Exception(\"I shouldn't arrive until here !\")\n",
    "except ValueError:      # if it raises the exception ValueError, it is behaving as expected and we do nothing\n",
    "    pass\n",
    "\n",
    "try:\n",
    "    countvoc(\"aiuola\")  # with this string we expect it raises exception ValueError\n",
    "    raise Exception(\"I shouldn't arrive until here  !\")\n",
    "except ValueError:      # if it raises the exception ValueError, it is behaving as expected and we do nothing\n",
    "    pass\n",
    "\n"
   ]
  },
  {
   "cell_type": "markdown",
   "metadata": {},
   "source": [
    "### palindrome\n",
    "\n",
    "✪✪✪ A word is palindrome if it exactly the same when you read it in reverse\n",
    "\n",
    "Write a function the RETURN `True` if the given word is palindrome, `False` otherwise\n",
    "\n",
    "* assume that the empty string is palindrome\n",
    "\n",
    "Example:\n",
    "\n",
    "```python\n",
    ">>> x = palindrome('radar')\n",
    ">>> x\n",
    "True\n",
    ">>> x = palindrome('scatola')\n",
    ">>> x\n",
    "False\n",
    "\n",
    "```\n",
    "\n",
    "There are various ways to solve this problems, some actually easy & elegant. Try to find at least a couple of them (don't need to bang your head with the recursive one ..)."
   ]
  },
  {
   "cell_type": "code",
   "execution_count": 27,
   "metadata": {},
   "outputs": [],
   "source": [
    "\n",
    "def palindrome(word):\n",
    "    #jupman-raise\n",
    "    for i in range(len(word) // 2):\n",
    "        if word[i] != word[len(word)- i - 1]: \n",
    "            return False\n",
    "                  \n",
    "    return True   # note it is OUTSIDE for: after passing all controls,\n",
    "                  # we can conclude that the word it is actually palindrome\n",
    "    #/jupman-raise\n",
    "    \n",
    "# TEST START - DO NOT TOUCH!      \n",
    "# if you wrote the whole code correct, and execute the cell, Python shouldn't raise `AssertionError`\n",
    "\n",
    "assert palindrome('') == True    # we assume the empty string is palindrome\n",
    "assert palindrome('a') == True\n",
    "assert palindrome('aa') == True\n",
    "assert palindrome('ab') == False\n",
    "assert palindrome('aba') == True\n",
    "assert palindrome('bab') == True\n",
    "assert palindrome('bba') == False\n",
    "assert palindrome('abb') == False\n",
    "assert palindrome('abba') == True\n",
    "assert palindrome('baab') == True\n",
    "assert palindrome('abbb') == False\n",
    "assert palindrome('bbba') == False\n",
    "assert palindrome('radar') == True\n",
    "assert palindrome('scatola') == False"
   ]
  },
  {
   "cell_type": "code",
   "execution_count": null,
   "metadata": {},
   "outputs": [],
   "source": []
  },
  {
   "cell_type": "markdown",
   "metadata": {},
   "source": [
    "### extract_email\n",
    "\n",
    "\n",
    "<div class=\"alert alert-info\" >\n",
    "\n",
    "**COMMANDMENT 4 (adapted for strings): You shall never ever reassign function parameters **\n",
    "</div>\n",
    "\n",
    "```python\n",
    "\n",
    "    def myfun(s):\n",
    "\n",
    "        # You shall not do any of such evil, no matter what the type of the parameter is:\n",
    "        s = \"evil\"          # strings\n",
    "```\n"
   ]
  },
  {
   "cell_type": "code",
   "execution_count": 28,
   "metadata": {},
   "outputs": [],
   "source": [
    "def extract_email(s):\n",
    "    \"\"\" Takes a string s formatted like \n",
    "    \n",
    "        \"lun 5 nov 2018, 02:09 John Doe <john.doe@some-website.com>\"\n",
    "        \n",
    "        and RETURN the email \"john.doe@some-website.com\"\n",
    "        \n",
    "        NOTE: the string MAY contain spaces before and after, but your function must be able to extract email anyway.\n",
    "        \n",
    "        If the string for some reason is found to be ill formatted, raises ValueError\n",
    "    \"\"\"\n",
    "    #jupman-raise\n",
    "    stripped = s.strip()\n",
    "    i = stripped.find('<')\n",
    "    return stripped[i+1:len(stripped)-1]\n",
    "    #/jupman-raise\n",
    "\n",
    "assert extract_email(\"lun 5 nov 2018, 02:09 John Doe <john.doe@some-website.com>\") == \"john.doe@some-website.com\"\n",
    "assert extract_email(\"lun 5 nov 2018, 02:09 Foo Baz <mrfoo.baz@blabla.com>\") == \"mrfoo.baz@blabla.com\"\n",
    "assert extract_email(\" lun 5 nov 2018, 02:09 Foo Baz <mrfoo.baz@blabla.com>  \") == \"mrfoo.baz@blabla.com\"  # with spaces"
   ]
  },
  {
   "cell_type": "markdown",
   "metadata": {},
   "source": [
    "### canon_phone\n",
    "\n",
    "✪ Implement a function that canonicalize canonicalize a phone number as a string. It must RETURN the canonical version of phone as a string. \n",
    "\n",
    "\n",
    "For us, a canonical phone number:\n",
    "\n",
    "- contains no spaces\n",
    "- contains no international prefix, so no `+39` nor `0039`: we assume all calls where placed from Italy (even if they have international prefix)\n",
    "\n",
    "\n",
    "For example, all of these are canonicalized to `\"0461123456\"`:\n",
    "\n",
    "```\n",
    "+39 0461 123456\n",
    "+390461123456\n",
    "0039 0461 123456\n",
    "00390461123456\n",
    "```\n",
    "\n",
    "These are canonicalized as the following:\n",
    "\n",
    "```\n",
    "328 123 4567        ->  3281234567\n",
    "0039 328 123 4567   ->  3281234567\n",
    "0039 3771 1234567   ->  37711234567\n",
    "```\n",
    "\n",
    "**REMEMBER: strings are immutable !!!!!**"
   ]
  },
  {
   "cell_type": "code",
   "execution_count": 29,
   "metadata": {},
   "outputs": [],
   "source": [
    "def phone_canon(phone):\n",
    "    #jupman-raise\n",
    "    p = phone.replace(' ', '')\n",
    "    if p.startswith('0039'):\n",
    "        p = p[4:]\n",
    "    if p.startswith('+39'):\n",
    "        p = p[3:]\n",
    "    return p\n",
    "    #/jupman-raise\n",
    "\n",
    "assert phone_canon('+39 0461 123456') == '0461123456'\n",
    "assert phone_canon('+390461123456') == '0461123456'\n",
    "assert phone_canon('0039 0461 123456') == '0461123456'\n",
    "assert phone_canon('00390461123456') == '0461123456'\n",
    "assert phone_canon('003902123456') == '02123456'\n",
    "assert phone_canon('003902120039') == '02120039'\n",
    "assert phone_canon('0039021239') == '021239'\n"
   ]
  },
  {
   "cell_type": "markdown",
   "metadata": {},
   "source": [
    "### phone_prefix\n",
    "\n",
    "✪✪ We now want to extract the province prefix from phone numbers (see previous exercise) - the ones we consider as valid are in `province_prefixes` list.\n",
    "\n",
    "Note some numbers are from mobile operators and you can distinguish them by prefixes like `328` - the ones we consider are in `mobile_prefixes` list.\n",
    "\n",
    "Implement a function that RETURN the prefix of the phone as a string. Remember first to make it canonical !!        \n",
    "\n",
    "- If phone is mobile, RETURN string `'mobile'`. If it is not a phone nor a mobile, RETURN the string `'unrecognized'`\n",
    "\n",
    "- To determine if the phone is mobile or from province, use `province_prefixes` and `mobile_prefixes` lists.\n",
    "\n",
    "- DO USE THE PREVIOUSLY DEFINED FUNCTION `phone_canon(phone)`\n"
   ]
  },
  {
   "cell_type": "code",
   "execution_count": 30,
   "metadata": {},
   "outputs": [],
   "source": [
    "province_prefixes = ['0461', '02', '011']\n",
    "mobile_prefixes = ['330', '340', '328', '390', '3771']\n",
    "\n",
    "\n",
    "def phone_prefix(phone):\n",
    "    #jupman-raise\n",
    "    c = phone_canon(phone)\n",
    "    for m in mobile_prefixes:\n",
    "        if c.startswith(m):\n",
    "            return 'mobile'\n",
    "    for p in province_prefixes:\n",
    "        if c.startswith(p):\n",
    "            return p\n",
    "    return 'unrecognized'\n",
    "    #/jupman-raise\n",
    "\n",
    "assert phone_prefix('0461123') == '0461'\n",
    "assert phone_prefix('+39 0461  4321') == '0461'\n",
    "assert phone_prefix('0039011 432434') == '011'\n",
    "assert phone_prefix('328 432434') == 'mobile'\n",
    "assert phone_prefix('+39340 432434') == 'mobile'\n",
    "assert phone_prefix('00666011 432434') == 'unrecognized'\n",
    "assert phone_prefix('12345') == 'unrecognized'\n",
    "assert phone_prefix('+39 123 12345') == 'unrecognized'\n"
   ]
  },
  {
   "cell_type": "markdown",
   "metadata": {},
   "source": [
    "## Further resources\n",
    "\n",
    "Have a look at [leetcode string problems](https://leetcode.com/tag/string/) sorting by _Acceptance_ and _Easy_.\n",
    "\n",
    "In particular, you may check:\n",
    "\n",
    "* [Detect Capital](https://leetcode.com/problems/detect-capital/description/)\n",
    "* [Unique email addresses](https://leetcode.com/problems/unique-email-addresses/description/)\n",
    "* [Robot return to origin](https://leetcode.com/problems/robot-return-to-origin/description/)\n",
    "* [Reverse Words in a String III](https://leetcode.com/problems/reverse-words-in-a-string-iii/description/)\n",
    "* [Unique Morse codes](https://leetcode.com/problems/unique-morse-code-words/description/)\n",
    "* [Goat Latin](https://leetcode.com/problems/goat-latin/description/)\n",
    "* [Count Binary Substrings](https://leetcode.com/problems/count-binary-substrings/description/)"
   ]
  },
  {
   "cell_type": "code",
   "execution_count": null,
   "metadata": {},
   "outputs": [],
   "source": []
  }
 ],
 "metadata": {
  "kernelspec": {
   "display_name": "Python 3",
   "language": "python",
   "name": "python3"
  },
  "language_info": {
   "codemirror_mode": {
    "name": "ipython",
    "version": 3
   },
   "file_extension": ".py",
   "mimetype": "text/x-python",
   "name": "python",
   "nbconvert_exporter": "python",
   "pygments_lexer": "ipython3",
   "version": "3.5.2"
  },
  "toc": {
   "base_numbering": 1,
   "nav_menu": {},
   "number_sections": false,
   "sideBar": true,
   "skip_h1_title": false,
   "title_cell": "Table of Contents",
   "title_sidebar": "Contents",
   "toc_cell": false,
   "toc_position": {},
   "toc_section_display": true,
   "toc_window_display": true
  }
 },
 "nbformat": 4,
 "nbformat_minor": 2
}
