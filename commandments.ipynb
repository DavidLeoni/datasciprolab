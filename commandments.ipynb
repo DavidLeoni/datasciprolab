{
 "cells": [
  {
   "cell_type": "markdown",
   "metadata": {},
   "source": [
    "# Commandments\n",
    "\n"
   ]
  },
  {
   "cell_type": "markdown",
   "metadata": {},
   "source": [
    "The Supreme Committee for the Doctrine of Coding has ruled important Commandments you shall follow. \n",
    "\n",
    "If you accept their wise words, you shall become a true Python Jedi."
   ]
  },
  {
   "cell_type": "markdown",
   "metadata": {},
   "source": [
    "<div class=\"alert alert-warning\">\n",
    "\n",
    "**WARNING**:  if you won't follow the Commandments, bad things shall happen.\n",
    "</div>\n"
   ]
  },
  {
   "cell_type": "markdown",
   "metadata": {},
   "source": [
    "\n",
    "\n",
    "<div id=\"prova\" class=\"alert alert-info\" >\n",
    "\n",
    "**COMMANDMENT 1: You shall test!**\n",
    "</div>\n",
    "\n",
    "To run tests, enter the following command in the terminal:\n",
    "\n",
    "\n",
    "Windows Anaconda:\n",
    "\n",
    "```bash\n",
    "    python -m unittest my-file\n",
    "```\n",
    "\n",
    "Linux/Mac: remember the three after python command:\n",
    "\n",
    "```bash\n",
    "    python3 -m unittest my-file\n",
    "```"
   ]
  },
  {
   "cell_type": "markdown",
   "metadata": {},
   "source": [
    "<div class=\"alert alert-warning\">\n",
    "\n",
    "**WARNING:** In the call above, DON'T append the extension <i>.py</i> to <i>my-file</i>\n",
    "</div>\n",
    "\n",
    "<div class=\"alert alert-warning\">\n",
    "\n",
    "**WARNING:** Still, on the hard-disk the file MUST be named with a _.py_ at the end, like _my-file.py_\n",
    "</div>\n",
    "\n",
    "<div class=\"alert alert-warning\">\n",
    "\n",
    "**WARNING:** If strange errors occur, make sure to be using python version **3**. Just run the interpreter and it will display the current version.\n",
    "</div>\n"
   ]
  },
  {
   "cell_type": "markdown",
   "metadata": {},
   "source": [
    "\n",
    "\n",
    "<div class=\"alert alert-info\" >\n",
    "\n",
    "**COMMANDMENT 2: You shall also write on paper!**\n",
    "</div>\n",
    "\n",
    "If staring at the monitor doesn't work, help yourself and draw a representation of the state sof the program. \n",
    "Tables, nodes, arrows, all can help figuring out a solution for the problem. \n",
    "<br/>\n",
    "<br/>\n"
   ]
  },
  {
   "cell_type": "markdown",
   "metadata": {},
   "source": [
    "<div class=\"alert alert-info\" >\n",
    "\n",
    "**COMMANDMENT 3: You shall copy exactly the same function definitions as in the exercises!**\n",
    "</div>\n",
    "\n",
    "For example don't write :\n",
    "\n",
    "```python\n",
    "    def MY_selection_sort(A):  \n",
    "```\n"
   ]
  },
  {
   "cell_type": "markdown",
   "metadata": {},
   "source": [
    "<div class=\"alert alert-info\" >\n",
    "\n",
    "**COMMANDMENT 4: You shall never ever reassign function parameters**\n",
    "</div>\n",
    "\n",
    "```python\n",
    "\n",
    "    def myfun(i, s, L, D):\n",
    "\n",
    "        # You shall not do any of such evil, no matter what the type of the parameter is:\n",
    "        i = 666            # basic types (int, float, ...)\n",
    "        s = \"evil\"          # strings\n",
    "        L = [666]          # containers \n",
    "        D = {\"evil\":666}   # dictionaries\n",
    "\n",
    "        # For the sole case of composite parameters like lists or dictionaries, \n",
    "        # you can write stuff like this IF AND ONLY IF the function specification \n",
    "        # requires you to modify the parameter internal elements (i.e. sorting a list\n",
    "        # or changing a dictionary field):\n",
    "\n",
    "        L[4] = 2             # list\n",
    "        D[\"my field\"] = 5    # dictionary\n",
    "        C.my_field = 7       # class\n",
    "```\n"
   ]
  },
  {
   "cell_type": "markdown",
   "metadata": {},
   "source": [
    "\n",
    "<div class=\"alert alert-info\">\n",
    "\n",
    "**COMMANDMENT 5:  You shall never ever reassign self:**    \n",
    "</div>\n",
    "\n",
    "Never ever write horrors such as:\n",
    "\n",
    "```python\n",
    "\n",
    "class MyClass\n",
    "    def my_method(self, x, y):\n",
    "        self = {a:666}  # since self is a kind of dictionary, you might be tempted to do like this\n",
    "                        # but to the outside world this will bring no effect.\n",
    "                        # For example, let's say somebody from outside makes a call like this:\n",
    "                        #    mc = MyClass()\n",
    "                        #    mc.my_method()\n",
    "                        # after the call mc will not point to {a:666}\n",
    "        self = ['evil']  # self is only supposed to be a sort of dictionary and passed from outside\n",
    "        self = 6        # self is only supposed to be a sort of dictionary and passed from outside\n",
    "```\n"
   ]
  },
  {
   "cell_type": "markdown",
   "metadata": {},
   "source": [
    "\n",
    "<div class=\"alert alert-info\" >\n",
    "\n",
    "**COMMANDMENT 6: You shall never ever assign values to function nor method calls**\n",
    "</div>\n",
    "\n",
    "_WRONG WRONG:_\n",
    "\n",
    "```python\n",
    "\n",
    "my_fun() = 666\n",
    "my_fun() = 'evil'\n",
    "my_fun() = [666]\n",
    "\n",
    "```\n",
    "\n",
    "_CORRECT:_ \n",
    "\n",
    "With the assignment operator we want to store in the left side a value from the right side, so all of these are valid operations:\n",
    "\n",
    "```python\n",
    "x = 5\n",
    "y = my_fun()\n",
    "z = []\n",
    "z[0] = 7\n",
    "d = dict()\n",
    "d[\"a\"] = 6\n",
    "```\n",
    "\n",
    "Function calls such as `my_fun()` return instead results of calculations in a box that is created just for the purpose of the call and Python will just not allow us to reuse it as a variable. So whenever you see 'name()' at the left side, it _can't_ be possibly follewed by one equality `=` sign (but it can be followed by two equality signs `==` if you are performing a comparison).  \n"
   ]
  },
  {
   "cell_type": "markdown",
   "metadata": {},
   "source": [
    "<div class=\"alert alert-info\" >\n",
    "\n",
    "**COMMANDMENT 7: You shall use return command only if you see written \"return\" in the function description!**\n",
    "</div>\n",
    "\n",
    "If there is no `return` in function description, the function is intended to return `None`. In this case you don't even need to write `return None`, as Python will do it implicitly for you."
   ]
  },
  {
   "cell_type": "markdown",
   "metadata": {},
   "source": [
    "<div class=\"alert alert-info\" >\n",
    "\n",
    "**COMMANDMENT 8: You shall never ever redefine system functions**\n",
    "</div>\n",
    "\n",
    "Python has system defined function, for example `list` is a Python type. As such, you can use it for example as a function to convert some type to a list:"
   ]
  },
  {
   "cell_type": "code",
   "execution_count": 1,
   "metadata": {},
   "outputs": [
    {
     "data": {
      "text/plain": [
       "['c', 'i', 'a', 'o']"
      ]
     },
     "execution_count": 1,
     "metadata": {},
     "output_type": "execute_result"
    }
   ],
   "source": [
    "list(\"ciao\")"
   ]
  },
  {
   "cell_type": "markdown",
   "metadata": {},
   "source": [
    "when you allow the forces of evil to take the best of you, you might be tempted to use reserved words like `list` as a variable for you own miserable purposes: "
   ]
  },
  {
   "cell_type": "code",
   "execution_count": 2,
   "metadata": {},
   "outputs": [],
   "source": [
    "list = ['my', 'pitiful', 'list']"
   ]
  },
  {
   "cell_type": "markdown",
   "metadata": {},
   "source": [
    "Python allows you to do so, but we do **not**, for the consequences are disastrous.\n",
    "\n",
    "For example, if you now attempt to use `list` for its intended purpose like casting to list, it won't work anymore:"
   ]
  },
  {
   "cell_type": "markdown",
   "metadata": {},
   "source": [
    "```python\n",
    "list(\"ciao\")\n",
    "```\n",
    "```\n",
    "---------------------------------------------------------------------------\n",
    "TypeError                                 Traceback (most recent call last)\n",
    "<ipython-input-4-c63add832213> in <module>()\n",
    "----> 1 list(\"ciao\")\n",
    "\n",
    "TypeError: 'list' object is not callable\n",
    "\n",
    "```"
   ]
  },
  {
   "cell_type": "markdown",
   "metadata": {},
   "source": [
    "<div class=\"alert alert-info\" >\n",
    "\n",
    "**COMMANDMENT 9: Whenever you introduce a variable in a cycle, such variable must be new**\n",
    "</div>"
   ]
  },
  {
   "cell_type": "markdown",
   "metadata": {},
   "source": [
    "If you read carefully Commandment 4 you should not need to be reminded of this Commandment, nevertheless it is always worth restating the Right Way.\n",
    "\n",
    "If you defined a variable before, you shall not reintroduce it in a `for`, since it is as confusing as reassigning function parameters.\n",
    "\n",
    "So avoid this sins:"
   ]
  },
  {
   "cell_type": "code",
   "execution_count": 3,
   "metadata": {},
   "outputs": [
    {
     "name": "stdout",
     "output_type": "stream",
     "text": [
      "0\n",
      "1\n",
      "2\n"
     ]
    }
   ],
   "source": [
    "i = 7\n",
    "for i in range(3):  # sin, you lose i variable\n",
    "    print(i)"
   ]
  },
  {
   "cell_type": "code",
   "execution_count": 4,
   "metadata": {},
   "outputs": [],
   "source": [
    "def f(i):\n",
    "    for i in range(3): # sin again, you lose i parameter\n",
    "        print(i)"
   ]
  },
  {
   "cell_type": "code",
   "execution_count": 5,
   "metadata": {
    "scrolled": true
   },
   "outputs": [
    {
     "name": "stdout",
     "output_type": "stream",
     "text": [
      "0\n",
      "1\n",
      "2\n",
      "0\n",
      "1\n",
      "2\n"
     ]
    }
   ],
   "source": [
    "for i in range(2):      \n",
    "    for i in  range(3):  # debugging hell, you lose i from outer for\n",
    "        print(i)"
   ]
  }
 ],
 "metadata": {
  "kernelspec": {
   "display_name": "Python 3",
   "language": "python",
   "name": "python3"
  },
  "language_info": {
   "codemirror_mode": {
    "name": "ipython",
    "version": 3
   },
   "file_extension": ".py",
   "mimetype": "text/x-python",
   "name": "python",
   "nbconvert_exporter": "python",
   "pygments_lexer": "ipython3",
   "version": "3.5.2"
  },
  "toc": {
   "base_numbering": 1,
   "nav_menu": {},
   "number_sections": false,
   "sideBar": true,
   "skip_h1_title": false,
   "title_cell": "Table of Contents",
   "title_sidebar": "Contents",
   "toc_cell": false,
   "toc_position": {},
   "toc_section_display": true,
   "toc_window_display": false
  }
 },
 "nbformat": 4,
 "nbformat_minor": 2
}
