{
 "cells": [
  {
   "cell_type": "markdown",
   "metadata": {},
   "source": [
    "# Slides 2018/19\n",
    "\n",
    "<div class=\"alert alert-warning\">\n",
    "\n",
    "**WARNING**: These are old slides.  Slides for current year  can be found [here](../slides.ipynb)\n",
    "\n",
    "</div>"
   ]
  },
  {
   "cell_type": "markdown",
   "metadata": {},
   "source": [
    "\n",
    "## Part A\n",
    "\n",
    "### Lab A.1\n",
    "\n",
    "Friday 28 Sep 2018\n",
    "Links\n",
    "\n",
    "lab site: [sciprog.davidleoni.it](https://sciprog.davidleoni.it)\n",
    "\n",
    "Questionnaire: https://tinyurl.com/spquest01\n",
    "\n",
    "    All Google Colab scratchpads\n",
    "    First Google Colab (for code shown during lesson - during each lesson you also can write on it):\n",
    "    Lesson: Introduction\n",
    "\n"
   ]
  },
  {
   "cell_type": "markdown",
   "metadata": {},
   "source": [
    "### Lab A.2\n",
    "\n",
    "Friday October 5th 2018\n",
    "\n",
    "links: \n",
    "\n",
    "- [Google colab scratchpad 2](https://colab.research.google.com/drive/17GYc2Idok7opLoZdXdL_L_-R_SUuF3WN) \n",
    "\n",
    "-------------------------------\n",
    "\n",
    "- [Slides montresor - Structured data types](http://disi.unitn.it/~montreso/sp/slides/A02-datastructures.pdf)\n",
    "- (maybe) [Slides montresor - Structured programming](http://disi.unitn.it/~montreso/sp/slides/A03-controlflow.pdf)\n",
    "- [ThinkPython General introduction](https://runestone.academy/runestone/static/thinkcspy/GeneralIntro/toctree.html)\n",
    "- [ThinkPythonSimple Python Data](https://runestone.academy/runestone/static/thinkcspy/SimplePythonData/toctree.html)\n",
    "    - [exercises](https://runestone.academy/runestone/static/thinkcspy/SimplePythonData/Exercises.html)\n",
    "- [ThinkPython Debugging interlude 1](https://runestone.academy/runestone/static/thinkcspy/Debugging/toctree.html)\n"
   ]
  },
  {
   "cell_type": "markdown",
   "metadata": {},
   "source": [
    "Will do: \n",
    "\n",
    "- Finish review of tools: Visual Studio Code \n",
    "- some exercise on data types    \n",
    "- simple functions with return\n",
    "- simple tests with assert"
   ]
  },
  {
   "cell_type": "markdown",
   "metadata": {},
   "source": [
    "### Lab A.3\n",
    "\n",
    "Tuesday October 9th 2018\n",
    "\n",
    "links: \n",
    "\n",
    "- [Google colab scratchpad 3](https://colab.research.google.com/drive/1gp27m659gbBOQP2jA4xW66tO4R5NIV6W) \n",
    "- lesson: [lists](../lists/lists-solution.ipynb)\n",
    "\n",
    "---------------------\n",
    "\n",
    "- [Slides montresor - Structured data types](http://disi.unitn.it/~montreso/sp/slides/A02-datastructures.pdf)\n",
    "- [Slides montresor - Structured programming](http://disi.unitn.it/~montreso/sp/slides/A03-controlflow.pdf)\n",
    "- [ThinkPython General introduction](https://runestone.academy/runestone/static/thinkcspy/GeneralIntro/toctree.html)\n",
    "- [ThinkPythonSimple Python Data](https://runestone.academy/runestone/static/thinkcspy/SimplePythonData/toctree.html)\n",
    "    - [exercises](https://runestone.academy/runestone/static/thinkcspy/SimplePythonData/Exercises.html)\n",
    "- [ThinkPython Debugging interlude 1](https://runestone.academy/runestone/static/thinkcspy/Debugging/toctree.html)\n"
   ]
  },
  {
   "cell_type": "markdown",
   "metadata": {},
   "source": [
    "### Lab A.4\n",
    "\n",
    "Wednesday October 10th 2018\n",
    "\n",
    "links: \n",
    "\n",
    "- [Google colab scratchpad 4](https://colab.research.google.com/drive/1_uM7n77lrxp53-zxthLYYX4f-gAerA6y) \n",
    "- lesson: [Matrix as lists of lists](../matrix-lists/matrix-lists-solution.ipynb)\n",
    "\n",
    "------------------\n",
    "\n",
    "- [Slides montresor - Structured data types](http://disi.unitn.it/~montreso/sp/slides/A02-datastructures.pdf)\n",
    "- [Slides montresor - Structured programming](http://disi.unitn.it/~montreso/sp/slides/A03-controlflow.pdf)\n",
    "- [ThinkPython General introduction](https://runestone.academy/runestone/static/thinkcspy/GeneralIntro/toctree.html)\n",
    "- [ThinkPythonSimple Python Data](https://runestone.academy/runestone/static/thinkcspy/SimplePythonData/toctree.html)\n",
    "- [ThinkPython Debugging interlude 1](https://runestone.academy/runestone/static/thinkcspy/Debugging/toctree.html)\n",
    "\n"
   ]
  },
  {
   "cell_type": "markdown",
   "metadata": {},
   "source": [
    "### Lab A.5\n",
    "\n",
    "Friday October 12th, 2018\n",
    "\n",
    "* [Google colab scratchpad 5](https://colab.research.google.com/drive/1YVZVrt3xEO5I1wZjhyNxviEjHjJlH3rv)\n",
    "* lesson: [Matrix as list of lists](../matrix-lists/matrix-lists-solution.ipynb) (continued)\n",
    "\n",
    "------------------\n",
    "\n",
    "- [Slides montresor - Structured data types](http://disi.unitn.it/~montreso/sp/slides/A02-datastructures.pdf)\n",
    "- [Slides montresor - Structured programming](http://disi.unitn.it/~montreso/sp/slides/A03-controlflow.pdf)\n",
    "- [ThinkPython General introduction](https://runestone.academy/runestone/static/thinkcspy/GeneralIntro/toctree.html)\n",
    "- [ThinkPythonSimple Python Data](https://runestone.academy/runestone/static/thinkcspy/SimplePythonData/toctree.html)\n",
    "- [ThinkPython Debugging interlude 1](https://runestone.academy/runestone/static/thinkcspy/Debugging/toctree.html)\n"
   ]
  },
  {
   "cell_type": "markdown",
   "metadata": {},
   "source": [
    "### Lab A.6\n",
    "\n",
    "Tuesday October 16th, 2018\n",
    "\n",
    "* [Google colab scratchpad 6](https://colab.research.google.com/drive/14B3jWZTWNKpFaA3x8w8k3Xgd2kvcR613)\n",
    "* lesson: [Matrix networks](../matrix-networks/matrix-networks-solution.ipynb)\n",
    "\n",
    "------------------\n",
    "\n",
    "- [Slides montresor - Structured data types](http://disi.unitn.it/~montreso/sp/slides/A02-datastructures.pdf)\n",
    "- [Slides montresor - Structured programming](http://disi.unitn.it/~montreso/sp/slides/A03-controlflow.pdf)\n",
    "- [ThinkPython General introduction](https://runestone.academy/runestone/static/thinkcspy/GeneralIntro/toctree.html)\n",
    "- [ThinkPythonSimple Python Data](https://runestone.academy/runestone/static/thinkcspy/SimplePythonData/toctree.html)\n",
    "- [ThinkPython Debugging interlude 1](https://runestone.academy/runestone/static/thinkcspy/Debugging/toctree.html)\n"
   ]
  },
  {
   "cell_type": "markdown",
   "metadata": {},
   "source": [
    "### Lab A.7\n",
    "\n",
    "Friday October 19th, 2018\n",
    "\n",
    "* [Google colab scratchpad 7](https://colab.research.google.com/drive/1gJ6kI9xhzS66dffuHXSqjlHfKk5Ix3Jx)\n",
    "* lesson: [dictionaries](../dictionaries/dictionaries-solution.ipynb)\n",
    "* lesson: [binary relations](../binary-relations/binary-relations-solution.ipynb), Graph formats paragraph\n",
    "* lesson: [Network statistics](../network-statistics/network-statistics-solution.ipynb)\n"
   ]
  },
  {
   "cell_type": "markdown",
   "metadata": {},
   "source": [
    "### Lab A.8\n",
    "\n",
    "Tuesday October 23rd, 2018\n",
    "\n",
    "* [Google colab scratchpad 8](https://colab.research.google.com/drive/149yLlDrwG6AdyCQPtOCZKDYGff3z2k2s)\n",
    "* lesson: [Network statistics](../network-statistics/network-statistics-solution.ipynb) (continued)\n",
    "\n",
    "_____________________________\n",
    "\n",
    "* [Slides montresor - A06 Recursion](http://disi.unitn.it/~montreso/sp/handouts/A06-recursion.pdf)"
   ]
  },
  {
   "cell_type": "markdown",
   "metadata": {},
   "source": [
    "### Lab A.9\n",
    "\n",
    "Friday October 26th, 2018\n",
    "\n",
    "* lesson: [Network statistics](../network-statistics/network-statistics-solution.ipynb) (continued)\n",
    "* lesson: [Visualization](../visualization/visualization-solution.ipynb) \n",
    "\n",
    "_____________________________\n",
    "\n",
    "* [Slides montresor - A08 numpy+matplotlib](http://disi.unitn.it/~montreso/sp/handouts/A08-numpy.pdf)"
   ]
  },
  {
   "cell_type": "markdown",
   "metadata": {},
   "source": [
    "### Lab A.10\n",
    "\n",
    "Tuesday November 6th, 2018\n",
    "\n",
    "\n",
    "* lesson: [Pandas](../pandas/pandas-solution.ipynb) \n",
    "\n",
    "_____________________________\n",
    "\n",
    "* [Slides montresor - A08 numpy+matplotlib](http://disi.unitn.it/~montreso/sp/handouts/A07-pandas.pdf)\n",
    "\n",
    "\n",
    "**NEWS: RESTRUCTURED WEBSITE**. \n",
    "- Added [Exam modalities](index.ipynb#What-I-expect) , please read them\n",
    "- Added difficulty ratings to exercises\n",
    "- Added sections:\n",
    "    - [Strings](strings/strings-solution.ipynb)\n",
    "    - [Graph formats](graph-formats/graph-formats-solution.ipynb)\n",
    "    - [Binary relations](binary-relations/binary-relations-solution.ipynb)\n",
    "    - [Pandas](pandas/pandas-solution.ipynb)\n",
    "- Expanded sections:\n",
    "    - [Lists](lists/lists-solution.ipynb)\n",
    "    - [Visualization](visualization/visualization-solution.ipynb) \n",
    "\n"
   ]
  },
  {
   "cell_type": "markdown",
   "metadata": {},
   "source": [
    "### Lab A.11\n",
    "\n",
    "Friday November 9th, 2018\n",
    "\n",
    "* [Google Colab](https://colab.research.google.com/drive/1aZbmnYeWyjJikv2lGZq8cprm-zOzqWr1)\n",
    "\n",
    "* review exercises [Strings](../strings/strings-solution.ipynb), [Lists](../lists/lists-solution.ipynb) , [Binary relations](../binary-relations/binary-relations-solution.ipynb)\n",
    "\n"
   ]
  },
  {
   "cell_type": "markdown",
   "metadata": {},
   "source": [
    "### Midterm simulation\n",
    "\n",
    "Tuesday November 13th, 2018\n",
    "\n",
    "Midterm simulation: [see solution](../exams/2018-11-13/exam-2018-11-13-solution.ipynb)"
   ]
  },
  {
   "cell_type": "markdown",
   "metadata": {},
   "source": [
    "### Midterm\n",
    "\n",
    "Friday November 16th, 2018\n",
    "\n",
    "Midterm: [see solution](../exams/2018-11-16/exam-2018-11-16-solution.ipynb)"
   ]
  },
  {
   "cell_type": "markdown",
   "metadata": {},
   "source": [
    "## Part B"
   ]
  },
  {
   "cell_type": "markdown",
   "metadata": {},
   "source": [
    "### Lab B.1\n",
    "\n",
    "Wednesday November 21st, 2018\n",
    "\n",
    "* [Testing](../testing/testing.ipynb)\n",
    "* [OOP](../oop/oop.ipynb) (until magnitude included)"
   ]
  },
  {
   "cell_type": "markdown",
   "metadata": {},
   "source": [
    "### Lab B.2\n",
    "\n",
    "Friday November 25th, 2018\n",
    "\n",
    "* [OOP](../oop/oop.ipynb) (finish)"
   ]
  },
  {
   "cell_type": "markdown",
   "metadata": {},
   "source": [
    "### Lab B.3\n",
    "\n",
    "Tuesday November 27th, 2018\n",
    "\n",
    "* [Sorting](../sorting/sorting.ipynb) (SelectionSort and Merge idea)"
   ]
  },
  {
   "cell_type": "markdown",
   "metadata": {},
   "source": [
    "### Lab B.4\n",
    "\n",
    "Friday November 30th, 2018\n",
    "\n",
    "[Google Colab](https://colab.research.google.com/drive/12NWJE0-cHXkGKSMVvfzDKo5EmKeRfM5C)\n",
    "\n",
    "* [Sorting](../sorting/sorting.ipynb) (Merge idea, InsertionSort, QuickSort)"
   ]
  },
  {
   "cell_type": "markdown",
   "metadata": {},
   "source": [
    "### Lab B.5\n",
    "\n",
    "Tuesday December 4th, 2018\n",
    "\n",
    "Data structures:\n",
    "\n",
    "* [LinkedLists](../linked-lists/linked-lists.ipynb) \n",
    "* [Stacks](../stacks/stacks.ipynb)\n",
    "* [Queues](../queues/queues.ipynb)\n",
    "* [Sets](../sets/sets.ipynb)"
   ]
  },
  {
   "cell_type": "markdown",
   "metadata": {},
   "source": [
    "### Lab B.6\n",
    "\n",
    "Friday December 7th, 2018\n",
    "\n",
    "Data structures:\n",
    "\n",
    "* [Trees](../trees/trees.ipynb) \n",
    "\n",
    "\n",
    "* BinaryTree\n"
   ]
  },
  {
   "cell_type": "markdown",
   "metadata": {},
   "source": [
    "### Lab B.7\n",
    "\n",
    "Friday December 11th, 2018\n",
    "\n",
    "Data structures:\n",
    "\n",
    "* [Trees](../trees/trees.ipynb) \n",
    "\n",
    "* GenericTree"
   ]
  },
  {
   "cell_type": "markdown",
   "metadata": {},
   "source": [
    "### Lab B.8\n",
    "\n",
    "Friday December 14th, 2018\n",
    "\n",
    "Data structures:\n",
    "\n",
    "* [Graph algos](../graph-algos/graph-algos.ipynb) "
   ]
  },
  {
   "cell_type": "markdown",
   "metadata": {},
   "source": [
    "### Lab B.9\n",
    "\n",
    "Tuesday December 18th, 2018\n",
    "\n",
    "Data structures:\n",
    "\n",
    "* [Graph algos](../graph-algos/graph-algos.ipynb) "
   ]
  },
  {
   "cell_type": "code",
   "execution_count": null,
   "metadata": {},
   "outputs": [],
   "source": []
  }
 ],
 "metadata": {
  "kernelspec": {
   "display_name": "Python 3",
   "language": "python",
   "name": "python3"
  },
  "language_info": {
   "codemirror_mode": {
    "name": "ipython",
    "version": 3
   },
   "file_extension": ".py",
   "mimetype": "text/x-python",
   "name": "python",
   "nbconvert_exporter": "python",
   "pygments_lexer": "ipython3",
   "version": "3.7.3"
  },
  "toc": {
   "base_numbering": 1,
   "nav_menu": {},
   "number_sections": false,
   "sideBar": true,
   "skip_h1_title": false,
   "title_cell": "Table of Contents",
   "title_sidebar": "Contents",
   "toc_cell": false,
   "toc_position": {},
   "toc_section_display": true,
   "toc_window_display": false
  }
 },
 "nbformat": 4,
 "nbformat_minor": 2
}
