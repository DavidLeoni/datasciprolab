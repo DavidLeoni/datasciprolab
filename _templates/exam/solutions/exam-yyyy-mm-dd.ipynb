{
 "cells": [
  {
   "cell_type": "code",
   "execution_count": 2,
   "metadata": {
    "nbsphinx": "hidden"
   },
   "outputs": [],
   "source": [
    "#Please execute this cell\n",
    "import sys;\n",
    "sys.path.append('../../../'); \n",
    "import jupman;"
   ]
  },
  {
   "cell_type": "markdown",
   "metadata": {},
   "source": [
    "# Exam -  _JM_{exam.date_human}\n",
    "\n",
    "**Scientific Programming - _JM_{conf.jm.degree}**\n"
   ]
  },
  {
   "cell_type": "markdown",
   "metadata": {
    "collapsed": true
   },
   "source": [
    "## Introduction\n",
    "\n",
    "* **Taking part to this exam erases any vote you had before**\n"
   ]
  },
  {
   "cell_type": "markdown",
   "metadata": {},
   "source": [
    "### What to do\n",
    "\n",
    "1) Download  `_JM_{conf.jm.filename}-_JM_{exam.date}-exam.zip` and extract it <b>on your desktop</b>.\n",
    "\n",
    "2) Rename `_JM_{conf.jm.filename}-_JM_{exam.date}-FIRSTNAME-LASTNAME-ID` folder: put your name, lastname an id number, like `_JM_{conf.jm.filename}-_JM_{exam.date}-john-doe-432432`\n",
    "\n",
    "From now on, you will be editing the files in that folder. At the end of the exam, that is what will be evaluated.\n",
    "\n",
    "3) Edit the files following the instructions in this worksheet for each exercise. Every exercise should take max 25 mins. If it takes longer, leave it and try another exercise.\n",
    "\n",
    "4) When done:\n",
    "\n",
    "- if you have unitn login:  zip and send to [examina.icts.unitn.it/studente](http://examina.icts.unitn.it/studente)\n",
    "  \n",
    "- If you don't have unitn login: tell instructors and we will download your work manually"
   ]
  },
  {
   "cell_type": "markdown",
   "metadata": {},
   "source": [
    "## Part A\n",
    "\n",
    "Open Jupyter and start editing this notebook `exam-_JM_{exam.date}.ipynb`\n"
   ]
  },
  {
   "cell_type": "markdown",
   "metadata": {},
   "source": [
    "## Part B\n"
   ]
  },
  {
   "cell_type": "markdown",
   "metadata": {},
   "source": [
    "### B1 Theory\n",
    "\n",
    "**Write the solution in separate `theory.txt` file**\n",
    "\n",
    "```python\n",
    "```"
   ]
  },
  {
   "cell_type": "markdown",
   "metadata": {},
   "source": [
    "### B2\n",
    "\n",
    "* Open Visual Studio Code and start editing the folder on your desktop\n",
    "* For running tests: open _Accessories -> Terminal_ "
   ]
  },
  {
   "cell_type": "code",
   "execution_count": null,
   "metadata": {},
   "outputs": [],
   "source": []
  }
 ],
 "metadata": {
  "celltoolbar": "Edit Metadata",
  "kernelspec": {
   "display_name": "Python 3",
   "language": "python",
   "name": "python3"
  },
  "language_info": {
   "codemirror_mode": {
    "name": "ipython",
    "version": 3
   },
   "file_extension": ".py",
   "mimetype": "text/x-python",
   "name": "python",
   "nbconvert_exporter": "python",
   "pygments_lexer": "ipython3",
   "version": "3.5.2"
  },
  "toc": {
   "base_numbering": 1,
   "nav_menu": {},
   "number_sections": false,
   "sideBar": true,
   "skip_h1_title": false,
   "title_cell": "Table of Contents",
   "title_sidebar": "Contents",
   "toc_cell": false,
   "toc_position": {},
   "toc_section_display": true,
   "toc_window_display": false
  }
 },
 "nbformat": 4,
 "nbformat_minor": 1
}
