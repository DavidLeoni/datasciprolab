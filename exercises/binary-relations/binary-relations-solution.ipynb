{
 "cells": [
  {
   "cell_type": "code",
   "execution_count": 1,
   "metadata": {
    "nbsphinx": "hidden"
   },
   "outputs": [],
   "source": [
    "#Please execute this cell\n",
    "import sys\n",
    "sys.path.append('../../')\n",
    "import jupman\n",
    "from sciprog import draw_mat, draw_adj, draw_nx\n",
    "%matplotlib inline"
   ]
  },
  {
   "cell_type": "markdown",
   "metadata": {},
   "source": [
    "# Binary relations solutions\n",
    "\n",
    "## [Download exercises zip](../../_static/binary-relations-exercises.zip)\n",
    "\n",
    "[Browse files online](https://github.com/DavidLeoni/datasciprolab/tree/master/exercises/binary-relations)\n",
    "\n",
    "## What to do\n",
    "\n",
    "- unzip exercises in a folder, you should get something like this: \n",
    "\n",
    "```\n",
    "\n",
    "-jupman.py\n",
    "-sciprog.py\n",
    "-other stuff ...\n",
    "-exercises\n",
    "     |- graph-formats\n",
    "         |- binary-relations-exercise.ipynb     \n",
    "         |- binary-relations-solution.ipynb\n",
    "         |- other stuff ..\n",
    "```\n",
    "\n",
    "<div class=\"alert alert-warning\">\n",
    "\n",
    "**WARNING**: to correctly visualize the notebook, it MUST be in an unzipped folder !\n",
    "</div>\n",
    "\n",
    "\n",
    "- open Jupyter Notebook from that folder. Two things should open, first a console and then browser. The browser should show a file list: navigate the list and open the notebook `exercises/binary-relations/binary-relations-exercise.ipynb`\n",
    "\n",
    "<div class=\"alert alert-warning\">\n",
    "\n",
    "**WARNING 2**: DO NOT use the _Upload_ button in Jupyter, instead navigate in Jupyter browser to the unzipped folder !\n",
    "</div>\n",
    "\n",
    "\n",
    "- Go on reading that notebook, and follow instuctions inside.\n",
    "\n",
    "\n",
    "Shortcut keys:\n",
    "\n",
    "- to execute Python code inside a Jupyter cell, press `Control + Enter`\n",
    "- to execute Python code inside a Jupyter cell AND select next cell, press `Shift + Enter`\n",
    "- to execute Python code inside a Jupyter cell AND a create a new cell aftwerwards, press `Alt + Enter`\n",
    "- If the notebooks look stuck, try to select `Kernel -> Restart`\n",
    "\n"
   ]
  },
  {
   "cell_type": "markdown",
   "metadata": {},
   "source": [
    "### Introduction\n",
    "\n",
    "We can use graphs to model relations of many kinds, like _is_close_to, _is friend of_, _loves_, etc.\n",
    "\n",
    "**Before going on, make sure to have read the chapter** [Graph formats](https://datasciprolab.readthedocs.io/en/latest/exercises/graph-formats/graph-formats-solution.html)"
   ]
  },
  {
   "cell_type": "markdown",
   "metadata": {},
   "source": [
    "### Reflexive relations\n",
    "\n",
    "A graph is reflexive when each node links to itself.\n",
    "\n",
    "In real life, the typical reflexive relation could be \"is close to\" , supposing \"close to\" means being within a 100 meters distance. Obviously, any place is always close to itself, let's see an example:"
   ]
  },
  {
   "cell_type": "code",
   "execution_count": 2,
   "metadata": {},
   "outputs": [
    {
     "data": {
      "image/png": "[encoded data removed]",
      "text/plain": [
       "<IPython.core.display.Image object>"
      ]
     },
     "metadata": {},
     "output_type": "display_data"
    }
   ],
   "source": [
    "from sciprog import draw_adj\n",
    "\n",
    "draw_adj({\n",
    "    'Trento Cathedral' : ['Trento Cathedral', 'Trento Neptune Statue'],\n",
    "    'Trento Neptune Statue' : ['Trento Neptune Statue', 'Trento Cathedral'],\n",
    "    'Povo' : ['Povo'],\n",
    "})"
   ]
  },
  {
   "cell_type": "markdown",
   "metadata": {},
   "source": [
    "Some relations might not always be necessarily reflexive, like \"did homeworks for\". You should always do your own homeworks, but to our dismay, university intelligence services caught some of you cheating. In the following example we expose the situation - due to privacy concerns, we identify students with numbers starting from zero included:"
   ]
  },
  {
   "cell_type": "code",
   "execution_count": 3,
   "metadata": {},
   "outputs": [
    {
     "data": {
      "image/png": "[encoded data removed]",
      "text/plain": [
       "<IPython.core.display.Image object>"
      ]
     },
     "metadata": {},
     "output_type": "display_data"
    }
   ],
   "source": [
    "from sciprog import draw_mat\n",
    "\n",
    "draw_mat(\n",
    "    [\n",
    "        [True, False, False, False],\n",
    "        [False, False, False, False],\n",
    "        [False, True, True, False],\n",
    "        [False, False, False, False],\n",
    "    ]\n",
    "\n",
    ")"
   ]
  },
  {
   "cell_type": "markdown",
   "metadata": {},
   "source": [
    "From the graph above, we see student 0 and student 2 both did their own homeworks. Student 3 did no homerworks at all. Alarmingly, we notice student 2 did the homeworks for student 1. Resulting conspiration shall be severely punished with a one year ban from having Spritz at Emma's bar."
   ]
  },
  {
   "cell_type": "markdown",
   "metadata": {},
   "source": [
    "### is_reflexive_mat\n",
    "\n",
    "✪✪ Implement now this function for matrices."
   ]
  },
  {
   "cell_type": "code",
   "execution_count": 4,
   "metadata": {},
   "outputs": [],
   "source": [
    "def is_reflexive_mat(mat):\n",
    "    \n",
    "    \"\"\" RETURN True if nxn boolean matrix mat as list of lists is reflexive, False otherwise.\n",
    "    \n",
    "        A graph is reflexive when all nodes point to themselves. Please at least try to make the function efficient.\n",
    "    \"\"\"\n",
    "    #jupman-raise\n",
    "    n = len(mat)\n",
    "    for i in range(n):\n",
    "        if not mat[i][i]:\n",
    "            return False\n",
    "    return True\n",
    "    #/jupman-raise\n",
    "    \n",
    "    \n",
    "    \n",
    "assert is_reflexive_mat([\n",
    "                        [False]\n",
    "                    ]) == False   # m1\n",
    "\n",
    "assert is_reflexive_mat([\n",
    "                        [True]\n",
    "                    ]) == True  # m2\n",
    "\n",
    "\n",
    "assert is_reflexive_mat([\n",
    "                        [False, False],\n",
    "                        [False, False],\n",
    "    \n",
    "                    ]) == False  # m3 \n",
    "\n",
    "assert is_reflexive_mat([\n",
    "                        [True, True],\n",
    "                        [True, True],\n",
    "    \n",
    "                    ]) == True  # m4\n",
    "\n",
    "assert is_reflexive_mat([\n",
    "                        [True, True],\n",
    "                        [False, True],\n",
    "     \n",
    "                    ]) == True  # m5\n",
    "\n",
    "assert is_reflexive_mat([\n",
    "                        [True, False],\n",
    "                        [True, True],\n",
    "    \n",
    "                    ]) == True  # m6\n",
    "\n",
    "\n",
    "assert is_reflexive_mat([\n",
    "                        [True, True],\n",
    "                        [True, False],\n",
    "    \n",
    "                    ]) == False  # m7\n",
    "\n",
    "assert is_reflexive_mat([\n",
    "                        [False, True],\n",
    "                        [True, True],\n",
    "    \n",
    "                    ]) == False  # m8\n",
    "\n",
    "assert is_reflexive_mat([\n",
    "                        [False, True],\n",
    "                        [True, False],\n",
    "    \n",
    "                    ]) == False  # m9\n",
    "\n",
    "assert is_reflexive_mat([\n",
    "                        [False, False],\n",
    "                        [True, False],\n",
    "    \n",
    "                    ]) == False    # m10\n",
    "\n",
    "assert is_reflexive_mat([\n",
    "                        [False, True, True],\n",
    "                        [True, False, False],\n",
    "                        [True, True, True],\n",
    "    \n",
    "                    ]) == False    # m11\n",
    "\n",
    "assert is_reflexive_mat([\n",
    "                        [True, True, True],\n",
    "                        [True, True, True],\n",
    "                        [True, True, True],\n",
    "    \n",
    "                    ]) == True    # m12    "
   ]
  },
  {
   "cell_type": "markdown",
   "metadata": {},
   "source": [
    "### is_reflexive_adj\n",
    "\n",
    "✪✪ Implement now the same function for dictionaries of adjacency lists."
   ]
  },
  {
   "cell_type": "code",
   "execution_count": 5,
   "metadata": {},
   "outputs": [],
   "source": [
    "def is_reflexive_adj(d):\n",
    "    \n",
    "    \"\"\" RETURN True if provided graph as dictionary of adjacency lists is reflexive, False otherwise.\n",
    "    \n",
    "        A graph is reflexive when all nodes point to themselves. Please at least try to make the function efficient.\n",
    "    \"\"\"\n",
    "    #jupman-raise\n",
    "    \n",
    "    for v in d:\n",
    "        if not v in d[v]:\n",
    "            return False\n",
    "    return True\n",
    "    #/jupman-raise\n",
    "    \n",
    "    \n",
    "    \n",
    "assert is_reflexive_adj({\n",
    "                            'a':[]  \n",
    "                        }) == False   # d1\n",
    "\n",
    "assert is_reflexive_adj({\n",
    "                            'a':['a']\n",
    "                        }) == True  # d2\n",
    "\n",
    "\n",
    "assert is_reflexive_adj({\n",
    "                            'a':[],\n",
    "                            'b':[]\n",
    "                        }) == False  # d3 \n",
    "\n",
    "assert is_reflexive_adj({\n",
    "                            'a':['a'],\n",
    "                            'b':['b']\n",
    "                        }) == True  # d4\n",
    "\n",
    "assert is_reflexive_adj({\n",
    "                            'a':['a','b'],\n",
    "                            'b':['b']\n",
    "                        }) == True  # d5\n",
    "\n",
    "assert is_reflexive_adj({\n",
    "                            'a':['a'],\n",
    "                            'b':['a','b']\n",
    "                        }) == True  # d6\n",
    "\n",
    "\n",
    "assert is_reflexive_adj({\n",
    "                            'a':['a','b'],\n",
    "                            'b':['a']\n",
    "                        }) == False  # d7\n",
    "\n",
    "assert is_reflexive_adj({\n",
    "                            'a':['b'],\n",
    "                            'b':['a','b']\n",
    "                        }) == False  # d8\n",
    "\n",
    "assert is_reflexive_adj({\n",
    "                            'a':['b'],\n",
    "                            'b':['a']\n",
    "                        }) == False  # d9\n",
    "\n",
    "assert is_reflexive_adj({\n",
    "                            'a':[],\n",
    "                            'b':['a']\n",
    "                        }) == False    # d10\n",
    "\n",
    "assert is_reflexive_adj({\n",
    "                            'a':['b','c'],\n",
    "                            'b':['a'],\n",
    "                            'c':['a','b','c']\n",
    "                        }) == False    # d11\n",
    "\n",
    "assert is_reflexive_adj({\n",
    "                            'a':['a','b','c'],\n",
    "                            'b':['a','b','c'],\n",
    "                            'c':['a','b','c']\n",
    "                        }) == True    # d12    "
   ]
  },
  {
   "cell_type": "markdown",
   "metadata": {},
   "source": [
    "### Symmetric relations\n",
    "\n",
    "A graph is symmetric when for all nodes, if a node A links to another node B, there is a also a link from node B to A. \n",
    "\n",
    "In real life, the typical symmetric relation is \"is friend of\". If you are friend to somene, that someone should be also be your friend.\n",
    "\n",
    "For example, since Scrooge typically is not so friendly with his lazy nephew Donald Duck, but certainly both Scrooge and Donald Duck enjoy visiting the farm of Grandma Duck, we can model their friendship relation like this:"
   ]
  },
  {
   "cell_type": "code",
   "execution_count": 6,
   "metadata": {},
   "outputs": [
    {
     "data": {
      "image/png": "[encoded data removed]",
      "text/plain": [
       "<IPython.core.display.Image object>"
      ]
     },
     "metadata": {},
     "output_type": "display_data"
    }
   ],
   "source": [
    "from sciprog import draw_adj\n",
    "\n",
    "draw_adj({\n",
    "    'Donald Duck' : ['Grandma Duck'],\n",
    "    'Scrooge' : ['Grandma Duck'],\n",
    "    'Grandma Duck' : ['Scrooge', 'Donald Duck'],\n",
    "})"
   ]
  },
  {
   "cell_type": "markdown",
   "metadata": {},
   "source": [
    "Not that Scrooge is not linked to Donald Duck, but this does not mean the whole graph cannot be considered symmetric. If you pay attention to the definition above, there is _if_ written at the beginning: _if_  a node A links to another node B, there is a also a link from node B to A. \n",
    "\n"
   ]
  },
  {
   "cell_type": "markdown",
   "metadata": {},
   "source": [
    "**QUESTION**: Looking purely at the above definition (so do _not_ consider 'is friend of' relation), should a symmetric relation be necessarily reflexive?"
   ]
  },
  {
   "cell_type": "markdown",
   "metadata": {},
   "source": [
    "**ANSWER**: No, in a symmetric relation some nodes can be linked to themseves, while some other nodes may have no link to themselves. All we care about to check symmetry is links from a node to _other_ nodes. \n",
    "\n"
   ]
  },
  {
   "cell_type": "markdown",
   "metadata": {},
   "source": [
    "**QUESTION**: Think about the semantics of the specific \"is friend of\" relation: can you think of a social network where the relation is not shown as reflexive?\n"
   ]
  },
  {
   "cell_type": "markdown",
   "metadata": {},
   "source": [
    "**ANSWER**: In the particular case of \"is friend to\" relation is interesting, as it prompts us  to think about the semantic meaning of the relation: obviously, everybody _should_ be a friend of himself/herself - but if were to implement say a social network service like Facebook, it would look rather useless to show in your your friends list the information that you are a friend of yourself. \n",
    "\n"
   ]
  },
  {
   "cell_type": "markdown",
   "metadata": {},
   "source": [
    "**QUESTION**: Always talking about the specific semantics of \"is friend of\" relation: can you think about some case where it should be meaningful to store information about individuals _not_ being friends of themselves ?"
   ]
  },
  {
   "cell_type": "markdown",
   "metadata": {},
   "source": [
    "**ANSWER**: in real life it may always happen to find fringe cases - suppose you are given the task to model a network of possibly depressed people with self-harming tendencies. So always be sure your model correctly fits the problem at hand.\n"
   ]
  },
  {
   "cell_type": "markdown",
   "metadata": {},
   "source": [
    "Some relations sometimes may or not be symmetric, depending on the graph at hand. Think about the relation _loves_. It is well known that Mickey Mouse lovel Minnie and the sentiment is reciprocal, and Donald Duck loves Daisy Duck and the sentiment is reciprocal. We can conclude this particular graph is symmetrical:"
   ]
  },
  {
   "cell_type": "code",
   "execution_count": 7,
   "metadata": {},
   "outputs": [
    {
     "data": {
      "image/png": "[encoded data removed]",
      "text/plain": [
       "<IPython.core.display.Image object>"
      ]
     },
     "metadata": {},
     "output_type": "display_data"
    }
   ],
   "source": [
    "from sciprog import draw_adj\n",
    "\n",
    "draw_adj({\n",
    "    'Donald Duck' : ['Daisy Duck'],\n",
    "    'Daisy Duck' : ['Donald Duck'],\n",
    "    'Mickey Mouse' : ['Minnie'],\n",
    "    'Minnie' : ['Mickey Mouse']\n",
    "    \n",
    "})"
   ]
  },
  {
   "cell_type": "markdown",
   "metadata": {},
   "source": [
    "But what about this one? Donald Duck is not the only duck in town and sometimes a contender shows up: [Gladstone Gander](https://en.wikipedia.org/wiki/Gladstone_Gander) (Gastone in Italian) also would like the attention of Daisy ( never mind in some comics he actually gets it when Donald Duck messes up big time): \n"
   ]
  },
  {
   "cell_type": "code",
   "execution_count": 8,
   "metadata": {},
   "outputs": [
    {
     "data": {
      "image/png": "[encoded data removed]",
      "text/plain": [
       "<IPython.core.display.Image object>"
      ]
     },
     "metadata": {},
     "output_type": "display_data"
    }
   ],
   "source": [
    "from sciprog import draw_adj\n",
    "\n",
    "draw_adj({\n",
    "    'Donald Duck' : ['Daisy Duck'],\n",
    "    'Daisy Duck' : ['Donald Duck'],\n",
    "    'Mickey Mouse' : ['Minnie'],\n",
    "    'Minnie' : ['Mickey Mouse'],\n",
    "    'Gladstone Gander' : ['Daisy Duck']\n",
    "    \n",
    "})"
   ]
  },
  {
   "cell_type": "markdown",
   "metadata": {},
   "source": [
    "### is_symmetric_mat\n",
    "\n",
    "✪✪ Implement an automated procedure to check whether or not a graph is symmetrical. Implement this function for matrices:"
   ]
  },
  {
   "cell_type": "code",
   "execution_count": 9,
   "metadata": {},
   "outputs": [],
   "source": [
    "\n",
    "def is_symmetric_mat(mat):\n",
    "    \"\"\" RETURN True if nxn boolean matrix mat as list of lists is symmetric, False otherwise.\n",
    "    \n",
    "        A graph is symmetric when for all nodes, if a node A links to another node B, \n",
    "        there is a also a link from node B to A. \n",
    "        \n",
    "        NOTE: if \n",
    "    \"\"\"\n",
    "    #jupman-raise\n",
    "    n = len(mat)\n",
    "    for i in range(n):\n",
    "        for j in range(n):\n",
    "            if mat[i][j] and not mat[j][i]:\n",
    "                return False\n",
    "    return True\n",
    "    #/jupman-raise\n",
    "    \n",
    "assert is_symmetric_mat([\n",
    "                        [False]\n",
    "                    ]) == True   # m1\n",
    "\n",
    "assert is_symmetric_mat([\n",
    "                        [True]\n",
    "                    ]) == True  # m2\n",
    "\n",
    "\n",
    "assert is_symmetric_mat([\n",
    "                        [False, False],\n",
    "                        [False, False],\n",
    "    \n",
    "                    ]) == True  # m3 \n",
    "\n",
    "assert is_symmetric_mat([\n",
    "                        [True, True],\n",
    "                        [True, True],\n",
    "    \n",
    "                    ]) == True  # m4\n",
    "\n",
    "assert is_symmetric_mat([\n",
    "                        [True, True],\n",
    "                        [False, True],\n",
    "     \n",
    "                    ]) == False  # m5\n",
    "\n",
    "assert is_symmetric_mat([\n",
    "                        [True, False],\n",
    "                        [True, True],\n",
    "    \n",
    "                    ]) == False  # m6\n",
    "\n",
    "\n",
    "assert is_symmetric_mat([\n",
    "                        [True, True],\n",
    "                        [True, False],\n",
    "    \n",
    "                    ]) == True  # m7\n",
    "\n",
    "assert is_symmetric_mat([\n",
    "                        [False, True],\n",
    "                        [True, True],\n",
    "    \n",
    "                    ]) == True  # m8\n",
    "\n",
    "assert is_symmetric_mat([\n",
    "                        [False, True],\n",
    "                        [True, False],\n",
    "    \n",
    "                    ]) == True  # m9\n",
    "\n",
    "assert is_symmetric_mat([\n",
    "                        [False, False],\n",
    "                        [True, False],\n",
    "    \n",
    "                    ]) == False    # m10\n",
    "\n",
    "assert is_symmetric_mat([\n",
    "                        [False, True, True],\n",
    "                        [True, False, False],\n",
    "                        [True, True, True],\n",
    "    \n",
    "                    ]) == False    # m11\n",
    "\n",
    "assert is_symmetric_mat([\n",
    "                        [False, True, True],\n",
    "                        [True, False, True],\n",
    "                        [True, True, True],\n",
    "    \n",
    "                    ]) == True    # m12\n"
   ]
  },
  {
   "cell_type": "markdown",
   "metadata": {},
   "source": [
    "### is_symmetric_adj\n",
    "\n",
    "✪✪ Now implement the same as before but for a dictionary of adjacency lists:"
   ]
  },
  {
   "cell_type": "code",
   "execution_count": 10,
   "metadata": {},
   "outputs": [],
   "source": [
    "\n",
    "def is_symmetric_adj(d):\n",
    "    \"\"\" RETURN True if given dictionary of adjacency lists is symmetric, False otherwise.\n",
    "    \n",
    "        Assume all the nodes are represented in the keys.\n",
    "    \n",
    "        A graph is symmetric when for all nodes, if a node A links to another node B, \n",
    "        there is a also a link from node B to A. \n",
    "        \n",
    "    \"\"\"\n",
    "    #jupman-raise\n",
    "    for k in d:\n",
    "        for v in d[k]:\n",
    "            if not k in d[v]:\n",
    "                return False\n",
    "    return True\n",
    "    #/jupman-raise\n",
    "    \n",
    "assert is_symmetric_adj({\n",
    "                        'a':[]\n",
    "                    }) == True   # d1\n",
    "\n",
    "assert is_symmetric_adj({\n",
    "                        'a':['a']\n",
    "                    }) == True  # d2\n",
    "\n",
    "\n",
    "assert is_symmetric_adj({ \n",
    "                        'a' : [],\n",
    "                        'b' : []\n",
    "                    }) == True  # d3 \n",
    "\n",
    "assert is_symmetric_adj({\n",
    "                        'a' : ['a','b'],\n",
    "                        'b' : ['a','b']    \n",
    "                    }) == True  # d4\n",
    "\n",
    "assert is_symmetric_adj({\n",
    "                        'a' : ['a','b'],\n",
    "                        'b' : ['b']    \n",
    "                    }) == False  # d5\n",
    "\n",
    "assert is_symmetric_adj({\n",
    "                        'a' : ['a'],\n",
    "                        'b' : ['a','b']    \n",
    "                    }) == False  # d6\n",
    "\n",
    "\n",
    "assert is_symmetric_adj({\n",
    "                        'a' : ['a','b'],\n",
    "                        'b' : ['a']    \n",
    "                    }) == True  # d7\n",
    "\n",
    "assert is_symmetric_adj({\n",
    "                        'a' : ['b'],\n",
    "                        'b' : ['a','b']    \n",
    "                    }) == True  # d8\n",
    "\n",
    "assert is_symmetric_adj({\n",
    "                        'a' : ['b'],\n",
    "                        'b' : ['a']    \n",
    "                    }) == True  # d9\n",
    "\n",
    "assert is_symmetric_adj({\n",
    "                        'a' : [],\n",
    "                        'b' : ['a']    \n",
    "                    }) == False    # d10\n",
    "\n",
    "assert is_symmetric_adj({\n",
    "                        'a' : ['b', 'c'],\n",
    "                        'b' : ['a'],\n",
    "                        'c' : ['a','b','c']\n",
    "                    }) == False    # d11\n",
    "\n",
    "assert is_symmetric_adj({\n",
    "                        'a' : ['b', 'c'],\n",
    "                        'b' : ['a','c'],\n",
    "                        'c' : ['a','b','c']\n",
    "                    }) == True    # d12\n",
    " "
   ]
  },
  {
   "cell_type": "markdown",
   "metadata": {},
   "source": [
    "\n",
    "### Further resources\n",
    "\n",
    "* [Rule based design](https://www.researchgate.net/profile/Stef_Joosten/publication/327022933_Rule_Based_Design/links/5b7321be45851546c903234a/Rule-Based-Design.pdf) by Lex Wedemeijer, Stef Joosten, Jaap van der woude: a very readable text on how to represent information using only binary relations with boolean matrices. This a theorical book with no python exercise so it is not a mandatory read, it only gives  context and practical applications for some of the material on graphs presented during the course"
   ]
  },
  {
   "cell_type": "code",
   "execution_count": null,
   "metadata": {},
   "outputs": [],
   "source": []
  }
 ],
 "metadata": {
  "celltoolbar": "Edit Metadata",
  "kernelspec": {
   "display_name": "Python 3",
   "language": "python",
   "name": "python3"
  },
  "language_info": {
   "codemirror_mode": {
    "name": "ipython",
    "version": 3
   },
   "file_extension": ".py",
   "mimetype": "text/x-python",
   "name": "python",
   "nbconvert_exporter": "python",
   "pygments_lexer": "ipython3",
   "version": "3.5.2"
  },
  "toc": {
   "base_numbering": 1,
   "nav_menu": {},
   "number_sections": false,
   "sideBar": true,
   "skip_h1_title": false,
   "title_cell": "Table of Contents",
   "title_sidebar": "Contents",
   "toc_cell": false,
   "toc_position": {
    "height": "calc(100% - 180px)",
    "left": "10px",
    "top": "150px",
    "width": "378px"
   },
   "toc_section_display": true,
   "toc_window_display": true
  }
 },
 "nbformat": 4,
 "nbformat_minor": 2
}
