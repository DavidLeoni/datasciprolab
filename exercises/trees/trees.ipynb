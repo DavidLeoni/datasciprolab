{
 "cells": [
  {
   "cell_type": "code",
   "execution_count": 1,
   "metadata": {
    "nbsphinx": "hidden"
   },
   "outputs": [],
   "source": [
    "#Please execute this cell\n",
    "import sys;\n",
    "sys.path.append('../../'); \n",
    "import jupman;"
   ]
  },
  {
   "cell_type": "markdown",
   "metadata": {
    "collapsed": true
   },
   "source": [
    "\n",
    "#  Trees \n",
    "\n",
    "\n",
    "## [Download exercises zip](../../_static/trees-exercises.zip) \n",
    "(before editing read whole introduction section 0.x)\n",
    "\n",
    "[Browse files online](https://github.com/DavidLeoni/datasciprolab/tree/master/exercises/trees)\n",
    "\n",
    "\n",
    "\n",
    "### What to do\n",
    "\n",
    "- unzip exercises in a folder, you should get something like this: \n",
    "\n",
    "```\n",
    "\n",
    "-jupman.py\n",
    "-sciprog.py\n",
    "-other stuff ...\n",
    "-exercises\n",
    "     |-trees\n",
    "         |- trees.ipynb         \n",
    "         |- simple_trees.py\n",
    "         |- simple_trees_exercise.py\n",
    "         |- simple_trees_test.py\n",
    "         |- simple_trees_solution.py\n",
    "         |- gen_trees_test.py\n",
    "         |- gen_trees_exercise.py               \n",
    "         |- gen_trees_solution.py         \n",
    "         |- other stuff ..\n",
    "```\n",
    "\n",
    "\n",
    "- open the editor of your choice (for example Visual Studio Code, Spyder or PyCharme), you will edit the files ending in `_exercise.py` files\n",
    "- Go on reading this notebook, and follow instuctions inside.\n",
    "\n",
    "\n",
    "## 0. Introduction\n",
    "\n",
    "\n",
    "\n",
    "### 0.1) Theory\n",
    "\n",
    "See\n",
    "\n",
    "* Alberto Montresor [theory here](http://disi.unitn.it/~montreso/sp/slides/B03-alberi.pdf) \n",
    "* [Trees on the book](https://interactivepython.org/runestone/static/pythonds/Trees/toctree.html)\n",
    "    * In particular, [Vocabulary and definitions](https://interactivepython.org/runestone/static/pythonds/Trees/VocabularyandDefinitions.html)"
   ]
  },
  {
   "cell_type": "markdown",
   "metadata": {
    "collapsed": true
   },
   "source": [
    "#### Generic tree theory\n",
    "\n",
    "\n",
    "See Alberto Montresor  [Generic Tree theory](http://disi.unitn.it/~montreso/sp/slides/B03-alberi.pdf#Outline0.3)\n",
    "\n",
    "![](img/generic-tree-labeled.png)\n",
    "\n",
    "\n"
   ]
  },
  {
   "cell_type": "markdown",
   "metadata": {},
   "source": [
    "In this worksheet we are going to provide an implementation of a `GenericTree` class:\n",
    "\n",
    "* Why `GenericTree` ? Because many object hierarchies in real life tend to look like this, in one form or another \n",
    "* Differently from the `LinkedList`, which actually had two classes `Node` and `LinkedList` that was pointing to the first node, in this case we just have one `GenericTree` class. So to grow a tree like the above one in the picture, for each of the boxes that you see we will need to create one instance of `GenericTree` and link it to the other instances.\n",
    "* Ordinary simple trees just hold pointers to the children. In this case, we have an enriched tree which holds ponters also up to the  _parent_ and on the right to the _siblings_. Whenever we are going to manipulate the tree, we need to take good care of updating these pointers.\n",
    "\n"
   ]
  },
  {
   "cell_type": "markdown",
   "metadata": {},
   "source": [
    "\n",
    "\n",
    "<div class=\"alert alert-info\">\n",
    "\n",
    "    **ROOT NODE**: In this context, we call a node _root_ \n",
    "            if has no incoming edges _and _ it has no parent nor sibling\n",
    "</div>\n",
    "\n",
    "<div class=\"alert alert-info\">\n",
    "\n",
    "    **DETACHING A NODE**: In this context, when we _detach_ a node from a tree, \n",
    "    the node  becomes the _root_ of a new tree, which means it will have no \n",
    "    link anymore with the tree it was in.\n",
    "</div>"
   ]
  },
  {
   "cell_type": "markdown",
   "metadata": {},
   "source": [
    "### 0.2) Code skeleton\n",
    "\n",
    "First off, download [the exercises zip](_static/trees-exercises.zip) and look at the files:\n",
    "\n",
    "* `exercise/trees/gen_tree.py`    : the exercise to edit\n",
    "* `sciprog.py`: contains utility functions like `gt` (see later for description) and parent test `GenericTreeTest`. Do not modify this file. \n",
    "* `exercise/trees/gen_tree_test.py`: the tests to run. Do not modify this file.\n",
    "\n",
    "\n",
    "Before starting to implement methods in `GenericTree` class, read all the following sub sections (starting with '0.x')\n",
    "\n",
    "\n",
    " "
   ]
  },
  {
   "cell_type": "markdown",
   "metadata": {},
   "source": [
    "\n",
    "### 0.3) Building trees\n",
    "\n",
    "Let's learn how to build `GenericTree`. For these trials, feel free to launch a Python 3 interpreter and load this module: "
   ]
  },
  {
   "cell_type": "code",
   "execution_count": 2,
   "metadata": {},
   "outputs": [],
   "source": [
    "from gen_tree_solution import *"
   ]
  },
  {
   "cell_type": "markdown",
   "metadata": {},
   "source": [
    "\n",
    "### 0.3.1) Pointers\n",
    "\n",
    "A `GenericTree` class holds 3 pointers that link it to the other nodes: `_child`, `_sibling` and `_parent`.\n",
    "It also holds a value `data` which is provided by the user to store arbitrary data (could be ints, strings, lists, even other trees, we don't care):\n",
    "\n",
    "```python\n",
    "\n",
    "class GenericTree:\n",
    "    \n",
    "    def __init__(self, data):\n",
    "        self._data = data\n",
    "        self._child = None\n",
    "        self._sibling = None\n",
    "        self._parent = None   \n",
    "```\n",
    "\n",
    "To create a tree of one node, just call the constructor passing whatever you want like this:\n"
   ]
  },
  {
   "cell_type": "code",
   "execution_count": 3,
   "metadata": {},
   "outputs": [],
   "source": [
    "tblah = GenericTree(\"blah\")\n",
    "tn = GenericTree(5)"
   ]
  },
  {
   "cell_type": "markdown",
   "metadata": {},
   "source": [
    "\n",
    "Note that with the provided constructor you can't pass children.\n",
    "\n",
    "### 0.3.2) Building with `insert_child`\n",
    "\n",
    "To grow a `GenericTree`, as basic building block you will have to implement `insert_child`:\n",
    "\n",
    "```python\n",
    "    def insert_child(self, new_child):        \n",
    "        \"\"\" Inserts new_child at the beginning of the children sequence. \"\"\"               \n",
    "```\n",
    "\n",
    "You can call it like this:"
   ]
  },
  {
   "cell_type": "code",
   "execution_count": 4,
   "metadata": {},
   "outputs": [
    {
     "name": "stdout",
     "output_type": "stream",
     "text": [
      "a\n"
     ]
    }
   ],
   "source": [
    "\n",
    "ta = GenericTree('a')\n",
    "print(ta)   # 'a' is the root\n"
   ]
  },
  {
   "cell_type": "code",
   "execution_count": 5,
   "metadata": {},
   "outputs": [
    {
     "name": "stdout",
     "output_type": "stream",
     "text": [
      "a\n",
      "└b\n"
     ]
    }
   ],
   "source": [
    "   \n",
    "tb = GenericTree('b')\n",
    "ta.insert_child(tb)\n",
    "print(ta)"
   ]
  },
  {
   "cell_type": "markdown",
   "metadata": {},
   "source": [
    "```\n",
    "a     'a' is the root \n",
    "└b    'b' is the child . The '└' means just that it is also the last child of the siblings sequence\n",
    "```"
   ]
  },
  {
   "cell_type": "code",
   "execution_count": 6,
   "metadata": {},
   "outputs": [
    {
     "name": "stdout",
     "output_type": "stream",
     "text": [
      "a\n",
      "├c\n",
      "└b\n"
     ]
    }
   ],
   "source": [
    "tc = GenericTree('c')\n",
    "ta.insert_child(tc)\n",
    "print(ta)"
   ]
  },
  {
   "cell_type": "markdown",
   "metadata": {},
   "source": [
    "```\n",
    "a          # 'a' is the root \n",
    "├c         # 'c' is inserted as the first child (would be shown on the left in the graph image)\n",
    "└b         # 'b' is now the next sibling of c  The '\\' means just that it \n",
    "           #  is also the last child of the siblings sequence\n",
    "```\n"
   ]
  },
  {
   "cell_type": "code",
   "execution_count": 7,
   "metadata": {},
   "outputs": [
    {
     "name": "stdout",
     "output_type": "stream",
     "text": [
      "a\n",
      "├c\n",
      "│└d\n",
      "└b\n"
     ]
    }
   ],
   "source": [
    "td = GenericTree('d')\n",
    "tc.insert_child(td)\n",
    "print(ta)"
   ]
  },
  {
   "cell_type": "markdown",
   "metadata": {},
   "source": [
    "```\n",
    "a         # 'a' is the root \n",
    "├c        # 'c' is the first child of 'a'\n",
    "|└d       # 'd' is the first child of 'c'\n",
    "└b        # 'b' is the next sibling of c\n",
    "```"
   ]
  },
  {
   "cell_type": "markdown",
   "metadata": {},
   "source": [
    "\n",
    "### 0.3.3) Building with `gt`\n",
    "\n",
    "If you need to test your data structure, we provide you with this handy function `gt` in `sciprog` module that allows to easily construct trees from other trees.\n",
    "\n",
    "<br/>\n",
    "\n",
    "<div class=\"alert alert-warning\">\n",
    "\n",
    "**WARNING:** DO NOT USE `gt` inside your implementation code !!!! `gt` is just meant for testing.\n",
    "</div>\n",
    "\n",
    "```python\n",
    "def gt(*args):\n",
    "    \"\"\" Shorthand function that returns a GenericTree containing the provided \n",
    "        data and children. First parameter is the data, the following ones are the children.\n",
    "```"
   ]
  },
  {
   "cell_type": "code",
   "execution_count": 8,
   "metadata": {},
   "outputs": [
    {
     "ename": "Exception",
     "evalue": "Cannot find a module containg GenericTree definition !",
     "output_type": "error",
     "traceback": [
      "\u001b[0;31m---------------------------------------------------------------------------\u001b[0m",
      "\u001b[0;31mException\u001b[0m                                 Traceback (most recent call last)",
      "\u001b[0;32m<ipython-input-8-4a79dba91915>\u001b[0m in \u001b[0;36m<module>\u001b[0;34m()\u001b[0m\n\u001b[1;32m      4\u001b[0m \u001b[0;34m\u001b[0m\u001b[0m\n\u001b[1;32m      5\u001b[0m \u001b[0;31m# NOTE: this function is _not_ a class method, you can directly invoke it like this:\u001b[0m\u001b[0;34m\u001b[0m\u001b[0;34m\u001b[0m\u001b[0m\n\u001b[0;32m----> 6\u001b[0;31m \u001b[0mprint\u001b[0m\u001b[0;34m(\u001b[0m\u001b[0mgt\u001b[0m\u001b[0;34m(\u001b[0m\u001b[0;34m'a'\u001b[0m\u001b[0;34m)\u001b[0m\u001b[0;34m)\u001b[0m\u001b[0;34m\u001b[0m\u001b[0m\n\u001b[0m",
      "\u001b[0;32m~/Da/prj/datasciprolab/prj/sciprog.py\u001b[0m in \u001b[0;36mgt\u001b[0;34m(*args)\u001b[0m\n\u001b[1;32m     46\u001b[0m     \u001b[0mchildren\u001b[0m \u001b[0;34m=\u001b[0m \u001b[0margs\u001b[0m\u001b[0;34m[\u001b[0m\u001b[0;36m1\u001b[0m\u001b[0;34m:\u001b[0m\u001b[0;34m]\u001b[0m\u001b[0;34m\u001b[0m\u001b[0m\n\u001b[1;32m     47\u001b[0m \u001b[0;34m\u001b[0m\u001b[0m\n\u001b[0;32m---> 48\u001b[0;31m     \u001b[0mGenericTree\u001b[0m \u001b[0;34m=\u001b[0m \u001b[0m_get_generic_tree_def\u001b[0m\u001b[0;34m(\u001b[0m\u001b[0;34m)\u001b[0m\u001b[0;34m\u001b[0m\u001b[0m\n\u001b[0m\u001b[1;32m     49\u001b[0m \u001b[0;34m\u001b[0m\u001b[0m\n\u001b[1;32m     50\u001b[0m     \u001b[0mr\u001b[0m \u001b[0;34m=\u001b[0m \u001b[0mGenericTree\u001b[0m\u001b[0;34m(\u001b[0m\u001b[0mdata\u001b[0m\u001b[0;34m)\u001b[0m\u001b[0;34m\u001b[0m\u001b[0m\n",
      "\u001b[0;32m~/Da/prj/datasciprolab/prj/sciprog.py\u001b[0m in \u001b[0;36m_get_generic_tree_def\u001b[0;34m()\u001b[0m\n\u001b[1;32m     22\u001b[0m         \u001b[0;32mreturn\u001b[0m \u001b[0mgetattr\u001b[0m\u001b[0;34m(\u001b[0m\u001b[0msys\u001b[0m\u001b[0;34m.\u001b[0m\u001b[0mmodules\u001b[0m\u001b[0;34m[\u001b[0m\u001b[0;34m'tree_solution'\u001b[0m\u001b[0;34m]\u001b[0m\u001b[0;34m,\u001b[0m \u001b[0;34m'GenericTree'\u001b[0m\u001b[0;34m)\u001b[0m\u001b[0;34m\u001b[0m\u001b[0m\n\u001b[1;32m     23\u001b[0m     \u001b[0;32melse\u001b[0m\u001b[0;34m:\u001b[0m\u001b[0;34m\u001b[0m\u001b[0m\n\u001b[0;32m---> 24\u001b[0;31m         \u001b[0;32mraise\u001b[0m \u001b[0mException\u001b[0m\u001b[0;34m(\u001b[0m\u001b[0;34m\"Cannot find a module containg GenericTree definition !\"\u001b[0m\u001b[0;34m)\u001b[0m\u001b[0;34m\u001b[0m\u001b[0m\n\u001b[0m\u001b[1;32m     25\u001b[0m \u001b[0;34m\u001b[0m\u001b[0m\n\u001b[1;32m     26\u001b[0m \u001b[0;34m\u001b[0m\u001b[0m\n",
      "\u001b[0;31mException\u001b[0m: Cannot find a module containg GenericTree definition !"
     ]
    }
   ],
   "source": [
    "# first remember to import it from sciprog:\n",
    "\n",
    "from sciprog import gt\n",
    "\n",
    "# NOTE: this function is _not_ a class method, you can directly invoke it like this:\n",
    "print(gt('a'))"
   ]
  },
  {
   "cell_type": "code",
   "execution_count": null,
   "metadata": {},
   "outputs": [],
   "source": [
    "# NOTE: the external call gt('a', ......... )  INCLUDES gt('b') and gt('c') in the parameters !\n",
    "\n",
    "print(gt('a', gt('b'), gt('c')))\n"
   ]
  },
  {
   "cell_type": "code",
   "execution_count": null,
   "metadata": {},
   "outputs": [],
   "source": []
  },
  {
   "cell_type": "markdown",
   "metadata": {},
   "source": [
    "### 0.4) Displaying trees side by side with `str_trees`\n",
    "\n",
    "If you have a couple of trees, like the actual one you get from your method calls and the one you expect, it might be useful to display them side by side with the `str_trees` method in `sciprog` module:"
   ]
  },
  {
   "cell_type": "code",
   "execution_count": null,
   "metadata": {},
   "outputs": [],
   "source": [
    "# first remember to import it:\n",
    "\n",
    "from algolab import str_trees\n",
    "\n",
    "# NOTE: this function is _not_ a class method, you can directly invoke it like this:\n",
    "print(str_trees(gt('a', gt('b')), gt('x', gt('y'), gt('z'))))"
   ]
  },
  {
   "cell_type": "markdown",
   "metadata": {},
   "source": [
    "### 0.5 Look at the tests\n",
    "\n",
    "Have a look at the `gen_tree_test.py` file header:\n",
    "\n",
    "```python\n",
    "from gen_tree import *\n",
    "from sciprog import gt\n",
    "from sciprog import GenericTreeTest\n",
    "import unittest\n",
    "```\n",
    "\n",
    "* First it imports `GenericTree` class from exercises files `tree`.\n",
    "* then it imports from  our toolbox library `algolab` tow things:\n",
    "    * `gt` function\n",
    "    * `GenericTreeTest`, from which all of tree tests inherit\n",
    "\n",
    "### 0.6 Look at sciprog.GenericTreeTest\n",
    "\n",
    "\n",
    "Have a quick look at `GenericTreeTest` definitions inside `sciprog.py` (don't stare too much at that file, the code violates pretty much all the principles I'm preaching):\n",
    "\n",
    "```python\n",
    "class GenericTreeTest(unittest.TestCase):\n",
    "\n",
    "    def assertReturnNone(self, ret, function_name):\n",
    "        \"\"\" Asserts method result ret equals None \"\"\"\n",
    "\n",
    "    def assertRoot(self, t):\n",
    "        \"\"\" Checks provided node t is a root, if not raises Exception \"\"\"\n",
    "\n",
    "    def assertTreeEqual(self, t1, t2):\n",
    "        \"\"\" Asserts the trees t1 and t2 are equal \"\"\"\n",
    "```\n",
    "\n",
    "We see we added extra asserts you will later find used around in test methods. Of these ones, the most important is `assertTreeEqual`: when you have complex data structures like trees, it is helpful being able to compare the tree you obtain from your method calls to the tree you expect. This assertion we created provides a way to quickly display such differences. "
   ]
  },
  {
   "cell_type": "markdown",
   "metadata": {},
   "source": [
    "\n",
    "\n",
    "## 1) Implement basic methods \n",
    "\n",
    "![](img/generic-tree-labeled.png)\n",
    "\n",
    "Start editing `tree.py`, implementing methods in `GenericTree` in the order you find them in the next points.\n",
    "\n",
    "<br/>\n",
    "<div class=\"alert alert-info\">\n",
    "\n",
    "**IMPORTANT**: All methods and functions without written inside `raise Exception(\"TODO IMPLEMENT ME!\")` are already provided and you don't need to edit them !\n",
    "</div>\n",
    "\n",
    "\n",
    "### 1.1) `insert_child`\n",
    "\n",
    "Implement method `insert_child`, which is the basic building block for our `GenericTree`:\n",
    "\n",
    "```python\n",
    "    def insert_child(self, new_child):        \n",
    "        \"\"\" Inserts new_child at the beginning of the children sequence. \"\"\"\n",
    "```\n",
    "\n",
    "**IMPORTANT**: before proceding, make sure the tests for it pass by running:\n",
    "\n",
    "`python3 -m unittest tree_test.InsertChildTest`\n",
    "\n",
    "**QUESTION**: Look at the tests, they are quite thourough and verbose. Why ?\n",
    "\n",
    "### 1.2) `insert_children`\n",
    "\n",
    "Implement `insert_children`:\n",
    "\n",
    "```python\n",
    "    def insert_children(self, new_children):        \n",
    "        \"\"\" Takes a list of children and inserts them at the beginning of the current children sequence,\n",
    "            \n",
    "            NOTE: in the new sequence new_children appear in the order they are passed to the function!\n",
    "            \n",
    "        \n",
    "            For example:\n",
    "                >>> t = gt('a', gt('b'), gt('c))\n",
    "                >>> print t\n",
    "                \n",
    "                a\n",
    "                ├b                                \n",
    "                └c\n",
    "\n",
    "                >>>  t.insert_children([gt('d'), gt('e')])\n",
    "                >>> print t               \n",
    "                \n",
    "                a\n",
    "                ├d\n",
    "                ├e\n",
    "                ├b                \n",
    "                └c\n",
    "        \"\"\"\n",
    "```\n",
    "\n",
    "\n",
    "**HINT 1**: try to reuse `insert_child`, but note it inserts only to the left. Calling it on the input sequence you would get wrong ordering in the tree. \n",
    "\n",
    "<br/>\n",
    "<div class=\"alert alert-warning\">\n",
    "\n",
    "**WARNING**: Function description does not say anything about changing the input `new_children`, so users calling your method don't expect you to modify it ! However, you can internally produce a new Python list out of the input one, if you wish to. \n",
    "</div>\n",
    "\n",
    "**Testing:**  `python3 -m unittest tree_test.InsertChildrenTest`\n",
    "\n",
    "### 1.3) `insert_sibling`\n",
    "\n",
    "\n",
    "Implement `insert_sibling`:\n",
    "\n",
    "```python\n",
    "    def insert_sibling(self, new_sibling):\n",
    "        \"\"\" Inserts new_sibling as the *immediate* next sibling.\n",
    "            \n",
    "            If self is a root, raises an Exception \n",
    "        \"\"\"\n",
    "```\n",
    "\n",
    "**Testing:**  `python3 -m unittest tree_test.InsertSiblingTest`\n",
    "\n",
    "**Examples:**\n",
    "\n"
   ]
  },
  {
   "cell_type": "code",
   "execution_count": null,
   "metadata": {},
   "outputs": [],
   "source": [
    "tb = gt('b')\n",
    "ta = gt('a', tb, gt('c'))\n",
    "print(ta)"
   ]
  },
  {
   "cell_type": "code",
   "execution_count": null,
   "metadata": {},
   "outputs": [],
   "source": [
    "tx = gt('x', gt('y'))\n",
    "print(tx)"
   ]
  },
  {
   "cell_type": "code",
   "execution_count": null,
   "metadata": {},
   "outputs": [],
   "source": [
    "tb.insert_sibling(tx)\n",
    "print(ta)"
   ]
  },
  {
   "cell_type": "markdown",
   "metadata": {},
   "source": [
    "**QUESTION**: if you call `insert_sibling` an a root node such as `ta`, you should get an Exception. Why? Does it make sense to have parentless brothers ?\n",
    "\n",
    "```python\n",
    "ta.insert_sibling(g('z'))\n",
    "```\n",
    "\n",
    "```\n",
    "---------------------------------------------------------------------------\n",
    "Exception                                 Traceback (most recent call last)\n",
    "<ipython-input-35-a1e4ba8b1ee5> in <module>()\n",
    "----> 1 ta.insert_sibling(gt('z'))\n",
    "\n",
    "~/Da/prj/sciprolab2/prj/exercises/trees/tree_solution.py in insert_sibling(self, new_sibling)\n",
    "    128         \"\"\"\n",
    "    129         if (self.is_root()):\n",
    "--> 130             raise Exception(\"Can't add siblings to a root node !!\")\n",
    "    131 \n",
    "    132         new_sibling._parent = self._parent\n",
    "\n",
    "Exception: Can't add siblings to a root node !!\n",
    "```"
   ]
  },
  {
   "cell_type": "markdown",
   "metadata": {},
   "source": [
    "\n",
    "### 1.4 `insert_siblings`\n",
    "\n",
    "\n",
    "**Testing:**  `python3 -m unittest tree_test.InsertSiblingsTest`\n",
    "\n",
    "### 1.5 `detach_child`\n",
    "\n",
    "**QUESTION**: does a detached child have still any parent or sibling ?\n",
    "\n",
    "**Testing:**  `python3 -m unittest tree_test.DetachChildTest`\n",
    "\n",
    "### 1.6 `detach_sibling`\n",
    "\n",
    "**Testing:**  `python3 -m unittest tree_test.DetachSiblingTest`\n",
    "\n",
    "### 1.7 `detach`\n",
    "\n",
    "**Testing:**  `python3 -m unittest tree_test.DetachTest`\n",
    "\n",
    "### 1.8 `ancestors`\n",
    "\n",
    "![](img/generic-tree-labeled.png)\n",
    "\n",
    "Implement `ancestors`:\n",
    "\n",
    "```python\n",
    "def ancestors(self):\n",
    "        \"\"\" Return the ancestors up until the root as a Python list.             \n",
    "            First item in the list will be the parent of this node.\n",
    "\n",
    "            NOTE: this function return the *nodes*, not the data.\n",
    "        \"\"\"\n",
    "\n",
    "        raise Exception(\"TODO IMPLEMENT ME !\")\n",
    "```\n",
    "\n",
    "**Testing:** `python3 -m unittest tree_test.AncestorsTest`\n",
    "\n",
    "**Examples:**\n",
    "\n",
    "- ancestors of p:  f, b, a\n",
    "- ancestors of h:  c, a\n",
    "- ancestors of a:  empty list\n",
    "\n"
   ]
  },
  {
   "cell_type": "markdown",
   "metadata": {},
   "source": [
    "## 2 Implement more complex functions\n",
    "\n",
    "After you understood well and implemented the previous methods, you can continue with the following ones:\n",
    "\n",
    "### 2.1 `grandchildren`\n",
    "\n",
    "Implement the `grandchildren` method. *NOTE*: it returns the data inside the nodes, NOT the nodes !!!!!\n",
    "\n",
    "```python\n",
    "    def grandchildren(self):\n",
    "        \"\"\" Returns a python list containing the data of all the grandchildren of this\n",
    "            node.\n",
    "            \n",
    "            - Data must be from left to right order in the tree horizontal representation \n",
    "              (or up to down in the vertical representation). \n",
    "            - If there are no grandchildren, returns an empty array.\n",
    "            \n",
    "            For example, for this tree:\n",
    "            \n",
    "            a\n",
    "            ├b\n",
    "            │├c\n",
    "            │└d\n",
    "            │ └g\n",
    "            ├e\n",
    "            └f\n",
    "             └h  \n",
    "            \n",
    "            Returns ['c','d','h']\n",
    "        \"\"\"        \n",
    "```\n",
    "\n",
    "**Testing**: `python3 -m unittest tree_test.ZagTest`\n",
    "\n",
    "**Examples**:  \n"
   ]
  },
  {
   "cell_type": "code",
   "execution_count": null,
   "metadata": {},
   "outputs": [],
   "source": [
    "ta = gt('a', gt('b', gt('c')))\n",
    "print(ta)"
   ]
  },
  {
   "cell_type": "code",
   "execution_count": null,
   "metadata": {},
   "outputs": [],
   "source": [
    "print(ta.grandchildren())"
   ]
  },
  {
   "cell_type": "code",
   "execution_count": null,
   "metadata": {},
   "outputs": [],
   "source": [
    "ta = gt('a', gt('b'))\n",
    "print(ta)"
   ]
  },
  {
   "cell_type": "code",
   "execution_count": null,
   "metadata": {},
   "outputs": [],
   "source": [
    "print(ta.grandchildren())"
   ]
  },
  {
   "cell_type": "code",
   "execution_count": null,
   "metadata": {},
   "outputs": [],
   "source": [
    "ta = gt('a', gt('b', gt('c'), gt('d')), gt('e', gt('f')) )\n",
    "print(ta)"
   ]
  },
  {
   "cell_type": "code",
   "execution_count": null,
   "metadata": {},
   "outputs": [],
   "source": [
    "print(ta.grandchildren())"
   ]
  },
  {
   "cell_type": "markdown",
   "metadata": {},
   "source": [
    "### 2.2 Zig Zag\n",
    "\n",
    "Here you will be visiting a generic tree in various ways.\n",
    "\n",
    "![](img/generic-tree-labeled.png)\n",
    "\n",
    "\n",
    "#### 2.2.1 zig\n",
    "\n",
    "The method zig must return as output a list of data of the root and all the nodes in the chain of child attributes. Basically, you just have to follow the red lines and gather data in a list, until there are no more red lines to follow. \n",
    "\n",
    "**Testing**: `python3 -m unittest tree_test.ZigTest`\n",
    "\n",
    "**Examples**: in the labeled tree in the image, these would be the results of calling zig on various nodes:\n",
    "\n",
    "    From a: ['a','b', 'e']\n",
    "    From b: ['b', 'e']\n",
    "    From c: ['c', 'g']\n",
    "    From h: ['h']\n",
    "    From q: ['h']\n",
    "    \n",
    "    \n",
    "\n",
    "#### 2.2.2 zag\n",
    "\n",
    "This function is quite similar to zig, but this time it gathers data going right, along the sibling arrows. \n",
    "\n",
    "**Testing**: `python3 -m unittest tree_test.ZagTest`\n",
    "\n",
    "**Examples**:  in the labeled tree in the image, these would be the results of calling zag on various nodes:\n",
    "\n",
    "    From a : ['a']\n",
    "    From b : ['b', 'c', 'd']\n",
    "    From o : ['o', 'p']\n",
    "\n",
    "\n",
    "#### 2.2.3 zigzag\n",
    "\n",
    "As you are surely thinking, zig and zag alone are boring. So let's mix the concepts, and go zigzaging. This time you will write a function zigzag, that first zigs collecting data along the child vertical red chain as much as it can. Then, if the last node links to at least a sibling, the method continues to collect data along the siblings horizontal chain as much as it can. At this point, if it finds a child, it goes zigging again along the child vertical red chain as much as it can, and then horizontal zaging, and so on. It continues zig-zaging like this until it reaches a node that has no child nor sibling: when this happens returns the list of data found so far.\n",
    "\n",
    "**Testing**: `python3 -m unittest tree_test.ZigZagTest`\n",
    "\n",
    "**Examples**: in the labeled tree in the image, these would be the results of calling zigzag on various nodes:\n",
    "\n",
    "    From a: ['a', 'b', 'e', 'f', 'o']\n",
    "    From c: ['c', 'g', 'h', 'i', 'q'] NOTE: if node h had a child z, the process would still proceed to i\n",
    "    From d: ['d', 'm', 'n']\n",
    "    From o: ['o', 'p']\n",
    "    From n: ['n']\n"
   ]
  },
  {
   "cell_type": "markdown",
   "metadata": {},
   "source": [
    "### 2.4) uncles\n",
    "\n",
    "Implement the `uncles` method:\n",
    "\n",
    "```python\n",
    "    def uncles(self):\n",
    "        \"\"\" Returns a python list containing the data of all the uncles of this\n",
    "            node (that is, *all* the siblings of its parent).\n",
    "            \n",
    "            NOTE: returns also the father siblings which are *BEFORE* the father !! \n",
    "            \n",
    "            - Data must be from left to right order in the tree horizontal representation \n",
    "              (or up to down in the vertical representation). \n",
    "            - If there are no uncles, returns an empty array.\n",
    "            \n",
    "            For example, for this tree:\n",
    "            \n",
    "            a\n",
    "            ├b\n",
    "            │├c\n",
    "            │└d\n",
    "            │ └g\n",
    "            ├e\n",
    "            │└h  \n",
    "            └f\n",
    "            \n",
    "            calling this method on 'h' returns ['b','f']\n",
    "        \"\"\"        \n",
    "```\n",
    "**Testing**: `python3 -m unittest tree_test.UnclesTest`\n",
    "\n",
    "**Example usages:**"
   ]
  },
  {
   "cell_type": "code",
   "execution_count": null,
   "metadata": {},
   "outputs": [],
   "source": [
    "td = gt('d')\n",
    "tb = gt('b')\n",
    "ta = gt('a', tb,  gt('c', td), gt('e'))\n",
    "print(ta)"
   ]
  },
  {
   "cell_type": "code",
   "execution_count": null,
   "metadata": {},
   "outputs": [],
   "source": [
    "print(td.uncles())"
   ]
  },
  {
   "cell_type": "code",
   "execution_count": null,
   "metadata": {},
   "outputs": [],
   "source": [
    "print(tb.uncles())"
   ]
  },
  {
   "cell_type": "markdown",
   "metadata": {},
   "source": [
    "### 2.5 common_ancestor\n",
    "\n",
    "![](img/generic-tree-labeled.png)\n",
    "\n",
    "Implement the method `common_ancestor`:\n",
    "\n",
    "```python\n",
    "    def common_ancestor(self, gt2):\n",
    "        \"\"\" Return the first common ancestor of current node and the provided gt2 node\n",
    "            If gt2 is not a node of the same tree, raises LookupError\n",
    "\n",
    "            NOTE: this function returns a *node*, not the data.\n",
    "\n",
    "            Ideally, this method should perform in O(h) where h is the height of the tree.\n",
    "            (Hint: you should use a Python Set). If you can't figure out how to make it \n",
    "            that fast, try to make it at worst O(h^2)\n",
    "\n",
    "        \"\"\"        \n",
    "\n",
    "        raise Exception(\"TODO IMPLEMENT ME !\")\n",
    "```\n",
    "\n",
    "**Testing**: `python3 -m unittest tree_test.CommonAncestorTest`\n",
    "\n",
    "**Examples:**\n",
    "\n",
    "- common ancestor of g and i: tree rooted at c\n",
    "- common_ancestor of g and q: tree rooted at c\n",
    "- common_ancestor of e and d: tree rooted at a"
   ]
  },
  {
   "cell_type": "markdown",
   "metadata": {},
   "source": [
    "### 2.6 mirror\n",
    "\n",
    "\n",
    "```python\n",
    "    def mirror(self):\n",
    "        \"\"\" Modifies this tree by mirroring it, that is, reverses the order\n",
    "            of all children of this node and of all its descendants\n",
    "            \n",
    "            - MUST work in O(n) where n is the number of nodes\n",
    "            - MUST change the order of nodes, NOT the data (so don't touch the data !)\n",
    "            - DON'T create new nodes            \n",
    "            - It is acceptable to use a recursive method.\n",
    "                    \n",
    "            \n",
    "            Example:\n",
    "            \n",
    "            a     <-    Becomes:    a\n",
    "            ├b                      ├i\n",
    "            │├c                     ├e\n",
    "            │└d                     │├h\n",
    "            ├e                      │├g\n",
    "            │├f                     │└f \n",
    "            │├g                     └b\n",
    "            │└h                      ├d\n",
    "            └i                       └c\n",
    "\n",
    "        \"\"\"\n",
    "```\n",
    "\n",
    "**Testing**: `python3 -m unittest tree_test.MirrorTest`\n"
   ]
  },
  {
   "cell_type": "markdown",
   "metadata": {},
   "source": [
    "### 2.7 clone\n",
    "\n",
    "Implement the method clone:\n",
    "\n",
    "```python\n",
    "    def clone(self):\n",
    "        \"\"\" Clones this tree, by returning an *entirely* new tree which is an \n",
    "            exact copy of this tree (so returned node and *all* its descendants must be new). \n",
    "\n",
    "            - MUST run in O(n) where n is the number of nodes\n",
    "            - a recursive method is acceptable.\n",
    "        \"\"\"\n",
    "\n",
    "        raise Exception(\"TODO IMPLEMENT ME !\")\n",
    "```\n",
    "\n",
    "**Testing**: `python3 -m unittest tree_test.CloneTest`"
   ]
  },
  {
   "cell_type": "code",
   "execution_count": null,
   "metadata": {
    "nbsphinx": "hidden"
   },
   "outputs": [],
   "source": [
    "import sciprog\n",
    "jupman.run_solution('gen_tree')"
   ]
  },
  {
   "cell_type": "code",
   "execution_count": null,
   "metadata": {
    "nbsphinx": "hidden"
   },
   "outputs": [],
   "source": [
    "jupman.run(sciprog.GenericTreeTestTest)"
   ]
  },
  {
   "cell_type": "code",
   "execution_count": null,
   "metadata": {},
   "outputs": [],
   "source": []
  }
 ],
 "metadata": {
  "celltoolbar": "Edit Metadata",
  "kernelspec": {
   "display_name": "Python 3",
   "language": "python",
   "name": "python3"
  },
  "language_info": {
   "codemirror_mode": {
    "name": "ipython",
    "version": 3
   },
   "file_extension": ".py",
   "mimetype": "text/x-python",
   "name": "python",
   "nbconvert_exporter": "python",
   "pygments_lexer": "ipython3",
   "version": "3.5.2"
  },
  "toc": {
   "base_numbering": 1,
   "nav_menu": {},
   "number_sections": false,
   "sideBar": true,
   "skip_h1_title": false,
   "title_cell": "Table of Contents",
   "title_sidebar": "Contents",
   "toc_cell": false,
   "toc_position": {},
   "toc_section_display": true,
   "toc_window_display": true
  }
 },
 "nbformat": 4,
 "nbformat_minor": 1
}
