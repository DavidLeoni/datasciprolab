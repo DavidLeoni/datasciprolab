{
 "cells": [
  {
   "cell_type": "code",
   "execution_count": 1,
   "metadata": {
    "nbshpinx": "hidden"
   },
   "outputs": [],
   "source": [
    "#Please execute this cell\n",
    "import sys\n",
    "sys.path.append('../../')\n",
    "import jupman\n",
    "from sciprog import draw_mat\n",
    "from sciprog import draw_nx\n",
    "%matplotlib inline"
   ]
  },
  {
   "cell_type": "markdown",
   "metadata": {},
   "source": [
    "# Visualization solutions\n",
    "\n",
    "## [Download exercises zip](../../_static/visualization-exercises.zip)\n",
    "\n",
    "[Browse files online](https://github.com/DavidLeoni/datasciprolab/tree/master/exercises/visualization)\n",
    "\n",
    "\n",
    "## What to do\n",
    "\n",
    "- unzip exercises in a folder, you should get something like this: \n",
    "\n",
    "```\n",
    "\n",
    "-jupman.py\n",
    "-sciprog.py\n",
    "-other stuff ...\n",
    "-exercises\n",
    "     |- visualization\n",
    "         |- visualization-exercise.ipynb     \n",
    "         |- visualization-solution.ipynb\n",
    "         |- other stuff ..\n",
    "```\n",
    "\n",
    "<div class=\"alert alert-warning\">\n",
    "\n",
    "**WARNING**: to correctly visualize the notebook, it MUST be in an unzipped folder !\n",
    "</div>\n",
    "\n",
    "\n",
    "- open Jupyter Notebook from that folder. Two things should open, first a console and then browser. The browser should show a file list: navigate the list and open the notebook `exercises/visualization/visualization-exercise.ipynb`\n",
    "\n",
    "<div class=\"alert alert-warning\">\n",
    "\n",
    "**WARNING 2**: DO NOT use the _Upload_ button in Jupyter, instead navigate in Jupyter browser to the unzipped folder !\n",
    "</div>\n",
    "\n",
    "\n",
    "- Go on reading that notebook, and follow instuctions inside.\n",
    "\n",
    "\n",
    "Shortcut keys:\n",
    "\n",
    "- to execute Python code inside a Jupyter cell, press `Control + Enter`\n",
    "- to execute Python code inside a Jupyter cell AND select next cell, press `Shift + Enter`\n",
    "- to execute Python code inside a Jupyter cell AND a create a new cell aftwerwards, press `Alt + Enter`\n",
    "- If the notebooks look stuck, try to select `Kernel -> Restart`\n",
    "\n",
    "\n",
    "\n"
   ]
  },
  {
   "cell_type": "markdown",
   "metadata": {},
   "source": [
    "## Introduction"
   ]
  },
  {
   "cell_type": "markdown",
   "metadata": {},
   "source": [
    "## Matplotlib\n",
    "\n",
    "Reference: [Alberto Montresor slides A08](http://disi.unitn.it/~montreso/sp/handouts/A08-numpy.pdf)\n",
    "\n",
    "Let's start with a very simple plot:"
   ]
  },
  {
   "cell_type": "code",
   "execution_count": 2,
   "metadata": {},
   "outputs": [
    {
     "data": {
      "image/png": "[encoded data removed]",
      "text/plain": [
       "<matplotlib.figure.Figure at 0x7fca1000ff60>"
      ]
     },
     "metadata": {},
     "output_type": "display_data"
    }
   ],
   "source": [
    "# this is *not* a python command, it is a Jupyter-specific magic command, \n",
    "# to tell jupyter we want the graphs displayed in the cell outputs\n",
    "%matplotlib inline\n",
    "\n",
    "# imports matplotlib\n",
    "import matplotlib.pyplot as plt\n",
    "\n",
    "# we can give coordinates as simple numberlists\n",
    "# this are couples for the function y = 2 * x\n",
    "xs = [1, 2, 3, 4, 5, 6]\n",
    "ys = [2, 4, 6, 8,10,12]\n",
    "\n",
    "plt.plot(xs, ys)\n",
    "\n",
    "# we can add this studd after plot call, it doesn't matter\n",
    "plt.title(\"my function\")\n",
    "plt.xlabel('x')\n",
    "plt.ylabel('y')\n",
    "\n",
    "# prevents showing '<matplotlib.text.Text at 0x7fbcf3c4ff28>' in Jupyter\n",
    "plt.show() "
   ]
  },
  {
   "cell_type": "markdown",
   "metadata": {},
   "source": [
    "### Plot style\n",
    "\n",
    "To change the way the line is displayed, you can set dot styles with another string parameter. For example, to display red dots, you would add the string `ro`, where `r` stands for red and `o` stands for dot."
   ]
  },
  {
   "cell_type": "code",
   "execution_count": 3,
   "metadata": {},
   "outputs": [
    {
     "data": {
      "image/png": "[encoded data removed]",
      "text/plain": [
       "<matplotlib.figure.Figure at 0x7fc9f2802fd0>"
      ]
     },
     "metadata": {},
     "output_type": "display_data"
    }
   ],
   "source": [
    "%matplotlib inline\n",
    "import matplotlib.pyplot as plt\n",
    "\n",
    "xs = [1, 2, 3, 4, 5, 6]\n",
    "ys = [2, 4, 6, 8,10,12]\n",
    "\n",
    "plt.plot(xs, ys, 'ro')  # NOW USING RED DOTS\n",
    "\n",
    "plt.title(\"my function\")\n",
    "plt.xlabel('x')\n",
    "plt.ylabel('y')\n",
    "\n",
    "plt.show() "
   ]
  },
  {
   "cell_type": "markdown",
   "metadata": {},
   "source": [
    "### x power  2 exercise\n",
    "\n",
    "Try to display the function `y = x**2`  (x power 2) using green dots and for integer xs going from -10 to 10"
   ]
  },
  {
   "cell_type": "code",
   "execution_count": 4,
   "metadata": {},
   "outputs": [
    {
     "data": {
      "image/png": "[encoded data removed]",
      "text/plain": [
       "<matplotlib.figure.Figure at 0x7fc9efe7eef0>"
      ]
     },
     "metadata": {},
     "output_type": "display_data"
    }
   ],
   "source": [
    "# SOLUTION\n",
    "\n",
    "%matplotlib inline\n",
    "import matplotlib.pyplot as plt\n",
    "\n",
    "xs = range(-10, 10)\n",
    "ys = [x**2 for x in xs ]\n",
    "\n",
    "plt.plot(xs, ys, 'go')  \n",
    "\n",
    "plt.title(\"x squared\")\n",
    "plt.xlabel('x')\n",
    "plt.ylabel('y')\n",
    "\n",
    "plt.show() "
   ]
  },
  {
   "cell_type": "code",
   "execution_count": 5,
   "metadata": {},
   "outputs": [],
   "source": [
    "# write here\n",
    "\n"
   ]
  },
  {
   "cell_type": "markdown",
   "metadata": {},
   "source": [
    "### Axis limits\n",
    "\n",
    "If you want to change the x axis, you can use `plt.xlim`:"
   ]
  },
  {
   "cell_type": "code",
   "execution_count": 6,
   "metadata": {},
   "outputs": [
    {
     "data": {
      "image/png": "[encoded data removed]",
      "text/plain": [
       "<matplotlib.figure.Figure at 0x7fc9efe7e048>"
      ]
     },
     "metadata": {},
     "output_type": "display_data"
    }
   ],
   "source": [
    "%matplotlib inline\n",
    "import matplotlib.pyplot as plt\n",
    "\n",
    "xs = [1, 2, 3, 4, 5, 6]\n",
    "ys = [2, 4, 6, 8,10,12]\n",
    "\n",
    "plt.plot(xs, ys, 'ro')  \n",
    "\n",
    "plt.title(\"my function\")\n",
    "plt.xlabel('x')\n",
    "plt.ylabel('y')\n",
    "\n",
    "plt.xlim(-5, 10)  # SETS LOWER X DISPLAY TO -5 AND UPPER TO 10\n",
    "plt.ylim(-7, 26)  # SETS LOWER Y DISPLAY TO -7 AND UPPER TO 26\n",
    "\n",
    "plt.show() "
   ]
  },
  {
   "cell_type": "markdown",
   "metadata": {},
   "source": [
    "### Axis size"
   ]
  },
  {
   "cell_type": "code",
   "execution_count": 7,
   "metadata": {},
   "outputs": [
    {
     "data": {
      "image/png": "[encoded data removed]",
      "text/plain": [
       "<matplotlib.figure.Figure at 0x7fc9f0139d68>"
      ]
     },
     "metadata": {},
     "output_type": "display_data"
    }
   ],
   "source": [
    "%matplotlib inline\n",
    "import matplotlib.pyplot as plt\n",
    "\n",
    "xs = [1, 2, 3, 4, 5, 6]\n",
    "ys = [2, 4, 6, 8,10,12]\n",
    "\n",
    "fig = plt.figure(figsize=(10,3))  # width: 10 inches, height 3 inches\n",
    "\n",
    "plt.plot(xs, ys, 'ro')  \n",
    "\n",
    "plt.title(\"my function\")\n",
    "plt.xlabel('x')\n",
    "plt.ylabel('y')\n",
    "\n",
    "\n",
    "plt.show() \n"
   ]
  },
  {
   "cell_type": "markdown",
   "metadata": {},
   "source": [
    "### Changing tick labels"
   ]
  },
  {
   "cell_type": "markdown",
   "metadata": {},
   "source": [
    "You can also change labels displayed on ticks on axis with `plt.xticks` and `plt.yticks` functions:\n",
    "\n",
    "**Note:** instead of `xticks` you might directly use [categorical variables](https://matplotlib.org/gallery/lines_bars_and_markers/categorical_variables.html) IF you have matplotlib >= 2.1.0\n",
    "\n",
    "Here we use `xticks` as sometimes you might need to fiddle with them anyway"
   ]
  },
  {
   "cell_type": "code",
   "execution_count": 8,
   "metadata": {},
   "outputs": [
    {
     "data": {
      "image/png": "[encoded data removed]",
      "text/plain": [
       "<matplotlib.figure.Figure at 0x7fc9f0139f60>"
      ]
     },
     "metadata": {},
     "output_type": "display_data"
    }
   ],
   "source": [
    "%matplotlib inline\n",
    "import matplotlib.pyplot as plt\n",
    "\n",
    "xs = [1, 2, 3, 4, 5, 6]\n",
    "ys = [2, 4, 6, 8,10,12]\n",
    "\n",
    "plt.plot(xs, ys, 'ro')  \n",
    "\n",
    "plt.title(\"my function\")\n",
    "plt.xlabel('x')\n",
    "plt.ylabel('y')\n",
    "\n",
    "# FIRST NEEDS A SEQUENCE WITH THE POSITIONS, THEN A SEQUENCE OF SAME LENGTH WITH LABELS\n",
    "plt.xticks(xs, ['a', 'b', 'c', 'd', 'e', 'f'])   \n",
    "plt.show() "
   ]
  },
  {
   "cell_type": "markdown",
   "metadata": {},
   "source": [
    "### Introducting numpy"
   ]
  },
  {
   "cell_type": "markdown",
   "metadata": {},
   "source": [
    "For functions involving reals, vanilla python starts showing its limits and its better to switch to numpy library. Matplotlib can easily handle both vanilla python sequences like lists and numpy array.\n",
    "Let's see an example without numpy and one with it."
   ]
  },
  {
   "cell_type": "markdown",
   "metadata": {},
   "source": [
    "### Example without numpy\n",
    "\n",
    "If we only use _vanilla_ python (that is, python without extra libraries like numpy), to display the function `y = 2x + 1` we can come up witha solution like this"
   ]
  },
  {
   "cell_type": "code",
   "execution_count": 9,
   "metadata": {},
   "outputs": [
    {
     "data": {
      "image/png": "[encoded data removed]",
      "text/plain": [
       "<matplotlib.figure.Figure at 0x7fc9efd41470>"
      ]
     },
     "metadata": {},
     "output_type": "display_data"
    }
   ],
   "source": [
    "\n",
    "%matplotlib inline\n",
    "import matplotlib.pyplot as plt\n",
    "\n",
    "xs = [x*0.1 for x in range(10)]   # notice we can't do a range with float increments \n",
    "                                  # (and it would also introduce rounding errors)\n",
    "ys = [(x * 2) + 1 for x in xs]  \n",
    "\n",
    "plt.plot(xs, ys, 'bo')  \n",
    "\n",
    "plt.title(\"y = 2x + 1  with vanilla python\")\n",
    "plt.xlabel('x')\n",
    "plt.ylabel('y')\n",
    "\n",
    "plt.show() "
   ]
  },
  {
   "cell_type": "markdown",
   "metadata": {},
   "source": [
    "### Example with numpy\n",
    "\n",
    "With numpy, we have at our disposal several new methods for dealing with arrays.\n",
    "\n",
    "First we can generate an interval of values with one of these methods. \n",
    "\n",
    "Sine Python range does not allow float increments, we can use `np.arange`:"
   ]
  },
  {
   "cell_type": "code",
   "execution_count": 10,
   "metadata": {},
   "outputs": [
    {
     "data": {
      "text/plain": [
       "array([ 0. ,  0.1,  0.2,  0.3,  0.4,  0.5,  0.6,  0.7,  0.8,  0.9])"
      ]
     },
     "execution_count": 10,
     "metadata": {},
     "output_type": "execute_result"
    }
   ],
   "source": [
    "import numpy as np \n",
    "\n",
    "xs = np.arange(0,1.0,0.1)\n",
    "xs"
   ]
  },
  {
   "cell_type": "markdown",
   "metadata": {},
   "source": [
    "Equivalently, we could use `np.linspace`:"
   ]
  },
  {
   "cell_type": "code",
   "execution_count": 11,
   "metadata": {},
   "outputs": [
    {
     "data": {
      "text/plain": [
       "array([ 0. ,  0.1,  0.2,  0.3,  0.4,  0.5,  0.6,  0.7,  0.8,  0.9])"
      ]
     },
     "execution_count": 11,
     "metadata": {},
     "output_type": "execute_result"
    }
   ],
   "source": [
    "xs = np.linspace(0,0.9,10)\n",
    "\n",
    "xs"
   ]
  },
  {
   "cell_type": "markdown",
   "metadata": {},
   "source": [
    "Numpy allows us to easily write functions on arrays in a natural manner. For example, to calculate `ys` we can now do like this:"
   ]
  },
  {
   "cell_type": "code",
   "execution_count": 12,
   "metadata": {},
   "outputs": [
    {
     "data": {
      "text/plain": [
       "array([ 1. ,  1.2,  1.4,  1.6,  1.8,  2. ,  2.2,  2.4,  2.6,  2.8])"
      ]
     },
     "execution_count": 12,
     "metadata": {},
     "output_type": "execute_result"
    }
   ],
   "source": [
    "ys = 2*xs + 1\n",
    "\n",
    "ys"
   ]
  },
  {
   "cell_type": "markdown",
   "metadata": {},
   "source": [
    "Let's put everything together:"
   ]
  },
  {
   "cell_type": "code",
   "execution_count": 13,
   "metadata": {},
   "outputs": [
    {
     "data": {
      "image/png": "[encoded data removed]",
      "text/plain": [
       "<matplotlib.figure.Figure at 0x7fc9efcffb00>"
      ]
     },
     "metadata": {},
     "output_type": "display_data"
    }
   ],
   "source": [
    "%matplotlib inline\n",
    "import matplotlib.pyplot as plt\n",
    "import numpy as np\n",
    "\n",
    "xs = np.linspace(0,0.9,10)  # left end: 0 *included*  right end: 0.9  *included*   number of values: 10\n",
    "ys = 2*xs + 1    \n",
    "\n",
    "plt.plot(xs, ys, 'bo')  \n",
    "\n",
    "plt.title(\"y = 2x + 1  with numpy\")\n",
    "plt.xlabel('x')\n",
    "plt.ylabel('y')\n",
    "\n",
    "plt.show() "
   ]
  },
  {
   "cell_type": "markdown",
   "metadata": {},
   "source": [
    "### y = sin(x) + 3 exercise\n",
    "\n",
    "Try to display the function `y = sin(x) + 3`  for x at pi/4 intervals, starting from 0. Use 8 ticks.\n",
    "\n",
    "**NOTE**: 8 is the _number of x ticks_ (telecom people would use the term 'samples'), **NOT** the x of the last tick !!\n",
    "\n",
    "a) try to solve it without using numpy. For pi, use constant `math.pi` (first you need to import `math` module)\n",
    "\n",
    "b) try to solve it with numpy. For pi, use constant `np.pi` (which is exactly the same as `math.pi`)\n",
    "\n",
    "b.1) solve it with `np.arange`\n",
    "\n",
    "b.2) solve it with `np.linspace`\n",
    "\n",
    "c) For each tick, use the label sequence `\"0π/4\", \"1π/4\" , \"2π/4\",  \"3π/4\" ,  \"4π/4\", \"5π/4\",   ....`  . Obviously writing them by hand is easy, try instead to devise a method that works for any number of ticks. What is changing in the sequence? What is constant? What is the type of the part changes ? What is final type of the labels you want to obtain ?\n",
    "\n",
    "d) If you are in the mood, try to display them better like 0, π/4 , π/2 π,  3π/4 ,  π, 5π/4 possibly using Latex   (requires some search,  [this example](https://stackoverflow.com/a/40642200) might be a starting point)\n",
    "\n",
    "**NOTE**: Latex often involves the usage of the `\\` bar, like in `\\frac{2,3}`. If we use it directly, Python will interpret `\\f` as a special character and will not send to the Latex processor the string we meant:"
   ]
  },
  {
   "cell_type": "code",
   "execution_count": 14,
   "metadata": {},
   "outputs": [
    {
     "data": {
      "text/plain": [
       "'\\x0crac{2,3}'"
      ]
     },
     "execution_count": 14,
     "metadata": {},
     "output_type": "execute_result"
    }
   ],
   "source": [
    "'\\frac{2,3}'"
   ]
  },
  {
   "cell_type": "code",
   "execution_count": 15,
   "metadata": {},
   "outputs": [
    {
     "ename": "SyntaxError",
     "evalue": "invalid syntax (<ipython-input-15-45288e3e7c9c>, line 1)",
     "output_type": "error",
     "traceback": [
      "\u001b[0;36m  File \u001b[0;32m\"<ipython-input-15-45288e3e7c9c>\"\u001b[0;36m, line \u001b[0;32m1\u001b[0m\n\u001b[0;31m    One solution would be to double the slashes, like this:\u001b[0m\n\u001b[0m               ^\u001b[0m\n\u001b[0;31mSyntaxError\u001b[0m\u001b[0;31m:\u001b[0m invalid syntax\n"
     ]
    }
   ],
   "source": [
    "One solution would be to double the slashes, like this:"
   ]
  },
  {
   "cell_type": "code",
   "execution_count": null,
   "metadata": {},
   "outputs": [],
   "source": [
    "'\\\\frac{2,3}'"
   ]
  },
  {
   "cell_type": "markdown",
   "metadata": {},
   "source": [
    "An even better one is to prepend the string with the `r` character, which allows to write slashes only once:"
   ]
  },
  {
   "cell_type": "code",
   "execution_count": null,
   "metadata": {},
   "outputs": [],
   "source": [
    "r'\\frac{2,3}'"
   ]
  },
  {
   "cell_type": "code",
   "execution_count": null,
   "metadata": {},
   "outputs": [],
   "source": []
  },
  {
   "cell_type": "code",
   "execution_count": null,
   "metadata": {},
   "outputs": [],
   "source": [
    "# write here solution for a) y = sin(x) + 3 with vanilla python\n",
    "\n"
   ]
  },
  {
   "cell_type": "code",
   "execution_count": null,
   "metadata": {},
   "outputs": [],
   "source": [
    "# SOLUTION a)     y = sin(x) + 3 with vanilla python\n",
    "\n",
    "%matplotlib inline\n",
    "import matplotlib.pyplot as plt\n",
    "import math\n",
    "\n",
    "xs = [x * (math.pi)/4 for x in range(8)]  \n",
    "ys = [math.sin(x) + 3 for x in xs]\n",
    "\n",
    "plt.plot(xs, ys)  \n",
    "\n",
    "plt.title(\"a) solution     y = sin(x) + 3 with vanilla python \")\n",
    "plt.xlabel('x')\n",
    "plt.ylabel('y')\n",
    "\n",
    "plt.show() "
   ]
  },
  {
   "cell_type": "code",
   "execution_count": null,
   "metadata": {},
   "outputs": [],
   "source": [
    "# write here solution b.1)      y = sin(x) + 3 with numpy, arange"
   ]
  },
  {
   "cell_type": "code",
   "execution_count": null,
   "metadata": {},
   "outputs": [],
   "source": [
    "# SOLUTION  b.1)       y = sin(x) + 3 with numpy, linspace\n",
    "\n",
    "%matplotlib inline\n",
    "import matplotlib.pyplot as plt\n",
    "import numpy as np\n",
    "\n",
    "# left end = 0   right end = 7/4 pi   8 points\n",
    "# notice numpy.pi is exactly the same as vanilla math.pi\n",
    "xs = np.arange(0,            # included\n",
    "               8 * np.pi/4,  # *not* included (we put 8, as we actually want 7 to be included)\n",
    "               np.pi/4 )\n",
    "ys = np.sin(xs) + 3   # notice we know operate on arrays. All numpy functions can operate on them\n",
    "\n",
    "plt.plot(xs, ys)  \n",
    "\n",
    "plt.title(\"b.1 solution       y = sin(x) + 3  with numpy arange\")\n",
    "plt.xlabel('x')\n",
    "plt.ylabel('y')\n",
    "\n",
    "plt.show() "
   ]
  },
  {
   "cell_type": "code",
   "execution_count": null,
   "metadata": {},
   "outputs": [],
   "source": [
    "# write here solution b.2)      y = sin(x) + 3 with numpy, linspace\n",
    "\n"
   ]
  },
  {
   "cell_type": "code",
   "execution_count": null,
   "metadata": {},
   "outputs": [],
   "source": [
    "# SOLUTION  b.2)        y = sin(x) + 3 with numpy, linspace\n",
    "\n",
    "%matplotlib inline\n",
    "import matplotlib.pyplot as plt\n",
    "import numpy as np\n",
    "\n",
    "# left end = 0   right end = 7/4 pi   8 points\n",
    "# notice numpy.pi is exactly the same as vanilla math.pi\n",
    "xs = np.linspace(0, (np.pi/4) * 7 , 8)  \n",
    "ys = np.sin(xs) + 3   # notice we know operate on arrays. All numpy functions can operate on them\n",
    "\n",
    "plt.plot(xs, ys)  \n",
    "\n",
    "plt.title(\"b2 solution       y = sin(x) + 3  with numpy , linspace\")\n",
    "plt.xlabel('x')\n",
    "plt.ylabel('y')\n",
    "\n",
    "plt.show() "
   ]
  },
  {
   "cell_type": "code",
   "execution_count": null,
   "metadata": {},
   "outputs": [],
   "source": [
    "# write here solution c)        y = sin(x) + 3 with numpy and pi xlabels\n"
   ]
  },
  {
   "cell_type": "code",
   "execution_count": null,
   "metadata": {},
   "outputs": [],
   "source": [
    "# SOLUTION c)    y = sin(x) + 3 with numpy and pi xlabels\n",
    "\n",
    "%matplotlib inline\n",
    "import matplotlib.pyplot as plt\n",
    "import numpy as np\n",
    "\n",
    "xs = np.linspace(0, (np.pi/4) * 7 , 8)  # left end = 0   right end = 7/4 pi   8 points\n",
    "ys = np.sin(xs) + 3   # notice we know operate on arrays. All numpy functions can operate on them\n",
    "\n",
    "plt.plot(xs, ys)  \n",
    "\n",
    "plt.title(\"c) solution     y = sin(x) + 3  with numpy and pi xlabels\")\n",
    "plt.xlabel('x')\n",
    "plt.ylabel('y')\n",
    "\n",
    "# FIRST NEEDS A SEQUENCE WITH THE POSITIONS, THEN A SEQUENCE OF SAME LENGTH WITH LABELS\n",
    "plt.xticks(xs, [\"%sπ/4\" % x for x in range(8) ])   \n",
    "plt.show() "
   ]
  },
  {
   "cell_type": "markdown",
   "metadata": {},
   "source": [
    "### Showing degrees per node"
   ]
  },
  {
   "cell_type": "markdown",
   "metadata": {},
   "source": [
    "Going back to the indegrees and outdegrees as seen in [Network statistics](https://datasciprolab.readthedocs.io/en/latest/exercises/network-statistics/network-statistics-solution.html#Simple-statistics) chapter, we will try to study the distributions visually. \n",
    "\n",
    "Let's take an example networkx DiGraph: "
   ]
  },
  {
   "cell_type": "code",
   "execution_count": null,
   "metadata": {},
   "outputs": [],
   "source": [
    "import networkx as nx\n",
    "\n",
    "G=nx.DiGraph({\n",
    "    'a':['b','c'],        \n",
    "    'b':['b','c', 'd'],\n",
    "    'c':['a','b','d'], \n",
    "    'd':['b', 'd']\n",
    "})\n",
    "\n",
    "draw_nx(G)"
   ]
  },
  {
   "cell_type": "markdown",
   "metadata": {},
   "source": [
    "### indegree per node\n",
    "\n",
    "Display a plot for graph `G` where the xtick labels are the nodes, and the y is the indegree of those nodes.\n",
    "\n",
    "**Note:** instead of `xticks` you might directly use [categorical variables](https://matplotlib.org/gallery/lines_bars_and_markers/categorical_variables.html) IF you have matplotlib >= 2.1.0\n",
    "\n",
    "Here we use `xticks` as sometimes you might need to fiddle with them anyway\n",
    "\n",
    "\n",
    "To get the nodes, you can use the `G.nodes()` function:"
   ]
  },
  {
   "cell_type": "code",
   "execution_count": null,
   "metadata": {},
   "outputs": [],
   "source": [
    "G.nodes()"
   ]
  },
  {
   "cell_type": "markdown",
   "metadata": {},
   "source": [
    "It gives back a `NodeView` which is not a list, but still you can iterate through it with a `for in` cycle:"
   ]
  },
  {
   "cell_type": "code",
   "execution_count": null,
   "metadata": {},
   "outputs": [],
   "source": [
    "for n in G.nodes():\n",
    "    print(n)"
   ]
  },
  {
   "cell_type": "markdown",
   "metadata": {},
   "source": [
    "Also, you can get the indegree of a node with "
   ]
  },
  {
   "cell_type": "code",
   "execution_count": null,
   "metadata": {},
   "outputs": [],
   "source": [
    "G.in_degree('b')"
   ]
  },
  {
   "cell_type": "code",
   "execution_count": null,
   "metadata": {},
   "outputs": [],
   "source": [
    "# write here the solution\n"
   ]
  },
  {
   "cell_type": "code",
   "execution_count": null,
   "metadata": {},
   "outputs": [],
   "source": [
    "# SOLUTION\n",
    "\n",
    "import numpy as np\n",
    "import matplotlib.pyplot as plt\n",
    "\n",
    "xs = np.arange(G.number_of_nodes())\n",
    "ys_in = [G.in_degree(n) for n in G.nodes() ]\n",
    "\n",
    "plt.plot(xs, ys_in,  'bo')\n",
    "\n",
    "plt.ylim(0,max(ys_in) + 1)\n",
    "plt.xlim(0,max(xs) + 1)\n",
    "\n",
    "plt.title(\"Indegrees per node solution\")\n",
    "\n",
    "plt.xticks(xs, G.nodes())\n",
    "\n",
    "plt.xlabel('node')\n",
    "plt.ylabel('indegree')\n",
    "\n",
    "plt.show()"
   ]
  },
  {
   "cell_type": "markdown",
   "metadata": {},
   "source": [
    "### Bar plots\n",
    "\n",
    "The previous plot with dots doesn't look so good - we might try to use instead a bar plot. First look at this this example, then proceed with the next exercise "
   ]
  },
  {
   "cell_type": "code",
   "execution_count": null,
   "metadata": {},
   "outputs": [],
   "source": [
    "import numpy as np\n",
    "import matplotlib.pyplot as plt\n",
    "\n",
    "xs = [1,2,3,4]\n",
    "ys = [7,5,8,2 ]\n",
    "\n",
    "plt.bar(xs, ys, \n",
    "        0.5,             # the width of the bars\n",
    "        color='green',   # someone suggested the default blue color is depressing, so let's put green\n",
    "        align='center')  # bars are centered on the xtick\n",
    "\n",
    "plt.show()"
   ]
  },
  {
   "cell_type": "markdown",
   "metadata": {},
   "source": [
    "### indegree per node bar plot\n",
    "\n",
    "Display a [bar plot](https://matplotlib.org/api/_as_gen/matplotlib.pyplot.bar.html) for graph `G` where the xtick labels are the nodes, and the y is the indegree of those nodes."
   ]
  },
  {
   "cell_type": "code",
   "execution_count": null,
   "metadata": {},
   "outputs": [],
   "source": [
    "# write here\n",
    "\n",
    "\n"
   ]
  },
  {
   "cell_type": "code",
   "execution_count": null,
   "metadata": {},
   "outputs": [],
   "source": [
    "# SOLUTION\n",
    "\n",
    "import numpy as np\n",
    "import matplotlib.pyplot as plt\n",
    "\n",
    "xs = np.arange(G.number_of_nodes())\n",
    "ys_in = [G.in_degree(n) for n in G.nodes() ]\n",
    "\n",
    "\n",
    "plt.bar(xs, ys_in, 0.5, align='center')\n",
    "\n",
    "plt.title(\"Indegrees per node solution\")\n",
    "plt.xticks(xs, G.nodes())\n",
    "\n",
    "plt.xlabel('node')\n",
    "plt.ylabel('indegree')\n",
    "\n",
    "plt.show()"
   ]
  },
  {
   "cell_type": "markdown",
   "metadata": {},
   "source": [
    "### indegree per node sorted alphabetically\n",
    "\n",
    "Display the same bar plot as before, but now sort nodes alphabetically. \n",
    "\n",
    "NOTE: you cannot  run `.sort()` method on the result given by  `G.nodes()`, because nodes in network by default have no inherent order. To use `.sort()` you need first to convert the result to a `list` object."
   ]
  },
  {
   "cell_type": "code",
   "execution_count": null,
   "metadata": {},
   "outputs": [],
   "source": [
    "# SOLUTION\n",
    "\n",
    "import numpy as np\n",
    "import matplotlib.pyplot as plt\n",
    "\n",
    "xs = np.arange(G.number_of_nodes())\n",
    "\n",
    "xs_labels = list(G.nodes())\n",
    "\n",
    "xs_labels.sort()\n",
    "\n",
    "ys_in = [G.in_degree(n) for n in xs_labels ]\n",
    "\n",
    "plt.bar(xs, ys_in, 0.5, align='center')\n",
    "\n",
    "plt.title(\"Indegrees per node, sorted labels\")\n",
    "plt.xticks(xs, xs_labels)\n",
    "\n",
    "plt.xlabel('node')\n",
    "plt.ylabel('indegree')\n",
    "\n",
    "plt.show()"
   ]
  },
  {
   "cell_type": "code",
   "execution_count": null,
   "metadata": {},
   "outputs": [],
   "source": [
    "# write here\n"
   ]
  },
  {
   "cell_type": "markdown",
   "metadata": {},
   "source": [
    "### indegree per node sorted\n",
    "\n",
    "Display the same bar plot as before, but now sort nodes according to their indegree. This is more challenging, to  do it you need to use some sort trick. First read the [Python documentation](https://docs.python.org/3/howto/sorting.html#key-functions) and then:\n",
    "\n",
    "1. create a list of couples (list of tuples) where each tuple is the node identifier and the corresponding indegree\n",
    "2. sort the list by using the second value of the tuples as a key. \n",
    "\n"
   ]
  },
  {
   "cell_type": "code",
   "execution_count": null,
   "metadata": {},
   "outputs": [],
   "source": [
    "# write here\n"
   ]
  },
  {
   "cell_type": "code",
   "execution_count": null,
   "metadata": {},
   "outputs": [],
   "source": [
    "# SOLUTION\n",
    "\n",
    "import numpy as np\n",
    "import matplotlib.pyplot as plt\n",
    "\n",
    "xs = np.arange(G.number_of_nodes())\n",
    "\n",
    "coords = [(v, G.in_degree(v)) for v in G.nodes() ]\n",
    "\n",
    "coords.sort(key=lambda c: c[1])\n",
    "\n",
    "ys_in = [c[1] for c in coords]\n",
    "\n",
    "plt.bar(xs, ys_in, 0.5, align='center')\n",
    "\n",
    "plt.title(\"Indegrees per node, sorted by indegree\")\n",
    "plt.xticks(xs, [c[0] for c in coords])\n",
    "\n",
    "plt.xlabel('node')\n",
    "plt.ylabel('indegree')\n",
    "\n",
    "plt.show()"
   ]
  },
  {
   "cell_type": "markdown",
   "metadata": {},
   "source": [
    "\n",
    "### out degrees per node sorted\n",
    "\n",
    "Do the same graph as before for the outdegrees."
   ]
  },
  {
   "cell_type": "markdown",
   "metadata": {},
   "source": [
    "You can get the outdegree of a node with:"
   ]
  },
  {
   "cell_type": "code",
   "execution_count": null,
   "metadata": {},
   "outputs": [],
   "source": [
    "G.out_degree('b')"
   ]
  },
  {
   "cell_type": "code",
   "execution_count": null,
   "metadata": {},
   "outputs": [],
   "source": [
    "# SOLUTION \n",
    "import numpy as np\n",
    "import matplotlib.pyplot as plt\n",
    "\n",
    "xs = np.arange(G.number_of_nodes())\n",
    "\n",
    "coords = [(v, G.out_degree(v)) for v in G.nodes() ]\n",
    "\n",
    "coords.sort(key=lambda c: c[1])\n",
    "\n",
    "ys_out = [c[1] for c in coords]\n",
    "\n",
    "plt.bar(xs, ys_out, 0.5, align='center')\n",
    "\n",
    "plt.title(\"Outdegrees per node sorted\")\n",
    "plt.xticks(xs, [c[0] for c in coords])\n",
    "\n",
    "plt.xlabel('node')\n",
    "plt.ylabel('outdegree')\n",
    "\n",
    "plt.show()"
   ]
  },
  {
   "cell_type": "code",
   "execution_count": null,
   "metadata": {},
   "outputs": [],
   "source": [
    "# write here\n"
   ]
  },
  {
   "cell_type": "markdown",
   "metadata": {},
   "source": [
    "### degrees per node\n",
    "\n",
    "We might check as well the sorted degrees per node, intended as the sum of in_degree and out_degree. To get the sum, use `G.degree(node)` function."
   ]
  },
  {
   "cell_type": "code",
   "execution_count": null,
   "metadata": {},
   "outputs": [],
   "source": [
    "# SOLUTION\n",
    "\n",
    "import numpy as np\n",
    "import matplotlib.pyplot as plt\n",
    "\n",
    "xs = np.arange(G.number_of_nodes())\n",
    "\n",
    "coords = [(v, G.degree(v)) for v in G.nodes() ]\n",
    "\n",
    "coords.sort(key=lambda c: c[1])\n",
    "\n",
    "ys_deg = [c[1] for c in coords]\n",
    "\n",
    "plt.bar(xs, ys_deg, 0.5, align='center')\n",
    "\n",
    "plt.title(\"degrees per node sorted\")\n",
    "plt.xticks(xs, [c[0] for c in coords])\n",
    "\n",
    "plt.xlabel('node')\n",
    "plt.ylabel('degree')\n",
    "\n",
    "plt.show()"
   ]
  },
  {
   "cell_type": "code",
   "execution_count": null,
   "metadata": {},
   "outputs": [],
   "source": [
    "# write here\n",
    "\n"
   ]
  },
  {
   "cell_type": "markdown",
   "metadata": {},
   "source": [
    "**EXERCISE**: Look at [this example](https://matplotlib.org/gallery/lines_bars_and_markers/barchart.html#sphx-glr-gallery-lines-bars-and-markers-barchart-py), and make a double bar chart sorting nodes by their _total_ degree. To do so, in the tuples you will need `vertex`, `in_degree`, `out_degree` and also `degree`."
   ]
  },
  {
   "cell_type": "code",
   "execution_count": null,
   "metadata": {},
   "outputs": [],
   "source": [
    "# SOLUTION\n",
    "\n",
    "import numpy as np\n",
    "import matplotlib.pyplot as plt\n",
    "\n",
    "xs = np.arange(G.number_of_nodes())\n",
    "\n",
    "coords = [(v, G.degree(v), G.in_degree(v), G.out_degree(v) ) for v in G.nodes() ]\n",
    "\n",
    "coords.sort(key=lambda c: c[1])\n",
    "\n",
    "ys_deg = [c[1] for c in coords]\n",
    "ys_in = [c[2] for c in coords]\n",
    "ys_out = [c[3] for c in coords]\n",
    "\n",
    "\n",
    "width = 0.35\n",
    "fig, ax = plt.subplots()\n",
    "rects1 = ax.bar(xs - width/2, ys_in, width, \n",
    "                color='SkyBlue', label='indegrees')\n",
    "rects2 = ax.bar(xs + width/2, ys_out, width,\n",
    "                color='IndianRed', label='outdegrees')\n",
    "\n",
    "# Add some text for labels, title and custom x-axis tick labels, etc.\n",
    "ax.set_title('In and out degrees per node')\n",
    "ax.set_xticks(xs)\n",
    "ax.set_xticklabels([c[0] for c in coords])\n",
    "ax.legend()\n",
    "\n",
    "plt.show()"
   ]
  },
  {
   "cell_type": "code",
   "execution_count": null,
   "metadata": {},
   "outputs": [],
   "source": [
    "# write here\n"
   ]
  },
  {
   "cell_type": "markdown",
   "metadata": {},
   "source": [
    "### Frequency histogram"
   ]
  },
  {
   "cell_type": "markdown",
   "metadata": {},
   "source": [
    "Now let's try to draw degree frequencies. For doing so, we will need a histogram, see [documentation](https://matplotlib.org/api/_as_gen/matplotlib.pyplot.hist.html)"
   ]
  },
  {
   "cell_type": "code",
   "execution_count": null,
   "metadata": {},
   "outputs": [],
   "source": [
    "\n",
    "import matplotlib.pyplot as plt\n",
    "import numpy as np\n",
    "\n",
    "fig, ax = plt.subplots()  # we create Figure and Axes in a single command\n",
    "\n",
    "degrees = [G.degree(n) for n in G.nodes()]\n",
    "\n",
    "# add histogram\n",
    "num_bins = 4   # number of columns for the histogram\n",
    "# in this case hist returns a tuple of three values\n",
    "# we put in three variables\n",
    "n, bins, columns = ax.hist(degrees, num_bins,  width=1.0, align='mid')\n",
    "\n",
    "ax.set_xlabel('Degrees')\n",
    "ax.set_ylabel('Frequency counts')\n",
    "ax.set_title('Degree distribution')\n",
    "plt.xlim(0, max(degrees) + 2)\n",
    "fig.tight_layout()\n",
    "plt.show()\n",
    "\n"
   ]
  },
  {
   "cell_type": "markdown",
   "metadata": {},
   "source": [
    "<div class=\"alert alert-warning\">\n",
    "\n",
    "**TO BE CONTINUED**\n",
    "</div>"
   ]
  },
  {
   "cell_type": "code",
   "execution_count": null,
   "metadata": {},
   "outputs": [],
   "source": []
  }
 ],
 "metadata": {
  "celltoolbar": "Edit Metadata",
  "kernelspec": {
   "display_name": "Python 3",
   "language": "python",
   "name": "python3"
  },
  "language_info": {
   "codemirror_mode": {
    "name": "ipython",
    "version": 3
   },
   "file_extension": ".py",
   "mimetype": "text/x-python",
   "name": "python",
   "nbconvert_exporter": "python",
   "pygments_lexer": "ipython3",
   "version": "3.5.2"
  },
  "toc": {
   "base_numbering": 1,
   "nav_menu": {},
   "number_sections": false,
   "sideBar": true,
   "skip_h1_title": false,
   "title_cell": "Table of Contents",
   "title_sidebar": "Contents",
   "toc_cell": false,
   "toc_position": {},
   "toc_section_display": true,
   "toc_window_display": true
  }
 },
 "nbformat": 4,
 "nbformat_minor": 2
}
