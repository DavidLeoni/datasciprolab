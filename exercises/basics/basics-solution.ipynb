{
 "cells": [
  {
   "cell_type": "code",
   "execution_count": 1,
   "metadata": {
    "nbsphinx": "hidden"
   },
   "outputs": [],
   "source": [
    "#Please execute this cell\n",
    "import sys\n",
    "sys.path.append('../../')\n",
    "import jupman\n",
    "import sciprog"
   ]
  },
  {
   "cell_type": "markdown",
   "metadata": {},
   "source": [
    "# Python basics solutions\n",
    "\n",
    "## [Download exercises zip](../../_static/basics-exercises.zip)\n",
    "\n",
    "[Browse files online](https://github.com/DavidLeoni/datasciprolab/tree/master/exercises/basics)\n",
    "\n",
    "\n",
    "\n",
    "**References**\n",
    "\n",
    "- [Andrea Passerini, Lecture A01](http://disi.unitn.it/~passerini/teaching/2019-2020/sci-pro/slides/A01-introduction.pdf)\n",
    "\n",
    "In this practical we will start interacting more with Python, practicing on how to handle data, functions and methods. We will see some built-in data types (integers, floats, booleans - we will reserve strings for later)\n",
    "\n",
    "\n",
    "## Modules\n",
    "\n",
    "Python modules are simply text files having the extension **.py** (e.g. ```exercise.py```). When you were writing the code in the IDE in the previous practical, you were in fact implementing the corresponding module. \n",
    "\n",
    "As said in the previous practical, once you implemented and saved the code of the module, you can execute it by typing \n",
    "\n",
    "```bash\n",
    "python3 exercise1.py\n",
    "```\n",
    "\n",
    "or, in Visual Studio Code, by right clicking on the code panel and selecting **Run Python File in Terminal**.\n",
    "\n",
    "A Module `A` can be loaded from another module `B` so that `B` can use the functions defined in `A`. Remember when we used the ```sqrt``` function? It is defined in the module `math`. To import it and use it we indeed wrote something like:"
   ]
  },
  {
   "cell_type": "code",
   "execution_count": 2,
   "metadata": {},
   "outputs": [
    {
     "name": "stdout",
     "output_type": "stream",
     "text": [
      "2.0\n"
     ]
    }
   ],
   "source": [
    "import math\n",
    "\n",
    "x = math.sqrt(4)\n",
    "print(x)"
   ]
  },
  {
   "cell_type": "markdown",
   "metadata": {},
   "source": [
    "When importing modules we do not need to specify the extension `.py` of the file. "
   ]
  },
  {
   "cell_type": "markdown",
   "metadata": {},
   "source": [
    "\n",
    "## Objects\n",
    "\n",
    "Python understands very well objects, and in fact everything is an object in Python. Objects have **properties** (characteristic features) and **methods** (things they can do). For example, an object *car* has the *properties* model, make, color, number of doors etc., and the *methods* steer right, steer left, accelerate, break, stop, change gear,... \n",
    "According to Python's official documentation: \n",
    "\n",
    "\"Objects are Python's abstraction for data. All data in a Python program is represented by objects or by relations between objects.\"\n",
    "\n",
    "All you need to know for now is that in Python objects have an **identifier (ID)** (i.e. their name), a **type** (numbers, text, collections,...) and a **value** (the actual data represented by the objects). Once an object has been created the *identifier* and the *type* never change, while its *value* can either change (**mutable objects**) or stay constant (**immutable objects**).\n",
    "\n",
    "Python provides these built-in data types:\n",
    "\n",
    "![basic data types table](img/types.png)\n",
    "\n",
    "\n",
    "We will stick with the simplest ones for now, but later on we will dive deeper into the all of them.\n",
    "\n"
   ]
  },
  {
   "cell_type": "markdown",
   "metadata": {},
   "source": [
    "## Variables\n",
    "\n",
    "Variables are just references to objects, in other words they are the **name** given to an object. Variables can be **assigned** to objects by using the assignment operator ```=```.\n",
    "\n",
    "The instruction \n"
   ]
  },
  {
   "cell_type": "code",
   "execution_count": 3,
   "metadata": {},
   "outputs": [],
   "source": [
    "sides = 4"
   ]
  },
  {
   "cell_type": "markdown",
   "metadata": {},
   "source": [
    "might represent the number of sides of a square. What happens when we execute it in Python? An object is created, it is given an identifier, its type is set to \"int\" (an integer number), it value to 4 and a name *sides* is placed in the current namespace to point to that object, so that after that instruction we can access that object through its name. The type of an object can be accessed with the function **type()** and the identifier with the function **id()**: "
   ]
  },
  {
   "cell_type": "code",
   "execution_count": 4,
   "metadata": {},
   "outputs": [
    {
     "name": "stdout",
     "output_type": "stream",
     "text": [
      "<class 'int'>\n",
      "94241937814656\n"
     ]
    }
   ],
   "source": [
    "sides = 4\n",
    "print( type(sides) )\n",
    "print( id(sides) )"
   ]
  },
  {
   "cell_type": "markdown",
   "metadata": {},
   "source": [
    "Consider now the following code:"
   ]
  },
  {
   "cell_type": "code",
   "execution_count": 5,
   "metadata": {},
   "outputs": [
    {
     "name": "stdout",
     "output_type": "stream",
     "text": [
      "value: 4  type: <class 'int'>  id: 94241937814656\n",
      "value: 5  type: <class 'int'>  id: 94241937814688\n"
     ]
    }
   ],
   "source": [
    "sides = 4  # a square \n",
    "print (\"value:\", sides, \" type:\", type(sides), \" id:\", id(sides))\n",
    "sides = 5  # a pentagon\n",
    "print (\"value:\", sides, \" type:\", type(sides), \" id:\", id(sides))\n"
   ]
  },
  {
   "cell_type": "markdown",
   "metadata": {},
   "source": [
    "The value of the variable sides has been changed from 4 to 5, but as stated in the table above, the type ```int``` is **immutable**. Luckily, this did not prevent us to change the value of sides from 4 to 5. What happened behind the scenes when we executed the instruction sides = 5 is that a new object has been created of type int (5 is still an integer) and it has been made accessible with the same name *sides*, but since it is a different object (i.e. the integer 5) you can see that the identifier is actually different. Note: you do not have to really worry about what happens behind the scenes, as the Python interpreter will take care of these aspects for you, but it is nice to know what it does.\n",
    "\n",
    "You can even change the type of a variable during execution but that is normally a **bad idea** as it makes understanding the code more complicated.\n",
    "\n",
    "You can do (**but, please, refrain!**):"
   ]
  },
  {
   "cell_type": "code",
   "execution_count": 6,
   "metadata": {},
   "outputs": [
    {
     "name": "stdout",
     "output_type": "stream",
     "text": [
      "value: 4  type: <class 'int'>  id: 94241937814656\n",
      "value: four  type: <class 'str'>  id: 140613404719232\n"
     ]
    }
   ],
   "source": [
    "sides = 4 # a square\n",
    "print (\"value:\", sides, \" type:\", type(sides), \" id:\", id(sides))\n",
    "sides = \"four\" #the sides in text format\n",
    "print (\"value:\", sides, \" type:\", type(sides), \" id:\", id(sides))"
   ]
  },
  {
   "cell_type": "markdown",
   "metadata": {},
   "source": [
    "<div class=\"alert alert-warning\">\n",
    "\n",
    "**IMPORTANT NOTE:** \n",
    "You can chose the name that you like for your variables (I advise to pick something reminding their meaning), but you need to adhere to some simple rules:\n",
    "</div>\n",
    "\n",
    "1. Names can only contain upper/lower case digits (```A-Z```, ```a-z```), numbers (```0-9```) or underscores ```_```;  \n",
    "\n",
    "\n",
    "2. Names cannot start with a number;\n",
    "\n",
    "\n",
    "3. Names cannot be equal to reserved keywords:\n",
    "\n",
    "4. variable names should start with a lowercase letter \n",
    "\n",
    "![reserved keywords](img/keywords.png)\n",
    "\n"
   ]
  },
  {
   "cell_type": "markdown",
   "metadata": {},
   "source": [
    "### Exercise: variable names\n",
    "\n",
    "For each of the following names, try to guess if it is a valid _variable name_ or not, then try to assign it in following cell\n",
    "\n",
    "1. `my-variable`\n",
    "2. `my_variable`\n",
    "3. `theCount`\n",
    "4. `the count`\n",
    "5. `some@var`\n",
    "6. `MacDonald`\n",
    "7. `7channel`\n",
    "8. `channel7`\n",
    "9. `stand.by`\n",
    "10. `channel45`\n",
    "11. `maybe3maybe`\n",
    "12. `\"ciao\"`\n",
    "13. `'hello'`\n",
    "14. `as`    PLEASE: DO UNDERSTAND THE *VERY IMPORTANT DIFFERENCE* BETWEEN THIS AND FOLLOWING TWOs !!! \n",
    "15. `asino`\n",
    "16. `As`\n",
    "17. `lista`  PLEASE: DO UNDERSTAND THE *VERY IMPORTANT DIFFERENCE* BETWEEN THIS AND FOLLOWING TWOs !!! \n",
    "18. `list`   DO NOT EVEN TRY TO ASSIGN THIS ONE IN THE INTERPRETER (like `list = 5`), IF YOU DO YOU WILL BASICALLY BREAK PYTHON\n",
    "19. `List`\n",
    "20. `black&decker`\n",
    "21. `black & decker`\n",
    "22. `glab()`\n",
    "23. `caffè`  (notice the accented `è` !)\n",
    "24. `):-]`\n",
    "25. `€zone` (notice the euro sign)\n",
    "26. `some:pasta`\n",
    "27. `aren'tyouboredyet`\n",
    "28. `<angular>`\n",
    "\n",
    "\n",
    " "
   ]
  },
  {
   "cell_type": "code",
   "execution_count": 7,
   "metadata": {},
   "outputs": [],
   "source": [
    "# write here\n",
    "\n"
   ]
  },
  {
   "cell_type": "markdown",
   "metadata": {},
   "source": [
    "## Numeric types\n",
    "\n",
    "We already mentioned that numbers are **immutable objects**. Python provides different numeric types: integers, reals (floats), booleans and even complex numbers and fractions (but we will not get into those).\n",
    "\n",
    "### Integers \n",
    "\n",
    "Their range of values is limited only by the memory available. As we have already seen, python provides also a set of standard operators to work with numbers:\n",
    "\n"
   ]
  },
  {
   "cell_type": "code",
   "execution_count": 8,
   "metadata": {},
   "outputs": [
    {
     "data": {
      "text/plain": [
       "float"
      ]
     },
     "execution_count": 8,
     "metadata": {},
     "output_type": "execute_result"
    }
   ],
   "source": [
    "a = 7\n",
    "b = 4\n",
    "\n",
    "a + b  # 11\n",
    "a - b  # 3\n",
    "a // b # integer division: 1\n",
    "a * b  # 28\n",
    "a ** b # power: 2401\n",
    "a / b  # division 0.8333333333333334\n",
    "type(a / b)"
   ]
  },
  {
   "cell_type": "markdown",
   "metadata": {},
   "source": [
    "Note that in the latter case the result is no more an integer, but a float (we will get to that later).\n",
    "\n"
   ]
  },
  {
   "cell_type": "markdown",
   "metadata": {},
   "source": [
    "## Booleans \n",
    "\n",
    "These objects are used for the boolean algebra and have type `bool`.\n",
    "\n",
    "Truth values are represented with the keywords `True` and `False` in Python, a boolean object can only have value `True` or `False`.\n",
    "\n"
   ]
  },
  {
   "cell_type": "code",
   "execution_count": 9,
   "metadata": {},
   "outputs": [],
   "source": [
    "x = True"
   ]
  },
  {
   "cell_type": "code",
   "execution_count": 10,
   "metadata": {},
   "outputs": [
    {
     "data": {
      "text/plain": [
       "True"
      ]
     },
     "execution_count": 10,
     "metadata": {},
     "output_type": "execute_result"
    }
   ],
   "source": [
    "x"
   ]
  },
  {
   "cell_type": "code",
   "execution_count": 11,
   "metadata": {},
   "outputs": [
    {
     "data": {
      "text/plain": [
       "bool"
      ]
     },
     "execution_count": 11,
     "metadata": {},
     "output_type": "execute_result"
    }
   ],
   "source": [
    "type(x)"
   ]
  },
  {
   "cell_type": "code",
   "execution_count": 12,
   "metadata": {},
   "outputs": [],
   "source": [
    "y = False"
   ]
  },
  {
   "cell_type": "code",
   "execution_count": 13,
   "metadata": {},
   "outputs": [
    {
     "data": {
      "text/plain": [
       "bool"
      ]
     },
     "execution_count": 13,
     "metadata": {},
     "output_type": "execute_result"
    }
   ],
   "source": [
    "type(y)"
   ]
  },
  {
   "cell_type": "markdown",
   "metadata": {},
   "source": [
    "### Boolean operators\n",
    "\n",
    "We can operate on boolean values with the boolean operators ```not```, ```and```, ```or```. Recall boolean algebra for their use: "
   ]
  },
  {
   "cell_type": "code",
   "execution_count": 14,
   "metadata": {},
   "outputs": [
    {
     "name": "stdout",
     "output_type": "stream",
     "text": [
      "not True:  False\n",
      "not False:  True\n",
      "\n",
      "False and False:  False\n",
      "False and True:   False\n",
      "True  and False:  False\n",
      "True  and True:   True\n",
      "\n",
      "False or  False:  False\n",
      "False or  True:   True\n",
      "True  or  False:  True\n",
      "True  or  True:   True\n"
     ]
    }
   ],
   "source": [
    "print(\"not True: \", not True)   # False\n",
    "print(\"not False: \", not False) # True\n",
    "print()\n",
    "print(\"False and False: \", False and False) # False\n",
    "print(\"False and True:  \", False and True )  # False\n",
    "print(\"True  and False: \", True and False)   # False\n",
    "print(\"True  and True:  \", True and True)     # True\n",
    "print()\n",
    "print(\"False or  False: \", False or False)     # False\n",
    "print(\"False or  True:  \", False or True)     # True\n",
    "print(\"True  or  False: \", True or False)     # True\n",
    "print(\"True  or  True:  \", True or True)       # True\n"
   ]
  },
  {
   "cell_type": "markdown",
   "metadata": {},
   "source": [
    "### Booleans exercise: constants \n",
    "\n",
    "Try to guess the result of these boolean expressions (_first_ guess, and _then_ try it out !!)\n"
   ]
  },
  {
   "cell_type": "markdown",
   "metadata": {},
   "source": [
    "```python\n",
    "not (True and False)\n",
    "(not True) or (not (True or False))\n",
    "not (not True)\n",
    "not (True and (False or True))\n",
    "not (not (not False))\n",
    "True and (not (not((not False) and True)))\n",
    "False or (False or ((True and True) and (True and False)))\n",
    "```"
   ]
  },
  {
   "cell_type": "markdown",
   "metadata": {},
   "source": [
    "#### Booleans exercise: variables"
   ]
  },
  {
   "cell_type": "markdown",
   "metadata": {},
   "source": [
    "For which values of `x` and `y` these expressions give `True` ? Try to think the answer before trying it !!!!\n",
    "\n",
    "**NOTE**: there can be more combinations that produce `True`, try to find all of them. "
   ]
  },
  {
   "cell_type": "markdown",
   "metadata": {},
   "source": [
    "```python\n",
    "x or (not x)\n",
    "(not x) and (not y)\n",
    "x and (y or y)\n",
    "x and (not y)\n",
    "(not x) or  y\n",
    "y or not (y and x)\n",
    "x and ((not x) or not(y))\n",
    "(not (not x)) and not (x and y)\n",
    "x and (x or (not(x) or not(not(x or not (x)))))\n",
    "```"
   ]
  },
  {
   "cell_type": "markdown",
   "metadata": {},
   "source": [
    "For which values of `x`, `y` and `z` these expressions give `False` ?\n",
    "\n",
    "**NOTE**: there can be more combinations that produce `False`, try to find all of them."
   ]
  },
  {
   "cell_type": "markdown",
   "metadata": {},
   "source": [
    "```python\n",
    "x or ((not y) or z)\n",
    "x or (not y) or (not z)\n",
    "not (x and y and (not z))\n",
    "not (x and (not y) and (x or z))\n",
    "y or ((x or y) and (not z))\n",
    "```"
   ]
  },
  {
   "cell_type": "markdown",
   "metadata": {},
   "source": [
    "### Boolean conversion\n",
    "\n",
    "We can convert booleans into integers with the builtin function ```int```. Any integer can be converted into a boolean (and vice-versa) with `bool`: "
   ]
  },
  {
   "cell_type": "code",
   "execution_count": 15,
   "metadata": {},
   "outputs": [
    {
     "name": "stdout",
     "output_type": "stream",
     "text": [
      "a:  True\n",
      "b:  False\n",
      "c:  True\n",
      "d:  True\n",
      "t:  1\n",
      "f:  0\n"
     ]
    }
   ],
   "source": [
    "a = bool(1)\n",
    "b = bool(0)\n",
    "c = bool(72)\n",
    "d = bool(-5)\n",
    "t = int(True)\n",
    "f = int(False)\n",
    "\n",
    "print(\"a: \", a)\n",
    "print(\"b: \", b)\n",
    "print(\"c: \", c)\n",
    "print(\"d: \", d)\n",
    "print(\"t: \", t)\n",
    "print(\"f: \", f)"
   ]
  },
  {
   "cell_type": "markdown",
   "metadata": {},
   "source": [
    "Any integer is evaluated to `True`, except `0`. Note that, the truth values ```True``` and ```False``` respectively behave like the integers `1` and `0`.\n",
    "\n"
   ]
  },
  {
   "cell_type": "markdown",
   "metadata": {},
   "source": [
    "### Booleans exercise: what is a boolean?\n",
    "\n",
    "Read carefully previous description of booleans, and try to guess the result of following expressions."
   ]
  },
  {
   "cell_type": "markdown",
   "metadata": {},
   "source": [
    "```python\n",
    "bool(True)\n",
    "bool(False)\n",
    "bool(2 + 4)\n",
    "bool(4-3-1)\n",
    "int(4-3-1)\n",
    "True + True\n",
    "True + False\n",
    "True - True\n",
    "True * True\n",
    "```"
   ]
  },
  {
   "cell_type": "markdown",
   "metadata": {},
   "source": [
    "## Numeric operators"
   ]
  },
  {
   "cell_type": "markdown",
   "metadata": {},
   "source": [
    "Numeric comparators are operators that return a boolean value. Here are some examples (from the lecture):\n",
    "\n",
    "![comparators 23i2i3](img/comparators.png)\n",
    "\n",
    "\n"
   ]
  },
  {
   "cell_type": "markdown",
   "metadata": {},
   "source": [
    "**Example**: Given a variable `a = 10` and a variable `b = 77`, let's swap their values (i.e. at the end `a` will be equal to `77` and `b` to `10`). Let's also check the values at the beginning and at the end."
   ]
  },
  {
   "cell_type": "code",
   "execution_count": 16,
   "metadata": {},
   "outputs": [
    {
     "name": "stdout",
     "output_type": "stream",
     "text": [
      "a:  10  b: 77\n",
      "is a equal to 10? True\n",
      "is b equal to 77? True\n",
      "\n",
      "a:  77  b: 10\n",
      "is a equal to 10? False\n",
      "is a equal to 77? True\n",
      "is b equal to 10? True\n",
      "is b equal to 77? False\n"
     ]
    }
   ],
   "source": [
    "a = 10\n",
    "b = 77\n",
    "print(\"a: \", a, \" b:\", b)\n",
    "print(\"is a equal to 10?\", a == 10)\n",
    "print(\"is b equal to 77?\", b == 77)\n",
    "\n",
    "TMP = b  # we need to store the value of b safely\n",
    "b = a    # ok, the old value of b is gone... is it?\n",
    "a = TMP  # a gets the old value of b... :-)\n",
    "\n",
    "print()\n",
    "print(\"a: \", a, \" b:\", b)\n",
    "print(\"is a equal to 10?\", a == 10)\n",
    "print(\"is a equal to 77?\", a == 77)\n",
    "print(\"is b equal to 10?\", b == 10)\n",
    "print(\"is b equal to 77?\", b == 77)\n",
    "\n"
   ]
  },
  {
   "cell_type": "markdown",
   "metadata": {},
   "source": [
    "### Numeric operators exercise: cycling\n",
    "\n",
    "Write a program that given three variables with numebers `a`,`b`,`c`, cycles the values, that is, puts the value of `a` in `b`, the value of `b` in `c`, and the value of `c` in `a` . \n",
    "\n",
    "So if you begin like this: \n",
    "\n",
    "```python\n",
    "a = 4\n",
    "b = 7\n",
    "c = 9\n",
    "```\n",
    "\n",
    "After the code that you will write, by running this:\n",
    "\n",
    "```python\n",
    "print(a)\n",
    "print(b)\n",
    "print(c)\n",
    "```\n",
    "\n",
    "You should see\n",
    "```\n",
    "9\n",
    "4\n",
    "7\n",
    "```\n",
    "\n",
    "There are various ways to do it, try to use **only one** temporary variable and be careful not to lose values !\n",
    "\n",
    "**HINT**: to help yourself, try to write down in comments the state of the memory, and think which command to do\n",
    "\n",
    "```python\n",
    "# a b c t    which command do I need?\n",
    "# 4 7 9 \n",
    "# 4 7 9 7    t = b\n",
    "# \n",
    "#\n",
    "#\n",
    "```\n"
   ]
  },
  {
   "cell_type": "code",
   "execution_count": 17,
   "metadata": {},
   "outputs": [
    {
     "name": "stdout",
     "output_type": "stream",
     "text": [
      "4\n",
      "7\n",
      "9\n"
     ]
    }
   ],
   "source": [
    "\n",
    "a = 4\n",
    "b = 7\n",
    "c = 9\n",
    "\n",
    "# write code here\n",
    "\n",
    "\n",
    "print(a)\n",
    "print(b)\n",
    "print(c)\n",
    "\n"
   ]
  },
  {
   "cell_type": "code",
   "execution_count": 18,
   "metadata": {},
   "outputs": [
    {
     "name": "stdout",
     "output_type": "stream",
     "text": [
      "9\n",
      "4\n",
      "7\n"
     ]
    }
   ],
   "source": [
    "# SOLUTION\n",
    "\n",
    "a = 4\n",
    "b = 7\n",
    "c = 9\n",
    "\n",
    "\n",
    "# a b c t  which command do I need?\n",
    "# 4 7 9\n",
    "# 4 7 9 7  t = b\n",
    "# 4 4 9 7  b = a\n",
    "# 9 4 9 7  a = c\n",
    "# 9 4 7 7  c = t\n",
    "\n",
    "\n",
    "t = b\n",
    "b = a\n",
    "a = c\n",
    "c = t\n",
    "\n",
    "print(a)\n",
    "print(b)\n",
    "print(c)\n",
    "\n"
   ]
  },
  {
   "cell_type": "code",
   "execution_count": 19,
   "metadata": {},
   "outputs": [],
   "source": [
    "# SOLUTION\n",
    "\n"
   ]
  },
  {
   "cell_type": "markdown",
   "metadata": {},
   "source": [
    "## Real numbers\n",
    "\n",
    "Python stores real numbers (floating point numbers) in 64 bits of information divided in sign, exponent and mantissa. \n",
    "\n",
    "**Exercise:**\n",
    "Let's calculate the area of the center circle of a football pitch (radius = 9.15m) recalling that $area= Pi*R^2$ (as power operator, use `**`):"
   ]
  },
  {
   "cell_type": "code",
   "execution_count": 20,
   "metadata": {},
   "outputs": [
    {
     "name": "stdout",
     "output_type": "stream",
     "text": [
      "263.02199094102605\n"
     ]
    }
   ],
   "source": [
    "# SOLUTION\n",
    "\n",
    "R = 9.15\n",
    "Pi = 3.1415926536\n",
    "Area = Pi*(R**2)\n",
    "print(Area)"
   ]
  },
  {
   "cell_type": "markdown",
   "metadata": {},
   "source": [
    "Note that the parenthesis around the ```R**2``` are not necessary as operator ```**``` has the precedence, but I personally think it helps readability. \n",
    "\n",
    "Here is a reminder of the precedence of operators: \n",
    "\n",
    "![precedence among operators](img/precedence.png)\n",
    "\n",
    "**Example:** Let's compute the GC content of a DNA sequence 33 base pairs long, having 12 As, 9 Ts, 5 Cs and 7Gs. The GC content can be expressed by the formula: $gc = \\frac{G+C}{A+T+C+G}$ where A,T,C,G represent the number of nucleotides of each kind. What is the AT content? Is the GC content higher than the AT content ?"
   ]
  },
  {
   "cell_type": "code",
   "execution_count": 21,
   "metadata": {},
   "outputs": [
    {
     "name": "stdout",
     "output_type": "stream",
     "text": [
      "The GC content is:  0.36363636363636365\n",
      "Is the GC content higher than AT content?  False\n"
     ]
    }
   ],
   "source": [
    "A = 12\n",
    "T = 9\n",
    "C = 5\n",
    "G = 7\n",
    "\n",
    "gc = (G+C)/(A+T+C+G)\n",
    "\n",
    "print(\"The GC content is: \", gc)\n",
    "\n",
    "at = 1 - gc\n",
    "\n",
    "print(\"Is the GC content higher than AT content? \", gc > at)\n"
   ]
  },
  {
   "cell_type": "markdown",
   "metadata": {},
   "source": [
    "### Real numbers exercise: quadratic equation\n",
    "\n",
    "Calculate the zeros of the equation $ax^2-b = 0$ where `a = 10` and `b = 1`. Hint: use `math.sqrt` or `** 0.5`. Finally check that substituting the obtained value of `x` in the equation gives zero. "
   ]
  },
  {
   "cell_type": "code",
   "execution_count": 22,
   "metadata": {
    "scrolled": true
   },
   "outputs": [
    {
     "name": "stdout",
     "output_type": "stream",
     "text": [
      "10x**2 - 1 = 0 for x: 0.31622776601683794\n",
      "Is x a solution? True\n"
     ]
    }
   ],
   "source": [
    "# SOLUTION\n",
    "\n",
    "import math\n",
    "\n",
    "A = 10\n",
    "B = 1\n",
    "\n",
    "x = math.sqrt(B/A)\n",
    "\n",
    "print(\"10x**2 - 1 = 0 for x:\", x)\n",
    "print(\"Is x a solution?\", 10*x**2 -1 == 0)"
   ]
  }
 ],
 "metadata": {
  "celltoolbar": "Edit Metadata",
  "kernelspec": {
   "display_name": "Python 3",
   "language": "python",
   "name": "python3"
  },
  "language_info": {
   "codemirror_mode": {
    "name": "ipython",
    "version": 3
   },
   "file_extension": ".py",
   "mimetype": "text/x-python",
   "name": "python",
   "nbconvert_exporter": "python",
   "pygments_lexer": "ipython3",
   "version": "3.7.3"
  },
  "toc": {
   "base_numbering": 1,
   "nav_menu": {},
   "number_sections": false,
   "sideBar": true,
   "skip_h1_title": false,
   "title_cell": "Table of Contents",
   "title_sidebar": "Contents",
   "toc_cell": false,
   "toc_position": {},
   "toc_section_display": true,
   "toc_window_display": true
  }
 },
 "nbformat": 4,
 "nbformat_minor": 2
}
