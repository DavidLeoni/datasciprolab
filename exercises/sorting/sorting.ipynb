{
 "cells": [
  {
   "cell_type": "code",
   "execution_count": 1,
   "metadata": {
    "nbsphinx": "hidden"
   },
   "outputs": [],
   "source": [
    "#Please execute this cell\n",
    "import sys;\n",
    "sys.path.append('../../'); \n",
    "import jupman;"
   ]
  },
  {
   "cell_type": "markdown",
   "metadata": {},
   "source": [
    "# Sorting\n",
    "\n",
    "## [Download exercises zip](../../_static/sorting-exercises.zip)\n",
    "\n",
    "[Browse files online](https://github.com/DavidLeoni/datasciprolab/tree/master/exercises/sorting)\n",
    "\n",
    "## What to do\n",
    "\n",
    "- unzip exercises in a folder, you should get something like this: \n",
    "\n",
    "```\n",
    "\n",
    "-jupman.py\n",
    "-sciprog.py\n",
    "-other stuff ...\n",
    "-exercises\n",
    "     |-sorting\n",
    "         |- sorting.ipynb         \n",
    "         |- selection_sort_exercise.py      \n",
    "         |- selection_sort_test.py\n",
    "         |- selection_sort_solution.py         \n",
    "         |- other stuff ..\n",
    "```\n",
    "\n",
    "\n",
    "- open the editor of your choice (for example Visual Studio Code, Spyder or PyCharme), you will edit the files ending in `_exercise.py` files\n",
    "- Go on reading this notebook, and follow instuctions inside."
   ]
  },
  {
   "cell_type": "markdown",
   "metadata": {},
   "source": [
    "\n",
    "## List performance\n",
    "\n",
    "Python lists are generic containers, they are useful in a variety of scenarios but sometimes their perfomance  can be disappointing, so it's best to know and avoid potentially expensive operations.\n",
    "Table from [the book Chapter 2.6: Lists](http://interactivepython.org/runestone/static/pythonds/AlgorithmAnalysis/Lists.html)\n",
    "\n",
    "\n",
    "|![](img/list-complexity-1.png)>|![](img/list-complexity-2.png)>|\n",
    "|---|---|\n",
    "\n",
    "### Fast or not?\n",
    " \n",
    "```python\n",
    "\n",
    "x = [\"a\", \"b\", \"c\"]\n",
    "\n",
    "x[2]       \n",
    "x[2] = \"d\"       \n",
    "x.append(\"d\")     \n",
    "x.insert(0, \"d\")        \n",
    "x[3:5]        \n",
    "x.sort()\n",
    "\n",
    "\n",
    "```\n",
    "What about `len(x)` ? If you don't know the answer, try googling it! "
   ]
  },
  {
   "cell_type": "markdown",
   "metadata": {},
   "source": [
    "Sublist iteration performance\n",
    "\n",
    "`get slice` time complexity is `O(k)`, but what about memory? It's the same!\n",
    "\n",
    "So if you want to iterate a part of a list, beware of slicing! For example, slicing a list like this can occupy much more memory than necessary:"
   ]
  },
  {
   "cell_type": "code",
   "execution_count": 2,
   "metadata": {},
   "outputs": [
    {
     "name": "stdout",
     "output_type": "stream",
     "text": [
      "[200, 202, 204, 206, 208, 210, 212, 214, 216, 218, 220, 222, 224, 226, 228, 230, 232, 234, 236, 238, 240, 242, 244, 246, 248, 250, 252, 254, 256, 258, 260, 262, 264, 266, 268, 270, 272, 274, 276, 278, 280, 282, 284, 286, 288, 290, 292, 294, 296, 298, 300, 302, 304, 306, 308, 310, 312, 314, 316, 318, 320, 322, 324, 326, 328, 330, 332, 334, 336, 338, 340, 342, 344, 346, 348, 350, 352, 354, 356, 358, 360, 362, 364, 366, 368, 370, 372, 374, 376, 378, 380, 382, 384, 386, 388, 390, 392, 394, 396, 398]\n"
     ]
    }
   ],
   "source": [
    "x = range(1000)\n",
    "\n",
    "print([2*y for y in x[100:200]])"
   ]
  },
  {
   "cell_type": "markdown",
   "metadata": {},
   "source": [
    "The reason is that, depending on the Python interpreter you have, slicing like `x[100:200]`at loop start can create a _new_ list. If we want to explicitly tell Python we just want to iterate through the list, we can use the so called <a href=\"https://docs.python.org/2/library/itertools.html\" target=\"_blank\">itertools</a>. In particular, the <a href=\"https://docs.python.org/2/library/itertools.html#itertools.islice\" target=\"_blank\"> islice </a> method is handy, with it we can rewrite the list comprehension above like this:\n"
   ]
  },
  {
   "cell_type": "code",
   "execution_count": 3,
   "metadata": {},
   "outputs": [
    {
     "name": "stdout",
     "output_type": "stream",
     "text": [
      "[200, 202, 204, 206, 208, 210, 212, 214, 216, 218, 220, 222, 224, 226, 228, 230, 232, 234, 236, 238, 240, 242, 244, 246, 248, 250, 252, 254, 256, 258, 260, 262, 264, 266, 268, 270, 272, 274, 276, 278, 280, 282, 284, 286, 288, 290, 292, 294, 296, 298, 300, 302, 304, 306, 308, 310, 312, 314, 316, 318, 320, 322, 324, 326, 328, 330, 332, 334, 336, 338, 340, 342, 344, 346, 348, 350, 352, 354, 356, 358, 360, 362, 364, 366, 368, 370, 372, 374, 376, 378, 380, 382, 384, 386, 388, 390, 392, 394, 396, 398]\n"
     ]
    }
   ],
   "source": [
    "import itertools\n",
    "\n",
    "print([2*y for y in itertools.islice(x, 100, 200)])"
   ]
  },
  {
   "cell_type": "markdown",
   "metadata": {},
   "source": [
    "## Exercises\n",
    "\n",
    "## 1 Implement Selection Sort\n",
    "\n",
    "We will try to implement Selection Sort on our own. Montresor slides already contain the Python solution, but don't look at them (we will implement a slightly different solution anyway). In this exercises, you will only be allowed to look at this picture:\n",
    "\n",
    "![](img/selection-sort-matrix.png)\n",
    "\n",
    "\n",
    "To start with, open  `selection_sort_exercise.py` in an editor of your choice.\n",
    "\n",
    "\n",
    "Now proceed reading. \n",
    "\n",
    "### 1.1 Implement `swap`\n",
    "\n"
   ]
  },
  {
   "cell_type": "code",
   "execution_count": 4,
   "metadata": {},
   "outputs": [],
   "source": [
    "def swap(A, i, j):\n",
    "    \"\"\"\n",
    "    In the array A, swaps the elements at position i and j.\n",
    "    \"\"\"\n",
    "    raise Exception(\"TODO implement me!\")"
   ]
  },
  {
   "cell_type": "markdown",
   "metadata": {},
   "source": [
    "In order to succeed in this part of the course, you are strongly invited to _first_ think hard about a function, and _then_ code! So to start with, pay particular attention at the required inputs and expected outputs of functions.\n",
    "_Before_ start coding, answer these questions:\n",
    "\n",
    "\n",
    "**QUESTION 1.1.1**: What are the input types of `swap`? In particular\n",
    "\n",
    "* What is the type of the elements in `A`? \n",
    "    * Can we have both strings and floats inside `A` ?\n",
    "* What is the type of `i` and `j` ? \n",
    "\n",
    "<br/>\n",
    "<div class=\"alert alert-info\" >\n",
    "\n",
    "**COMMANDMENT 2:** You shall also write on paper!\n",
    "</div>\n",
    "\n",
    "Help yourself by drawing a representation of input array. Staring at the monitor doesn't always work, so help yourself and draw a representation of the state sof the program. Tables, nodes, arrows, all can help figuring out a solution for the problem. \n",
    "<br/>\n",
    "\n",
    "\n",
    "**QUESTION 1.1.2**: What should be the result of the three prints here? Should the function `swap` _return_ something at all ? Try to answer this question before proceeding. \n",
    "\n",
    "\n",
    "```python\n",
    "A = ['a','b','c']\n",
    "print(A)\n",
    "print(swap(a, 0, 2))\n",
    "print(A)\n",
    "```\n",
    "\n",
    "**HINT**: Remember this:\n",
    "\n",
    "<div class=\"alert alert-info\" >\n",
    "\n",
    "**COMMANDMENT 7:** You shall use `return` command only if you see written _return_ in the function description!\n",
    "\n",
    "If there is no `return` in function description, the function is intended to return `None`.\n",
    "</div>\n",
    "\n",
    "\n",
    "**QUESTION 1.1.3**:  Try to answer this question before proceeding:\n",
    "\n",
    "* What is the result of the first and second print down here?\n",
    "* What is the result of the final print if we have arbitrary indeces $i$ and $j$ with $0 \\leq i,j \\leq 2$  ?\n",
    "\n",
    "```python\n",
    "A = ['a','b','c']\n",
    "swap(a, 0, 2)\n",
    "print(A)\n",
    "swap(a, 0, 2)\n",
    "print(A)\n",
    "```\n",
    "\n",
    "**QUESTION 1.1.3**:  Try to answer this question before proceeding:\n",
    "\n",
    "* What is the result of the first and second print down here?\n",
    "* What is the result of the final print if we have arbitrary indeces $i$ and $j$ with $0 \\leq i,j \\leq 2$  ?\n",
    "\n",
    "```python\n",
    "A = ['a','b','c']\n",
    "swap(a, 0, 2)\n",
    "print(A)\n",
    "swap(a, 2, 0)\n",
    "print(A)\n",
    "```\n",
    "\n",
    "**QUESTION 1.1.4**: What is the result of the final print here? Try to answer this question before proceeding:\n",
    "\n",
    "```python\n",
    "A = ['a','b','c']\n",
    "swap(a, 1, 1)\n",
    "print(A)\n",
    "```\n",
    "\n",
    "**QUESTION 1.1.5**: \n",
    "\n",
    "* In the same file `selection_sort.py` copy at the end the test code at the end of this question.\n",
    "* Read carefully all the test cases, in particular `test_swap_property` and `test_double_swap`. They show two important properties of the swap function that you should have discovered while ansering the questions before. \n",
    "    * Why should these tests succeed with implemented code? Make sure to answer.\n",
    "\n",
    "\n"
   ]
  },
  {
   "cell_type": "markdown",
   "metadata": {},
   "source": [
    "**EXERCISE**: implement swap\n",
    "\n",
    "Proceed implementing the `swap` function\n",
    "\n",
    "**To test the function**, run:\n",
    "\n",
    "```bash\n",
    "python3  -m unittest selection_sort_test.SwapTest\n",
    "```\n",
    "\n",
    "Notice that:\n",
    "\n",
    "* In the command above there is no `.py` at the end of `selection_sort_test`\n",
    "* We are executing the command in the operating system shell, not Python (there must _not_ be  `>>>` at the beginning)\n",
    "* At the end of the filename, there is a dot followed by a test class name `SwapTest`, which means Python will only execute tests contained in `SwapTest`. Of course, in this case those are all the tests we have, but if we add many test classes to our file, it will be useful to able to filter executed tests.\n",
    "* According to your distribution (i.e. Anaconda), you might need to write `python` instead of  `python3` "
   ]
  },
  {
   "cell_type": "markdown",
   "metadata": {},
   "source": [
    "\n",
    "**QUESTION 1.1.6**: Read [Error kinds](https://datasciprolab.readthedocs.io/en/latest/exercises/testing/testing.html#Error-kinds) section in Testing. Suppose you will be the only one calling `swap`, and you suspect your program somewhere is calling swap with wrong parameters. Which kind of error would that be? Add to `swap` some appropriate _precondition checking_.  "
   ]
  },
  {
   "cell_type": "markdown",
   "metadata": {},
   "source": [
    "### 1.2 Implement `argmin`\n",
    "\n",
    "Try to code and test the partial `argmin` pos function:\n"
   ]
  },
  {
   "cell_type": "code",
   "execution_count": 5,
   "metadata": {},
   "outputs": [],
   "source": [
    "def argmin(A, i):\n",
    "    \"\"\"\n",
    "    Return the index of the element in list A which is lesser than or equal to all other elements in A \n",
    "    that start from index i included\n",
    "    \"\"\"\n",
    "    raise Exception(\"TODO implement me!\")\n"
   ]
  },
  {
   "cell_type": "markdown",
   "metadata": {},
   "source": [
    "\n",
    "**QUESTION 1.2.1**: What are the input types of `argmin`? In particular\n",
    "\n",
    "* What could be the type of the elements in `A`? \n",
    "    * Can we have both strings and floats inside `A` ?\n",
    "* What is the type of `i`  ? \n",
    "    * What is the range of `i` ?\n",
    "\n",
    "**QUESTION 1.2.2**: Should the function `argmin` _return_ something  ? What would be the result type? Try to answer this question before proceeding.\n",
    "\n",
    "**QUESTION 1.2.3**: Look again at the `selection_sort` matrix, and compare it to the `argmin` function definition:\n",
    "\n",
    "![](img/selection-sort-matrix.png)\n",
    "\n",
    "* Can you understand the meaning of orange and white boxes?  \n",
    "* What does the yellow box represent?\n",
    "\n",
    "**QUESTION 1.2.4**: \n",
    "\n",
    "* Draw a matrix like the above for the array `A = ['b','a','c']`, adding the corresponding row and column numbers for `i` and `j`\n",
    "* What should be the result of the three prints here?  \n",
    "\n",
    "\n",
    "```python\n",
    "A = ['a','b','c']\n",
    "print(argmin(A,0))\n",
    "print(argmin(A,1))\n",
    "print(argmin(A,2))\n",
    "print(A)\n",
    "```\n",
    "    \n",
    "**EXERCISE 1.2.5**: Copy the following test code at the end of the file `selection_sort.py`, and start coding a solution. \n",
    "\n",
    "**To test the function**, run:\n",
    "\n",
    "```bash\n",
    "python3  -m unittest selection_sort_test.ArgminTest\n",
    "```\n",
    "\n",
    "Notice how now we are appending `.ArgminTest` at the end of the command.\n",
    "\n",
    "<br/>\n",
    "<div class=\"alert alert-warning\" >\n",
    "\n",
    "**Warning:** _Don't_ use slices ! Remember their computational complexity, and that in these labs we do care about performances!\n",
    "</div>\n",
    "\n"
   ]
  },
  {
   "cell_type": "markdown",
   "metadata": {},
   "source": [
    "### 1.3: Full `selection_sort`\n",
    "\n",
    "\n",
    "![](img/selection-sort-matrix.png)\n",
    "\n",
    "Let's talks about implementing `selection_sort` function in `selection_sort_exercise.py`"
   ]
  },
  {
   "cell_type": "code",
   "execution_count": 6,
   "metadata": {},
   "outputs": [],
   "source": [
    "\n",
    "def selection_sort(A):\n",
    "    \"\"\"\n",
    "    Sorts the list A in-place in O(n^2) time this ways:\n",
    "        0: sets i = 0\n",
    "        1. Looks at minimal element in the array [i:n], and swaps it with first element.\n",
    "        2. Repeats step 1, but considering the subarray [i+1:n]\n",
    "    \"\"\"\n",
    "    raise Exception(\"TODO implement me!\")\n"
   ]
  },
  {
   "cell_type": "markdown",
   "metadata": {},
   "source": [
    "Note: on the book website there is [an implementation of the selection sort](http://interactivepython.org/runestone/static/pythonds/SortSearch/TheSelectionSort.html) with a nice animated histogram showing a sorting process. Differently from the slides, instead of selecting the minimal element the algorithm on the book selects the _maximal_ element and puts it to the right of the array.\n",
    "\n",
    "\n",
    "**QUESTION 1.3.1**: \n",
    "\n",
    "* What is the expected _return_ type? Does it return anything at all?\n",
    "* What is the meaning of 'Sorts the list A in-place' ?\n",
    "\n",
    "**QUESTION 1.3.2**: \n",
    "\n",
    "* At the beginning, which array indeces are considered?\n",
    "* At the end, which array indeces are considered ? Is `A[len(A) - 1:len(A)]` ever considered ?\n",
    "\n",
    "**EXERCISE 1.3.3**: \n",
    "\n",
    "Try now to implement `selection_sort` in `selection_sort_exercise.py`, using the two previously defined functions `swap` and `argmin`. \n",
    "\n",
    "**HINT**: If you are having troubles because your selection sort passes wrong arguments to either swap or argmin, feel free to add further assertions to both. They are much more effective than prints !\n",
    "\n",
    "**To test the function**, run:\n",
    "\n",
    "```bash\n",
    "python3  -m unittest selection_sort_test.SelectionSortTest\n",
    "```\n"
   ]
  },
  {
   "cell_type": "code",
   "execution_count": 7,
   "metadata": {
    "nbsphinx": "hidden"
   },
   "outputs": [
    {
     "name": "stderr",
     "output_type": "stream",
     "text": [
      "...............\n",
      "----------------------------------------------------------------------\n",
      "Ran 15 tests in 0.014s\n",
      "\n",
      "OK\n"
     ]
    }
   ],
   "source": [
    "# just testing solution works, please ignore this\n",
    "import selection_sort_test\n",
    "jupman.run(selection_sort_test)"
   ]
  }
 ],
 "metadata": {
  "celltoolbar": "Edit Metadata",
  "kernelspec": {
   "display_name": "Python 3",
   "language": "python",
   "name": "python3"
  },
  "language_info": {
   "codemirror_mode": {
    "name": "ipython",
    "version": 3
   },
   "file_extension": ".py",
   "mimetype": "text/x-python",
   "name": "python",
   "nbconvert_exporter": "python",
   "pygments_lexer": "ipython3",
   "version": "3.5.2"
  },
  "toc": {
   "base_numbering": 1,
   "nav_menu": {},
   "number_sections": false,
   "sideBar": true,
   "skip_h1_title": false,
   "title_cell": "Table of Contents",
   "title_sidebar": "Contents",
   "toc_cell": false,
   "toc_position": {},
   "toc_section_display": true,
   "toc_window_display": false
  }
 },
 "nbformat": 4,
 "nbformat_minor": 1
}
