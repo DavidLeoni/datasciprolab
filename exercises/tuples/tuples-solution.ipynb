{
 "cells": [
  {
   "cell_type": "code",
   "execution_count": 1,
   "metadata": {
    "nbsphinx": "hidden"
   },
   "outputs": [],
   "source": [
    "#Please execute this cell\n",
    "import sys;\n",
    "sys.path.append('../../'); \n",
    "import jupman;"
   ]
  },
  {
   "cell_type": "markdown",
   "metadata": {},
   "source": [
    "# Tuples solutions\n",
    "\n",
    "## [Download exercises zip](../../_static/tuples-exercises.zip)\n",
    "\n",
    "[Browse files online](https://github.com/DavidLeoni/datasciprolab/tree/master/exercises/tuples)\n",
    "\n"
   ]
  },
  {
   "cell_type": "markdown",
   "metadata": {},
   "source": [
    "\n",
    "## What to do\n",
    "\n",
    "- unzip exercises in a folder, you should get something like this: \n",
    "\n",
    "```\n",
    "\n",
    "-jupman.py\n",
    "-sciprog.py\n",
    "-exercises\n",
    "     |- lists\n",
    "         |- tuples-exercise.ipynb     \n",
    "         |- tuples-solution.ipynb\n",
    "```\n",
    "\n",
    "<div class=\"alert alert-warning\">\n",
    "\n",
    "**WARNING**: to correctly visualize the notebook, it MUST be in an unzipped folder !\n",
    "</div>\n",
    "\n",
    "\n",
    "- open Jupyter Notebook from that folder. Two things should open, first a console and then browser. The browser should show a file list: navigate the list and open the notebook `exercises/tuples/tuples-exercise.ipynb`\n",
    "\n",
    "<div class=\"alert alert-warning\">\n",
    "\n",
    "**WARNING 2**: DO NOT use the _Upload_ button in Jupyter, instead navigate in Jupyter browser to the unzipped folder !\n",
    "</div>\n",
    "\n",
    "\n",
    "- Go on reading that notebook, and follow instuctions inside.\n",
    "\n",
    "\n",
    "Shortcut keys:\n",
    "\n",
    "- to execute Python code inside a Jupyter cell, press `Control + Enter`\n",
    "- to execute Python code inside a Jupyter cell AND select next cell, press `Shift + Enter`\n",
    "- to execute Python code inside a Jupyter cell AND a create a new cell aftwerwards, press `Alt + Enter`\n",
    "- If the notebooks look stuck, try to select `Kernel -> Restart`"
   ]
  },
  {
   "cell_type": "markdown",
   "metadata": {},
   "source": [
    "## Introduction\n",
    "\n",
    "**References**\n",
    "\n",
    "- [Andrea Passerini, A02 slides (lists and tuples)](http://disi.unitn.it/~passerini/teaching/2019-2020/sci-pro/slides/A02-datastructures.pdf)\n",
    "- [Think Python, Chapter 10, Lists](http://greenteapress.com/thinkpython2/html/thinkpython2011.html)\n",
    "- [Think Python, Chapter 12, Tuples](http://greenteapress.com/thinkpython2/html/thinkpython2013.html)"
   ]
  },
  {
   "cell_type": "markdown",
   "metadata": {},
   "source": [
    "Tuples are  **immutable** sequences, so it is not possible to change their content without actually changing the object. They are sequential collections of objects, and elements of tuples are assumed to be in a particular order. \n",
    "\n",
    "- Duplicates are allowed\n",
    "- They can hold heterogeneous information. \n",
    "\n",
    "### Building tuples\n",
    "\n",
    "Tuples are created with round brackets **()**\n",
    "\n",
    "Some examples:"
   ]
  },
  {
   "cell_type": "code",
   "execution_count": 2,
   "metadata": {},
   "outputs": [
    {
     "name": "stdout",
     "output_type": "stream",
     "text": [
      "(1, 2, 3)\n"
     ]
    }
   ],
   "source": [
    "first_tuple = (1,2,3) \n",
    "print(first_tuple)"
   ]
  },
  {
   "cell_type": "code",
   "execution_count": 3,
   "metadata": {},
   "outputs": [
    {
     "name": "stdout",
     "output_type": "stream",
     "text": [
      "(1,)  type: <class 'tuple'>\n"
     ]
    }
   ],
   "source": [
    "second_tuple = (1,) # this contains one element only, but we need the comma!\n",
    "print(second_tuple, \" type:\", type(second_tuple))"
   ]
  },
  {
   "cell_type": "code",
   "execution_count": 4,
   "metadata": {},
   "outputs": [
    {
     "name": "stdout",
     "output_type": "stream",
     "text": [
      "1  type: <class 'int'>\n"
     ]
    }
   ],
   "source": [
    "var = (1) # This is not a tuple!!!\n",
    "print(var, \" type:\", type(var))"
   ]
  },
  {
   "cell_type": "code",
   "execution_count": 5,
   "metadata": {},
   "outputs": [
    {
     "name": "stdout",
     "output_type": "stream",
     "text": [
      "() \n",
      "\n"
     ]
    }
   ],
   "source": [
    "empty_tuple = () # fairly useless\n",
    "print(empty_tuple, \"\\n\")"
   ]
  },
  {
   "cell_type": "code",
   "execution_count": 6,
   "metadata": {},
   "outputs": [
    {
     "name": "stdout",
     "output_type": "stream",
     "text": [
      "('January', 1, 2007)\n"
     ]
    }
   ],
   "source": [
    "third_tuple = (\"January\", 1 ,2007) # heterogeneous info \n",
    "print(third_tuple)"
   ]
  },
  {
   "cell_type": "code",
   "execution_count": 7,
   "metadata": {},
   "outputs": [
    {
     "name": "stdout",
     "output_type": "stream",
     "text": [
      "(('January', 1, 2007), ('February', 2, 1998), ('March', 2, 1978), ('June', 12, 1978)) \n",
      "\n"
     ]
    }
   ],
   "source": [
    "days = (third_tuple,(\"February\",2,1998), (\"March\",2,1978),(\"June\",12,1978))\n",
    "print(days, \"\\n\")"
   ]
  },
  {
   "cell_type": "markdown",
   "metadata": {},
   "source": [
    "Remember tuples are immutable objects...\n"
   ]
  },
  {
   "cell_type": "code",
   "execution_count": 8,
   "metadata": {},
   "outputs": [
    {
     "name": "stdout",
     "output_type": "stream",
     "text": [
      "Days has id:  139828841916520\n"
     ]
    }
   ],
   "source": [
    "print(\"Days has id: \", id(days))\n",
    "days = (\"Mon\",\"Tue\",\"Wed\",\"Thu\",\"Fri\",\"Sat\",\"Sun\")"
   ]
  },
  {
   "cell_type": "markdown",
   "metadata": {},
   "source": [
    "...hence reassignment creates a new object"
   ]
  },
  {
   "cell_type": "code",
   "execution_count": 9,
   "metadata": {},
   "outputs": [
    {
     "name": "stdout",
     "output_type": "stream",
     "text": [
      "Days now has id:  139828842394088\n"
     ]
    }
   ],
   "source": [
    "print(\"Days now has id: \", id(days))\n"
   ]
  },
  {
   "cell_type": "markdown",
   "metadata": {},
   "source": [
    "### Building from sequences\n",
    "\n",
    "You can build a tuple from any sequence:"
   ]
  },
  {
   "cell_type": "code",
   "execution_count": 10,
   "metadata": {},
   "outputs": [
    {
     "data": {
      "text/plain": [
       "(8, 2, 5)"
      ]
     },
     "execution_count": 10,
     "metadata": {},
     "output_type": "execute_result"
    }
   ],
   "source": [
    "tuple([8,2,5])"
   ]
  },
  {
   "cell_type": "code",
   "execution_count": 11,
   "metadata": {},
   "outputs": [
    {
     "data": {
      "text/plain": [
       "('a', 'b', 'c')"
      ]
     },
     "execution_count": 11,
     "metadata": {},
     "output_type": "execute_result"
    }
   ],
   "source": [
    "tuple(\"abc\")"
   ]
  },
  {
   "cell_type": "markdown",
   "metadata": {},
   "source": [
    "### Tuple operators\n",
    "\n",
    "The following operators work on tuples and they behave exactly as on lists:\n",
    "\n",
    "![](img/tuple_operators.png)"
   ]
  },
  {
   "cell_type": "code",
   "execution_count": 12,
   "metadata": {},
   "outputs": [
    {
     "name": "stdout",
     "output_type": "stream",
     "text": [
      "The first three lectures:\n",
      " (('Friday', '28/09/2018'), ('Tuesday', '02/10/2018'), ('Friday', '05/10/2018')) \n",
      "\n"
     ]
    }
   ],
   "source": [
    "practical1 = (\"Friday\", \"28/09/2018\")\n",
    "practical2 = (\"Tuesday\", \"02/10/2018\")\n",
    "practical3 = (\"Friday\", \"05/10/2018\")\n",
    "\n",
    "# A tuple containing 3 tuples\n",
    "lectures = (practical1, practical2, practical3)\n",
    "print(\"The first three lectures:\\n\", lectures, \"\\n\")\n",
    "\n"
   ]
  },
  {
   "cell_type": "code",
   "execution_count": 13,
   "metadata": {},
   "outputs": [
    {
     "name": "stdout",
     "output_type": "stream",
     "text": [
      "mergedLectures:\n",
      " ('Friday', '28/09/2018', 'Tuesday', '02/10/2018', 'Friday', '05/10/2018')\n"
     ]
    }
   ],
   "source": [
    "# One tuple only\n",
    "mergedLectures = practical1 + practical2 + practical3  \n",
    "print(\"mergedLectures:\\n\", mergedLectures)\n"
   ]
  },
  {
   "cell_type": "code",
   "execution_count": 14,
   "metadata": {},
   "outputs": [
    {
     "name": "stdout",
     "output_type": "stream",
     "text": [
      "1st lecture was on:  ('Friday', '28/09/2018') \n",
      "\n"
     ]
    }
   ],
   "source": [
    "# This returns the whole tuple\n",
    "print(\"1st lecture was on: \", lectures[0], \"\\n\") "
   ]
  },
  {
   "cell_type": "code",
   "execution_count": 15,
   "metadata": {},
   "outputs": [
    {
     "name": "stdout",
     "output_type": "stream",
     "text": [
      "1st lecture was on  Friday ,  28/09/2018 \n",
      "\n"
     ]
    }
   ],
   "source": [
    "# 2 elements from the same tuple\n",
    "print(\"1st lecture was on \", mergedLectures[0], \", \", mergedLectures[1], \"\\n\") "
   ]
  },
  {
   "cell_type": "code",
   "execution_count": 16,
   "metadata": {},
   "outputs": [
    {
     "name": "stdout",
     "output_type": "stream",
     "text": [
      "3rd lecture was on:  ('Friday', '05/10/2018')\n"
     ]
    }
   ],
   "source": [
    "# Return type is tuple!\n",
    "print(\"3rd lecture was on: \", lectures[2]) "
   ]
  },
  {
   "cell_type": "code",
   "execution_count": 17,
   "metadata": {},
   "outputs": [
    {
     "name": "stdout",
     "output_type": "stream",
     "text": [
      "3rd lecture was on  ('Friday', '05/10/2018') \n",
      "\n"
     ]
    }
   ],
   "source": [
    "# 2 elements from the same tuple returned in tuple\n",
    "print(\"3rd lecture was on \", mergedLectures[4:], \"\\n\") "
   ]
  },
  {
   "cell_type": "markdown",
   "metadata": {},
   "source": [
    "The following methods are available for tuples:\n",
    "\n",
    "![](img/tuple_methods.png)\n"
   ]
  },
  {
   "cell_type": "code",
   "execution_count": 18,
   "metadata": {
    "scrolled": true
   },
   "outputs": [
    {
     "name": "stdout",
     "output_type": "stream",
     "text": [
      "2  lectures were on Friday\n",
      "1  lecture was on Tuesday\n",
      "Index: 0\n"
     ]
    }
   ],
   "source": [
    "practical1 = (\"Friday\", \"28/09/2018\")\n",
    "practical2 = (\"Tuesday\", \"02/10/2018\")\n",
    "practical3 = (\"Friday\", \"05/10/2018\")\n",
    "\n",
    "\n",
    "mergedLectures = practical1 + practical2 + practical3  # One tuple only\n",
    "print(mergedLectures.count(\"Friday\"), \" lectures were on Friday\")\n",
    "print(mergedLectures.count(\"Tuesday\"), \" lecture was on Tuesday\")\n",
    "\n",
    "print(\"Index:\", practical2.index(\"Tuesday\"))\n"
   ]
  },
  {
   "cell_type": "markdown",
   "metadata": {},
   "source": [
    "```python\n",
    "# not present in tuple, python will complain\n",
    "print(\"Index:\", practical2.index(\"Wednesday\"))\n",
    "```"
   ]
  },
  {
   "cell_type": "markdown",
   "metadata": {},
   "source": [
    "```bash\n",
    "---------------------------------------------------------------------------\n",
    "ValueError                                Traceback (most recent call last)\n",
    "<ipython-input-125-f7ecc5f7f5d6> in <module>\n",
    "----> 1 print(\"Index:\", practical2.index(\"Wednesday\"))\n",
    "\n",
    "ValueError: tuple.index(x): x not in tuple\n",
    "\n",
    "```"
   ]
  },
  {
   "cell_type": "markdown",
   "metadata": {},
   "source": [
    "### Exercise: pet tuples\n",
    "\n",
    "Given the string `pets = \"siamese cat,dog,songbird,guinea pig,rabbit,hampster\"` \n",
    "\n",
    "1. convert it into a list. \n",
    "2. create then a tuple of tuples where each tuple has two information: the name of the pet and the length of the name. E.g. ((\"dog\",3), ( \"hampster\",8)). \n",
    "3. print the tuple\n",
    "\n",
    "You should obtain: \n",
    "```bash\n",
    "['cat', 'dog', 'bird', 'guinea pig', 'rabbit', 'hampster']\n",
    "(('cat', 3), ('dog', 3), ('bird', 4), ('guinea pig', 10), ('rabbit', 6), ('hampster', 8))\n",
    "```"
   ]
  },
  {
   "cell_type": "code",
   "execution_count": 1,
   "metadata": {},
   "outputs": [
    {
     "name": "stdout",
     "output_type": "stream",
     "text": [
      "['cat', 'dog', 'bird', 'guinea pig', 'rabbit', 'hampster']\n",
      "(('cat', 3), ('dog', 3), ('bird', 4), ('guinea pig', 10), ('rabbit', 6), ('hampster', 8))\n"
     ]
    }
   ],
   "source": [
    "pets = \"cat,dog,bird,guinea pig,rabbit,hampster\"\n",
    "\n",
    "# write here\n",
    "pet_list = pets.split(',')\n",
    "\n",
    "print(pet_list)\n",
    "\n",
    "pet_tuples = ((pet_list[0], len(pet_list[0])), \n",
    "              (pet_list[1], len(pet_list[1])), \n",
    "              (pet_list[2], len(pet_list[2])), \n",
    "              (pet_list[3], len(pet_list[3])),\n",
    "              (pet_list[4], len(pet_list[4])),\n",
    "              (pet_list[5], len(pet_list[5])))\n",
    "\n",
    "print(pet_tuples)"
   ]
  },
  {
   "cell_type": "markdown",
   "metadata": {},
   "source": [
    "### Exercise: fruits\n",
    "\n",
    "Given the string `S=\"apple|pear|apple|cherry|pear|apple|pear|pear|cherry|pear|strawberry\"`. Store the elements separated by the `\"|\"` in a list. \n",
    "    \n",
    "1. How many elements does the list have?\n",
    "2. Knowing that the list created at the previous point has only four distinct elements (i.e. `\"apple\"`,`\"pear\"`,`\"cherry\"` and `\"strawberry\"`), create another list where each element is a tuple containing the name of the fruit and its multiplicity (that is how many times it appears in the original list). Ex. list_of_tuples = [(\"apple\", 3), (\"pear\", \"5\"),...]. Here you can and should write code that only works with the given constant string, so there is no need for cycles.\n",
    "\n",
    "3. Print the content of each tuple in a separate line (ex. first line: apple is present 3 times)\n",
    "\n",
    "You should obtain: \n",
    "\n",
    "```bash\n",
    "['apple', 'pear', 'apple', 'cherry', 'pear', 'apple', 'pear', 'pear', 'cherry', 'pear', 'strawberry']\n",
    "[('apple', 3), ('pear', 5), ('cherry', 2), ('strawberry', 1)] \n",
    "\n",
    "apple  is present  3  times\n",
    "pear  is present  5  times\n",
    "cherry  is present  2  times\n",
    "strawberry  is present  1  times\n",
    "\n",
    "```"
   ]
  },
  {
   "cell_type": "code",
   "execution_count": 20,
   "metadata": {
    "scrolled": true
   },
   "outputs": [
    {
     "name": "stdout",
     "output_type": "stream",
     "text": [
      "['apple', 'pear', 'apple', 'cherry', 'pear', 'apple', 'pear', 'pear', 'cherry', 'pear', 'strawberry']\n",
      "[('apple', 3), ('pear', 5), ('cherry', 2), ('strawberry', 1)] \n",
      "\n",
      "apple  is present  3  times\n",
      "pear  is present  5  times\n",
      "cherry  is present  2  times\n",
      "strawberry  is present  1  times\n"
     ]
    }
   ],
   "source": [
    "S=\"apple|pear|apple|cherry|pear|apple|pear|pear|cherry|pear|strawberry\"\n",
    "\n",
    "# write here\n",
    "\n",
    "Slist = S.split(\"|\")\n",
    "print(Slist)\n",
    "\n",
    "appleT = (\"apple\", Slist.count(\"apple\"))\n",
    "pearT = (\"pear\", Slist.count(\"pear\"))\n",
    "cherryT = (\"cherry\", Slist.count(\"cherry\"))\n",
    "strawberryT = (\"strawberry\", Slist.count(\"strawberry\"))\n",
    "list_of_tuples =[appleT, pearT, cherryT, strawberryT]\n",
    "\n",
    "print(list_of_tuples, \"\\n\") #adding newline to separate elements\n",
    "\n",
    "print(appleT[0], \" is present \", appleT[1], \" times\")\n",
    "print(pearT[0], \" is present \", pearT[1], \" times\")\n",
    "print(cherryT[0], \" is present \", cherryT[1], \" times\")\n",
    "print(strawberryT[0], \" is present \", strawberryT[1], \" times\")\n"
   ]
  },
  {
   "cell_type": "markdown",
   "metadata": {},
   "source": [
    "### Exercise: build a tuple\n",
    "\n",
    "Given a tuple `x`, store in variable `y` another tuple containing the same elements as `x` _except_ the last one_, and also the elements `d` and `e` appended at the end. Your code should work with _any_ input `x`.\n",
    "\n",
    "Example:\n",
    "\n",
    "```python\n",
    "x = ('a','b','c')\n",
    "```\n",
    "\n",
    "after your code, you should get printed:\n",
    "\n",
    "```bash\n",
    "x = ('a', 'b', 'c')\n",
    "y = ('a', 'b', 'd', 'e')\n",
    "```"
   ]
  },
  {
   "cell_type": "code",
   "execution_count": 21,
   "metadata": {},
   "outputs": [
    {
     "name": "stdout",
     "output_type": "stream",
     "text": [
      "x= ('a', 'b', 'c')\n",
      "y= ('a', 'b', 'd', 'e')\n"
     ]
    }
   ],
   "source": [
    "x = ('a','b','c')\n",
    "\n",
    "# write here\n",
    "y = tuple(x[:-1]) + ('d','e')\n",
    "\n",
    "print('x=',x)\n",
    "print('y=',y)"
   ]
  },
  {
   "cell_type": "markdown",
   "metadata": {},
   "source": [
    "## Verify comprehension\n",
    "\n",
    "\n",
    "<div class=\"alert alert-warning\">\n",
    "\n",
    "**ATTENTION**\n",
    "\n",
    "Following exercises require you to know:\n",
    "\n",
    "<ul>\n",
    "<li>Complex statements: [Andrea Passerini slides A03](http://disi.unitn.it/~passerini/teaching/2019-2020/sci-pro/slides/A03-controlflow.pdf)</li>\n",
    "<li>Functions: [Andrea Passerini slides A04](http://disi.unitn.it/~passerini/teaching/2019-2020/sci-pro/slides/A04-functions.pdf)</li>\n",
    "<li>[Tests with asserts](https://datasciprolab.readthedocs.io/en/latest/exercises/errors-and-testing/errors-and-testing-solution.html#Testing-with-asserts): Following exercises contain automated tests to help you spot errors. To understand how to do them, read before [Error handling and testing](https://datasciprolab.readthedocs.io/en/latest/exercises/errors-and-testing/errors-and-testing-solution.html)</li>\n",
    "</ul>\n",
    "</div>\n"
   ]
  },
  {
   "cell_type": "markdown",
   "metadata": {},
   "source": [
    "\n",
    "### doubletup\n",
    "\n",
    "✪✪ Takes as input a list with `n` integer numbers, and RETURN a NEW list which contains `n` tuples each with two elements. Each tuple contains a number taken from the corresponding position from original list, and its double\n",
    "\n",
    "Example:\n",
    "\n",
    "```python\n",
    ">>> doubletup([ 5, 3, 8])\n",
    "[(5,10), (3,6), (8,16)]\n",
    "```"
   ]
  },
  {
   "cell_type": "code",
   "execution_count": 22,
   "metadata": {},
   "outputs": [],
   "source": [
    "def doubletup(xs):\n",
    "    #jupman-raise\n",
    "    ret = []\n",
    "    for x in xs:\n",
    "        ret.append((x, x * 2))\n",
    "    return ret\n",
    "    #/jupman-raise\n",
    "\n",
    "# TEST START - DO NOT TOUCH!      \n",
    "# if you wrote the whole code correct, and execute the cell, Python shouldn't raise `AssertionError`\n",
    "assert doubletup([]) == []\n",
    "assert doubletup([3]) == [(3,6)]\n",
    "assert doubletup([2,7]) == [(2,4),(7,14)]\n",
    "assert doubletup([5,3,8]) == [(5,10), (3,6), (8,16)]\n",
    "\n",
    "# verify original list has not changed\n",
    "la = [6]\n",
    "lb = doubletup(la)\n",
    "assert la == [6]\n",
    "assert lb == [(6,12)]\n",
    "# END TEST"
   ]
  }
 ],
 "metadata": {
  "kernelspec": {
   "display_name": "Python 3",
   "language": "python",
   "name": "python3"
  },
  "language_info": {
   "codemirror_mode": {
    "name": "ipython",
    "version": 3
   },
   "file_extension": ".py",
   "mimetype": "text/x-python",
   "name": "python",
   "nbconvert_exporter": "python",
   "pygments_lexer": "ipython3",
   "version": "3.7.3"
  },
  "toc": {
   "base_numbering": 1,
   "nav_menu": {},
   "number_sections": false,
   "sideBar": true,
   "skip_h1_title": false,
   "title_cell": "Table of Contents",
   "title_sidebar": "Contents",
   "toc_cell": false,
   "toc_position": {},
   "toc_section_display": true,
   "toc_window_display": true
  }
 },
 "nbformat": 4,
 "nbformat_minor": 2
}
