{
 "cells": [
  {
   "cell_type": "code",
   "execution_count": 1,
   "metadata": {
    "nbsphinx": "hidden"
   },
   "outputs": [],
   "source": [
    "#Please execute this cell\n",
    "import sys;\n",
    "sys.path.append('../../'); \n",
    "import jupman;\n"
   ]
  },
  {
   "cell_type": "markdown",
   "metadata": {},
   "source": [
    "# Matrices solutions\n",
    "\n",
    "## [Download exercises zip](../../_static/matrices-exercises.zip)\n",
    "\n",
    "[Browse files online](https://github.com/DavidLeoni/jupman/tree/master/exercises/matrices)\n",
    "\n"
   ]
  },
  {
   "cell_type": "markdown",
   "metadata": {},
   "source": [
    "## What to do\n",
    "\n",
    "- unzip exercises in a folder, you should get something like this: \n",
    "\n",
    "```\n",
    "\n",
    "-jupman.py\n",
    "-my_lib.py\n",
    "-other stuff ...\n",
    "-exercises\n",
    "     |- matrices\n",
    "         |- matrices-exercise.ipynb     \n",
    "         |- matrices-solution.ipynb\n",
    "         |- other stuff ..\n",
    "```\n",
    "\n",
    "<div class=\"alert alert-warning\">\n",
    "\n",
    "**WARNING**: to correctly visualize the notebook, it MUST be in an unzipped folder !\n",
    "</div>\n",
    "\n",
    "\n",
    "- open Jupyter Notebook from that folder. Two things should open, first a console and then browser. The browser should show a file list: navigate the list and open the notebook `exercises/basic-data-structures/matrices-exercise.ipynb`\n",
    "- Go on reading that notebook, and follow instuctions inside.\n",
    "\n",
    "\n",
    "Shortcut keys:\n",
    "\n",
    "- to execute Python code inside a Jupyter cell, press `Control + Enter`\n",
    "- to execute Python code inside a Jupyter cell AND select next cell, press `Shift + Enter`\n",
    "- to execute Python code inside a Jupyter cell AND a create a new cell aftwerwards, press `Alt + Enter`\n",
    "- If the notebooks look stuck, try to select `Kernel -> Restart`\n",
    "\n",
    "\n",
    "\n"
   ]
  },
  {
   "cell_type": "markdown",
   "metadata": {},
   "source": [
    "### Matrices as lists of lists"
   ]
  },
  {
   "cell_type": "markdown",
   "metadata": {},
   "source": []
  },
  {
   "cell_type": "code",
   "execution_count": 5,
   "metadata": {},
   "outputs": [],
   "source": [
    "\n",
    "def stitch_right(mat1,mat2):\n",
    "    \"\"\"Given matrices as list of lists mat1 of size n x l and mat2 of size n x r \n",
    "       RETURN a NEW matrix of size n x (l + r) as list of lists, by stitching second mat to the right end of mat1\n",
    "    \"\"\"\n",
    "    #jupman-raise\n",
    "    ret = []\n",
    "    for i in range(len(mat1)):\n",
    "        row_to_add =  mat1[i][:]\n",
    "        row_to_add.extend(mat2[i])\n",
    "        ret.append(row_to_add)\n",
    "    return ret\n",
    "    #/jupman-raise\n",
    "    \n",
    "m1 = [[]]\n",
    "m2 = [[]]\n",
    "assert stitch_right(m1, m2) == [[]]\n",
    "\n",
    "m1 = [\n",
    "        ['a','b','c'],\n",
    "        ['d','b','a']\n",
    "     ]\n",
    "m2 = [\n",
    "        [ 'f','b'],\n",
    "        ['g','h']\n",
    "     ]\n",
    "\n",
    "res = [\n",
    "        ['a','b','c','f','b'],\n",
    "        ['d','b','a','g','h']\n",
    "     ]\n",
    "\n",
    "assert stitch_right(m1, m2) == res"
   ]
  },
  {
   "cell_type": "code",
   "execution_count": null,
   "metadata": {},
   "outputs": [],
   "source": []
  }
 ],
 "metadata": {
  "celltoolbar": "Edit Metadata",
  "kernelspec": {
   "display_name": "Python 3",
   "language": "python",
   "name": "python3"
  },
  "language_info": {
   "codemirror_mode": {
    "name": "ipython",
    "version": 3
   },
   "file_extension": ".py",
   "mimetype": "text/x-python",
   "name": "python",
   "nbconvert_exporter": "python",
   "pygments_lexer": "ipython3",
   "version": "3.5.2"
  },
  "toc": {
   "base_numbering": 1,
   "nav_menu": {},
   "number_sections": false,
   "sideBar": true,
   "skip_h1_title": false,
   "title_cell": "Table of Contents",
   "title_sidebar": "Contents",
   "toc_cell": false,
   "toc_position": {},
   "toc_section_display": true,
   "toc_window_display": false
  }
 },
 "nbformat": 4,
 "nbformat_minor": 2
}
