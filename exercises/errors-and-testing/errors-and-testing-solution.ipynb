{
 "cells": [
  {
   "cell_type": "code",
   "execution_count": 1,
   "metadata": {
    "nbsphinx": "hidden"
   },
   "outputs": [],
   "source": [
    "#Please execute this cell\n",
    "import sys;\n",
    "sys.path.append('../'); \n",
    "import jupman;\n"
   ]
  },
  {
   "cell_type": "markdown",
   "metadata": {},
   "source": [
    "# Error handling and testing solutions\n",
    "\n",
    "\n",
    "## [Download exercises zip](../_static/generated/errors-and-testing.zip)\n",
    "\n",
    "[Browse files online](https://github.com/DavidLeoni/sciprog-ds/tree/master/errors-and-testing)\n",
    "\n"
   ]
  },
  {
   "cell_type": "markdown",
   "metadata": {},
   "source": [
    "## Introduction\n",
    "\n",
    "\n",
    "In this notebook we will try to understand what our program should do when it encounters unforeseen situations, and how to test the code we write. In particular, we will describe the exercise format as proposed in Part A and in Part B (they are different!)\n",
    "\n",
    "For some strange reason, many people believe that computer programs do not need much error handling nor testing. Just to make a simple comparison, would you ever drive a car that did not undergo scrupolous checks? We wouldn't.\n",
    "\n"
   ]
  },
  {
   "cell_type": "markdown",
   "metadata": {},
   "source": [
    "\n",
    "### What to do\n",
    "\n",
    "- unzip exercises in a folder, you should get something like this: \n",
    "\n",
    "```\n",
    "\n",
    "-jupman.py\n",
    "-exercises\n",
    "     |- errors-and-testing\n",
    "         |- errors-and-testing-exercise.ipynb     \n",
    "         |- errors-and-testing-solution.ipynb\n",
    "```\n",
    "\n",
    "<div class=\"alert alert-warning\">\n",
    "\n",
    "**WARNING 1**: to correctly visualize the notebook, it MUST be in an unzipped folder !\n",
    "</div>\n",
    "\n",
    "\n",
    "- open Jupyter Notebook from that folder. Two things should open, first a console and then browser. The browser should show a file list: navigate the list and open the notebook `strings/strings-exercise.ipynb`\n",
    "\n",
    "<div class=\"alert alert-warning\">\n",
    "\n",
    "**WARNING 2**: DO NOT use the _Upload_ button in Jupyter, instead navigate to the unzipped folder while in Jupyter browser!\n",
    "</div>\n",
    "\n",
    "\n",
    "- Go on reading that notebook, and follow instuctions inside.\n",
    "\n",
    "\n",
    "Shortcut keys:\n",
    "\n",
    "- to execute Python code inside a Jupyter cell, press `Control + Enter`\n",
    "- to execute Python code inside a Jupyter cell AND select next cell, press `Shift + Enter`\n",
    "- to execute Python code inside a Jupyter cell AND a create a new cell aftwerwards, press `Alt + Enter`\n",
    "- If the notebooks look stuck, try to select `Kernel -> Restart`\n",
    "\n",
    "\n",
    "\n"
   ]
  },
  {
   "cell_type": "markdown",
   "metadata": {
    "colab_type": "text",
    "id": "2uM_3S83D9p9"
   },
   "source": [
    "\n",
    "## Unforeseen situations\n",
    "\n",
    "It is evening, there is to party for a birthday and they asked you to make a pie. You need the following steps:\n",
    "\n",
    "\n",
    "1. take milk\n",
    "2. take sugar\n",
    "3. take flour\n",
    "4. mix\n",
    "5. heat in the oven\n",
    "\n",
    "You take the milk, the sugar, but then you discover there is no flour. It is evening, and there aren't open shops.\n",
    "Obviously, it makes no sense to proceed to point 4 with the mixture, and you have to give up on the pie, telling the guest of honor the problem. You can only hope she/he decides for some alternative."
   ]
  },
  {
   "cell_type": "markdown",
   "metadata": {
    "colab_type": "text",
    "id": "zwNdlmJfHo55"
   },
   "source": [
    "\n",
    "Translating everything in Python terms, we can ask ourselves if during the function execution, when we find an unforeseen situation, is it possible to:\n",
    "\n",
    "1. **interrupt** the execution flow of the program\n",
    "2. **signal** to whoever called the function that a problem has occurred\n",
    "3. **allow to manage** the problem to whoever called the function\n",
    "\n",
    "The answer is yes, you can do it with the mechanism of **exceptions** (`Exception`)\n",
    "\n",
    "### make_problematic_pie\n",
    "\n",
    "Let's see how we can represent the above problem in Python. A basic version might be the following:"
   ]
  },
  {
   "cell_type": "code",
   "execution_count": 2,
   "metadata": {
    "colab": {
     "base_uri": "https://localhost:8080/",
     "height": 141
    },
    "colab_type": "code",
    "id": "Y5gUglTvJegE",
    "outputId": "52a9dd62-e852-45e6-fb61-75af719c4963"
   },
   "outputs": [
    {
     "name": "stdout",
     "output_type": "stream",
     "text": [
      "take milk\n",
      "take sugar\n",
      "Don't have enough flour !\n",
      "Mix\n",
      "Heat\n",
      "I made the pie!\n",
      "Party\n"
     ]
    }
   ],
   "source": [
    "def make_problematic_pie(milk, sugar, flour):\n",
    "    \"\"\" Suppose you need 1.3 kg for the milk, 0.2kg for the sugar and 1.0kg for the flour\n",
    "        \n",
    "        - takes as parameters the quantities we have in the sideboard\n",
    "    \"\"\"\n",
    "  \n",
    "    if milk > 1.3:\n",
    "        print(\"take milk\")\n",
    "    else:\n",
    "        print(\"Don't have enough milk !\")\n",
    "\n",
    "    if sugar > 0.2:\n",
    "        print(\"take sugar\")\n",
    "    else:\n",
    "        print(\"Don't have enough sugar!\")\n",
    "\n",
    "    if flour > 1.0:\n",
    "        print(\"take flour\")\n",
    "    else:\n",
    "        print(\"Don't have enough flour !\")\n",
    "\n",
    "    print(\"Mix\")\n",
    "    print(\"Heat\")\n",
    "    print(\"I made the pie!\")\n",
    "\n",
    "\n",
    "make_problematic_pie(5,1,0.3)  # not enough flour ...\n",
    "\n",
    "print(\"Party\")"
   ]
  },
  {
   "cell_type": "markdown",
   "metadata": {},
   "source": [
    "**QUESTION**: this above version has a serious problem. Can you spot it ??"
   ]
  },
  {
   "cell_type": "markdown",
   "metadata": {},
   "source": [
    "**ANSWER**: the program above is partying even when we do not have enough ingredients !"
   ]
  },
  {
   "cell_type": "markdown",
   "metadata": {
    "colab_type": "text",
    "id": "27WwfcdGYBgU"
   },
   "source": [
    "## Check with the return\n",
    "\n",
    "**EXERCISE**: We could correct the problems of the above pie by adding `return` commands. Implement the following function.\n",
    "\n",
    "<div class=\"alert alert-warning\">\n",
    "\n",
    "**WARNING: DO NOT move the** `print(\"Party\")` **inside the function**\n",
    "\n",
    "The exercise goal is keeping it outside, so to use the value returned by `make_pie` for deciding whether to party or not.\n",
    "</div>\n",
    "\n",
    "If you have any doubts on functions with return values, check [Chapter 6 of Think Python](http://greenteapress.com/thinkpython2/html/thinkpython2007.html)"
   ]
  },
  {
   "cell_type": "code",
   "execution_count": 3,
   "metadata": {
    "colab": {},
    "colab_type": "code",
    "id": "nx_iIyXSZskA"
   },
   "outputs": [
    {
     "name": "stdout",
     "output_type": "stream",
     "text": [
      "take milk\n",
      "take sugar\n",
      "Don't have enough flour !\n",
      "No party !\n"
     ]
    }
   ],
   "source": [
    "def make_pie(milk, sugar, flour):\n",
    "    \"\"\"  - suppose we need 1.3 kg for milk, 0.2kg for sugar and 1.0kg for flour\n",
    "        \n",
    "         - takes as parameters the quantities we have in the sideboard\n",
    "         IMPROVE WITH return COMMAND: RETURN True if the pie is doable, \n",
    "                                             False otherwise\n",
    "        \n",
    "         *OUTSIDE* USE THE VALUE RETURNED TO PARTY OR NOT\n",
    "\n",
    "    \"\"\"    \n",
    "    # implement here the function\n",
    "    #jupman-strip\n",
    "    if milk > 1.3:\n",
    "        print(\"take milk\")\n",
    "        # return True  # NO, it would finish right here\n",
    "    else:\n",
    "        print(\"Don't have enough milk !\")\n",
    "        return False\n",
    "      \n",
    "    if sugar > 0.2:\n",
    "        print(\"take sugar\")\n",
    "    else:\n",
    "        print(\"Don't have enouch sugar !\")\n",
    "        return False\n",
    "      \n",
    "    if flour > 1.0:\n",
    "        print(\"take flour\")\n",
    "    else:\n",
    "        print(\"Don't have enough flour !\")\n",
    "        return False\n",
    "  \n",
    "    print(\"Mix\")\n",
    "    print(\"Heat\")\n",
    "    print(\"I made the pie !\")\n",
    "    return True\n",
    "    #/jupman-strip\n",
    "      \n",
    "\n",
    "# now write here the function call, make_pie(5,1,0.3)  \n",
    "# using the result to declare whether it is possible or not to party :-(\n",
    "\n",
    "#jupman-strip\n",
    "made_pie = make_pie(5,1,0.3)\n",
    "\n",
    "if made_pie == True:\n",
    "    print(\"Party\")\n",
    "else:\n",
    "    print(\"No party !\")\n",
    "#/jupman-strip"
   ]
  },
  {
   "cell_type": "markdown",
   "metadata": {
    "colab_type": "text",
    "id": "DGmYOPOiVVSL"
   },
   "source": [
    "## Exceptions\n",
    "\n",
    "[Real Python - Python Exceptions: an Introduction](https://realpython.com/python-exceptions/)\n",
    "\n",
    "\n",
    "Using `return` we improved the previous function, but remains a problem: the responsability to understand whether or not the pie is properly made is given to the caller of the function, who has to take the returned value and decide upon that whether to party or not. A careless programmer might forget to do the check and party even with an ill-formed pie.\n",
    "\n",
    "So we ask ourselves: is it possible to stop the execution not just of the function, but of the whole program when we find an unforeseen situation?"
   ]
  },
  {
   "cell_type": "markdown",
   "metadata": {
    "colab_type": "text",
    "id": "PqIyLDxULTRE"
   },
   "source": [
    "To improve on our previous attempt, we can use the _exceptions_. To tell Python to **interrupt** the program execution in a given point, we can insert the instruction `raise` like this:\n",
    "\n",
    "```python\n",
    "raise Exception()\n",
    "```\n",
    "\n",
    "If we want, we can also write a message to help programmers (who could be ourselves ...) to understand the problem origin. In our case it could be a message like this:\n",
    "\n",
    "```python\n",
    "raise Exception(\"Don't have enough flour !\")\n",
    "```\n",
    "\n",
    "Note: in professional programs, the exception messages are intended for programmers, verbose, and tipically end up hidden in system logs. To final users you should only show short messages which are understanble by a non-technical public. At most, you can add an error code which the user might give to the technician for diagnosing the problem.\n",
    "\n",
    "**EXERCISE**: Try to rewrite the function above by substituting the rows containing `return` with `raise Exception()`:"
   ]
  },
  {
   "cell_type": "code",
   "execution_count": 4,
   "metadata": {
    "colab": {
     "base_uri": "https://localhost:8080/",
     "height": 402
    },
    "colab_type": "code",
    "id": "1LGEMpfVEMas",
    "outputId": "cae6f401-2557-4e29-d7ac-a1eaef976a7c"
   },
   "outputs": [],
   "source": [
    "def make_exceptional_pie(milk, sugar, flour):\n",
    "    \"\"\" - suppose we need 1.3 kg for milk, 0.2kg for sugar and 1.0kg for flour\n",
    "    \n",
    "        - takes as parameters the quantities we have in the sideboard\n",
    "            \n",
    "        - if there are missing ingredients, raises Exception\n",
    "        \n",
    "    \"\"\"\n",
    "    # implement function\n",
    "    #jupman-strip\n",
    "\n",
    "    if milk > 1.3:\n",
    "        print(\"take milk\")\n",
    "    else:\n",
    "        raise Exception(\"Don't have enough milk !\")\n",
    "    if sugar > 0.2:\n",
    "        print(\"take sugar\")\n",
    "    else:\n",
    "        raise Exception(\"Don't have enough sugar!\")\n",
    "    if flour > 1.0:\n",
    "        print(\"take flour\")\n",
    "    else:\n",
    "        raise Exception(\"Don't have enough flour!\")\n",
    "    print(\"Mix\")\n",
    "    print(\"Heat\")\n",
    "    print(\"I made the pie !\")\n",
    "   #/jupman-strip\n"
   ]
  },
  {
   "cell_type": "markdown",
   "metadata": {},
   "source": [
    "Once implemented, by writing\n",
    "\n",
    "```python\n",
    "make_exceptional_pie(5,1,0.3)\n",
    "print(\"Party\")\n",
    "```\n",
    "\n",
    "you should see the following (note how \"Party\" is _not_ printed):\n",
    "    \n",
    "```bash\n",
    "take milk\n",
    "take sugar\n",
    "\n",
    "---------------------------------------------------------------------------\n",
    "Exception                                 Traceback (most recent call last)\n",
    "<ipython-input-10-02c123f44f31> in <module>()\n",
    "----> 1 make_exceptional_pie(5,1,0.3)\n",
    "      2 \n",
    "      3 print(\"Party\")\n",
    "\n",
    "<ipython-input-9-030239f08ca5> in make_exceptional_pie(milk, sugar, flour)\n",
    "     18         print(\"take flour\")\n",
    "     19     else:\n",
    "---> 20         raise Exception(\"Don't have enough flour !\")\n",
    "     21     print(\"Mix\")\n",
    "     22     print(\"Heat\")\n",
    "\n",
    "Exception: Don't have enough flour !\n",
    "\n",
    "\n",
    "```"
   ]
  },
  {
   "cell_type": "markdown",
   "metadata": {
    "colab_type": "text",
    "id": "JifNcpcGMN1p"
   },
   "source": [
    "We see the program got interrupted before arriving to mix step (inside the function), and it didn't even arrived to party (which is outside the function). Let's try now to call the function with enough ingredients in the sideboard:\n"
   ]
  },
  {
   "cell_type": "code",
   "execution_count": 5,
   "metadata": {
    "colab": {
     "base_uri": "https://localhost:8080/",
     "height": 124
    },
    "colab_type": "code",
    "id": "nUSiXiguMCWb",
    "outputId": "4a37af25-226f-4331-ef57-7debb2664047"
   },
   "outputs": [
    {
     "name": "stdout",
     "output_type": "stream",
     "text": [
      "take milk\n",
      "take sugar\n",
      "take flour\n",
      "Mix\n",
      "Heat\n",
      "I made the pie !\n",
      "Party\n"
     ]
    }
   ],
   "source": [
    "make_exceptional_pie(5,1,20)\n",
    "print(\"Party\")"
   ]
  },
  {
   "cell_type": "markdown",
   "metadata": {},
   "source": [
    "### Manage exceptions\n",
    "\n",
    "Instead of brutally interrupting the program when problems are spotted, we might want to try some alternative (like go buying some ice cream). We could use some `try` `except` blocks like this:\n"
   ]
  },
  {
   "cell_type": "code",
   "execution_count": 6,
   "metadata": {},
   "outputs": [
    {
     "name": "stdout",
     "output_type": "stream",
     "text": [
      "take milk\n",
      "take sugar\n",
      "Can't make the pie, what about going out for an ice cream?\n"
     ]
    }
   ],
   "source": [
    "try: \n",
    "    make_exceptional_pie(5,1,0.3)\n",
    "    print(\"Party\")\n",
    "except:  \n",
    "    print(\"Can't make the pie, what about going out for an ice cream?\")   "
   ]
  },
  {
   "cell_type": "markdown",
   "metadata": {},
   "source": [
    "If you note, the execution jumped the `print(\"Party\"` but no exception has been printed, and the execution passed to the row right after the `except`\n",
    "\n",
    "### Particular exceptions\n",
    "\n",
    "Until know we used a generic `Exception`, but, if you will, you can use more specific exceptions to better signal the nature of the error. For example, when you implement a function, since checking the input values for correctness is very frequent, Python gives you an exception called `ValueError`. If you use it instead of `Exception`, you allow the function caller to intercept only that particular error type. \n",
    "\n",
    "If the function raises an error which is not intercepted in the catch, the program will halt."
   ]
  },
  {
   "cell_type": "code",
   "execution_count": 7,
   "metadata": {},
   "outputs": [
    {
     "name": "stdout",
     "output_type": "stream",
     "text": [
      "take milk\n",
      "take sugar\n",
      "\n",
      "There must be a problem with the ingredients!\n",
      "Let's try asking neighbors !\n",
      "We're lucky, they gave us some flour, let's try again!\n",
      "\n",
      "take milk\n",
      "take sugar\n",
      "take flour\n",
      "Mix\n",
      "Heat\n",
      "I made the pie !\n",
      "Party\n"
     ]
    }
   ],
   "source": [
    "\n",
    "def make_exceptional_pie_2(milk, sugar, flour):\n",
    "    \"\"\" - suppose we need 1.3 kg for milk, 0.2kg for sugar and 1.0kg for flour\n",
    "    \n",
    "        - takes as parameters the quantities we have in the sideboard\n",
    "            \n",
    "        - if there are missing ingredients, raises Exception\n",
    "    \"\"\"\n",
    "\n",
    "    if milk > 1.3:\n",
    "        print(\"take milk\")\n",
    "    else:\n",
    "        raise ValueError(\"Don't have enough milk !\")\n",
    "    if sugar > 0.2:\n",
    "        print(\"take sugar\")\n",
    "    else:\n",
    "        raise ValueError(\"Don't have enough sugar!\")\n",
    "    if flour > 1.0:\n",
    "        print(\"take flour\")\n",
    "    else:\n",
    "        raise ValueError(\"Don't have enough flour!\")\n",
    "    print(\"Mix\")\n",
    "    print(\"Heat\")\n",
    "    print(\"I made the pie !\")\n",
    "    \n",
    "try: \n",
    "    make_exceptional_pie_2(5,1,0.3)\n",
    "    print(\"Party\")\n",
    "except ValueError:     \n",
    "    print()\n",
    "    print(\"There must be a problem with the ingredients!\")   \n",
    "    print(\"Let's try asking neighbors !\")\n",
    "    print(\"We're lucky, they gave us some flour, let's try again!\")\n",
    "    print(\"\")\n",
    "    make_exceptional_pie_2(5,1,4) \n",
    "    print(\"Party\")\n",
    "except:  # manages all exceptions\n",
    "    print(\"Guys, something bad happened, don't know what to do. Better to go out and take an ice-cream !\")\n"
   ]
  },
  {
   "cell_type": "markdown",
   "metadata": {},
   "source": [
    "For more explanations about `try catch`, you can see [Real Python - Python Exceptions: an Introduction](https://realpython.com/python-exceptions/)"
   ]
  },
  {
   "cell_type": "markdown",
   "metadata": {
    "colab_type": "text",
    "id": "N4td4QXyapHU"
   },
   "source": [
    "## assert\n",
    "\n",
    "They asked you to develop a program to control a nuclear reactor. The reactor produces a lot of energy, but requires at least 20 meters of water to cool down, and your program needs to regulate the water level. Without enough water, you risk a meltdown. You do not feel exactly up to the job, and start sweating.\n",
    "\n",
    "Nervously, you write the code. You check and recheck the code - everything looks fine.\n",
    "\n",
    "On inauguration day, the reactor is turned on. Unexpectedly, the water level goes down to 5 meters, and an uncontrolled chain reaction occurs. Plutoniom fireworks follow. \n",
    "\n",
    "Could we have avoided all of this? We often believe everything is good but then for some reason we find variables with unexpected values. The wrong program described above might have been written like so:\n"
   ]
  },
  {
   "cell_type": "code",
   "execution_count": 8,
   "metadata": {
    "colab": {
     "base_uri": "https://localhost:8080/",
     "height": 53
    },
    "colab_type": "code",
    "id": "tma2Ru2Gc28E",
    "outputId": "7cc74a1e-81a6-4d71-8865-67210243f3e2"
   },
   "outputs": [
    {
     "name": "stdout",
     "output_type": "stream",
     "text": [
      "water level:  40\n",
      "WARNING: water level low!  5\n",
      "turn on nuclear reactor\n"
     ]
    }
   ],
   "source": [
    "# we need water to cool our reactor\n",
    "\n",
    "water_level = 40 #  seems ok\n",
    "\n",
    "print(\"water level: \", water_level)\n",
    "\n",
    "\n",
    "# a lot of code\n",
    "\n",
    "# a lot of code\n",
    "\n",
    "# a lot of code\n",
    "\n",
    "# a lot of code\n",
    "\n",
    "water_level = 5  # forgot somewhere this bad row !\n",
    "\n",
    "print(\"WARNING: water level low! \", water_level)\n",
    "\n",
    "# a lot of code\n",
    "\n",
    "# a lot of code\n",
    "\n",
    "# a lot of code\n",
    "\n",
    "# a lot of code\n",
    "\n",
    "# after a lot of code we might not know if there are the proper conditions so that everything works allright\n",
    "\n",
    "print(\"turn on nuclear reactor\")"
   ]
  },
  {
   "cell_type": "markdown",
   "metadata": {
    "colab_type": "text",
    "id": "jIZeJGG9dNgR"
   },
   "source": [
    "How could we improve it? Let's look at the `assert` command, which must be written by following it with a boolean condition.\n",
    "\n",
    "`assert True` does absolutely nothing:"
   ]
  },
  {
   "cell_type": "code",
   "execution_count": 9,
   "metadata": {
    "colab": {
     "base_uri": "https://localhost:8080/",
     "height": 53
    },
    "colab_type": "code",
    "id": "k7DN2SI4daLM",
    "outputId": "15dbb4e4-e9ec-4c5c-9c35-71cdd6f9ef36"
   },
   "outputs": [
    {
     "name": "stdout",
     "output_type": "stream",
     "text": [
      "before\n",
      "after\n"
     ]
    }
   ],
   "source": [
    "print(\"before\")\n",
    "assert True\n",
    "print(\"after\")"
   ]
  },
  {
   "cell_type": "markdown",
   "metadata": {
    "colab_type": "text",
    "id": "J8cZ3gbJdr60"
   },
   "source": [
    "Instead,  `assert False` completely blocks program execution, by launching an exception of type  `AssertionError` (Note how `\"after\"` is not printed):\n",
    "\n",
    "\n",
    "```python\n",
    "print(\"before\")\n",
    "assert False\n",
    "print(\"after\")\n",
    "```\n",
    "\n",
    "```bash\n",
    "before\n",
    "---------------------------------------------------------------------------\n",
    "AssertionError                            Traceback (most recent call last)\n",
    "<ipython-input-7-a871fdc9ebee> in <module>()\n",
    "----> 1 assert False\n",
    "\n",
    "AssertionError: \n",
    "\n",
    "\n",
    "```"
   ]
  },
  {
   "cell_type": "markdown",
   "metadata": {
    "colab_type": "text",
    "id": "I1O2Qr4Nd6Kn"
   },
   "source": [
    "To improve the previous program, we might use `assert` like this:"
   ]
  },
  {
   "cell_type": "markdown",
   "metadata": {
    "colab": {},
    "colab_type": "code",
    "id": "h8lLo60dctPT"
   },
   "source": [
    "```python\n",
    "# we need water to cool our reactor\n",
    "\n",
    "water_level = 40   # seems ok\n",
    "\n",
    "print(\"water level: \", water_level)\n",
    "\n",
    "\n",
    "# a lot of code\n",
    "\n",
    "# a lot of code\n",
    "\n",
    "# a lot of code\n",
    "\n",
    "# a lot of code\n",
    "\n",
    "water_level = 5  # forgot somewhere this bad row !\n",
    "\n",
    "print(\"WARNING: water level low! \", water_level)\n",
    "\n",
    "# a lot of code\n",
    "\n",
    "# a lot of code\n",
    "\n",
    "# a lot of code\n",
    "\n",
    "# a lot of code\n",
    "\n",
    "# after a lot of code we might not know if there are the proper conditions so that\n",
    "# everything works allright so before doing critical things, it is always a good idea\n",
    "# to perform a check ! if asserts fail (that is, the boolean expression is False),\n",
    "# the execution suddenly stops\n",
    "\n",
    "assert water_level >= 20\n",
    "\n",
    "print(\"turn on nuclear reactor\")\n",
    "```"
   ]
  },
  {
   "cell_type": "markdown",
   "metadata": {},
   "source": [
    "```python\n",
    "water level:  40\n",
    "WARNING: water level low!  5\n",
    "\n",
    "---------------------------------------------------------------------------\n",
    "AssertionError                            Traceback (most recent call last)\n",
    "<ipython-input-3-d553a90d4f64> in <module>\n",
    "     31 # the execution suddenly stops\n",
    "     32 \n",
    "---> 33 assert water_level >= 20\n",
    "     34 \n",
    "     35 print(\"turn on nuclear reactor\")\n",
    "\n",
    "AssertionError: \n",
    "\n",
    "```"
   ]
  },
  {
   "cell_type": "markdown",
   "metadata": {
    "colab_type": "text",
    "id": "itT2wsNpcsUi"
   },
   "source": [
    "### When to use assert?\n",
    "\n",
    "The case above is willingly exagerated, but shows how a check more sometimes prevents disasters.\n",
    "\n",
    "Asserts are a quick way to do checks, so much so that Python even allows to ignore them during execution to improve the performance (calling `python` with the `-O` parameter like in `python -O my_file.py`).\n",
    "\n",
    "But if performance are not a problem (like in the reactor above), it's more convenient to rewrite the program using an `if` and explicitly raising an `Exception`:\n"
   ]
  },
  {
   "cell_type": "markdown",
   "metadata": {
    "colab": {},
    "colab_type": "code",
    "id": "m0p7LXfbfvZF"
   },
   "source": [
    "```python\n",
    "# we need water to cool our reactor\n",
    "\n",
    "water_level = 40   # seems ok\n",
    "\n",
    "print(\"water level: \", water_level)\n",
    "\n",
    "\n",
    "# a lot of code\n",
    "\n",
    "# a lot of code\n",
    "\n",
    "# a lot of code\n",
    "\n",
    "# a lot of code\n",
    "\n",
    "water_level = 5  # forgot somewhere this bad row !\n",
    "\n",
    "print(\"WARNING: water level low! \", water_level)\n",
    "\n",
    "# a lot of code\n",
    "\n",
    "# a lot of code\n",
    "\n",
    "# a lot of code\n",
    "\n",
    "# a lot of code\n",
    "\n",
    "# after a lot of code we might not know if there are the proper conditions so \n",
    "# that everything works all right. So before doing critical things, it is always \n",
    "# a good idea to perform a check !\n",
    "\n",
    "if water_level < 20:\n",
    "    raise Exception(\"Water level too low !\")  # execution stops here\n",
    "\n",
    "print(\"turn on nuclear reactor\")\n",
    "```"
   ]
  },
  {
   "cell_type": "markdown",
   "metadata": {},
   "source": [
    "```python\n",
    "water level:  40\n",
    "WARNING: water level low!  5\n",
    "\n",
    "---------------------------------------------------------------------------\n",
    "Exception                                 Traceback (most recent call last)\n",
    "<ipython-input-30-4840536c3388> in <module>\n",
    "     30 \n",
    "     31 if water_level < 20:\n",
    "---> 32     raise Exception(\"Water level too low !\")  # execution stops here\n",
    "     33 \n",
    "     34 print(\"turn on nuclear reactor\")\n",
    "\n",
    "Exception: Water level too low !\n",
    "\n",
    "```"
   ]
  },
  {
   "cell_type": "markdown",
   "metadata": {},
   "source": [
    "Note how the reactor was _not_ turned on. "
   ]
  },
  {
   "cell_type": "markdown",
   "metadata": {},
   "source": [
    "## Testing\n",
    "\n",
    "\n",
    "* If it seems to work, then it actually works? _Probably not_.\n",
    "* The devil is in the details, especially for complex algorithms.\n",
    "* We will do a crash course on testing in Python\n",
    "\n",
    "<div class=\"alert alert-warning\">\n",
    "\n",
    "**WARNING**: Bad software can cause losses of million euros or even kill people. Suggested reading: [Software Horror Stories](https://www.cs.tau.ac.il/~nachumd/horror.html)\n",
    "</div>\n",
    "\n"
   ]
  },
  {
   "cell_type": "markdown",
   "metadata": {},
   "source": [
    "### Where Is Your Software?\n",
    "\n",
    "As a data scientist, you might likely end up with code which is algorithmically complex, but maybe not too big in size. Either way, when red line is crossed you should start testing properly:\n",
    "\n",
    "![where is your software](img/where-is-your-software.png)\n"
   ]
  },
  {
   "cell_type": "markdown",
   "metadata": {},
   "source": [
    "In a typical scenario, you are a junior programmer and your senior colleague ask you to write a function to perform some task, giving only an informal description:"
   ]
  },
  {
   "cell_type": "code",
   "execution_count": 10,
   "metadata": {},
   "outputs": [],
   "source": [
    "def my_sum(x,y):\n",
    "    \"\"\" RETURN the sum of x and y\n",
    "    \"\"\"    \n",
    "    raise Exception(\"TODO IMPLEMENT ME!\")"
   ]
  },
  {
   "cell_type": "markdown",
   "metadata": {},
   "source": [
    "Even better, your colleague might provide you with some automated tests you might run to check your function meets his/her expectations. If you are smart, you will even write tests for your own functions to make sure every little piece you add to your software is a solid block you can build upon.\n",
    "\n",
    "According to the part of the course you are following, we will review two kinds of tests:\n",
    "\n",
    "* Part A: [asserts](#Testing-with-asserts)\n",
    "* Part B: [unittests](#Unittest)"
   ]
  },
  {
   "cell_type": "markdown",
   "metadata": {
    "colab_type": "text",
    "id": "KzyNzgRdgUgM"
   },
   "source": [
    "## Testing with asserts\n",
    "\n",
    "<div class=\"alert alert-warning\">\n",
    "\n",
    "**NOTE**: Testing with asserts is only done in PART A of this course\n",
    "\n",
    "</div>\n",
    "\n",
    "We can use [assert](#assert) to quickly test functions, and verify they behave like they should.\n",
    "\n",
    "For example, from this function:"
   ]
  },
  {
   "cell_type": "code",
   "execution_count": 11,
   "metadata": {
    "colab": {},
    "colab_type": "code",
    "id": "RAcNr9zDgd1y"
   },
   "outputs": [],
   "source": [
    "def my_sum(x, y):\n",
    "    s = x + y\n",
    "    return s"
   ]
  },
  {
   "cell_type": "markdown",
   "metadata": {
    "colab_type": "text",
    "id": "ISlL7iHLgjwb"
   },
   "source": [
    "We expect that `my_sum(2,3)` gives `5`. We can write in Python this expectation by using an `assert`:"
   ]
  },
  {
   "cell_type": "code",
   "execution_count": 12,
   "metadata": {
    "colab": {},
    "colab_type": "code",
    "id": "6t1v78uFgr6T"
   },
   "outputs": [],
   "source": [
    "assert my_sum(2,3) == 5"
   ]
  },
  {
   "cell_type": "markdown",
   "metadata": {
    "colab_type": "text",
    "id": "9Es6xXfIg4Ex"
   },
   "source": [
    "Se `my_sum` is correctly implemented:\n",
    "\n",
    "1. `my_sum(2,3)` will give `5`\n",
    "2. the boolean expression `my_sum(2,3) == 5` will give `True`\n",
    "3. `assert True` will be exectued without producing any result, and the program execution will continue.\n",
    "\n",
    "Otherwise, if `my_sum` is NOT correctly implemented like in this case:\n",
    "\n",
    "```python\n",
    "def my_sum(x,y):\n",
    "    return 666\n",
    "```\n",
    "\n",
    "1. `my_sum(2,3)` will produce the number `666`\n",
    "2.  the boolean expression `my_sum(2,3) == 5` will give`False`\n",
    "3. `assert False` will interrupt the program execution, raising an exception of type `AssertionError`\n"
   ]
  },
  {
   "cell_type": "markdown",
   "metadata": {
    "colab_type": "text",
    "id": "_Upwpmikh0wW"
   },
   "source": [
    "### Part A exercise structure\n",
    "\n",
    "Exercises in Part A will be often structured in the following format:\n",
    "\n",
    "\n",
    "```python\n",
    "def my_sum(x,y):\n",
    "    \"\"\" RETURN the sum of numbers x and y\n",
    "    \"\"\"\n",
    "    raise Exception(\"TODO IMPLEMENT ME!\")\n",
    "\n",
    "\n",
    "assert my_sum(2,3) == 5\n",
    "assert my_sum(3,1) == 4\n",
    "assert my_sum(-2,5) == 3\n",
    "```\n",
    "\n",
    "If you attempt to execute the cell, you will see this error:\n",
    "\n",
    "```bash\n",
    "---------------------------------------------------------------------------\n",
    "Exception                                 Traceback (most recent call last)\n",
    "<ipython-input-16-5f5c8512d42a> in <module>()\n",
    "      6 \n",
    "      7 \n",
    "----> 8 assert my_sum(2,3) == 5\n",
    "      9 assert my_sum(3,1) == 4\n",
    "     10 assert my_sum(-2,5) == 3\n",
    "\n",
    "<ipython-input-16-5f5c8512d42a> in somma(x, y)\n",
    "      3     \"\"\" RETURN the sum of numbers x and y\n",
    "      4     \"\"\"\n",
    "----> 5     raise Exception(\"TODO IMPLEMENT ME!\")\n",
    "      6 \n",
    "      7 \n",
    "\n",
    "Exception: TODO IMPLEMENT ME!\n",
    "```"
   ]
  },
  {
   "cell_type": "markdown",
   "metadata": {
    "colab_type": "text",
    "id": "BhZJI2d1iWbA"
   },
   "source": [
    "To fix them, you will need to:\n",
    "\n",
    "1. substitute the row `raise Exception(\"IMPLEMENTAMI\")` with the body of the function\n",
    "2. execute the cell\n",
    "\n",
    "If cell execution doesn't result in raised exceptions, perfect ! It means your function does what it is expected to do (the `assert` which succeed do not produce any output)\n",
    "\n",
    "Otherwise, if you see some `AssertionError`, probably you did something wrong.\n",
    "\n",
    "**NOTE**: The `raise Exception(\"TODO IMPLEMENT ME\")` is put there to remind you that the function has a big problem, that is, it doesn't have any code !!!\n",
    "In long programs, it might happen you know you need a function, but in that moment you don't know what code put in th efunction body. So, instead of putting in the body commands that do nothing like `print()` or `pass` or `return None`, it is WAY BETTER to raise exceptions so that if by chance the program reaches the function, the execution is suddenly stopped and the user is signalled with the nature and position of the problem. Many editors for programmers, when automatically generating code, put inside function skeletons to implement some Exception like this. \n",
    "\n",
    "\n",
    "Let's try to willingly write a wrong function body, which always return `5`, independently from `x` and `y` given in input:"
   ]
  },
  {
   "cell_type": "markdown",
   "metadata": {
    "colab": {},
    "colab_type": "code",
    "id": "rzbfpwgWhyLW"
   },
   "source": [
    "\n",
    "```python\n",
    "def my_sum(x,y):\n",
    "    \"\"\" RETURN the sum of numbers x and y\n",
    "    \"\"\"\n",
    "    return 5\n",
    "\n",
    "assert my_sum(2,3) == 5\n",
    "assert my_sum(3,1) == 4\n",
    "assert my_sum(-2,5) == 3\n",
    "```\n",
    "\n",
    "In this case the first assertion succeeds and so the execution simply passes to the next row, which contains another `assert`. We expect that `my_sum(3,1)` gives 4, but our ill-written function  returns `5` so this `assert` fails. Note how the execution is interrupted at the _second_ `assert`:\n",
    "\n",
    "```bash\n",
    "---------------------------------------------------------------------------\n",
    "AssertionError                            Traceback (most recent call last)\n",
    "<ipython-input-19-e5091c194d3c> in <module>()\n",
    "      6 \n",
    "      7 assert my_sum(2,3) == 5\n",
    "----> 8 assert my_sum(3,1) == 4\n",
    "      9 assert my_sum(-2,5) == 3\n",
    "\n",
    "AssertionError: \n",
    "\n",
    "```\n",
    "\n",
    "If we implement well the function and execute the cell we will see no output: this means the function successfully passed the tests and we can conclude that it is _correct with reference to the tests_:\n",
    "\n",
    "<div class=\"alert alert-warning\">\n",
    "\n",
    "**ATTENTION**: always remember that these kind of tests are *never* exhaustive ! If tests pass it is only an indication the function _might_ be correct, but it is never a certainty !\n",
    "</div>\n"
   ]
  },
  {
   "cell_type": "code",
   "execution_count": 13,
   "metadata": {},
   "outputs": [],
   "source": [
    "\n",
    "def my_sum(x,y):\n",
    "    \"\"\" RITORNA the sum of numbers x and y\n",
    "    \"\"\"\n",
    "    return x + y\n",
    "\n",
    "assert my_sum(2,3) == 5\n",
    "assert my_sum(3,1) == 4\n",
    "assert my_sum(-2,5) == 3\n",
    "\n"
   ]
  },
  {
   "cell_type": "markdown",
   "metadata": {},
   "source": [
    "**EXERCISE**: Try to write the body of the function  `multiply`:\n",
    "\n",
    "* substitute  `raise Exception(\"TODO IMPLEMENT ME\")` with `return x * y` and execute the cell. If you have written correctly, nothing should happen. In this case, congratulatins! The code you have written is correct *with reference to the tests*\n",
    "!\n",
    "* Try to substitute instead with `return 10` and see what happens.\n"
   ]
  },
  {
   "cell_type": "code",
   "execution_count": 14,
   "metadata": {
    "colab": {},
    "colab_type": "code",
    "id": "ArXcLaGCguPi"
   },
   "outputs": [],
   "source": [
    "def my_mul(x,y):\n",
    "    \"\"\" RETURN the multiplication of numbers x and y\n",
    "    \"\"\"\n",
    "    #jupman-raise\n",
    "    return x * y\n",
    "    #/jupman-raise\n",
    "\n",
    "\n",
    "assert my_mul(2,5) == 10\n",
    "assert my_mul(0,2) == 0\n",
    "assert my_mul(3,2) == 6\n"
   ]
  },
  {
   "cell_type": "markdown",
   "metadata": {},
   "source": [
    "\n",
    "### even_numbers example\n",
    "\n",
    "Let's see a slightly more complex function:"
   ]
  },
  {
   "cell_type": "code",
   "execution_count": 15,
   "metadata": {},
   "outputs": [],
   "source": [
    "def even_numbers(n):\n",
    "    \"\"\"\n",
    "    Return a list of the first n even numbers \n",
    "    \n",
    "    Zero is considered to be the first even number.\n",
    "\n",
    "    >>> even_numbers(5)\n",
    "    [0,2,4,6,8]\n",
    "    \"\"\"    \n",
    "    raise Exception(\"TODO IMPLEMENT ME!\")"
   ]
  },
  {
   "cell_type": "markdown",
   "metadata": {},
   "source": [
    "In this case, if you run the function as it is, you are reminded to implement it:"
   ]
  },
  {
   "cell_type": "markdown",
   "metadata": {},
   "source": [
    "```python\n",
    ">>> even_numbers(5)\n",
    "```\n",
    "\n",
    "```\n",
    "---------------------------------------------------------------------------\n",
    "Exception                                 Traceback (most recent call last)\n",
    "<ipython-input-2-d2cbc915c576> in <module>()\n",
    "----> 1 even_numbers(5)\n",
    "\n",
    "<ipython-input-1-a20a4ea4b42a> in even_numbers(n)\n",
    "      8     [0,2,4,6,8]\n",
    "      9     \"\"\"    \n",
    "---> 10     raise Exception(\"TODO IMPLEMENT ME!\")\n",
    "\n",
    "Exception: TODO IMPLEMENT ME!\n",
    "\n",
    "```"
   ]
  },
  {
   "cell_type": "markdown",
   "metadata": {},
   "source": [
    "Why? The instruction \n",
    "```python\n",
    "raise Exception(\"TODO IMPLEMENT ME!\")\n",
    "```\n",
    "\n",
    "tells Python to immediatly stop execution, and signal an error to the caller of the function `even_number`. If there were commands right after `raise Exception(\"TODO IMPLEMENT ME\")`, they would not be executed. Here, we are directly calling the function from the prompt, and we didn't tell Python how to handle the `Exception`, so Python just stopped and showed the error message given as parameter to the `Exception`\n"
   ]
  },
  {
   "cell_type": "markdown",
   "metadata": {},
   "source": [
    "\n",
    "<div class=\"alert alert-info\">\n",
    "\n",
    "**Spend time reading well the function text!**\n",
    "\n",
    "Always read very well function text and ask yourself questions! What is the supposed input? What should be the output? Is there any output to return at all, or should you instead modify _in-place_ a passed parameter (i.e. for example, when you sort a list)? Are there any edge cases, es what happens for `n=0`)? What about `n < 0` ?\n",
    "</div>\n",
    "\n",
    "Let's code a possible solution. As it often happens, first version may be buggy, in this case for example purposes we intentionally introduce a bug:"
   ]
  },
  {
   "cell_type": "code",
   "execution_count": 16,
   "metadata": {},
   "outputs": [],
   "source": [
    "def even_numbers(n):\n",
    "    \"\"\"\n",
    "    Return a list of the first n even numbers \n",
    "    \n",
    "    Zero is considered to be the first even number.\n",
    "\n",
    "    >>> even_numbers(5)\n",
    "    [0,2,4,6,8]\n",
    "    \"\"\"    \n",
    "    r = [2 * x for x in range(n)]\n",
    "    r[n // 2] = 3   # <-- evil bug, puts number '3' in the middle, and 3 is not even ..\n",
    "    return r"
   ]
  },
  {
   "cell_type": "markdown",
   "metadata": {},
   "source": [
    "Typically the first test we do is printing the output and do some 'visual inspection' of the result, in this case we find many numbers are correct but we might miss errors such as the wrong `3` in the middle:"
   ]
  },
  {
   "cell_type": "code",
   "execution_count": 17,
   "metadata": {},
   "outputs": [
    {
     "name": "stdout",
     "output_type": "stream",
     "text": [
      "[0, 2, 3, 6, 8]\n"
     ]
    }
   ],
   "source": [
    "print(even_numbers(5))"
   ]
  },
  {
   "cell_type": "markdown",
   "metadata": {},
   "source": [
    "Furthermore, if we enter commands a the prompt, each time we fix something in the code, we need to enter commands again to check everything is ok. This is inefficient, boring, and prone to errors. "
   ]
  },
  {
   "cell_type": "markdown",
   "metadata": {},
   "source": [
    "#### Let's add assertions\n",
    "\n",
    "To go beyond the dumb \"visual inspection\" testing, it's better to write some extra code to allow Python checking for us if the function actually returns what we expect, and throws an error otherwise. We can do so with `assert` command, which verifies if its argument is True. If it is not, it raises an `AssertionError` immediately stopping execution. \n",
    "\n",
    "Here we check the result of `even_numbers(5)` is actually the list of even numbers `[0,2,4,6,8]` we expect:"
   ]
  },
  {
   "cell_type": "markdown",
   "metadata": {},
   "source": [
    "```python\n",
    "assert even_numbers(5) == [0,2,4,6,8]\n",
    "```\n",
    "\n",
    "Since our code is faulty, `even_numbers` returns the wrong list `[0,2,3,6,8]` which is different from `[0,2,4,6,8]` so assertion fails showing `AssertionError`:\n",
    "\n",
    "```python\n",
    "---------------------------------------------------------------------------\n",
    "AssertionError                            Traceback (most recent call last)\n",
    "<ipython-input-21-d4198f229404> in <module>()\n",
    "----> 1 assert even_numbers(5) != [0,2,4,6,8]\n",
    "\n",
    "AssertionError: \n",
    "\n",
    "```\n",
    "\n",
    "We got some output, but we would like to have it more informative. To do so, we may add a message, separated by a comma:"
   ]
  },
  {
   "cell_type": "markdown",
   "metadata": {},
   "source": [
    "```python\n",
    "assert even_numbers(5) == [0,2,4,6,8], \"even_numbers is not working !!\"\n",
    "\n",
    "```"
   ]
  },
  {
   "cell_type": "markdown",
   "metadata": {},
   "source": [
    "```python\n",
    "---------------------------------------------------------------------------\n",
    "AssertionError                            Traceback (most recent call last)\n",
    "<ipython-input-18-8544fcd1b7c8> in <module>()\n",
    "----> 1 assert even_numbers(5) == [0,2,4,6,8], \"even_numbers is not working !!\"\n",
    "\n",
    "AssertionError: even_numbers is not working !!\n",
    "\n",
    "``````"
   ]
  },
  {
   "cell_type": "markdown",
   "metadata": {},
   "source": [
    "So if we modify code to fix bugs we can just launch the assert commands and have a quick feedback about possible errors. \n",
    "\n"
   ]
  },
  {
   "cell_type": "markdown",
   "metadata": {},
   "source": [
    "### Error kinds\n",
    "\n",
    "As a fact of life, errors happen. Sometimes, your program may have inconsistent data, like wrong parameter type passed to a function (i.e. string instead of integer). A good principle to follow in these cases is to try have the program detect weird situations, and stop as early as such a situation is found (i.e. in the Therac 25 case, if you detect excessive radiation, showing a warning sign is not enough, it's better to stop). Note stopping might not always be the desirable solution (if one pidgeon enters one airplane engine, you don't want to stop all the other engines). If you want to check function parameters are correct, you do the so called _precondition checking_.\n",
    "\n",
    "There are roughly two cases for errors,  external user misusing you program, and just plain wrong code. Let's analyize both:\n",
    "\n",
    "#### Error kind a) An external user misuses you program.\n",
    "\n",
    "You can assume whover uses your software, final users or other programmers , they will try their very best to wreck your precious code by passing all sort of non-sense to functions. Everything can come in, strings instead of numbers, empty arrays, `None` objects ... In this case you should signal the user he made some mistake. The most crude signal you can have is raising an `Exception` with `raise Exception(\"Some error occurred\")`, which will stop the program and print the stacktrace in the console. Maybe final users won't understand a stacktrace, but at least programmers hopefully will get a clue about what is happening. \n",
    "\n",
    "In these case you can raise an appropriate Exception, like [TypeError](https://docs.python.org/3/library/exceptions.html#TypeError) for wrong types and [ValueError](https://docs.python.org/3/library/exceptions.html#ValueError) for more generic errors. Other basic exceptions can be found in [Python documentation](https://docs.python.org/3/library/exceptions.html#built-in-exceptions). Notice you can also define your own, if needed (we won't consider custom exceptions in this course).\n",
    "\n",
    "**NOTE**: Many times, you can consider yourself the 'careless external user' to guard against. \n",
    "\n",
    "Let's enrich the function with some appropriate type checking:\n",
    "\n",
    "Note that for checking input types, you can use the function `type()` :"
   ]
  },
  {
   "cell_type": "code",
   "execution_count": 18,
   "metadata": {},
   "outputs": [
    {
     "data": {
      "text/plain": [
       "int"
      ]
     },
     "execution_count": 18,
     "metadata": {},
     "output_type": "execute_result"
    }
   ],
   "source": [
    "type(3)"
   ]
  },
  {
   "cell_type": "code",
   "execution_count": 19,
   "metadata": {},
   "outputs": [
    {
     "data": {
      "text/plain": [
       "str"
      ]
     },
     "execution_count": 19,
     "metadata": {},
     "output_type": "execute_result"
    }
   ],
   "source": [
    "type(\"ciao\")"
   ]
  },
  {
   "cell_type": "markdown",
   "metadata": {},
   "source": [
    "Let's add the code for checking the [even_numbers example](#even_numbers-example):"
   ]
  },
  {
   "cell_type": "code",
   "execution_count": 20,
   "metadata": {},
   "outputs": [],
   "source": [
    "def even_numbers(n):\n",
    "    \"\"\"\n",
    "    Return a list of the first n even numbers \n",
    "    \n",
    "    Zero is considered to be the first even number.\n",
    "\n",
    "    >>> even_numbers(5)\n",
    "    [0,2,4,6,8]\n",
    "    \"\"\" \n",
    "    if type(n) is not int:\n",
    "        raise TypeError(\"Passed a non integer number: \" + str(n))\n",
    "    \n",
    "    if n < 0:\n",
    "        raise ValueError(\"Passed a negative number: \" + str(n))\n",
    "        \n",
    "    r = [2 * x for x in range(n)]\n",
    "    return r\n"
   ]
  },
  {
   "cell_type": "markdown",
   "metadata": {},
   "source": [
    "Let's pass a wrong type and see what happens:"
   ]
  },
  {
   "cell_type": "markdown",
   "metadata": {},
   "source": [
    "\n",
    "```python\n",
    ">>> even_numbers(\"ciao\")\n",
    "\n",
    "---------------------------------------------------------------------------\n",
    "TypeError                                 Traceback (most recent call last)\n",
    "<ipython-input-14-a908b20f00c4> in <module>()\n",
    "----> 1 even_numbers(\"ciao\")\n",
    "\n",
    "<ipython-input-13-b0b3a85f2b2a> in even_numbers(n)\n",
    "      9     \"\"\" \n",
    "     10     if type(n) is not int:\n",
    "---> 11         raise TypeError(\"Passed a non integer number: \" + str(n))\n",
    "     12 \n",
    "     13     if n < 0:\n",
    "\n",
    "TypeError: Passed a non integer number: ciao\n",
    "\n",
    "```\n"
   ]
  },
  {
   "cell_type": "markdown",
   "metadata": {},
   "source": [
    "Now let's try to pass a negative number - it should suddenly stop with a meaningful message: "
   ]
  },
  {
   "cell_type": "markdown",
   "metadata": {},
   "source": [
    "```python\n",
    ">>> even_numbers(-5)\n",
    "\n",
    "---------------------------------------------------------------------------\n",
    "ValueError                                Traceback (most recent call last)\n",
    "<ipython-input-15-3f648fdf6de7> in <module>()\n",
    "----> 1 even_numbers(-5)\n",
    "\n",
    "<ipython-input-13-b0b3a85f2b2a> in even_numbers(n)\n",
    "     12 \n",
    "     13     if n < 0:\n",
    "---> 14         raise ValueError(\"Passed a negative number: \" + str(n))\n",
    "     15 \n",
    "     16     r = [2 * x for x in range(n)]\n",
    "\n",
    "ValueError: Passed a negative number: -5\n",
    "```"
   ]
  },
  {
   "cell_type": "markdown",
   "metadata": {},
   "source": [
    "\n",
    "Now, even if you ship your code to careless users, and as soon as they commit a mistrake, they will get properly notified. \n",
    "\n",
    "\n",
    "#### Error kind b): Your code is just plain wrong\n",
    "\n",
    "In this case, it's 100% your fault, and these sort of bugs should never pop up in production. For example your code passes internally wrong stuff, like strings instead of integers, or wrong ranges (typically integer outside array bounds). So if you have an internal function nobody else should directly call, and you suspect it is being passed wrong parameters or at some point it has inconsistent data, to quickly spot the error you could add an assertion:\n"
   ]
  },
  {
   "cell_type": "code",
   "execution_count": 21,
   "metadata": {},
   "outputs": [],
   "source": [
    "def even_numbers(n):\n",
    "    \"\"\"\n",
    "    Return a list of the first n even numbers \n",
    "    \n",
    "    Zero is considered to be the first even number.\n",
    "\n",
    "    >>> even_numbers(5)\n",
    "    [0,2,4,6,8]\n",
    "    \"\"\" \n",
    "    assert type(n) is int, \"type of n is not correct: \" + str(type(n))\n",
    "    assert n >= 0, \"Found negative n: \" + str(n)\n",
    "        \n",
    "    r = [2 * x for x in range(n)]\n",
    "    \n",
    "    return r\n"
   ]
  },
  {
   "cell_type": "markdown",
   "metadata": {},
   "source": [
    "As before, the function will stop as soon we call it we wrong parameters. The big difference is, this time we are assuming `even_numbers` is just for personal use and nobody else except us should directly call it. \n",
    "\n",
    "Since assertion consume CPU time, IF we care about performances AND once we are  confident our program behaves correctly, we can even remove them from compiled code by using the `-O` compiler flag. For more info, see [Python wiki](https://wiki.python.org/moin/UsingAssertionsEffectively) "
   ]
  },
  {
   "cell_type": "markdown",
   "metadata": {},
   "source": [
    "**EXERCISE**: try to call latest definition of `even_numbers` with wrong parameters, and see what happens.\n",
    "\n",
    "**NOTE**: here we are using the correct definition of `even_numbers`, not the buggy one with the `3` in the middle of returned list !"
   ]
  },
  {
   "cell_type": "markdown",
   "metadata": {},
   "source": [
    "## Testing with Unittest\n",
    "\n",
    "<div class=\"alert alert-warning\">\n",
    "\n",
    "**NOTE**: Testing with Unittest is only done in PART B of this course\n",
    "\n",
    "</div>\n",
    "\n",
    "\n",
    "Is there anything better than `assert`for testing? `assert` can be a quick way to check but doesn't tell us exactly which is the wrong number in the list returned by `even_number(5)`. Luckily, Python offers us a better option, which is a complete testing framework called [unittest](https://docs.python.org/3/library/unittest.html). We will use unittest because it is the standard one, but if you're doing other projects you might consider using better ones like [pytest](https://docs.pytest.org/)\n",
    "\n",
    "So let's give unittest a try. Suppose you have a file called `file_test.py` like this:"
   ]
  },
  {
   "cell_type": "code",
   "execution_count": 22,
   "metadata": {
    "raw_mimetype": "text/x-python"
   },
   "outputs": [],
   "source": [
    "import unittest\n",
    "\n",
    "def even_numbers(n):\n",
    "    \"\"\"\n",
    "    Return a list of the first n even numbers \n",
    "    \n",
    "    Zero is considered to be the first even number.\n",
    "\n",
    "    >>> even_numbers(5)\n",
    "    [0,2,4,6,8]\n",
    "    \"\"\"    \n",
    "    r = [2 * x for x in range(n)]\n",
    "    r[n // 2] = 3   # <-- evil bug, puts number '3' in the middle\n",
    "    return r\n",
    "\n",
    "class MyTest(unittest.TestCase):\n",
    "\n",
    "    def test_long_list(self):\n",
    "        self.assertEqual(even_numbers(5),[0,2,4,6,8]) \n",
    "\n"
   ]
  },
  {
   "cell_type": "markdown",
   "metadata": {},
   "source": [
    "\n",
    "We won't explain what `class` mean ([for classes see the book chpater ](http://interactivepython.org/runestone/static/pythonds/Introduction/ObjectOrientedProgramminginPythonDefiningClasses.html)), the important thing to notice is the method definition:\n",
    "\n",
    "\n",
    "```python\n",
    "    def test_long_list(self):\n",
    "        self.assertEqual(even_numbers(5),[0,2,4,6,8]) \n",
    "\n",
    "```\n",
    "\n",
    "In particular:\n",
    "\n",
    "* method is declared like a function, and begins with `'test_'` word\n",
    "* method takes `self` as parameter\n",
    "* `self.assertEqual(even_numbers(5),[0,2,4,6,8]) ` executes the assertion. Other assertions could be `self.assertTrue(some_condition) or self.assertFalse(some_condition) `\n",
    "\n",
    "### Running tests\n",
    "\n",
    "<div class=\"alert alert-info\">\n",
    "\n",
    "To run the tests, enter the following command in the terminal: <br/>\n",
    "<br/>\n",
    "\n",
    "``` \n",
    "    python -m unittest file_test\n",
    "        \n",
    "```\n",
    "\n",
    "<div class=\"alert -alert-warning\">\n",
    "**!!!!!   WARNING**: In the call above, DON'T append the extension `.py` to `file_test`    !!!!!!\n",
    "<br/>\n",
    "**!!!!!   WARNING**: Still, on the hard-disk the file MUST be named with a `.py` at the end, like `file_test.py`!!!!!!\n",
    "\n",
    "</div>\n",
    "\n",
    "You should see an output like the following: "
   ]
  },
  {
   "cell_type": "code",
   "execution_count": 23,
   "metadata": {
    "scrolled": true
   },
   "outputs": [
    {
     "name": "stderr",
     "output_type": "stream",
     "text": [
      "F\n",
      "======================================================================\n",
      "FAIL: test_long_list (__main__.MyTest)\n",
      "----------------------------------------------------------------------\n",
      "Traceback (most recent call last):\n",
      "  File \"<ipython-input-22-397caec8a66f>\", line 19, in test_long_list\n",
      "    self.assertEqual(even_numbers(5),[0,2,4,6,8])\n",
      "AssertionError: Lists differ: [0, 2, 3, 6, 8] != [0, 2, 4, 6, 8]\n",
      "\n",
      "First differing element 2:\n",
      "3\n",
      "4\n",
      "\n",
      "- [0, 2, 3, 6, 8]\n",
      "?        ^\n",
      "\n",
      "+ [0, 2, 4, 6, 8]\n",
      "?        ^\n",
      "\n",
      "\n",
      "----------------------------------------------------------------------\n",
      "Ran 1 test in 0.001s\n",
      "\n",
      "FAILED (failures=1)\n"
     ]
    }
   ],
   "source": [
    "jupman.show_run(MyTest)"
   ]
  },
  {
   "cell_type": "markdown",
   "metadata": {},
   "source": [
    "Now you can see a nice display of where the error is, exactly in the middle of the list!\n",
    "\n",
    "### When tests don't run\n",
    "\n",
    "\n",
    "When `-m unittest` does not work and you keep seeing absurd errors like Python not finding a module and you are getting desperate (especially because Python has `unittest` included _by default_, there is no need to install it! ), try to put the following code at the very end of the file you are editing: \n",
    "\n",
    "```python\n",
    "unittest.main()\n",
    "```\n",
    "\n",
    "Then run your file with just\n",
    "\n",
    "```bash\n",
    "python file_test.py\n",
    "```\n",
    "\n",
    "In this case it should REALLY work. If it still doesn't, call the Ghostbusters. Or, better, the IndentationBusters, you're likely having tabs mixed with spaces mixed with bad bad luck.\n",
    "\n",
    "\n",
    "### Adding tests\n",
    "\n",
    "How can we add (good) tests? Since best ones are usually short, it would be better starting small boundary cases. For example like `n=1` , which according to function documentation should produce a list containing zero:"
   ]
  },
  {
   "cell_type": "code",
   "execution_count": 24,
   "metadata": {},
   "outputs": [],
   "source": [
    "class MyTest(unittest.TestCase):\n",
    "\n",
    "    def test_one_element(self):\n",
    "        self.assertEqual(even_numbers(1),[0])\n",
    "        \n",
    "    def test_long_list(self):\n",
    "        self.assertEqual(even_numbers(5),[0,2,4,6,8]) \n",
    "        \n",
    "        "
   ]
  },
  {
   "cell_type": "markdown",
   "metadata": {},
   "source": [
    "Let's call again the command: \n",
    "\n",
    "```bash\n",
    "python -m unittest file_test\n",
    "```"
   ]
  },
  {
   "cell_type": "code",
   "execution_count": 25,
   "metadata": {},
   "outputs": [
    {
     "name": "stderr",
     "output_type": "stream",
     "text": [
      "FF\n",
      "======================================================================\n",
      "FAIL: test_long_list (__main__.MyTest)\n",
      "----------------------------------------------------------------------\n",
      "Traceback (most recent call last):\n",
      "  File \"<ipython-input-24-306d9f1c7777>\", line 7, in test_long_list\n",
      "    self.assertEqual(even_numbers(5),[0,2,4,6,8])\n",
      "AssertionError: Lists differ: [0, 2, 3, 6, 8] != [0, 2, 4, 6, 8]\n",
      "\n",
      "First differing element 2:\n",
      "3\n",
      "4\n",
      "\n",
      "- [0, 2, 3, 6, 8]\n",
      "?        ^\n",
      "\n",
      "+ [0, 2, 4, 6, 8]\n",
      "?        ^\n",
      "\n",
      "\n",
      "======================================================================\n",
      "FAIL: test_one_element (__main__.MyTest)\n",
      "----------------------------------------------------------------------\n",
      "Traceback (most recent call last):\n",
      "  File \"<ipython-input-24-306d9f1c7777>\", line 4, in test_one_element\n",
      "    self.assertEqual(even_numbers(1),[0])\n",
      "AssertionError: Lists differ: [3] != [0]\n",
      "\n",
      "First differing element 0:\n",
      "3\n",
      "0\n",
      "\n",
      "- [3]\n",
      "+ [0]\n",
      "\n",
      "----------------------------------------------------------------------\n",
      "Ran 2 tests in 0.002s\n",
      "\n",
      "FAILED (failures=2)\n"
     ]
    }
   ],
   "source": [
    "jupman.show_run(MyTest)"
   ]
  },
  {
   "cell_type": "markdown",
   "metadata": {},
   "source": [
    "From the tests we can now see there is clearly something wrong with the number 3 that keeps popping up, making both tests fail. You can see immediately which tests have failed by looking at the first two `FF` at the top of the output. Let's fix the code by removing the buggy line:"
   ]
  },
  {
   "cell_type": "code",
   "execution_count": 26,
   "metadata": {},
   "outputs": [],
   "source": [
    "def even_numbers(n):\n",
    "    \"\"\"\n",
    "    Return a list of the first n even numbers \n",
    "    \n",
    "    Zero is considered to be the first even number.\n",
    "\n",
    "    >>> even_numbers(5)\n",
    "    [0,2,4,6,8]\n",
    "    \"\"\"    \n",
    "    r = [2 * x for x in range(n)]\n",
    "    # NOW WE COMMENTED THE BUGGY LINE  r[n // 2] = 3   # <-- evil bug, puts number '3' in the middle\n",
    "    return r\n"
   ]
  },
  {
   "cell_type": "markdown",
   "metadata": {},
   "source": [
    "And call yet again the command: \n",
    "\n",
    "```bash\n",
    "python -m unittest file_test\n",
    "```"
   ]
  },
  {
   "cell_type": "code",
   "execution_count": 27,
   "metadata": {},
   "outputs": [
    {
     "name": "stderr",
     "output_type": "stream",
     "text": [
      "..\n",
      "----------------------------------------------------------------------\n",
      "Ran 2 tests in 0.001s\n",
      "\n",
      "OK\n"
     ]
    }
   ],
   "source": [
    "jupman.show_run(MyTest)"
   ]
  },
  {
   "cell_type": "markdown",
   "metadata": {},
   "source": [
    "Wonderful, all the two tests have passed and we got rid of the bug. \n",
    "\n",
    "<div class=\"alert alert-warning\">\n",
    "\n",
    "**WARNING: DON'T DUPLICATE TEST CLASS NAMES AND/OR METHODS!**\n",
    "\n",
    "In the following, you will be asked to add tests. Just add **NEW** methods with **NEW** names to the **EXISTING** class `MyTest` !\n",
    "\n",
    "</div>\n",
    "\n",
    "### Exercise: boundary cases\n",
    "\n",
    "Think about other boundary cases, and try to add corresponding tests.\n",
    "\n",
    "- Can we ever have an empty list? \n",
    "- Can `n` be equal to zero? Add a test **inside MyTest class** for its expected result.\n",
    "- Can `n` be negative? In this case the function text tells us nothing about the expected behaviour, so we might choose it now: either the function raises an error, or it gives a back something, like i.e. list of even negative numbers. Try to modify `even_numbers` and add a relative test **inside MyTest class** for expecting even negative numbers (starting from zero). \n"
   ]
  },
  {
   "cell_type": "markdown",
   "metadata": {},
   "source": [
    "### Exercise: expecting assertions\n",
    "\n",
    "What if user passes us a float like `3.5` instead of an integer? If you try to run `even_numbers(3.5)` you  will discover it works anyway, but we might decide to be picky and not accept inputs other than integers. Try to modify `even_numbers` to make so that when input is not of type `int`, raises [TypeError](https://docs.python.org/3/library/exceptions.html#TypeError) (to check for type, you can write `type(n) == int`). \n",
    "\n",
    "\n",
    "To test for it, add following test **inside MyTest class** :\n",
    "\n",
    "```python\n",
    "    def test_type(self):\n",
    "\n",
    "        with self.assertRaises(TypeError):  \n",
    "            even_numbers(3.5)                \n",
    "```\n",
    "\n",
    "\n",
    "The `with` block tells Python to expect the code inside the `with` block to raise \n",
    "the exception [TypeError](https://docs.python.org/3/library/exceptions.html#TypeError):\n",
    "\n",
    "- If `even_numbers(3.5)` actually raises `TypeError` exception, nothing happens\n",
    "- If `even_numbers(3.5)` does not raise `TypeError` exception, with raises `AssertionError`\n",
    "\n",
    "\n",
    "\n",
    "After you completed previous task, consider when the input is the float `4.0`:  in this case it might make sense to still accept it, so modify `even_numbers` accordingly and write a test for it."
   ]
  },
  {
   "cell_type": "markdown",
   "metadata": {},
   "source": [
    "### Exercise: good tests\n",
    "\n",
    "What difference is there between the following two test classes? Which one is better for testing?\n",
    "\n",
    "```python\n",
    "class MyTest(unittest.TestCase):\n",
    "\n",
    "    def test_one_element(self):\n",
    "        self.assertEqual(even_numbers(1),[0])\n",
    "        \n",
    "    def test_long_list(self):\n",
    "        self.assertEqual(even_numbers(5),[0,2,4,6,8]) \n",
    "        \n",
    "```\n",
    "\n",
    "and\n",
    " \n",
    "```python\n",
    "class MyTest(unittest.TestCase):\n",
    "\n",
    "    def test_stuff(self):\n",
    "        self.assertEqual(even_numbers(1),[0])\n",
    "        self.assertEqual(even_numbers(5),[0,2,4,6,8])               \n",
    "        \n",
    "```\n",
    "\n"
   ]
  },
  {
   "cell_type": "markdown",
   "metadata": {},
   "source": [
    "### Running unittests in Visual Studio Code\n",
    "\n",
    "\n",
    "You can run and debug tests in  Visual Studio Code, which is very handy. First, you need to set it up.\n",
    "\n",
    "1. Hit `Control-Shift-P` (on Mac: `Command-Shift-P`) and type `Python: Configure Tests`  \n",
    "\n",
    "![vscode 1 4292234](img/vscode-1.png)\n",
    "\n",
    "2. Select unittest:\n",
    "\n",
    "![vscode 2 2341234123](img/vscode-2.png)\n",
    "\n",
    "3. Select `. root directory` (we assume tests are in the folder that you've opened):\n",
    "\n",
    "![vscode 3 3142434](img/vscode-3.png)\n",
    "\n",
    "4. Select `*Python files containing the word 'test'`:\n",
    "\n",
    "![vscode 4 92383283](img/vscode-4.png)"
   ]
  },
  {
   "cell_type": "markdown",
   "metadata": {},
   "source": [
    "Hopefully, on the currently opened test file new labels should appear above class and test methods, like in the following example. Try to click on them: \n",
    "\n",
    "![vscode 5 8232114](img/vscode-5.png)\n",
    "\n",
    "In the bottom bar, you should see a recap of run tests (right side of the picture):\n",
    "\n",
    "![vscode 6 2348324332](img/vscode-6.png)"
   ]
  },
  {
   "cell_type": "markdown",
   "metadata": {},
   "source": [
    "<div class=\"alert alert-warning\">\n",
    "\n",
    "**TROUBLESHOOTING**\n",
    "\n",
    "</div>\n",
    "\n",
    "If you encounter problems running tests and have Anaconda, sometimes an easy solution can be just closing Visual Studio Code and running it from the Anaconda Navigator. You can also try to update it.\n",
    "\n",
    "\n",
    "**Running tests by console does not work:**\n",
    "\n",
    "* remember to SAVE the files before executing tests: in Windows, a file appears as not saved when its filename in the tab is written in italics; on Linux, you might see a dot to the right of the filename\n",
    "\n",
    "**Run Test label does not show up in code:**\n",
    "\n",
    "- if you see red squiggles in the code, most probably syntax is not correct and thus no test will get discovered ! If this is the case, fix the syntax error, SAVE, and then tell Visual Studio to discover test. \n",
    "- you might also try  _Right click->Run current Test File_. \n",
    "- try [selecting another testing framework](#Running-unittests-in-Visual-Studio-Code) , try pytest, which is also capable to discover and execute unittests.\n",
    "- if you are really out of luck with the editor, there is always the option of running tests from the console. \n",
    "\n",
    "<div class=\"alert alert-warning\">\n",
    "\n",
    "**WARNING: spend time also with the console !!!!**\n",
    "\n",
    "During the exam testing in VSCode might not work, so please be prepared to use the console\n",
    "\n",
    "</div>"
   ]
  },
  {
   "cell_type": "markdown",
   "metadata": {},
   "source": [
    "## Functional programming\n",
    "\n",
    "In functional programming, functions behave as mathematical ones so they always take some parameter and return new data without ever changing the input. They say functional programming is easier to test. Why? \n",
    "\n",
    "**Immutable data structures**:  all data structures are (or are meant to be) immutable -> no code can ever tweak your data, so other developers just cannot (should not) be able to inadvertently change your data. \n",
    "\n",
    "**Simpler parallel computing**:  point above is particularly inmportant in parallel computation, wheb the system can schedule thread executions differently _each_ time you run the program:  this implies that when you have multiple threads it can be very very hard to reproduce a bug where a thread wrongly changes a data which is supposed to be exclusively managed by another one, as it might fail in one run and succeed in another just because the system scheduled differently the code execution ! Functional programming frameworks like [Spark](https://spark.apache.org) solve these problems very nicely.\n",
    "\n",
    "**Easier to reason about code**: it is much easier to reason about functions, as we can use standard equational reasoning on input/outputs as traditionally done in algebra. To understand what we're talking about, you can see these slides: [Visual functional programming](https://docs.google.com/presentation/d/1hTHty5aML9WDDTvkflvvdGDh0AfZwV_8ZEr10-rUPVA) (will talk more about it in class)"
   ]
  },
  {
   "cell_type": "code",
   "execution_count": null,
   "metadata": {},
   "outputs": [],
   "source": []
  }
 ],
 "metadata": {
  "celltoolbar": "Edit Metadata",
  "kernelspec": {
   "display_name": "Python 3",
   "language": "python",
   "name": "python3"
  },
  "language_info": {
   "codemirror_mode": {
    "name": "ipython",
    "version": 3
   },
   "file_extension": ".py",
   "mimetype": "text/x-python",
   "name": "python",
   "nbconvert_exporter": "python",
   "pygments_lexer": "ipython3",
   "version": "3.5.2"
  },
  "toc": {
   "base_numbering": 1,
   "nav_menu": {},
   "number_sections": false,
   "sideBar": true,
   "skip_h1_title": false,
   "title_cell": "Table of Contents",
   "title_sidebar": "Contents",
   "toc_cell": false,
   "toc_position": {},
   "toc_section_display": true,
   "toc_window_display": true
  }
 },
 "nbformat": 4,
 "nbformat_minor": 1
}
