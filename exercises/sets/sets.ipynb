{
 "cells": [
  {
   "cell_type": "code",
   "execution_count": 1,
   "metadata": {
    "nbsphinx": "hidden"
   },
   "outputs": [],
   "source": [
    "#Please execute this cell\n",
    "import sys;\n",
    "sys.path.append('../../'); \n",
    "import jupman;"
   ]
  },
  {
   "cell_type": "markdown",
   "metadata": {},
   "source": [
    "\n",
    "#  Sets\n",
    "\n",
    "\n",
    "## [Download exercises zip](../../_static/sets-exercises.zip) \n",
    "(before editing read whole introduction section 0.x)\n",
    "\n",
    "[Browse files online](https://github.com/DavidLeoni/datasciprolab/tree/master/exercises/sets)\n",
    "\n",
    "\n",
    "### What to do\n",
    "\n",
    "- unzip exercises in a folder, you should get something like this: \n",
    "\n",
    "```\n",
    "\n",
    "-jupman.py\n",
    "-sciprog.py\n",
    "-other stuff ...\n",
    "-exercises\n",
    "     |-sets\n",
    "         |- sets.ipynb         \n",
    "         |- multiset_exercise.py\n",
    "         |- multiset_test.py\n",
    "         |- multiset_solution.py\n",
    "         |- other stuff\n",
    "```\n",
    "\n",
    "\n",
    "- open the editor of your choice (for example Visual Studio Code, Spyder or PyCharme), you will edit the files ending in `_exercise.py` files\n",
    "- Go on reading this notebook, and follow instuctions inside."
   ]
  },
  {
   "cell_type": "markdown",
   "metadata": {},
   "source": [
    "## MultiSet\n",
    "\n",
    "You are going to implement a class called `MultiSet`, where you are only given the class skeleton, and you will need to determine which Python basic datastructures like list, set, dict (or combinations thereof) is best suited to actually hold the data. \n",
    "\n",
    "In math a multiset (or bag) generalizes a set by allowing multiple instances of the multiset's elements. \n",
    "\n",
    "The multiplicity of an element is the number of instances of the element in a specific multiset.\n",
    "\n",
    "For example:\n",
    "\n",
    "* The multiset `a, b` contains only elements `a` and `b`, each having multiplicity 1\n",
    "* In multiset `a, a, b`, `a` has multiplicity 2 and `b` has multiplicity 1\n",
    "* In multiset `a, a, a, b, b, b`, `a` and `b` both have multiplicity 3\n",
    "\n",
    "NOTE: order of insertion does not matter, so `a, a, b` and `a, b, a` are the same multiset,\n",
    "where `a` has multiplicity 2 and `b` has multiplicity 1.\n"
   ]
  },
  {
   "cell_type": "code",
   "execution_count": 2,
   "metadata": {},
   "outputs": [],
   "source": [
    "from multiset_solution import *"
   ]
  },
  {
   "cell_type": "markdown",
   "metadata": {},
   "source": [
    "## `__init__`  `add` and `get`\n",
    "\n",
    "Now implement *all* of the following methods: `__init__`,  `add` and `get`:\n",
    "\n",
    "```python\n",
    "\n",
    "    def __init__(self):\n",
    "        \"\"\" Initializes the MultiSet as empty.\"\"\"\n",
    "        raise Exception(\"TODO IMPLEMENT ME !!!\")\n",
    "\n",
    "    def add(self, el):\n",
    "        \"\"\" Adds one instance of element el to the multiset \n",
    "\n",
    "            NOTE: MUST work in O(1)        \n",
    "        \"\"\"\n",
    "        raise Exception(\"TODO IMPLEMENT ME !!!\")\n",
    "\n",
    "    def get(self, el):\n",
    "        \"\"\" Returns the multiplicity of element el in the multiset. \n",
    "            \n",
    "            If no instance of el is present, return 0.\n",
    "\n",
    "            NOTE: MUST work in O(1)        \n",
    "        \"\"\"\n",
    "        raise Exception(\"TODO IMPLEMENT ME !!!\")\n",
    "    \n",
    "```\n",
    "\n",
    "**Testing**\n",
    "\n",
    "Once done, running this will run only the tests in `AddGetTest` class and hopefully they will pass. \n",
    "\n",
    "**Notice that  `exercise1` is followed by a dot and test class name `.AddGetTest` : **\n",
    "\n",
    "```bash\n",
    "\n",
    " python3 -m unittest multiset_test.AddGetTest\n",
    "\n",
    "```\n"
   ]
  },
  {
   "cell_type": "markdown",
   "metadata": {},
   "source": [
    "\n",
    "\n",
    "## 1.2) `removen`\n",
    "\n",
    "Implement the following `removen` method:\n",
    "\n",
    "```python\n",
    "    def removen(self, el, n):\n",
    "        \"\"\" Removes n instances of element el from the multiset (that is, reduces el multiplicity by n)\n",
    "            \n",
    "            If n is negative, raises ValueError.            \n",
    "            If n represents a multiplicity bigger than the current multiplicity, raises LookupError\n",
    "            \n",
    "            NOTE: multiset multiplicities are never negative\n",
    "            NOTE: MUST work in O(1)\n",
    "        \"\"\"\n",
    "```\n",
    "\n",
    "**Testing**: `python3 -m unittest multiset_test.RemovenTest`"
   ]
  },
  {
   "cell_type": "code",
   "execution_count": 3,
   "metadata": {
    "nbsphinx": "hidden",
    "scrolled": true
   },
   "outputs": [
    {
     "name": "stderr",
     "output_type": "stream",
     "text": [
      ".......\n",
      "----------------------------------------------------------------------\n",
      "Ran 7 tests in 0.008s\n",
      "\n",
      "OK\n"
     ]
    }
   ],
   "source": [
    "# plese ignore this cell\n",
    "import multiset_test\n",
    "jupman.run(multiset_test)\n"
   ]
  }
 ],
 "metadata": {
  "celltoolbar": "Edit Metadata",
  "kernelspec": {
   "display_name": "Python 3",
   "language": "python",
   "name": "python3"
  },
  "language_info": {
   "codemirror_mode": {
    "name": "ipython",
    "version": 3
   },
   "file_extension": ".py",
   "mimetype": "text/x-python",
   "name": "python",
   "nbconvert_exporter": "python",
   "pygments_lexer": "ipython3",
   "version": "3.5.2"
  },
  "toc": {
   "base_numbering": 1,
   "nav_menu": {},
   "number_sections": false,
   "sideBar": true,
   "skip_h1_title": false,
   "title_cell": "Table of Contents",
   "title_sidebar": "Contents",
   "toc_cell": false,
   "toc_position": {},
   "toc_section_display": true,
   "toc_window_display": false
  }
 },
 "nbformat": 4,
 "nbformat_minor": 2
}
