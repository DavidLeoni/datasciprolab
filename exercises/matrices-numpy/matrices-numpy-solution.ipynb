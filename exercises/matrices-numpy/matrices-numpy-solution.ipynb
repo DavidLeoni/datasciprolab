{
 "cells": [
  {
   "cell_type": "code",
   "execution_count": 1,
   "metadata": {
    "nbsphinx": "hidden"
   },
   "outputs": [],
   "source": [
    "#Please execute this cell\n",
    "import sys\n",
    "sys.path.append('../../')\n",
    "import jupman"
   ]
  },
  {
   "cell_type": "markdown",
   "metadata": {},
   "source": [
    "# Matrices: numpy solutions\n",
    "\n",
    "## TODO WORK IN PROGRESS\n",
    "\n",
    "## [Download exercises zip](../../_static/matrices-numpy-exercises.zip)\n",
    "\n",
    "[Browse files online](https://github.com/DavidLeoni/datasciprolab/tree/master/exercises/matrices-numpy)\n",
    "\n",
    "\n",
    "## Introduction\n",
    "\n",
    "**References**: \n",
    "\n",
    "- [Python Data Science Handbook, Numpy part](https://jakevdp.github.io/PythonDataScienceHandbook/02.00-introduction-to-numpy.html)\n",
    "\n",
    "\n",
    "Previously we've seen [Matrices as lists of lists](https://datasciprolab.readthedocs.io/en/latest/exercises/matrices-lists/matrices-lists-solution.html), here we focus on matrices using Numpy library\n",
    "\n",
    "There are substantially two ways to represent matrices in Python: as list of lists, or with the external library [numpy](https://www.numpy.org). The most used is surely numpy, let's see the reason the principal differences:\n",
    "\n",
    "List of lists - [see separate notebook](https://datasciprolab.readthedocs.io/en/latest/exercises/matrices-lists/matrices-lists-solution.html)\n",
    "\n",
    "1. native in Python\n",
    "2. not efficient\n",
    "3. lists are pervasive in Python, probably you will encounter matrices expressed as list of lists anyway\n",
    "4. give an idea of how to build a nested data structure\n",
    "5. may help in understanding important concepts like pointers to memory and copies\n",
    "\n",
    "\n",
    "Numpy - this notebook\n",
    "\n",
    "1. not natively available  in Python\n",
    "2. efficient\n",
    "3. many libraries for scientific calculations are based on numpy (scipy, pandas)\n",
    "4. syntax to access elements is slightly different from list of lists\n",
    "5. in rare cases might give problems of installation and/or conflicts (implementation is not pure Python)\n",
    "\n",
    "Here we will see data types and essential commands of [libreria numpy](https://www.numpy.org), but we will not get into the details.\n",
    "\n",
    "The idea is to simply pass using the the data format `ndarray` without caring too much about performances: for example, even if `for` cycles in Python are slow because they operate cell by cell, we will use them anyway. In case you actually need to execute calculations fast, you will want to use operators on vectors but for this we invite you to read links below\n",
    "\n",
    "\n",
    "<div class=\"alert alert-warning\">\n",
    "\n",
    "**ATTENZION**: if you want to use Numpy in [Python tutor](http://www.pythontutor.com/visualize.html#mode=edit), instead of default interpreter `Python 3.6` you will need to select `Python 3.6 with Anaconda` (at May 2019 results marked as experimental)\n",
    "</div>\n",
    "\n"
   ]
  },
  {
   "cell_type": "markdown",
   "metadata": {},
   "source": [
    "### What to do\n",
    "\n",
    "- unzip exercises in a folder, you should get something like this: \n",
    "\n",
    "```\n",
    "\n",
    "-jupman.py\n",
    "-exercises\n",
    "     |- matrices\n",
    "         |- matrix-numpy-exercise.ipynb     \n",
    "         |- matrix-numpy-solution.ipynb\n",
    "```\n",
    "\n",
    "<div class=\"alert alert-warning\">\n",
    "\n",
    "**WARNING**: to correctly visualize the notebook, it MUST be in an unzipped folder !\n",
    "</div>\n",
    "\n",
    "\n",
    "- open Jupyter Notebook from that folder. Two things should open, first a console and then browser. The browser should show a file list: navigate the list and open the notebook `exercises/matrix-networks/matrix-networks-exercise.ipynb`\n",
    "- Go on reading that notebook, and follow instuctions inside.\n",
    "\n",
    "\n",
    "Shortcut keys:\n",
    "\n",
    "- to execute Python code inside a Jupyter cell, press `Control + Enter`\n",
    "- to execute Python code inside a Jupyter cell AND select next cell, press `Shift + Enter`\n",
    "- to execute Python code inside a Jupyter cell AND a create a new cell aftwerwards, press `Alt + Enter`\n",
    "- If the notebooks look stuck, try to select `Kernel -> Restart`"
   ]
  },
  {
   "cell_type": "markdown",
   "metadata": {},
   "source": [
    "First of all, we import the library, and for convenience we rename it to 'np':"
   ]
  },
  {
   "cell_type": "code",
   "execution_count": 2,
   "metadata": {},
   "outputs": [],
   "source": [
    "import numpy as np"
   ]
  },
  {
   "cell_type": "markdown",
   "metadata": {},
   "source": [
    "\n",
    "With lists of lists we have often built the matrices one row at a time, adding lists as needed. In Numpy instead we usually create in one shot the whole matrix, filling it with zeroes.\n",
    "\n",
    "In particular, this command creates an `ndarray` filled with zeroes:"
   ]
  },
  {
   "cell_type": "code",
   "execution_count": 8,
   "metadata": {},
   "outputs": [],
   "source": [
    "mat = np.zeros( (2,3)  )   # 2 rows, 3 columns"
   ]
  },
  {
   "cell_type": "code",
   "execution_count": 9,
   "metadata": {},
   "outputs": [
    {
     "data": {
      "text/plain": [
       "array([[0., 0., 0.],\n",
       "       [0., 0., 0.]])"
      ]
     },
     "execution_count": 9,
     "metadata": {},
     "output_type": "execute_result"
    }
   ],
   "source": [
    "mat"
   ]
  },
  {
   "cell_type": "markdown",
   "metadata": {},
   "source": [
    "Note like inside `array( )` the content seems represented like a list of lists, BUT in reality in physical memory the data is structured in a linear sequence which allows Python to access numbers in a faster way."
   ]
  },
  {
   "cell_type": "markdown",
   "metadata": {},
   "source": [
    "\n",
    "To access data or overwrite square bracket notation is used, with the importantdifference that in numpy you can write _bot_ the indeces _inside_ the same brackets, separated by a comma:\n",
    "\n",
    "\n",
    "<div class=\"alert, alert-warning\">\n",
    "\n",
    "**ATTENTION**: notation `mat[i,j]` is only for numpy, with lit of lists **does not** work!\n",
    "<div>"
   ]
  },
  {
   "cell_type": "markdown",
   "metadata": {},
   "source": [
    "Let's put number `0` in cell at row `0` and column `1`"
   ]
  },
  {
   "cell_type": "code",
   "execution_count": 10,
   "metadata": {},
   "outputs": [],
   "source": [
    "mat[0,1] = 9"
   ]
  },
  {
   "cell_type": "code",
   "execution_count": 11,
   "metadata": {},
   "outputs": [
    {
     "data": {
      "text/plain": [
       "array([[0., 9., 0.],\n",
       "       [0., 0., 0.]])"
      ]
     },
     "execution_count": 11,
     "metadata": {},
     "output_type": "execute_result"
    }
   ],
   "source": [
    "mat"
   ]
  },
  {
   "cell_type": "markdown",
   "metadata": {},
   "source": [
    "Let's access cell at row `0` and column `1`"
   ]
  },
  {
   "cell_type": "code",
   "execution_count": 12,
   "metadata": {},
   "outputs": [
    {
     "data": {
      "text/plain": [
       "9.0"
      ]
     },
     "execution_count": 12,
     "metadata": {},
     "output_type": "execute_result"
    }
   ],
   "source": [
    "mat[0,1]"
   ]
  },
  {
   "cell_type": "markdown",
   "metadata": {},
   "source": [
    "We put number `7` into cell at row `1` and column `2`"
   ]
  },
  {
   "cell_type": "code",
   "execution_count": 13,
   "metadata": {},
   "outputs": [],
   "source": [
    "mat[1,2] = 7"
   ]
  },
  {
   "cell_type": "code",
   "execution_count": 14,
   "metadata": {},
   "outputs": [
    {
     "data": {
      "text/plain": [
       "array([[0., 9., 0.],\n",
       "       [0., 0., 7.]])"
      ]
     },
     "execution_count": 14,
     "metadata": {},
     "output_type": "execute_result"
    }
   ],
   "source": [
    "mat"
   ]
  },
  {
   "cell_type": "markdown",
   "metadata": {},
   "source": [
    "To get the dimension, we write like the following:\n",
    "\n",
    "    \n",
    "<div class=\"alert alert-warning\">\n",
    "\n",
    "**ATTENTIONE**: after `shape` there are **no** round parenthesis !\n",
    "\n",
    "`shape` is an attribute, not a function to call\n",
    "</div>"
   ]
  },
  {
   "cell_type": "code",
   "execution_count": 10,
   "metadata": {},
   "outputs": [
    {
     "data": {
      "text/plain": [
       "(2, 3)"
      ]
     },
     "execution_count": 10,
     "metadata": {},
     "output_type": "execute_result"
    }
   ],
   "source": [
    "mat.shape"
   ]
  },
  {
   "cell_type": "markdown",
   "metadata": {},
   "source": [
    "\n",
    "If we want to memorize the dimension in separate variables, we can use thi more pythonic mode (note the comma between `num_rows` and `num_cols`:"
   ]
  },
  {
   "cell_type": "code",
   "execution_count": 15,
   "metadata": {},
   "outputs": [],
   "source": [
    "num_rows, num_cols = mat.shape"
   ]
  },
  {
   "cell_type": "code",
   "execution_count": 16,
   "metadata": {},
   "outputs": [
    {
     "data": {
      "text/plain": [
       "2"
      ]
     },
     "execution_count": 16,
     "metadata": {},
     "output_type": "execute_result"
    }
   ],
   "source": [
    "num_rows"
   ]
  },
  {
   "cell_type": "code",
   "execution_count": 17,
   "metadata": {},
   "outputs": [
    {
     "data": {
      "text/plain": [
       "3"
      ]
     },
     "execution_count": 17,
     "metadata": {},
     "output_type": "execute_result"
    }
   ],
   "source": [
    "num_cols"
   ]
  },
  {
   "cell_type": "markdown",
   "metadata": {},
   "source": [
    "**✪ Exercise**: try to write like the following, what happens? \n",
    "\n",
    "```python\n",
    "mat[0,0] = \"c\"\n",
    "```"
   ]
  },
  {
   "cell_type": "code",
   "execution_count": 14,
   "metadata": {},
   "outputs": [],
   "source": [
    "# write here\n",
    "\n"
   ]
  },
  {
   "cell_type": "markdown",
   "metadata": {},
   "source": [
    "We can also create an `ndarray` starting from a list of lists:"
   ]
  },
  {
   "cell_type": "code",
   "execution_count": 18,
   "metadata": {},
   "outputs": [],
   "source": [
    "\n",
    "mat = np.array( [ [5.0,8.0,1.0], \n",
    "                  [4.0,3.0,2.0]])"
   ]
  },
  {
   "cell_type": "code",
   "execution_count": 19,
   "metadata": {},
   "outputs": [
    {
     "data": {
      "text/plain": [
       "array([[5., 8., 1.],\n",
       "       [4., 3., 2.]])"
      ]
     },
     "execution_count": 19,
     "metadata": {},
     "output_type": "execute_result"
    }
   ],
   "source": [
    "mat"
   ]
  },
  {
   "cell_type": "code",
   "execution_count": 20,
   "metadata": {},
   "outputs": [
    {
     "data": {
      "text/plain": [
       "numpy.ndarray"
      ]
     },
     "execution_count": 20,
     "metadata": {},
     "output_type": "execute_result"
    }
   ],
   "source": [
    "type(mat)"
   ]
  },
  {
   "cell_type": "code",
   "execution_count": 21,
   "metadata": {},
   "outputs": [
    {
     "data": {
      "text/plain": [
       "3.0"
      ]
     },
     "execution_count": 21,
     "metadata": {},
     "output_type": "execute_result"
    }
   ],
   "source": [
    "mat[1,1]"
   ]
  },
  {
   "cell_type": "markdown",
   "metadata": {},
   "source": [
    "**✪ Exercise**: Try to write like this and check what happens:\n",
    "    \n",
    "```python\n",
    "mat[1,1.0]\n",
    "```"
   ]
  },
  {
   "cell_type": "code",
   "execution_count": 22,
   "metadata": {},
   "outputs": [],
   "source": [
    "# scrivi qui\n"
   ]
  },
  {
   "cell_type": "markdown",
   "metadata": {},
   "source": [
    "## Verify comprehension"
   ]
  },
  {
   "cell_type": "markdown",
   "metadata": {},
   "source": [
    "\n",
    "### odd\n",
    "\n",
    "✪✪✪ Takes a numpy matrix `mat` of dimension `nrows` by `ncols` containing integer numbers and RETURN a NEW numpy matrix of dimension `nrows` by `ncols` which is like the original, ma in the cells which contained even numbers now there will be odd numbers obtained by summing `1` to the existing even number.\n",
    "\n",
    "Example:\n",
    "\n",
    "```python\n",
    "\n",
    "odd(np.array( [ \n",
    "                    [2,5,6,3],\n",
    "                    [8,4,3,5],\n",
    "                    [6,1,7,9]\n",
    "               ]))\n",
    "```\n",
    "Must give as output\n",
    "\n",
    "```python\n",
    "array([[ 3.,  5.,  7.,  3.],\n",
    "       [ 9.,  5.,  3.,  5.],\n",
    "       [ 7.,  1.,  7.,  9.]])\n",
    "```\n",
    "\n",
    "Hints: \n",
    "\n",
    "- Since you need to return a matrix, start with creating an empty one\n",
    "- go through the whole input matrix with indeces `i` and `j`"
   ]
  },
  {
   "cell_type": "code",
   "execution_count": 23,
   "metadata": {},
   "outputs": [],
   "source": [
    "import numpy as np\n",
    "\n",
    "def odd(mat):\n",
    "    #jupman-raise\n",
    "    nrighe, ncol = mat.shape\n",
    "    ret = np.zeros( (nrighe, ncol) )\n",
    "    \n",
    "\n",
    "    for i in range(nrighe):\n",
    "        for j in range(ncol):\n",
    "            if mat[i,j] % 2 == 0:\n",
    "                ret[i,j] = mat[i,j] + 1\n",
    "            else:\n",
    "                ret[i,j] = mat[i,j]\n",
    "    return ret\n",
    "    #/jupman-raise\n",
    "\n",
    "m1 = np.array([ \n",
    "                [2],\n",
    "              ])\n",
    "m2 = np.array([\n",
    "                [3]\n",
    "              ])\n",
    "assert np.allclose(odd(m1),\n",
    "                   m2)\n",
    "assert m1[0][0] == 2  # checks we are not modifying original matrix\n",
    "\n",
    "\n",
    "m3 = np.array( [ \n",
    "                    [2,5,6,3],\n",
    "                    [8,4,3,5],\n",
    "                    [6,1,7,9]\n",
    "               ])\n",
    "m4 = np.array( [ \n",
    "                   [3,5,7,3],\n",
    "                   [9,5,3,5],\n",
    "                   [7,1,7,9]\n",
    "                             ])\n",
    "assert np.allclose(odd(m3), \n",
    "                   m4)\n",
    "\n"
   ]
  },
  {
   "cell_type": "markdown",
   "metadata": {},
   "source": [
    "### doublealt\n",
    "\n",
    "✪✪✪ Takes a numpy matrix `mat` of dimensions `nrows` x `ncols` containing integer numbers and RETURN a NEW numpy matrix of dimension `nrows` x `ncols` having at rows of even **index** the numbers of original matrix multiplied by two, and at rows of odd **index** the same numbers as the original matrix.\n",
    "\n",
    "Example:\n",
    "\n",
    "```python\n",
    "m  = np.array( [                      #  index\n",
    "                    [ 2, 5, 6, 3],    #    0     even\n",
    "                    [ 8, 4, 3, 5],    #    1     odd\n",
    "                    [ 7, 1, 6, 9],    #    2     even\n",
    "                    [ 5, 2, 4, 1],    #    3     odd\n",
    "                    [ 6, 3, 4, 3]     #    4     even\n",
    "               ])\n",
    "```\n",
    "\n",
    "A call to\n",
    "\n",
    "```python\n",
    "doublealt(m)\n",
    "```\n",
    "\n",
    "will return the numpy matrix:\n",
    "\n",
    "```python\n",
    "array([[ 4, 10, 12,  6],              \n",
    "       [ 8,  4,  3,  5],              \n",
    "       [14,  2, 12, 18],             \n",
    "       [ 5,  2,  4,  1],\n",
    "       [12,  6,  8,  6]])\n",
    "```"
   ]
  },
  {
   "cell_type": "code",
   "execution_count": 24,
   "metadata": {},
   "outputs": [],
   "source": [
    "import numpy as np\n",
    "\n",
    "def doublealt(mat):\n",
    "    #jupman-raise\n",
    "    nrighe, ncol = mat.shape\n",
    "    ret = np.zeros( (nrighe, ncol) )\n",
    "    \n",
    "    for i in range(nrighe):\n",
    "        for j in range(ncol):\n",
    "            if i % 2 == 0:\n",
    "                ret[i,j] = mat[i,j] * 2\n",
    "            else:\n",
    "                ret[i,j] = mat[i,j]\n",
    "    return ret\n",
    "    #/jupman-raise\n",
    "\n",
    "\n",
    "# INIZIO TEST: NON TOCCARE !        \n",
    "\n",
    "m1 = np.array([ \n",
    "                [2],\n",
    "              ])\n",
    "m2 = np.array([\n",
    "                [4]\n",
    "              ])\n",
    "assert np.allclose(doublealt(m1),\n",
    "                   m2)\n",
    "assert m1[0][0] == 2  # controlla non si stia modificando la matrice originale\n",
    "\n",
    "\n",
    "m3 = np.array( [ \n",
    "                    [ 2, 5, 6],\n",
    "                    [ 8, 4, 3]\n",
    "               ])\n",
    "m4 = np.array( [ \n",
    "                    [ 4,10,12],\n",
    "                    [ 8, 4, 3]\n",
    "               ])\n",
    "assert np.allclose(doublealt(m3), \n",
    "                   m4)\n",
    "\n",
    "\n",
    "m5 = np.array( [ \n",
    "                    [ 2, 5, 6, 3],\n",
    "                    [ 8, 4, 3, 5],\n",
    "                    [ 7, 1, 6, 9],\n",
    "                    [ 5, 2, 4, 1],\n",
    "                    [ 6, 3, 4, 3]\n",
    "               ])\n",
    "m6 = np.array( [ \n",
    "                    [ 4,10,12, 6],\n",
    "                    [ 8, 4, 3, 5],\n",
    "                    [14, 2,12,18],\n",
    "                    [ 5, 2, 4, 1],\n",
    "                    [12, 6, 8, 6]\n",
    "               ])\n",
    "assert np.allclose(doublealt(m5), \n",
    "                   m6)\n",
    "\n",
    "\n",
    "# FINE TEST  "
   ]
  },
  {
   "cell_type": "markdown",
   "metadata": {},
   "source": [
    "### frame\n",
    "\n",
    "✪✪✪ RETURN a NEW numpy matrix of `n` rows and `n` columns, in which all the values are zero except those on borders, which must be equal to a given `k`       \n",
    "\n",
    "For example, `frame(4, 7.0)` must give:\n",
    "\n",
    "```python\n",
    "    array([[7.0, 7.0, 7.0, 7.0],\n",
    "           [7.0, 0.0, 0.0, 7.0],\n",
    "           [7.0, 0.0, 0.0, 7.0],\n",
    "           [7.0, 7.0, 7.0, 7.0]])\n",
    "```\n",
    "\n",
    "Ingredients:\n",
    "\n",
    "- create a matrix filled with zeros. ATTENTION: which dimensions does it have? Do you need `n` or `k` ? Read WELL the text.\n",
    "\n",
    "crea una matrice pieni di zeri. ATTENZIONE: quali dimensioni ha? Bisogna usare `n` o `k` ? \n",
    "- start by filling the cells of first row with `k` values. To iterate along the first row columns, use a `for j in range(n)`\n",
    "- fill other rows and columns, using appropriate `for`\n"
   ]
  },
  {
   "cell_type": "code",
   "execution_count": 22,
   "metadata": {},
   "outputs": [],
   "source": [
    "def quadro(n, k):\n",
    "    #jupman-raise\n",
    "    mat = np.zeros( (n,n)  )\n",
    "    for i in range(n):\n",
    "        mat[0, i] = k\n",
    "        mat[i, 0] = k\n",
    "        mat[i, n-1] = k\n",
    "        mat[n-1, i] = k\n",
    "    return mat\n",
    "    #/jupman-raise\n",
    "    \n",
    "\n",
    "\n",
    "expected_mat = np.array( [[7.0, 7.0, 7.0, 7.0],\n",
    "                        [7.0, 0.0, 0.0, 7.0],\n",
    "                        [7.0, 0.0, 0.0, 7.0],\n",
    "                        [7.0, 7.0, 7., 7.0]])\n",
    "# all_close ritorna True se tutti i valori nella prima matrice sono abbastanza vicini \n",
    "# (cioè entro una certa tolleranza) ai corrispondenti nella seconda \n",
    "assert np.allclose(quadro(4, 7.0), expected_mat) \n",
    "\n",
    "expected_mat = np.array( [ [7.0]\n",
    "                       ])\n",
    "assert np.allclose(quadro(1, 7.0), expected_mat) \n",
    "\n",
    "expected_mat = np.array( [ [7.0, 7.0],\n",
    "                         [7.0, 7.0]\n",
    "                       ])\n",
    "assert np.allclose(quadro(2, 7.0), expected_mat) "
   ]
  },
  {
   "cell_type": "markdown",
   "metadata": {},
   "source": [
    "### chessboard\n",
    "\n",
    "✪✪✪ RETURN a NEW numpy matrix of `n` rows and `n` columns, in which all cells alternate zeros and ones.\n",
    "\n",
    "\n",
    "For example, `chessboard(4)` must give:\n",
    "   \n",
    " \n",
    "```python\n",
    "    array([[1.0, 0.0, 1.0, 0.0],\n",
    "           [0.0, 1.0, 0.0, 1.0],\n",
    "           [1.0, 0.0, 1.0, 0.0],\n",
    "           [0.0, 1.0, 0.0, 1.0]])\n",
    "```\n",
    "\n",
    "Ingredients:\n",
    "\n",
    "- to alternate, you can use `range` in the form in which takes 3 parameters, \n",
    "\n",
    "- per alternare, potete usare la range nella forma in cui prende 3 parametri, for example `range(0,n,2)` starts from 0, arrives to `n` excluded by jumping one item at a time, generating 0,2,4,6,8, ....\n",
    "- instead range(1,n,2) would generate 1,3,5,7, ...\n"
   ]
  },
  {
   "cell_type": "code",
   "execution_count": 25,
   "metadata": {},
   "outputs": [],
   "source": [
    "def chessboard(n):  \n",
    "    #jupman-raise\n",
    "    mat = np.zeros( (n,n)  )\n",
    "    \n",
    "    for i in range(0,n, 2):\n",
    "        for j in range(0,n, 2):\n",
    "            mat[i, j] = 1\n",
    "\n",
    "    for i in range(1,n, 2):\n",
    "        for j in range(1,n, 2):\n",
    "            mat[i, j] = 1\n",
    "            \n",
    "    return mat\n",
    "    #/jupman-raise\n",
    "\n",
    "expected_mat = np.array([[1.0, 0.0, 1.0, 0.0],\n",
    "                        [0.0, 1.0, 0.0, 1.0],\n",
    "                        [1.0, 0.0, 1.0, 0.0],\n",
    "                        [0.0, 1.0, 0.0, 1.0]])\n",
    "\n",
    "# all_close ritorna True se tutti i valori nella prima matrice sono abbastanza vicini \n",
    "# (cioè entro una certa tolleranza) ai corrispondenti nella seconda \n",
    "assert np.allclose(chessboard(4), expected_mat) \n",
    "\n",
    "expected_mat = np.array( [ [1.0]\n",
    "                         ])\n",
    "assert np.allclose(chessboard(1), expected_mat) \n",
    "\n",
    "expected_mat = np.array( [ [1.0, 0.0],\n",
    "                         [0.0, 1.0]\n",
    "                       ])\n",
    "assert np.allclose(chessboard(2), expected_mat) "
   ]
  },
  {
   "cell_type": "markdown",
   "metadata": {},
   "source": [
    "### altsum\n",
    "\n",
    "✪✪✪ MODIFY the input numpy matrix (n x n), by summing to all the odd rows the even rows. For example\n",
    "\n",
    "```python\n",
    "    m = [[1.0, 3.0, 2.0, 5.0],\n",
    "         [2.0, 8.0, 5.0, 9.0],\n",
    "         [6.0, 9.0, 7.0, 2.0],\n",
    "         [4.0, 7.0, 2.0, 4.0]]\n",
    "    altsum(m)\n",
    "```    \n",
    "\n",
    "now `m` should be:\n",
    "\n",
    "```python\n",
    "    m = [[1.0, 3.0, 2.0, 5.0],\n",
    "         [3.0, 11.0,7.0, 14.0],\n",
    "         [6.0, 9.0, 7.0, 2.0],\n",
    "         [10.0,16.0,9.0, 6.0]]\n",
    "```    \n",
    "\n",
    "Ingredients:\n",
    "\n",
    "- to alternate, you can use `range` in the form in which takes 3 parameters, \n",
    "- per alternare, potete usare la range nella forma in cui prende 3 parametri, for example `range(0,n,2)` starts from 0, arrives to `n` excluded by jumping one item at a time, generating 0,2,4,6,8, ....\n",
    "- instead range(1,n,2) would generate 1,3,5,7, ..\n",
    "        \n"
   ]
  },
  {
   "cell_type": "code",
   "execution_count": 31,
   "metadata": {},
   "outputs": [],
   "source": [
    "def altsum(mat):\n",
    "    #jupman-raise\n",
    "    nrows, ncols = mat.shape \n",
    "    for i in range(1,nrows, 2):\n",
    "        for j in range(0,ncols):\n",
    "            mat[i, j] = mat[i,j] + mat[i-1, j] \n",
    "    #/jupman-raise\n",
    "  \n",
    "  \n",
    "orig_mat = np.array( [ [1.0, 3.0, 2.0, 5.0],\n",
    "                            [2.0, 8.0, 5.0, 9.0],\n",
    "                            [6.0, 9.0, 7.0, 2.0],\n",
    "                            [4.0, 7.0, 2.0, 4.0]]) \n",
    "\n",
    "expected_mat = np.array(    [ [1.0, 3.0, 2.0, 5.0],\n",
    "                              [3.0, 11.0,7.0, 14.0],\n",
    "                              [6.0, 9.0, 7.0, 2.0],\n",
    "                              [10.0,16.0,9.0, 6.0]])\n",
    "\n",
    "altsum(orig_mat)\n",
    "assert np.allclose(orig_mat, expected_mat) \n",
    "\n",
    "\n",
    "\n",
    "orig_mat = np.array( [ [5.0]\n",
    "                     ])\n",
    "expected_mat = np.array( [ [5.0]\n",
    "                       ])\n",
    "altsum(orig_mat)                  \n",
    "assert np.allclose(orig_mat, expected_mat) \n",
    "\n",
    "\n",
    "orig_mat = np.array( [ [6.0, 1.0],\n",
    "                       [3.0, 2.0]\n",
    "                       ])                    \n",
    "expected_mat = np.array( [ [6.0, 1.0],\n",
    "                           [9.0, 3.0]\n",
    "                       ])\n",
    "altsum(orig_mat)                    \n",
    "assert np.allclose(orig_mat, expected_mat) "
   ]
  },
  {
   "cell_type": "markdown",
   "metadata": {},
   "source": [
    "### media_righe\n",
    "\n",
    "✪✪✪ Prende una matrice numpy n x m  e RITORNA una NUOVA matrice numpy di una sola colonna in cui i valori sono la media dei valori nelle corrispondenti righe della matrice in input\n",
    "\n",
    "Esempio:\n",
    "\n",
    "Input: matrice 5x4\n",
    "\n",
    "```\n",
    "3 2 1 4\n",
    "6 2 3 5\n",
    "4 3 6 2\n",
    "4 6 5 4\n",
    "7 2 9 3\n",
    "```\n",
    "\n",
    "Output: matrice 5x1\n",
    "\n",
    "```\n",
    "(3+2+1+4)/4 \n",
    "(6+2+3+5)/4\n",
    "(4+3+6+2)/4\n",
    "(4+6+5+4)/4\n",
    "(7+2+9+3)/4\n",
    "```\n",
    "\n",
    "Ingredienti:\n",
    "\n",
    "- create una matrice n x 1 da ritornare, riempiendola di zeri\n",
    "- visitate tutte le celle della matrice originale con due  for in range  annidati\n",
    "- durante la visita, accumulate nella matrice da ritornare la somma degli elementi presi da ciascuna riga della matrice originale\n",
    "- una volta completata la somma di una riga, potete dividerla per la dimensione ncolonne della matrice originale\n",
    "- ritornate la matrice"
   ]
  },
  {
   "cell_type": "code",
   "execution_count": 25,
   "metadata": {},
   "outputs": [],
   "source": [
    "def media_righe(mat):\n",
    "    \"\"\" Prende una matrice numpy n x m  e RITORNA una NUOVA matrice numpy di una sola colonna in cui i valori\n",
    "        sono la media dei valori nelle corrispondenti righe della matrice in input\n",
    "    \"\"\"\n",
    "    #jupman-raise\n",
    "    righe, colonne = mat.shape\n",
    "\n",
    "    ret = np.zeros( (righe,1)  )\n",
    "\n",
    "    for i in range(righe):\n",
    "\n",
    "        for j in range(colonne):\n",
    "            ret[i] += mat[i,j] \n",
    "\n",
    "        ret[i] = ret[i] / colonne\n",
    "        # per brevità potremmo anche scrivere\n",
    "        # ret[i] /= colonne      \n",
    "    #/jupman-raise\n",
    "    return ret\n",
    "  \n",
    "  \n",
    "    \n",
    "m = np.array([\n",
    "              [5.0]\n",
    "            ])\n",
    "\n",
    "mat_attesa = np.array([\n",
    "                        [5.0]\n",
    "                      ])\n",
    "\n",
    "assert np.allclose(media_righe(m), mat_attesa)\n",
    "\n",
    "\n",
    "m = np.array([\n",
    "               [5.0, 3.0]\n",
    "             ])\n",
    "                   \n",
    "mat_attesa = np.array([\n",
    "                        [4.0]\n",
    "                      ])                   \n",
    "                   \n",
    "assert np.allclose(media_righe(m), mat_attesa)\n",
    "\n",
    "\n",
    "m = np.array(\n",
    "    [[3,2,1,4],\n",
    "     [6,2,3,5],\n",
    "     [4,3,6,2],\n",
    "     [4,6,5,4],\n",
    "     [7,2,9,3]])\n",
    "\n",
    "\n",
    "mat_attesa = np.array([ [(3+2+1+4)/4],\n",
    "                        [(6+2+3+5)/4],\n",
    "                        [(4+3+6+2)/4],\n",
    "                        [(4+6+5+4)/4],\n",
    "                        [(7+2+9+3)/4] ])\n",
    "\n",
    "assert np.allclose(media_righe(m), mat_attesa)"
   ]
  },
  {
   "cell_type": "markdown",
   "metadata": {},
   "source": [
    "### media_meta\n",
    "\n",
    "Difficoltà: ✪✪✪"
   ]
  },
  {
   "cell_type": "code",
   "execution_count": 26,
   "metadata": {},
   "outputs": [],
   "source": [
    "def media_meta(mat):\n",
    "    \"\"\" Prende in input una matrice numpy con un numero pari di colonne, e RITORNA in output una matrice numpy 1x2,\n",
    "    il primo elemento sarà la media della metà sinistra della matrice, il secondo elemento sarà la media\n",
    "    della metà destra\n",
    "\n",
    "    Ingredienti:\n",
    "    - per ottenere il numero di colonne diviso 2 come numero intero, usare l'operatore //\n",
    "\n",
    "    \"\"\"\n",
    "    #jupman-raise\n",
    "    righe, colonne = mat.shape\n",
    "    meta_colonne = colonne // 2\n",
    "    \n",
    "    media_sx = 0.0\n",
    "    media_dx = 0.0\n",
    "    \n",
    "    # scrivi qui\n",
    "    for i in range(righe):\n",
    "        for j in range(meta_colonne):\n",
    "            media_sx += mat[i,j]\n",
    "        for j in range(meta_colonne, colonne):\n",
    "            media_dx += mat[i,j]\n",
    "            \n",
    "    mezzi_elementi = righe * meta_colonne\n",
    "    media_sx /=  mezzi_elementi\n",
    "    media_dx /= mezzi_elementi\n",
    "    return np.array([media_sx, media_dx])\n",
    "    #/jupman-raise\n",
    "\n",
    "# INIZIO TEST\n",
    "\n",
    "m = np.array([[3,2,1,4],\n",
    "              [6,2,3,5],\n",
    "              [4,3,6,2],\n",
    "              [4,6,5,4],\n",
    "              [7,2,9,3]])\n",
    "\n",
    "mat_attesa = np.array([(3+2+6+2+4+3+4+6+7+2)/10, (1+4+3+5+6+2+5+4+9+3)/10  ])\n",
    "\n",
    "assert np.allclose( media_meta(m), mat_attesa)\n",
    "# FINE TEST"
   ]
  },
  {
   "cell_type": "markdown",
   "metadata": {},
   "source": [
    "### matxarr\n",
    "\n",
    "✪✪✪ Prende una matrice numpy `n` x `m` e un `ndarray` di `m` elementi, e RITORNA una NUOVA matrice numpy in cui \n",
    "i valori di ogni colonna della matrice di input sono moltiplicati per il corrispondente \n",
    "valore dell'array di `n` elementi.\n"
   ]
  },
  {
   "cell_type": "code",
   "execution_count": 27,
   "metadata": {},
   "outputs": [],
   "source": [
    "\n",
    "def matxarr(mat, arr):\n",
    "    #jupman-raise\n",
    "    ret = np.zeros( mat.shape )\n",
    "    \n",
    "    \n",
    "    for i in range(mat.shape[0]):\n",
    "        for j in range(mat.shape[1]):\n",
    "            ret[i,j] = mat[i,j] * arr[j]            \n",
    "    \n",
    "    return ret\n",
    "    #/jupman-raise\n",
    "    \n",
    "m = np.array([ [3,2,1],\n",
    "               [6,2,3],\n",
    "               [4,3,6],\n",
    "               [4,6,5]])    \n",
    "\n",
    "a = [5, 2, 6]\n",
    "\n",
    "mat_attesa = [ [3*5, 2*2, 1*6],\n",
    "               [6*5, 2*2, 3*6],\n",
    "               [4*5, 3*2, 6*6],\n",
    "               [4*5, 6*2, 5*6]]\n",
    "\n",
    "assert np.allclose(matxarr(m,a), mat_attesa)\n",
    "  \n",
    "  "
   ]
  },
  {
   "cell_type": "markdown",
   "metadata": {},
   "source": [
    "### quadranti\n",
    "\n",
    "✪✪✪ Data una matrice `2n * 2n`, dividere la matrice in 4 parti quadrate uguali \n",
    "(vedi esempio per capire meglio) e RESTITUIRE una NUOVA matrice `2 * 2`\n",
    "contente la media di ogni quadrante\n",
    "\n",
    "Si assume che la matrice sia sempre di dimensioni pari\n",
    "\n",
    "SUGGERIMENTO: per dividere per 2 e ottenere un numero intero, usare l'operatore // \n",
    "\n",
    "\n",
    "Esempio:\n",
    "```\n",
    " 1, 2 , 5 , 7\n",
    " 4, 1 , 8 , 0\n",
    " 2, 0 , 5 , 1 \n",
    " 0, 2 , 1 , 1 \n",
    "```\n",
    "si divide in \n",
    "\n",
    "```\n",
    "  1, 2 | 5 , 7\n",
    "  4, 1 | 8 , 0\n",
    "----------------- \n",
    "  2, 0 | 5 , 1 \n",
    "  0, 2 | 1 , 1 \n",
    "```\n",
    "\n",
    "e si restituisce \n",
    "\n",
    "```\n",
    "  (1+2+4+1)/ 4  | (5+7+8+0)/4                        2.0 , 5.0 \n",
    "  -----------------------------            =>        1.0 , 2.0 \n",
    "  (2+0+0+2)/4   | (5+1+1+1)/4  \n",
    "```\n",
    "\n"
   ]
  },
  {
   "cell_type": "code",
   "execution_count": 28,
   "metadata": {},
   "outputs": [],
   "source": [
    "\n",
    "\n",
    "import numpy as np\n",
    "\n",
    "def quadranti(matrice):\n",
    "    #jupman-raise\n",
    "    ret = np.zeros( (2,2) )\n",
    "    \n",
    "    dim = matrice.shape[0] \n",
    "    n = dim // 2\n",
    "    elementi_per_quadrante = n * n\n",
    "    \n",
    "    for i in range(n):\n",
    "        for j in range(n):\n",
    "            ret[0,0] += matrice[i,j]\n",
    "    ret[0,0] /=   elementi_per_quadrante\n",
    "        \n",
    "      \n",
    "    for i in range(n,dim):\n",
    "        for j in range(n):\n",
    "            ret[1,0] += matrice[i,j]\n",
    "    ret[1,0] /= elementi_per_quadrante\n",
    "\n",
    "    for i in range(n,dim):\n",
    "        for j in range(n,dim):\n",
    "            ret[1,1] += matrice[i,j]\n",
    "    ret[1,1] /= elementi_per_quadrante\n",
    "\n",
    "    for i in range(n):\n",
    "        for j in range(n,dim):\n",
    "            ret[0,1] += matrice[i,j]\n",
    "    ret[0,1] /= elementi_per_quadrante\n",
    "    \n",
    "    return ret\n",
    "    #/jupman-raise\n",
    "    \n",
    "    \n",
    "# INIZIO TEST - NON TOCCARE !\n",
    "\n",
    "assert np.allclose(\n",
    "    quadranti(np.array([\n",
    "                          [3.0, 5.0],\n",
    "                          [4.0, 9.0],\n",
    "                       ])),\n",
    "              np.array([\n",
    "                          [3.0, 5.0],\n",
    "                          [4.0, 9.0],\n",
    "                       ])\n",
    "      )\n",
    "\n",
    "assert np.allclose(\n",
    "    quadranti(np.array([    \n",
    "                         [1.0, 2.0 , 5.0 , 7.0],\n",
    "                         [4.0, 1.0 , 8.0 , 0.0],\n",
    "                         [2.0, 0.0 , 5.0 , 1.0], \n",
    "                         [0.0, 2.0 , 1.0 , 1.0]    \n",
    "                       ])), \n",
    "              np.array([ \n",
    "                         [2.0, 5.0],\n",
    "                         [1.0, 2.0]\n",
    "                       ])) \n",
    "\n",
    "# FINE TEST\n"
   ]
  },
  {
   "cell_type": "markdown",
   "metadata": {},
   "source": [
    "\n",
    "### matrot \n",
    "\n",
    "✪✪✪ RESTITUISCE una NUOVA matrice numpy che ha i numeri della matrice numpy  di input ruotati di una colonna. \n",
    "\n",
    "Per ruotati intendiamo che:\n",
    "\n",
    "- se un numero nella matrice di input si trova alla colonna j, nella matrice  di output si troverà alla colonna j+1 nella stessa riga.\n",
    "- Se un numero si trova nell'ultima colonna, nella matrice di output si troverà nella colonna zeresima.\n",
    "\n",
    "Esempio:\n",
    "\n",
    "Se abbiamo come input \n",
    "\n",
    "```python\n",
    "np.array(   [\n",
    "                [0,1,0],\n",
    "                [1,1,0],\n",
    "                [0,0,0],\n",
    "                [0,1,1]\n",
    "            ])\n",
    "```\n",
    "\n",
    "Ci aspettiamo come output\n",
    "\n",
    "```python\n",
    "np.array(   [\n",
    "                [0,0,1],\n",
    "                [0,1,1],\n",
    "                [0,0,0],\n",
    "                [1,0,1]\n",
    "            ])\n",
    "```\n"
   ]
  },
  {
   "cell_type": "code",
   "execution_count": 29,
   "metadata": {},
   "outputs": [],
   "source": [
    "import numpy as np\n",
    "\n",
    "def matrot(matrice):\n",
    "    #jupman-raise\n",
    "    ret = np.zeros(matrice.shape)\n",
    "\n",
    "    for i in range(matrice.shape[0]):\n",
    "        ret[i,0] = matrice[i,-1]\n",
    "        for j in range(1, matrice.shape[1]):\n",
    "            ret[i,j] = matrice[i,j-1]\n",
    "    return ret\n",
    "    #/jupman-raise\n",
    "\n",
    "m1 = np.array(  [\n",
    "                    [1]\n",
    "                ])\n",
    "mat_attesa1 = np.array( [\n",
    "                            [1]\n",
    "                        ])\n",
    "\n",
    "assert np.allclose(matrot(m1), mat_attesa1)\n",
    "\n",
    "m2 = np.array(  [\n",
    "                    [0,1]\n",
    "                ])\n",
    "mat_attesa2 = np.array( [\n",
    "                            [1,0]\n",
    "                        ])\n",
    "assert np.allclose(matrot(m2), mat_attesa2)\n",
    "\n",
    "m3 = np.array(  [\n",
    "                    [0,1,0]\n",
    "                ])\n",
    "mat_attesa3 = np.array(\n",
    "                [\n",
    "                    [0,0,1]\n",
    "                ])\n",
    "\n",
    "assert np.allclose(matrot(m3), mat_attesa3)\n",
    "\n",
    "m4 = np.array(  [ \n",
    "                    [0,1,0],\n",
    "                    [1,1,0]\n",
    "                ])\n",
    "mat_attesa4 = np.array( [\n",
    "                            [0,0,1],\n",
    "                            [0,1,1]\n",
    "                        ])\n",
    "assert np.allclose(matrot(m4), mat_attesa4)\n",
    "\n",
    "\n",
    "m5 = np.array([\n",
    "                [0,1,0],\n",
    "                [1,1,0],\n",
    "                [0,0,0],\n",
    "                [0,1,1]\n",
    "              ])\n",
    "mat_attesa5 = np.array([\n",
    "                        [0,0,1],\n",
    "                        [0,1,1],\n",
    "                        [0,0,0],\n",
    "                        [1,0,1]\n",
    "                       ])\n",
    "assert np.allclose(matrot(m5), mat_attesa5)"
   ]
  },
  {
   "cell_type": "markdown",
   "metadata": {},
   "source": [
    "### Altri esercizi numpy\n",
    "\n",
    "- Prova a svolgere gli esercizi delle [liste di liste](https://softpython.readthedocs.io/it/latest/exercises/matrices-list-of-lists/list-of-lists-solution.html), ma usando invece Numpy. \n",
    "\n",
    "- Leggi [i tutorial Nicola Zoppetti, parte Numpy](http://www.ifac.cnr.it/~zoppetti/corsopython/) e prova a rendere gli esercizi già visti più efficienti sostituendo ai cicli `for` delle funzioni specifiche di numpy che operano su vettori\n",
    "\n",
    "- (in inglese) [machinelearningplus](https://www.machinelearningplus.com/python/101-numpy-exercises-python/)  Esercizi su Numpy (Fermarsi a difficoltà L1, L2 e se vuoi prova L3)"
   ]
  },
  {
   "cell_type": "code",
   "execution_count": null,
   "metadata": {},
   "outputs": [],
   "source": []
  }
 ],
 "metadata": {
  "celltoolbar": "Edit Metadata",
  "kernelspec": {
   "display_name": "Python 3",
   "language": "python",
   "name": "python3"
  },
  "language_info": {
   "codemirror_mode": {
    "name": "ipython",
    "version": 3
   },
   "file_extension": ".py",
   "mimetype": "text/x-python",
   "name": "python",
   "nbconvert_exporter": "python",
   "pygments_lexer": "ipython3",
   "version": "3.7.3"
  },
  "toc": {
   "base_numbering": 1,
   "nav_menu": {},
   "number_sections": false,
   "sideBar": true,
   "skip_h1_title": false,
   "title_cell": "Table of Contents",
   "title_sidebar": "Contents",
   "toc_cell": false,
   "toc_position": {
    "height": "calc(100% - 180px)",
    "left": "10px",
    "top": "150px",
    "width": "268px"
   },
   "toc_section_display": true,
   "toc_window_display": true
  }
 },
 "nbformat": 4,
 "nbformat_minor": 2
}
