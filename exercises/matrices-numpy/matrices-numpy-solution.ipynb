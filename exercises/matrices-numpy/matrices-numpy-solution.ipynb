{
 "cells": [
  {
   "cell_type": "code",
   "execution_count": 1,
   "metadata": {
    "nbsphinx": "hidden"
   },
   "outputs": [],
   "source": [
    "#Please execute this cell\n",
    "import sys\n",
    "sys.path.append('../../')\n",
    "import jupman"
   ]
  },
  {
   "cell_type": "markdown",
   "metadata": {},
   "source": [
    "# Matrices: numpy solutions\n",
    "\n",
    "## [Download exercises zip](../../_static/matrices-numpy-exercises.zip)\n",
    "\n",
    "[Browse files online](https://github.com/DavidLeoni/datasciprolab/tree/master/exercises/matrices-numpy)\n",
    "\n",
    "\n",
    "## Introduction\n",
    "\n",
    "**References**: \n",
    "\n",
    "- [Andrea Passerini slides A08](http://disi.unitn.it/~passerini/teaching/2019-2020/sci-pro/slides/A08-numpy.pdf)\n",
    "- [Python Data Science Handbook, Numpy part](https://jakevdp.github.io/PythonDataScienceHandbook/02.00-introduction-to-numpy.html)\n",
    "\n",
    "\n",
    "Previously we've seen [Matrices as lists of lists](https://datasciprolab.readthedocs.io/en/latest/exercises/matrices-lists/matrices-lists-solution.html), here we focus on matrices using Numpy library\n",
    "\n",
    "There are substantially two ways to represent matrices in Python: as list of lists, or with the external library [numpy](https://www.numpy.org). The most used is surely numpy, let's see the reason the principal differences:\n",
    "\n",
    "List of lists - [see separate notebook](https://datasciprolab.readthedocs.io/en/latest/exercises/matrices-lists/matrices-lists-solution.html)\n",
    "\n",
    "1. native in Python\n",
    "2. not efficient\n",
    "3. lists are pervasive in Python, probably you will encounter matrices expressed as list of lists anyway\n",
    "4. give an idea of how to build a nested data structure\n",
    "5. may help in understanding important concepts like pointers to memory and copies\n",
    "\n",
    "\n",
    "Numpy - this notebook\n",
    "\n",
    "1. not natively available  in Python\n",
    "2. efficient\n",
    "3. many libraries for scientific calculations are based on numpy (scipy, pandas)\n",
    "4. syntax to access elements is slightly different from list of lists\n",
    "5. in rare cases might give problems of installation and/or conflicts (implementation is not pure Python)\n",
    "\n",
    "Here we will see data types and essential commands of [libreria numpy](https://www.numpy.org), but we will not get into the details.\n",
    "\n",
    "The idea is to simply pass using the the data format `ndarray` without caring too much about performances: for example, even if `for` cycles in Python are slow because they operate cell by cell, we will use them anyway. In case you actually need to execute calculations fast, you will want to use operators on vectors but for this we invite you to read links below\n",
    "\n",
    "\n",
    "<div class=\"alert alert-warning\">\n",
    "\n",
    "**ATTENTION**: if you want to use Numpy in [Python tutor](http://www.pythontutor.com/visualize.html#mode=edit), instead of default interpreter `Python 3.6` you will need to select `Python 3.6 with Anaconda` (at May 2019 results marked as experimental)\n",
    "</div>\n",
    "\n"
   ]
  },
  {
   "cell_type": "markdown",
   "metadata": {},
   "source": [
    "### What to do\n",
    "\n",
    "- unzip exercises in a folder, you should get something like this: \n",
    "\n",
    "```\n",
    "\n",
    "-jupman.py\n",
    "-exercises\n",
    "     |- matrices\n",
    "         |- matrices-numpy-exercise.ipynb     \n",
    "         |- matrices-numpy-solution.ipynb\n",
    "```\n",
    "\n",
    "<div class=\"alert alert-warning\">\n",
    "\n",
    "**WARNING**: to correctly visualize the notebook, it MUST be in an unzipped folder !\n",
    "</div>\n",
    "\n",
    "\n",
    "- open Jupyter Notebook from that folder. Two things should open, first a console and then browser. The browser should show a file list: navigate the list and open the notebook `exercises/matrix-networks/matrix-networks-exercise.ipynb`\n",
    "- Go on reading that notebook, and follow instuctions inside.\n",
    "\n",
    "\n",
    "Shortcut keys:\n",
    "\n",
    "- to execute Python code inside a Jupyter cell, press `Control + Enter`\n",
    "- to execute Python code inside a Jupyter cell AND select next cell, press `Shift + Enter`\n",
    "- to execute Python code inside a Jupyter cell AND a create a new cell aftwerwards, press `Alt + Enter`\n",
    "- If the notebooks look stuck, try to select `Kernel -> Restart`"
   ]
  },
  {
   "cell_type": "markdown",
   "metadata": {},
   "source": [
    "First of all, we import the library, and for convenience we rename it to 'np':"
   ]
  },
  {
   "cell_type": "code",
   "execution_count": 2,
   "metadata": {},
   "outputs": [],
   "source": [
    "import numpy as np"
   ]
  },
  {
   "cell_type": "markdown",
   "metadata": {},
   "source": [
    "\n",
    "With lists of lists we have often built the matrices one row at a time, adding lists as needed. In Numpy instead we usually create in one shot the whole matrix, filling it with zeroes.\n",
    "\n",
    "In particular, this command creates an `ndarray` filled with zeroes:"
   ]
  },
  {
   "cell_type": "code",
   "execution_count": 3,
   "metadata": {},
   "outputs": [],
   "source": [
    "mat = np.zeros( (2,3)  )   # 2 rows, 3 columns"
   ]
  },
  {
   "cell_type": "code",
   "execution_count": 4,
   "metadata": {},
   "outputs": [
    {
     "data": {
      "text/plain": [
       "array([[0., 0., 0.],\n",
       "       [0., 0., 0.]])"
      ]
     },
     "execution_count": 4,
     "metadata": {},
     "output_type": "execute_result"
    }
   ],
   "source": [
    "mat"
   ]
  },
  {
   "cell_type": "markdown",
   "metadata": {},
   "source": [
    "Note like inside `array( )` the content seems represented like a list of lists, BUT in reality in physical memory the data is structured in a linear sequence which allows Python to access numbers in a faster way."
   ]
  },
  {
   "cell_type": "markdown",
   "metadata": {},
   "source": [
    "\n",
    "To access data or overwrite square bracket notation is used, with the importantdifference that in numpy you can write _bot_ the indeces _inside_ the same brackets, separated by a comma:\n",
    "\n",
    "\n",
    "<div class=\"alert alert-warning\">\n",
    "\n",
    "**ATTENTION**: notation `mat[i,j]` is only for numpy, with list of lists **does not** work!\n",
    "<div>"
   ]
  },
  {
   "cell_type": "markdown",
   "metadata": {},
   "source": [
    "Let's put number `0` in cell at row `0` and column `1`"
   ]
  },
  {
   "cell_type": "code",
   "execution_count": 5,
   "metadata": {},
   "outputs": [],
   "source": [
    "mat[0,1] = 9"
   ]
  },
  {
   "cell_type": "code",
   "execution_count": 6,
   "metadata": {},
   "outputs": [
    {
     "data": {
      "text/plain": [
       "array([[0., 9., 0.],\n",
       "       [0., 0., 0.]])"
      ]
     },
     "execution_count": 6,
     "metadata": {},
     "output_type": "execute_result"
    }
   ],
   "source": [
    "mat"
   ]
  },
  {
   "cell_type": "markdown",
   "metadata": {},
   "source": [
    "Let's access cell at row `0` and column `1`"
   ]
  },
  {
   "cell_type": "code",
   "execution_count": 7,
   "metadata": {},
   "outputs": [
    {
     "data": {
      "text/plain": [
       "9.0"
      ]
     },
     "execution_count": 7,
     "metadata": {},
     "output_type": "execute_result"
    }
   ],
   "source": [
    "mat[0,1]"
   ]
  },
  {
   "cell_type": "markdown",
   "metadata": {},
   "source": [
    "We put number `7` into cell at row `1` and column `2`"
   ]
  },
  {
   "cell_type": "code",
   "execution_count": 8,
   "metadata": {},
   "outputs": [],
   "source": [
    "mat[1,2] = 7"
   ]
  },
  {
   "cell_type": "code",
   "execution_count": 9,
   "metadata": {},
   "outputs": [
    {
     "data": {
      "text/plain": [
       "array([[0., 9., 0.],\n",
       "       [0., 0., 7.]])"
      ]
     },
     "execution_count": 9,
     "metadata": {},
     "output_type": "execute_result"
    }
   ],
   "source": [
    "mat"
   ]
  },
  {
   "cell_type": "markdown",
   "metadata": {},
   "source": [
    "To get the dimension, we write like the following:\n",
    "\n",
    "    \n",
    "<div class=\"alert alert-warning\">\n",
    "\n",
    "**ATTENTIONE**: after `shape` there are **no** round parenthesis !\n",
    "\n",
    "`shape` is an attribute, not a function to call\n",
    "</div>"
   ]
  },
  {
   "cell_type": "code",
   "execution_count": 10,
   "metadata": {},
   "outputs": [
    {
     "data": {
      "text/plain": [
       "(2, 3)"
      ]
     },
     "execution_count": 10,
     "metadata": {},
     "output_type": "execute_result"
    }
   ],
   "source": [
    "mat.shape"
   ]
  },
  {
   "cell_type": "markdown",
   "metadata": {},
   "source": [
    "\n",
    "If we want to memorize the dimension in separate variables, we can use thi more pythonic mode (note the comma between `num_rows` and `num_cols`:"
   ]
  },
  {
   "cell_type": "code",
   "execution_count": 11,
   "metadata": {},
   "outputs": [],
   "source": [
    "num_rows, num_cols = mat.shape"
   ]
  },
  {
   "cell_type": "code",
   "execution_count": 12,
   "metadata": {},
   "outputs": [
    {
     "data": {
      "text/plain": [
       "2"
      ]
     },
     "execution_count": 12,
     "metadata": {},
     "output_type": "execute_result"
    }
   ],
   "source": [
    "num_rows"
   ]
  },
  {
   "cell_type": "code",
   "execution_count": 13,
   "metadata": {},
   "outputs": [
    {
     "data": {
      "text/plain": [
       "3"
      ]
     },
     "execution_count": 13,
     "metadata": {},
     "output_type": "execute_result"
    }
   ],
   "source": [
    "num_cols"
   ]
  },
  {
   "cell_type": "markdown",
   "metadata": {},
   "source": [
    "**✪ Exercise**: try to write like the following, what happens? \n",
    "\n",
    "```python\n",
    "mat[0,0] = \"c\"\n",
    "```"
   ]
  },
  {
   "cell_type": "code",
   "execution_count": 14,
   "metadata": {},
   "outputs": [],
   "source": [
    "# write here\n",
    "\n"
   ]
  },
  {
   "cell_type": "markdown",
   "metadata": {},
   "source": [
    "We can also create an `ndarray` starting from a list of lists:"
   ]
  },
  {
   "cell_type": "code",
   "execution_count": 15,
   "metadata": {},
   "outputs": [],
   "source": [
    "\n",
    "mat = np.array( [ [5.0,8.0,1.0], \n",
    "                  [4.0,3.0,2.0]])"
   ]
  },
  {
   "cell_type": "code",
   "execution_count": 16,
   "metadata": {},
   "outputs": [
    {
     "data": {
      "text/plain": [
       "array([[5., 8., 1.],\n",
       "       [4., 3., 2.]])"
      ]
     },
     "execution_count": 16,
     "metadata": {},
     "output_type": "execute_result"
    }
   ],
   "source": [
    "mat"
   ]
  },
  {
   "cell_type": "code",
   "execution_count": 17,
   "metadata": {},
   "outputs": [
    {
     "data": {
      "text/plain": [
       "numpy.ndarray"
      ]
     },
     "execution_count": 17,
     "metadata": {},
     "output_type": "execute_result"
    }
   ],
   "source": [
    "type(mat)"
   ]
  },
  {
   "cell_type": "code",
   "execution_count": 18,
   "metadata": {},
   "outputs": [
    {
     "data": {
      "text/plain": [
       "3.0"
      ]
     },
     "execution_count": 18,
     "metadata": {},
     "output_type": "execute_result"
    }
   ],
   "source": [
    "mat[1,1]"
   ]
  },
  {
   "cell_type": "markdown",
   "metadata": {},
   "source": [
    "**✪ Exercise**: Try to write like this and check what happens:\n",
    "    \n",
    "```python\n",
    "mat[1,1.0]\n",
    "```"
   ]
  },
  {
   "cell_type": "code",
   "execution_count": 19,
   "metadata": {},
   "outputs": [],
   "source": [
    "# scrivi qui\n"
   ]
  },
  {
   "cell_type": "markdown",
   "metadata": {},
   "source": [
    "## Verify comprehension"
   ]
  },
  {
   "cell_type": "markdown",
   "metadata": {},
   "source": [
    "\n",
    "### odd\n",
    "\n",
    "✪✪✪ Takes a numpy matrix `mat` of dimension `nrows` by `ncols` containing integer numbers and RETURN a NEW numpy matrix of dimension `nrows` by `ncols` which is like the original, ma in the cells which contained even numbers now there will be odd numbers obtained by summing `1` to the existing even number.\n",
    "\n",
    "Example:\n",
    "\n",
    "```python\n",
    "\n",
    "odd(np.array( [ \n",
    "                    [2,5,6,3],\n",
    "                    [8,4,3,5],\n",
    "                    [6,1,7,9]\n",
    "               ]))\n",
    "```\n",
    "Must give as output\n",
    "\n",
    "```python\n",
    "array([[ 3.,  5.,  7.,  3.],\n",
    "       [ 9.,  5.,  3.,  5.],\n",
    "       [ 7.,  1.,  7.,  9.]])\n",
    "```\n",
    "\n",
    "Hints: \n",
    "\n",
    "- Since you need to return a matrix, start with creating an empty one\n",
    "- go through the whole input matrix with indeces `i` and `j`"
   ]
  },
  {
   "cell_type": "code",
   "execution_count": 20,
   "metadata": {},
   "outputs": [],
   "source": [
    "import numpy as np\n",
    "\n",
    "def odd(mat):\n",
    "    #jupman-raise\n",
    "    nrows, ncols = mat.shape\n",
    "    ret = np.zeros( (nrows, ncols) )\n",
    "    \n",
    "\n",
    "    for i in range(nrows):\n",
    "        for j in range(ncols):\n",
    "            if mat[i,j] % 2 == 0:\n",
    "                ret[i,j] = mat[i,j] + 1\n",
    "            else:\n",
    "                ret[i,j] = mat[i,j]\n",
    "    return ret\n",
    "    #/jupman-raise\n",
    "\n",
    "\n",
    "# TEST START - DO NOT TOUCH!      \n",
    "# if you wrote the whole code correct, and execute the cell, Python shouldn't raise `AssertionError`\n",
    "\n",
    "m1 = np.array([ \n",
    "                [2],\n",
    "              ])\n",
    "m2 = np.array([\n",
    "                [3]\n",
    "              ])\n",
    "assert np.allclose(odd(m1),\n",
    "                   m2)\n",
    "assert m1[0][0] == 2  # checks we are not modifying original matrix\n",
    "\n",
    "\n",
    "m3 = np.array( [ \n",
    "                    [2,5,6,3],\n",
    "                    [8,4,3,5],\n",
    "                    [6,1,7,9]\n",
    "               ])\n",
    "m4 = np.array( [ \n",
    "                   [3,5,7,3],\n",
    "                   [9,5,3,5],\n",
    "                   [7,1,7,9]\n",
    "                             ])\n",
    "assert np.allclose(odd(m3), \n",
    "                   m4)\n",
    "\n",
    "# TEST END"
   ]
  },
  {
   "cell_type": "markdown",
   "metadata": {},
   "source": [
    "### doublealt\n",
    "\n",
    "✪✪✪ Takes a numpy matrix `mat` of dimensions `nrows` x `ncols` containing integer numbers and RETURN a NEW numpy matrix of dimension `nrows` x `ncols` having at rows of even **index** the numbers of original matrix multiplied by two, and at rows of odd **index** the same numbers as the original matrix.\n",
    "\n",
    "Example:\n",
    "\n",
    "```python\n",
    "m  = np.array( [                      #  index\n",
    "                    [ 2, 5, 6, 3],    #    0     even\n",
    "                    [ 8, 4, 3, 5],    #    1     odd\n",
    "                    [ 7, 1, 6, 9],    #    2     even\n",
    "                    [ 5, 2, 4, 1],    #    3     odd\n",
    "                    [ 6, 3, 4, 3]     #    4     even\n",
    "               ])\n",
    "```\n",
    "\n",
    "A call to\n",
    "\n",
    "```python\n",
    "doublealt(m)\n",
    "```\n",
    "\n",
    "will return the numpy matrix:\n",
    "\n",
    "```python\n",
    "array([[ 4, 10, 12,  6],              \n",
    "       [ 8,  4,  3,  5],              \n",
    "       [14,  2, 12, 18],             \n",
    "       [ 5,  2,  4,  1],\n",
    "       [12,  6,  8,  6]])\n",
    "```"
   ]
  },
  {
   "cell_type": "code",
   "execution_count": 21,
   "metadata": {},
   "outputs": [],
   "source": [
    "import numpy as np\n",
    "\n",
    "def doublealt(mat):\n",
    "    #jupman-raise\n",
    "    nrows, ncols = mat.shape\n",
    "    ret = np.zeros( (nrows, ncols) )\n",
    "    \n",
    "    for i in range(nrows):\n",
    "        for j in range(ncols):\n",
    "            if i % 2 == 0:\n",
    "                ret[i,j] = mat[i,j] * 2\n",
    "            else:\n",
    "                ret[i,j] = mat[i,j]\n",
    "    return ret\n",
    "    #/jupman-raise\n",
    "\n",
    "\n",
    "# TEST START - DO NOT TOUCH!      \n",
    "# if you wrote the whole code correct, and execute the cell, Python shouldn't raise `AssertionError`\n",
    "\n",
    "m1 = np.array([ \n",
    "                [2],\n",
    "              ])\n",
    "m2 = np.array([\n",
    "                [4]\n",
    "              ])\n",
    "assert np.allclose(doublealt(m1),\n",
    "                   m2)\n",
    "assert m1[0][0] == 2  # controlla non si stia modificando la matrice originale\n",
    "\n",
    "\n",
    "m3 = np.array( [ \n",
    "                    [ 2, 5, 6],\n",
    "                    [ 8, 4, 3]\n",
    "               ])\n",
    "m4 = np.array( [ \n",
    "                    [ 4,10,12],\n",
    "                    [ 8, 4, 3]\n",
    "               ])\n",
    "assert np.allclose(doublealt(m3), \n",
    "                   m4)\n",
    "\n",
    "\n",
    "m5 = np.array( [ \n",
    "                    [ 2, 5, 6, 3],\n",
    "                    [ 8, 4, 3, 5],\n",
    "                    [ 7, 1, 6, 9],\n",
    "                    [ 5, 2, 4, 1],\n",
    "                    [ 6, 3, 4, 3]\n",
    "               ])\n",
    "m6 = np.array( [ \n",
    "                    [ 4,10,12, 6],\n",
    "                    [ 8, 4, 3, 5],\n",
    "                    [14, 2,12,18],\n",
    "                    [ 5, 2, 4, 1],\n",
    "                    [12, 6, 8, 6]\n",
    "               ])\n",
    "assert np.allclose(doublealt(m5), \n",
    "                   m6)\n",
    "\n",
    "\n",
    "# TEST END"
   ]
  },
  {
   "cell_type": "markdown",
   "metadata": {},
   "source": [
    "### frame\n",
    "\n",
    "✪✪✪ RETURN a NEW numpy matrix of `n` rows and `n` columns, in which all the values are zero except those on borders, which must be equal to a given `k`       \n",
    "\n",
    "For example, `frame(4, 7.0)` must give:\n",
    "\n",
    "```python\n",
    "    array([[7.0, 7.0, 7.0, 7.0],\n",
    "           [7.0, 0.0, 0.0, 7.0],\n",
    "           [7.0, 0.0, 0.0, 7.0],\n",
    "           [7.0, 7.0, 7.0, 7.0]])\n",
    "```\n",
    "\n",
    "Ingredients:\n",
    "\n",
    "- create a matrix filled with zeros. ATTENTION: which dimensions does it have? Do you need `n` or `k` ? Read WELL the text.\n",
    "- start by filling the cells of first row with `k` values. To iterate along the first row columns, use a `for j in range(n)`\n",
    "- fill other rows and columns, using appropriate `for`\n"
   ]
  },
  {
   "cell_type": "code",
   "execution_count": 22,
   "metadata": {},
   "outputs": [],
   "source": [
    "def frame(n, k):\n",
    "    #jupman-raise\n",
    "    mat = np.zeros( (n,n)  )\n",
    "    for i in range(n):\n",
    "        mat[0, i] = k\n",
    "        mat[i, 0] = k\n",
    "        mat[i, n-1] = k\n",
    "        mat[n-1, i] = k\n",
    "    return mat\n",
    "    #/jupman-raise\n",
    "    \n",
    "\n",
    "# TEST START - DO NOT TOUCH!      \n",
    "# if you wrote the whole code correct, and execute the cell, Python shouldn't raise `AssertionError`\n",
    "\n",
    "expected_mat = np.array( [[7.0, 7.0, 7.0, 7.0],\n",
    "                         [7.0, 0.0, 0.0, 7.0],\n",
    "                         [7.0, 0.0, 0.0, 7.0],\n",
    "                         [7.0, 7.0, 7., 7.0]])\n",
    "# all_close ritorna True se tutti i valori nella prima matrice sono abbastanza vicini \n",
    "# (cioè entro una certa tolleranza) ai corrispondenti nella seconda \n",
    "assert np.allclose(frame(4, 7.0), expected_mat) \n",
    "\n",
    "expected_mat = np.array( [ [7.0]\n",
    "                       ])\n",
    "assert np.allclose(frame(1, 7.0), expected_mat) \n",
    "\n",
    "expected_mat = np.array( [ [7.0, 7.0],\n",
    "                         [7.0, 7.0]\n",
    "                       ])\n",
    "assert np.allclose(frame(2, 7.0), expected_mat) \n",
    "# TEST END"
   ]
  },
  {
   "cell_type": "markdown",
   "metadata": {},
   "source": [
    "### chessboard\n",
    "\n",
    "✪✪✪ RETURN a NEW numpy matrix of `n` rows and `n` columns, in which all cells alternate zeros and ones.\n",
    "\n",
    "\n",
    "For example, `chessboard(4)` must give:\n",
    "   \n",
    " \n",
    "```python\n",
    "    array([[1.0, 0.0, 1.0, 0.0],\n",
    "           [0.0, 1.0, 0.0, 1.0],\n",
    "           [1.0, 0.0, 1.0, 0.0],\n",
    "           [0.0, 1.0, 0.0, 1.0]])\n",
    "```\n",
    "\n",
    "Ingredients:\n",
    "\n",
    "- to alternate, you can use `range` in the form in which takes 3 parameters, \n",
    "\n",
    "- per alternare, potete usare la range nella forma in cui prende 3 parametri, for example `range(0,n,2)` starts from 0, arrives to `n` excluded by jumping one item at a time, generating 0,2,4,6,8, ....\n",
    "- instead range(1,n,2) would generate 1,3,5,7, ...\n"
   ]
  },
  {
   "cell_type": "code",
   "execution_count": 23,
   "metadata": {},
   "outputs": [],
   "source": [
    "def chessboard(n):  \n",
    "    #jupman-raise\n",
    "    mat = np.zeros( (n,n)  )\n",
    "    \n",
    "    for i in range(0,n, 2):\n",
    "        for j in range(0,n, 2):\n",
    "            mat[i, j] = 1\n",
    "\n",
    "    for i in range(1,n, 2):\n",
    "        for j in range(1,n, 2):\n",
    "            mat[i, j] = 1\n",
    "            \n",
    "    return mat\n",
    "    #/jupman-raise\n",
    "\n",
    "# TEST START - DO NOT TOUCH!      \n",
    "# if you wrote the whole code correct, and execute the cell, Python shouldn't raise `AssertionError`\n",
    "    \n",
    "expected_mat = np.array([[1.0, 0.0, 1.0, 0.0],\n",
    "                        [0.0, 1.0, 0.0, 1.0],\n",
    "                        [1.0, 0.0, 1.0, 0.0],\n",
    "                        [0.0, 1.0, 0.0, 1.0]])\n",
    "\n",
    "# all_close return True if all the values in the first matrix are close enough\n",
    "# (that is, within a certain tolerance) to the corresponding ones in the second matrix\n",
    "assert np.allclose(chessboard(4), expected_mat) \n",
    "\n",
    "expected_mat = np.array( [ [1.0]\n",
    "                         ])\n",
    "assert np.allclose(chessboard(1), expected_mat) \n",
    "\n",
    "expected_mat = np.array( [ [1.0, 0.0],\n",
    "                         [0.0, 1.0]\n",
    "                       ])\n",
    "assert np.allclose(chessboard(2), expected_mat) \n",
    "# TEST END"
   ]
  },
  {
   "cell_type": "markdown",
   "metadata": {},
   "source": [
    "### altsum\n",
    "\n",
    "✪✪✪ MODIFY the input numpy matrix (n x n), by summing to all the odd rows the even rows. For example\n",
    "\n",
    "```python\n",
    "    m = [[1.0, 3.0, 2.0, 5.0],\n",
    "         [2.0, 8.0, 5.0, 9.0],\n",
    "         [6.0, 9.0, 7.0, 2.0],\n",
    "         [4.0, 7.0, 2.0, 4.0]]\n",
    "    altsum(m)\n",
    "```    \n",
    "\n",
    "after the call to altsum `m` should be:\n",
    "\n",
    "```python\n",
    "    m = [[1.0, 3.0, 2.0, 5.0],\n",
    "         [3.0, 11.0,7.0, 14.0],\n",
    "         [6.0, 9.0, 7.0, 2.0],\n",
    "         [10.0,16.0,9.0, 6.0]]\n",
    "```    \n",
    "\n",
    "Ingredients:\n",
    "\n",
    "- to alternate, you can use `range` in the form in which takes 3 parameters, for example `range(0,n,2)` starts from 0, arrives to `n` excluded by jumping one item at a time, generating 0,2,4,6,8, ....\n",
    "- instead `range(1,n,2)` would generate 1,3,5,7, .."
   ]
  },
  {
   "cell_type": "code",
   "execution_count": 24,
   "metadata": {},
   "outputs": [],
   "source": [
    "def altsum(mat):\n",
    "    #jupman-raise\n",
    "    nrows, ncols = mat.shape \n",
    "    for i in range(1,nrows, 2):\n",
    "        for j in range(0,ncols):\n",
    "            mat[i, j] = mat[i,j] + mat[i-1, j] \n",
    "    #/jupman-raise\n",
    "\n",
    "# TEST START - DO NOT TOUCH!      \n",
    "# if you wrote the whole code correct, and execute the cell, Python shouldn't raise `AssertionError`\n",
    "  \n",
    "m1 = np.array( [ \n",
    "                    [1.0, 3.0, 2.0, 5.0],\n",
    "                    [2.0, 8.0, 5.0, 9.0],\n",
    "                    [6.0, 9.0, 7.0, 2.0],\n",
    "                    [4.0, 7.0, 2.0, 4.0]\n",
    "               ]) \n",
    "\n",
    "r1 = np.array(    [ \n",
    "                      [1.0, 3.0, 2.0, 5.0],\n",
    "                      [3.0, 11.0,7.0, 14.0],\n",
    "                      [6.0, 9.0, 7.0, 2.0],\n",
    "                      [10.0,16.0,9.0, 6.0]\n",
    "                  ])\n",
    "\n",
    "altsum(m1)\n",
    "assert np.allclose(m1, r1) \n",
    "\n",
    "m2 = np.array( [ [5.0]  ])\n",
    "r2 = np.array( [ [5.0] ])\n",
    "altsum(m1)                  \n",
    "assert np.allclose(m2, r2) \n",
    "\n",
    "\n",
    "m3 = np.array( [ [6.0, 1.0],\n",
    "                 [3.0, 2.0]\n",
    "               ])                    \n",
    "r3 = np.array( [ [6.0, 1.0],\n",
    "                 [9.0, 3.0]\n",
    "               ])\n",
    "altsum(m3)                    \n",
    "assert np.allclose(m3, r3) \n",
    "# TEST END"
   ]
  },
  {
   "cell_type": "markdown",
   "metadata": {},
   "source": [
    "### avg_rows\n",
    "\n",
    "✪✪✪ Takes a numpy matrix n x m and RETURN a NEW numpy matrix consisting in a single column in which the values are the average of the values in corresponding rows of input matrix\n",
    "\n",
    "\n",
    "Example:\n",
    "\n",
    "Input: 5x4 matrix\n",
    "\n",
    "```\n",
    "3 2 1 4\n",
    "6 2 3 5\n",
    "4 3 6 2\n",
    "4 6 5 4\n",
    "7 2 9 3\n",
    "```\n",
    "\n",
    "Output: 5x1 matrix\n",
    "\n",
    "```\n",
    "(3+2+1+4)/4 \n",
    "(6+2+3+5)/4\n",
    "(4+3+6+2)/4\n",
    "(4+6+5+4)/4\n",
    "(7+2+9+3)/4\n",
    "```\n",
    "\n",
    "Ingredients:\n",
    "\n",
    "- create a matrix n x 1 to return, filling it with zeros\n",
    "- visit all cells of original matrix with two nested fors\n",
    "- during visit, accumulate in the matrix to return the sum of elements takes from each row of original matrix\n",
    "- once completed the sum of a row, you can divide it by the dimension of columns of original matrix\n",
    "- return the matrix"
   ]
  },
  {
   "cell_type": "code",
   "execution_count": 25,
   "metadata": {},
   "outputs": [],
   "source": [
    "def avg_rows(mat):\n",
    "    #jupman-raise\n",
    "    nrows, ncols = mat.shape\n",
    "\n",
    "    ret = np.zeros( (nrows,1)  )\n",
    "\n",
    "    for i in range(nrows):\n",
    "\n",
    "        for j in range(ncols):\n",
    "            ret[i] += mat[i,j] \n",
    "\n",
    "        ret[i] = ret[i] / ncols\n",
    "        # for brevity we could also write\n",
    "        # ret[i] /= colonne      \n",
    "    #/jupman-raise\n",
    "    return ret\n",
    "  \n",
    "# TEST START - DO NOT TOUCH!      \n",
    "# if you wrote the whole code correct, and execute the cell, Python shouldn't raise `AssertionError`\n",
    "    \n",
    "m1 = np.array([ [5.0] ])\n",
    "r1 = np.array([ [5.0] ])\n",
    "assert np.allclose(avg_rows(m1), r1)\n",
    "\n",
    "m2 = np.array([ [5.0, 3.0] ])            \n",
    "r2 = np.array([ [4.0] ])                                      \n",
    "assert np.allclose(avg_rows(m2), r2)\n",
    "\n",
    "\n",
    "m3 = np.array([ [3,2,1,4],\n",
    "                [6,2,3,5],\n",
    "                [4,3,6,2],\n",
    "                [4,6,5,4],\n",
    "                [7,2,9,3] ])\n",
    "\n",
    "r3 = np.array([ [(3+2+1+4)/4],\n",
    "                [(6+2+3+5)/4],\n",
    "                [(4+3+6+2)/4],\n",
    "                [(4+6+5+4)/4],\n",
    "                [(7+2+9+3)/4] ])\n",
    "\n",
    "assert np.allclose(avg_rows(m3), r3)\n",
    "# TEST END"
   ]
  },
  {
   "cell_type": "markdown",
   "metadata": {},
   "source": [
    "### avg_half\n",
    "\n",
    "✪✪✪ Takes as input a numpy matrix  withan even number of columns, and RETURN as output a numpy matrix 1x2, in which the first element will be the average of the left half of the matrix, and the second element will be the average of the right half.\n",
    "\n",
    "Ingredients: \n",
    "\n",
    "- to obtain the number of columns divided by two as integer number, use `//` operator\n"
   ]
  },
  {
   "cell_type": "code",
   "execution_count": 26,
   "metadata": {},
   "outputs": [],
   "source": [
    "def avg_half(mat):\n",
    "    #jupman-raise\n",
    "    nrows, ncols = mat.shape\n",
    "    half_cols = ncols // 2\n",
    "    \n",
    "    avg_sx = 0.0\n",
    "    avg_dx = 0.0\n",
    "    \n",
    "    # scrivi qui\n",
    "    for i in range(nrows):\n",
    "        for j in range(half_cols):\n",
    "            avg_sx += mat[i,j]\n",
    "        for j in range(half_cols, ncols):\n",
    "            avg_dx += mat[i,j]\n",
    "            \n",
    "    half_elements = nrows * half_cols\n",
    "    avg_sx /=  half_elements\n",
    "    avg_dx /= half_elements\n",
    "    return np.array([avg_sx, avg_dx])\n",
    "    #/jupman-raise\n",
    "\n",
    "# TEST START - DO NOT TOUCH!      \n",
    "# if you wrote the whole code correct, and execute the cell, Python shouldn't raise `AssertionError`\n",
    "\n",
    "m1 = np.array([[3,2,1,4],\n",
    "              [6,2,3,5],\n",
    "              [4,3,6,2],\n",
    "              [4,6,5,4],\n",
    "              [7,2,9,3]])\n",
    "\n",
    "r1 = np.array([(3+2+6+2+4+3+4+6+7+2)/10, (1+4+3+5+6+2+5+4+9+3)/10  ])\n",
    "\n",
    "assert np.allclose( avg_half(m1), r1)\n",
    "# TEST END"
   ]
  },
  {
   "cell_type": "markdown",
   "metadata": {},
   "source": [
    "### matxarr\n",
    "\n",
    "✪✪✪ Takes a numpy matrix `n` x `m` and an `ndarray` of `m` elements, and RETURN a NEW numpy matrix in which the values of each column of input matrix are multiplied by the corresponding value in the `n` elements array.\n"
   ]
  },
  {
   "cell_type": "code",
   "execution_count": 27,
   "metadata": {},
   "outputs": [],
   "source": [
    "\n",
    "def matxarr(mat, arr):\n",
    "    #jupman-raise\n",
    "    ret = np.zeros( mat.shape )\n",
    "    \n",
    "    for i in range(mat.shape[0]):\n",
    "        for j in range(mat.shape[1]):\n",
    "            ret[i,j] = mat[i,j] * arr[j]            \n",
    "    \n",
    "    return ret\n",
    "    #/jupman-raise\n",
    "    \n",
    "# TEST START - DO NOT TOUCH!      \n",
    "# if you wrote the whole code correct, and execute the cell, Python shouldn't raise `AssertionError`\n",
    "m1 = np.array([ [3,2,1],\n",
    "               [6,2,3],\n",
    "               [4,3,6],\n",
    "               [4,6,5]])    \n",
    "\n",
    "a1 = [5, 2, 6]\n",
    "\n",
    "r1 = [ [3*5, 2*2, 1*6],\n",
    "               [6*5, 2*2, 3*6],\n",
    "               [4*5, 3*2, 6*6],\n",
    "               [4*5, 6*2, 5*6]]\n",
    "\n",
    "assert np.allclose(matxarr(m1,a1), r1)\n",
    "# TEST END"
   ]
  },
  {
   "cell_type": "markdown",
   "metadata": {},
   "source": [
    "### quadrants\n",
    "\n",
    "✪✪✪ Given a matrix `2n * 2n`, divide the matrix in 4 equal square parts   (see example) and RETURN a NEW matrix `2 * 2` containing the average of each quadrant.\n",
    "\n",
    "We assume the matrix is always of even dimensions\n",
    "\n",
    "HINT: to divide by two and obtain an integer number, use `//` operator\n",
    "\n",
    "\n",
    "Example:\n",
    "\n",
    "```\n",
    " 1, 2 , 5 , 7\n",
    " 4, 1 , 8 , 0\n",
    " 2, 0 , 5 , 1 \n",
    " 0, 2 , 1 , 1 \n",
    "```\n",
    "can be divided in \n",
    "\n",
    "```\n",
    "  1, 2 | 5 , 7\n",
    "  4, 1 | 8 , 0\n",
    "----------------- \n",
    "  2, 0 | 5 , 1 \n",
    "  0, 2 | 1 , 1 \n",
    "```\n",
    "\n",
    "and returns\n",
    "\n",
    "```\n",
    "  (1+2+4+1)/ 4  | (5+7+8+0)/4                        2.0 , 5.0 \n",
    "  -----------------------------            =>        1.0 , 2.0 \n",
    "  (2+0+0+2)/4   | (5+1+1+1)/4  \n",
    "```\n",
    "\n"
   ]
  },
  {
   "cell_type": "code",
   "execution_count": 28,
   "metadata": {},
   "outputs": [],
   "source": [
    "\n",
    "\n",
    "import numpy as np\n",
    "\n",
    "def quadrants(mat):\n",
    "    #jupman-raise\n",
    "    ret = np.zeros( (2,2) )\n",
    "    \n",
    "    dim = mat.shape[0] \n",
    "    n = dim // 2\n",
    "    elements_per_quad = n * n\n",
    "    \n",
    "    for i in range(n):\n",
    "        for j in range(n):\n",
    "            ret[0,0] += mat[i,j]\n",
    "    ret[0,0] /=   elements_per_quad\n",
    "        \n",
    "      \n",
    "    for i in range(n,dim):\n",
    "        for j in range(n):\n",
    "            ret[1,0] += mat[i,j]\n",
    "    ret[1,0] /= elements_per_quad\n",
    "\n",
    "    for i in range(n,dim):\n",
    "        for j in range(n,dim):\n",
    "            ret[1,1] += mat[i,j]\n",
    "    ret[1,1] /= elements_per_quad\n",
    "\n",
    "    for i in range(n):\n",
    "        for j in range(n,dim):\n",
    "            ret[0,1] += mat[i,j]\n",
    "    ret[0,1] /= elements_per_quad\n",
    "    \n",
    "    return ret\n",
    "    #/jupman-raise\n",
    "        \n",
    "# TEST START - DO NOT TOUCH!      \n",
    "# if you wrote the whole code correct, and execute the cell, Python shouldn't raise `AssertionError`\n",
    "\n",
    "assert np.allclose(\n",
    "    quadrants(np.array([\n",
    "                          [3.0, 5.0],\n",
    "                          [4.0, 9.0],\n",
    "                       ])),\n",
    "              np.array([\n",
    "                          [3.0, 5.0],\n",
    "                          [4.0, 9.0],\n",
    "                       ]))\n",
    "\n",
    "assert np.allclose(\n",
    "    quadrants(np.array([    \n",
    "                         [1.0, 2.0 , 5.0 , 7.0],\n",
    "                         [4.0, 1.0 , 8.0 , 0.0],\n",
    "                         [2.0, 0.0 , 5.0 , 1.0], \n",
    "                         [0.0, 2.0 , 1.0 , 1.0]    \n",
    "                       ])), \n",
    "              np.array([ \n",
    "                         [2.0, 5.0],\n",
    "                         [1.0, 2.0]\n",
    "                       ])) \n",
    "\n",
    "# TEST END\n"
   ]
  },
  {
   "cell_type": "markdown",
   "metadata": {},
   "source": [
    "\n",
    "### matrot \n",
    "\n",
    "✪✪✪ RETURN a NEW numpy matrix which has the numbers of input matrix rotated by a column. \n",
    "\n",
    "With rotation we mean that:\n",
    "\n",
    "- if a number of input matrix is found in column `j`, in the output matrix it will be in the column `j+1` in the same row.\n",
    "- if a number is found in the last column, in the output matrix it will be in the zertoth column\n",
    "\n",
    "Example:\n",
    "\n",
    "\n",
    "If we have as input:\n",
    "\n",
    "```python\n",
    "np.array(   [\n",
    "                [0,1,0],\n",
    "                [1,1,0],\n",
    "                [0,0,0],\n",
    "                [0,1,1]\n",
    "            ])\n",
    "```\n",
    "\n",
    "We expect as output:\n",
    "\n",
    "```python\n",
    "np.array(   [\n",
    "                [0,0,1],\n",
    "                [0,1,1],\n",
    "                [0,0,0],\n",
    "                [1,0,1]\n",
    "            ])\n",
    "```\n"
   ]
  },
  {
   "cell_type": "code",
   "execution_count": 29,
   "metadata": {},
   "outputs": [],
   "source": [
    "import numpy as np\n",
    "\n",
    "def matrot(mat):\n",
    "    #jupman-raise\n",
    "    ret = np.zeros(mat.shape)\n",
    "\n",
    "    for i in range(mat.shape[0]):\n",
    "        ret[i,0] = mat[i,-1]\n",
    "        for j in range(1, mat.shape[1]):\n",
    "            ret[i,j] = mat[i,j-1]\n",
    "    return ret\n",
    "    #/jupman-raise\n",
    "\n",
    "# TEST START - DO NOT TOUCH!      \n",
    "# if you wrote the whole code correct, and execute the cell, Python shouldn't raise `AssertionError`\n",
    "\n",
    "m1 = np.array(  [ [1] ])\n",
    "r1 = np.array(  [ [1] ])\n",
    "\n",
    "assert np.allclose(matrot(m1), r1)\n",
    "\n",
    "m2 = np.array(  [ [0,1] ])\n",
    "r2 = np.array(  [ [1,0] ])\n",
    "assert np.allclose(matrot(m2), r2)\n",
    "\n",
    "m3 = np.array(  [ [0,1,0] ])\n",
    "r3 = np.array(  [ [0,0,1] ])\n",
    "\n",
    "assert np.allclose(matrot(m3), r3)\n",
    "\n",
    "m4 = np.array(  [ \n",
    "                    [0,1,0],\n",
    "                    [1,1,0]\n",
    "                ])\n",
    "r4 = np.array( [\n",
    "                    [0,0,1],\n",
    "                    [0,1,1]\n",
    "                ])\n",
    "assert np.allclose(matrot(m4), r4)\n",
    "\n",
    "\n",
    "m5 = np.array([\n",
    "                [0,1,0],\n",
    "                [1,1,0],\n",
    "                [0,0,0],\n",
    "                [0,1,1]\n",
    "              ])\n",
    "r5 = np.array([\n",
    "                [0,0,1],\n",
    "                [0,1,1],\n",
    "                [0,0,0],\n",
    "                [1,0,1]\n",
    "               ])\n",
    "assert np.allclose(matrot(m5), r5)\n",
    "# TEST END"
   ]
  },
  {
   "cell_type": "markdown",
   "metadata": {},
   "source": [
    "### Other numpy exercises\n",
    "\n",
    "- Try to do exercises from [liste di liste](https://datasciprolab.readthedocs.io/en/latest/exercises/matrices-lists/matrices-lists-solution.html) using numpy instead.\n",
    "\n",
    "- try to do the exercises more performant by using numpy features and functions (i.e. `2*arr` multiplies all numbers in arr without the need of a slow Python `for`)\n",
    "\n",
    "\n",
    "- (in inglese) [machinelearningplus](https://www.machinelearningplus.com/python/101-numpy-exercises-python/)  Esercizi su Numpy (Fermarsi a difficoltà L1, L2 e se vuoi prova L3)"
   ]
  },
  {
   "cell_type": "code",
   "execution_count": null,
   "metadata": {},
   "outputs": [],
   "source": []
  }
 ],
 "metadata": {
  "celltoolbar": "Edit Metadata",
  "kernelspec": {
   "display_name": "Python 3",
   "language": "python",
   "name": "python3"
  },
  "language_info": {
   "codemirror_mode": {
    "name": "ipython",
    "version": 3
   },
   "file_extension": ".py",
   "mimetype": "text/x-python",
   "name": "python",
   "nbconvert_exporter": "python",
   "pygments_lexer": "ipython3",
   "version": "3.7.3"
  },
  "toc": {
   "base_numbering": 1,
   "nav_menu": {},
   "number_sections": false,
   "sideBar": true,
   "skip_h1_title": false,
   "title_cell": "Table of Contents",
   "title_sidebar": "Contents",
   "toc_cell": false,
   "toc_position": {
    "height": "calc(100% - 180px)",
    "left": "10px",
    "top": "150px",
    "width": "268px"
   },
   "toc_section_display": true,
   "toc_window_display": true
  }
 },
 "nbformat": 4,
 "nbformat_minor": 2
}
