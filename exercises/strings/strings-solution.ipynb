{
 "cells": [
  {
   "cell_type": "markdown",
   "metadata": {},
   "source": [
    "# Strings solutions\n",
    "\n",
    "## [Download exercises zip](../../_static/strings-exercises.zip)\n",
    "\n",
    "[Browse files online](https://github.com/DavidLeoni/datasciprolab/tree/master/exercises/strings)\n",
    "\n",
    "\n",
    "\n"
   ]
  },
  {
   "cell_type": "markdown",
   "metadata": {},
   "source": [
    "\n",
    "## What to do\n",
    "\n",
    "- unzip exercises in a folder, you should get something like this: \n",
    "\n",
    "```\n",
    "\n",
    "-jupman.py\n",
    "-my_lib.py\n",
    "-other stuff ...\n",
    "-exercises\n",
    "     |- lists\n",
    "         |- strings-exercise.ipynb     \n",
    "         |- strings-solution.ipynb\n",
    "         |- other stuff ..\n",
    "```\n",
    "\n",
    "<div class=\"alert alert-warning\">\n",
    "\n",
    "**WARNING 1**: to correctly visualize the notebook, it MUST be in an unzipped folder !\n",
    "</div>\n",
    "\n",
    "\n",
    "- open Jupyter Notebook from that folder. Two things should open, first a console and then browser. The browser should show a file list: navigate the list and open the notebook `exercises/strings/strings-exercise.ipynb`\n",
    "\n",
    "<div class=\"alert alert-warning\">\n",
    "\n",
    "**WARNING 2**: DO NOT use the _Upload_ button in Jupyter, instead navigate to the unzipped folder while in Jupyter browser!\n",
    "</div>\n",
    "\n",
    "\n",
    "- Go on reading that notebook, and follow instuctions inside.\n",
    "\n",
    "\n",
    "Shortcut keys:\n",
    "\n",
    "- to execute Python code inside a Jupyter cell, press `Control + Enter`\n",
    "- to execute Python code inside a Jupyter cell AND select next cell, press `Shift + Enter`\n",
    "- to execute Python code inside a Jupyter cell AND a create a new cell aftwerwards, press `Alt + Enter`\n",
    "- If the notebooks look stuck, try to select `Kernel -> Restart`\n",
    "\n",
    "\n",
    "\n"
   ]
  },
  {
   "cell_type": "markdown",
   "metadata": {},
   "source": [
    "## Introduction\n",
    "\n",
    "Strings are **immutable objects** (note the actual type is **str**) used by python to handle text data. Strings are sequences of *unicode code points* that can represent characters, but also formatting information (e.g. '\\\\n' for new line). Unlike other programming languages, python does not have the data type character, which is represented as a string of length 1.\n",
    "\n",
    "There are several ways to define a string:\n"
   ]
  },
  {
   "cell_type": "code",
   "execution_count": 1,
   "metadata": {},
   "outputs": [
    {
     "name": "stdout",
     "output_type": "stream",
     "text": [
      "my first string, in double quotes \n",
      "\n",
      "my second string, in single quotes \n",
      "\n",
      "my third string is \n",
      "in triple quotes\n",
      "therefore it can span several lines \n",
      "\n",
      "my fourth string, in triple double-quotes\n",
      "can also span\n",
      "several lines \n",
      "\n"
     ]
    }
   ],
   "source": [
    "S = \"my first string, in double quotes\"\n",
    "\n",
    "S1 = 'my second string, in single quotes'\n",
    "\n",
    "S2 = '''my third string is \n",
    "in triple quotes\n",
    "therefore it can span several lines'''\n",
    "\n",
    "S3 = \"\"\"my fourth string, in triple double-quotes\n",
    "can also span\n",
    "several lines\"\"\"\n",
    "\n",
    "print(S, '\\n') #let's add a new line at the end of the string with \\n\n",
    "print(S1,'\\n')\n",
    "print(S2, '\\n')\n",
    "print(S3, '\\n')"
   ]
  },
  {
   "cell_type": "markdown",
   "metadata": {},
   "source": [
    "To put special characters like ',\" and so on you need to \"escape them\" (i.e. write them following a back-slash).\n",
    "\n",
    "![](img/escapes.png)\n",
    "\n",
    "**Example**:\n",
    "Let's print a string containing a quote and double quote (i.e. ' and \")."
   ]
  },
  {
   "cell_type": "code",
   "execution_count": 2,
   "metadata": {},
   "outputs": [
    {
     "name": "stdout",
     "output_type": "stream",
     "text": [
      "This is how I 'quote' and \"double quote\" things in strings\n"
     ]
    }
   ],
   "source": [
    "myString = \"This is how I \\'quote\\' and \\\"double quote\\\" things in strings\"\n",
    "print(myString)"
   ]
  },
  {
   "cell_type": "markdown",
   "metadata": {},
   "source": [
    "Strings can be converted to and from numbers with the functions ```str()```, ```int()``` or ```float()```.\n",
    "\n",
    "**Example**:\n",
    "Let's define a string *myString* with the value \"47001\" and convert it into an `int`. Try adding one and print the result."
   ]
  },
  {
   "cell_type": "code",
   "execution_count": 3,
   "metadata": {},
   "outputs": [
    {
     "name": "stdout",
     "output_type": "stream",
     "text": [
      "47001  has type  <class 'str'>\n",
      "47001  has type  <class 'int'>\n",
      "47002\n",
      "470011\n"
     ]
    }
   ],
   "source": [
    "myString = \"47001\"\n",
    "print(myString, \" has type \", type(myString))\n",
    "\n",
    "myInt = int(myString)\n",
    "\n",
    "print(myInt, \" has type \", type(myInt))\n",
    "\n",
    "myInt = myInt + 1   #adds one\n",
    "\n",
    "myString = myString + \"1\" #cannot add 1 (we need to use a string). \n",
    "                          #This will append 1 at the end of the string\n",
    "\n",
    "print(myInt)\n",
    "print(myString)"
   ]
  },
  {
   "cell_type": "markdown",
   "metadata": {},
   "source": [
    "Python defines some operators to work with strings. Recall the slides shown during the lecture:\n",
    "\n",
    "![](img/stringoperators.png)\n"
   ]
  },
  {
   "cell_type": "markdown",
   "metadata": {},
   "source": [
    "**Example** \n",
    "A tandem repeat is a short sequence of DNA that is repeated several times in a row. Let's create a string representing the tandem repeat of the motif \"ATTCG\" repeated 5 times. What is the length of the whole repetitive region? Is the motif \"TCGAT\" (m1) present in the region? The motif \"TCCT\" (m2)? Let's give an orientation to the tandem repeat by adding the string `\"|-\"` on the left and `\"->\"` to the right."
   ]
  },
  {
   "cell_type": "code",
   "execution_count": 4,
   "metadata": {},
   "outputs": [
    {
     "name": "stdout",
     "output_type": "stream",
     "text": [
      "ATTCG\n",
      "ATTCGATTCGATTCGATTCGATTCG  has length 25\n",
      "Is  TCGAT  in  ATTCGATTCGATTCGATTCGATTCG  ?  True\n",
      "Is  TCCT  in  ATTCGATTCGATTCGATTCGATTCG  ?  False\n",
      "|-ATTCGATTCGATTCGATTCGATTCG->\n"
     ]
    }
   ],
   "source": [
    "motif = \"ATTCG\"\n",
    "\n",
    "tandem_repeat = motif * 5\n",
    "\n",
    "print(motif)\n",
    "print(tandem_repeat, \" has length\", len(tandem_repeat))\n",
    "m1 = \"TCGAT\"\n",
    "m2 = \"TCCT\"\n",
    "\n",
    "print(\"Is \", m1, \" in \", tandem_repeat, \" ? \", m1 in tandem_repeat )\n",
    "print(\"Is \", m2, \" in \", tandem_repeat, \" ? \", m2 in tandem_repeat )\n",
    "oriented_tr = \"|-\" + tandem_repeat + \"->\"\n",
    "print(oriented_tr)"
   ]
  },
  {
   "cell_type": "markdown",
   "metadata": {},
   "source": [
    "We can access strings at specific positions (indexing) or get a substring starting from a position S to a position E. The only thing to remember is that numbering starts from 0. The```i```-th character of a string can be accessed as ```str[i-1]```. Substrings can be accessed as ```str[S:E]```, optionally a third parameter can be specified to set the step (i.e. ```str[S:E:STEP]```). \n",
    "\n",
    "<div class=\"alert alert-warning\">\n",
    "\n",
    "**Important note.**\n",
    "Remember that when you do str[S:E], **S is inclusive, while E is exclusive** (see S[0:6] below).\n",
    "\n",
    "</div>\n",
    "\n",
    "\n",
    "![](img/slicingstring.png)\n",
    "\n",
    "Let's see these aspects in action with an example:"
   ]
  },
  {
   "cell_type": "code",
   "execution_count": 5,
   "metadata": {},
   "outputs": [
    {
     "name": "stdout",
     "output_type": "stream",
     "text": [
      "Luther College\n",
      "True\n",
      "L\n",
      "h\n",
      "e\n",
      "Luther\n",
      "College\n",
      "Lte olg\n",
      "uhrClee\n"
     ]
    }
   ],
   "source": [
    "S = \"Luther College\"\n",
    "\n",
    "print(S) #print the whole string\n",
    "print(S == S[:]) #a fancy way of making a copy of the original string\n",
    "print(S[0]) #first character\n",
    "print(S[3]) #fourth character\n",
    "print(S[-1]) #last character\n",
    "print(S[0:6]) #first six characters\n",
    "print(S[-7:]) #final seven characters\n",
    "print(S[0:len(S):2]) #every other character starting from the first\n",
    "print(S[1:len(S):2]) #every other character starting from the second"
   ]
  },
  {
   "cell_type": "markdown",
   "metadata": {},
   "source": [
    "### Methods for the str object\n",
    "\n",
    "The object ```str``` has some methods that can be applied to it (remember methods are things you can do on objects). Recall from the lecture that the main methods are:\n",
    "\n",
    "![](img/strmethods.png)"
   ]
  },
  {
   "cell_type": "markdown",
   "metadata": {},
   "source": [
    "<div class=\"alert alert-warning\">\n",
    "**IMPORTANT NOTE**:\n",
    "Since Strings are immutable, every operation that changes the string actually produces a new *str* object  having the modified string as value. \n",
    "</div>"
   ]
  },
  {
   "cell_type": "markdown",
   "metadata": {},
   "source": [
    "Recall that **strings are immutable**. For this reason we cannot directly change them with an assignment operator. \n",
    "\n",
    "**Example:** Since the genetic code is degenerate, there are many codons encoding for the same aminoacid. Consider Proline, it can be encoded by the following codons: `CCU`, `CCA`,`CCG`, `CCC`. Let's create a string proline and assign it to its possible codons one after the other.\n",
    "\n",
    "In other words, if you have a string, how do you obtain another string from the first one by changing only one character? Can we directly change `\"CCU\"` into `\"CCA\"`  ? If not, are there alternatives to produce a new string from the first one ?"
   ]
  },
  {
   "cell_type": "markdown",
   "metadata": {},
   "source": [
    "\n",
    "\n",
    "```python\n",
    "\"\"\"\n",
    "Wrong solution. We cannot directly replace the value of a string\n",
    "\"\"\"\n",
    "\n",
    "proline = \"CCU\"\n",
    "print(\"Proline can be encoded by: \", proline)\n",
    "proline[2]=\"A\"\n",
    "print(\".. or by: \", proline)\n",
    "\n",
    "```"
   ]
  },
  {
   "cell_type": "markdown",
   "metadata": {},
   "source": [
    "\n",
    "```bash\n",
    "Proline can be encoded by:  CCU\n",
    "\n",
    "---------------------------------------------------------------------------\n",
    "TypeError                                 Traceback (most recent call last)\n",
    "<ipython-input-4-8802d0c749a4> in <module>\n",
    "      1 proline = \"CCU\"\n",
    "      2 print(\"Proline can be encoded by: \", proline)\n",
    "----> 3 proline[2]=\"A\"\n",
    "      4 print(\".. or by: \", proline)\n",
    "\n",
    "TypeError: 'str' object does not support item assignment\n",
    "\n",
    "```"
   ]
  },
  {
   "cell_type": "code",
   "execution_count": 6,
   "metadata": {},
   "outputs": [
    {
     "name": "stdout",
     "output_type": "stream",
     "text": [
      "Proline can be encoded by:  CCU\n",
      ".. or by:  CCA\n",
      ".. or by:  CCG\n",
      ".. or by:  CCC\n"
     ]
    }
   ],
   "source": [
    "\"\"\"\n",
    "Correct solution. Using str.replace\n",
    "\"\"\"\n",
    "proline = \"CCU\"\n",
    "print(\"Proline can be encoded by: \", proline)\n",
    "proline = proline.replace(\"U\",\"A\")\n",
    "print(\".. or by: \", proline)\n",
    "proline = proline.replace(\"A\",\"G\")\n",
    "print(\".. or by: \", proline)\n",
    "proline = proline.replace(\"G\",\"C\")\n",
    "print(\".. or by: \", proline)"
   ]
  },
  {
   "cell_type": "code",
   "execution_count": 7,
   "metadata": {},
   "outputs": [
    {
     "name": "stdout",
     "output_type": "stream",
     "text": [
      "Proline can be encoded by:  CCU\n",
      ".. or by:  CCA\n",
      ".. or by:  CCG\n",
      ".. or by:  CCC\n"
     ]
    }
   ],
   "source": [
    "\"\"\"\n",
    "Another correct solution. Using string slicing and catenation.\n",
    "\"\"\"\n",
    "proline = \"CCU\"\n",
    "print(\"Proline can be encoded by: \", proline)\n",
    "proline = proline[:-1]+\"A\" #equal to proline[0:-1] or proline[0:2]\n",
    "print(\".. or by: \", proline)\n",
    "proline = proline[:-1]+\"G\"\n",
    "print(\".. or by: \", proline)\n",
    "proline = proline[:-1]+\"C\"\n",
    "print(\".. or by: \", proline)"
   ]
  },
  {
   "cell_type": "markdown",
   "metadata": {},
   "source": [
    "**Example**:\n",
    "Given the DNA sequence S = \"   aTATGCCCATatcgctAAATTGCTGCCATTACA    \". Print its length (removing any blank spaces at either sides), the number of adenines, cytosines, guanines and thymines present. Is the sequence \"ATCG\" present in S? Print how many times the substring \"TGCC\" appears in S and all the corresponding indexes."
   ]
  },
  {
   "cell_type": "code",
   "execution_count": 8,
   "metadata": {},
   "outputs": [
    {
     "name": "stdout",
     "output_type": "stream",
     "text": [
      "   aTATGCCCATatcgctAAATTGCTGCCATTACA    \n",
      "aTATGCCCATatcgctAAATTGCTGCCATTACA\n",
      "33\n",
      "A count:  10\n",
      "C count:  9\n",
      "T count:  10\n",
      "G count:  4\n",
      "Is ATCG in  ATATGCCCATATCGCTAAATTGCTGCCATTACA ?  True\n",
      "TGCC is present  2  times in  ATATGCCCATATCGCTAAATTGCTGCCATTACA\n",
      "TGCC is present at pos  3\n",
      "TGCC is present at pos  23\n"
     ]
    }
   ],
   "source": [
    "S = \"   aTATGCCCATatcgctAAATTGCTGCCATTACA    \"\n",
    "\n",
    "print(S)\n",
    "S = S.strip(\" \")\n",
    "print(S)\n",
    "\n",
    "print(len(S))\n",
    "tmpS = S.upper() #for simplicity to count only 4 different nucleotides\n",
    "print(\"A count: \", tmpS.count(\"A\"))\n",
    "print(\"C count: \", tmpS.count(\"C\"))\n",
    "print(\"T count: \", tmpS.count(\"T\"))\n",
    "print(\"G count: \", tmpS.count(\"G\"))\n",
    "print(\"Is ATCG in \", tmpS, \"? \", tmpS.find(\"ATCG\") != -1) #or tmpS.count(\"ATCG\") > 0\n",
    "print(\"TGCC is present \", tmpS.count(\"TGCC\"), \" times in \", tmpS)\n",
    "print(\"TGCC is present at pos \", tmpS.find(\"TGCC\")) \n",
    "print(\"TGCC is present at pos \", tmpS.rfind(\"TGCC\")) #or tmpS.find(\"TGCC\",4)\n"
   ]
  },
  {
   "cell_type": "markdown",
   "metadata": {},
   "source": [
    "## Exercises"
   ]
  },
  {
   "cell_type": "markdown",
   "metadata": {},
   "source": [
    "### extract_email\n",
    "\n",
    "\n",
    "<div class=\"alert alert-info\" >\n",
    "\n",
    "**COMMANDMENT 4 (adapted for strings): You shall never ever reassign function parameters **\n",
    "</div>\n",
    "\n",
    "```python\n",
    "\n",
    "    def myfun(s):\n",
    "\n",
    "        # You shall not do any of such evil, no matter what the type of the parameter is:\n",
    "        s = \"evil\"          # strings\n",
    "```\n"
   ]
  },
  {
   "cell_type": "code",
   "execution_count": 9,
   "metadata": {},
   "outputs": [],
   "source": [
    "def extract_email(s):\n",
    "    \"\"\" Takes a string s formatted like \n",
    "    \n",
    "        \"lun 5 nov 2018, 02:09 John Doe <john.doe@some-website.com>\"\n",
    "        \n",
    "        and RETURN the email \"john.doe@some-website.com\"\n",
    "        \n",
    "        NOTE: the string MAY contain spaces before and after, but your function must be able to extract email anyway.\n",
    "        \n",
    "        If the string for some reason is found to be ill formatted, raises ValueError\n",
    "    \"\"\"\n",
    "    #jupman-raise\n",
    "    stripped = s.strip()\n",
    "    i = stripped.find('<')\n",
    "    return stripped[i+1:len(stripped)-1]\n",
    "    #/jupman-raise\n",
    "\n",
    "assert extract_email(\"lun 5 nov 2018, 02:09 John Doe <john.doe@some-website.com>\") == \"john.doe@some-website.com\"\n",
    "assert extract_email(\"lun 5 nov 2018, 02:09 Foo Baz <mrfoo.baz@blabla.com>\") == \"mrfoo.baz@blabla.com\"\n",
    "assert extract_email(\" lun 5 nov 2018, 02:09 Foo Baz <mrfoo.baz@blabla.com>  \") == \"mrfoo.baz@blabla.com\"  # with spaces"
   ]
  },
  {
   "cell_type": "markdown",
   "metadata": {},
   "source": [
    "## Further resources\n",
    "\n",
    "Have a look at [leetcode string problems](https://leetcode.com/tag/string/) sorting by _Acceptance_ and _Easy_.\n",
    "\n",
    "In particular, you may check:\n",
    "\n",
    "* [Unique email addresses](https://leetcode.com/problems/unique-email-addresses/description/)\n",
    "* [Unique Morse codes](https://leetcode.com/problems/unique-morse-code-words/description/)\n",
    "* [Robot return to origin](https://leetcode.com/problems/robot-return-to-origin/description/)\n",
    "* [Reverse Words in a String III](https://leetcode.com/problems/reverse-words-in-a-string-iii/description/)\n",
    "* [Goat Latin](https://leetcode.com/problems/goat-latin/description/)\n",
    "* [Detect Capital](https://leetcode.com/problems/detect-capital/description/)\n",
    "* [Count Binary Substrings](https://leetcode.com/problems/count-binary-substrings/description/)"
   ]
  }
 ],
 "metadata": {
  "kernelspec": {
   "display_name": "Python 3",
   "language": "python",
   "name": "python3"
  },
  "language_info": {
   "codemirror_mode": {
    "name": "ipython",
    "version": 3
   },
   "file_extension": ".py",
   "mimetype": "text/x-python",
   "name": "python",
   "nbconvert_exporter": "python",
   "pygments_lexer": "ipython3",
   "version": "3.7.3"
  },
  "toc": {
   "base_numbering": 1,
   "nav_menu": {},
   "number_sections": false,
   "sideBar": true,
   "skip_h1_title": false,
   "title_cell": "Table of Contents",
   "title_sidebar": "Contents",
   "toc_cell": false,
   "toc_position": {},
   "toc_section_display": true,
   "toc_window_display": true
  }
 },
 "nbformat": 4,
 "nbformat_minor": 2
}
