{
 "cells": [
  {
   "cell_type": "markdown",
   "metadata": {},
   "source": [
    "# Strings solutions\n",
    "\n",
    "## [Download exercises zip](../../_static/strings-exercises.zip)\n",
    "\n",
    "[Browse files online](https://github.com/DavidLeoni/datasciprolab/tree/master/exercises/strings)\n",
    "\n",
    "\n",
    "\n"
   ]
  },
  {
   "cell_type": "markdown",
   "metadata": {},
   "source": [
    "\n",
    "## What to do\n",
    "\n",
    "- unzip exercises in a folder, you should get something like this: \n",
    "\n",
    "```\n",
    "\n",
    "-jupman.py\n",
    "-my_lib.py\n",
    "-other stuff ...\n",
    "-exercises\n",
    "     |- lists\n",
    "         |- strings-exercise.ipynb     \n",
    "         |- strings-solution.ipynb\n",
    "         |- other stuff ..\n",
    "```\n",
    "\n",
    "<div class=\"alert alert-warning\">\n",
    "\n",
    "**WARNING**: to correctly visualize the notebook, it MUST be in an unzipped folder !\n",
    "</div>\n",
    "\n",
    "\n",
    "- open Jupyter Notebook from that folder. Two things should open, first a console and then browser. The browser should show a file list: navigate the list and open the notebook `exercises/strings/strings-exercise.ipynb`\n",
    "\n",
    "<div class=\"alert alert-warning\">\n",
    "\n",
    "**WARNING 2**: DO NOT use the _Upload_ button in Jupyter, instead navigate in Jupyter browser to the unzipped folder !\n",
    "</div>\n",
    "\n",
    "\n",
    "- Go on reading that notebook, and follow instuctions inside.\n",
    "\n",
    "\n",
    "Shortcut keys:\n",
    "\n",
    "- to execute Python code inside a Jupyter cell, press `Control + Enter`\n",
    "- to execute Python code inside a Jupyter cell AND select next cell, press `Shift + Enter`\n",
    "- to execute Python code inside a Jupyter cell AND a create a new cell aftwerwards, press `Alt + Enter`\n",
    "- If the notebooks look stuck, try to select `Kernel -> Restart`\n",
    "\n",
    "\n",
    "\n"
   ]
  },
  {
   "cell_type": "markdown",
   "metadata": {},
   "source": [
    "## Exercises"
   ]
  },
  {
   "cell_type": "markdown",
   "metadata": {},
   "source": [
    "### extract_email\n",
    "\n",
    "\n",
    "<div class=\"alert alert-info\" >\n",
    "\n",
    "**COMMANDMENT 4: You shall never ever reassign function parameters, adapted for strings**\n",
    "</div>\n",
    "\n",
    "```python\n",
    "\n",
    "    def myfun(s):\n",
    "\n",
    "        # You shall not do any of such evil, no matter what the type of the parameter is:\n",
    "        s = \"evil\"          # strings\n",
    "```\n"
   ]
  },
  {
   "cell_type": "code",
   "execution_count": 2,
   "metadata": {},
   "outputs": [],
   "source": [
    "def extract_email(s):\n",
    "    \"\"\" Takes a string s formatted like \n",
    "    \n",
    "        \"lun 5 nov 2018, 02:09 John Doe <john.doe@some-website.com>\"\n",
    "        \n",
    "        and RETURN the email \"john.doe@some-website.com\"\n",
    "        \n",
    "        NOTE: the string MAY contain spaces before and after, but your function must be able to extract email anyway.\n",
    "        \n",
    "        If the string for some reason is found to be ill formatted, raises ValueError\n",
    "    \"\"\"\n",
    "    #jupman-raise\n",
    "    stripped = s.strip()\n",
    "    i = stripped.find('<')\n",
    "    return stripped[i+1:len(stripped)-1]\n",
    "    #/jupman-raise\n",
    "\n",
    "assert extract_email(\"lun 5 nov 2018, 02:09 John Doe <john.doe@some-website.com>\") == \"john.doe@some-website.com\"\n",
    "assert extract_email(\"lun 5 nov 2018, 02:09 Foo Baz <mrfoo.baz@blabla.com>\") == \"mrfoo.baz@blabla.com\"\n",
    "assert extract_email(\" lun 5 nov 2018, 02:09 Foo Baz <mrfoo.baz@blabla.com>  \") == \"mrfoo.baz@blabla.com\"  # with spaces"
   ]
  },
  {
   "cell_type": "markdown",
   "metadata": {},
   "source": [
    "## Further resources\n",
    "\n",
    "Have a look at [leetcode string problems](https://leetcode.com/tag/string/) sorting by _Acceptance_ and _Easy_.\n",
    "\n",
    "In particular, you may check:\n",
    "\n",
    "* [Unique email addresses](https://leetcode.com/problems/unique-email-addresses/description/)\n",
    "* [Unique Morse codes](https://leetcode.com/problems/unique-morse-code-words/description/)\n",
    "* [Robot return to origin](https://leetcode.com/problems/robot-return-to-origin/description/)\n",
    "* [Reverse Words in a String III](https://leetcode.com/problems/reverse-words-in-a-string-iii/description/)\n",
    "* [Goat Latin](https://leetcode.com/problems/goat-latin/description/)\n",
    "* [Detect Capital](https://leetcode.com/problems/detect-capital/description/)\n",
    "* [Count Binary Substrings](https://leetcode.com/problems/count-binary-substrings/description/)"
   ]
  },
  {
   "cell_type": "code",
   "execution_count": null,
   "metadata": {},
   "outputs": [],
   "source": []
  }
 ],
 "metadata": {
  "kernelspec": {
   "display_name": "Python 3",
   "language": "python",
   "name": "python3"
  },
  "language_info": {
   "codemirror_mode": {
    "name": "ipython",
    "version": 3
   },
   "file_extension": ".py",
   "mimetype": "text/x-python",
   "name": "python",
   "nbconvert_exporter": "python",
   "pygments_lexer": "ipython3",
   "version": "3.5.2"
  },
  "toc": {
   "base_numbering": 1,
   "nav_menu": {},
   "number_sections": false,
   "sideBar": true,
   "skip_h1_title": false,
   "title_cell": "Table of Contents",
   "title_sidebar": "Contents",
   "toc_cell": false,
   "toc_position": {},
   "toc_section_display": true,
   "toc_window_display": true
  }
 },
 "nbformat": 4,
 "nbformat_minor": 2
}
