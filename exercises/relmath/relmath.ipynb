{
 "cells": [
  {
   "cell_type": "code",
   "execution_count": null,
   "metadata": {},
   "outputs": [],
   "source": []
  },
  {
   "cell_type": "markdown",
   "metadata": {},
   "source": [
    "# Relational Mathematics\n",
    "\n",
    "### WARNING: MEANINGLESS DRAFT !!"
   ]
  },
  {
   "cell_type": "code",
   "execution_count": null,
   "metadata": {},
   "outputs": [],
   "source": []
  },
  {
   "cell_type": "code",
   "execution_count": 1,
   "metadata": {},
   "outputs": [
    {
     "data": {
      "text/plain": [
       "'CIAO'"
      ]
     },
     "execution_count": 1,
     "metadata": {},
     "output_type": "execute_result"
    }
   ],
   "source": [
    " getattr(\"ciao\", \"upper\")()"
   ]
  },
  {
   "cell_type": "code",
   "execution_count": null,
   "metadata": {},
   "outputs": [],
   "source": []
  },
  {
   "cell_type": "code",
   "execution_count": 23,
   "metadata": {},
   "outputs": [
    {
     "name": "stdout",
     "output_type": "stream",
     "text": [
      "╒═══╤═══╤═════╤═════╤═════╕ ╒═══╤═══╤═════╤═════╤═════╕.T\n",
      "│   │ x │ y   │ z   │ w   │ │   │ x │ y   │ z   │ w   │\n",
      "├───┼───┼─────┼─────┼─────┤ ├───┼───┼─────┼─────┼─────┤\n",
      "│ a │ 0 │ 0   │ 0.9 │ 0   │ │ a │ 0 │ 0   │ 0.9 │ 0   │\n",
      "├───┼───┼─────┼─────┼─────┤*├───┼───┼─────┼─────┼─────┤\n",
      "│ b │ 0 │ 0   │ 0.7 │ 0.2 │ │ b │ 0 │ 0   │ 0.7 │ 0.2 │\n",
      "├───┼───┼─────┼─────┼─────┤ ├───┼───┼─────┼─────┼─────┤\n",
      "│ c │ 0 │ 0.5 │ 0   │ 0.9 │ │ c │ 0 │ 0.5 │ 0   │ 0.9 │\n",
      "╘═══╧═══╧═════╧═════╧═════╛ ╘═══╧═══╧═════╧═════╧═════╛\n",
      "                            \n",
      "                           \n",
      "\n"
     ]
    },
    {
     "data": {
      "application/vnd.jupyter.widget-view+json": {
       "model_id": "e8bd02ca25494932a36d50bde9a318b4",
       "version_major": 2,
       "version_minor": 0
      },
      "text/plain": [
       "VBox(children=(Figure(fig_margin={'top': 60, 'right': 60, 'left': 60, 'bottom': 60}, layout=Layout(height='300…"
      ]
     },
     "metadata": {},
     "output_type": "display_data"
    }
   ],
   "source": [
    "import numpy as np\n",
    "from bqplot import *\n",
    "from bqplot.marks import Graph\n",
    "from ipywidgets import Layout, VBox, HBox\n",
    "from relmath import * \n",
    "\n",
    "\n",
    "\n",
    "\n",
    "\n",
    "\n",
    "fig_layout = Layout(width='960px', height='300px')\n",
    "def disp(expr):\n",
    "    \n",
    "    if type(expr) is RelMul:\n",
    "        binop = expr\n",
    "        \n",
    "        left =  binop.left.simp()\n",
    "        right = binop.right.simp()\n",
    "        \n",
    "        binop_res = binop.simp()\n",
    "        \n",
    "        with Q(S):\n",
    "            left_label = str(binop.left)\n",
    "            right_label = str(binop.right)\n",
    "            expr_label = str(binop)\n",
    "        \n",
    "        if type(left) is not Rel:\n",
    "            raise ValueError(\"Can't simplify left operand to a Rel ! Found %s \" % left)\n",
    "\n",
    "        if type(right) is not Rel:\n",
    "            raise ValueError(\"Can't simplify right operand to a Rel ! Found %s \" % right)\n",
    "            \n",
    "        #print(left)\n",
    "        #print(right)\n",
    "            \n",
    "        node_data =  left.dom + left.cod + right.cod\n",
    "        #print(node_data)\n",
    "\n",
    "        link_data = []\n",
    "        n = len(left.dom)\n",
    "        m = len(left.cod)\n",
    "        w = len(right.cod)\n",
    "        for i in range(n):\n",
    "            for j in range(m):\n",
    "                link_data.append({'source': i, 'target': n+j, 'value': left.g[i][j].val})\n",
    "\n",
    "        for i in range(m):\n",
    "            for j in range(w):\n",
    "                link_data.append({'source': n+i, 'target': n+m+j, 'value': right.g[i][j].val})\n",
    "                \n",
    "                \n",
    "        #print(link_data)\n",
    "\n",
    "        xs = LinearScale()\n",
    "        ys = LinearScale()\n",
    "        lcs = ColorScale(scheme='Greens')\n",
    "        x = ([100] * n) + ([200]*m) + ([300]*w)\n",
    "        y = list(range(n)) + list(range(m)) + list(range(w))\n",
    "        #print(x)\n",
    "        #print(y)\n",
    "        labels = Label(x=[150,250], y=[max(y)+0.3]*2, scales={'x': xs, 'y': ys},\n",
    "                   text=[left_label, right_label], default_size=26, font_weight='bolder',\n",
    "                   colors=['black'], update_on_move=True)\n",
    "        \n",
    "        graph = Graph(node_data=node_data, link_data=link_data, link_type='line',\n",
    "                      colors=['orange'], directed=False, \n",
    "                      scales={'x': xs, 'y': ys, 'link_color': lcs}, \n",
    "                      x=x, y=y,  color=np.random.rand(len(node_data)))\n",
    "\n",
    "        fig1 = Figure(marks=[graph, labels], layout=fig_layout)    \n",
    "        \n",
    "        # ----------  product  -----------------\n",
    "        \n",
    "        node_data_p =  left.dom + left.dom\n",
    "        #print(node_data)\n",
    "\n",
    "        link_data_p = []\n",
    "        \n",
    "        for i in range(n):\n",
    "            for j in range(w):\n",
    "                link_data_p.append({'source': i, 'target': n+j, 'value': binop_res.g[i][j].val})\n",
    "        \n",
    "        \n",
    "        xs_p = LinearScale()\n",
    "        ys_p = LinearScale()\n",
    "        \n",
    "        x_p = ([100] * n) + ([300]*w)\n",
    "        y_p = list(range(n)) + list(range(w))\n",
    "        \n",
    "        graph_p = Graph(node_data=node_data_p, link_data=link_data_p, link_type='line',\n",
    "                      colors=['orange'], directed=False, \n",
    "                      scales={'x': xs_p, 'y': ys_p, 'link_color': lcs}, \n",
    "                      x=x_p, y=y_p,  color=np.random.rand(len(node_data)))\n",
    "        \n",
    "        labels_p = Label(x=[200-10], y=[max(y_p)+0.3], scales={'x': xs_p, 'y': ys_p},\n",
    "                   text=[expr_label], default_size=26, font_weight='bolder',\n",
    "                   colors=['black'], update_on_move=True)\n",
    "        \n",
    "        fig2 = Figure(marks=[graph_p, labels_p], layout=fig_layout)    \n",
    "        \n",
    "        return VBox([fig1, fig2])\n",
    "        \n",
    "    \n",
    "    elif type(expr) is Rel:\n",
    "        node_data = expr.dom() + expr.cod()\n",
    "        #print(node_data)\n",
    "\n",
    "        link_data = []\n",
    "        for i in range(len(expr.dom)):\n",
    "            for j in range(len(expr.cod)):\n",
    "                link_data.append({'source': i, 'target': i+j, 'value': expr.g[i][j].val})\n",
    "\n",
    "        #print(link_data)\n",
    "\n",
    "        xs = LinearScale()\n",
    "        ys = LinearScale()\n",
    "        lcs = ColorScale(scheme='Greens')\n",
    "        x = ([100] * len(expr.dom)) + ([200]*len(expr.cod))\n",
    "        y = list(range(len(expr.dom))) + list(range(len(expr.cod)))\n",
    "        #print(x)\n",
    "        #print(y)\n",
    "        graph = Graph(node_data=node_data, link_data=link_data, link_type='line',\n",
    "                      colors=['orange'], directed=False, \n",
    "                      scales={'x': xs, 'y': ys, 'link_color': lcs}, \n",
    "                      x=x, y=y,  color=np.random.rand(len(node_data)))\n",
    "        return Figure(marks=[graph], layout=fig_layout)    \n",
    "    else:\n",
    "        raise ValueError(\"not supported type: %s\" % type(expr) )\n",
    "        \n",
    "        \n",
    "with Q(S):\n",
    "    M = Rel([\n",
    "                [0,0,0.9,0],\n",
    "                [0,0,0.7,0.2],\n",
    "                [0,0.5,0,0.9]\n",
    "            ], \n",
    "            ['a','b','c'], \n",
    "            ['x','y','z','w'],\n",
    "            name='M')\n",
    "    \n",
    "    E = M * M.T\n",
    "    \n",
    "print(E)\n",
    "disp(E)    "
   ]
  },
  {
   "cell_type": "code",
   "execution_count": null,
   "metadata": {},
   "outputs": [],
   "source": []
  },
  {
   "cell_type": "code",
   "execution_count": 3,
   "metadata": {},
   "outputs": [
    {
     "data": {
      "text/plain": [
       "['a', 'b', 'x', 'y', 'z']"
      ]
     },
     "execution_count": 3,
     "metadata": {},
     "output_type": "execute_result"
    }
   ],
   "source": [
    "M.nodes()"
   ]
  },
  {
   "cell_type": "code",
   "execution_count": 4,
   "metadata": {},
   "outputs": [],
   "source": [
    "node_data = list('ABCDEFG')"
   ]
  },
  {
   "cell_type": "code",
   "execution_count": 5,
   "metadata": {},
   "outputs": [
    {
     "data": {
      "text/plain": [
       "['A', 'B', 'C', 'D', 'E', 'F', 'G']"
      ]
     },
     "execution_count": 5,
     "metadata": {},
     "output_type": "execute_result"
    }
   ],
   "source": [
    "node_data"
   ]
  },
  {
   "cell_type": "code",
   "execution_count": 6,
   "metadata": {},
   "outputs": [],
   "source": [
    "link_data = [{'source': s, 'target': t, 'value': np.random.rand()} for s, t in np.random.randint(0, 7, (20, 2))]"
   ]
  },
  {
   "cell_type": "code",
   "execution_count": 7,
   "metadata": {},
   "outputs": [
    {
     "data": {
      "text/plain": [
       "[{'source': 5, 'target': 4, 'value': 0.5009378086748245},\n",
       " {'source': 1, 'target': 3, 'value': 0.7032353410875684},\n",
       " {'source': 2, 'target': 0, 'value': 0.0001537104048905391},\n",
       " {'source': 3, 'target': 1, 'value': 0.2391212485456501},\n",
       " {'source': 5, 'target': 0, 'value': 0.23515807832262736},\n",
       " {'source': 5, 'target': 1, 'value': 0.12738019188873806},\n",
       " {'source': 6, 'target': 4, 'value': 0.12291970342529701},\n",
       " {'source': 5, 'target': 6, 'value': 0.2716700194812234},\n",
       " {'source': 6, 'target': 5, 'value': 0.8283348960122828},\n",
       " {'source': 0, 'target': 0, 'value': 0.21285741399246272},\n",
       " {'source': 5, 'target': 0, 'value': 0.5845636751225973},\n",
       " {'source': 2, 'target': 3, 'value': 0.2493337938836243},\n",
       " {'source': 3, 'target': 5, 'value': 0.5692909919892603},\n",
       " {'source': 1, 'target': 3, 'value': 0.9371146668628265},\n",
       " {'source': 3, 'target': 6, 'value': 0.49629816001376736},\n",
       " {'source': 3, 'target': 3, 'value': 0.011061831433848424},\n",
       " {'source': 1, 'target': 1, 'value': 0.38535386513391157},\n",
       " {'source': 2, 'target': 4, 'value': 0.6853870997133126},\n",
       " {'source': 3, 'target': 0, 'value': 0.9095928545531594},\n",
       " {'source': 6, 'target': 4, 'value': 0.10884266001515863}]"
      ]
     },
     "execution_count": 7,
     "metadata": {},
     "output_type": "execute_result"
    }
   ],
   "source": [
    "link_data"
   ]
  },
  {
   "cell_type": "code",
   "execution_count": null,
   "metadata": {},
   "outputs": [],
   "source": []
  }
 ],
 "metadata": {
  "kernelspec": {
   "display_name": "Python 3",
   "language": "python",
   "name": "python3"
  },
  "language_info": {
   "codemirror_mode": {
    "name": "ipython",
    "version": 3
   },
   "file_extension": ".py",
   "mimetype": "text/x-python",
   "name": "python",
   "nbconvert_exporter": "python",
   "pygments_lexer": "ipython3",
   "version": "3.5.2"
  },
  "toc": {
   "base_numbering": 1,
   "nav_menu": {},
   "number_sections": false,
   "sideBar": true,
   "skip_h1_title": false,
   "title_cell": "Table of Contents",
   "title_sidebar": "Contents",
   "toc_cell": false,
   "toc_position": {},
   "toc_section_display": true,
   "toc_window_display": false
  }
 },
 "nbformat": 4,
 "nbformat_minor": 2
}
