{
 "cells": [
  {
   "cell_type": "code",
   "execution_count": 1,
   "metadata": {
    "nbsphinx": "hidden"
   },
   "outputs": [],
   "source": [
    "#Please execute this cell\n",
    "import sys;\n",
    "sys.path.append('../../'); \n",
    "import jupman;\n"
   ]
  },
  {
   "cell_type": "markdown",
   "metadata": {},
   "source": [
    "# Matrix as lists of lists solutions\n",
    "\n",
    "## [Download exercises zip](../../_static/matrix-lists-exercises.zip)\n",
    "\n",
    "[Browse files online](https://github.com/DavidLeoni/datasciprolab/tree/master/exercises/matrix-lists)\n",
    "\n"
   ]
  },
  {
   "cell_type": "markdown",
   "metadata": {},
   "source": [
    "## What to do\n",
    "\n",
    "- unzip exercises in a folder, you should get something like this: \n",
    "\n",
    "```\n",
    "\n",
    "-jupman.py\n",
    "-sciprog.py\n",
    "-other stuff ...\n",
    "-exercises\n",
    "     |- matrix-lists\n",
    "         |- matrix-list-exercise.ipynb     \n",
    "         |- matrix-list-solution.ipynb\n",
    "         |- other stuff ..\n",
    "```\n",
    "\n",
    "<div class=\"alert alert-warning\">\n",
    "\n",
    "**WARNING**: to correctly visualize the notebook, it MUST be in an unzipped folder !\n",
    "</div>\n",
    "\n",
    "\n",
    "- open Jupyter Notebook from that folder. Two things should open, first a console and then browser. The browser should show a file list: navigate the list and open the notebook `exercises/matrix-lists/matrix-lists-exercise.ipynb`\n",
    "- Go on reading that notebook, and follow instuctions inside.\n",
    "\n",
    "\n",
    "Shortcut keys:\n",
    "\n",
    "- to execute Python code inside a Jupyter cell, press `Control + Enter`\n",
    "- to execute Python code inside a Jupyter cell AND select next cell, press `Shift + Enter`\n",
    "- to execute Python code inside a Jupyter cell AND a create a new cell aftwerwards, press `Alt + Enter`\n",
    "- If the notebooks look stuck, try to select `Kernel -> Restart`\n",
    "\n",
    "\n",
    "\n"
   ]
  },
  {
   "cell_type": "markdown",
   "metadata": {},
   "source": [
    "## Introduction\n",
    "\n",
    "Python natively does not provide easy and efficient ways to manipulate matrices. To do so, you would need an external library called numpy which will be seen later in the course. For now we will limit ourselves to using matrices as lists of lists because\n",
    "\n",
    "\n",
    "1. lists are pervasive in Python, you will probably encounter matrices expressed as lists of lists anyway\n",
    "2. you get an idea of how to construct a nested data structure\n",
    "3. we can discuss memory referencies and copies along the way\n",
    "4. even if numpy internal representation is different, it prints matrices as they were lists of lists\n"
   ]
  },
  {
   "cell_type": "markdown",
   "metadata": {},
   "source": [
    "So let's see these lists of lists.For example, we can consider the following a matrix with 3 rows and 2 columns, or in short 3x2 matrix:"
   ]
  },
  {
   "cell_type": "code",
   "execution_count": 2,
   "metadata": {},
   "outputs": [],
   "source": [
    "m = [\n",
    "        ['a','b'],\n",
    "        ['c','d'],\n",
    "        ['a','e']    \n",
    "    ]"
   ]
  },
  {
   "cell_type": "markdown",
   "metadata": {},
   "source": [
    "For convenience, we assume as input to our functions there won't be matrices with no rows, nor rows with no columns. "
   ]
  },
  {
   "cell_type": "markdown",
   "metadata": {},
   "source": [
    "Going back to the example, in practice we have a big external list:\n",
    "\n",
    "```python\n",
    "m = [\n",
    "\n",
    "\n",
    "]\n",
    "```\n",
    "\n",
    "and each of its elements is another list which represents a row:\n",
    "\n",
    "```python\n",
    "m = [\n",
    "        ['a','b'],\n",
    "        ['c','d'],\n",
    "        ['a','e']\n",
    "    ]\n",
    "```\n",
    "\n",
    "So, to access the whole first row `['a','b']`, we would simply access the element at index 0 of the external list `m`:"
   ]
  },
  {
   "cell_type": "code",
   "execution_count": 3,
   "metadata": {},
   "outputs": [
    {
     "data": {
      "text/plain": [
       "['a', 'b']"
      ]
     },
     "execution_count": 3,
     "metadata": {},
     "output_type": "execute_result"
    }
   ],
   "source": [
    "m[0]"
   ]
  },
  {
   "cell_type": "markdown",
   "metadata": {},
   "source": [
    "To access the second whole second row `['c','d']`, we would access the element at index 1 of the external list `m`:"
   ]
  },
  {
   "cell_type": "code",
   "execution_count": 4,
   "metadata": {},
   "outputs": [
    {
     "data": {
      "text/plain": [
       "['c', 'd']"
      ]
     },
     "execution_count": 4,
     "metadata": {},
     "output_type": "execute_result"
    }
   ],
   "source": [
    "m[1]"
   ]
  },
  {
   "cell_type": "markdown",
   "metadata": {},
   "source": [
    "To access the second whole third row `['c','d']`, we would access the element at index 2 of the external list `m`:"
   ]
  },
  {
   "cell_type": "code",
   "execution_count": 5,
   "metadata": {},
   "outputs": [
    {
     "data": {
      "text/plain": [
       "['a', 'e']"
      ]
     },
     "execution_count": 5,
     "metadata": {},
     "output_type": "execute_result"
    }
   ],
   "source": [
    "m[2]"
   ]
  },
  {
   "cell_type": "markdown",
   "metadata": {},
   "source": [
    "To access the first element `'a'` of the first row `['a','b']` we would add another subscript operator with index 0:"
   ]
  },
  {
   "cell_type": "code",
   "execution_count": 6,
   "metadata": {},
   "outputs": [
    {
     "data": {
      "text/plain": [
       "'a'"
      ]
     },
     "execution_count": 6,
     "metadata": {},
     "output_type": "execute_result"
    }
   ],
   "source": [
    "m[0][0]"
   ]
  },
  {
   "cell_type": "markdown",
   "metadata": {},
   "source": [
    "To access the second elemnt `'b'` of the first row `['a','b']` we would use instead index 1 :"
   ]
  },
  {
   "cell_type": "code",
   "execution_count": 7,
   "metadata": {},
   "outputs": [
    {
     "data": {
      "text/plain": [
       "'b'"
      ]
     },
     "execution_count": 7,
     "metadata": {},
     "output_type": "execute_result"
    }
   ],
   "source": [
    "m[0][1]"
   ]
  },
  {
   "cell_type": "markdown",
   "metadata": {},
   "source": [
    "<div class=\"alert alert-warning\" >\n",
    "\n",
    "**WARNING**: When a matrix is a list of lists, you can only access values with notation `m[i][j]`, **NOT** with `m[i,j]` !!\n",
    "</div>"
   ]
  },
  {
   "cell_type": "code",
   "execution_count": 8,
   "metadata": {},
   "outputs": [],
   "source": [
    "# write here the wrong notation m[0,0] and see which error you get:\n"
   ]
  },
  {
   "cell_type": "markdown",
   "metadata": {},
   "source": [
    "## Exercises\n",
    "\n",
    "Now implement the following functions. \n",
    "\n",
    "<div class=\"alert alert-info\">\n",
    "\n",
    "**REMEMBER**: if the cell is executed and nothing happens, it is because all the assert tests have worked! In such case you probably wrote correct code but careful, these kind of tests are never exhaustive so you could have still made some error.\n",
    "</div>\n",
    "\n",
    "<div class=\"alert alert-info\" >\n",
    "\n",
    "**COMMANDMENT 4: You shall never ever reassign function parameters**\n",
    "</div>\n",
    "\n",
    "```python\n",
    "\n",
    "    def myfun(i, s, L, D):\n",
    "\n",
    "        # You shall not do any of such evil, no matter what the type of the parameter is:\n",
    "        i = 666            # basic types (int, float, ...)\n",
    "        s = \"666\"          # strings\n",
    "        L = [666]          # containers \n",
    "        D = {\"evil\":666}   # dictionaries\n",
    "\n",
    "        # For the sole case of composite parameters like lists or dictionaries, \n",
    "        # you can write stuff like this IF AND ONLY IF the function specification \n",
    "        # requires you to modify the parameter internal elements (i.e. sorting a list\n",
    "        # or changing a dictionary field):\n",
    "\n",
    "        L[4] = 2             # list\n",
    "        D[\"my field\"] = 5    # dictionary\n",
    "        C.my_field = 7       # class\n",
    "```\n",
    "\n",
    "\n",
    "<div class=\"alert alert-info\" >\n",
    "\n",
    "**COMMANDMENT 7: You shall use `return` command only if you see written _return_ in the function description!**\n",
    "</div>\n",
    "\n",
    "If there is no `return` in function description, the function is intended to return `None`. In this case you don't even need to write `return None`, as Python will do it implicitly for you.\n",
    "\n"
   ]
  },
  {
   "cell_type": "markdown",
   "metadata": {},
   "source": [
    "### Matrix dimensions\n",
    "\n",
    "✪ **EXERCISE**: For getting matrix dimensions, we can use normal list operations. Which ones? You can assume the matrix is well formed (all rows have equal length) and has at least one row and at least one column"
   ]
  },
  {
   "cell_type": "code",
   "execution_count": 9,
   "metadata": {},
   "outputs": [],
   "source": [
    "m = [\n",
    "        ['a','b'],\n",
    "        ['c','d'],\n",
    "        ['a','e']    \n",
    "    ]"
   ]
  },
  {
   "cell_type": "code",
   "execution_count": 10,
   "metadata": {},
   "outputs": [
    {
     "name": "stdout",
     "output_type": "stream",
     "text": [
      "rows\n",
      "3\n",
      "columns\n",
      "2\n"
     ]
    }
   ],
   "source": [
    "# write here code for printing rows and columns\n",
    "\n",
    "# the outer list is a list of rows, so to count htem we just use len(m)\n",
    "\n",
    "print(\"rows\")\n",
    "print(len(m))\n",
    "\n",
    "# if we assume the matrix is well formed and has at least one row and column, we can directly check the length\n",
    "# of the first row\n",
    "\n",
    "print(\"columns\")\n",
    "print(len(m[0]))"
   ]
  },
  {
   "cell_type": "markdown",
   "metadata": {},
   "source": [
    "### extract_row\n",
    "\n",
    "One of the first things you might want to do is to extract the i-th row. If you're implementing a function that does this, you have basically two choices. Either you \n",
    "\n",
    "1. return a _pointer_ to the _original_ row\n",
    "2. return a  _copy_ of the row. \n",
    "\n",
    "Since a copy consumes memory, why should you ever want to return a copy? Sometimes you should because you don't know which use will be done of the data structure. For example, suppose you got a book of exercises which has empty spaces to write exercises in. It's such a great book everybody in the classroom wants to read it - but you are afraid if the book starts changing hands some careless guy might write on it. To avoid problems, you make a copy of the book and distribute it (let's leave copyright infringment matters aside :-)\n",
    "\n",
    "### extract_row_pointer\n",
    "\n",
    "So first let's see what happens when you just return a _pointer_ to the _original_ row. \n",
    "\n",
    "**NOTE**: For convenience, at the end of the cell we put a magic call to `jupman.pytut()` which shows the code execution like in Python tutor (for further info about `jupman.pytut()`, [see here](https://datasciprolab.readthedocs.io/en/latest/exercises/introduction/introduction-solution.html#Python-Tutor-inside-Jupyter)). If execute all the code in Python tutor, you will see that at the end you have two arrow pointers to the row `['a','b']`, one starting from `m` list and one from `row` variable.\n"
   ]
  },
  {
   "cell_type": "code",
   "execution_count": 11,
   "metadata": {},
   "outputs": [
    {
     "data": {
      "text/html": [
       "\n",
       "        <iframe\n",
       "            width=\"900\"\n",
       "            height=\"600\"\n",
       "            src=\"https://pythontutor.com/iframe-embed.html#code=def+extract_row_pointer%28mat%2C+i%29%3A%0A++++%22%22%22+RETURN+the+ith+row+from+mat%0A++++++++NOTE%3A+the+underlying+row+is+returned%2C+so+modifications+to+it+will+also+modify+original+mat%0A++++%22%22%22%0A++++return+mat%5Bi%5D%0A%0A++++%0Am+%3D+%5B%0A++++++%5B%27a%27%2C%27b%27%5D%2C%0A++++++%5B%27c%27%2C%27d%27%5D%2C%0A++++++%5B%27a%27%2C%27e%27%5D%2C++++%0A%5D%0A%0Arow+%3D+extract_row_pointer%28m%2C+0%29%0A%0A%0A&cumulative=false&py=3&curInstr=0\"\n",
       "            frameborder=\"0\"\n",
       "            allowfullscreen\n",
       "        ></iframe>\n",
       "        "
      ],
      "text/plain": [
       "<IPython.lib.display.IFrame at 0x7fd39c36e828>"
      ]
     },
     "execution_count": 11,
     "metadata": {},
     "output_type": "execute_result"
    }
   ],
   "source": [
    "def extract_row_pointer(mat, i):\n",
    "    \"\"\" RETURN the ith row from mat\n",
    "        NOTE: the underlying row is returned, so modifications to it will also modify original mat\n",
    "    \"\"\"\n",
    "    return mat[i]\n",
    "\n",
    "    \n",
    "m = [\n",
    "      ['a','b'],\n",
    "      ['c','d'],\n",
    "      ['a','e'],    \n",
    "]\n",
    "\n",
    "row = extract_row_pointer(m, 0)\n",
    "\n",
    "\n",
    "jupman.pytut()"
   ]
  },
  {
   "cell_type": "markdown",
   "metadata": {},
   "source": [
    "### extract_row_f\n",
    "\n",
    "✪ Now try to implement a version which returns a copy of the row. \n"
   ]
  },
  {
   "cell_type": "markdown",
   "metadata": {},
   "source": [
    "You might be tempted to  implement something like this: "
   ]
  },
  {
   "cell_type": "code",
   "execution_count": 12,
   "metadata": {},
   "outputs": [
    {
     "data": {
      "text/html": [
       "\n",
       "        <iframe\n",
       "            width=\"900\"\n",
       "            height=\"775\"\n",
       "            src=\"https://pythontutor.com/iframe-embed.html#code=%23+WARNING%3A+WRONG+CODE%21%21%21%21%0A%23+It+is+adding+a+LIST+as+element+to+another+empty+list.+%0A%23+In+other+words%2C+it+is+wrapping+the+row+%28which+is+already+a+list%29+into+another+list.+%0A%0Adef+extract_row%28mat%2C+i%29%3A%0A++++%22%22%22+RETURN+the+ith+row+from+mat.+NOTE%3A+the+row+MUST+be+a+new+list+%21+%22%22%22%0A++++%0A++++riga+%3D+%5B%5D%0A++++riga.append%28mat%5Bi%5D%29++%0A++++return+riga%0A%0A%0A%23+Let%27s+check+the+problem+in+Python+tutor%21+You+will+see+an+arrow+going+from+row+to+a+list+of+one+element+%0A%23+which+will+contain+exactly+one+arrow+to+the+original+row.%0A++++%0Am+%3D+%5B%0A++++++%5B%27a%27%2C%27b%27%5D%2C%0A++++++%5B%27c%27%2C%27d%27%5D%2C%0A++++++%5B%27a%27%2C%27e%27%5D%2C++++%0A%5D%0A%0Arow+%3D+extract_row%28m%2C0%29%0A%0A&cumulative=false&py=3&curInstr=0\"\n",
       "            frameborder=\"0\"\n",
       "            allowfullscreen\n",
       "        ></iframe>\n",
       "        "
      ],
      "text/plain": [
       "<IPython.lib.display.IFrame at 0x7fd39c309fd0>"
      ]
     },
     "execution_count": 12,
     "metadata": {},
     "output_type": "execute_result"
    }
   ],
   "source": [
    "# WARNING: WRONG CODE!!!!\n",
    "# It is adding a LIST as element to another empty list. \n",
    "# In other words, it is wrapping the row (which is already a list) into another list. \n",
    "\n",
    "def extract_row(mat, i):\n",
    "    \"\"\" RETURN the ith row from mat. NOTE: the row MUST be a new list ! \"\"\"\n",
    "    \n",
    "    riga = []\n",
    "    riga.append(mat[i])  \n",
    "    return riga\n",
    "\n",
    "\n",
    "# Let's check the problem in Python tutor! You will see an arrow going from row to a list of one element \n",
    "# which will contain exactly one arrow to the original row.\n",
    "    \n",
    "m = [\n",
    "      ['a','b'],\n",
    "      ['c','d'],\n",
    "      ['a','e'],    \n",
    "]\n",
    "\n",
    "row = extract_row(m,0)\n",
    "\n",
    "jupman.pytut()"
   ]
  },
  {
   "cell_type": "markdown",
   "metadata": {},
   "source": [
    "You can build an actual copy in several ways, with a for, a slice or a list comprehension. Try to implement all versions, starting with the for here. Be sure to check your result with Python tutor - to visualize python tutor inside the cell output, you might use the special command `jupman.pytut()` at the end of the cell as we did before. If you run the code with Python tutor, you should see only _one_ arrow going to the original `['a','b']` row in `m`, and there should be _another_ `['a','b']` copy somewhere, with `row` variable pointing to it. "
   ]
  },
  {
   "cell_type": "code",
   "execution_count": 13,
   "metadata": {},
   "outputs": [],
   "source": [
    "def extract_row_f(mat, i):\n",
    "    \"\"\" RETURN the ith row from mat. \n",
    "        NOTE: the row MUST be a new list! To create a new list use a for cycle \n",
    "              which iterates over the elements, _not_ the indexes (so don't use range!)\n",
    "    \"\"\"\n",
    "    #jupman-raise\n",
    "    riga = []\n",
    "    for x in mat[i]:\n",
    "        riga.append(x) \n",
    "    return riga    \n",
    "    #/jupman-raise\n",
    "    \n",
    "m = [\n",
    "      ['a','b'],\n",
    "      ['c','d'],\n",
    "      ['a','e'],    \n",
    "]\n",
    "\n",
    "assert extract_row_f(m, 0) == ['a','b']\n",
    "assert extract_row_f(m, 1) == ['c','d']\n",
    "assert extract_row_f(m, 2) == ['a','e']\n",
    "\n",
    "# check it didn't change the original matrix !\n",
    "r = extract_row_f(m, 0)\n",
    "r[0] = 'z'\n",
    "assert m[0][0] == 'a'   \n",
    "\n",
    "# uncomment if you want to visualize execution here (you need to be online for this to work)\n",
    "#jupman.pytut()"
   ]
  },
  {
   "cell_type": "markdown",
   "metadata": {},
   "source": [
    "### extract_row_fr"
   ]
  },
  {
   "cell_type": "markdown",
   "metadata": {},
   "source": [
    "✪ Now try to iterate over a range of row indexes. Let's have a quick look at `range(n)`. Maybe you think it should return a sequence of integers, from zero to `n - 1`. Does it?"
   ]
  },
  {
   "cell_type": "code",
   "execution_count": 14,
   "metadata": {},
   "outputs": [
    {
     "data": {
      "text/plain": [
       "range(0, 5)"
      ]
     },
     "execution_count": 14,
     "metadata": {},
     "output_type": "execute_result"
    }
   ],
   "source": [
    "range(5)"
   ]
  },
  {
   "cell_type": "markdown",
   "metadata": {},
   "source": [
    "Maybe you expected to see something like a list `[0,1,2,3,4]`, instead we just discovered Python is pretty lazy here: `range(n)` actually returns an  _iterabile_ object, not a real sequence materialized in memory.\n",
    "\n",
    "To get an actual list of integers, we must explicitly ask this iterable object to give us the numbers one by one. \n",
    "\n",
    "When you write `for i in range(5)` the for cycle is doing exactly this, at each round it is asking the range object to generate a number in the sequence. If we want the whole sequence materialized in memory, we can generate it by converting the range to a list object:"
   ]
  },
  {
   "cell_type": "code",
   "execution_count": 15,
   "metadata": {},
   "outputs": [
    {
     "data": {
      "text/plain": [
       "[0, 1, 2, 3, 4]"
      ]
     },
     "execution_count": 15,
     "metadata": {},
     "output_type": "execute_result"
    }
   ],
   "source": [
    "list(range(5))"
   ]
  },
  {
   "cell_type": "markdown",
   "metadata": {},
   "source": [
    "Be careful, though. Depending on the size of the sequence, this might be dangerous. A list of billion elements might saturate the RAM of your computer (as of 2018 laptops come with 4 gigabytes of RAM memory, that is 4 billion of bytes). "
   ]
  },
  {
   "cell_type": "markdown",
   "metadata": {},
   "source": [
    "Now implement the `extract_row_fr` iterating over a range of row indexes:"
   ]
  },
  {
   "cell_type": "code",
   "execution_count": 16,
   "metadata": {},
   "outputs": [],
   "source": [
    "def extract_row_fr(mat, i):\n",
    "    \"\"\" RETURN the ith row from mat. \n",
    "        NOTE: the row MUST be a new list! To create a new list use a for cycle \n",
    "              which iterates over the indexes, _not_ the elements (so use range!)\n",
    "    \"\"\"\n",
    "    #jupman-raise\n",
    "    riga = []\n",
    "    for j in range(len(mat[0])):\n",
    "        riga.append(mat[i][j]) \n",
    "    return riga    \n",
    "    #/jupman-raise\n",
    "    \n",
    "m = [\n",
    "      ['a','b'],\n",
    "      ['c','d'],\n",
    "      ['a','e'],    \n",
    "]\n",
    "\n",
    "assert extract_row_fr(m, 0) == ['a','b']\n",
    "assert extract_row_fr(m, 1) == ['c','d']\n",
    "assert extract_row_fr(m, 2) == ['a','e']\n",
    "\n",
    "# check it didn't change the original matrix !\n",
    "r = extract_row_fr(m, 0)\n",
    "r[0] = 'z'\n",
    "assert m[0][0] == 'a'   \n",
    "\n",
    "# uncomment if you want to visualize execution here (you need to be online for this to work)\n",
    "#jupman.pytut()"
   ]
  },
  {
   "cell_type": "markdown",
   "metadata": {},
   "source": [
    "### extract_row_s\n",
    "\n",
    "✪ Remember slices return a _copy_ of a list? Now try to use them."
   ]
  },
  {
   "cell_type": "code",
   "execution_count": 17,
   "metadata": {},
   "outputs": [],
   "source": [
    "def extract_row_s(mat, i):\n",
    "    \"\"\" RETURN the ith row from mat. \n",
    "        NOTE: the row MUST be a new list! To create a new list use slices.\n",
    "    \"\"\"\n",
    "    #jupman-raise\n",
    "    return mat[i][:]  # if you omit start end end indexes, you get a copy of the whole list\n",
    "    #/jupman-raise\n",
    "    \n",
    "m = [\n",
    "      ['a','b'],\n",
    "      ['c','d'],\n",
    "      ['a','e'],    \n",
    "]\n",
    "\n",
    "\n",
    "assert extract_row_s(m, 0) == ['a','b']\n",
    "assert extract_row_s(m, 1) == ['c','d']\n",
    "assert extract_row_s(m, 2) == ['a','e']\n",
    "\n",
    "# check it didn't change the original matrix !\n",
    "r = extract_row_s(m, 0)\n",
    "r[0] = 'z'\n",
    "assert m[0][0] == 'a'   \n",
    "\n",
    "# uncomment if you want to visualize execution here (you need to be online for this to work)\n",
    "#jupman.pytut()"
   ]
  },
  {
   "cell_type": "markdown",
   "metadata": {},
   "source": [
    "### extract_row_c\n",
    "\n",
    "✪ Try now to use list comprehensions."
   ]
  },
  {
   "cell_type": "code",
   "execution_count": 18,
   "metadata": {},
   "outputs": [],
   "source": [
    "def extract_row_c(mat, i):\n",
    "    \"\"\" RETURN the ith row from mat. \n",
    "        NOTE: the row MUST be a new list! To create a new list use list comprehension.\n",
    "    \"\"\"\n",
    "    #jupman-raise\n",
    "    return [x for x in mat[i]]\n",
    "    #/jupman-raise\n",
    "    \n",
    "m = [\n",
    "      ['a','b'],\n",
    "      ['c','d'],\n",
    "      ['a','e'],    \n",
    "]\n",
    "\n",
    "\n",
    "assert extract_row_c(m, 0) == ['a','b']\n",
    "assert extract_row_c(m, 1) == ['c','d']\n",
    "assert extract_row_c(m, 2) == ['a','e']\n",
    "\n",
    "# check it didn't change the original matrix !\n",
    "r = extract_row_c(m, 0)\n",
    "r[0] = 'z'\n",
    "assert m[0][0] == 'a'   \n",
    "\n",
    "# uncomment if you want to visualize execution here (you need to be online for this to work)\n",
    "#jupman.pytut()"
   ]
  },
  {
   "cell_type": "markdown",
   "metadata": {},
   "source": [
    "### extract_col_f\n",
    "\n",
    "✪✪ Now we can try to extract a column at `j`th position. This time we will be forced to create a new list, so we don't  have to wonder if we need to return a pointer or a copy."
   ]
  },
  {
   "cell_type": "code",
   "execution_count": 19,
   "metadata": {},
   "outputs": [],
   "source": [
    "def extract_col_f(mat, j):\n",
    "    \"\"\" RETURN the jth column from mat. To create it, use a for  \"\"\"\n",
    "    \n",
    "    #jupman-raise\n",
    "    ret = []\n",
    "    for row in mat: \n",
    "        ret.append(row[j])\n",
    "    return ret\n",
    "    #/jupman-raise\n",
    "\n",
    "m = [\n",
    "      ['a','b'],\n",
    "      ['c','d'],\n",
    "      ['a','e'],    \n",
    "]\n",
    "\n",
    "assert extract_col_f(m, 0) == ['a','c','a']\n",
    "assert extract_col_f(m, 1) == ['b','d','e']\n",
    "\n",
    "# check returned column does not modify m\n",
    "c = extract_col_f(m,0)\n",
    "c[0] = 'z'\n",
    "assert m[0][0] == 'a'\n",
    "\n",
    "# uncomment if you want to visualize execution here (you need to be online for this to work)\n",
    "#jupman.pytut()"
   ]
  },
  {
   "cell_type": "markdown",
   "metadata": {},
   "source": [
    "### extract_col_c\n",
    "\n",
    "Difficulty: ✪✪"
   ]
  },
  {
   "cell_type": "code",
   "execution_count": 20,
   "metadata": {},
   "outputs": [],
   "source": [
    "def extract_col_c(mat, j):\n",
    "    \"\"\" RETURN the jth column from mat. To create it, use a list comprehension  \"\"\"\n",
    "    \n",
    "    #jupman-raise\n",
    "    return [row[j] for row in mat] \n",
    "    #/jupman-raise\n",
    "\n",
    "m = [\n",
    "      ['a','b'],\n",
    "      ['c','d'],\n",
    "      ['a','e'],    \n",
    "]\n",
    "\n",
    "assert extract_col_c(m, 0) == ['a','c','a']\n",
    "assert extract_col_c(m, 1) == ['b','d','e']\n",
    "\n",
    "# check returned column does not modify m\n",
    "c = extract_col_c(m,0)\n",
    "c[0] = 'z'\n",
    "assert m[0][0] == 'a'\n",
    "\n",
    "# uncomment if you want to visualize execution here (you need to be online for this to work)\n",
    "#jupman.pytut()"
   ]
  },
  {
   "cell_type": "markdown",
   "metadata": {},
   "source": [
    "### deep_clone\n",
    "\n",
    "✪✪ Let's try to produce a _complete_ clone of the matrix, also called a _deep clone_, by creating a copy of the external list _and_ also the internal lists representing the rows.\n",
    "\n",
    "You might be tempted to write code like this:"
   ]
  },
  {
   "cell_type": "code",
   "execution_count": 21,
   "metadata": {},
   "outputs": [
    {
     "data": {
      "text/html": [
       "\n",
       "        <iframe\n",
       "            width=\"900\"\n",
       "            height=\"625\"\n",
       "            src=\"https://pythontutor.com/iframe-embed.html#code=%23+WARNING%3A+WRONG+CODE%0Adef+deep_clone_wrong%28mat%29%3A%0A++++%22%22%22+RETURN+a+NEW+list+of+lists+which+is+a+COMPLETE+DEEP+clone%0A++++++++of+mat+%28which+is+a+list+of+lists%29%0A++++%22%22%22%0A++++return+mat%5B%3A%5D+%23+NOT+SUFFICIENT+%21%0A++++++++++++++++++%23+This+is+a+SHALLOW+clone%2C+it%27s+only+copying+the+_external_+list%0A++++++++++++++++++%23+and+not+also+the+internal+ones+%21%0A%0Am+%3D+%5B%0A++++++++%5B%27a%27%2C%27b%27%5D%2C%0A++++++++%5B%27b%27%2C%27d%27%5D%0A++++%5D+++++++%0A++++++++%0Ares+%3D+deep_clone_wrong%28m%29%0A%0A%23+Notice+you+will+have+arrows+in+res+list+going+to+the+_original_+mat.+We+don%27t+want+this+%21%0A&cumulative=false&py=3&curInstr=0\"\n",
       "            frameborder=\"0\"\n",
       "            allowfullscreen\n",
       "        ></iframe>\n",
       "        "
      ],
      "text/plain": [
       "<IPython.lib.display.IFrame at 0x7fd39c375c88>"
      ]
     },
     "execution_count": 21,
     "metadata": {},
     "output_type": "execute_result"
    }
   ],
   "source": [
    "\n",
    "# WARNING: WRONG CODE\n",
    "def deep_clone_wrong(mat):\n",
    "    \"\"\" RETURN a NEW list of lists which is a COMPLETE DEEP clone\n",
    "        of mat (which is a list of lists)\n",
    "    \"\"\"\n",
    "    return mat[:] # NOT SUFFICIENT !\n",
    "                  # This is a SHALLOW clone, it's only copying the _external_ list\n",
    "                  # and not also the internal ones !\n",
    "\n",
    "m = [\n",
    "        ['a','b'],\n",
    "        ['b','d']\n",
    "    ]       \n",
    "        \n",
    "res = deep_clone_wrong(m)\n",
    "\n",
    "# Notice you will have arrows in res list going to the _original_ mat. We don't want this !\n",
    "jupman.pytut()"
   ]
  },
  {
   "cell_type": "markdown",
   "metadata": {},
   "source": [
    "To fix the above code, you will need to iterate through the rows and _for each_ row create a copy of that row."
   ]
  },
  {
   "cell_type": "code",
   "execution_count": 22,
   "metadata": {},
   "outputs": [],
   "source": [
    "\n",
    "def deep_clone(mat):\n",
    "    \"\"\" RETURN a NEW list of lists which is a COMPLETE DEEP clone\n",
    "        of mat (which is a list of lists)\n",
    "    \"\"\"\n",
    "    #jupman-raise\n",
    "    \n",
    "    ret = []\n",
    "    for row in mat:\n",
    "        ret.append(row[:])\n",
    "    return ret\n",
    "    #/jupman-raise\n",
    "\n",
    "m = [\n",
    "        ['a','b'],\n",
    "        ['b','d']\n",
    "    ]\n",
    "\n",
    "res = [\n",
    "        ['a','b'],\n",
    "        ['b','d']\n",
    "    ]\n",
    "\n",
    "# verify the copy\n",
    "c = deep_clone(m)\n",
    "assert c == res\n",
    "\n",
    "# verify it is a DEEP copy (that is, it created also clones of the rows!)\n",
    "c[0][0] = 'z'\n",
    "assert m[0][0] == 'a'\n"
   ]
  },
  {
   "cell_type": "markdown",
   "metadata": {},
   "source": [
    "### stitch_down\n",
    "\n",
    "Difficulty: ✪✪\n"
   ]
  },
  {
   "cell_type": "code",
   "execution_count": 23,
   "metadata": {},
   "outputs": [],
   "source": [
    "def stitch_down(mat1, mat2):\n",
    "    \"\"\"Given matrices mat1 and mat2  as list of lists, with mat1 of size u x n and mat2 of size d x n,\n",
    "       RETURN a NEW matrix of size (u+d) x n as list of lists, by stitching second mat to the bottom of mat1\n",
    "       NOTE: by NEW matrix we intend a matrix with no pointers to original rows (see previous deep clone exercise)\n",
    "    \"\"\"\n",
    "    #jupman-raise\n",
    "    res = []\n",
    "    for row in mat1:\n",
    "        res.append(row[:])\n",
    "    for row in mat2:\n",
    "        res.append(row[:])\n",
    "    return res\n",
    "    #/jupman-raise\n",
    "    \n",
    "m1 = [\n",
    "        ['a']\n",
    "     ]\n",
    "m2 = [\n",
    "        ['b']\n",
    "     ]\n",
    "assert stitch_down(m1, m2) == [\n",
    "                                ['a'],\n",
    "                                ['b']\n",
    "                              ]\n",
    "\n",
    "# check we are giving back a deep clone\n",
    "s = stitch_down(m1, m2)\n",
    "s[0][0] = 'z'\n",
    "assert m1[0][0] == 'a' \n",
    "\n",
    "m1 = [\n",
    "        ['a','b','c'],\n",
    "        ['d','b','a']\n",
    "     ]\n",
    "m2 = [\n",
    "        ['f','b', 'h'],\n",
    "        ['g','h', 'w']\n",
    "     ]\n",
    "\n",
    "res = [\n",
    "        ['a','b','c'],\n",
    "        ['d','b','a'],\n",
    "        ['f','b','h'],\n",
    "        ['g','h','w']\n",
    "     ]\n",
    "\n",
    "assert stitch_down(m1, m2) == res\n",
    "\n"
   ]
  },
  {
   "cell_type": "markdown",
   "metadata": {},
   "source": [
    "### stitch_up\n",
    "\n",
    "Difficulty: ✪✪"
   ]
  },
  {
   "cell_type": "code",
   "execution_count": 24,
   "metadata": {},
   "outputs": [],
   "source": [
    "def stitch_up(mat1, mat2):\n",
    "    \"\"\"Given matrices mat1 and mat2  as list of lists, with mat1 of size u x n and mat2 of size d x n,\n",
    "       RETURN a NEW matrix of size (u+d) x n as list of lists, by stitching first mat to the bottom of mat2\n",
    "       NOTE: by NEW matrix we intend a matrix with no pointers to original rows (see previous deep clone exercise)\n",
    "       To implement this function, use a call to the method stitch_down you implemented before.\n",
    "    \"\"\"\n",
    "    #jupman-raise\n",
    "    return stitch_down(mat2, mat1)\n",
    "    #/jupman-raise\n",
    "    \n",
    "m1 = [\n",
    "        ['a']\n",
    "     ]\n",
    "m2 = [\n",
    "        ['b']\n",
    "     ]\n",
    "assert stitch_up(m1, m2) == [\n",
    "                                ['b'],\n",
    "                                ['a']\n",
    "                              ]\n",
    "\n",
    "# check we are giving back a deep clone\n",
    "s = stitch_up(m1, m2)\n",
    "s[0][0] = 'z'\n",
    "assert m1[0][0] == 'a'     \n",
    "    \n",
    "m1 = [\n",
    "        ['a','b','c'],\n",
    "        ['d','b','a']\n",
    "     ]\n",
    "m2 = [\n",
    "        ['f','b', 'h'],\n",
    "        ['g','h', 'w']\n",
    "     ]\n",
    "\n",
    "res = [\n",
    "        ['f','b','h'],\n",
    "        ['g','h','w'],\n",
    "        ['a','b','c'],\n",
    "        ['d','b','a']\n",
    "     ]\n",
    "\n",
    "assert stitch_up(m1, m2) == res"
   ]
  },
  {
   "cell_type": "markdown",
   "metadata": {},
   "source": [
    "### stitch_right\n",
    "\n",
    "Difficulty: ✪✪✪"
   ]
  },
  {
   "cell_type": "code",
   "execution_count": 25,
   "metadata": {},
   "outputs": [],
   "source": [
    "\n",
    "def stitch_right(mat1,mat2):\n",
    "    \"\"\"Given matrices mat1 and mat2  as list of lists, with mat1 of size n x l and mat2 of size n x r, \n",
    "       RETURN a NEW matrix of size n x (l + r) as list of lists, by stitching second mat to the right end of mat1\n",
    "    \"\"\"\n",
    "    #jupman-raise\n",
    "    ret = []\n",
    "    for i in range(len(mat1)):\n",
    "        row_to_add =  mat1[i][:]\n",
    "        row_to_add.extend(mat2[i])\n",
    "        ret.append(row_to_add)\n",
    "    return ret\n",
    "    #/jupman-raise\n",
    "    \n",
    "\n",
    "m1 = [\n",
    "        ['a','b','c'],\n",
    "        ['d','b','a']\n",
    "     ]\n",
    "m2 = [\n",
    "        ['f','b'],\n",
    "        ['g','h']\n",
    "     ]\n",
    "\n",
    "res = [\n",
    "        ['a','b','c','f','b'],\n",
    "        ['d','b','a','g','h']\n",
    "      ]\n",
    "\n",
    "assert stitch_right(m1, m2) == res"
   ]
  },
  {
   "cell_type": "markdown",
   "metadata": {},
   "source": [
    "### stitch_left_mod\n",
    "\n",
    "✪✪✪ This time let's try to _modify_ `mat1` _in place_, by stitching `mat2` _to the left_ of `mat1`.\n",
    "\n",
    "So this time **don't** put a `return` instruction.\n",
    "\n",
    "You will need to perform list insertion, which can be tricky. There are many ways to do it in Python,\n",
    "one could be using the weird splice assignment insertion:\n",
    "\n",
    "\n",
    "```python\n",
    "mylist[0:0] = list_to_insert  \n",
    "```\n",
    "\n",
    "see here for more info: https://stackoverflow.com/a/10623383"
   ]
  },
  {
   "cell_type": "code",
   "execution_count": 26,
   "metadata": {},
   "outputs": [],
   "source": [
    "def stitch_left_mod(mat1,mat2):\n",
    "    \"\"\"Given matrices mat1 and mat2  as list of lists, with mat1 of size n x l and mat2 of size n x r, \n",
    "       MODIFIES mat1 so that it becomes of size n x (l + r), by stitching second mat to the left of mat1\n",
    "       \n",
    "    \"\"\"\n",
    "    #jupman-raise    \n",
    "    for i in range(len(mat1)):\n",
    "        mat1[i][0:0] = mat2[i]\n",
    "    #/jupman-raise\n",
    "    \n",
    "\n",
    "m1 = [\n",
    "        ['a','b','c'],\n",
    "        ['d','b','a']\n",
    "     ]\n",
    "m2 = [\n",
    "        ['f','b'],\n",
    "        ['g','h']\n",
    "     ]\n",
    "\n",
    "res = [\n",
    "        ['f','b','a','b','c'],\n",
    "        ['g','h','d','b','a']\n",
    "     ]\n",
    "\n",
    "stitch_left_mod(m1, m2) \n",
    "assert m1 == res\n"
   ]
  },
  {
   "cell_type": "markdown",
   "metadata": {},
   "source": [
    "### Exceptions and parameter checking\n",
    "\n",
    "Let's look at a parameter validation example (it is not an exercise). \n",
    "\n",
    "If we wanted to implement a function `mydiv(a,b)` which divides `a` by `b` we could check inside that b is not zero. If it is, we might abruptly stop the function raising a [ValueError](https://docs.python.org/3/library/exceptions.html#ValueError). In this case the division by zero actually has already a very specific [ZeroDivisionError](https://docs.python.org/3/library/exceptions.html#ZeroDivisionError), but for the sake of the example we will raise a `ValueError`.\n"
   ]
  },
  {
   "cell_type": "code",
   "execution_count": 27,
   "metadata": {},
   "outputs": [],
   "source": [
    "def mydiv(a,b): \n",
    "    \"\"\" Divides a by b. If b is zero, raises a ValueError\n",
    "    \"\"\"\n",
    "    if b == 0:\n",
    "        raise ValueError(\"Invalid divisor 0\")\n",
    "    return a / b\n",
    "\n",
    "# to check the function actually raises ValueError when called, we might write a quick test like this:\n",
    "\n",
    "try: \n",
    "    mydiv(3,0)\n",
    "    raise Exception(\"SHOULD HAVE FAILED !\")  # if mydiv raises an exception which is ValueError as we expect it to do,\n",
    "                                             # the code should never arrive here\n",
    "except ValueError: # this only catches ValueError. Other types of errors are not catched\n",
    "    \"passed test\"  # In an except clause you always need to put some code. \n",
    "                   # Here we put a placeholder string just to fill in\n",
    "         \n",
    "            \n",
    "assert mydiv(6,2) == 3"
   ]
  },
  {
   "cell_type": "markdown",
   "metadata": {},
   "source": [
    "### diag\n",
    "\n",
    "✪✪ `diag` extracts the diagonal of a matrix. To do so,  `diag` requires an nxn matrix as input. To make sure we actually get an nxn matrix, this time you will have to validate the input, that is check if the number of rows is equal to the number of columns (as always we assume the matrix has at least one row and at least one column). If the matrix is not nxn, the function should stop raising an exception. In particular, it shoud raise a [ValueError](https://docs.python.org/3/library/exceptions.html#ValueError), which is the standard Python exception to raise when the expected input is not correct and you can't find any other more specific error.\n",
    "\n",
    "Just for illustrative puroposes, we show here the index numbers `i` and `j` and avoid putting apices around strings:\n",
    "\n",
    "```\n",
    "    \\ j  0,1,2,3  \n",
    "    i \n",
    "       [\n",
    "    0   [a,b,c,d],\n",
    "    1   [e,f,g,h],\n",
    "    2   [p,q,r,s],\n",
    "    3   [t,u,v,z]\n",
    "       ]\n",
    "```\n",
    "\n",
    "Let's see a step by step execution:\n",
    "\n",
    "```\n",
    "                                \\ j  0,1,2,3  \n",
    "                                i \n",
    "                                   [\n",
    " extract from row at i=0  -->   0   [a,b,c,d],        'a' is extracted from  mat[0][0]\n",
    "                                1   [e,f,g,h],\n",
    "                                2   [p,q,r,s],\n",
    "                                3   [t,u,v,z]\n",
    "                                   ]\n",
    "```\n",
    "\n",
    "```\n",
    "                                \\ j  0,1,2,3  \n",
    "                                i \n",
    "                                   [\n",
    "                                0   [a,b,c,d],           \n",
    " extract from row at i=1  -->   1   [e,f,g,h],        'f' is extracted from mat[1][1]\n",
    "                                2   [p,q,r,s], \n",
    "                                3   [t,u,v,z]\n",
    "                                   ]\n",
    "```\n",
    "\n",
    "```\n",
    "                                \\ j  0,1,2,3  \n",
    "                                i \n",
    "                                   [\n",
    "                                0   [a,b,c,d],           \n",
    "                                1   [e,f,g,h],\n",
    " extract from row at i=2  -->   2   [p,q,r,s],        'r' is extracted from mat[2][2]\n",
    "                                3   [t,u,v,z]\n",
    "                                   ]\n",
    "```\n",
    "\n",
    "```\n",
    "                                \\ j  0,1,2,3  \n",
    "                                i \n",
    "                                   [\n",
    "                                0   [a,b,c,d],           \n",
    "                                1   [e,f,g,h],\n",
    "                                2   [p,q,r,s],\n",
    " extract from row at i=3  -->   3   [t,u,v,z]         'z' is extracted from mat[3][3]\n",
    "                                   ]\n",
    "\n",
    "From the above, we notice we need elements from these indeces:\n",
    "\n",
    " i, j\n",
    " 1, 1\n",
    " 2, 2\n",
    " 3, 3\n",
    "\n",
    "```\n",
    "\n",
    "There are two ways to solve this exercise, one is to use a double for (a nested for to be precise) while the other method uses only one for. Try to solve it in both ways. How many steps do you need with double for? and with only one?\n",
    "\n",
    "<div class=\"alert alert-info\">\n",
    "\n",
    "**About perfomances**\n",
    "\n",
    "For the purposes of the first part of the course, performance considerations won't be part of the evaluation. So if all the tests run in a decent time on your laptop (and the code is actually correct!), then the exercise is considered solved, even if there are better algorithmic ways to solve it. Typically in this first part you won't have many performance problems, except when we will deal with 100 mb files - in that cases you will be forced to use the right method otherwise your laptop will just keep keep heating without spitting out results \n",
    "\n",
    "In the second part of the course, we will consider performance indeed, so in that part using a double for would be considered an unacceptable waste.\n",
    "</div>"
   ]
  },
  {
   "cell_type": "code",
   "execution_count": 28,
   "metadata": {},
   "outputs": [],
   "source": [
    "\n",
    "def diag(mat):\n",
    "    \"\"\" Given an nxn matrix mat as a list of lists, RETURN a list which contains the elemets in the diagonal\n",
    "        (top left to bottom right corner). \n",
    "        - if mat is not nxn raise ValueError\n",
    "    \"\"\"\n",
    "    #jupman-raise\n",
    "    if len(mat) != len(mat[0]):\n",
    "        raise ValueError(\"Matrix should be nxn, found instead %s x %s\" % (len(mat), len(mat[0])))\n",
    "    ret = []\n",
    "    for i in range(len(mat)):\n",
    "        ret.append(mat[i][i])\n",
    "    return ret\n",
    "    #/jupman-raise\n",
    "\n",
    "m = [\n",
    "        ['a','b','c'],\n",
    "        ['d','e','f'],\n",
    "        ['g','h','i']\n",
    "     ]\n",
    "\n",
    "assert diag(m) == ['a','e','i']\n",
    "\n",
    "try: \n",
    "    diag([              # 1x2 dimension, not square\n",
    "           ['a','b']   \n",
    "         ])  \n",
    "    raise Exception(\"SHOULD HAVE FAILED !\")  # if diag raises an exception which is ValueError as we expect it to do,\n",
    "                                             # the code should never arrive here\n",
    "except ValueError: # this only catches ValueError. Other types of errors are not catched\n",
    "    \"passed test\"  # In an except clause you always need to put some code. \n",
    "                   # Here we put a placeholder string just to fill in\n",
    "\n"
   ]
  },
  {
   "cell_type": "markdown",
   "metadata": {},
   "source": [
    "### anti_diag\n",
    "\n",
    "✪✪ Before implementing it, be sure to write down understand the required indeces as we did in the example for the [diag](#diag) function."
   ]
  },
  {
   "cell_type": "code",
   "execution_count": 29,
   "metadata": {},
   "outputs": [],
   "source": [
    "def anti_diag(mat):\n",
    "    \"\"\" Given an nxn matrix mat as a list of lists, RETURN a list which contains the elemets in the antidiagonal\n",
    "    (top right to bottom left corner). If mat is not nxn raise ValueError\n",
    "    \"\"\"\n",
    "    #jupman-raise\n",
    "    n = len(mat)\n",
    "    ret = []\n",
    "    for i in range(n):\n",
    "        ret.append(mat[i][n-i-1])\n",
    "    return ret\n",
    "    #/jupman-raise\n",
    "\n",
    "m = [\n",
    "        ['a','b','c'],\n",
    "        ['d','e','f'],\n",
    "        ['g','h','i']\n",
    "     ]\n",
    "\n",
    "assert anti_diag(m) == ['c','e','g']\n",
    "\n",
    "# If you have doubts about the indexes remember to try it in python tutor !\n",
    "# jupman.pytut()"
   ]
  },
  {
   "cell_type": "markdown",
   "metadata": {},
   "source": [
    "### is_utriang\n",
    "\n",
    "✪✪✪ You will now try to iterate only the lower triangular half of a matrix. Let's look at an example:\n"
   ]
  },
  {
   "cell_type": "code",
   "execution_count": 30,
   "metadata": {},
   "outputs": [],
   "source": [
    "m = [\n",
    "        [3,2,5,8],\n",
    "        [0,6,2,3],\n",
    "        [0,0,4,9],\n",
    "        [0,0,0,5]\n",
    "    ]"
   ]
  },
  {
   "cell_type": "markdown",
   "metadata": {},
   "source": [
    "Just for illustrative puroposes, we show here the index numbers `i` and `j`:\n",
    "```\n",
    "    \\ j  0,1,2,3  \n",
    "    i \n",
    "       [\n",
    "    0   [3,2,5,8],\n",
    "    1   [0,6,2,3],\n",
    "    2   [0,0,4,9],\n",
    "    3   [0,7,0,5]\n",
    "       ]\n",
    "```\n",
    "\n",
    "Let's see a step by step execution an a non-upper triangular matrix:\n",
    "\n",
    "```\n",
    "                                \\ j  0,1,2,3  \n",
    "                                i \n",
    "                                   [\n",
    "                                0   [3,2,5,8],\n",
    "start from row at index i=1 ->  1   [0,6,2,3],      Check until column limit j=0 included\n",
    "                                2   [0,0,4,9],\n",
    "                                3   [0,7,0,5]\n",
    "                                   ]\n",
    "```\n",
    "\n",
    "One zero is found, time to check next row.\n",
    "\n",
    "```\n",
    "                                \\ j  0,1,2,3  \n",
    "                                i \n",
    "                                   [\n",
    "                                0   [3,2,5,8],\n",
    "                                1   [0,6,2,3],\n",
    "check row at index i=2    --->  2   [0,0,4,9],      Check until column limit j=1 included\n",
    "                                3   [0,7,0,5]\n",
    "                                   ]\n",
    "```\n",
    "\n",
    "Two zeros are found. Time to check next row.\n",
    "\n",
    "```\n",
    "                                \\ j  0,1,2,3  \n",
    "                                i \n",
    "                                   [\n",
    "                                0   [3,2,5,8],\n",
    "                                1   [0,6,2,3],\n",
    "                                2   [0,0,4,9],\n",
    "check row at index i=3    --->  3   [0,7,0,5]       Check until column limit j=2 included\n",
    "                                   ]                BUT can stop sooner at j=1 because number at j=1\n",
    "                                                    is different from zero. As soon as 7 is found, can return False\n",
    "                                                    In this case the matrix is not upper triangular\n",
    "\n",
    "```\n",
    "\n",
    "When you develop these algorithms, it is fundamental to write down a step by step example like the above to get a clear picture of what is happening. Also, if you write down the indeces correctly, you will easily be able to derive a generalization. To find it, try to further write the found indeces in a table. \n",
    "\n",
    "For example, from above for each row index `i` we can easily find out  which limit index `j` we need to reach for our hunt for zeros:\n",
    "\n",
    "```\n",
    "| i | limit j (included) |            Notes                | \n",
    "|---|--------------------|---------------------------------|\n",
    "| 1 |          0         |  we start from row at index i=1 |\n",
    "| 2 |          1         |                                 |\n",
    "| 3 |          2         |                                 |\n",
    "```\n",
    "\n",
    "From the table, we can see the limit for j can be calculated in terms of the current row index `i` with the simple formula `i - 1`"
   ]
  },
  {
   "cell_type": "markdown",
   "metadata": {},
   "source": [
    "The fact you need to span through rows and columns suggest you need two `for`s, one for rows and one for columns - that is, a _nested for_. \n",
    "\n",
    "* please use ranges of indexes to carry out the task (no `for row in mat` ..)\n",
    "* please use letter `i` as index for rows, `j` as index of columns and in case you need it `n` letter as matrix dimension\n",
    "\n",
    "**HINT 1**: remember you can set range to start from a specific index, like `range(3,7)` will start from 3 and end to 6 _included_ (last 7 is _excluded_!)\n",
    "\n",
    "**HINT 2**: To implement this, it is best looking for numbers _different_ from zero. As soon as you find\n",
    "        one, you can stop the function and return False. Only after _all_ the number checking \n",
    "        is done you can return True.\n",
    "        \n",
    " Finally, be reminded of the following:"
   ]
  },
  {
   "cell_type": "markdown",
   "metadata": {},
   "source": [
    "<div class=\"alert alert-info\" >\n",
    "\n",
    "**COMMANDMENT 9: Whenever you introduce a variable with a for cycle, such variable must be new**\n",
    "</div>"
   ]
  },
  {
   "cell_type": "markdown",
   "metadata": {},
   "source": [
    "If you defined a variable before, you shall not reintroduce it in a `for`, since it is as confusing as reassigning function parameters.\n",
    "\n",
    "So avoid this sins:"
   ]
  },
  {
   "cell_type": "code",
   "execution_count": 31,
   "metadata": {},
   "outputs": [
    {
     "name": "stdout",
     "output_type": "stream",
     "text": [
      "0\n",
      "1\n",
      "2\n"
     ]
    }
   ],
   "source": [
    "i = 7\n",
    "for i in range(3):  # sin, you lose i variable\n",
    "    print(i)"
   ]
  },
  {
   "cell_type": "code",
   "execution_count": 32,
   "metadata": {},
   "outputs": [],
   "source": [
    "def f(i):\n",
    "    for i in range(3): # sin again, you lose i parameter\n",
    "        print(i)"
   ]
  },
  {
   "cell_type": "code",
   "execution_count": 33,
   "metadata": {
    "scrolled": false
   },
   "outputs": [
    {
     "name": "stdout",
     "output_type": "stream",
     "text": [
      "0\n",
      "1\n",
      "2\n",
      "0\n",
      "1\n",
      "2\n"
     ]
    }
   ],
   "source": [
    "for i in range(2):      \n",
    "    for i in  range(3):  # debugging hell, you lose i from outer for\n",
    "        print(i)"
   ]
  },
  {
   "cell_type": "markdown",
   "metadata": {},
   "source": [
    "If you read _all_ the above, start implementing the function:"
   ]
  },
  {
   "cell_type": "code",
   "execution_count": 34,
   "metadata": {},
   "outputs": [],
   "source": [
    "def is_utriang(mat):\n",
    "    \"\"\" Takes a RETURN True if the provided nxn matrix is upper triangular, that is, has all the entries \n",
    "        below the diagonal set to zero. Return False otherwise.\n",
    "    \"\"\"\n",
    "    #jupman-raise\n",
    "    n = len(mat)\n",
    "    m = len(mat[0])\n",
    "    \n",
    "    for i in range(1,n):\n",
    "        for j in range(i): # notice it arrives until i *excluded*, that is, arrives to i - 1 *included*\n",
    "            if mat[i][j] != 0:\n",
    "                return False\n",
    "    return True\n",
    "    #/jupman-raise\n",
    "    \n",
    "assert is_utriang([\n",
    "                    [1]\n",
    "                  ]) == True\n",
    "assert is_utriang([\n",
    "    [3,2,5],\n",
    "    [0,6,2],\n",
    "    [0,0,4]\n",
    "]) == True\n",
    "\n",
    "assert is_utriang([\n",
    "    [3,2,5],\n",
    "    [0,6,2],\n",
    "    [1,0,4]\n",
    "]) == False\n",
    "\n",
    "assert is_utriang([\n",
    "    [3,2,5],\n",
    "    [0,6,2],\n",
    "    [1,1,4]\n",
    "]) == False\n",
    "\n",
    "assert is_utriang([\n",
    "    [3,2,5],\n",
    "    [0,6,2],\n",
    "    [0,1,4]\n",
    "]) == False\n",
    "\n",
    "\n",
    "assert is_utriang([\n",
    "    [3,2,5],\n",
    "    [1,6,2],\n",
    "    [1,0,4]\n",
    "]) == False\n"
   ]
  },
  {
   "cell_type": "markdown",
   "metadata": {},
   "source": [
    "### transpose_1\n",
    "\n",
    "✪✪✪ Transpose a matrix _in-place_. The transpose $M^T$ of a matrix $M$ is defined as "
   ]
  },
  {
   "cell_type": "markdown",
   "metadata": {},
   "source": [
    "$M^T[i][j] = M[j][i]$"
   ]
  },
  {
   "cell_type": "markdown",
   "metadata": {},
   "source": [
    "The definition is simple yet implementation might be tricky. If you're not careful, you could easily end up swapping the values twice and get the same original matrix. To prevent this, iterate only the upper triangular part of the matrix and remember `range` funciton can also have a start index:"
   ]
  },
  {
   "cell_type": "code",
   "execution_count": 35,
   "metadata": {},
   "outputs": [
    {
     "data": {
      "text/plain": [
       "[3, 4, 5, 6]"
      ]
     },
     "execution_count": 35,
     "metadata": {},
     "output_type": "execute_result"
    }
   ],
   "source": [
    "list(range(3,7))"
   ]
  },
  {
   "cell_type": "markdown",
   "metadata": {},
   "source": [
    "Also, make sure you know how to swap just two values by solving first this very simple exercise - also check the result in Python Tutor"
   ]
  },
  {
   "cell_type": "code",
   "execution_count": 36,
   "metadata": {},
   "outputs": [
    {
     "data": {
      "text/html": [
       "\n",
       "        <iframe\n",
       "            width=\"900\"\n",
       "            height=\"425\"\n",
       "            src=\"https://pythontutor.com/iframe-embed.html#code=x+%3D+3%0Ay+%3D+7%0A%0A%23+write+here+code+for+swapping+x+and+y+%28don%27t+directly+use+the+constants+3+and+7%21%29%0A%0Ak+%3D+x+++%0Ax+%3D+y%0Ay+%3D+k%0A%0A&cumulative=false&py=3&curInstr=0\"\n",
       "            frameborder=\"0\"\n",
       "            allowfullscreen\n",
       "        ></iframe>\n",
       "        "
      ],
      "text/plain": [
       "<IPython.lib.display.IFrame at 0x7fd39c24f710>"
      ]
     },
     "execution_count": 36,
     "metadata": {},
     "output_type": "execute_result"
    }
   ],
   "source": [
    "x = 3\n",
    "y = 7\n",
    "\n",
    "# write here code for swapping x and y (don't directly use the constants 3 and 7!)\n",
    "\n",
    "k = x   \n",
    "x = y\n",
    "y = k\n",
    "\n",
    "jupman.pytut()"
   ]
  },
  {
   "cell_type": "markdown",
   "metadata": {},
   "source": [
    "Going back to the transpose, for now we will consider only an nxn matrix. To make sure we actually get an nxn matrix, this time you will have to validate the input, that is check if the number of rows is equal to the number of columns (as always we assume the matrix has at least one row and at least one column). If the matrix is not nxn, the function should stop raising an exception. In particular, it shoud raise a [ValueError](https://docs.python.org/3/library/exceptions.html#ValueError), which is the standard Python exception to raise when the expected input is not correct and you can't find any other more specific error.\n"
   ]
  },
  {
   "cell_type": "markdown",
   "metadata": {},
   "source": [
    "<div class=\"alert alert-info\" >\n",
    "\n",
    "**COMMANDMENT 4 (adapted for matrices): You shall never ever reassign function parameters**\n",
    "</div>\n",
    "\n",
    "```python\n",
    "\n",
    "    def myfun(M):\n",
    "\n",
    "        # M is a parameter, so you shall *not* do any of such evil:\n",
    "        \n",
    "        M = [ \n",
    "                [6661,6662],\n",
    "                [6663,6664 ]\n",
    "            ]  \n",
    "\n",
    "\n",
    "        # For the sole case of composite parameters like lists (or lists of lists ..)\n",
    "        # you can write stuff like this IF AND ONLY IF the function specification \n",
    "        # requires you to modify the parameter internal elements (i.e. transposing _in-place_):\n",
    "\n",
    "        M[0][1] =  6663\n",
    "```\n"
   ]
  },
  {
   "cell_type": "markdown",
   "metadata": {},
   "source": [
    "If you read _all_  the above, you can now proceed implementing the `transpose_1` function:"
   ]
  },
  {
   "cell_type": "code",
   "execution_count": 37,
   "metadata": {},
   "outputs": [],
   "source": [
    "def transpose_1(mat):\n",
    "    \"\"\" MODIFIES given nxn matrix mat by transposing it *in-place*. \n",
    "        If the matrix is not nxn, raises a ValueError\n",
    "    \"\"\"\n",
    "    #jupman-raise\n",
    "    if len(mat) != len(mat[0]):\n",
    "        raise ValueError(\"Matrix should be nxn, found instead %s x %s\" % (len(mat), len(mat[0])))\n",
    "    for i in range(len(mat)):\n",
    "        for j in range(i+1,len(mat[i])):\n",
    "            el = m[i][j]\n",
    "            mat[i][j] = m[j][i]\n",
    "            mat[j][i] = el\n",
    "    #/jupman-raise\n",
    "         \n",
    "        \n",
    "# let's try wrong matrix dimensions: \n",
    "\n",
    "try: \n",
    "    transpose_1([\n",
    "                [3,5]\n",
    "              ])\n",
    "    raise Exception(\"SHOULD HAVE FAILED !\")\n",
    "except ValueError:\n",
    "    \"passed test\"\n",
    "            \n",
    "m = [\n",
    "        ['a']\n",
    "    ]\n",
    "\n",
    "transpose_1(m)\n",
    "assert m == [\n",
    "    ['a']\n",
    "]\n",
    "\n",
    "m = [\n",
    "        ['a','b'],\n",
    "        ['c','d']\n",
    "    ]\n",
    "\n",
    "transpose_1(m)\n",
    "assert m == [\n",
    "                ['a','c'],\n",
    "                ['b','d']\n",
    "            ]\n"
   ]
  },
  {
   "cell_type": "markdown",
   "metadata": {},
   "source": [
    "### empty matrix\n",
    "\n",
    "✪✪ There are several ways to create a new empty 3x5 matrix as lists of lists which contains zeros. Try to create one with two nested `for` cycle:"
   ]
  },
  {
   "cell_type": "code",
   "execution_count": 38,
   "metadata": {},
   "outputs": [],
   "source": [
    "def empty_matrix(n, m):\n",
    "    \"\"\"\n",
    "    RETURN a NEW nxm matrix as list of lists filled with zeros. Implement it with a nested for\n",
    "    \"\"\"\n",
    "    #jupman-raise\n",
    "    ret = []\n",
    "    for i in range(n):\n",
    "        row = []\n",
    "        ret.append(row)\n",
    "        for j in range(m):\n",
    "            row.append(0)\n",
    "    return ret\n",
    "    #/jupman-raise\n",
    "\n",
    "assert empty_matrix(1,1) == [\n",
    "    [0]\n",
    "]\n",
    "\n",
    "assert empty_matrix(1,2) == [\n",
    "    [0,0]\n",
    "]\n",
    "\n",
    "assert empty_matrix(2,1) == [\n",
    "    [0],\n",
    "    [0]\n",
    "]\n",
    "\n",
    "assert empty_matrix(2,2) == [\n",
    "    [0,0],\n",
    "    [0,0]\n",
    "]\n",
    "\n",
    "assert empty_matrix(3,3) == [\n",
    "    [0,0,0],\n",
    "    [0,0,0],\n",
    "    [0,0,0]\n",
    "]\n"
   ]
  },
  {
   "cell_type": "markdown",
   "metadata": {},
   "source": [
    "### empty_matrix the elegant way\n"
   ]
  },
  {
   "cell_type": "markdown",
   "metadata": {},
   "source": [
    "To create a new list of 3 elements filled with zeros, you can write like this:"
   ]
  },
  {
   "cell_type": "code",
   "execution_count": 39,
   "metadata": {},
   "outputs": [
    {
     "data": {
      "text/plain": [
       "[0, 0, 0]"
      ]
     },
     "execution_count": 39,
     "metadata": {},
     "output_type": "execute_result"
    }
   ],
   "source": [
    "[0]*3"
   ]
  },
  {
   "cell_type": "markdown",
   "metadata": {},
   "source": [
    "The `*` is kind of multiplying the elements in a list"
   ]
  },
  {
   "cell_type": "markdown",
   "metadata": {},
   "source": [
    "Given the above, to create a 5x3 matrix  filled with zeros, which is a list of seemingly equal lists, you might then be tempted to write like this:"
   ]
  },
  {
   "cell_type": "code",
   "execution_count": 40,
   "metadata": {},
   "outputs": [
    {
     "data": {
      "text/plain": [
       "[[0, 0, 0], [0, 0, 0], [0, 0, 0], [0, 0, 0], [0, 0, 0]]"
      ]
     },
     "execution_count": 40,
     "metadata": {},
     "output_type": "execute_result"
    }
   ],
   "source": [
    "# WRONG\n",
    "[[0]*3]*5"
   ]
  },
  {
   "cell_type": "markdown",
   "metadata": {},
   "source": [
    "Why is that (possibly) wrong? Let's try to inspect it in Python tutor: "
   ]
  },
  {
   "cell_type": "code",
   "execution_count": 41,
   "metadata": {},
   "outputs": [
    {
     "data": {
      "text/html": [
       "\n",
       "        <iframe\n",
       "            width=\"900\"\n",
       "            height=\"225\"\n",
       "            src=\"https://pythontutor.com/iframe-embed.html#code=bad+%3D+%5B%5B0%5D%2A3%5D%2A5%0A&cumulative=false&py=3&curInstr=0\"\n",
       "            frameborder=\"0\"\n",
       "            allowfullscreen\n",
       "        ></iframe>\n",
       "        "
      ],
      "text/plain": [
       "<IPython.lib.display.IFrame at 0x7fd39c2409b0>"
      ]
     },
     "execution_count": 41,
     "metadata": {},
     "output_type": "execute_result"
    }
   ],
   "source": [
    "bad = [[0]*3]*5\n",
    "jupman.pytut()"
   ]
  },
  {
   "cell_type": "markdown",
   "metadata": {},
   "source": [
    "If you look closely, you will see many arrows pointing to the same list of 3 zeros. This means that if we change one number, we will apparently change 5 of them in the whole column !\n",
    "\n",
    "The right way to create a matrix as list of lists with zeroes is the following:"
   ]
  },
  {
   "cell_type": "code",
   "execution_count": 42,
   "metadata": {},
   "outputs": [
    {
     "data": {
      "text/plain": [
       "[[0, 0, 0], [0, 0, 0], [0, 0, 0], [0, 0, 0], [0, 0, 0]]"
      ]
     },
     "execution_count": 42,
     "metadata": {},
     "output_type": "execute_result"
    }
   ],
   "source": [
    "# CORRECT \n",
    "[[0]*3 for i in range(5)]"
   ]
  },
  {
   "cell_type": "markdown",
   "metadata": {},
   "source": [
    "### transpose_2\n",
    "\n",
    "✪✪ Now let's try to transpose a generic nxm matrix. This time for simplicity we will return a whole new matrix.\n"
   ]
  },
  {
   "cell_type": "code",
   "execution_count": 43,
   "metadata": {},
   "outputs": [],
   "source": [
    "def transpose_2(mat):\n",
    "    \"\"\" RETURN a NEW mxn matrix which is the transpose of the given nxm matrix mat as list of lists.\n",
    "    \"\"\"\n",
    "    #jupman-raise\n",
    "    n = len(mat)\n",
    "    m = len(mat[0])\n",
    "    ret = [[0]*n for i in range(m)]\n",
    "    for i in range(n):\n",
    "        for j in range(m):\n",
    "            ret[j][i] = mat[i][j]\n",
    "    return ret\n",
    "    #/jupman-raise\n",
    "\n",
    "m = [\n",
    "        ['a']\n",
    "    ]\n",
    "\n",
    "t = transpose_2(m)\n",
    "\n",
    "assert  t == [\n",
    "                            ['a']\n",
    "                         ]\n",
    "t[0][0] = 'z'\n",
    "assert m[0][0] == 'a'\n",
    "\n",
    "m = [\n",
    "        ['a','b','c'],\n",
    "        ['d','e','f']\n",
    "    ]\n",
    "\n",
    "assert transpose_2(m) == [\n",
    "                ['a','d'],\n",
    "                ['b','e'],\n",
    "                ['c','f'],    \n",
    "            ]\n"
   ]
  },
  {
   "cell_type": "markdown",
   "metadata": {},
   "source": [
    "### threshold\n",
    "\n",
    "Difficulty: ✪✪"
   ]
  },
  {
   "cell_type": "code",
   "execution_count": 44,
   "metadata": {},
   "outputs": [],
   "source": [
    "def threshold(mat, t):\n",
    "    \"\"\"\n",
    "    Takes a matrix as a list of lists (every list has the same dimension) and RETURN \n",
    "    a NEW matrix as list of lists where there is True if the corresponding input element is \n",
    "    greater than t, otherwise return False\n",
    "\n",
    "    Ingredients:\n",
    "        - a variable for the matrix to return\n",
    "        - for each original row, we need to create a new list\n",
    "    \"\"\"\n",
    "    \n",
    "    #jupman-raise\n",
    "    ret = []\n",
    "    for row in mat:\n",
    "        new_row = []\n",
    "        ret.append(new_row)\n",
    "        for el in row:\n",
    "            new_row.append(el > t)\n",
    "        \n",
    "    return ret\n",
    "    #/jupman-raise\n",
    "\n",
    "morig = [\n",
    "     [1,4,2],\n",
    "     [7,9,3],    \n",
    "]\n",
    "    \n",
    "    \n",
    "m = [\n",
    "     [1,4,2],\n",
    "     [7,9,3],    \n",
    "]\n",
    "\n",
    "s = [\n",
    "    [False,False,False],\n",
    "    [True,True,False],    \n",
    "]\n",
    "assert threshold(m,4) == s\n",
    "assert m == morig   # verify original didn't change\n",
    "\n",
    "\n",
    "m = [\n",
    "     [5,2],\n",
    "     [3,7]\n",
    "]\n",
    "\n",
    "s = [\n",
    "    [True,False],\n",
    "    [False,True]\n",
    "]\n",
    "assert threshold(m,4) == s"
   ]
  },
  {
   "cell_type": "markdown",
   "metadata": {},
   "source": [
    "### swap_rows\n",
    "\n",
    "Difficulty: ✪✪\n"
   ]
  },
  {
   "cell_type": "code",
   "execution_count": 45,
   "metadata": {},
   "outputs": [],
   "source": [
    "def swap_rows(mat, i1, i2):\n",
    "    \"\"\"Takes a matrix as list of lists, and RETURN a NEW matrix where rows at indexes i1 and i2 are swapped\n",
    "    \"\"\"\n",
    "    #jupman-raise\n",
    "    \n",
    "    # deep clones\n",
    "    ret = []\n",
    "    for row in mat:\n",
    "        ret.append(row[:])\n",
    "    #swaps\n",
    "    s = ret[i1]\n",
    "    ret[i1] = ret[i2]\n",
    "    ret[i2] = s\n",
    "    return ret\n",
    "    #/jupman-raise\n",
    "\n",
    "m = [\n",
    "        ['a','d'],\n",
    "        ['b','e'],\n",
    "        ['c','f']    \n",
    "    ]\n",
    "\n",
    "res = swap_rows(m, 0, 2)\n",
    "\n",
    "assert res == [\n",
    "        ['c','f'],    \n",
    "        ['b','e'],\n",
    "        ['a','d']\n",
    "]\n",
    "\n",
    "res[0][0] = 'z'\n",
    "assert m[0][0] == 'a'\n",
    "\n",
    "\n",
    "m = [\n",
    "        ['a','d'],\n",
    "        ['b','e'],\n",
    "        ['c','f']    \n",
    "    ]\n",
    "\n",
    "\n",
    "# swap with itself should in fact generate a deep clone\n",
    "res = swap_rows(m, 0, 0)\n",
    "\n",
    "assert res == [\n",
    "                ['a','d'],\n",
    "                ['b','e'],\n",
    "                ['c','f']     \n",
    "              ]\n",
    "\n",
    "res[0][0] = 'z'\n",
    "assert m[0][0] == 'a'\n"
   ]
  },
  {
   "cell_type": "markdown",
   "metadata": {},
   "source": [
    "### swap_cols\n",
    "\n",
    "Difficulty: ✪✪\n"
   ]
  },
  {
   "cell_type": "code",
   "execution_count": 46,
   "metadata": {},
   "outputs": [],
   "source": [
    "def swap_cols(mat, j1, j2):\n",
    "    \"\"\" RETURN a NEW matrix where the columns j1 and j2 are swapped \"\"\"\n",
    "    \n",
    "    #jupman-raise\n",
    "    ret = []\n",
    "    for row in mat:\n",
    "        new_row = row[:]\n",
    "        new_row[j1] = row[j2]\n",
    "        new_row[j2] = row[j1]\n",
    "        ret.append(new_row)\n",
    "    return ret\n",
    "    #/jupman-raise\n",
    "\n",
    "m = [\n",
    "        ['a','b','c'],\n",
    "        ['d','e','f']\n",
    "    ]\n",
    "\n",
    "res = swap_cols(m, 0,2)\n",
    "\n",
    "assert res == [\n",
    "                  ['c','b','a'],\n",
    "                  ['f','e','d']    \n",
    "              ]\n",
    "\n",
    "res[0][0] = 'z'\n",
    "assert m[0][0] == 'a'\n"
   ]
  },
  {
   "cell_type": "markdown",
   "metadata": {},
   "source": [
    "### lab \n",
    "\n",
    "✪✪✪ If you're a teacher that often see new students, you have this problem: if two students who are friends sit side by side they can start chatting way too much. To keep them quiet, you want to somehow randomize student displacement by following this algorithm:\n",
    "\n",
    "1. first sort the students alphabetically\n",
    "2. then sorted students progressively sit at the available chairs one by one, first filling the first row, then the second, till the end.\n",
    "\n",
    "Now implement the algorithm.\n",
    "\n",
    "INPUT:\n",
    "\n",
    "- students: a list of strings of length <= n*m\n",
    "- chairs:   an nxm matrix as list of lists filled with None values (empty chairs)\n",
    "\n",
    "OUTPUT: MODIFIES BOTH students and chairs inputs, without returning anything\n",
    "\n",
    "If students are more than available chairs, raises ValueError\n",
    "\n",
    "Example:\n",
    "\n",
    "```python\n",
    "ss =  ['b', 'd', 'e', 'g', 'c', 'a', 'h', 'f' ]\n",
    "\n",
    "mat = [\n",
    "            [None, None, None],\n",
    "            [None, None, None],    \n",
    "            [None, None, None],    \n",
    "            [None, None, None]\n",
    "         ]\n",
    "\n",
    "lab(ss,  mat)\n",
    "\n",
    "# after execution, mat should result changed to this:\n",
    "\n",
    "assert mat == [\n",
    "                ['a',  'b', 'c'],\n",
    "                ['d',  'e', 'f'],\n",
    "                ['g',  'h',  None],\n",
    "                [None, None, None],\n",
    "              ]\n",
    "# after execution, input ss should now be ordered:\n",
    "\n",
    "assert ss == ['a','b','c','d','e','f','g','f']\n",
    "```\n",
    "\n",
    "For more examples, see tests\n"
   ]
  },
  {
   "cell_type": "code",
   "execution_count": 47,
   "metadata": {},
   "outputs": [],
   "source": [
    " \n",
    "def lab(students, chairs):\n",
    "    #jupman-raise\n",
    "    \n",
    "    n = len(chairs)\n",
    "    m = len(chairs[0])\n",
    "    \n",
    "    if len(students) > n*m:\n",
    "        raise ValueError(\"There are more students than chairs ! Students = %s, chairs = %sx%s\" % (len(students), n, m))\n",
    "    \n",
    "    i = 0\n",
    "    j = 0\n",
    "    students.sort()\n",
    "    for s in students:\n",
    "        chairs[i][j] = s\n",
    "        \n",
    "        if j == m - 1:\n",
    "            j = 0\n",
    "            i += 1\n",
    "        else:\n",
    "            j += 1\n",
    "    #/jupman-raise\n",
    "\n",
    "\n",
    "try:\n",
    "    lab(['a','b'], [[None]])\n",
    "    raise Exception(\"TEST FAILED: Should have failed before with a ValueError!\")\n",
    "except ValueError:\n",
    "    \"Test passed\"    \n",
    "\n",
    "try:\n",
    "    lab(['a','b','c'], [[None,None]])\n",
    "    raise Exception(\"TEST FAILED: Should have failed before with a ValueError!\")\n",
    "except ValueError:\n",
    "    \"Test passed\"    \n",
    "    \n",
    "    \n",
    "m0 = [\n",
    "        [None]\n",
    "     ]\n",
    "\n",
    "r0 = lab([],m0)  \n",
    "assert m0 == [\n",
    "                [None]\n",
    "             ]\n",
    "assert r0 == None  # function is not meant to return anything (so returns None by default)\n",
    "\n",
    "\n",
    "m1 = [\n",
    "        [None]\n",
    "     ]\n",
    "r1 = lab(['a'], m1)\n",
    "\n",
    "assert m1 == [\n",
    "                ['a']\n",
    "             ]\n",
    "assert r1 == None  # function is not meant to return anything (so returns None by default)\n",
    "\n",
    "m2 = [\n",
    "        [None, None]\n",
    "     ]\n",
    "lab(['a'], m2)  # 1 student 2 chairs in one row\n",
    "\n",
    "assert m2 == [\n",
    "                ['a', None]\n",
    "             ]\n",
    "\n",
    "\n",
    "m3 = [\n",
    "        [None],\n",
    "        [None],\n",
    "     ]\n",
    "lab(['a'], m3) # 1 student 2 chairs in one column\n",
    "assert m3 == [\n",
    "                ['a'],\n",
    "                [None]\n",
    "             ]\n",
    "\n",
    "ss4 = ['b', 'a']\n",
    "m4 = [\n",
    "        [None, None]\n",
    "     ]\n",
    "lab(ss4, m4)  # 2 students 2 chairs in one row\n",
    "\n",
    "assert m4 == [\n",
    "                ['a','b']\n",
    "             ]\n",
    "\n",
    "assert ss4 == ['a', 'b']  # also modified input list as required by function text\n",
    "\n",
    "m5 = [\n",
    "        [None, None],\n",
    "        [None, None]    \n",
    "     ]\n",
    "lab(['b', 'c', 'a'], m5)  # 3 students 2x2 chairs\n",
    "\n",
    "assert m5 == [\n",
    "                ['a','b'],\n",
    "                ['c', None]\n",
    "             ]\n",
    "\n",
    "m6 = [\n",
    "        [None, None],\n",
    "        [None, None]    \n",
    "     ]\n",
    "lab(['b', 'd', 'c', 'a'], m6)  # 4 students 2x2 chairs\n",
    "\n",
    "assert m6 == [\n",
    "                ['a','b'],\n",
    "                ['c','d']\n",
    "             ]\n",
    "\n",
    "m7 = [\n",
    "        [None, None, None],\n",
    "        [None, None, None]    \n",
    "     ]\n",
    "lab(['b', 'd', 'e', 'c', 'a'], m7)  # 5 students 3x2 chairs\n",
    "\n",
    "assert m7 == [\n",
    "                ['a','b','c'],\n",
    "                ['d','e',None]\n",
    "             ]\n",
    "\n",
    "ss8 = ['b', 'd', 'e', 'g', 'c', 'a', 'h', 'f' ]\n",
    "m8 = [\n",
    "        [None, None, None],\n",
    "        [None, None, None],    \n",
    "        [None, None, None],    \n",
    "        [None, None, None]\n",
    "     ]\n",
    "lab(ss8, m8)  # 8 students 3x4 chairs\n",
    "\n",
    "assert m8 == [\n",
    "                ['a',  'b',  'c'],\n",
    "                ['d',  'e',  'f'],\n",
    "                ['g',  'h',  None],\n",
    "                [None, None, None],\n",
    "             ]\n",
    "\n",
    "assert ss8 == ['a','b','c','d','e','f','g','h']"
   ]
  },
  {
   "cell_type": "markdown",
   "metadata": {},
   "source": [
    "### dump\n",
    "\n",
    "The multinational ToxiCorp wants to hire you for devising an automated truck driver which will deposit highly contaminated waste in the illegal dumps they own worldwide. You find it ethically questionable, but they pay well, so you accept.\n",
    "\n",
    "A dump is modelled as a rectangular region of dimensions `nrow` and `ncol`, implemented as a list of lists matrix. Every cell `i`, `j` contains the tons of waste present, and can contain _at most_ `7` tons of waste. \n",
    "\n",
    "The dumpster truck will transport `q` tons of waste, and try to fill the dump by depositing waste in the first row, filling each cell up to 7 tons. When the first row is filled, it will proceed to the second one _from the left_ , then to the third one again _from the left_ until there is no waste to dispose of. \n",
    "\n",
    "Function `dump(m, q)` takes as input the dump `mat` and the number of tons `q` to dispose of, and RETURN a NEW list representing a plan with the sequence of tons to dispose. If waste to dispose exceeds dump capacity, raises `ValueError`.\n",
    "\n",
    "**NOTE**: the function does **not** modify the matrix\n",
    "\n",
    "**Example:**\n",
    "\n",
    "```python\n",
    "m = [          \n",
    "        [5,4,6],   \n",
    "        [4,7,1],   \n",
    "        [3,2,6],   \n",
    "        [3,6,2],   \n",
    "]\n",
    "\n",
    "dump(m, 22)\n",
    "\n",
    "[2, 3, 1, 3, 0, 6, 4, 3]\n",
    "\n",
    "```\n",
    "\n",
    "For first row we dispose of 2,3,1 tons in three cells, for second row we dispose of 3,0,6 tons in three cells, for third row we only dispose 4, 3 tons in two cells as limit q=22 is reached.\n",
    "\n",
    "\n"
   ]
  },
  {
   "cell_type": "code",
   "execution_count": 48,
   "metadata": {},
   "outputs": [],
   "source": [
    "def dump(mat, q):\n",
    "    #jupman-raise\n",
    "    rem = q\n",
    "    ret = []\n",
    "    \n",
    "    for riga in mat:\n",
    "        for j in range(len(riga)):\n",
    "            cellfill = 7 - riga[j]\n",
    "            unload = min(cellfill, rem)\n",
    "            rem -= unload\n",
    "            \n",
    "            if rem > 0:                \n",
    "                ret.append(unload)            \n",
    "            else:             \n",
    "                if unload > 0:\n",
    "                    ret.append(unload)            \n",
    "                return ret\n",
    "                  \n",
    "    if rem > 0:\n",
    "        raise ValueError(\"Couldn't fill the dump, %s tons remain!\")\n",
    "    #/jupman-raise\n",
    "    \n",
    "m1 = [\n",
    "    [5]\n",
    "]     \n",
    "\n",
    "assert dump(m1,0) == []  # nothing to dump\n",
    "\n",
    "m2 = [\n",
    "    [4]\n",
    "]     \n",
    "\n",
    "assert dump(m2,2) == [2]\n",
    "\n",
    "m3 = [\n",
    "    [5,4]   \n",
    "]     \n",
    "\n",
    "assert dump(m3,3) == [2, 1]\n",
    "\n",
    "\n",
    "m3 = [\n",
    "    [5,7,3]   \n",
    "]     \n",
    "\n",
    "assert dump(m3,3) == [2, 0, 1]\n",
    "\n",
    "\n",
    "m5 = [\n",
    "    [2,5],   # 5 2\n",
    "    [4,3]    # 3 1\n",
    "    \n",
    "]     \n",
    "\n",
    "assert dump(m5,11) == [5,2,3,1]\n",
    "\n",
    "\n",
    "m6 = [         # tons to dump in each cell\n",
    "    [5,4,6],   # 2 3 1     \n",
    "    [4,7,1],   # 3 0 6     \n",
    "    [3,2,6],   # 4 3 0     \n",
    "    [3,6,2],   # 0 0 0\n",
    "]\n",
    "\n",
    "\n",
    "assert dump(m6, 22) == [2,3,1,3,0,6,4,3]\n",
    "\n",
    "\n",
    "try:\n",
    "    dump ([[5]], 10)\n",
    "    raise Exception(\"Should have failed !\")\n",
    "except ValueError:\n",
    "    pass"
   ]
  },
  {
   "cell_type": "markdown",
   "metadata": {},
   "source": [
    "### matrix multiplication\n",
    "\n",
    "✪✪✪ Have a look at [matrix multiplication definition](https://en.wikipedia.org/w/index.php?title=Matrix_multiplication&section=2#Definition) on Wikipedia and try to implement it in the following function.\n",
    "\n",
    "Basically, gicen nxm matrix A and mxp matrix B you need to output an nxp matrix C calculating the entries $c_{ij}$ with the formula\n",
    "\n",
    "$c_{ij} = a_{i1}b_{1j} +\\cdots + a_{im}b_{mj}= \\sum_{k=1}^m a_{ik}b_{kj}$\n",
    "\n",
    "\n",
    "You need to fill all the  nxp cells of C, so sure enough to fill  a rectangle you need two `for`s. Do you also need another `for` ? Help yourself with the following visualization. \n",
    "\n",
    " \n"
   ]
  },
  {
   "cell_type": "markdown",
   "metadata": {},
   "source": [
    "![](img/mul.png)\n"
   ]
  },
  {
   "cell_type": "code",
   "execution_count": 49,
   "metadata": {},
   "outputs": [],
   "source": [
    "def mul(mat1, mat2):\n",
    "    \"\"\" Given matrices n x m mat1 and m x p mat2, RETURN a NEW n x p matrix which is the result\n",
    "        of the multiplication of mat1 by mat2.\n",
    "        If mat1 has column number different from mat2 row number, raises a ValueError.\n",
    "    \"\"\"\n",
    "    #jupman-raise\n",
    "    n = len(mat1)\n",
    "    m = len(mat1[0])\n",
    "    p = len(mat2[0])\n",
    "    if m != len(mat2):\n",
    "        raise ValueError(\"mat1 column number %s must be equal to mat2 row number %s !\" % (m, len(mat2)))\n",
    "    ret = [[0]*p for i in range(n)]\n",
    "    for i in range(n):\n",
    "        for j in range(p):\n",
    "            ret[i][j] = 0\n",
    "            for k in range(m):\n",
    "                ret[i][j] += mat1[i][k] * mat2[k][j]\n",
    "    return ret\n",
    "    #/jupman-raise\n",
    "\n",
    "# let's try wrong matrix dimensions: \n",
    "\n",
    "try: \n",
    "    mul([[3,5]], [[7]])\n",
    "    raise Exception(\"SHOULD HAVE FAILED!\")\n",
    "except ValueError:\n",
    "    \"passed test\"\n",
    "\n",
    "m1 = [\n",
    "        [3]\n",
    "     ]\n",
    "\n",
    "m2 = [\n",
    "        [5]\n",
    "]\n",
    "\n",
    "\n",
    "res = mul(m1,m2)\n",
    "\n",
    "assert res == [\n",
    "                [15]\n",
    "              ]\n",
    "\n",
    "\n",
    "\n",
    "\n",
    "m1 = [\n",
    "        [3],\n",
    "        [5]\n",
    "     ]\n",
    "\n",
    "m2 = [\n",
    "        [2,6]\n",
    "]\n",
    "\n",
    "\n",
    "res = mul(m1,m2)\n",
    "\n",
    "assert res == [\n",
    "                [3*2, 3*6],\n",
    "                [5*2, 5*6]\n",
    "              ]\n",
    "\n",
    "m1 = [\n",
    "        [3,5]\n",
    "     ]\n",
    "\n",
    "m2 = [\n",
    "        [2],\n",
    "        [6]\n",
    "]\n",
    "\n",
    "\n",
    "res = mul(m1,m2)\n",
    "\n",
    "assert res == [\n",
    "                [3*2 + 5*6]\n",
    "              ]\n",
    "\n",
    "m1 = [\n",
    "        [3,5],\n",
    "        [7,1],\n",
    "        [9,4]\n",
    "     ]\n",
    "\n",
    "m2 = [\n",
    "        [4,1,5,7],\n",
    "        [8,5,2,7]\n",
    "]\n",
    "res = mul(m1,m2)\n",
    "\n",
    "assert res == [\n",
    "                [52, 28, 25, 56],\n",
    "                [36, 12, 37, 56],\n",
    "                [68, 29, 53, 91]\n",
    "              ]\n",
    "\n"
   ]
  },
  {
   "cell_type": "markdown",
   "metadata": {},
   "source": [
    "### check_nqueen\n",
    "\n",
    "✪✪✪✪ This is a hard problem but don't worry, exam exercises will be simpler!\n",
    "\n",
    "You have an nxn matrix of booleans representing a chessboard where True means there is a queen in a cell,and False there is nothing. \n",
    "\n",
    "For the sake of visualization, we can represent a configurations using `o` to mean `False` and letters like 'A'  and 'B' are queens. Contrary to what we've done so far, for later convenience we show the matrix with the `j` going from bottom to top.\n",
    "\n",
    "Let's see an example. In this case A and B can not attack each other, so the algorithm would return `True`:\n",
    "\n",
    "\n",
    "```\n",
    "\n",
    "    7  ......B.\n",
    "    6  ........\n",
    "    5  ........\n",
    "    4  ........\n",
    "    3  ....A...\n",
    "    2  ........\n",
    "    1  ........\n",
    "    0  ........\n",
    "    i \n",
    "     j 01234567  \n",
    "\n",
    "\n",
    "Let's see why by evidencing A attack lines ..\n",
    "\n",
    "    7  \\...|.B.\n",
    "    6  .\\..|../\n",
    "    5  ..\\.|./.\n",
    "    4  ...\\|/..\n",
    "    3  ----A---\n",
    "    2  .../|\\..\n",
    "    1  ../.|.\\.\n",
    "    0  ./..|..\\\n",
    "    i \n",
    "     j 01234567  \n",
    "\n",
    "\n",
    "... and B attack lines: \n",
    "\n",
    "    7  ------B-\n",
    "    6  ...../|\\\n",
    "    5  ..../.|.\n",
    "    4  .../..|.\n",
    "    3  ../.A.|.\n",
    "    2  ./....|.\n",
    "    1  /.....|.\n",
    "    0  ......|.\n",
    "    i \n",
    "     j 01234567  \n",
    "\n",
    "\n",
    "```\n",
    "\n",
    "\n",
    "In this other case the algorithm would return False as `A` and `B` can attack each other:\n",
    "\n",
    "```\n",
    "    \n",
    "    \n",
    "    7  \\./.|...\n",
    "    6  -B--|--/\n",
    "    5  /|\\.|./.\n",
    "    4  .|.\\|/..\n",
    "    3  ----A---\n",
    "    2  .|./|\\..\n",
    "    1  .|/.|.\\.\n",
    "    0  ./..|..\\\n",
    "    i \n",
    "     j 01234567  \n",
    "\n",
    "```\n",
    "\n",
    "In your algorithm, first you need to scan for queens. When you find one (and for each one of them !), you need to check if it can hit some other queen. Let's see how:\n",
    "\n",
    "In this 7x7 table we have only one queen A, with  at position `i=1` and `j=4`\n",
    "\n",
    "```\n",
    "    6  ....|..\n",
    "    5  \\...|..\n",
    "    4  .\\..|..\n",
    "    3  ..\\.|./\n",
    "    2  ...\\|/.\n",
    "    1  ----A--\n",
    "    0  .../|\\.\n",
    "    i  \n",
    "     j 0123456\n",
    "```\n",
    "\n",
    "To completely understand the range of the queen and how to calculate the diagonals, it is convenient to visually extend the table like so to have the diagonals hit the vertical axis. Notice we also added letters `y` and `x` \n",
    "\n",
    "\n",
    "<div class=\"alert alert-warning\">\n",
    "**NOTE**: in the algorithm you **do not** need to extend the matrix !\n",
    "</div>\n",
    "\n",
    "\n",
    "```\n",
    "\n",
    "    y\n",
    "    6  ....|....\n",
    "    5  \\...|.../\n",
    "    4  .\\..|../.\n",
    "    3  ..\\.|./..\n",
    "    2  ...\\|/...\n",
    "    1  ----A----\n",
    "    0  .../|\\...\n",
    "   -1  ../.|.\\..\n",
    "   -2  ./..|..\\.\n",
    "   -3  /...|...\\\n",
    "    i \n",
    "     j 01234567 x \n",
    "\n",
    "\n",
    "```\n",
    "\n",
    "We see that the top-left to bottom-right diagonal hits the vertical axis at `y = 5` and the bottom-left to top-right diagonal hits the axis at `y = -3`. You should use this info to calculate the line equations.\n",
    "\n",
    "Now you should have all the necessary hints to proceed with the implementation."
   ]
  },
  {
   "cell_type": "code",
   "execution_count": 50,
   "metadata": {},
   "outputs": [],
   "source": [
    "\n",
    "def check_nqueen(mat):\n",
    "    \"\"\" Takes an nxn matrix of booleans representing a chessboard where True means there is a queen in a cell,\n",
    "        and False there is nothing. RETURN True if no queen can attack any other one, False otherwise\n",
    "        \n",
    "    \"\"\"\n",
    "    #jupman-raise\n",
    "\n",
    "    # bottom-left to top-right line equation\n",
    "    # y = x - 3 \n",
    "    # -3 = -j + i \n",
    "    # y = x -j + i\n",
    "\n",
    "    # top-left to bottom-right line equation\n",
    "    # y = x + 5\n",
    "    # 5 = j + i\n",
    "    # y = x + j + i \n",
    "    \n",
    "    n = len(mat)\n",
    "    for i in range(n):\n",
    "        for j in range(n):\n",
    "            if mat[i][j]:  # queen is found at i,j\n",
    "                for y in range(n):            # vertical scan\n",
    "                    if y != i and mat[y][j]:\n",
    "                        return False\n",
    "                for x in range(n):            # horizontal scan\n",
    "                    if x != j and mat[i][x]:\n",
    "                        return False\n",
    "                for x in range(n):            \n",
    "                    y = x + j + i       # top-left to bottom-right \n",
    "                    if y >= 0 and y < n and y != i and x != j and mat[y][x]:\n",
    "                        return False\n",
    "                    y = x - j + i       # bottom-left to top-right\n",
    "                    if y >= 0 and y < n and y != i and x != j and mat[y][x]:\n",
    "                        return False\n",
    "                    \n",
    "    return True\n",
    "    #/jupman-raise\n",
    "\n",
    "assert check_nqueen([\n",
    "                        [True]\n",
    "                    ])\n",
    "assert check_nqueen([\n",
    "                        [True, True],\n",
    "                        [False, False]\n",
    "                    ]) == False\n",
    "\n",
    "assert check_nqueen([\n",
    "                        [True, False],\n",
    "                        [False, True]\n",
    "                    ]) == False\n",
    "\n",
    "assert check_nqueen([\n",
    "                        [True, False],\n",
    "                        [True, False]\n",
    "                    ]) == False\n",
    "\n",
    "assert check_nqueen([\n",
    "                        [True,  False, False],\n",
    "                        [False, False, True],\n",
    "                        [False, False, False]\n",
    "                    ]) == True\n",
    "\n",
    "assert check_nqueen([\n",
    "                        [True,  False, False],\n",
    "                        [False, False, False],\n",
    "                        [False, False, True]\n",
    "                    ]) == False\n",
    "\n",
    "\n",
    "assert check_nqueen([\n",
    "                        [False, True,  False],\n",
    "                        [False, False, False],\n",
    "                        [False, False, True]\n",
    "                    ]) == True\n",
    "\n",
    "assert check_nqueen([\n",
    "                        [False, True,  False],\n",
    "                        [False, True, False],\n",
    "                        [False, False, True]\n",
    "                    ]) == False"
   ]
  }
 ],
 "metadata": {
  "celltoolbar": "Edit Metadata",
  "kernelspec": {
   "display_name": "Python 3",
   "language": "python",
   "name": "python3"
  },
  "language_info": {
   "codemirror_mode": {
    "name": "ipython",
    "version": 3
   },
   "file_extension": ".py",
   "mimetype": "text/x-python",
   "name": "python",
   "nbconvert_exporter": "python",
   "pygments_lexer": "ipython3",
   "version": "3.7.3"
  },
  "toc": {
   "base_numbering": 1,
   "nav_menu": {},
   "number_sections": false,
   "sideBar": true,
   "skip_h1_title": false,
   "title_cell": "Table of Contents",
   "title_sidebar": "Contents",
   "toc_cell": false,
   "toc_position": {
    "height": "calc(100% - 180px)",
    "left": "10px",
    "top": "150px",
    "width": "378px"
   },
   "toc_section_display": true,
   "toc_window_display": true
  }
 },
 "nbformat": 4,
 "nbformat_minor": 2
}
