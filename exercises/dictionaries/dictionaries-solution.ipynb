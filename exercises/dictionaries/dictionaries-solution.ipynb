{
 "cells": [
  {
   "cell_type": "code",
   "execution_count": 1,
   "metadata": {
    "nbsphinx": "hidden"
   },
   "outputs": [],
   "source": [
    "#Please execute this cell\n",
    "import sys;\n",
    "sys.path.append('../../'); \n",
    "import jupman;\n"
   ]
  },
  {
   "cell_type": "markdown",
   "metadata": {},
   "source": [
    "# Dictionaries solutions\n",
    "\n",
    "## [Download exercises zip](../../_static/dictionaries-exercises.zip)\n",
    "\n",
    "[Browse files online](https://github.com/DavidLeoni/datasciprolab/tree/master/exercises/dictionaries)\n",
    "\n",
    "\n",
    "\n"
   ]
  },
  {
   "cell_type": "markdown",
   "metadata": {},
   "source": [
    "\n",
    "## What to do\n",
    "\n",
    "- unzip exercises in a folder, you should get something like this: \n",
    "\n",
    "```\n",
    "\n",
    "-jupman.py\n",
    "-my_lib.py\n",
    "-other stuff ...\n",
    "-exercises\n",
    "     |- lists\n",
    "         |- dictionaries-exercise.ipynb     \n",
    "         |- dictionaries-solution.ipynb\n",
    "         |- other stuff ..\n",
    "```\n",
    "\n",
    "<div class=\"alert alert-warning\">\n",
    "\n",
    "**WARNING**: to correctly visualize the notebook, it MUST be in an unzipped folder !\n",
    "</div>\n",
    "\n",
    "\n",
    "- open Jupyter Notebook from that folder. Two things should open, first a console and then browser. The browser should show a file list: navigate the list and open the notebook `exercises/dictionaries/dictionaries-exercise.ipynb`\n",
    "\n",
    "<div class=\"alert alert-warning\">\n",
    "\n",
    "**WARNING 2**: DO NOT use the _Upload_ button in Jupyter, instead navigate in Jupyter browser to the unzipped folder !\n",
    "</div>\n",
    "\n",
    "\n",
    "- Go on reading that notebook, and follow instuctions inside.\n",
    "\n",
    "\n",
    "Shortcut keys:\n",
    "\n",
    "- to execute Python code inside a Jupyter cell, press `Control + Enter`\n",
    "- to execute Python code inside a Jupyter cell AND select next cell, press `Shift + Enter`\n",
    "- to execute Python code inside a Jupyter cell AND a create a new cell aftwerwards, press `Alt + Enter`\n",
    "- If the notebooks look stuck, try to select `Kernel -> Restart`\n",
    "\n",
    "\n",
    "\n"
   ]
  },
  {
   "cell_type": "markdown",
   "metadata": {},
   "source": [
    "## Introduction\n",
    "\n",
    "We will review dictionaries, discuss ordering issues for keys, and finally deal with nested dictionaries"
   ]
  },
  {
   "cell_type": "markdown",
   "metadata": {},
   "source": [
    "### Dict\n",
    "\n",
    "First let's review Python dictionaries:\n",
    "\n",
    "Dictionaries map keys to values. Keys must be _immutable_ types such as numbers, strings, tuples (so i.e. no lists are allowed as keys), while values can be anything. In the following example, we create a dictionary `d` that initially maps from strings to numbers: "
   ]
  },
  {
   "cell_type": "code",
   "execution_count": 2,
   "metadata": {},
   "outputs": [
    {
     "data": {
      "text/plain": [
       "{}"
      ]
     },
     "execution_count": 2,
     "metadata": {},
     "output_type": "execute_result"
    }
   ],
   "source": [
    "# create empty dict:\n",
    "\n",
    "d = dict()\n",
    "d"
   ]
  },
  {
   "cell_type": "code",
   "execution_count": 3,
   "metadata": {},
   "outputs": [
    {
     "data": {
      "text/plain": [
       "dict"
      ]
     },
     "execution_count": 3,
     "metadata": {},
     "output_type": "execute_result"
    }
   ],
   "source": [
    "type( dict() )"
   ]
  },
  {
   "cell_type": "markdown",
   "metadata": {},
   "source": [
    "Alternatively, to create a dictionary you can type `{}` :"
   ]
  },
  {
   "cell_type": "code",
   "execution_count": 4,
   "metadata": {},
   "outputs": [
    {
     "data": {
      "text/plain": [
       "{}"
      ]
     },
     "execution_count": 4,
     "metadata": {},
     "output_type": "execute_result"
    }
   ],
   "source": [
    "{}"
   ]
  },
  {
   "cell_type": "code",
   "execution_count": 5,
   "metadata": {},
   "outputs": [
    {
     "data": {
      "text/plain": [
       "dict"
      ]
     },
     "execution_count": 5,
     "metadata": {},
     "output_type": "execute_result"
    }
   ],
   "source": [
    "type( {} )"
   ]
  },
  {
   "cell_type": "code",
   "execution_count": 6,
   "metadata": {},
   "outputs": [
    {
     "data": {
      "text/plain": [
       "{'some key': 4}"
      ]
     },
     "execution_count": 6,
     "metadata": {},
     "output_type": "execute_result"
    }
   ],
   "source": [
    "# associate string \"some key\" to number 4\n",
    "d['some key'] = 4\n",
    "d"
   ]
  },
  {
   "cell_type": "markdown",
   "metadata": {},
   "source": [
    "To access a value corresponding to a key, write this: "
   ]
  },
  {
   "cell_type": "code",
   "execution_count": 7,
   "metadata": {},
   "outputs": [
    {
     "data": {
      "text/plain": [
       "4"
      ]
     },
     "execution_count": 7,
     "metadata": {},
     "output_type": "execute_result"
    }
   ],
   "source": [
    "d['some key']"
   ]
  },
  {
   "cell_type": "markdown",
   "metadata": {},
   "source": [
    "You can't associate mutable objects like lists:"
   ]
  },
  {
   "cell_type": "markdown",
   "metadata": {},
   "source": [
    "```python\n",
    "d[ ['a', 'mutable', 'list', 'as key']  ] = 3\n",
    "```\n",
    "\n",
    "```bash\n",
    "---------------------------------------------------------------------------\n",
    "TypeError                                 Traceback (most recent call last)\n",
    "<ipython-input-204-fb9d60c4e88a> in <module>()\n",
    "----> 1 d[ ['a', 'mutable', 'list', 'as key']  ] = 3\n",
    "\n",
    "TypeError: unhashable type: 'list'\n",
    "```"
   ]
  },
  {
   "cell_type": "markdown",
   "metadata": {},
   "source": [
    "But you can associate tuples:"
   ]
  },
  {
   "cell_type": "code",
   "execution_count": 8,
   "metadata": {},
   "outputs": [
    {
     "data": {
      "text/plain": [
       "{'some key': 4, ('an', 'immutable', 'tuple', 'as key'): 3}"
      ]
     },
     "execution_count": 8,
     "metadata": {},
     "output_type": "execute_result"
    }
   ],
   "source": [
    "d[ ('an', 'immutable', 'tuple', 'as key')  ] = 3\n",
    "d"
   ]
  },
  {
   "cell_type": "code",
   "execution_count": 9,
   "metadata": {},
   "outputs": [
    {
     "data": {
      "text/plain": [
       "{'some key': 4, ('an', 'immutable', 'tuple', 'as key'): 3, 'some other key': 7}"
      ]
     },
     "execution_count": 9,
     "metadata": {},
     "output_type": "execute_result"
    }
   ],
   "source": [
    "# associate string \"some other key\" to number 7\n",
    "d['some other key'] = 7\n",
    "d"
   ]
  },
  {
   "cell_type": "code",
   "execution_count": 10,
   "metadata": {},
   "outputs": [
    {
     "data": {
      "text/plain": [
       "{'some key': 5, ('an', 'immutable', 'tuple', 'as key'): 3, 'some other key': 7}"
      ]
     },
     "execution_count": 10,
     "metadata": {},
     "output_type": "execute_result"
    }
   ],
   "source": [
    "# Dictionary is mutable, so you can reassign a key to a different value: \n",
    "d['some key'] = 5\n",
    "d"
   ]
  },
  {
   "cell_type": "code",
   "execution_count": 11,
   "metadata": {},
   "outputs": [
    {
     "data": {
      "text/plain": [
       "{'some key': 5,\n",
       " ('an', 'immutable', 'tuple', 'as key'): 3,\n",
       " 'some other key': 7,\n",
       " 'yet another key': 'now a string!'}"
      ]
     },
     "execution_count": 11,
     "metadata": {},
     "output_type": "execute_result"
    }
   ],
   "source": [
    "# Dictionares are eterogenous, so values can be of different types:\n",
    "\n",
    "d['yet another key'] = 'now a string!'\n",
    "d"
   ]
  },
  {
   "cell_type": "code",
   "execution_count": 12,
   "metadata": {},
   "outputs": [],
   "source": [
    "# Keys also can be of eterogeneous types, but they *must* be of immutable types:"
   ]
  },
  {
   "cell_type": "code",
   "execution_count": 13,
   "metadata": {},
   "outputs": [
    {
     "data": {
      "text/plain": [
       "{'some key': 5,\n",
       " ('an', 'immutable', 'tuple', 'as key'): 3,\n",
       " 'some other key': 7,\n",
       " 'yet another key': 'now a string!',\n",
       " 123: 'hello'}"
      ]
     },
     "execution_count": 13,
     "metadata": {},
     "output_type": "execute_result"
    }
   ],
   "source": [
    "d[123] = 'hello'\n",
    "d"
   ]
  },
  {
   "cell_type": "markdown",
   "metadata": {},
   "source": [
    "\n",
    "To iterate through keys, use a 'for in' construct :\n",
    "\n",
    "<div class=\"alert alert-warning\">\n",
    "\n",
    "**WARNING**: iteration order most often is NOT the same as insertion order!! \n",
    "\n",
    "</div>"
   ]
  },
  {
   "cell_type": "code",
   "execution_count": 14,
   "metadata": {},
   "outputs": [
    {
     "name": "stdout",
     "output_type": "stream",
     "text": [
      "some key\n",
      "('an', 'immutable', 'tuple', 'as key')\n",
      "some other key\n",
      "yet another key\n",
      "123\n"
     ]
    }
   ],
   "source": [
    "for k in d:\n",
    "    print(k)"
   ]
  },
  {
   "cell_type": "markdown",
   "metadata": {},
   "source": [
    "Get all keys:"
   ]
  },
  {
   "cell_type": "code",
   "execution_count": 15,
   "metadata": {},
   "outputs": [
    {
     "data": {
      "text/plain": [
       "dict_keys(['some key', ('an', 'immutable', 'tuple', 'as key'), 'some other key', 'yet another key', 123])"
      ]
     },
     "execution_count": 15,
     "metadata": {},
     "output_type": "execute_result"
    }
   ],
   "source": [
    "d.keys()"
   ]
  },
  {
   "cell_type": "markdown",
   "metadata": {},
   "source": [
    "Get all values:"
   ]
  },
  {
   "cell_type": "code",
   "execution_count": 16,
   "metadata": {},
   "outputs": [
    {
     "data": {
      "text/plain": [
       "dict_values([5, 3, 7, 'now a string!', 'hello'])"
      ]
     },
     "execution_count": 16,
     "metadata": {},
     "output_type": "execute_result"
    }
   ],
   "source": [
    "d.values()"
   ]
  },
  {
   "cell_type": "code",
   "execution_count": 17,
   "metadata": {},
   "outputs": [
    {
     "data": {
      "text/plain": [
       "{('an', 'immutable', 'tuple', 'as key'): 3,\n",
       " 'some other key': 7,\n",
       " 'yet another key': 'now a string!',\n",
       " 123: 'hello'}"
      ]
     },
     "execution_count": 17,
     "metadata": {},
     "output_type": "execute_result"
    }
   ],
   "source": [
    "# delete a key:\n",
    "\n",
    "del d['some key']\n",
    "d"
   ]
  },
  {
   "cell_type": "markdown",
   "metadata": {},
   "source": [
    "## Dictionary methods\n",
    "\n",
    "Recall what seen in the lecture, the following methods are available for dictionaries:\n",
    "\n",
    "![dictionary methods 32432i4](img/methods.png)\n",
    "\n",
    "These methods are new to dictionaries and can be used to loop through the elements in them.\n",
    "\n",
    "<div class=\"alert alert-warning\">\n",
    "\n",
    "**ATTENTION:** ```dict.keys()``` returns a ```dict_keys``` object not a list. To cast it to list, we need to call ```list(dict.keys())```.\n",
    "\n",
    "</div>\n"
   ]
  },
  {
   "cell_type": "markdown",
   "metadata": {},
   "source": [
    "### Functions working on dictionaries\n",
    "\n",
    "As for the other data types, python provides several operators that can be applied to dictionaries. The following operators are available and they basically work as in lists. The only exception being that the operator **in** checks whether the specified object is present among the **keys**.\n",
    "\n",
    "![dictionary functions 983h323yu](img/operators.png)"
   ]
  },
  {
   "cell_type": "markdown",
   "metadata": {},
   "source": [
    "### Exercise print key\n",
    "\n",
    "✪ PRINT the value of key `'b'`, that is, `2`"
   ]
  },
  {
   "cell_type": "code",
   "execution_count": 18,
   "metadata": {},
   "outputs": [
    {
     "data": {
      "text/plain": [
       "2"
      ]
     },
     "execution_count": 18,
     "metadata": {},
     "output_type": "execute_result"
    }
   ],
   "source": [
    "d = {'a':6, 'b':2,'c':5}\n",
    "\n",
    "# write here\n",
    "\n",
    "d['b']"
   ]
  },
  {
   "cell_type": "markdown",
   "metadata": {},
   "source": [
    "### Exercise modify dictionary\n",
    "\n",
    "✪ MODIFY the dictionary, by substituting the key `c` with `8`. Then PRINT the dictionary\n",
    "\n",
    "**NOTE: the order in which couples key/value are printed is NOT relevant!**\n"
   ]
  },
  {
   "cell_type": "code",
   "execution_count": 19,
   "metadata": {},
   "outputs": [
    {
     "name": "stdout",
     "output_type": "stream",
     "text": [
      "{'a': 6, 'b': 2, 'c': 8}\n"
     ]
    }
   ],
   "source": [
    "d = {'a':6, 'b':2, 'c':5}\n",
    "\n",
    "# write here\n",
    "\n",
    "d['c'] = 8\n",
    "print(d)\n"
   ]
  },
  {
   "cell_type": "markdown",
   "metadata": {},
   "source": [
    "### Exercise print keys\n",
    "\n",
    "✪ PRINT a sequence with all the keys, using the appropriate method of dictionaries"
   ]
  },
  {
   "cell_type": "code",
   "execution_count": 20,
   "metadata": {},
   "outputs": [
    {
     "data": {
      "text/plain": [
       "dict_keys(['a', 'b', 'c'])"
      ]
     },
     "execution_count": 20,
     "metadata": {},
     "output_type": "execute_result"
    }
   ],
   "source": [
    "d = {'a':6, 'b':2,'c':5}\n",
    "\n",
    "# write here\n",
    "\n",
    "d.keys()"
   ]
  },
  {
   "cell_type": "markdown",
   "metadata": {},
   "source": [
    "### Exercise print dimension\n",
    "\n",
    "✪ PRINT the number of couples key/value in the dictionary"
   ]
  },
  {
   "cell_type": "code",
   "execution_count": 21,
   "metadata": {},
   "outputs": [
    {
     "name": "stdout",
     "output_type": "stream",
     "text": [
      "3\n"
     ]
    }
   ],
   "source": [
    "d = {'a':6, 'b':2, 'c':5}\n",
    "\n",
    "# write here\n",
    "\n",
    "print(len(d))"
   ]
  },
  {
   "cell_type": "markdown",
   "metadata": {},
   "source": [
    "### Exercise print keys as list\n",
    "\n",
    "✪ PRINT a LIST with all the keys in the dictionary\n",
    "\n",
    "* **NOTE 1**: it is NOT necessary that the list is ordered\n",
    "* **NOTE 2**: to convert any sequence to a list, use the predefined function `list`"
   ]
  },
  {
   "cell_type": "code",
   "execution_count": 22,
   "metadata": {},
   "outputs": [
    {
     "data": {
      "text/plain": [
       "['a', 'b', 'c']"
      ]
     },
     "execution_count": 22,
     "metadata": {},
     "output_type": "execute_result"
    }
   ],
   "source": [
    "d = {'a':6, 'b':2,'c':5}\n",
    "\n",
    "# write here\n",
    "\n",
    "list(d.keys())"
   ]
  },
  {
   "cell_type": "markdown",
   "metadata": {},
   "source": [
    "### Exercise ordered keys\n",
    "\n",
    "✪ PRINT an ordered LIST holding all dictionary keys\n",
    "\n",
    "* **NOTE 1**: now it is necessary for the list to be ordered\n",
    "* **NOTE 2**: to convert any sequence to a list, use the predefined function `list`\n"
   ]
  },
  {
   "cell_type": "code",
   "execution_count": 23,
   "metadata": {},
   "outputs": [
    {
     "name": "stdout",
     "output_type": "stream",
     "text": [
      "['a', 'b', 'c']\n"
     ]
    }
   ],
   "source": [
    "d = {'a':6, 'c':2,'b':5}\n",
    "\n",
    "# write here\n",
    "\n",
    "my_list = list(d.keys())\n",
    "my_list.sort()  # REMEMBER: sort does NOT return anything !!!\n",
    "print(my_list)"
   ]
  },
  {
   "cell_type": "markdown",
   "metadata": {},
   "source": [
    "### OrderedDict\n",
    "\n",
    "As we said before, when you scan the keys of a dictionary, the order most often is **not** the same as the insertion order. To have it predictable, you need to use an `OrderedDict`"
   ]
  },
  {
   "cell_type": "code",
   "execution_count": 24,
   "metadata": {},
   "outputs": [
    {
     "data": {
      "text/plain": [
       "OrderedDict([('some key', 5),\n",
       "             ('some other key', 7),\n",
       "             (('an', 'immutable', 'tuple', 'as key'), 3),\n",
       "             ('yet another key', 'now a string!'),\n",
       "             (123, 'hello')])"
      ]
     },
     "execution_count": 24,
     "metadata": {},
     "output_type": "execute_result"
    }
   ],
   "source": [
    "# first you need to import it from collections module\n",
    "from collections import OrderedDict\n",
    "\n",
    "od = OrderedDict()\n",
    "\n",
    "# OrderedDict looks and feels exactly as regular dictionaries. Here we reproduce the previous example:\n",
    "\n",
    "od['some key'] = 5\n",
    "\n",
    "od['some other key'] = 7\n",
    "od[('an', 'immutable', 'tuple','as key')] = 3\n",
    "od['yet another key'] = 'now a string!'\n",
    "od[123] = 'hello'\n",
    "od"
   ]
  },
  {
   "cell_type": "markdown",
   "metadata": {},
   "source": [
    "Now  you will see that if you iterate with the `for in` construct, you get exactly the same insertion sequence:"
   ]
  },
  {
   "cell_type": "code",
   "execution_count": 25,
   "metadata": {},
   "outputs": [
    {
     "name": "stdout",
     "output_type": "stream",
     "text": [
      "some key  :  5\n",
      "some other key  :  7\n",
      "('an', 'immutable', 'tuple', 'as key')  :  3\n",
      "yet another key  :  now a string!\n",
      "123  :  hello\n"
     ]
    }
   ],
   "source": [
    "for key in od:\n",
    "    print(\"%s  :  %s\" %(key, od[key]))\n"
   ]
  },
  {
   "cell_type": "markdown",
   "metadata": {},
   "source": [
    "To create it all at once, since you want to be sure of the order, you can pass a list of tuples representing key/value pairs. Here we reproduce the previous example: \n"
   ]
  },
  {
   "cell_type": "code",
   "execution_count": 26,
   "metadata": {},
   "outputs": [
    {
     "data": {
      "text/plain": [
       "OrderedDict([('some key', 5),\n",
       "             ('some other key', 7),\n",
       "             (('an', 'immutable', 'tuple', 'as key'), 3),\n",
       "             ('yet another key', 'now a string!'),\n",
       "             (123, 'hello')])"
      ]
     },
     "execution_count": 26,
     "metadata": {},
     "output_type": "execute_result"
    }
   ],
   "source": [
    "\n",
    "od = OrderedDict(\n",
    "        [\n",
    "            ('some key', 5),\n",
    "            ('some other key', 7),\n",
    "            (('an', 'immutable', 'tuple','as key'), 3),\n",
    "            ('yet another key', 'now a string!'),\n",
    "            (123, 'hello')\n",
    "        ]\n",
    ")\n",
    "\n",
    "od"
   ]
  },
  {
   "cell_type": "markdown",
   "metadata": {},
   "source": [
    "Again you will see that if you iterate with the `for in` construct, you get exactly the same insertion sequence:"
   ]
  },
  {
   "cell_type": "code",
   "execution_count": 27,
   "metadata": {
    "scrolled": true
   },
   "outputs": [
    {
     "name": "stdout",
     "output_type": "stream",
     "text": [
      "some key  :  5\n",
      "some other key  :  7\n",
      "('an', 'immutable', 'tuple', 'as key')  :  3\n",
      "yet another key  :  now a string!\n",
      "123  :  hello\n"
     ]
    }
   ],
   "source": [
    "for key in od:\n",
    "    print(\"%s  :  %s\" % (key, od[key]))"
   ]
  },
  {
   "cell_type": "markdown",
   "metadata": {},
   "source": [
    "### Exercise: OrderedDict phonebook\n",
    "\n",
    "Write some short code that given three tuples, like the following, prints an OrderedDict which associates names to phone numbers, in the order they are proposed above. \n",
    "\n",
    "- Your code should work with _any_ tuples.\n",
    "- Don't forget to import the OrderedDict from collections\n",
    "\n",
    "Example:\n",
    "\n",
    "```python\n",
    "t1 = ('Alice', '143242903') \n",
    "t2 = ('Bob', '417483437')\n",
    "t3 = ('Charles', '423413213')\n",
    "```\n",
    "\n",
    "after your code should give:\n",
    "\n",
    "```python\n",
    "OrderedDict([('Alice', '143242903'), ('Bob', '417483437'), ('Charles', '423413213')])\n",
    "```"
   ]
  },
  {
   "cell_type": "code",
   "execution_count": 28,
   "metadata": {},
   "outputs": [
    {
     "name": "stdout",
     "output_type": "stream",
     "text": [
      "OrderedDict([('Alice', '143242903'), ('Bob', '417483437'), ('Charles', '423413213')])\n"
     ]
    }
   ],
   "source": [
    "# first you need to import it from collections module\n",
    "from collections import OrderedDict\n",
    "\n",
    "t1 = ('Alice', '143242903') \n",
    "t2 = ('Bob', '417483437')\n",
    "t3 = ('Charles', '423413213')\n",
    "\n",
    "# write here\n",
    "od = OrderedDict([t1, t2, t3])\n",
    "print(od)"
   ]
  },
  {
   "cell_type": "markdown",
   "metadata": {},
   "source": [
    "### Exercise: OrderedDict copy\n",
    "\n",
    "Given an OrderedDict `od1` containing translations English -> Italian, create a NEW OrderedDict called `od2` which contains the same translations as the input one PLUS the translation `'water'` : `'acqua'`. \n",
    "\n",
    "- **NOTE 1**: your code should work with any input ordered dict\n",
    "- **NOTE 2**: `od2` MUST hold a NEW OrderedDict !!\n",
    "\n",
    "Example: \n",
    "\n",
    "With\n",
    "\n",
    "```python\n",
    "od1 = OrderedDict()\n",
    "od1['dog'] = 'cane'\n",
    "od1['home'] = 'casa'\n",
    "od1['table'] = 'tavolo'\n",
    "```\n",
    "\n",
    "after your code you should get:\n",
    "\n",
    "```python\n",
    ">>> print(od1)\n",
    "OrderedDict([('dog', 'cane'), ('home', 'casa'), ('table', 'tavolo')])\n",
    ">>> print(od2)\n",
    "OrderedDict([('dog', 'cane'), ('home', 'casa'), ('table', 'tavolo'), ('water', 'acqua')])\n",
    "```"
   ]
  },
  {
   "cell_type": "code",
   "execution_count": 29,
   "metadata": {},
   "outputs": [
    {
     "name": "stdout",
     "output_type": "stream",
     "text": [
      "od1= OrderedDict([('dog', 'cane'), ('home', 'casa'), ('table', 'tavolo')])\n",
      "od2= OrderedDict([('dog', 'cane'), ('home', 'casa'), ('table', 'tavolo'), ('water', 'acqua')])\n"
     ]
    }
   ],
   "source": [
    "from collections import OrderedDict\n",
    "\n",
    "od1 = OrderedDict()\n",
    "od1['dog'] = 'cane'\n",
    "od1['home'] = 'casa'\n",
    "od1['table'] = 'tavolo'\n",
    "\n",
    "# write here\n",
    "od2 = OrderedDict(od1)\n",
    "od2['water'] = 'acqua'\n",
    "\n",
    "print(\"od1=\", od1)\n",
    "print(\"od2=\", od2)"
   ]
  },
  {
   "cell_type": "markdown",
   "metadata": {},
   "source": [
    "### List of nested dictionaries\n",
    "\n",
    "Suppose you have a list of dictionaries which represents a database of employees. Each employee is represented by a dictionary:\n",
    "\n",
    "\n",
    "```python\n",
    "{\n",
    "    \"name\":\"Mario\",\n",
    "    \"surname\": \"Rossi\",\n",
    "    \"age\": 34,\n",
    "    \"company\": {\n",
    "                    \"name\": \"Candy Apples Inc.\",\n",
    "                    \"sector\":\"Food\"\n",
    "               }\n",
    "}\n",
    "```\n",
    "\n",
    "\n",
    "The dictionary has several simple attributes like `name`, `surname`, `age`. The attribute `company` is more complex, because it is represented as another dictionary:\n",
    "\n",
    "\n",
    "```python\n",
    "\"company\": {\n",
    "        \"name\": \"Candy Apples Inc.\",\n",
    "        \"sector\":\"Food\"\n",
    "    }\n",
    "```"
   ]
  },
  {
   "cell_type": "code",
   "execution_count": 30,
   "metadata": {},
   "outputs": [],
   "source": [
    "employees_db = [\n",
    "  {\n",
    "    \"name\":\"Mario\",\n",
    "    \"surname\": \"Rossi\",\n",
    "    \"age\": 34,\n",
    "    \"company\": {\n",
    "                   \"name\": \"Candy Apples Inc.\",\n",
    "                   \"sector\":\"Food\"\n",
    "               }\n",
    "  },\n",
    "  {\n",
    "    \"name\":\"Pippo\",\n",
    "    \"surname\": \"Rossi\",\n",
    "    \"age\": 20,\n",
    "    \"company\": {\n",
    "                    \"name\": \"Batworks\",\n",
    "                        \"sector\":\"Clothing\"\n",
    "               }\n",
    "  },\n",
    "  {\n",
    "    \"name\":\"Paolo\",\n",
    "    \"surname\": \"Bianchi\",\n",
    "    \"age\": 25,\n",
    "    \"company\": {\n",
    "                    \"name\": \"Candy Apples Inc.\",\n",
    "                    \"sector\":\"Food\"\n",
    "               }\n",
    "  }\n",
    "  \n",
    "]\n"
   ]
  },
  {
   "cell_type": "markdown",
   "metadata": {},
   "source": [
    "### Exercise: print employees\n",
    "\n",
    "Write some code to print all employee names and surnames from the above `employees_db`\n",
    "\n",
    "You can assume `employees_db` has exactly 3 employees (so `for` cycle is not even needed)\n",
    "\n",
    "You should obtain: \n",
    "\n",
    "```bash\n",
    "Mario Rossi\n",
    "Pippo Rossi\n",
    "Paolo Bianchi\n",
    "```\n"
   ]
  },
  {
   "cell_type": "code",
   "execution_count": 31,
   "metadata": {},
   "outputs": [
    {
     "name": "stdout",
     "output_type": "stream",
     "text": [
      "Mario Rossi\n",
      "Pippo Rossi\n",
      "Paolo Bianchi\n"
     ]
    }
   ],
   "source": [
    "# write here\n",
    "print(employees_db[0][\"name\"], employees_db[0][\"surname\"])\n",
    "print(employees_db[1][\"name\"], employees_db[1][\"surname\"])\n",
    "print(employees_db[2][\"name\"], employees_db[2][\"surname\"])"
   ]
  },
  {
   "cell_type": "markdown",
   "metadata": {},
   "source": [
    "### Exercise: print company names\n",
    "\n",
    "Write some code to print all company names and sector from the above `employees_db`, without duplicating them. Pay attention to sector lowercase name.\n",
    "\n",
    "You can assume `employees_db` has exactly 3 employees (so `for` cycle is not even needed)\n"
   ]
  },
  {
   "cell_type": "code",
   "execution_count": 32,
   "metadata": {},
   "outputs": [
    {
     "name": "stdout",
     "output_type": "stream",
     "text": [
      "Candy Apples Inc. is a food company\n",
      "Batworks is a clothing company\n"
     ]
    }
   ],
   "source": [
    "# write here\n",
    "print(employees_db[0][\"company\"][\"name\"], \"is a\", employees_db[0][\"company\"][\"sector\"].lower(), \"company\")\n",
    "print(employees_db[1][\"company\"][\"name\"],  \"is a\", employees_db[1][\"company\"][\"sector\"].lower(), \"company\")"
   ]
  },
  {
   "cell_type": "markdown",
   "metadata": {},
   "source": [
    "## Exercises with functions\n",
    "\n",
    "\n",
    "<div class=\"alert alert-warning\">\n",
    "\n",
    "**ATTENTION**\n",
    "\n",
    "Following exercises require you to know:\n",
    "\n",
    "<ul>\n",
    "<li>Complex statements: [Andrea Passerini slides A03](http://disi.unitn.it/~passerini/teaching/2019-2020/sci-pro/slides/A03-controlflow.pdf)</li>\n",
    "<li>\n",
    "Functions: [Andrea Passerini slides A04](http://disi.unitn.it/~passerini/teaching/2019-2020/sci-pro/slides/A04-functions.pdf)</li>\n",
    "</ul>\n",
    "</div>\n"
   ]
  },
  {
   "cell_type": "markdown",
   "metadata": {},
   "source": [
    "### print_val\n",
    "\n",
    "✪ Write the function `print_val(d, key)` which RETURN the value associated to `key`\n",
    "\n",
    "\n",
    "```python\n",
    ">>> x = print_val({'a':5,'b':2}, 'a')\n",
    ">>> x\n",
    "5\n",
    ">>> y = print_val({'a':5,'b':2}, 'b')\n",
    ">>> y\n",
    "2\n",
    "```"
   ]
  },
  {
   "cell_type": "code",
   "execution_count": 33,
   "metadata": {},
   "outputs": [],
   "source": [
    "# write here\n",
    "\n",
    "def print_val(d, key):\n",
    "    return d[key]\n",
    "\n",
    "#x = print_val({'a':5,'b':2}, 'a')\n",
    "#x"
   ]
  },
  {
   "cell_type": "markdown",
   "metadata": {},
   "source": [
    "### has_key\n",
    "\n",
    "Write function `has_key(d,key)` which PRINTS `\"found\"` if `diz` contains the key `key`, otherwise PRINTS `\"not found\"`\n",
    "\n",
    "```python\n",
    ">>> has_key({'a':5,'b':2}, 'a')\n",
    "found\n",
    ">>> has_key({'a':5,'b':2}, 'z')\n",
    "not found\n",
    "```\n"
   ]
  },
  {
   "cell_type": "code",
   "execution_count": 34,
   "metadata": {},
   "outputs": [],
   "source": [
    "# write here\n",
    "\n",
    "def has_key(d, key):  \n",
    "    if key in d:\n",
    "        print(\"found\")\n",
    "    else:\n",
    "        print(\"not found\")\n",
    "  \n",
    "  \n",
    "#has_key({'a':5,'b':2}, 'a')\n",
    "#has_key({'a':5,'b':2}, 'b')\n",
    "#has_key({'a':5,'b':2}, 'z')\n"
   ]
  },
  {
   "cell_type": "markdown",
   "metadata": {},
   "source": [
    "### dim\n",
    "\n",
    "✪ Write a function `dim(d)` which RETURN the associations key-value present in the dictionary\n",
    "\n",
    "```python\n",
    ">>> x = dim({'a':5,'b':2,'c':9})\n",
    ">>> x\n",
    "3\n",
    "```"
   ]
  },
  {
   "cell_type": "code",
   "execution_count": 35,
   "metadata": {},
   "outputs": [],
   "source": [
    "# write here\n",
    "\n",
    "def dim(d):\n",
    "    return len(d)\n",
    "\n",
    "#x = dim({'a':5,'b':2,'c':9})\n",
    "#x"
   ]
  },
  {
   "cell_type": "markdown",
   "metadata": {},
   "source": [
    "### keyring\n",
    "\n",
    "✪  Given a dictionary, write a function `keyring` which RETURN an ORDERED LIST with all the keys, una at a time\n",
    "\n",
    "Dato un dizionario, scrivere una funzione `mazzol` che RITORNI una LISTA ORDINATA con tutte le chiavi, una alla volta\n",
    "\n",
    "**NOTE**: the order of list in this key IT IS important !\n",
    "\n",
    "```python\n",
    ">>> x = keyring({'a':5,'c':2,'b':9})\n",
    ">>> x\n",
    "['a','b','c']\n",
    "```"
   ]
  },
  {
   "cell_type": "code",
   "execution_count": 36,
   "metadata": {},
   "outputs": [],
   "source": [
    "\n",
    "# write here\n",
    "\n",
    "def keyring(d):  \n",
    "    my_list = list(d.keys())\n",
    "    my_list.sort()  # REMEMBER: .sort() does NOT return anything !!\n",
    "    return my_list\n",
    "\n",
    "\n",
    "#x = keyring({'a':5,'c':2,'b':9})\n",
    "#x"
   ]
  },
  {
   "cell_type": "markdown",
   "metadata": {},
   "source": [
    "### couples\n",
    "\n",
    "✪ Given a dictionary, write a function `couples` which PRINTS all key/value couples, one per row\n",
    "\n",
    "\n",
    "**NOTE**: the order of the print is *NOT* important, it si enough to print all couples !\n",
    "\n",
    "```python\n",
    ">>> couples({'a':5,'b':2,'c':9})\n",
    "a 5\n",
    "c 9\n",
    "b 2\n",
    "```"
   ]
  },
  {
   "cell_type": "code",
   "execution_count": 37,
   "metadata": {},
   "outputs": [],
   "source": [
    "# write here\n",
    "\n",
    "def couples(d):\n",
    "    for key in d:\n",
    "        print(key,d[key])\n",
    "    \n",
    "#couples({'a':5,'b':2,'c':9})"
   ]
  },
  {
   "cell_type": "markdown",
   "metadata": {},
   "source": [
    "## Verify comprehension\n",
    "\n",
    "\n",
    "<div class=\"alert alert-warning\">\n",
    "\n",
    "**ATTENTION**\n",
    "\n",
    "Following exercises require you to know:\n",
    "\n",
    "<ul>\n",
    "<li>Complex statements: [Andrea Passerini slides A03](http://disi.unitn.it/~passerini/teaching/2019-2020/sci-pro/slides/A03-controlflow.pdf)</li>\n",
    "<li>Functions: [Andrea Passerini slides A04](http://disi.unitn.it/~passerini/teaching/2019-2020/sci-pro/slides/A04-functions.pdf)</li>\n",
    "<li>[Tests with asserts](https://datasciprolab.readthedocs.io/en/latest/exercises/errors-and-testing/errors-and-testing-solution.html#Testing-with-asserts): Following exercises contain automated tests to help you spot errors. To understand how to do them, read before [Error handling and testing](https://datasciprolab.readthedocs.io/en/latest/exercises/errors-and-testing/errors-and-testing-solution.html)</li>\n",
    "</ul>\n",
    "</div>\n"
   ]
  },
  {
   "cell_type": "markdown",
   "metadata": {},
   "source": [
    "### histogram\n",
    "\n",
    "✪✪ RETURN a dictionary that for each character in string contains the number of occurrences. The keys are the caracthers and the values are to occurrences\n"
   ]
  },
  {
   "cell_type": "code",
   "execution_count": 38,
   "metadata": {},
   "outputs": [],
   "source": [
    "\n",
    "def histogram(string):\n",
    "    \n",
    "    #jupman-raise\n",
    "    ret = dict()\n",
    "    for c in string:\n",
    "        if c in ret:\n",
    "            ret[c] += 1\n",
    "        else:\n",
    "            ret[c] = 1\n",
    "    return ret\n",
    "    #/jupman-raise\n",
    "    \n",
    "# TEST START - DO NOT TOUCH!      \n",
    "# if you wrote the whole code correct, and execute the cell, Python shouldn't raise `AssertionError`\n",
    "\n",
    "assert histogram(\"babbo\") == {'b': 3, 'a':1, 'o':1}\n",
    "assert histogram(\"\") == {}\n",
    "assert histogram(\"cc\") == {'c': 2}\n",
    "assert histogram(\"aacc\") == {'a': 2, 'c':2}\n",
    "# TEST END"
   ]
  },
  {
   "cell_type": "markdown",
   "metadata": {},
   "source": [
    "### listify\n",
    "\n",
    "✪✪ Takes a dictionary `d` as input and RETURN a LIST with only the values from the dict (so no keys )\n",
    "\n",
    "To have a predictable order, the function also takes as input a list `order` where there are the keys from first dictionary ordered as we would like in the resulting list"
   ]
  },
  {
   "cell_type": "code",
   "execution_count": 39,
   "metadata": {},
   "outputs": [],
   "source": [
    "def listify(d, order):\n",
    "    #jupman-raise\n",
    "    ret = list()\n",
    "    for element in order:\n",
    "        ret.append (d[element])\n",
    "    return ret\n",
    "    #/jupman-raise\n",
    "\n",
    "# TEST START - DO NOT TOUCH!      \n",
    "# if you wrote the whole code correct, and execute the cell, Python shouldn't raise `AssertionError`\n",
    "\n",
    "assert listify({}, []) == []\n",
    "assert listify({'ciao':123}, ['ciao']) == [123]\n",
    "assert listify({'a':'x','b':'y'}, ['a','b']) == ['x','y']\n",
    "assert listify({'a':'x','b':'y'}, ['b','a']) == ['y','x']\n",
    "assert listify({'a':'x','b':'y','c':'x'}, ['c','a','b']) == ['x','x','y']\n",
    "assert listify({'a':'x','b':'y','c':'x'}, ['b','c','a']) == ['y','x','x']\n",
    "assert listify({'a':5,'b':2,'c':9}, ['b','c','a']) == [2,9,5]\n",
    "assert listify({6:'x',8:'y',3:'x'}, [6,3,8]) == ['x','x','y']\n",
    "# TEST END"
   ]
  },
  {
   "cell_type": "markdown",
   "metadata": {},
   "source": [
    "### tcounts\n",
    "\n",
    "✪✪ Takes a list of tuples. Each tuple has two values, the first is an immutable object and the second one is an integer number (the counts of that object). RETURN a dictionary that for each immutable object found in the tuples, associate the total count found for it.\n",
    "    \n",
    "See asserts for examples"
   ]
  },
  {
   "cell_type": "code",
   "execution_count": 40,
   "metadata": {},
   "outputs": [],
   "source": [
    "def tcounts(lst):\n",
    "    ret = {}\n",
    "    for c in lst:\n",
    "        if c[0] in ret:\n",
    "            ret[c[0]] += c[1]\n",
    "        else:\n",
    "            ret[c[0]] = c[1]\n",
    "    return ret\n",
    "\n",
    "# TEST START - DO NOT TOUCH!      \n",
    "# if you wrote the whole code correct, and execute the cell, Python shouldn't raise `AssertionError`\n",
    "assert tcounts([]) == {}\n",
    "assert tcounts([('a',3)]) == {'a':3}\n",
    "assert tcounts([('a',3),('a',4)]) == {'a':7}\n",
    "assert tcounts([('a',3),('b',8), ('a',4)]) == {'a':7, 'b':8}\n",
    "assert tcounts([('a',5), ('c',8), ('b',7), ('a',2), ('a',1), ('c',4)]) == {'a':5+2+1, 'b':7, 'c': 8 + 4}\n",
    "# TEST END"
   ]
  },
  {
   "cell_type": "markdown",
   "metadata": {},
   "source": [
    "### inter\n",
    "\n",
    "✪✪ Write a function `inter(d1,d2)` which takes two dictionaries and RETURN a SET of keys for which the couple <key, value> is the same in both dictionaries\n",
    "    \n",
    "Example \n",
    "\n",
    "```python\n",
    ">>> a = {key1: 1, key2: 2 , key3: 3} \n",
    ">>> b = {key1: 1 ,key2: 3 , key3: 3}\n",
    ">>> inter(a,b)\n",
    "{key1,key3}\n",
    "```\n"
   ]
  },
  {
   "cell_type": "code",
   "execution_count": 41,
   "metadata": {},
   "outputs": [],
   "source": [
    "\n",
    "\n",
    "def inter(d1, d2):\n",
    "    #jupman-raise    \n",
    "    res = set()\n",
    "    for key in d1:\n",
    "        if key in d2:\n",
    "            if d1[key] == d2[key]:\n",
    "                 res.add(key)\n",
    "    return res\n",
    "    #/jupman-raise\n",
    "    \n",
    "\n",
    "# TEST START - DO NOT TOUCH!      \n",
    "# if you wrote the whole code correct, and execute the cell, Python shouldn't raise `AssertionError`\n",
    "assert inter({'key1': 1, 'key2': 2 , 'key3': 3}, {'key1':1 ,'key2':3 , 'key3':3}) == {'key1', 'key3'}\n",
    "assert inter(dict(), {'key1':1 ,'key2':3 , 'key3':3}) == set()\n",
    "assert inter({'key1':1 ,'key2':3 , 'key3':3}, dict()) == set()\n",
    "assert inter(dict(),dict()) == set()\n",
    "# TEST END"
   ]
  },
  {
   "cell_type": "markdown",
   "metadata": {},
   "source": [
    "### unique_vals\n",
    "\n",
    "✪✪ Write a function `unique_vals(d)` which RETURN a list of unique values from the dictionary. The list MUST be ordered alphanumerically\n",
    "\n",
    "Question: We need it ordered for testing purposes. Why?\n",
    "\n",
    "- to order the list, use method  .sort()\n",
    "\n",
    "Example:\n",
    "\n",
    "```python\n",
    ">>> unique_vals({'a':'y','b':'x','c':'x'})\n",
    "    \n",
    "['x','y']\n",
    "```\n",
    "\n"
   ]
  },
  {
   "cell_type": "code",
   "execution_count": 42,
   "metadata": {},
   "outputs": [],
   "source": [
    "def unique_vals(d):\n",
    "    #jupman-raise\n",
    "    s = set(d.values())\n",
    "    ret = list(s)  # we can only sort lists (sets have no order)\n",
    "    ret.sort()\n",
    "    return ret\n",
    "    #/jupman-raise\n",
    "    \n",
    "# TEST START - DO NOT TOUCH!      \n",
    "# if you wrote the whole code correct, and execute the cell, Python shouldn't raise `AssertionError`\n",
    "assert unique_vals({}) == []\n",
    "assert unique_vals({'a':'y','b':'x','c':'x'}) == ['x','y']\n",
    "assert unique_vals({'a':4,'b':6,'c':4,'d':8}) == [4,6,8]\n",
    "# TEST END"
   ]
  },
  {
   "cell_type": "markdown",
   "metadata": {},
   "source": [
    "### uppers\n",
    "\n",
    "✪✪ Takes a list and RETURN a dictionary which associates to each string in the list the same string but with all characters uppercase\n",
    "\n",
    "\n",
    "Example:\n",
    "\n",
    "```python\n",
    ">>> uppers([\"ciao\", \"mondo\", \"come va?\"]) \n",
    "{\"ciao\":\"CIAO\", \"mondo\":\"MONDO\", \"come va?\":\"COME VA?\"}\n",
    "```\n",
    "\n",
    "Ingredients:\n",
    "\n",
    "- for cycle\n",
    "- `.upper()` method"
   ]
  },
  {
   "cell_type": "code",
   "execution_count": 43,
   "metadata": {},
   "outputs": [],
   "source": [
    "\n",
    "def uppers(xs):\n",
    "    #jupman-raise\n",
    "    d = {} \n",
    "    for s in xs:\n",
    "        d[s] = s.upper()\n",
    "    return d\n",
    "    #/jupman-raise\n",
    "    \n",
    "\n",
    "# TEST START - DO NOT TOUCH!      \n",
    "# if you wrote the whole code correct, and execute the cell, Python shouldn't raise `AssertionError`\n",
    "assert uppers([]) == {}\n",
    "assert uppers([\"ciao\"]) == {\"ciao\":\"CIAO\"}\n",
    "assert uppers([\"ciao\", \"mondo\"]) == {\"ciao\":\"CIAO\", \"mondo\":\"MONDO\"}\n",
    "assert uppers([\"ciao\", \"mondo\", \"ciao\"]) == {\"ciao\":\"CIAO\", \"mondo\":\"MONDO\"}\n",
    "assert uppers([\"ciao\", \"mondo\", \"come va?\"]) == {\"ciao\":\"CIAO\", \"mondo\":\"MONDO\", \"come va?\":\"COME VA?\"}\n",
    "# TEST END"
   ]
  },
  {
   "cell_type": "markdown",
   "metadata": {},
   "source": [
    "### filtraz\n",
    "\n",
    "✪✪ RETURN a NEW dictionary, which contains only the keys key/value of the dictionary `d` in input in which in the key is present the character `'z'`\n",
    "\n",
    "\n",
    "Example:\n",
    "\n",
    "```python\n",
    "filtraz({'zibibbo':'to drink',\n",
    "         'mc donald': 'to avoid',\n",
    "         'liquirizia': 'ze best',\n",
    "         'burger king': 'zozzerie'\n",
    "})\n",
    "```\n",
    "must RETURN the NEW dictionary\n",
    "\n",
    "```python\n",
    "{\n",
    "'zibibbo':'da bere',\n",
    "'liquirizia': 'ze best'\n",
    "}\n",
    "```\n",
    "\n",
    "In other words, we only kept those keys which contained at least a `z`. We do not care about `z` in values.\n",
    "\n",
    "Ingredients:\n",
    "\n",
    "To check if `z` is in the key, use the operator `in`, for example\n",
    "\n",
    "```python\n",
    "    'z' in 'zibibbo' == True\n",
    "    'z' in 'mc donald' == False\n",
    "```\n"
   ]
  },
  {
   "cell_type": "code",
   "execution_count": 44,
   "metadata": {},
   "outputs": [],
   "source": [
    "def filtraz(diz):    \n",
    "    #jupman-raise\n",
    "    \n",
    "    ret = {}\n",
    "    for chiave in diz:\n",
    "        if 'z' in chiave:\n",
    "            ret[chiave] = diz[chiave]\n",
    "    return ret\n",
    "\n",
    "    #/jupman-raise\n",
    "\n",
    "\n",
    "# TEST START - DO NOT TOUCH!      \n",
    "# if you wrote the whole code correct, and execute the cell, Python shouldn't raise `AssertionError`\n",
    "assert filtraz({}) == {}\n",
    "assert filtraz({'az':'t'}) == {'az':'t'}\n",
    "assert filtraz({'zc':'w'}) == {'zc':'w'}\n",
    "assert filtraz({'b':'h'}) == {}\n",
    "assert filtraz({'b':'hz'}) == {}\n",
    "assert filtraz({'az':'t','b':'hz'}) == {'az':'t'}\n",
    "assert filtraz({'az':'t','b':'hz','zc':'w'}) == {'az':'t', 'zc':'w'}\n",
    "# TEST END"
   ]
  },
  {
   "cell_type": "markdown",
   "metadata": {},
   "source": [
    "### powers\n",
    "\n",
    "✪✪ RETURN a dictionary in which keys are integer numbers from `1` to `n` included, and respective values are the sqaures of the keys.\n",
    "\n",
    "\n",
    "Example:\n",
    "\n",
    "```python\n",
    "powers(3)\n",
    "```\n",
    "\n",
    "should return:\n",
    "\n",
    "```\n",
    "{\n",
    " 1:1,\n",
    " 2:4,\n",
    " 3:9\n",
    "}\n",
    "```\n"
   ]
  },
  {
   "cell_type": "code",
   "execution_count": 45,
   "metadata": {},
   "outputs": [],
   "source": [
    "\n",
    "def powers(n):\n",
    "    #jupman-raise\n",
    "    d=dict()\n",
    "    for i in range(1,n+1):\n",
    "        d[i]=i**2\n",
    "    return d\n",
    "    #/jupman-raise\n",
    "\n",
    "\n",
    "# TEST START - DO NOT TOUCH!      \n",
    "# if you wrote the whole code correct, and execute the cell, Python shouldn't raise `AssertionError`\n",
    "assert powers(1) == {1:1}\n",
    "assert powers(2) == {\n",
    "                        1:1,\n",
    "                        2:4\n",
    "                    }\n",
    "assert powers(3) == {\n",
    "                        1:1,\n",
    "                        2:4,\n",
    "                        3:9\n",
    "                    }\n",
    "\n",
    "assert powers(4) == {\n",
    "                        1:1,\n",
    "                        2:4,\n",
    "                        3:9,\n",
    "                        4:16\n",
    "                    }\n",
    "# TEST END"
   ]
  },
  {
   "cell_type": "markdown",
   "metadata": {},
   "source": [
    "### dilist\n",
    "\n",
    "✪✪ RETURN a dictionary with `n` couples key-value, where the keys are integer numbers from `1` to `n` included, and to each key `i` is associated a list of numbers from `1` to `i`.\n",
    "\n",
    "\n",
    "**NOTE**: the keys are *integer numbers*, NOT strings !!!! \n",
    "\n",
    "Example\n",
    "\n",
    "```python\n",
    ">>> dilist(3)\n",
    "{ \n",
    "    1:[1],\n",
    "    2:[1,2],\n",
    "    3:[1,2,3]\n",
    "}\n",
    "```\n"
   ]
  },
  {
   "cell_type": "code",
   "execution_count": 46,
   "metadata": {},
   "outputs": [],
   "source": [
    "\n",
    "\n",
    "def dilist(n):\n",
    "    #jupman-raise\n",
    "    ret = dict()\n",
    "    for i in range(1,n+1):\n",
    "        lista = []\n",
    "        for j in range(1,i+1):\n",
    "            lista.append(j)\n",
    "        ret[i] = lista\n",
    "    return ret\n",
    "    #/jupman-raise\n",
    "\n",
    "    \n",
    "# TEST START - DO NOT TOUCH!      \n",
    "# if you wrote the whole code correct, and execute the cell, Python shouldn't raise `AssertionError`\n",
    "assert dilist(0) == dict()\n",
    "assert dilist(1) == {\n",
    "                        1:[1]\n",
    "                    }\n",
    "assert dilist(2) == { \n",
    "                        1:[1],\n",
    "                        2:[1,2]\n",
    "                    }\n",
    "assert dilist(3) == { \n",
    "                        1:[1],\n",
    "                        2:[1,2],\n",
    "                        3:[1,2,3]\n",
    "                    }\n",
    "# TEST END"
   ]
  },
  {
   "cell_type": "markdown",
   "metadata": {},
   "source": [
    "### prefixes\n",
    "\n",
    "\n",
    "✪✪ Write a function`prefixes` which given\n",
    "\n",
    "a dictionary `d` having as keys italian provincies and as values their phone numbers (note: prefixes are also strings !)\n",
    "- a list `provinces` with the italian provinces\n",
    "\n",
    "RETURN a list of prefixes corresponding to provinces of given list.\n",
    "\n",
    "Example:\n",
    "\n",
    "```python\n",
    ">>> prefissi({\n",
    "                'tn':'0461', \n",
    "                'bz':'0471', \n",
    "                'mi':'02', \n",
    "                'to':'011',\n",
    "                'bo':'051'\n",
    "              }, \n",
    "              ['tn','to', 'mi'])\n",
    "\n",
    "['0461', '011', '02']\n",
    "```\n",
    "\n",
    "HINTS:\n",
    "\n",
    "- intialize an empty list to return\n",
    "- go through provinces list and take corresponding prefixes from the dictionary\n"
   ]
  },
  {
   "cell_type": "code",
   "execution_count": 47,
   "metadata": {},
   "outputs": [],
   "source": [
    "def prefixes(d, provinces):\n",
    "    \n",
    "    #jupman-raise\n",
    "    ret = []\n",
    "    for province in provinces:\n",
    "        ret.append(d[province])\n",
    "    \n",
    "    return ret\n",
    "    #/jupman-raise\n",
    "\n",
    "# TEST START - DO NOT TOUCH!      \n",
    "# if you wrote the whole code correct, and execute the cell, Python shouldn't raise `AssertionError`\n",
    "assert prefixes({'tn':'0461'}, []) == []    \n",
    "assert prefixes({'tn':'0461'}, ['tn']) == ['0461']\n",
    "assert prefixes({'tn':'0461', 'bz':'0471'}, ['tn']) == ['0461']\n",
    "assert prefixes({'tn':'0461', 'bz':'0471'}, ['bz']) == ['0471']\n",
    "assert prefixes({'tn':'0461', 'bz':'0471'}, ['tn','bz']) == ['0461', '0471']\n",
    "assert prefixes({'tn':'0461', 'bz':'0471'}, ['bz','tn']) == ['0471', '0461']\n",
    "assert prefixes({'tn':'0461', \n",
    "                 'bz':'0471', \n",
    "                 'mi':'02', \n",
    "                 'to':'011',\n",
    "                 'bo':'051'\n",
    "                }, \n",
    "                ['tn','to', 'mi']) == ['0461', '011', '02']\n",
    "# TEST END"
   ]
  },
  {
   "cell_type": "markdown",
   "metadata": {},
   "source": [
    "### Managers\n",
    "\n",
    "Let's look at this `managers_db` data structure. It is a list of dictionaries of managers.\n",
    "\n",
    "- Each manager supervises a department, which is also represented as a dictionary.\n",
    "- Each department can stay either in building `\"A\"` or building `\"B\"`"
   ]
  },
  {
   "cell_type": "code",
   "execution_count": 48,
   "metadata": {},
   "outputs": [],
   "source": [
    "managers_db = [\n",
    "  {\n",
    "    \"name\":\"Diego\",\n",
    "    \"surname\": \"Zorzi\",\n",
    "    \"age\": 34,\n",
    "    \"department\": {\n",
    "                    \"name\": \"Accounting\",\n",
    "                    \"budget\":20000,\n",
    "                    \"building\":\"A\"\n",
    "                  }\n",
    "  },\n",
    "  {\n",
    "    \"name\":\"Giovanni\",\n",
    "    \"surname\": \"Tapparelli\",\n",
    "    \"age\": 45,\n",
    "    \"department\": {\n",
    "                    \"name\": \"IT\",   \n",
    "                    \"budget\":10000,\n",
    "                    \"building\":\"B\"\n",
    "                  }\n",
    "  },\n",
    "  {\n",
    "    \"name\":\"Sara\",\n",
    "    \"surname\": \"Tomasi\",   \n",
    "    \"age\": 25,\n",
    "    \"department\": {\n",
    "                    \"name\": \"Human resources\", \n",
    "                    \"budget\":30000,\n",
    "                    \"building\":\"A\"\n",
    "                  }\n",
    "  },\n",
    "  {\n",
    "    \"name\":\"Giorgia\",\n",
    "    \"surname\": \"Tamanin\",\n",
    "    \"age\": 28,\n",
    "    \"department\": {\n",
    "                    \"name\": \"R&D\",   \n",
    "                    \"budget\":15000,\n",
    "                    \"building\":\"A\"\n",
    "                  } \n",
    "  },\n",
    "  {\n",
    "    \"name\":\"Paola\",\n",
    "    \"surname\": \"Guadagnini\",\n",
    "    \"age\": 30,\n",
    "    \"department\": {\n",
    "                    \"name\": \"Public relations\",  \n",
    "                    \"budget\":40000,\n",
    "                    \"building\":\"B\"\n",
    "                  }\n",
    "  }\n",
    "    \n",
    "]\n"
   ]
  },
  {
   "cell_type": "markdown",
   "metadata": {},
   "source": [
    "### managers:  extract_managers\n",
    "\n",
    "✪✪ RETURN the names of the managers in a list"
   ]
  },
  {
   "cell_type": "code",
   "execution_count": 49,
   "metadata": {},
   "outputs": [],
   "source": [
    "\n",
    "def extract_managers(db):\n",
    "    #jupman-raise\n",
    "    ret = []\n",
    "    for d in db:\n",
    "        ret.append(d[\"name\"])\n",
    "    return ret\n",
    "    #/jupman-raise\n",
    "\n",
    "# TEST START - DO NOT TOUCH!      \n",
    "# if you wrote the whole code correct, and execute the cell, Python shouldn't raise `AssertionError`\n",
    "assert extract_managers([]) == []\n",
    "\n",
    "# if it doesn't find managers_db, remember to executre the cell above which defins it !\n",
    "assert extract_managers(managers_db) == ['Diego', 'Giovanni', 'Sara', 'Giorgia', 'Paola']\n",
    "# TEST END"
   ]
  },
  {
   "cell_type": "markdown",
   "metadata": {},
   "source": [
    "### managers: extract_departments\n",
    "\n",
    "✪✪ RETURN the names of departments in a list."
   ]
  },
  {
   "cell_type": "code",
   "execution_count": 50,
   "metadata": {},
   "outputs": [],
   "source": [
    "def extract_departments(db):\n",
    "    #jupman-raise\n",
    "    ret = []\n",
    "    for d in db:\n",
    "        ret.append(d[\"department\"][\"name\"])\n",
    "       \n",
    "    return ret\n",
    "    #/jupman-raise\n",
    "\n",
    "\n",
    "# TEST START - DO NOT TOUCH!      \n",
    "# if you wrote the whole code correct, and execute the cell, Python shouldn't raise `AssertionError`\n",
    "\n",
    "assert extract_departments([]) == []\n",
    "# if it doesn't find managers_db, remember to execute the cell above which defins it !\n",
    "assert extract_departments(managers_db) == [\"Accounting\", \"IT\", \"Human resources\",\"R&D\", \"Public relations\"]\n",
    "# TEST END"
   ]
  },
  {
   "cell_type": "markdown",
   "metadata": {},
   "source": [
    "### managers: avg_age\n",
    "\n",
    "✪✪ RETURN the average age of managers"
   ]
  },
  {
   "cell_type": "code",
   "execution_count": 51,
   "metadata": {},
   "outputs": [],
   "source": [
    "\n",
    "def avg_age(db):\n",
    "    #jupman-raise\n",
    "    s = 0\n",
    "    for d in db:\n",
    "        s += d[\"age\"]\n",
    "    \n",
    "    return s / len(db)\n",
    "    #/jupman-raise\n",
    "\n",
    "    \n",
    "# TEST START - DO NOT TOUCH!      \n",
    "# if you wrote the whole code correct, and execute the cell, Python shouldn't raise `AssertionError`\n",
    "    \n",
    "# since the function    returns a float we can't compare for exact numbers but \n",
    "# only for close numbers with the function math.isclose\n",
    "import math   \n",
    "assert math.isclose(avg_age(managers_db), (34 + 45 + 25 + 28 + 30) / 5)\n",
    "# TEST END"
   ]
  },
  {
   "cell_type": "markdown",
   "metadata": {},
   "source": [
    "### managers: buildings\n",
    "\n",
    "✪✪ RETURN the buildings the departments belong to, WITHOUT duplicates !!!\n"
   ]
  },
  {
   "cell_type": "code",
   "execution_count": 52,
   "metadata": {},
   "outputs": [],
   "source": [
    "def buildings(db):\n",
    "    #jupman-raise\n",
    "    ret = []\n",
    "    for d in db:\n",
    "        building = d[\"department\"][\"building\"]\n",
    "        if building not in ret:\n",
    "            ret.append(building)\n",
    "\n",
    "    return ret\n",
    "    #/jupman-raise\n",
    "\n",
    "    \n",
    "# TEST START - DO NOT TOUCH!      \n",
    "# if you wrote the whole code correct, and execute the cell, Python shouldn't raise `AssertionError`\n",
    "\n",
    "assert buildings([]) == []\n",
    "assert buildings(managers_db) == [\"A\", \"B\"]\n",
    "# TEST END"
   ]
  },
  {
   "cell_type": "markdown",
   "metadata": {},
   "source": [
    "### medie\n",
    "\n",
    "✪✪ Given a dictionary structured as a tree regarding the grades of a student in class V and VI, RETURN an array containing the average for each subject\n",
    "\n",
    "\n",
    "Example:\n",
    "\n",
    "```python\n",
    ">>> averages([\n",
    "      {'id' : 1, 'subject' : 'math', 'V' : 70, 'VI' : 82},\n",
    "      {'id' : 1, 'subject' : 'italian', 'V' : 73, 'VI' : 74},\n",
    "      {'id' : 1, 'subject' : 'german', 'V' : 75, 'VI' : 86}\n",
    "    ])\n",
    "[ 76.0 , 73.5, 80.5 ]\n",
    "\n",
    "```\n",
    "\n",
    "which corresponds to\n",
    "```python\n",
    "[ (70+82)/2 , (73+74)/2, (75+86)/2 ]\n",
    "```\n",
    "\n",
    "\n",
    "\n"
   ]
  },
  {
   "cell_type": "code",
   "execution_count": 53,
   "metadata": {},
   "outputs": [],
   "source": [
    "def averages(lista):\n",
    "    ret = [0.0, 0.0, 0.0]\n",
    "    \n",
    "    for i in range(len(lista)):\n",
    "        ret[i] = (lista[i]['V'] + lista[i]['VI']) / 2\n",
    "   \n",
    "    return ret\n",
    "\n",
    "  \n",
    "# TEST START - DO NOT TOUCH!      \n",
    "# if you wrote the whole code correct, and execute the cell, Python shouldn't raise `AssertionError`\n",
    "import math\n",
    "\n",
    "def is_list_close(lista, listb):\n",
    "    \"\"\" Verifies the float numbers in lista are similar to nubers in listb\n",
    "\n",
    "    \"\"\"\n",
    "\n",
    "    if len(lista) != len(listb):\n",
    "        return False\n",
    "    \n",
    "    for i in range(len(lista)):\n",
    "        if not math.isclose(lista[i], listb[i]):\n",
    "            return False\n",
    "  \n",
    "    return True\n",
    "\n",
    "assert is_list_close(averages([\n",
    "                            {'id' : 1, 'subject' : 'math', 'V' : 70, 'VI' : 82},\n",
    "                            {'id' : 1, 'subject' : 'italian', 'V' : 73, 'VI' : 74},\n",
    "                            {'id' : 1, 'subject' : 'german', 'V' : 75, 'VI' : 86}\n",
    "                          ]),         \n",
    "                     [ 76.0 , 73.5, 80.5 ])\n",
    "# TEST END"
   ]
  },
  {
   "cell_type": "markdown",
   "metadata": {},
   "source": [
    "### has_pref\n",
    "\n",
    "✪✪ A big store has a database of clients modelled as a dictionary which associates customer names to their preferences regarding the categories of articles the usually buy:\n",
    "\n",
    "```python\n",
    "    {\n",
    "        'aldo':['cinema', 'music', 'sport'],\n",
    "        'giovanni':['music'],\n",
    "        'giacomo':['cinema', 'videogames']\n",
    "    }\n",
    "```\n",
    "Given the dictionary, the customer name and a category, write a function `has_pref` which RETURN `True` if that client has the given preference, `False` otherwise\n",
    "\n",
    "Example:\n",
    "\n",
    "```python\n",
    "ha_pref({\n",
    "            'aldo':['cinema', 'musica', 'sport'],\n",
    "            'giovanni':['musica'],\n",
    "            'giacomo':['cinema', 'videogiochi']\n",
    "    \n",
    "        }, 'aldo', 'musica')\n",
    "```\n",
    "\n",
    "deve ritornare `True` perchè ad `aldo` piace la musica, invece \n",
    "\n",
    "```python\n",
    "has_pref({'aldo':['cinema', 'music', 'sport'],\n",
    "         'giovanni':['music'],\n",
    "         'giacomo':['cinema', 'videogames']\n",
    "    \n",
    "        }, 'giacomo', 'sport')\n",
    "```\n",
    "\n",
    "Must return  `False` because Giacomo does not like sport "
   ]
  },
  {
   "cell_type": "code",
   "execution_count": 54,
   "metadata": {},
   "outputs": [],
   "source": [
    "\n",
    "def has_pref(d, name, pref):\n",
    "    #jupman-raise\n",
    "    if name in d:\n",
    "        return pref in d[name]\n",
    "    else:\n",
    "        return False\n",
    "    #/jupman-raise\n",
    "\n",
    "    \n",
    "# TEST START - DO NOT TOUCH!      \n",
    "# if you wrote the whole code correct, and execute the cell, Python shouldn't raise `AssertionError`\n",
    "assert has_pref({}, 'a', 'x') == False\n",
    "assert has_pref({'a':[]}, 'a',  'x') == False\n",
    "assert has_pref({'a':['x']}, 'a',  'x') == True\n",
    "assert has_pref({'a':['x']}, 'b',  'x') == False\n",
    "assert has_pref({'a':['x','y']}, 'a',  'y') == True\n",
    "assert has_pref({'a':['x','y'],\n",
    "                   'b':['y','x','z']}, 'b',  'y') == True\n",
    "assert has_pref({'aldo':['cinema', 'music', 'sport'],\n",
    "                 'giovanni':['music'],\n",
    "                 'giacomo':['cinema', 'videogames']\n",
    "               }, 'aldo', 'music') == True\n",
    "assert has_pref({'aldo':['cinema', 'music', 'sport'],\n",
    "                 'giovanni':['music'],\n",
    "                 'giacomo':['cinema', 'videogames']\n",
    "               }, 'giacomo', 'sport') == False\n",
    "# TEST END"
   ]
  },
  {
   "cell_type": "code",
   "execution_count": null,
   "metadata": {},
   "outputs": [],
   "source": []
  }
 ],
 "metadata": {
  "celltoolbar": "Edit Metadata",
  "kernelspec": {
   "display_name": "Python 3",
   "language": "python",
   "name": "python3"
  },
  "language_info": {
   "codemirror_mode": {
    "name": "ipython",
    "version": 3
   },
   "file_extension": ".py",
   "mimetype": "text/x-python",
   "name": "python",
   "nbconvert_exporter": "python",
   "pygments_lexer": "ipython3",
   "version": "3.7.3"
  },
  "toc": {
   "base_numbering": 1,
   "nav_menu": {},
   "number_sections": false,
   "sideBar": true,
   "skip_h1_title": false,
   "title_cell": "Table of Contents",
   "title_sidebar": "Contents",
   "toc_cell": false,
   "toc_position": {},
   "toc_section_display": true,
   "toc_window_display": true
  }
 },
 "nbformat": 4,
 "nbformat_minor": 2
}
