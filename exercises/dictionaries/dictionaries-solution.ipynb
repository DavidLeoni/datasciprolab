{
 "cells": [
  {
   "cell_type": "code",
   "execution_count": 1,
   "metadata": {
    "nbsphinx": "hidden"
   },
   "outputs": [],
   "source": [
    "#Please execute this cell\n",
    "import sys;\n",
    "sys.path.append('../../'); \n",
    "import jupman;\n"
   ]
  },
  {
   "cell_type": "markdown",
   "metadata": {},
   "source": [
    "# Dictionaries solutions\n",
    "\n",
    "## [Download exercises zip](../../_static/dictionaries-exercises.zip)\n",
    "\n",
    "[Browse files online](https://github.com/DavidLeoni/datasciprolab/tree/master/exercises/dictionaries)\n",
    "\n",
    "\n",
    "\n"
   ]
  },
  {
   "cell_type": "markdown",
   "metadata": {},
   "source": [
    "\n",
    "## What to do\n",
    "\n",
    "- unzip exercises in a folder, you should get something like this: \n",
    "\n",
    "```\n",
    "\n",
    "-jupman.py\n",
    "-my_lib.py\n",
    "-other stuff ...\n",
    "-exercises\n",
    "     |- lists\n",
    "         |- dictionaries-exercise.ipynb     \n",
    "         |- dictionaries-solution.ipynb\n",
    "         |- other stuff ..\n",
    "```\n",
    "\n",
    "<div class=\"alert alert-warning\">\n",
    "\n",
    "**WARNING**: to correctly visualize the notebook, it MUST be in an unzipped folder !\n",
    "</div>\n",
    "\n",
    "\n",
    "- open Jupyter Notebook from that folder. Two things should open, first a console and then browser. The browser should show a file list: navigate the list and open the notebook `exercises/dictionaries/dictionaries-exercise.ipynb`\n",
    "\n",
    "<div class=\"alert alert-warning\">\n",
    "\n",
    "**WARNING 2**: DO NOT use the _Upload_ button in Jupyter, instead navigate in Jupyter browser to the unzipped folder !\n",
    "</div>\n",
    "\n",
    "\n",
    "- Go on reading that notebook, and follow instuctions inside.\n",
    "\n",
    "\n",
    "Shortcut keys:\n",
    "\n",
    "- to execute Python code inside a Jupyter cell, press `Control + Enter`\n",
    "- to execute Python code inside a Jupyter cell AND select next cell, press `Shift + Enter`\n",
    "- to execute Python code inside a Jupyter cell AND a create a new cell aftwerwards, press `Alt + Enter`\n",
    "- If the notebooks look stuck, try to select `Kernel -> Restart`\n",
    "\n",
    "\n",
    "\n"
   ]
  },
  {
   "cell_type": "markdown",
   "metadata": {},
   "source": [
    "## Introduction\n",
    "\n",
    "We will review dictionaries, discuss ordering issues for keys, and finally deal with sets."
   ]
  },
  {
   "cell_type": "markdown",
   "metadata": {},
   "source": [
    "## Dict"
   ]
  },
  {
   "cell_type": "markdown",
   "metadata": {},
   "source": [
    "### Dict introduction\n",
    "\n",
    "First let's review Python dictionaries:\n",
    "\n",
    "Dictionaries map keys to values. Keys must be immutable types such as numbers, strings, tuples (so i.e. no lists are allowed as keys), while values can be anything. In the following example, we create a dictionary `d` that initially maps from strings to numbers: "
   ]
  },
  {
   "cell_type": "code",
   "execution_count": 2,
   "metadata": {},
   "outputs": [
    {
     "data": {
      "text/plain": [
       "{}"
      ]
     },
     "execution_count": 2,
     "metadata": {},
     "output_type": "execute_result"
    }
   ],
   "source": [
    "# create empty dict:\n",
    "\n",
    "d = dict()\n",
    "d"
   ]
  },
  {
   "cell_type": "code",
   "execution_count": 3,
   "metadata": {},
   "outputs": [
    {
     "data": {
      "text/plain": [
       "dict"
      ]
     },
     "execution_count": 3,
     "metadata": {},
     "output_type": "execute_result"
    }
   ],
   "source": [
    "type( dict() )"
   ]
  },
  {
   "cell_type": "markdown",
   "metadata": {},
   "source": [
    "Alternatively, to create a dictionary you can type `{}` :"
   ]
  },
  {
   "cell_type": "code",
   "execution_count": 4,
   "metadata": {},
   "outputs": [
    {
     "data": {
      "text/plain": [
       "{}"
      ]
     },
     "execution_count": 4,
     "metadata": {},
     "output_type": "execute_result"
    }
   ],
   "source": [
    "{}"
   ]
  },
  {
   "cell_type": "code",
   "execution_count": 5,
   "metadata": {},
   "outputs": [
    {
     "data": {
      "text/plain": [
       "dict"
      ]
     },
     "execution_count": 5,
     "metadata": {},
     "output_type": "execute_result"
    }
   ],
   "source": [
    "type( {} )"
   ]
  },
  {
   "cell_type": "code",
   "execution_count": 6,
   "metadata": {},
   "outputs": [
    {
     "data": {
      "text/plain": [
       "{'some key': 4}"
      ]
     },
     "execution_count": 6,
     "metadata": {},
     "output_type": "execute_result"
    }
   ],
   "source": [
    "# associate string \"some key\" to number 4\n",
    "d['some key'] = 4\n",
    "d"
   ]
  },
  {
   "cell_type": "markdown",
   "metadata": {},
   "source": [
    "To access a value corresponding to a key, write this: "
   ]
  },
  {
   "cell_type": "code",
   "execution_count": 7,
   "metadata": {},
   "outputs": [
    {
     "data": {
      "text/plain": [
       "4"
      ]
     },
     "execution_count": 7,
     "metadata": {},
     "output_type": "execute_result"
    }
   ],
   "source": [
    "d['some key']"
   ]
  },
  {
   "cell_type": "markdown",
   "metadata": {},
   "source": [
    "You can't associate mutable objects like lists:"
   ]
  },
  {
   "cell_type": "markdown",
   "metadata": {},
   "source": [
    "```python\n",
    "d[ ['a', 'mutable', 'list', 'as key']  ] = 3\n",
    "```\n",
    "\n",
    "```bash\n",
    "---------------------------------------------------------------------------\n",
    "TypeError                                 Traceback (most recent call last)\n",
    "<ipython-input-204-fb9d60c4e88a> in <module>()\n",
    "----> 1 d[ ['a', 'mutable', 'list', 'as key']  ] = 3\n",
    "\n",
    "TypeError: unhashable type: 'list'\n",
    "```"
   ]
  },
  {
   "cell_type": "markdown",
   "metadata": {},
   "source": [
    "But you can associate tuples:"
   ]
  },
  {
   "cell_type": "code",
   "execution_count": 8,
   "metadata": {},
   "outputs": [
    {
     "data": {
      "text/plain": [
       "{('an', 'immutable', 'tuple', 'as key'): 3, 'some key': 4}"
      ]
     },
     "execution_count": 8,
     "metadata": {},
     "output_type": "execute_result"
    }
   ],
   "source": [
    "d[ ('an', 'immutable', 'tuple', 'as key')  ] = 3\n",
    "d"
   ]
  },
  {
   "cell_type": "code",
   "execution_count": 9,
   "metadata": {},
   "outputs": [
    {
     "data": {
      "text/plain": [
       "{('an', 'immutable', 'tuple', 'as key'): 3, 'some key': 4, 'some other key': 7}"
      ]
     },
     "execution_count": 9,
     "metadata": {},
     "output_type": "execute_result"
    }
   ],
   "source": [
    "# associate string \"some other key\" to number 7\n",
    "d['some other key'] = 7\n",
    "d"
   ]
  },
  {
   "cell_type": "code",
   "execution_count": 10,
   "metadata": {},
   "outputs": [
    {
     "data": {
      "text/plain": [
       "{('an', 'immutable', 'tuple', 'as key'): 3, 'some key': 5, 'some other key': 7}"
      ]
     },
     "execution_count": 10,
     "metadata": {},
     "output_type": "execute_result"
    }
   ],
   "source": [
    "# Dictionary is mutable, so you can reassign a key to a different value: \n",
    "d['some key'] = 5\n",
    "d"
   ]
  },
  {
   "cell_type": "code",
   "execution_count": 11,
   "metadata": {},
   "outputs": [
    {
     "data": {
      "text/plain": [
       "{('an', 'immutable', 'tuple', 'as key'): 3,\n",
       " 'some key': 5,\n",
       " 'some other key': 7,\n",
       " 'yet another key': 'now a string!'}"
      ]
     },
     "execution_count": 11,
     "metadata": {},
     "output_type": "execute_result"
    }
   ],
   "source": [
    "# Dictionares are eterogenous, so values can be of different types:\n",
    "\n",
    "d['yet another key'] = 'now a string!'\n",
    "d"
   ]
  },
  {
   "cell_type": "code",
   "execution_count": 12,
   "metadata": {},
   "outputs": [],
   "source": [
    "# Keys also can be of eterogeneous types, but they *must* be of immutable types:"
   ]
  },
  {
   "cell_type": "code",
   "execution_count": 13,
   "metadata": {},
   "outputs": [
    {
     "data": {
      "text/plain": [
       "{('an', 'immutable', 'tuple', 'as key'): 3,\n",
       " 123: 'hello',\n",
       " 'some key': 5,\n",
       " 'some other key': 7,\n",
       " 'yet another key': 'now a string!'}"
      ]
     },
     "execution_count": 13,
     "metadata": {},
     "output_type": "execute_result"
    }
   ],
   "source": [
    "d[123] = 'hello'\n",
    "d"
   ]
  },
  {
   "cell_type": "code",
   "execution_count": 14,
   "metadata": {},
   "outputs": [],
   "source": [
    "\n",
    "# To iterate through keys, use a 'for in' construct :\n",
    "\n",
    "# ****  WARNING: iteration order most often is NOT the same as insertion order!!  ****"
   ]
  },
  {
   "cell_type": "code",
   "execution_count": 15,
   "metadata": {},
   "outputs": [
    {
     "name": "stdout",
     "output_type": "stream",
     "text": [
      "123\n",
      "some key\n",
      "some other key\n",
      "('an', 'immutable', 'tuple', 'as key')\n",
      "yet another key\n"
     ]
    }
   ],
   "source": [
    "for k in d:\n",
    "    print(k)"
   ]
  },
  {
   "cell_type": "code",
   "execution_count": 16,
   "metadata": {},
   "outputs": [],
   "source": [
    "# get all keys:"
   ]
  },
  {
   "cell_type": "code",
   "execution_count": 17,
   "metadata": {},
   "outputs": [
    {
     "data": {
      "text/plain": [
       "dict_keys([123, 'some key', 'some other key', ('an', 'immutable', 'tuple', 'as key'), 'yet another key'])"
      ]
     },
     "execution_count": 17,
     "metadata": {},
     "output_type": "execute_result"
    }
   ],
   "source": [
    "d.keys()"
   ]
  },
  {
   "cell_type": "code",
   "execution_count": 18,
   "metadata": {},
   "outputs": [],
   "source": [
    "# get all values:"
   ]
  },
  {
   "cell_type": "code",
   "execution_count": 19,
   "metadata": {},
   "outputs": [
    {
     "data": {
      "text/plain": [
       "dict_values(['hello', 5, 7, 3, 'now a string!'])"
      ]
     },
     "execution_count": 19,
     "metadata": {},
     "output_type": "execute_result"
    }
   ],
   "source": [
    "d.values()"
   ]
  },
  {
   "cell_type": "code",
   "execution_count": 20,
   "metadata": {},
   "outputs": [
    {
     "data": {
      "text/plain": [
       "{('an', 'immutable', 'tuple', 'as key'): 3,\n",
       " 123: 'hello',\n",
       " 'some other key': 7,\n",
       " 'yet another key': 'now a string!'}"
      ]
     },
     "execution_count": 20,
     "metadata": {},
     "output_type": "execute_result"
    }
   ],
   "source": [
    "# delete a key:\n",
    "\n",
    "del d['some key']\n",
    "d"
   ]
  },
  {
   "cell_type": "markdown",
   "metadata": {},
   "source": [
    "### histogram\n",
    "\n",
    "Difficulty: ✪✪"
   ]
  },
  {
   "cell_type": "code",
   "execution_count": 21,
   "metadata": {},
   "outputs": [],
   "source": [
    "\n",
    "def histogram(string):\n",
    "    \"\"\"\n",
    "\n",
    "    RETURN a dictionary that for each character in string contains the number of occurrences.\n",
    "    The keys are the caracthers and the values are to occurrences\n",
    "    \"\"\"\n",
    "    \n",
    "    #jupman-raise\n",
    "    ret = dict()\n",
    "    for c in string:\n",
    "        if c in ret:\n",
    "            ret[c] += 1\n",
    "        else:\n",
    "            ret[c] = 1\n",
    "    return ret\n",
    "    #/jupman-raise\n",
    "    \n",
    "assert histogram(\"babbo\") == {'b': 3, 'a':1, 'o':1}\n",
    "assert histogram(\"\") == {}\n",
    "assert histogram(\"cc\") == {'c': 2}\n",
    "assert histogram(\"aacc\") == {'a': 2, 'c':2}"
   ]
  },
  {
   "cell_type": "markdown",
   "metadata": {},
   "source": [
    "### listify\n",
    "\n",
    "Difficulty: ✪✪"
   ]
  },
  {
   "cell_type": "code",
   "execution_count": 22,
   "metadata": {},
   "outputs": [],
   "source": [
    "def listify(d, order):\n",
    "    \"\"\"\n",
    "    Takes a dictionary d as input and RETURN a list with only the values from the dict (so no keys )\n",
    "    To have a predictable order, the function also takes as input a list 'order' where there are \n",
    "    the keys from first dictionary ordered as we would like in the resulting list\n",
    "    \"\"\"\n",
    "    #jupman-raise\n",
    "    ret = list()\n",
    "    for element in order:\n",
    "        ret.append (d[element])\n",
    "    return ret\n",
    "    #/jupman-raise\n",
    "\n",
    "\n",
    "assert listify({}, []) == []\n",
    "assert listify({'ciao':123}, ['ciao']) == [123]\n",
    "assert listify({'a':'x','b':'y'}, ['a','b']) == ['x','y']\n",
    "assert listify({'a':'x','b':'y'}, ['b','a']) == ['y','x']\n",
    "assert listify({'a':'x','b':'y','c':'x'}, ['c','a','b']) == ['x','x','y']\n",
    "assert listify({'a':'x','b':'y','c':'x'}, ['b','c','a']) == ['y','x','x']\n",
    "assert listify({'a':5,'b':2,'c':9}, ['b','c','a']) == [2,9,5]\n",
    "assert listify({6:'x',8:'y',3:'x'}, [6,3,8]) == ['x','x','y']"
   ]
  },
  {
   "cell_type": "markdown",
   "metadata": {},
   "source": [
    "### tcounts\n",
    "\n",
    "Difficulty: ✪✪"
   ]
  },
  {
   "cell_type": "code",
   "execution_count": 23,
   "metadata": {},
   "outputs": [],
   "source": [
    "def tcounts(lst):\n",
    "    \"\"\"\n",
    "\n",
    "    Takes a list of tuples. Each tuple has two values, the first is an immutable object and \n",
    "    the second one is an integer number (the counts of that object).\n",
    "    RETURN a dictionary that for each immutable object found in the tuples,\n",
    "    associate the total count found for it.\n",
    "    \n",
    "    See asserts for examples\n",
    "    \"\"\"\n",
    "    ret = {}\n",
    "    for c in lst:\n",
    "        if c[0] in ret:\n",
    "            ret[c[0]] += c[1]\n",
    "        else:\n",
    "            ret[c[0]] = c[1]\n",
    "    return ret\n",
    "\n",
    "assert tcounts([]) == {}\n",
    "assert tcounts([('a',3)]) == {'a':3}\n",
    "assert tcounts([('a',3),('a',4)]) == {'a':7}\n",
    "assert tcounts([('a',3),('b',8), ('a',4)]) == {'a':7, 'b':8}\n",
    "assert tcounts([('a',5), ('c',8), ('b',7), ('a',2), ('a',1), ('c',4)]) == {'a':5+2+1, 'b':7, 'c': 8 + 4}\n"
   ]
  },
  {
   "cell_type": "markdown",
   "metadata": {},
   "source": [
    "## OrderedDict\n",
    "\n",
    "As we said before, when you scan the keys of a dictionary, the order most often is **not** the same as the insertion order. To have it predictable, you need to use an `OrderedDict`"
   ]
  },
  {
   "cell_type": "code",
   "execution_count": 24,
   "metadata": {},
   "outputs": [
    {
     "data": {
      "text/plain": [
       "OrderedDict([('some key', 5),\n",
       "             ('some other key', 7),\n",
       "             (('an', 'immutable', 'tuple', 'as key'), 3),\n",
       "             ('yet another key', 'now a string!'),\n",
       "             (123, 'hello')])"
      ]
     },
     "execution_count": 24,
     "metadata": {},
     "output_type": "execute_result"
    }
   ],
   "source": [
    "# first you need to import it from collections module\n",
    "from collections import OrderedDict\n",
    "\n",
    "od = OrderedDict()\n",
    "\n",
    "# OrderedDict looks and feels exactly as regular dictionaries. Here we reproduce the previous example:\n",
    "\n",
    "od['some key'] = 5\n",
    "\n",
    "od['some other key'] = 7\n",
    "od[('an', 'immutable', 'tuple','as key')] = 3\n",
    "od['yet another key'] = 'now a string!'\n",
    "od[123] = 'hello'\n",
    "od"
   ]
  },
  {
   "cell_type": "markdown",
   "metadata": {},
   "source": [
    "Now  you will see that if you iterate with the `for in` construct, you get exactly the same insertion sequence:"
   ]
  },
  {
   "cell_type": "code",
   "execution_count": 25,
   "metadata": {},
   "outputs": [
    {
     "name": "stdout",
     "output_type": "stream",
     "text": [
      "some key  :  5\n",
      "some other key  :  7\n",
      "('an', 'immutable', 'tuple', 'as key')  :  3\n",
      "yet another key  :  now a string!\n",
      "123  :  hello\n"
     ]
    }
   ],
   "source": [
    "for key in od:\n",
    "    print(\"%s  :  %s\" %(key, od[key]))\n"
   ]
  },
  {
   "cell_type": "markdown",
   "metadata": {},
   "source": [
    "To create it all at once, since you want to be sure of the order, you can pass a list of tuples representing key/value pairs. Here we reproduce the previous example: \n"
   ]
  },
  {
   "cell_type": "code",
   "execution_count": 26,
   "metadata": {},
   "outputs": [
    {
     "data": {
      "text/plain": [
       "OrderedDict([('some key', 5),\n",
       "             ('some other key', 7),\n",
       "             (('an', 'immutable', 'tuple', 'as key'), 3),\n",
       "             ('yet another key', 'now a string!'),\n",
       "             (123, 'hello')])"
      ]
     },
     "execution_count": 26,
     "metadata": {},
     "output_type": "execute_result"
    }
   ],
   "source": [
    "\n",
    "\n",
    "od = OrderedDict(\n",
    "        [\n",
    "            ('some key', 5),\n",
    "            ('some other key', 7),\n",
    "            (('an', 'immutable', 'tuple','as key'), 3),\n",
    "            ('yet another key', 'now a string!'),\n",
    "            (123, 'hello')\n",
    "        ]\n",
    ")\n",
    "\n",
    "od"
   ]
  },
  {
   "cell_type": "markdown",
   "metadata": {},
   "source": [
    "Again you will see that if you iterate with the `for in` construct, you get exactly the same insertion sequence:"
   ]
  },
  {
   "cell_type": "code",
   "execution_count": 27,
   "metadata": {
    "scrolled": true
   },
   "outputs": [
    {
     "name": "stdout",
     "output_type": "stream",
     "text": [
      "some key  :  5\n",
      "some other key  :  7\n",
      "('an', 'immutable', 'tuple', 'as key')  :  3\n",
      "yet another key  :  now a string!\n",
      "123  :  hello\n"
     ]
    }
   ],
   "source": [
    "for key in od:\n",
    "    print(\"%s  :  %s\" % (key, od[key]))"
   ]
  },
  {
   "cell_type": "markdown",
   "metadata": {},
   "source": [
    "## Set\n",
    "\n",
    "\n",
    "### Set introduction\n",
    "A set is an _unordered_ collection of _distinct_ elements, so no duplicates are allowed.\n",
    "\n",
    "In Python you can create a set with a call to `set()`"
   ]
  },
  {
   "cell_type": "code",
   "execution_count": 28,
   "metadata": {},
   "outputs": [],
   "source": [
    "s = set()"
   ]
  },
  {
   "cell_type": "code",
   "execution_count": 29,
   "metadata": {},
   "outputs": [
    {
     "data": {
      "text/plain": [
       "set()"
      ]
     },
     "execution_count": 29,
     "metadata": {},
     "output_type": "execute_result"
    }
   ],
   "source": [
    "s"
   ]
  },
  {
   "cell_type": "markdown",
   "metadata": {},
   "source": [
    "To add elements, use `.add()` method:"
   ]
  },
  {
   "cell_type": "code",
   "execution_count": 30,
   "metadata": {},
   "outputs": [],
   "source": [
    "s.add('hello')\n",
    "s.add('world')"
   ]
  },
  {
   "cell_type": "markdown",
   "metadata": {},
   "source": [
    "Notice Python represents a set with curly brackets, but differently from a dictionary you won't see colons `:` nor key/value couples:"
   ]
  },
  {
   "cell_type": "code",
   "execution_count": 31,
   "metadata": {},
   "outputs": [
    {
     "data": {
      "text/plain": [
       "{'hello', 'world'}"
      ]
     },
     "execution_count": 31,
     "metadata": {},
     "output_type": "execute_result"
    }
   ],
   "source": [
    "s"
   ]
  },
  {
   "cell_type": "markdown",
   "metadata": {},
   "source": [
    "### Empty sets"
   ]
  },
  {
   "cell_type": "markdown",
   "metadata": {},
   "source": [
    "<div class=\"alert alert-warning\">\n",
    "\n",
    "**WARNING**: `{}` means empty dictionary, not empty set\n",
    "</div>"
   ]
  },
  {
   "cell_type": "markdown",
   "metadata": {},
   "source": [
    "Since a set print out representation starts and ends with curly brackets as dictionaries, when you see written `{}` you might wonder whether that is the empty set or the empty dictionary. \n",
    "\n",
    "The empty dictionary is represented as a curly bracket:\n"
   ]
  },
  {
   "cell_type": "code",
   "execution_count": 32,
   "metadata": {},
   "outputs": [],
   "source": [
    "d = {}"
   ]
  },
  {
   "cell_type": "code",
   "execution_count": 33,
   "metadata": {},
   "outputs": [
    {
     "data": {
      "text/plain": [
       "{}"
      ]
     },
     "execution_count": 33,
     "metadata": {},
     "output_type": "execute_result"
    }
   ],
   "source": [
    "d"
   ]
  },
  {
   "cell_type": "code",
   "execution_count": 34,
   "metadata": {},
   "outputs": [
    {
     "data": {
      "text/plain": [
       "dict"
      ]
     },
     "execution_count": 34,
     "metadata": {},
     "output_type": "execute_result"
    }
   ],
   "source": [
    "type(d)"
   ]
  },
  {
   "cell_type": "markdown",
   "metadata": {},
   "source": [
    "The empty set is represented instead with `set()`"
   ]
  },
  {
   "cell_type": "code",
   "execution_count": 35,
   "metadata": {},
   "outputs": [],
   "source": [
    "s = set()"
   ]
  },
  {
   "cell_type": "code",
   "execution_count": 36,
   "metadata": {},
   "outputs": [
    {
     "data": {
      "text/plain": [
       "set()"
      ]
     },
     "execution_count": 36,
     "metadata": {},
     "output_type": "execute_result"
    }
   ],
   "source": [
    "s"
   ]
  },
  {
   "cell_type": "code",
   "execution_count": 37,
   "metadata": {},
   "outputs": [
    {
     "data": {
      "text/plain": [
       "set"
      ]
     },
     "execution_count": 37,
     "metadata": {},
     "output_type": "execute_result"
    }
   ],
   "source": [
    "type(s)"
   ]
  },
  {
   "cell_type": "markdown",
   "metadata": {},
   "source": [
    "You can iterate in a set with the `for in` construct:"
   ]
  },
  {
   "cell_type": "code",
   "execution_count": 38,
   "metadata": {},
   "outputs": [],
   "source": [
    "for el in s:\n",
    "    print(el)"
   ]
  },
  {
   "cell_type": "markdown",
   "metadata": {},
   "source": [
    "From the print out you notice sets, like dictionaries keys, are not necessarily iterated in same order as the insertion one. This also means they do not support access by index: "
   ]
  },
  {
   "cell_type": "markdown",
   "metadata": {},
   "source": [
    "```python\n",
    "s[0]\n",
    "```\n",
    "\n",
    "```bash\n",
    "---------------------------------------------------------------------------\n",
    "TypeError                                 Traceback (most recent call last)\n",
    "<ipython-input-61-f8bb2b116405> in <module>()\n",
    "----> 1 s[0]\n",
    "\n",
    "TypeError: 'set' object does not support indexing\n",
    "\n",
    "\n",
    "```"
   ]
  },
  {
   "cell_type": "markdown",
   "metadata": {},
   "source": [
    "Since sets must contain distinct elements, if we add the same element twice the same remains unmodified with no complaints from Python:"
   ]
  },
  {
   "cell_type": "code",
   "execution_count": 39,
   "metadata": {},
   "outputs": [],
   "source": [
    "s.add('hello')"
   ]
  },
  {
   "cell_type": "code",
   "execution_count": 40,
   "metadata": {},
   "outputs": [
    {
     "data": {
      "text/plain": [
       "{'hello'}"
      ]
     },
     "execution_count": 40,
     "metadata": {},
     "output_type": "execute_result"
    }
   ],
   "source": [
    "s"
   ]
  },
  {
   "cell_type": "code",
   "execution_count": 41,
   "metadata": {},
   "outputs": [],
   "source": [
    "s.add('world')"
   ]
  },
  {
   "cell_type": "code",
   "execution_count": 42,
   "metadata": {},
   "outputs": [
    {
     "data": {
      "text/plain": [
       "{'hello', 'world'}"
      ]
     },
     "execution_count": 42,
     "metadata": {},
     "output_type": "execute_result"
    }
   ],
   "source": [
    "s"
   ]
  },
  {
   "cell_type": "markdown",
   "metadata": {},
   "source": [
    "In a set we add eterogenous elements, like a numer here:"
   ]
  },
  {
   "cell_type": "code",
   "execution_count": 43,
   "metadata": {},
   "outputs": [],
   "source": [
    "s.add(7)"
   ]
  },
  {
   "cell_type": "code",
   "execution_count": 44,
   "metadata": {},
   "outputs": [
    {
     "data": {
      "text/plain": [
       "{7, 'hello', 'world'}"
      ]
     },
     "execution_count": 44,
     "metadata": {},
     "output_type": "execute_result"
    }
   ],
   "source": [
    "s"
   ]
  },
  {
   "cell_type": "markdown",
   "metadata": {},
   "source": [
    "To remove an element, use `.remove()` method:"
   ]
  },
  {
   "cell_type": "code",
   "execution_count": 45,
   "metadata": {},
   "outputs": [],
   "source": [
    "s.remove('world')"
   ]
  },
  {
   "cell_type": "code",
   "execution_count": 46,
   "metadata": {},
   "outputs": [
    {
     "data": {
      "text/plain": [
       "{7, 'hello'}"
      ]
     },
     "execution_count": 46,
     "metadata": {},
     "output_type": "execute_result"
    }
   ],
   "source": [
    "s"
   ]
  },
  {
   "cell_type": "markdown",
   "metadata": {},
   "source": [
    "### inter\n",
    "\n",
    "Difficulty: ✪✪"
   ]
  },
  {
   "cell_type": "code",
   "execution_count": 47,
   "metadata": {},
   "outputs": [],
   "source": [
    "\n",
    "\n",
    "def inter(d1, d2):\n",
    "    \"\"\"\n",
    "    RETURN a set of keys for which the couple <key, value> is the same in both dictionaries\n",
    "    \n",
    "\n",
    "    Example a = {key1: 1, key2: 2 , key3: 3} b = {key1:1 ,key2:3 , key3:3}\n",
    "\n",
    "       return {key1,key3}\n",
    "    \"\"\"    \n",
    "    #jupman-raise    \n",
    "    res = set()\n",
    "    for key in d1:\n",
    "        if key in d2:\n",
    "            if d1[key] == d2[key]:\n",
    "                 res.add(key)\n",
    "    return res\n",
    "    #/jupman-raise\n",
    "\n",
    "    \n",
    "assert inter({'key1': 1, 'key2': 2 , 'key3': 3}, {'key1':1 ,'key2':3 , 'key3':3}) == {'key1', 'key3'}\n",
    "assert inter(dict(), {'key1':1 ,'key2':3 , 'key3':3}) == set()\n",
    "assert inter({'key1':1 ,'key2':3 , 'key3':3}, dict()) == set()\n",
    "assert inter(dict(),dict()) == set()"
   ]
  },
  {
   "cell_type": "markdown",
   "metadata": {},
   "source": [
    "### unique_vals\n",
    "\n",
    "Difficulty: ✪✪"
   ]
  },
  {
   "cell_type": "code",
   "execution_count": 48,
   "metadata": {},
   "outputs": [],
   "source": [
    "\"\"\"\n",
    "    RETURN a list of unique values from the dictionary. The list MUST be ordered alphanumerically\n",
    "    Question: We need it ordered for testing purposes. Why?\n",
    "    \n",
    "    Ex: {'a':'y','b':'x','c':'x'}\n",
    "    \n",
    "    must return  ['x','y']\n",
    "    \n",
    "    - to order the list, use method  .sort()\n",
    "    \n",
    "\"\"\"\n",
    "def unique_vals(d):\n",
    "    #jupman-raise\n",
    "    s = set(d.values())\n",
    "    ret = list(s)  # we can only sort lists (sets have no order)\n",
    "    ret.sort()\n",
    "    return ret\n",
    "    #/jupman-raise\n",
    "    \n",
    "assert unique_vals({}) == []\n",
    "assert unique_vals({'a':'y','b':'x','c':'x'}) == ['x','y']\n",
    "assert unique_vals({'a':4,'b':6,'c':4,'d':8}) == [4,6,8]"
   ]
  }
 ],
 "metadata": {
  "celltoolbar": "Edit Metadata",
  "kernelspec": {
   "display_name": "Python 3",
   "language": "python",
   "name": "python3"
  },
  "language_info": {
   "codemirror_mode": {
    "name": "ipython",
    "version": 3
   },
   "file_extension": ".py",
   "mimetype": "text/x-python",
   "name": "python",
   "nbconvert_exporter": "python",
   "pygments_lexer": "ipython3",
   "version": "3.5.2"
  },
  "toc": {
   "base_numbering": 1,
   "nav_menu": {},
   "number_sections": false,
   "sideBar": true,
   "skip_h1_title": false,
   "title_cell": "Table of Contents",
   "title_sidebar": "Contents",
   "toc_cell": false,
   "toc_position": {},
   "toc_section_display": true,
   "toc_window_display": true
  }
 },
 "nbformat": 4,
 "nbformat_minor": 2
}
