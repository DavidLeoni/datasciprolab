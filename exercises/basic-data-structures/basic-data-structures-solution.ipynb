{
 "cells": [
  {
   "cell_type": "code",
   "execution_count": 1,
   "metadata": {
    "nbsphinx": "hidden"
   },
   "outputs": [],
   "source": [
    "#Please execute this cell\n",
    "import sys;\n",
    "sys.path.append('../../'); \n",
    "import jupman;\n"
   ]
  },
  {
   "cell_type": "markdown",
   "metadata": {},
   "source": [
    "# Basic data structures solutions\n",
    "\n",
    "## [Download exercises zip](../../_static/basic-data-structures-exercises.zip)\n",
    "\n",
    "[Browse files online](https://github.com/DavidLeoni/jupman/tree/master/exercises/basic-data-structures)\n",
    "\n",
    "\n",
    "\n"
   ]
  },
  {
   "cell_type": "markdown",
   "metadata": {},
   "source": [
    "\n",
    "## What to do\n",
    "\n",
    "- unzip exercises in a folder, you should get something like this: \n",
    "\n",
    "```\n",
    "\n",
    "-jupman.py\n",
    "-my_lib.py\n",
    "-other stuff ...\n",
    "-exercises\n",
    "     |- basic-data-structures\n",
    "         |- basic-data-structures-exercise.ipynb     \n",
    "         |- basic-data-structures-solution.ipynb\n",
    "         |- other stuff ..\n",
    "```\n",
    "\n",
    "<div class=\"alert alert-warning\">\n",
    "\n",
    "**WARNING**: to correctly visualize the notebook, it MUST be in an unzipped folder !\n",
    "</div>\n",
    "\n",
    "\n",
    "- open Jupyter Notebook from that folder. Two things should open, first a console and then browser. The browser should show a file list: navigate the list and open the notebook `exercises/basic-data-structures/basic-data-structures-exercise.ipynb`\n",
    "- Go on reading that notebook, and follow instuctions inside.\n",
    "\n",
    "\n",
    "Shortcut keys:\n",
    "\n",
    "- to execute Python code inside a Jupyter cell, press `Control + Enter`\n",
    "- to execute Python code inside a Jupyter cell AND select next cell, press `Shift + Enter`\n",
    "- to execute Python code inside a Jupyter cell AND a create a new cell aftwerwards, press `Alt + Enter`\n",
    "- If the notebooks look stuck, try to select `Kernel -> Restart`\n",
    "\n",
    "\n",
    "\n"
   ]
  },
  {
   "cell_type": "markdown",
   "metadata": {},
   "source": [
    "## Lists\n",
    "\n",
    "### newdoublefor"
   ]
  },
  {
   "cell_type": "code",
   "execution_count": 2,
   "metadata": {},
   "outputs": [],
   "source": [
    "def newdoublefor(lst):\n",
    "    \"\"\" Takes a list of integers in input and RETURN a NEW one with all \n",
    "        the numbers of lst doubled. Implement it with a for.\n",
    "\n",
    "        Example:\n",
    "        \n",
    "                newdouble([3,7,1])\n",
    "\n",
    "        returns:\n",
    "\n",
    "                [6,14,2]\n",
    "    \"\"\"\n",
    "    #jupman-raise    \n",
    "    ret = []\n",
    "    for x in lst:\n",
    "        ret.append(x*2)\n",
    "    return ret\n",
    "    #/jupman-raise    \n",
    "\n",
    "assert newdoublefor([]) == []\n",
    "assert newdoublefor([3]) == [6]\n",
    "assert newdoublefor([3,7,1]) == [6,14,2]\n",
    "\n",
    "l = [3,7,1]\n",
    "assert newdoublefor(l) == [6,14,2]\n",
    "assert l == [3,7,1]\n"
   ]
  },
  {
   "cell_type": "markdown",
   "metadata": {},
   "source": [
    "### double"
   ]
  },
  {
   "cell_type": "code",
   "execution_count": 3,
   "metadata": {},
   "outputs": [],
   "source": [
    "def double(lst):\n",
    "    \"\"\" Takes a list of integers in input and MODIFIES it by doubling all the numbers\n",
    "    \"\"\"\n",
    "    \n",
    "    #jupman-raise    \n",
    "    for i in range(len(lst)):\n",
    "        lst[i] = lst[i] * 2\n",
    "    #/jupman-raise\n",
    "        \n",
    "l = []\n",
    "double(l)\n",
    "assert l == []\n",
    "\n",
    "l = [3]\n",
    "double(l)\n",
    "assert l == [6]\n",
    "\n",
    "        \n",
    "l = [3,7,1]\n",
    "double(l)\n",
    "assert l == [6,14,2]"
   ]
  },
  {
   "cell_type": "markdown",
   "metadata": {},
   "source": [
    "### newdoublecomp"
   ]
  },
  {
   "cell_type": "code",
   "execution_count": 4,
   "metadata": {},
   "outputs": [],
   "source": [
    "def newdoublecomp(lst):\n",
    "    \"\"\" Takes a list of integers in input and RETURN a NEW one with all \n",
    "        the numbers of lst doubled. Implement it as a list comprehnsion\n",
    "\n",
    "        Example:\n",
    "        \n",
    "                newdouble([3,7,1])\n",
    "\n",
    "        returns:\n",
    "\n",
    "                [6,14,2]\n",
    "    \"\"\"\n",
    "    #jupman-raise\n",
    "    return [x*2 for x in lst]\n",
    "    #/jupman-raise\n",
    "    \n",
    "assert newdoublecomp([]) == []\n",
    "assert newdoublecomp([3]) == [6]\n",
    "assert newdoublecomp([3,7,1]) == [6,14,2]\n",
    "\n",
    "l = [3,7,1]\n",
    "assert newdoublecomp(l) == [6,14,2]\n",
    "assert l == [3,7,1]"
   ]
  },
  {
   "cell_type": "markdown",
   "metadata": {},
   "source": [
    "### up"
   ]
  },
  {
   "cell_type": "code",
   "execution_count": 5,
   "metadata": {},
   "outputs": [],
   "source": [
    "def up(lst):\n",
    "    \"\"\" Takes a list of strings and RETURN a NEW list having all the strings in lst in capital\n",
    "        (use .upper() method and a list comprehension )\n",
    "    \"\"\"\n",
    "    #jupman-raise    \n",
    "    return [x.upper() for x in lst]\n",
    "    #/jupman-raise\n",
    "    \n",
    "assert up([]) == []\n",
    "assert up(['']) == ['']\n",
    "assert up(['a']) == ['A']\n",
    "assert up(['aA']) == ['AA']\n",
    "assert up(['Ba']) == ['BA']\n",
    "assert up(['Ba', 'aC']) == ['BA','AC']\n",
    "assert up(['Ba dA']) == ['BA DA']\n",
    "\n",
    "l = ['ciAo']\n",
    "assert up(l) == ['CIAO']\n",
    "assert l == ['ciAo']"
   ]
  },
  {
   "cell_type": "markdown",
   "metadata": {},
   "source": [
    "### remall"
   ]
  },
  {
   "cell_type": "code",
   "execution_count": 6,
   "metadata": {},
   "outputs": [],
   "source": [
    "def remall(list1, list2):\n",
    "    \"\"\" RETURN a NEW list which has the elements from list2 except the elements in list1\n",
    "    \"\"\"  \n",
    "    #jupman-raise    \n",
    "    list3 = list2[:]\n",
    "    for x in list1:\n",
    "        if x in list3:\n",
    "            list3.remove(x)\n",
    "    \n",
    "    return list3\n",
    "    #/jupman-raise    \n",
    "\n",
    "    \n",
    "\n",
    "assert remall([],[]) == []\n",
    "assert remall(['a'], []) == []\n",
    "assert remall([], ['a']) == ['a']\n",
    "assert remall(['a'], ['a']) == []\n",
    "assert remall(['b'], ['a']) == ['a']\n",
    "assert remall(['a', 'b'], ['a','c','b']) == ['c']\n",
    "\n",
    "assert remall(['a','d'], ['a','c','d','b']) == ['c', 'b']"
   ]
  },
  {
   "cell_type": "markdown",
   "metadata": {},
   "source": [
    "### collatz\n",
    "\n",
    "More challenging, implement this function from Montresor slides (the Collatz conjecture says that starting from any n you end up to 1): \n",
    "\n",
    "The 3n +1 sequence is defined like this: given a number n , compute a new value for n as follow: if n is even, divide n by 2 . If n is odd, multiply it by 3 and add 1 . Stop when you reach the value of 1 . Example: for n = 3 , the sequence is [3 , 10 , 5 , 16 , 8 , 4 , 2 , 1] . Write a program that creates a list D , such that for each value n between 1 and 50 , D [ n ] contains the length of the sequence so generated. In case of n = 3 , the length is 8 . In case of n = 27 , the length is 111 .\n",
    "\n",
    "If you need to check your results, you can also try this [nice online tool](https://www.dcode.fr/collatz-conjecture)"
   ]
  },
  {
   "cell_type": "code",
   "execution_count": 7,
   "metadata": {},
   "outputs": [],
   "source": [
    "def collatz():\n",
    "    \"\"\" Return D\"\"\"\n",
    "    raise Exception(\"TODO IMPLEMENT ME !\")"
   ]
  }
 ],
 "metadata": {
  "celltoolbar": "Edit Metadata",
  "kernelspec": {
   "display_name": "Python 3",
   "language": "python",
   "name": "python3"
  },
  "language_info": {
   "codemirror_mode": {
    "name": "ipython",
    "version": 3
   },
   "file_extension": ".py",
   "mimetype": "text/x-python",
   "name": "python",
   "nbconvert_exporter": "python",
   "pygments_lexer": "ipython3",
   "version": "3.5.2"
  },
  "toc": {
   "base_numbering": 1,
   "nav_menu": {},
   "number_sections": false,
   "sideBar": true,
   "skip_h1_title": false,
   "title_cell": "Table of Contents",
   "title_sidebar": "Contents",
   "toc_cell": false,
   "toc_position": {},
   "toc_section_display": true,
   "toc_window_display": true
  }
 },
 "nbformat": 4,
 "nbformat_minor": 2
}
