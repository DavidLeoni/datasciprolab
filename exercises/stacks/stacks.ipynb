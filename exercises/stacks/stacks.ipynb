{
 "cells": [
  {
   "cell_type": "code",
   "execution_count": 1,
   "metadata": {
    "nbsphinx": "hidden"
   },
   "outputs": [],
   "source": [
    "#Please execute this cell\n",
    "import sys;\n",
    "sys.path.append('../../'); \n",
    "import jupman;"
   ]
  },
  {
   "cell_type": "markdown",
   "metadata": {},
   "source": [
    "#  Stacks\n",
    "\n",
    "\n",
    "## [Download exercises zip](../../_static/stacks-exercises.zip) \n",
    "(before editing read whole introduction section 0.x)\n",
    "\n",
    "[Browse files online](https://github.com/DavidLeoni/datasciprolab/tree/master/exercises/stacks)\n",
    "\n",
    "\n",
    "### What to do\n",
    "\n",
    "- unzip exercises in a folder, you should get something like this: \n",
    "\n",
    "```\n",
    "\n",
    "-jupman.py\n",
    "-sciprog.py\n",
    "-other stuff ...\n",
    "-exercises\n",
    "     |-stacks\n",
    "         |- stacks.ipynb         \n",
    "         |- capped_stack_exercise.py\n",
    "         |- capped_stack_solution.py\n",
    "         |- capped_stack_test.py         \n",
    "         |- other stuff ..\n",
    "```\n",
    "\n",
    "\n",
    "- open the editor of your choice (for example Visual Studio Code, Spyder or PyCharme), you will edit the files ending in `_exercise.py` files\n",
    "- Go on reading this notebook, and follow instuctions inside.\n"
   ]
  },
  {
   "cell_type": "markdown",
   "metadata": {},
   "source": [
    "## Stack theory\n",
    "\n",
    "See theory here: http://disi.unitn.it/~montreso/sp/handouts/B02-strutture.pdf  (Slide 49)\n",
    "\n",
    "See [stack definition on the book](http://interactivepython.org/runestone/static/pythonds/BasicDS/WhatisaStack.html)\n",
    "\n",
    "and following sections :\n",
    "* [Stack Abstract Data Type](http://interactivepython.org/runestone/static/pythonds/BasicDS/TheStackAbstractDataType.html)\n",
    "* [Implementing a Stack in Python](http://interactivepython.org/runestone/static/pythonds/BasicDS/ImplementingaStackinPython.html)\n",
    "* [Simple Balanced Parenthesis](http://interactivepython.org/runestone/static/pythonds/BasicDS/SimpleBalancedParentheses.html)\n",
    "* <a href=\"http://interactivepython.org/runestone/static/pythonds/BasicDS/BalancedSymbols(AGeneralCase).html\" target=\"_blank\">Balanced Symbols - a General Case</a>\n"
   ]
  },
  {
   "cell_type": "markdown",
   "metadata": {},
   "source": [
    "## 1 CappedStack\n",
    "\n",
    "On slide 49 of [theory](http://disi.unitn.it/~montreso/sp/slides/04-strutture.pdf) a stack datatype is described, and in the following slides you can find an implementation which internally uses lists.\n",
    "\n",
    "You will try to modify it to have a so-called capped stack, which has a limit called _cap_ over which elements are discarded:\n",
    "\n",
    "* Please name internal variables that you don't want to expose to class users by prepending them with one underscore `'_'`, like `_elements` or `_cap`. \n",
    "    * The underscore is just a convention, class users will still be able to get internal variables by accessing them with field accessors like `mystack._elements`.\n",
    "    * If users manipulate private fields and complain something is not working, you can tell them it's their fault!\n",
    "* try to write a little more robust code. In general, when implementing code in the real world you might need to think more about boundary cases. In this case, we add the additional constraint that if you pass to the stack a negative or zero cap, your class initalization is expected to fail and raise a `ValueError`. \n",
    "* For easier inspection of the stack, implement also an `__str__` method so that calls to `print` show text like `CappedStack: cap=4 elements=['a', 'b']`\n"
   ]
  },
  {
   "cell_type": "markdown",
   "metadata": {},
   "source": [
    "<div class=\"alert alert-info\">\n",
    "\n",
    "**IMPORTANT**: you can exploit any Python feature you deem correct to implement \n",
    "the data structure. For example, internally you could represent the elements as a list\n",
    ", and use its own methods to grow it.\n",
    "</div>\n",
    "\n",
    "<div class=\"alert alert-info\">\n",
    "**QUESTION**: If we already have Python lists  that can more or less do the job of the stack, why do we \n",
    "    need to wrap them inside a Stack? Can't we just give our users a Python list?\n",
    "</div>\n",
    "\n",
    "<div class=\"alert alert-info\">\n",
    "\n",
    "**QUESTION**: When would you _not_ use a Python list to hold the data in the stack?\n",
    "</div>\n"
   ]
  },
  {
   "cell_type": "markdown",
   "metadata": {},
   "source": [
    "**Notice that**:\n",
    "\n",
    "* We tried to use <a href=\"https://www.python.org/dev/peps/pep-0008/#id45\" target=\"_blank\">more pythonic names</a> for methods, so for example `isEmpty` was renamed to `is_empty`\n",
    "* In this case, when this stack reaches `cap` size, successive `push` requests silently exit without raising errors. Other implementations might raise an error and stop excecution when trying to push over on already filled stack.\n",
    "* In this case, when this stack is required to `pop` or `peek` but it is found to be empty, an `IndexError` is raised\n",
    "* `pop` will both modify the stack _and_ return a value\n",
    "\n"
   ]
  },
  {
   "cell_type": "markdown",
   "metadata": {},
   "source": [
    "### CappedStack Examples\n",
    "\n",
    "To get an idea of the class to be made, in the terminal you may run the python interpreter and load the solution module like we are doing here:"
   ]
  },
  {
   "cell_type": "code",
   "execution_count": 2,
   "metadata": {},
   "outputs": [],
   "source": [
    "from capped_stack_solution import *"
   ]
  },
  {
   "cell_type": "code",
   "execution_count": 3,
   "metadata": {},
   "outputs": [],
   "source": [
    "s = CappedStack(2)"
   ]
  },
  {
   "cell_type": "code",
   "execution_count": 4,
   "metadata": {},
   "outputs": [
    {
     "name": "stdout",
     "output_type": "stream",
     "text": [
      "CappedStack: cap=2 elements=[]\n"
     ]
    }
   ],
   "source": [
    "print(s)"
   ]
  },
  {
   "cell_type": "code",
   "execution_count": 5,
   "metadata": {},
   "outputs": [],
   "source": [
    "s.push('a')"
   ]
  },
  {
   "cell_type": "code",
   "execution_count": 6,
   "metadata": {},
   "outputs": [
    {
     "name": "stdout",
     "output_type": "stream",
     "text": [
      "CappedStack: cap=2 elements=['a']\n"
     ]
    }
   ],
   "source": [
    "print(s)"
   ]
  },
  {
   "cell_type": "code",
   "execution_count": 7,
   "metadata": {},
   "outputs": [
    {
     "data": {
      "text/plain": [
       "'a'"
      ]
     },
     "execution_count": 7,
     "metadata": {},
     "output_type": "execute_result"
    }
   ],
   "source": [
    "s.peek()"
   ]
  },
  {
   "cell_type": "code",
   "execution_count": 8,
   "metadata": {},
   "outputs": [],
   "source": [
    "s.push('b')"
   ]
  },
  {
   "cell_type": "code",
   "execution_count": 9,
   "metadata": {},
   "outputs": [
    {
     "data": {
      "text/plain": [
       "'b'"
      ]
     },
     "execution_count": 9,
     "metadata": {},
     "output_type": "execute_result"
    }
   ],
   "source": [
    "s.peek()"
   ]
  },
  {
   "cell_type": "code",
   "execution_count": 10,
   "metadata": {},
   "outputs": [
    {
     "name": "stdout",
     "output_type": "stream",
     "text": [
      "CappedStack: cap=2 elements=['a', 'b']\n"
     ]
    }
   ],
   "source": [
    "print(s)"
   ]
  },
  {
   "cell_type": "code",
   "execution_count": 11,
   "metadata": {},
   "outputs": [
    {
     "data": {
      "text/plain": [
       "'b'"
      ]
     },
     "execution_count": 11,
     "metadata": {},
     "output_type": "execute_result"
    }
   ],
   "source": [
    "s.peek()"
   ]
  },
  {
   "cell_type": "code",
   "execution_count": 12,
   "metadata": {},
   "outputs": [],
   "source": [
    "s.push('c')  # exceeds cap, gets silently discarded"
   ]
  },
  {
   "cell_type": "code",
   "execution_count": 13,
   "metadata": {},
   "outputs": [
    {
     "name": "stdout",
     "output_type": "stream",
     "text": [
      "CappedStack: cap=2 elements=['a', 'b']\n"
     ]
    }
   ],
   "source": [
    "print(s)   # no c here ..."
   ]
  },
  {
   "cell_type": "code",
   "execution_count": 14,
   "metadata": {},
   "outputs": [
    {
     "data": {
      "text/plain": [
       "'b'"
      ]
     },
     "execution_count": 14,
     "metadata": {},
     "output_type": "execute_result"
    }
   ],
   "source": [
    "s.pop()"
   ]
  },
  {
   "cell_type": "code",
   "execution_count": 15,
   "metadata": {},
   "outputs": [
    {
     "name": "stdout",
     "output_type": "stream",
     "text": [
      "CappedStack: cap=2 elements=['a']\n"
     ]
    }
   ],
   "source": [
    "print(s)"
   ]
  },
  {
   "cell_type": "code",
   "execution_count": 16,
   "metadata": {},
   "outputs": [
    {
     "data": {
      "text/plain": [
       "'a'"
      ]
     },
     "execution_count": 16,
     "metadata": {},
     "output_type": "execute_result"
    }
   ],
   "source": [
    "s.pop()  "
   ]
  },
  {
   "cell_type": "markdown",
   "metadata": {},
   "source": [
    "```python\n",
    "s.pop()   # can't pop empty stack\n",
    "\n",
    "---------------------------------------------------------------------------\n",
    "IndexError                                Traceback (most recent call last)\n",
    "<ipython-input-41-c88c8c48122b> in <module>()\n",
    "----> 1 s.pop()\n",
    "\n",
    "~/Da/prj/datasciprolab/prj/exercises/stacks/capped_stack_solution.py in pop(self)\n",
    "     63         #jupman-raise\n",
    "     64         if len(self._elements) == 0:\n",
    "---> 65             raise IndexError(\"Empty stack !\")\n",
    "     66         else:\n",
    "     67             return self._elements.pop()\n",
    "\n",
    "IndexError: Empty stack !\n",
    "```"
   ]
  },
  {
   "cell_type": "markdown",
   "metadata": {},
   "source": [
    "```python\n",
    "s.peek()     # can't peek empty stack\n",
    "\n",
    "\n",
    "---------------------------------------------------------------------------\n",
    "IndexError                                Traceback (most recent call last)\n",
    "<ipython-input-18-f056e7e54f5d> in <module>()\n",
    "----> 1 s.peek()\n",
    "\n",
    "~/Da/prj/datasciprolab/prj/exercises/stacks/capped_stack_solution.py in peek(self)\n",
    "     77         #jupman-raise\n",
    "     78         if len(self._elements) == 0:\n",
    "---> 79             raise IndexError(\"Empty stack !\")\n",
    "     80 \n",
    "     81         return self._elements[-1]\n",
    "\n",
    "IndexError: Empty stack !\n",
    "\n",
    "```"
   ]
  },
  {
   "cell_type": "markdown",
   "metadata": {},
   "source": [
    "### Capped Stack basic methods\n",
    "\n",
    "Now open `capped_stack_exercise.py` and start implementing the methods in the order you find them.\n",
    "\n",
    "All basic methods are grouped within the CappedStackTest class: to execute single tests you can put the test method name after the test class name, see examples below."
   ]
  },
  {
   "cell_type": "markdown",
   "metadata": {},
   "source": [
    "### 1.1 `__init__`\n",
    "\n",
    "**Test**: `python3 -m unittest capped_stack_test.CappedStackTest.test_01_init`\n",
    "\n",
    "### 1.2 cap\n",
    "\n",
    "**Test**: `python3 -m unittest capped_stack_test.CappedStackTest.test_02_cap`\n",
    "\n",
    "### 1.3 size\n",
    "\n",
    "**Test**: `python3 -m unittest capped_stack_test.CappedStackTest.test_03_size`\n",
    "\n",
    "###  1.4 `__str__`\n",
    "**Test**: `python3 -m unittest capped_stack_test.CappedStackTest.test_04_str`\n",
    "\n",
    "### 1.5 is_empty\n",
    "\n",
    "**Test**: `python3 -m unittest capped_stack_test.CappedStackTest.test_05_is_empty`\n",
    "\n",
    "### 1.6 push\n",
    "\n",
    "**Test**: `python3 -m unittest capped_stack_test.CappedStackTest.test_06_push`\n",
    "\n",
    "### 1.7 peek\n",
    "\n",
    "**Test**: `python3 -m unittest capped_stack_test.CappedStackTest.test_07_peek`\n",
    "\n",
    "### 1.8 pop\n",
    "\n",
    "**Test**: `python3 -m unittest capped_stack_test.CappedStackTest.test_08_pop`\n"
   ]
  },
  {
   "cell_type": "markdown",
   "metadata": {},
   "source": []
  },
  {
   "cell_type": "markdown",
   "metadata": {},
   "source": [
    "\n",
    "\n",
    "\n",
    "### 1.9 peekn\n",
    "\n",
    "Implement the `peekn` method:\n",
    "\n",
    "```python\n",
    "    def peekn(self, n):\n",
    "        \"\"\"\n",
    "            RETURN a list with the n top elements, in the order in which they\n",
    "            were pushed. For example, if the stack is the following: \n",
    "            \n",
    "                e\n",
    "                d\n",
    "                c\n",
    "                b\n",
    "                a\n",
    "                \n",
    "            peekn(3) will return the list ['c','d','e']\n",
    "\n",
    "            If there aren't enough element to peek, raises IndexError\n",
    "            If n is negative, raises an IndexError\n",
    "\n",
    "        \"\"\"\n",
    "        raise Exception(\"TODO IMPLEMENT ME!\")\n",
    "```\n",
    "\n",
    "**Test**: `python3 -m unittest capped_stack_test.PeeknTest`\n",
    "\n"
   ]
  },
  {
   "cell_type": "markdown",
   "metadata": {},
   "source": [
    "### 1.10 popn\n",
    "\n",
    "Implement the `popn` method:\n",
    "\n",
    "```python\n",
    "    def popn(self, n):\n",
    "        \"\"\" Pops the top n elements, and RETURN them as a list, in the order in \n",
    "            which they where pushed. For example, with the following stack:\n",
    "            \n",
    "                e\n",
    "                d\n",
    "                c\n",
    "                b\n",
    "                a\n",
    "            \n",
    "            popn(3)\n",
    "            \n",
    "            will give back ['c','d','e'], and stack will become:\n",
    "            \n",
    "                b\n",
    "                a\n",
    "            \n",
    "            If there aren't enough element to pop, raises an IndexError\n",
    "            If n is negative, raises an IndexError\n",
    "        \"\"\"\n",
    "\n",
    "```\n",
    "\n",
    "**Test**: `python3 -m unittest capped_stack_test.PopnTest`\n",
    "\n"
   ]
  },
  {
   "cell_type": "markdown",
   "metadata": {},
   "source": [
    "### 1.11 set_cap\n",
    "\n",
    "Implement the `set_cap` method:\n",
    "\n",
    "```python\n",
    "    def set_cap(self, cap):\n",
    "        \"\"\" MODIFIES the cap, setting its value to the provided cap. \n",
    "        \n",
    "            If the cap is less then the stack size, all the elements above \n",
    "            the cap are removed from the stack.\n",
    "            \n",
    "            If cap < 1, raises an IndexError\n",
    "            Does *not* return anything!\n",
    "        \n",
    "            For example, with the following stack, and cap at position 7:\n",
    "            \n",
    "            cap ->  7\n",
    "                    6\n",
    "                    5  e\n",
    "                    4  d\n",
    "                    3  c\n",
    "                    2  b\n",
    "                    1  a\n",
    "                    \n",
    "            \n",
    "            calling method set_cap(3) will change the stack to this:\n",
    "            \n",
    "            cap ->  3  c\n",
    "                    2  b\n",
    "                    1  a                                \n",
    "            \n",
    "        \"\"\"\n",
    "    \n",
    "```\n",
    "\n",
    "**Test**: `python3 -m unittest capped_stack_test.SetCapTest`\n"
   ]
  },
  {
   "cell_type": "markdown",
   "metadata": {},
   "source": [
    "## 2 SortedStack\n",
    "\n",
    "\n",
    "You are given a class `SortedStack` that models a simple stack. This stack is similar to the `CappedStack` you already saw, the differences being:\n",
    "\n",
    "- **it can only contain integers**, trying to put other type of values will raise a `ValueError`\n",
    "- integers **must** be inserted sorted in the stack, either ascending or descending   \n",
    "- there is no cap\n",
    "\n",
    "```\n",
    "   Example:\n",
    "        \n",
    "        Ascending:       Descending\n",
    "           \n",
    "           8                 3\n",
    "           5                 5\n",
    "           3                 8\n",
    "```           "
   ]
  },
  {
   "cell_type": "code",
   "execution_count": 17,
   "metadata": {},
   "outputs": [],
   "source": [
    "from sorted_stack_solution import *"
   ]
  },
  {
   "cell_type": "markdown",
   "metadata": {},
   "source": [
    "To create a `SortedStack` sorted in ascending order, just call it passing `True`:"
   ]
  },
  {
   "cell_type": "code",
   "execution_count": 18,
   "metadata": {},
   "outputs": [
    {
     "name": "stdout",
     "output_type": "stream",
     "text": [
      "SortedStack (ascending):   elements=[]\n"
     ]
    }
   ],
   "source": [
    "s = SortedStack(True)\n",
    "print(s)"
   ]
  },
  {
   "cell_type": "code",
   "execution_count": 19,
   "metadata": {},
   "outputs": [
    {
     "ename": "SyntaxError",
     "evalue": "Missing parentheses in call to 'print' (<ipython-input-19-6d2cbe922a88>, line 2)",
     "output_type": "error",
     "traceback": [
      "\u001b[0;36m  File \u001b[0;32m\"<ipython-input-19-6d2cbe922a88>\"\u001b[0;36m, line \u001b[0;32m2\u001b[0m\n\u001b[0;31m    print s\u001b[0m\n\u001b[0m          ^\u001b[0m\n\u001b[0;31mSyntaxError\u001b[0m\u001b[0;31m:\u001b[0m Missing parentheses in call to 'print'\n"
     ]
    }
   ],
   "source": [
    "s.push(5)\n",
    "print s"
   ]
  },
  {
   "cell_type": "code",
   "execution_count": null,
   "metadata": {},
   "outputs": [],
   "source": [
    "s.push(7)\n",
    "print s"
   ]
  },
  {
   "cell_type": "code",
   "execution_count": null,
   "metadata": {},
   "outputs": [],
   "source": [
    "print s.pop()"
   ]
  },
  {
   "cell_type": "code",
   "execution_count": null,
   "metadata": {},
   "outputs": [],
   "source": [
    "print s"
   ]
  },
  {
   "cell_type": "code",
   "execution_count": null,
   "metadata": {},
   "outputs": [],
   "source": [
    "print s.pop()"
   ]
  },
  {
   "cell_type": "code",
   "execution_count": null,
   "metadata": {},
   "outputs": [],
   "source": [
    "print s"
   ]
  },
  {
   "cell_type": "markdown",
   "metadata": {},
   "source": [
    "For descending order, pass `False` when you create it:"
   ]
  },
  {
   "cell_type": "code",
   "execution_count": null,
   "metadata": {},
   "outputs": [],
   "source": [
    "sd = SortedStack(False)\n",
    "sd.push(7)\n",
    "sd.push(5)\n",
    "sd.push(4)\n",
    "print(sd)"
   ]
  },
  {
   "cell_type": "markdown",
   "metadata": {},
   "source": [
    "### 2.1 transfer\n",
    "\n",
    "Now implement the `transfer` function. \n",
    "\n",
    "**NOTE**: function is external to class `SortedStack`, so you must **NOT** access fields which begin with underscore (like `_elements`), which are meant to be private !!\n",
    "\n",
    "```python\n",
    "\n",
    "def transfer(s):\n",
    "    \"\"\" Takes as input a SortedStack s (either ascending or descending) and \n",
    "        returns a new SortedStack with the same elements of s, but in reverse order. \n",
    "        At the end of the call s will be empty.\n",
    "        \n",
    "        Example:\n",
    "        \n",
    "            s       result\n",
    "            \n",
    "            2         5\n",
    "            3         3\n",
    "            5         2\n",
    "    \"\"\"\n",
    "    raise Exception(\"TODO IMPLEMENT ME !!\")\n",
    "    \n",
    "```\n",
    "\n",
    "**Testing**\n",
    "\n",
    "Once done, running this will run only the tests in `TransferTest` class and hopefully they will pass. \n",
    "\n",
    "**Notice that  `exercise1` is followed by a dot and test class name `.TransferTest` : **\n",
    "\n",
    "```bash\n",
    "\n",
    " python -m unittest sorted_stack_test.TransferTest\n",
    "\n",
    "```\n"
   ]
  },
  {
   "cell_type": "markdown",
   "metadata": {},
   "source": [
    "\n",
    "\n",
    "### 2.2 merge\n",
    "\n",
    "Implement following `merge` function. **NOTE**: function is external to class `SortedStack`.\n",
    "\n",
    "\n",
    "```python\n",
    "\n",
    "def merge(s1,s2):\n",
    "    \"\"\" Takes as input two SortedStacks having both ascending order, \n",
    "       and returns a new SortedStack sorted in descending order, which will be the sorted merge \n",
    "       of the two input stacks. MUST run in O(n1 + n2) time, where n1 and n2 are s1 and s2 sizes.\n",
    "       \n",
    "       If input stacks are not both ascending, raises ValueError.\n",
    "       At the end of the call the input stacks will be empty.\n",
    "      \n",
    "       \n",
    "       Example:\n",
    "       \n",
    "       s1 (asc)   s2 (asc)      result (desc)\n",
    "       \n",
    "          5          7             2\n",
    "          4          3             3\n",
    "          2                        4\n",
    "                                   5\n",
    "                                   7\n",
    "    \n",
    "    \"\"\"   \n",
    "    \n",
    "    raise Exception(\"TODO IMPLEMENT ME !\")\n",
    "```\n",
    "\n",
    "**Testing**: `python -m unittest sorted_stack_test.MergeTest`"
   ]
  },
  {
   "cell_type": "code",
   "execution_count": null,
   "metadata": {
    "nbsphinx": "hidden"
   },
   "outputs": [],
   "source": [
    "# Please ignore this cell\n",
    "\n",
    "import capped_stack_test\n",
    "jupman.run(capped_stack_test)\n",
    "import sorted_stack_test\n",
    "jupman.run(sorted_stack_test)"
   ]
  },
  {
   "cell_type": "code",
   "execution_count": null,
   "metadata": {},
   "outputs": [],
   "source": []
  }
 ],
 "metadata": {
  "celltoolbar": "Edit Metadata",
  "kernelspec": {
   "display_name": "Python 3",
   "language": "python",
   "name": "python3"
  },
  "language_info": {
   "codemirror_mode": {
    "name": "ipython",
    "version": 3
   },
   "file_extension": ".py",
   "mimetype": "text/x-python",
   "name": "python",
   "nbconvert_exporter": "python",
   "pygments_lexer": "ipython3",
   "version": "3.5.2"
  },
  "toc": {
   "base_numbering": 1,
   "nav_menu": {},
   "number_sections": false,
   "sideBar": true,
   "skip_h1_title": false,
   "title_cell": "Table of Contents",
   "title_sidebar": "Contents",
   "toc_cell": false,
   "toc_position": {},
   "toc_section_display": true,
   "toc_window_display": true
  }
 },
 "nbformat": 4,
 "nbformat_minor": 2
}
