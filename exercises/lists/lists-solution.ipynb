{
 "cells": [
  {
   "cell_type": "code",
   "execution_count": 1,
   "metadata": {
    "nbsphinx": "hidden"
   },
   "outputs": [],
   "source": [
    "#Please execute this cell\n",
    "import sys;\n",
    "sys.path.append('../../'); \n",
    "import jupman;"
   ]
  },
  {
   "cell_type": "markdown",
   "metadata": {},
   "source": [
    "# Lists solutions\n",
    "\n",
    "## [Download exercises zip](../../_static/lists-exercises.zip)\n",
    "\n",
    "[Browse files online](https://github.com/DavidLeoni/datasciprolab/tree/master/exercises/lists)\n",
    "\n",
    "\n",
    "\n"
   ]
  },
  {
   "cell_type": "markdown",
   "metadata": {},
   "source": [
    "\n",
    "## What to do\n",
    "\n",
    "- unzip exercises in a folder, you should get something like this: \n",
    "\n",
    "```\n",
    "\n",
    "-jupman.py\n",
    "-sciprog.py\n",
    "-other stuff ...\n",
    "-exercises\n",
    "     |- lists\n",
    "         |- lists-exercise.ipynb     \n",
    "         |- lists-solution.ipynb\n",
    "         |- other stuff ..\n",
    "```\n",
    "\n",
    "<div class=\"alert alert-warning\">\n",
    "\n",
    "**WARNING**: to correctly visualize the notebook, it MUST be in an unzipped folder !\n",
    "</div>\n",
    "\n",
    "\n",
    "- open Jupyter Notebook from that folder. Two things should open, first a console and then browser. The browser should show a file list: navigate the list and open the notebook `exercises/lists/lists-exercise.ipynb`\n",
    "\n",
    "<div class=\"alert alert-warning\">\n",
    "\n",
    "**WARNING 2**: DO NOT use the _Upload_ button in Jupyter, instead navigate in Jupyter browser to the unzipped folder !\n",
    "</div>\n",
    "\n",
    "\n",
    "- Go on reading that notebook, and follow instuctions inside.\n",
    "\n",
    "\n",
    "Shortcut keys:\n",
    "\n",
    "- to execute Python code inside a Jupyter cell, press `Control + Enter`\n",
    "- to execute Python code inside a Jupyter cell AND select next cell, press `Shift + Enter`\n",
    "- to execute Python code inside a Jupyter cell AND a create a new cell aftwerwards, press `Alt + Enter`\n",
    "- If the notebooks look stuck, try to select `Kernel -> Restart`\n",
    "\n",
    "\n",
    "\n"
   ]
  },
  {
   "cell_type": "markdown",
   "metadata": {},
   "source": [
    "## Introduction\n",
    "\n",
    "**References**\n",
    "\n",
    "- [Andrea Passerini, A02 slides (lists and tuples)](http://disi.unitn.it/~passerini/teaching/2019-2020/sci-pro/slides/A02-datastructures.pdf)\n",
    "- [Think Python, Chapter 10, Lists](http://greenteapress.com/thinkpython2/html/thinkpython2011.html)\n",
    "- [Think Python, Chapter 12, Tuples](http://greenteapress.com/thinkpython2/html/thinkpython2013.html)\n",
    "\n",
    "\n",
    "Python lists are **ordered** collections of (homogeneous) objects, but they can hold also non-homogeneous data. List are **mutable objects**. Elements of the collection are specified within two square brackets **[]** and are comma separated.\n",
    "\n",
    "We can use the function print to print the content of lists. Some examples of list definitions follow:"
   ]
  },
  {
   "cell_type": "code",
   "execution_count": 2,
   "metadata": {},
   "outputs": [
    {
     "name": "stdout",
     "output_type": "stream",
     "text": [
      "first: [1, 2, 3]\n",
      "second:  [1, 2, 3, 1, 3]\n",
      "fruits: ['apple', 'pear', 'peach', 'strawberry', 'cherry']\n",
      "empty: []\n",
      "another empty: []\n",
      "list of lists: [[1, 2], [3, 4, 5, 6]]\n",
      "a list of lists of lists: [[1, 2, 3], [[1, 2], [3, 4, 5, 6]]]\n"
     ]
    }
   ],
   "source": [
    "my_first_list = [1,2,3] \n",
    "print(\"first:\" , my_first_list)\n",
    "\n",
    "my_second_list = [1,2,3,1,3] #elements can appear several times\n",
    "print(\"second: \", my_second_list)\n",
    "\n",
    "fruits = [\"apple\", \"pear\", \"peach\", \"strawberry\", \"cherry\"] #elements can be strings\n",
    "print(\"fruits:\", fruits)\n",
    "\n",
    "an_empty_list = []\n",
    "print(\"empty:\" , an_empty_list)\n",
    "\n",
    "another_empty_list = list()\n",
    "print(\"another empty:\", another_empty_list)\n",
    "\n",
    "a_list_containing_other_lists = [[1,2], [3,4,5,6]] #elements can be other lists\n",
    "print(\"list of lists:\", a_list_containing_other_lists)\n",
    "\n",
    "my_final_example = [my_first_list, a_list_containing_other_lists]\n",
    "print(\"a list of lists of lists:\", my_final_example)"
   ]
  },
  {
   "cell_type": "markdown",
   "metadata": {},
   "source": [
    "### Operators for lists\n",
    "\n",
    "Python provides several operators to handle lists. The following behave like on strings (**remember that as in strings, the first position is 0!**):\n",
    "\n",
    "![](img/operators1.png)\n",
    "\n",
    "While this requires that the whole tested obj is present in the list\n",
    "\n",
    "![](img/operators2.png)\n",
    "\n",
    "and \n",
    "\n",
    "![](img/operators3.png)\n",
    "\n",
    "can also change the corresponding value of the list (**lists are mutable objects**).\n",
    "\n",
    "Some examples follow."
   ]
  },
  {
   "cell_type": "code",
   "execution_count": 3,
   "metadata": {},
   "outputs": [
    {
     "name": "stdout",
     "output_type": "stream",
     "text": [
      "A is a  <class 'list'>\n"
     ]
    }
   ],
   "source": [
    "A = [1, 2, 3 ]\n",
    "B = [1, 2, 3, 1, 2]\n",
    "\n",
    "print(\"A is a \", type(A))"
   ]
  },
  {
   "cell_type": "code",
   "execution_count": 4,
   "metadata": {},
   "outputs": [
    {
     "name": "stdout",
     "output_type": "stream",
     "text": [
      "[1, 2, 3]  has length:  3\n"
     ]
    }
   ],
   "source": [
    "print(A, \" has length: \", len(A))"
   ]
  },
  {
   "cell_type": "code",
   "execution_count": 5,
   "metadata": {},
   "outputs": [
    {
     "name": "stdout",
     "output_type": "stream",
     "text": [
      "A[0]:  1  A[1]: 2  A[-1]: 3\n"
     ]
    }
   ],
   "source": [
    "print(\"A[0]: \", A[0], \" A[1]:\", A[1], \" A[-1]:\", A[-1])"
   ]
  },
  {
   "cell_type": "code",
   "execution_count": 6,
   "metadata": {},
   "outputs": [
    {
     "name": "stdout",
     "output_type": "stream",
     "text": [
      "[1, 2, 3, 1, 2]  has length:  5\n"
     ]
    }
   ],
   "source": [
    "print(B, \" has length: \", len(B))"
   ]
  },
  {
   "cell_type": "code",
   "execution_count": 7,
   "metadata": {},
   "outputs": [
    {
     "name": "stdout",
     "output_type": "stream",
     "text": [
      "Is A equal to B? False\n"
     ]
    }
   ],
   "source": [
    "print(\"Is A equal to B?\", A == B)"
   ]
  },
  {
   "cell_type": "code",
   "execution_count": 8,
   "metadata": {},
   "outputs": [
    {
     "name": "stdout",
     "output_type": "stream",
     "text": [
      "[1, 2, 3, 1, 2]\n"
     ]
    }
   ],
   "source": [
    "C = A + [1, 2]\n",
    "print(C)"
   ]
  },
  {
   "cell_type": "code",
   "execution_count": 9,
   "metadata": {},
   "outputs": [
    {
     "name": "stdout",
     "output_type": "stream",
     "text": [
      "Is C equal to B? True\n"
     ]
    }
   ],
   "source": [
    "print(\"Is C equal to B?\", B == C)"
   ]
  },
  {
   "cell_type": "code",
   "execution_count": 10,
   "metadata": {},
   "outputs": [],
   "source": [
    "D = [1, 2, 3]*8 "
   ]
  },
  {
   "cell_type": "code",
   "execution_count": 11,
   "metadata": {},
   "outputs": [
    {
     "name": "stdout",
     "output_type": "stream",
     "text": [
      "[1, 2, 3, 1, 2, 3]\n"
     ]
    }
   ],
   "source": [
    "E = D[12:18] #slicing\n",
    "print(E)"
   ]
  },
  {
   "cell_type": "code",
   "execution_count": 12,
   "metadata": {},
   "outputs": [
    {
     "name": "stdout",
     "output_type": "stream",
     "text": [
      "Is A*2 equal to E? True\n"
     ]
    }
   ],
   "source": [
    "print(\"Is A*2 equal to E?\", A*2 == E)"
   ]
  },
  {
   "cell_type": "code",
   "execution_count": 13,
   "metadata": {},
   "outputs": [
    {
     "name": "stdout",
     "output_type": "stream",
     "text": [
      "A: [1, 2, 3, 4, 5, 6]\n",
      "B: [1, 3, 5]\n"
     ]
    }
   ],
   "source": [
    "A = [1, 2, 3, 4, 5, 6]\n",
    "B = [1, 3, 5]\n",
    "print(\"A:\", A)\n",
    "print(\"B:\", B)"
   ]
  },
  {
   "cell_type": "code",
   "execution_count": 14,
   "metadata": {},
   "outputs": [
    {
     "name": "stdout",
     "output_type": "stream",
     "text": [
      "Is B in A? False\n"
     ]
    }
   ],
   "source": [
    "print(\"Is B in A?\", B in A)"
   ]
  },
  {
   "cell_type": "code",
   "execution_count": 15,
   "metadata": {},
   "outputs": [
    {
     "name": "stdout",
     "output_type": "stream",
     "text": [
      "A's ID: 140023584607560\n"
     ]
    }
   ],
   "source": [
    "print(\"A\\'s ID:\", id(A))"
   ]
  },
  {
   "cell_type": "code",
   "execution_count": 16,
   "metadata": {},
   "outputs": [
    {
     "name": "stdout",
     "output_type": "stream",
     "text": [
      "[1, 2, 3, 4, 5, [1, 3, 5]]\n"
     ]
    }
   ],
   "source": [
    "A[5] = [1,3,5] #we can add elements\n",
    "print(A)"
   ]
  },
  {
   "cell_type": "code",
   "execution_count": 17,
   "metadata": {},
   "outputs": [
    {
     "name": "stdout",
     "output_type": "stream",
     "text": [
      "A's ID: 140023584607560\n"
     ]
    }
   ],
   "source": [
    "print(\"A\\'s ID:\", id(A))"
   ]
  },
  {
   "cell_type": "code",
   "execution_count": 18,
   "metadata": {},
   "outputs": [
    {
     "name": "stdout",
     "output_type": "stream",
     "text": [
      "A has length: 6\n"
     ]
    }
   ],
   "source": [
    "print(\"A has length:\", len(A))"
   ]
  },
  {
   "cell_type": "code",
   "execution_count": 19,
   "metadata": {},
   "outputs": [
    {
     "name": "stdout",
     "output_type": "stream",
     "text": [
      "Is now B in A? True\n"
     ]
    }
   ],
   "source": [
    "print(\"Is now B in A?\", B in A)"
   ]
  },
  {
   "cell_type": "markdown",
   "metadata": {},
   "source": [
    "<div class=\"alert alert-warning\">\n",
    "\n",
    "**Note:** When slicing do not exceed the list boundaries (or you will be prompted a ```list index out of range``` error).\n",
    "\n",
    "</div>\n",
    "\n",
    "Consider the following example:"
   ]
  },
  {
   "cell_type": "code",
   "execution_count": 20,
   "metadata": {},
   "outputs": [
    {
     "name": "stdout",
     "output_type": "stream",
     "text": [
      "A has length: 6\n"
     ]
    }
   ],
   "source": [
    "A = [1, 2, 3, 4, 5, 6]\n",
    "print(\"A has length:\", len(A))"
   ]
  },
  {
   "cell_type": "code",
   "execution_count": 21,
   "metadata": {},
   "outputs": [
    {
     "name": "stdout",
     "output_type": "stream",
     "text": [
      "First element: 1\n"
     ]
    }
   ],
   "source": [
    "print(\"First element:\", A[0])"
   ]
  },
  {
   "cell_type": "markdown",
   "metadata": {},
   "source": [
    "```python\n",
    "print(\"7th-element: \", A[6])\n",
    "```"
   ]
  },
  {
   "cell_type": "markdown",
   "metadata": {},
   "source": [
    "```bash\n",
    "---------------------------------------------------------------------------\n",
    "IndexError                                Traceback (most recent call last)\n",
    "<ipython-input-67-98687c36d491> in <module>\n",
    "----> 1 print(\"7th-element: \", A[6])\n",
    "\n",
    "IndexError: list index out of range\n",
    "\n",
    "```"
   ]
  },
  {
   "cell_type": "markdown",
   "metadata": {},
   "source": [
    "**Example**:\n",
    "Consider the matrix $M = \\begin{bmatrix}1 & 2 & 3\\\\ 1 & 2 & 1\\\\ 1 & 1 & 3\\end{bmatrix}$ and the vector $v=[10, 5, 10]^T$. \n",
    "What is the matrix-vector product $M*v$? $$\\begin{bmatrix}1 & 2 & 3\\\\ 1 & 2 & 1\\\\ 1 & 1 & 3\\end{bmatrix}*[10,5,10]^T = [50, 30, 45]^T$$"
   ]
  },
  {
   "cell_type": "code",
   "execution_count": 22,
   "metadata": {},
   "outputs": [
    {
     "name": "stdout",
     "output_type": "stream",
     "text": [
      "M:  [[1, 2, 3], [1, 2, 1], [1, 1, 3]]\n"
     ]
    }
   ],
   "source": [
    "M = [[1, 2, 3], [1, 2, 1], [1, 1, 3]]\n",
    "v = [10, 5, 10]\n",
    "prod = [0, 0 ,0] #at the beginning the product is the null vector\n",
    "\n",
    "prod[0]=M[0][0]*v[0] + M[0][1]*v[1] + M[0][2]*v[2]\n",
    "prod[1]=M[1][0]*v[0] + M[1][1]*v[1] + M[1][2]*v[2]\n",
    "prod[2]=M[2][0]*v[0] + M[2][1]*v[1] + M[2][2]*v[2]\n",
    "\n",
    "print(\"M: \", M)"
   ]
  },
  {
   "cell_type": "code",
   "execution_count": 23,
   "metadata": {},
   "outputs": [
    {
     "name": "stdout",
     "output_type": "stream",
     "text": [
      "v:  [10, 5, 10]\n"
     ]
    }
   ],
   "source": [
    "print(\"v: \", v)"
   ]
  },
  {
   "cell_type": "code",
   "execution_count": 24,
   "metadata": {},
   "outputs": [
    {
     "name": "stdout",
     "output_type": "stream",
     "text": [
      "M*v:  [50, 30, 45]\n"
     ]
    }
   ],
   "source": [
    "print(\"M*v: \", prod)"
   ]
  },
  {
   "cell_type": "markdown",
   "metadata": {},
   "source": [
    "### Methods of the class list\n",
    "\n",
    "The class list has some methods to operate on it. Recall from the lecture the following methods:\n",
    "\n",
    "![](img/list_methods.png)\n",
    "\n",
    "<div class=\"alert alert-info\">\n",
    "\n",
    "**Note:** \n",
    "Lists are **mutable objects** and therefore virtually all the previous methods (except *count*) do not have an output value, but they **modify** the list.\n",
    "\n",
    "</div>\n",
    "Some usage examples follow:"
   ]
  },
  {
   "cell_type": "code",
   "execution_count": 25,
   "metadata": {},
   "outputs": [
    {
     "name": "stdout",
     "output_type": "stream",
     "text": [
      "[1, 2, 3]\n"
     ]
    }
   ],
   "source": [
    "#A numeric list\n",
    "A = [1, 2, 3]\n",
    "print(A)"
   ]
  },
  {
   "cell_type": "code",
   "execution_count": 26,
   "metadata": {},
   "outputs": [
    {
     "name": "stdout",
     "output_type": "stream",
     "text": [
      "A has id: 140023585018824\n"
     ]
    }
   ],
   "source": [
    "print(\"A has id:\", id(A)) "
   ]
  },
  {
   "cell_type": "code",
   "execution_count": 27,
   "metadata": {},
   "outputs": [],
   "source": [
    "A.append(72) # appends one and only one object.\n",
    "             # NOTE: does not return anything !!!!"
   ]
  },
  {
   "cell_type": "code",
   "execution_count": 28,
   "metadata": {},
   "outputs": [
    {
     "name": "stdout",
     "output_type": "stream",
     "text": [
      "[1, 2, 3, 72]\n"
     ]
    }
   ],
   "source": [
    "print(A)"
   ]
  },
  {
   "cell_type": "code",
   "execution_count": 29,
   "metadata": {},
   "outputs": [
    {
     "name": "stdout",
     "output_type": "stream",
     "text": [
      "A has id: 140023585018824\n"
     ]
    }
   ],
   "source": [
    "print(\"A has id:\", id(A)) "
   ]
  },
  {
   "cell_type": "code",
   "execution_count": 30,
   "metadata": {},
   "outputs": [],
   "source": [
    "A.extend([1, 5, 124, 99]) # adds all these objects, one after the other.\n",
    "                          # NOTE: does not return anything !!!"
   ]
  },
  {
   "cell_type": "code",
   "execution_count": 31,
   "metadata": {},
   "outputs": [
    {
     "name": "stdout",
     "output_type": "stream",
     "text": [
      "[1, 2, 3, 72, 1, 5, 124, 99]\n"
     ]
    }
   ],
   "source": [
    "print(A)"
   ]
  },
  {
   "cell_type": "code",
   "execution_count": 32,
   "metadata": {},
   "outputs": [
    {
     "name": "stdout",
     "output_type": "stream",
     "text": [
      "A has id: 140023585018824\n"
     ]
    }
   ],
   "source": [
    "print(\"A has id:\", id(A))  # same id as before"
   ]
  },
  {
   "cell_type": "code",
   "execution_count": 33,
   "metadata": {},
   "outputs": [
    {
     "name": "stdout",
     "output_type": "stream",
     "text": [
      "[1, 2, 3, 72, 1, 5, 124, 99, 9, 6, 4]\n"
     ]
    }
   ],
   "source": [
    "D = [9,6,4]\n",
    "\n",
    "A = A + D   # beware: + between lists generates an entirely *new* list !!!! \n",
    "print(A)"
   ]
  },
  {
   "cell_type": "code",
   "execution_count": 34,
   "metadata": {},
   "outputs": [
    {
     "name": "stdout",
     "output_type": "stream",
     "text": [
      "A has now id: 140023357072648\n"
     ]
    }
   ],
   "source": [
    "print(\"A has now id:\", id(A))  # id is different from before !!!"
   ]
  },
  {
   "cell_type": "code",
   "execution_count": 35,
   "metadata": {},
   "outputs": [],
   "source": [
    "A.reverse()  # Does not return anything !!!"
   ]
  },
  {
   "cell_type": "code",
   "execution_count": 36,
   "metadata": {},
   "outputs": [
    {
     "name": "stdout",
     "output_type": "stream",
     "text": [
      "[4, 6, 9, 99, 124, 5, 1, 72, 3, 2, 1]\n"
     ]
    }
   ],
   "source": [
    "print(A)"
   ]
  },
  {
   "cell_type": "code",
   "execution_count": 37,
   "metadata": {},
   "outputs": [
    {
     "name": "stdout",
     "output_type": "stream",
     "text": [
      "[1, 1, 2, 3, 4, 5, 6, 9, 72, 99, 124]\n"
     ]
    }
   ],
   "source": [
    "A.sort()\n",
    "print(A)"
   ]
  },
  {
   "cell_type": "code",
   "execution_count": 38,
   "metadata": {},
   "outputs": [
    {
     "name": "stdout",
     "output_type": "stream",
     "text": [
      "Min value:  1\n"
     ]
    }
   ],
   "source": [
    "print(\"Min value: \", A[0]) # In this simple case, could have used min(A)"
   ]
  },
  {
   "cell_type": "code",
   "execution_count": 39,
   "metadata": {},
   "outputs": [
    {
     "name": "stdout",
     "output_type": "stream",
     "text": [
      "Max value:  124\n"
     ]
    }
   ],
   "source": [
    "print(\"Max value: \", A[-1]) #In this simple case, could have used max(A)"
   ]
  },
  {
   "cell_type": "code",
   "execution_count": 40,
   "metadata": {},
   "outputs": [
    {
     "name": "stdout",
     "output_type": "stream",
     "text": [
      "Number 1 appears: 2  times\n"
     ]
    }
   ],
   "source": [
    "print(\"Number 1 appears:\", A.count(1), \" times\")"
   ]
  },
  {
   "cell_type": "code",
   "execution_count": 41,
   "metadata": {},
   "outputs": [
    {
     "name": "stdout",
     "output_type": "stream",
     "text": [
      "While number 837:  0\n"
     ]
    }
   ],
   "source": [
    "print(\"While number 837: \", A.count(837))"
   ]
  },
  {
   "cell_type": "markdown",
   "metadata": {},
   "source": [
    "### Exercise: growing list 1\n",
    "\n",
    "Given a list `la` of _fixed size 7_, write some code to grow an empty list `lb` so that it contains _only_ the elements from `la` at even indeces (0, 2, 4, ...). \n",
    "\n",
    "- Your code should work for any list `la` of fixed size 7.\n",
    "\n",
    "```\n",
    "#   0 1 2 3 4 5 6  indeces\n",
    "la=[8,4,3,5,7,3,5]\n",
    "lb=[]\n",
    "```\n",
    "\n",
    "After your code, you should get:\n",
    "\n",
    "```\n",
    ">>> print(lb)\n",
    "[8,3,7,5]\n",
    "```\n"
   ]
  },
  {
   "cell_type": "code",
   "execution_count": 42,
   "metadata": {},
   "outputs": [
    {
     "name": "stdout",
     "output_type": "stream",
     "text": [
      "[8, 3, 7, 5]\n"
     ]
    }
   ],
   "source": [
    "\n",
    "#   0 1 2 3 4 5 6  indeces\n",
    "la=[8,4,3,5,7,3,5]\n",
    "lb=[]\n",
    "\n",
    "# write here\n",
    "lb.append(la[0])\n",
    "lb.append(la[2])\n",
    "lb.append(la[4])\n",
    "lb.append(la[6])\n",
    "print(lb)"
   ]
  },
  {
   "cell_type": "markdown",
   "metadata": {},
   "source": [
    "### Exercise: growing list 2"
   ]
  },
  {
   "cell_type": "markdown",
   "metadata": {},
   "source": [
    "\n",
    "Given two *lists* `la` and `lb`, write some code that MODIFIES `la` such that `la` contains at the end also all elements of `lb`. \n",
    "\n",
    "- **NOTE 1**: your code should work with any `la` and `lb`\n",
    "- **NOTE 2**: If you try to print `id(la)` _before_ modifying `la` and `id(la)` afterwords, you should get _exactly_ the same id. If you get a different one, it means you generated an entirely new list. In any case, check how it works in python tutor. \n",
    "\n",
    "```python\n",
    "la = [5,9,2,4]\n",
    "lb = [9,1,2]\n",
    "```\n",
    "\n",
    "You should obtain:\n",
    "\n",
    "```bash\n",
    ">>> print(la)\n",
    "[5,9,2,4,9,1,2]\n",
    ">>> print(lb)\n",
    "[9,1,2]\n",
    "```"
   ]
  },
  {
   "cell_type": "code",
   "execution_count": 43,
   "metadata": {},
   "outputs": [
    {
     "name": "stdout",
     "output_type": "stream",
     "text": [
      "[5, 9, 2, 4, 9, 1, 2]\n",
      "[9, 1, 2]\n"
     ]
    }
   ],
   "source": [
    "\n",
    "la = [5,9,2,4]\n",
    "lb = [9,1,2]\n",
    "\n",
    "# write here\n",
    "la.extend(lb)\n",
    "print(la)\n",
    "print(lb)\n"
   ]
  },
  {
   "cell_type": "markdown",
   "metadata": {},
   "source": [
    "### List of strings\n",
    "\n",
    "Let's now try a list with strings, we will try to obtain a a reverse lexicographic order:"
   ]
  },
  {
   "cell_type": "code",
   "execution_count": 44,
   "metadata": {},
   "outputs": [
    {
     "name": "stdout",
     "output_type": "stream",
     "text": [
      "['apple', 'banana', 'pineapple', 'cherry', 'pear', 'almond', 'orange']\n"
     ]
    }
   ],
   "source": [
    "#A string list\n",
    "fruits = [\"apple\", \"banana\", \"pineapple\", \"cherry\",\"pear\", \"almond\", \"orange\"]\n",
    "\n",
    "print(fruits)"
   ]
  },
  {
   "cell_type": "code",
   "execution_count": 45,
   "metadata": {},
   "outputs": [],
   "source": [
    "fruits.sort()  # does not return anything. Modifies list!"
   ]
  },
  {
   "cell_type": "code",
   "execution_count": 46,
   "metadata": {},
   "outputs": [
    {
     "name": "stdout",
     "output_type": "stream",
     "text": [
      "['almond', 'apple', 'banana', 'cherry', 'orange', 'pear', 'pineapple']\n"
     ]
    }
   ],
   "source": [
    "print(fruits)"
   ]
  },
  {
   "cell_type": "code",
   "execution_count": 47,
   "metadata": {},
   "outputs": [
    {
     "name": "stdout",
     "output_type": "stream",
     "text": [
      "['pineapple', 'pear', 'orange', 'cherry', 'banana', 'apple', 'almond']\n"
     ]
    }
   ],
   "source": [
    "fruits.reverse()\n",
    "print(fruits)"
   ]
  },
  {
   "cell_type": "code",
   "execution_count": 48,
   "metadata": {},
   "outputs": [],
   "source": [
    "fruits.remove(\"banana\")   # NOTE: does not return anything !!!"
   ]
  },
  {
   "cell_type": "code",
   "execution_count": 49,
   "metadata": {},
   "outputs": [
    {
     "name": "stdout",
     "output_type": "stream",
     "text": [
      "['pineapple', 'pear', 'orange', 'cherry', 'apple', 'almond']\n"
     ]
    }
   ],
   "source": [
    "print(fruits)"
   ]
  },
  {
   "cell_type": "code",
   "execution_count": 50,
   "metadata": {},
   "outputs": [],
   "source": [
    "fruits.insert(5, \"wild apple\") # put wild apple after apple.\n",
    "                               # NOTE: does not return anything !!!"
   ]
  },
  {
   "cell_type": "code",
   "execution_count": 51,
   "metadata": {},
   "outputs": [
    {
     "name": "stdout",
     "output_type": "stream",
     "text": [
      "['pineapple', 'pear', 'orange', 'cherry', 'apple', 'wild apple', 'almond']\n"
     ]
    }
   ],
   "source": [
    "print(fruits)"
   ]
  },
  {
   "cell_type": "markdown",
   "metadata": {},
   "source": [
    "Let's finally obtain the sorted fruits: "
   ]
  },
  {
   "cell_type": "code",
   "execution_count": 52,
   "metadata": {},
   "outputs": [],
   "source": [
    "fruits.sort() # does not return anything. Modifies list!"
   ]
  },
  {
   "cell_type": "code",
   "execution_count": 53,
   "metadata": {},
   "outputs": [
    {
     "name": "stdout",
     "output_type": "stream",
     "text": [
      "['almond', 'apple', 'cherry', 'orange', 'pear', 'pineapple', 'wild apple']\n"
     ]
    }
   ],
   "source": [
    "print(fruits)"
   ]
  },
  {
   "cell_type": "markdown",
   "metadata": {},
   "source": [
    "<div class=\"alert alert-warning\">\n",
    "**Some things to remember** \n",
    "\n",
    "1. append and extend work quite differently:\n",
    "</div>"
   ]
  },
  {
   "cell_type": "code",
   "execution_count": 54,
   "metadata": {},
   "outputs": [],
   "source": [
    "A = [1, 2, 3]\n",
    "\n",
    "A.extend([4, 5])"
   ]
  },
  {
   "cell_type": "code",
   "execution_count": 55,
   "metadata": {},
   "outputs": [
    {
     "name": "stdout",
     "output_type": "stream",
     "text": [
      "[1, 2, 3, 4, 5]\n"
     ]
    }
   ],
   "source": [
    "print(A)"
   ]
  },
  {
   "cell_type": "code",
   "execution_count": 56,
   "metadata": {},
   "outputs": [],
   "source": [
    "B = [1, 2, 3]\n",
    "B.append([4,5])   # NOTE: append does not return anything !  "
   ]
  },
  {
   "cell_type": "code",
   "execution_count": 57,
   "metadata": {},
   "outputs": [
    {
     "name": "stdout",
     "output_type": "stream",
     "text": [
      "[1, 2, 3, [4, 5]]\n"
     ]
    }
   ],
   "source": [
    "print(B)"
   ]
  },
  {
   "cell_type": "markdown",
   "metadata": {},
   "source": [
    "2. To remove an object it must exist:"
   ]
  },
  {
   "cell_type": "code",
   "execution_count": 58,
   "metadata": {},
   "outputs": [
    {
     "name": "stdout",
     "output_type": "stream",
     "text": [
      "[1, 2, 3, [[4], [5, 6]], 8]\n"
     ]
    }
   ],
   "source": [
    "A = [1,2,3, [[4],[5,6]], 8]\n",
    "print(A)"
   ]
  },
  {
   "cell_type": "code",
   "execution_count": 59,
   "metadata": {},
   "outputs": [],
   "source": [
    "A.remove(2)   # NOTE: remove does not return anything !!"
   ]
  },
  {
   "cell_type": "code",
   "execution_count": 60,
   "metadata": {},
   "outputs": [
    {
     "name": "stdout",
     "output_type": "stream",
     "text": [
      "[1, 3, [[4], [5, 6]], 8]\n"
     ]
    }
   ],
   "source": [
    "print(A)"
   ]
  },
  {
   "cell_type": "code",
   "execution_count": 61,
   "metadata": {},
   "outputs": [],
   "source": [
    "A.remove([[4],[5,6]])   # NOTE: remove does not return anything !!\n"
   ]
  },
  {
   "cell_type": "code",
   "execution_count": 62,
   "metadata": {},
   "outputs": [
    {
     "name": "stdout",
     "output_type": "stream",
     "text": [
      "[1, 3, 8]\n"
     ]
    }
   ],
   "source": [
    "print(A)\n"
   ]
  },
  {
   "cell_type": "markdown",
   "metadata": {},
   "source": [
    "```python\n",
    "A.remove(7)    # 7 is not present in list, python will complain during execution\n",
    "               # NOTE: remove does not return anything !!\n",
    "```"
   ]
  },
  {
   "cell_type": "markdown",
   "metadata": {},
   "source": [
    "```python\n",
    "A.remove(7)    # 7 is not present in list, python will complain during execution\n",
    "               # NOTE: remove does not return anything !!\n",
    "```"
   ]
  },
  {
   "cell_type": "markdown",
   "metadata": {},
   "source": [
    "```bash\n",
    "---------------------------------------------------------------------------\n",
    "ValueError                                Traceback (most recent call last)\n",
    "<ipython-input-61-6cfd75f76650> in <module>\n",
    "----> 1 A.remove(7)    # 7 is not present in list, python will complain during execution\n",
    "      2                # NOTE: remove does not return anything !!\n",
    "\n",
    "ValueError: list.remove(x): x not in list\n",
    "\n",
    "\n",
    "```"
   ]
  },
  {
   "cell_type": "markdown",
   "metadata": {},
   "source": [
    "3. To sort a list, its elements must be sortable (i.e. homogeneous)!"
   ]
  },
  {
   "cell_type": "code",
   "execution_count": 63,
   "metadata": {},
   "outputs": [
    {
     "name": "stdout",
     "output_type": "stream",
     "text": [
      "[4, 3, 1, 7, 2]\n"
     ]
    }
   ],
   "source": [
    "A = [4,3, 1,7, 2]\n",
    "print(A)\n"
   ]
  },
  {
   "cell_type": "code",
   "execution_count": 64,
   "metadata": {},
   "outputs": [],
   "source": [
    "A.sort()    # NOTE: sort does not return anything !!\n"
   ]
  },
  {
   "cell_type": "code",
   "execution_count": 65,
   "metadata": {},
   "outputs": [
    {
     "name": "stdout",
     "output_type": "stream",
     "text": [
      "[1, 2, 3, 4, 7]\n"
     ]
    }
   ],
   "source": [
    "print(A)\n"
   ]
  },
  {
   "cell_type": "code",
   "execution_count": 66,
   "metadata": {},
   "outputs": [],
   "source": [
    "A.append(\"banana\")   # NOTE: append does not return anything !!\n"
   ]
  },
  {
   "cell_type": "code",
   "execution_count": 67,
   "metadata": {},
   "outputs": [
    {
     "name": "stdout",
     "output_type": "stream",
     "text": [
      "[1, 2, 3, 4, 7, 'banana']\n"
     ]
    }
   ],
   "source": [
    "print(A)\n"
   ]
  },
  {
   "cell_type": "markdown",
   "metadata": {},
   "source": [
    "```python\n",
    "A.sort()   # Python will complain, list contains uncomparable elements \n",
    "           # like ints and strings\n",
    "           # NOTE: sort does not return anything !!\n",
    "```"
   ]
  },
  {
   "cell_type": "markdown",
   "metadata": {},
   "source": [
    "```bash\n",
    "---------------------------------------------------------------------------\n",
    "TypeError                                 Traceback (most recent call last)\n",
    "<ipython-input-75-acf26fcfe0bf> in <module>\n",
    "----> 1 A.sort()   # Python will complain, list contains uncomparable elements like ints and strings\n",
    "      2            # NOTE: sort does not return anything !!\n",
    "\n",
    "TypeError: '<' not supported between instances of 'str' and 'int'\n",
    "\n",
    "```"
   ]
  },
  {
   "cell_type": "markdown",
   "metadata": {},
   "source": [
    "### Lists hold references\n",
    "\n",
    "<div class=\"alert alert-info\">\n",
    "\n",
    "**Important to remember:** \n",
    "\n",
    "Lists are **mutable objects** and this has some consequences!\n",
    "Since lists are mutable objects, they hold references to objects rather than objects.\n",
    "\n",
    "Take a look at the following examples:"
   ]
  },
  {
   "cell_type": "code",
   "execution_count": 68,
   "metadata": {},
   "outputs": [
    {
     "name": "stdout",
     "output_type": "stream",
     "text": [
      "l1: [1, 2]\n"
     ]
    }
   ],
   "source": [
    "l1 = [1, 2]\n",
    "print(\"l1:\", l1)"
   ]
  },
  {
   "cell_type": "code",
   "execution_count": 69,
   "metadata": {},
   "outputs": [
    {
     "name": "stdout",
     "output_type": "stream",
     "text": [
      "l2: [4, 3]\n"
     ]
    }
   ],
   "source": [
    "l2 = [4, 3]\n",
    "print(\"l2:\",l2)"
   ]
  },
  {
   "cell_type": "code",
   "execution_count": 70,
   "metadata": {},
   "outputs": [
    {
     "name": "stdout",
     "output_type": "stream",
     "text": [
      "LL: [[1, 2], [4, 3]]\n"
     ]
    }
   ],
   "source": [
    "LL = [l1, l2]\n",
    "print(\"LL:\", LL)"
   ]
  },
  {
   "cell_type": "code",
   "execution_count": 71,
   "metadata": {},
   "outputs": [
    {
     "name": "stdout",
     "output_type": "stream",
     "text": [
      "\n",
      "Appending 7 to l1...\n",
      "l1: [1, 2, 7]\n",
      "LL now:  [[1, 2, 7], [4, 3]]\n"
     ]
    }
   ],
   "source": [
    "l1.append(7)    # NOTE: does not return anything !!\n",
    "print(\"\\nAppending 7 to l1...\")\n",
    "print(\"l1:\", l1)\n",
    "print(\"LL now: \", LL)"
   ]
  },
  {
   "cell_type": "code",
   "execution_count": 72,
   "metadata": {},
   "outputs": [
    {
     "name": "stdout",
     "output_type": "stream",
     "text": [
      "\n",
      "Setting LL[0][1]=-1...\n",
      "LL now: [[1, -1, 7], [4, 3]]\n",
      "l1 now [1, -1, 7]\n"
     ]
    }
   ],
   "source": [
    "LL[0][1] = -1\n",
    "print(\"\\nSetting LL[0][1]=-1...\")\n",
    "print(\"LL now:\" , LL)\n",
    "print(\"l1 now\", l1)"
   ]
  },
  {
   "cell_type": "code",
   "execution_count": 73,
   "metadata": {},
   "outputs": [
    {
     "name": "stdout",
     "output_type": "stream",
     "text": [
      "\n",
      "Setting LL[0] = 100\n",
      "LL now: [100, [4, 3]]\n",
      "l1 now [1, -1, 7]\n"
     ]
    }
   ],
   "source": [
    "# but the list can point also to a different object, \n",
    "# without affecting the original list.\n",
    "LL[0] = 100\n",
    "print(\"\\nSetting LL[0] = 100\")\n",
    "print(\"LL now:\", LL)\n",
    "print(\"l1 now\", l1)"
   ]
  },
  {
   "cell_type": "markdown",
   "metadata": {},
   "source": [
    "\n",
    "\n",
    "### Making copies\n"
   ]
  },
  {
   "cell_type": "code",
   "execution_count": 74,
   "metadata": {},
   "outputs": [
    {
     "name": "stdout",
     "output_type": "stream",
     "text": [
      "A: ['hi', 'there']\n"
     ]
    }
   ],
   "source": [
    "A = [\"hi\", \"there\"]\n",
    "print(\"A:\", A)"
   ]
  },
  {
   "cell_type": "code",
   "execution_count": 75,
   "metadata": {},
   "outputs": [
    {
     "name": "stdout",
     "output_type": "stream",
     "text": [
      "B: ['hi', 'there']\n"
     ]
    }
   ],
   "source": [
    "B = A \n",
    "print(\"B:\", B)"
   ]
  },
  {
   "cell_type": "code",
   "execution_count": 76,
   "metadata": {},
   "outputs": [],
   "source": [
    "A.extend([\"from\", \"python\"])  # NOTE: extend does not return anything !"
   ]
  },
  {
   "cell_type": "code",
   "execution_count": 77,
   "metadata": {},
   "outputs": [
    {
     "name": "stdout",
     "output_type": "stream",
     "text": [
      "A now:  ['hi', 'there', 'from', 'python']\n",
      "B now:  ['hi', 'there', 'from', 'python']\n"
     ]
    }
   ],
   "source": [
    "print(\"A now: \", A)\n",
    "print(\"B now: \", B)"
   ]
  },
  {
   "cell_type": "markdown",
   "metadata": {},
   "source": [
    "**Copy example**\n",
    "\n",
    "Let's make a distinct copy of `A`"
   ]
  },
  {
   "cell_type": "code",
   "execution_count": 78,
   "metadata": {},
   "outputs": [
    {
     "name": "stdout",
     "output_type": "stream",
     "text": [
      "C: ['hi', 'there', 'from', 'python']\n"
     ]
    }
   ],
   "source": [
    "C = A[:] # all the elements of A have been copied in C\n",
    "print(\"C:\", C)"
   ]
  },
  {
   "cell_type": "code",
   "execution_count": 79,
   "metadata": {},
   "outputs": [
    {
     "name": "stdout",
     "output_type": "stream",
     "text": [
      "A now: ['hi', 'there', 'from', 'java']\n",
      "C now: ['hi', 'there', 'from', 'python']\n"
     ]
    }
   ],
   "source": [
    "A[3] = \"java\"\n",
    "print(\"A now:\", A)\n",
    "print(\"C now:\", C)"
   ]
  },
  {
   "cell_type": "markdown",
   "metadata": {},
   "source": [
    "Be careful though:"
   ]
  },
  {
   "cell_type": "code",
   "execution_count": 80,
   "metadata": {},
   "outputs": [
    {
     "name": "stdout",
     "output_type": "stream",
     "text": [
      "D: [['hi', 'there', 'from', 'java'], ['hi', 'there', 'from', 'java']]\n"
     ]
    }
   ],
   "source": [
    "D = [A, A]\n",
    "print(\"D:\", D)"
   ]
  },
  {
   "cell_type": "code",
   "execution_count": 81,
   "metadata": {},
   "outputs": [
    {
     "name": "stdout",
     "output_type": "stream",
     "text": [
      "E: [['hi', 'there', 'from', 'java'], ['hi', 'there', 'from', 'java']]\n"
     ]
    }
   ],
   "source": [
    "E = D[:]\n",
    "print(\"E:\", E)"
   ]
  },
  {
   "cell_type": "code",
   "execution_count": 82,
   "metadata": {},
   "outputs": [
    {
     "name": "stdout",
     "output_type": "stream",
     "text": [
      "\n",
      "D now: [['hello', 'there', 'from', 'java'], ['hello', 'there', 'from', 'java']]\n",
      "E now: [['hello', 'there', 'from', 'java'], ['hello', 'there', 'from', 'java']]\n",
      "A now: ['hello', 'there', 'from', 'java']\n"
     ]
    }
   ],
   "source": [
    "D[0][0] = \"hello\"\n",
    "print(\"\\nD now:\", D)\n",
    "print(\"E now:\", E)\n",
    "print(\"A now:\", A)"
   ]
  },
  {
   "cell_type": "markdown",
   "metadata": {},
   "source": [
    "### Equality and identity"
   ]
  },
  {
   "cell_type": "code",
   "execution_count": 83,
   "metadata": {},
   "outputs": [],
   "source": [
    "A = [1, 2, 3]\n",
    "B = A\n",
    "C = [1, 2, 3]"
   ]
  },
  {
   "cell_type": "code",
   "execution_count": 84,
   "metadata": {},
   "outputs": [
    {
     "name": "stdout",
     "output_type": "stream",
     "text": [
      "Is A equal to B? True\n"
     ]
    }
   ],
   "source": [
    "print(\"Is A equal to B?\", A == B)"
   ]
  },
  {
   "cell_type": "code",
   "execution_count": 85,
   "metadata": {},
   "outputs": [
    {
     "name": "stdout",
     "output_type": "stream",
     "text": [
      "Is A actually B? True\n"
     ]
    }
   ],
   "source": [
    "print(\"Is A actually B?\", A is B)"
   ]
  },
  {
   "cell_type": "code",
   "execution_count": 86,
   "metadata": {},
   "outputs": [
    {
     "name": "stdout",
     "output_type": "stream",
     "text": [
      "Is A equal to C? True\n"
     ]
    }
   ],
   "source": [
    "print(\"Is A equal to C?\", A == C)"
   ]
  },
  {
   "cell_type": "code",
   "execution_count": 87,
   "metadata": {},
   "outputs": [
    {
     "name": "stdout",
     "output_type": "stream",
     "text": [
      "Is A actually C? False\n"
     ]
    }
   ],
   "source": [
    "print(\"Is A actually C?\", A is C)"
   ]
  },
  {
   "cell_type": "markdown",
   "metadata": {},
   "source": [
    "In fact:"
   ]
  },
  {
   "cell_type": "code",
   "execution_count": 88,
   "metadata": {},
   "outputs": [
    {
     "name": "stdout",
     "output_type": "stream",
     "text": [
      "\n",
      "A's id: 140023366009672\n",
      "B's id: 140023366009672\n",
      "C's id: 140023357471112\n"
     ]
    }
   ],
   "source": [
    "print(\"\\nA's id:\", id(A))\n",
    "print(\"B's id:\", id(B))\n",
    "print(\"C's id:\", id(C))"
   ]
  },
  {
   "cell_type": "code",
   "execution_count": 89,
   "metadata": {},
   "outputs": [],
   "source": [
    "#just to confirm that:\n",
    "A.append(4)    # NOTE: append does not return anything !"
   ]
  },
  {
   "cell_type": "code",
   "execution_count": 90,
   "metadata": {},
   "outputs": [],
   "source": [
    "B.append(5)    # NOTE: append does not return anything !"
   ]
  },
  {
   "cell_type": "code",
   "execution_count": 91,
   "metadata": {},
   "outputs": [
    {
     "name": "stdout",
     "output_type": "stream",
     "text": [
      "\n",
      "A now:  [1, 2, 3, 4, 5]\n",
      "B now:  [1, 2, 3, 4, 5]\n"
     ]
    }
   ],
   "source": [
    "print(\"\\nA now: \", A)\n",
    "print(\"B now: \", A)"
   ]
  },
  {
   "cell_type": "markdown",
   "metadata": {},
   "source": [
    "\n",
    "</div>\n",
    "\n",
    "### From strings to lists, the ```split``` method\n",
    "\n",
    "Strings have a method *split* that can literally split the string at specific characters. \n",
    "\n",
    "**Example** \n",
    "Suppose we have a protein encoded as a multiline-string. How can we split it into several lines?"
   ]
  },
  {
   "cell_type": "code",
   "execution_count": 92,
   "metadata": {},
   "outputs": [
    {
     "name": "stdout",
     "output_type": "stream",
     "text": [
      "Original sequence:\n",
      "SSSVPSQKTYQGSYGFRLGFLHSGTAKSVTCTYSPALNKM\n",
      "FCQLAKTCPVQLWVDSTPPPGTRVRAMAIYKQSQHMTEVV\n",
      "RRCPHHERCSDSDGLAPPQHLIRVEGNLRVEYLDDRNTFR\n",
      "HSVVVPYEPPEVGSDCTTIHYNYMCNSSCMGGMNRRPILT\n",
      "IITLEDSSGNLLGRNSFEVRVCACPGRDRRTEEENLRKKG\n",
      "EPHHELPPGSTKRALPNNT \n",
      "\n",
      "line by line:\n",
      "1st line: SSSVPSQKTYQGSYGFRLGFLHSGTAKSVTCTYSPALNKM\n",
      "2nd line: FCQLAKTCPVQLWVDSTPPPGTRVRAMAIYKQSQHMTEVV\n",
      "3rd line: RRCPHHERCSDSDGLAPPQHLIRVEGNLRVEYLDDRNTFR\n",
      "4th line: HSVVVPYEPPEVGSDCTTIHYNYMCNSSCMGGMNRRPILT\n",
      "5th line: IITLEDSSGNLLGRNSFEVRVCACPGRDRRTEEENLRKKG\n",
      "6th line: EPHHELPPGSTKRALPNNT\n",
      "\n",
      "Split the 1st line in correspondence to FRL:\n",
      " ['SSSVPSQKTYQGSYG', 'GFLHSGTAKSVTCTYSPALNKM']\n"
     ]
    }
   ],
   "source": [
    "chain_a = \"\"\"SSSVPSQKTYQGSYGFRLGFLHSGTAKSVTCTYSPALNKM\n",
    "FCQLAKTCPVQLWVDSTPPPGTRVRAMAIYKQSQHMTEVV\n",
    "RRCPHHERCSDSDGLAPPQHLIRVEGNLRVEYLDDRNTFR\n",
    "HSVVVPYEPPEVGSDCTTIHYNYMCNSSCMGGMNRRPILT\n",
    "IITLEDSSGNLLGRNSFEVRVCACPGRDRRTEEENLRKKG\n",
    "EPHHELPPGSTKRALPNNT\"\"\"\n",
    "\n",
    "lines = chain_a.split('\\n')\n",
    "print(\"Original sequence:\")\n",
    "print( chain_a, \"\\n\") #some spacing to keep things clear\n",
    "print(\"line by line:\")\n",
    "print(\"1st line:\" ,lines[0])\n",
    "print(\"2nd line:\" ,lines[1])\n",
    "print(\"3rd line:\" ,lines[2])\n",
    "print(\"4th line:\" ,lines[3])\n",
    "print(\"5th line:\" ,lines[4])\n",
    "print(\"6th line:\" ,lines[5])\n",
    "\n",
    "print(\"\\nSplit the 1st line in correspondence to FRL:\\n\",lines[0].split(\"FRL\"))"
   ]
  },
  {
   "cell_type": "markdown",
   "metadata": {},
   "source": [
    "**Note that in the last instruction, the substring FRL is disappeared (as happened to the newline)**. \n",
    "\n",
    "### And back to strings with the ```join``` method\n",
    "\n",
    "Given a list, one can join the elements of the list together into a string by using the ```join``` method of the class string. The syntax is the following: *str.join(list)* which joins together all the elements in the list in a string separating them with the string *str*. \n",
    "\n",
    "**Example** \n",
    "Given the list `['Oct', '5', '2018', '15:30']`, let's combine all its elements in a string joining the elements with a dash (\"-\") and print them. Let's finally join them with a tab (`\"\\t\"`) and print them. "
   ]
  },
  {
   "cell_type": "code",
   "execution_count": 93,
   "metadata": {},
   "outputs": [
    {
     "name": "stdout",
     "output_type": "stream",
     "text": [
      "['Oct', '5th', '2018', '15:30']\n",
      "\n",
      "Oct-5th-2018-15:30\n",
      "\n",
      "Oct\t5th\t2018\t15:30\n"
     ]
    }
   ],
   "source": [
    "vals = ['Oct', '5th', '2018', '15:30']\n",
    "print(vals)\n",
    "myStr = \"-\".join(vals)\n",
    "print(\"\\n\" + myStr)\n",
    "myStr = \"\\t\".join(vals)\n",
    "print(\"\\n\" + myStr)"
   ]
  },
  {
   "cell_type": "markdown",
   "metadata": {},
   "source": [
    "### Exercise: manylines\n",
    "    \n",
    "Given the following text string:\n",
    "\n",
    "```python\n",
    "\"\"\"this is a text\n",
    "string on\n",
    "several lines that does not say anything.\"\"\"\n",
    "```\n",
    "\n",
    "1. print it\n",
    "2. print how many lines, words and characters it contains. \n",
    "3. sort the words alphabetically and print the first and the last in lexicographic order.\n",
    "\n",
    "You should obtain:\n",
    "\n",
    "```bash\n",
    "this is a text\n",
    "string on\n",
    "several lines that does not say anything.\n",
    "\n",
    "Lines: 3 words: 13 chars: 66\n",
    "\n",
    "['t', 'h', 'i', 's', ' ', 'i', 's', ' ', 'a', ' ', 't', 'e', 'x', 't', '\\n', 's', 't', 'r', 'i', 'n', 'g', ' ', 'o', 'n', '\\n', 's', 'e', 'v', 'e', 'r', 'a', 'l', ' ', 'l', 'i', 'n', 'e', 's', ' ', 't', 'h', 'a', 't', ' ', 'd', 'o', 'e', 's', ' ', 'n', 'o', 't', ' ', 's', 'a', 'y', ' ', 'a', 'n', 'y', 't', 'h', 'i', 'n', 'g', '.']\n",
    "66\n",
    "\n",
    "First word:  a\n",
    "Last word: this\n",
    "['a', 'anything.', 'does', 'is', 'lines', 'not', 'on', 'say', 'several', 'string', 'text', 'that', 'this']\n",
    "```"
   ]
  },
  {
   "cell_type": "code",
   "execution_count": 94,
   "metadata": {},
   "outputs": [
    {
     "name": "stdout",
     "output_type": "stream",
     "text": [
      "this is a text\n",
      "string on\n",
      "several lines that does not say anything.\n",
      "\n",
      "Lines: 3 words: 13 chars: 66\n",
      "\n",
      "['t', 'h', 'i', 's', ' ', 'i', 's', ' ', 'a', ' ', 't', 'e', 'x', 't', '\\n', 's', 't', 'r', 'i', 'n', 'g', ' ', 'o', 'n', '\\n', 's', 'e', 'v', 'e', 'r', 'a', 'l', ' ', 'l', 'i', 'n', 'e', 's', ' ', 't', 'h', 'a', 't', ' ', 'd', 'o', 'e', 's', ' ', 'n', 'o', 't', ' ', 's', 'a', 'y', ' ', 'a', 'n', 'y', 't', 'h', 'i', 'n', 'g', '.']\n",
      "66\n",
      "\n",
      "First word:  a\n",
      "Last word: this\n",
      "['a', 'anything.', 'does', 'is', 'lines', 'not', 'on', 'say', 'several', 'string', 'text', 'that', 'this']\n"
     ]
    }
   ],
   "source": [
    "s = \"\"\"this is a text\n",
    "string on\n",
    "several lines that does not say anything.\"\"\"\n",
    "\n",
    "# write here\n",
    "\n",
    "# 1) print it\n",
    "print(s)\n",
    "print(\"\")\n",
    "\n",
    "# 2) print the lines, words and characters\n",
    "lines = s.split('\\n')\n",
    "\n",
    "# NOTE: words are split by a space or a newline!\n",
    "\n",
    "words = lines[0].split(' ') + lines[1].split(' ') + lines[2].split(' ')\n",
    "num_chars = len(s)\n",
    "print(\"Lines:\", len(lines), \"words:\", len(words), \"chars:\", num_chars)\n",
    "\n",
    "# alternative way for number of characters:\n",
    "print(\"\")\n",
    "characters = list(s)\n",
    "num_chars2 = len(characters)\n",
    "print(characters)\n",
    "print(num_chars2)\n",
    "\n",
    "# 3. sort the words alphabetically and print the first and the last in lexicographic order.\n",
    "words.sort() # NOTE: it does not return ANYTHING!!!\n",
    "print(\"\")\n",
    "print(\"First word: \", words[0])\n",
    "print(\"Last word:\", words[-1])\n",
    "print(words)"
   ]
  },
  {
   "cell_type": "markdown",
   "metadata": {},
   "source": [
    "### Exercise: welldone \n",
    "\n",
    "Given the list \n",
    "\n",
    "```python\n",
    "L = [\"walnut\", \"eggplant\", \"lemon\", \"lime\", \"date\", \"onion\", \"nectarine\", \"endive\" ]: \n",
    "```\n",
    "\n",
    "1. Create another list (called `newList`) containing the first letter of each element of `L` \n",
    "(e.g `newList =[\"w\", \"e\", ...]`). \n",
    "2. Add a space to newList at position 4 and append an exclamation mark (`!`) at the end. \n",
    "3. Print the list.\n",
    "4. Print the content of the list joining all the elements with an empty space \n",
    "(i.e. use the method `join`: `\"\".join(newList)` )\n",
    "\n",
    "You should obtain: \n",
    "\n",
    "\n",
    "```bash\n",
    "['w', 'e', 'l', 'l', ' ', 'd', 'o', 'n', 'e', '!']\n",
    "\n",
    " well done!\n",
    "```\n"
   ]
  },
  {
   "cell_type": "code",
   "execution_count": 95,
   "metadata": {},
   "outputs": [
    {
     "name": "stdout",
     "output_type": "stream",
     "text": [
      "['w', 'e', 'l', 'l', ' ', 'd', 'o', 'n', 'e', '!']\n",
      "\n",
      " well done!\n"
     ]
    }
   ],
   "source": [
    "L = [\"walnut\", \"eggplant\", \"lemon\", \"lime\", \"date\", \"onion\", \"nectarine\", \"endive\" ]\n",
    "\n",
    "# write here\n",
    "\n",
    "newList = []\n",
    "newList.append(L[0][0])\n",
    "newList.append(L[1][0])\n",
    "newList.append(L[2][0])\n",
    "newList.append(L[3][0])\n",
    "newList.append(L[4][0])\n",
    "newList.append(L[5][0])\n",
    "newList.append(L[6][0])\n",
    "newList.append(L[7][0])\n",
    "\n",
    "newList.insert(4,\" \")\n",
    "newList.append(\"!\")\n",
    "\n",
    "print(newList)\n",
    "print(\"\\n\", \"\".join(newList))"
   ]
  },
  {
   "cell_type": "markdown",
   "metadata": {},
   "source": [
    "### Exercise: numlist\n",
    "\n",
    "Given the list `L = [10, 60, 72, 118, 11, 71, 56, 89, 120, 175]` \n",
    "\n",
    "1. find the min, max and median value (hint: sort it and extract the right values).\n",
    "2. Create a list with only the elements at even indexes (i.e. [10, 72, 11, ..], note that the \"..\" means that the list is not complete!) and re-compute min, max and median values. \n",
    "3. re-do the same for the elements located at odd indexes (i.e. [60, 118,..]).\n",
    "\n",
    "You should obtain:\n",
    "\n",
    "```bash\n",
    "original: [10, 60, 72, 118, 11, 71, 56, 89, 120, 175]\n",
    "Lodd: [60, 118, 71, 89, 175]\n",
    "Leven: [10, 72, 11, 56, 120]\n",
    "sorted:   [10, 11, 56, 60, 71, 72, 89, 118, 120, 175]\n",
    "sorted Lodd:   [60, 71, 89, 118, 175]\n",
    "sorted Leven:   [10, 11, 56, 72, 120]\n",
    "L: Min:  10  Max. 175  Median:  72\n",
    "Lodd: Min:  60  Max. 175  Median:  89\n",
    "Leven: Min:  10  Max. 120  Median:  56\n",
    "```"
   ]
  },
  {
   "cell_type": "code",
   "execution_count": 96,
   "metadata": {
    "scrolled": true
   },
   "outputs": [
    {
     "name": "stdout",
     "output_type": "stream",
     "text": [
      "original: [10, 60, 72, 118, 11, 71, 56, 89, 120, 175]\n",
      "Lodd: [60, 118, 71, 89, 175]\n",
      "Leven: [10, 72, 11, 56, 120]\n",
      "sorted:   [10, 11, 56, 60, 71, 72, 89, 118, 120, 175]\n",
      "sorted Lodd:   [60, 71, 89, 118, 175]\n",
      "sorted Leven:   [10, 11, 56, 72, 120]\n",
      "L: Min:  10  Max. 175  Median:  72\n",
      "Lodd: Min:  60  Max. 175  Median:  89\n",
      "Leven: Min:  10  Max. 120  Median:  56\n"
     ]
    }
   ],
   "source": [
    "L = [10, 60, 72, 118, 11, 71, 56, 89, 120, 175]\n",
    "\n",
    "# write here\n",
    "\n",
    "Lodd = L[1::2] #get only odd-indexed elements\n",
    "Leven = L[0::2] #get only even-indexed elements\n",
    "\n",
    "print(\"original:\" , L)\n",
    "print(\"Lodd:\", Lodd)\n",
    "print(\"Leven:\", Leven)\n",
    "L.sort()\n",
    "Lodd.sort()\n",
    "Leven.sort()\n",
    "\n",
    "print(\"sorted:  \" , L)\n",
    "print(\"sorted Lodd:  \" , Lodd)\n",
    "print(\"sorted Leven:  \" , Leven)\n",
    "\n",
    "print(\"L: Min: \", L[0], \" Max.\" , L[-1], \" Median: \", L[len(L) // 2])\n",
    "print(\"Lodd: Min: \", Lodd[0], \" Max.\" , Lodd[-1], \" Median: \", Lodd[len(Lodd) // 2])\n",
    "print(\"Leven: Min: \", Leven[0], \" Max.\" , Leven[-1], \" Median: \", Leven[len(Leven) // 2])"
   ]
  },
  {
   "cell_type": "markdown",
   "metadata": {},
   "source": [
    "### List comprehension\n",
    "List comprehension is a quick way of creating a list. The resulting list is normally obtained by applying a function or a method to the elements of another list that **remains unchanged**.\n",
    "\n",
    "The basic syntax is:"
   ]
  },
  {
   "cell_type": "markdown",
   "metadata": {},
   "source": [
    "```\n",
    "new_list = [ some_function (x) for x in start_list]\n",
    "```\n",
    "or\n",
    "```\n",
    "new_list = [ x.some_method() for x in start_list]\n",
    "```"
   ]
  },
  {
   "cell_type": "markdown",
   "metadata": {},
   "source": [
    "List comprehension can also be used to filter elements of a list and produce another list as sublist of the first one (**remember that the original list is not changed**).\n",
    "\n",
    "In this case the syntax is:"
   ]
  },
  {
   "cell_type": "markdown",
   "metadata": {},
   "source": [
    "```\n",
    "new_list = [ some_function (x) for x in start_list if condition]\n",
    "```\n",
    "or\n",
    "```\n",
    "new_list = [ x.some_method() for x in start_list if condition]\n",
    "```"
   ]
  },
  {
   "cell_type": "markdown",
   "metadata": {},
   "source": [
    "where the element x in start_list becomes part of new_list if and only if the condition holds True.\n",
    "\n",
    "Let's see some examples:\n",
    "\n",
    "**Example:**\n",
    "Given a list of strings [\"hi\", \"there\", \"from\", \"python\"] create a list with the length of the corresponding element (i.e. the one with the same index)."
   ]
  },
  {
   "cell_type": "code",
   "execution_count": 97,
   "metadata": {},
   "outputs": [
    {
     "name": "stdout",
     "output_type": "stream",
     "text": [
      "hi  has length  2\n",
      "there  has length  5\n",
      "from  has length  4\n",
      "python  has length  6\n"
     ]
    }
   ],
   "source": [
    "elems = [\"hi\", \"there\", \"from\", \"python\"]\n",
    "\n",
    "newList = [len(x) for x in elems]\n",
    "\n",
    "for i in range(0,len(elems)):\n",
    "    print(elems[i], \" has length \", newList[i])"
   ]
  },
  {
   "cell_type": "markdown",
   "metadata": {},
   "source": [
    "**Example:**\n",
    "Given a list of strings [\"dog\", \"cat\", \"rabbit\", \"guinea pig\", \"hamster\", \"canary\", \"goldfish\"] create a list with the elements starting with a \"c\" or \"g\"."
   ]
  },
  {
   "cell_type": "code",
   "execution_count": 98,
   "metadata": {},
   "outputs": [
    {
     "name": "stdout",
     "output_type": "stream",
     "text": [
      "Original:\n",
      "['dog', 'cat', 'rabbit', 'guinea pig', 'hamster', 'canary', 'goldfish']\n",
      "Filtered:\n",
      "['cat', 'guinea pig', 'canary', 'goldfish']\n"
     ]
    }
   ],
   "source": [
    "pets = [\"dog\", \"cat\", \"rabbit\", \"guinea pig\", \"hamster\", \"canary\", \"goldfish\"]\n",
    "\n",
    "cg_pets = [x for x in pets if x.startswith(\"c\") or x.startswith(\"g\")]\n",
    "\n",
    "print(\"Original:\")\n",
    "print(pets)\n",
    "print(\"Filtered:\")\n",
    "print(cg_pets)"
   ]
  },
  {
   "cell_type": "markdown",
   "metadata": {},
   "source": [
    "**Example:**\n",
    "Create a list with all the numbers divisible by 17 from 1 to 200."
   ]
  },
  {
   "cell_type": "code",
   "execution_count": 99,
   "metadata": {
    "scrolled": true
   },
   "outputs": [
    {
     "name": "stdout",
     "output_type": "stream",
     "text": [
      "[17, 34, 51, 68, 85, 102, 119, 136, 153, 170, 187]\n"
     ]
    }
   ],
   "source": [
    "values = [ x for x in range(1,200) if x % 17 == 0]\n",
    "print(values)"
   ]
  },
  {
   "cell_type": "markdown",
   "metadata": {},
   "source": [
    "**Example:**\n",
    "Transpose the matrix $\\begin{bmatrix}1 & 10\\\\2 & 20\\\\3 & 30\\\\4 & 40\\end{bmatrix}$ stored as a list of lists (i.e. matrix = [[1, 10], [2,20], [3,30], [4,40]]). The output matrix should be: $\\begin{bmatrix}1 & 2 & 3 & 4\\\\10 & 20 & 30 & 40\\end{bmatrix}$, represented as [[1, 2, 3, 4], [10, 20, 30, 40]]  "
   ]
  },
  {
   "cell_type": "code",
   "execution_count": 100,
   "metadata": {},
   "outputs": [
    {
     "name": "stdout",
     "output_type": "stream",
     "text": [
      "[[1, 10], [2, 20], [3, 30], [4, 40]]\n",
      "[[1, 2, 3, 4], [10, 20, 30, 40]]\n"
     ]
    }
   ],
   "source": [
    "matrix = [[1, 10], [2,20], [3,30], [4,40]]\n",
    "print(matrix)\n",
    "transpose = [[row[i] for row in matrix] for i in range(2)]\n",
    "print (transpose)"
   ]
  },
  {
   "cell_type": "markdown",
   "metadata": {},
   "source": [
    "**Example:**\n",
    "Given the list: [\"Hotel\", \"Icon\",\" Bus\",\"Train\", \"Hotel\", \"Eye\", \"Rain\", \"Elephant\"] create a list with all the first letters."
   ]
  },
  {
   "cell_type": "code",
   "execution_count": 101,
   "metadata": {},
   "outputs": [
    {
     "name": "stdout",
     "output_type": "stream",
     "text": [
      "['Hotel', 'Icon', ' Bus', 'Train', 'Hotel', 'Eye', 'Rain', 'Elephant']\n",
      "['H', 'I', ' ', 'T', 'H', 'E', 'R', 'E']\n",
      "HI THERE\n"
     ]
    }
   ],
   "source": [
    "myList = [\"Hotel\", \"Icon\",\" Bus\",\"Train\", \"Hotel\", \"Eye\", \"Rain\", \"Elephant\"]\n",
    "initials = [x[0] for x in myList]\n",
    "\n",
    "print(myList)\n",
    "print(initials)\n",
    "print(\"\".join(initials))"
   ]
  },
  {
   "cell_type": "code",
   "execution_count": null,
   "metadata": {},
   "outputs": [],
   "source": []
  },
  {
   "cell_type": "markdown",
   "metadata": {},
   "source": [
    "## Exercises with functions\n",
    "\n",
    "\n",
    "<div class=\"alert alert-warning\">\n",
    "\n",
    "**ATTENTION**\n",
    "\n",
    "Following exercises require you to know:\n",
    "\n",
    "<ul>\n",
    "<li>Complex statements: [Andrea Passerini slides A03](http://disi.unitn.it/~passerini/teaching/2019-2020/sci-pro/slides/A03-controlflow.pdf)</li>\n",
    "<li>\n",
    "Functions: [Andrea Passerini slides A04](http://disi.unitn.it/~passerini/teaching/2019-2020/sci-pro/slides/A04-functions.pdf)</li>\n",
    "</ul>\n",
    "</div>\n"
   ]
  },
  {
   "cell_type": "markdown",
   "metadata": {},
   "source": [
    "### printwords\n",
    "\n",
    "✪ Write a function `printwords` that PRINTS all the words in a phrase\n",
    "\n",
    "```python\n",
    ">>> printwords(\"ciao come stai?\")\n",
    "```\n",
    "```\n",
    "ciao\n",
    "come\n",
    "stai?\n",
    "```\n"
   ]
  },
  {
   "cell_type": "code",
   "execution_count": 102,
   "metadata": {},
   "outputs": [
    {
     "name": "stdout",
     "output_type": "stream",
     "text": [
      "ciao\n",
      "come\n",
      "stai?\n"
     ]
    }
   ],
   "source": [
    "# write here\n",
    "\n",
    "phrase = \"ciao come stai?\"\n",
    "\n",
    "def printwords(f):\n",
    "    \n",
    "    my_list = f.split()     # DO *NOT* create a variable called 'list'  !!!!\n",
    "    for word in my_list:\n",
    "        print(word)\n",
    "        \n",
    "printwords(phrase)"
   ]
  },
  {
   "cell_type": "markdown",
   "metadata": {},
   "source": [
    "### printeven\n",
    "\n",
    "✪ Write a function `printeven(numbers)` that PRINTS all even numbers in a list of numbers `xs`\n",
    "\n",
    "```python\n",
    ">>> printeven([1,2,3,4,5,6])\n",
    "\n",
    "2\n",
    "4\n",
    "6\n",
    "```\n"
   ]
  },
  {
   "cell_type": "code",
   "execution_count": 103,
   "metadata": {},
   "outputs": [
    {
     "name": "stdout",
     "output_type": "stream",
     "text": [
      "2\n",
      "4\n",
      "6\n"
     ]
    }
   ],
   "source": [
    "# write here\n",
    "\n",
    "def printeven(xs):\n",
    "\n",
    "    for x in xs:\n",
    "        if x % 2 == 0:\n",
    "            print(x)\n",
    "\n",
    "numbers = [1,2,3,4,5,6]\n",
    "printeven(numbers)"
   ]
  },
  {
   "cell_type": "markdown",
   "metadata": {},
   "source": [
    "### find26\n",
    "\n",
    "✪ Write a function that RETURN `True` if the number 26 is contained in a list of numbers\n",
    "\n",
    "```python\n",
    ">>> find26( [1,26,143,431,53,6] )\n",
    "True\n",
    "```"
   ]
  },
  {
   "cell_type": "code",
   "execution_count": 104,
   "metadata": {},
   "outputs": [
    {
     "data": {
      "text/plain": [
       "True"
      ]
     },
     "execution_count": 104,
     "metadata": {},
     "output_type": "execute_result"
    }
   ],
   "source": [
    "# write here\n",
    "\n",
    "def find26(xs):\n",
    "    return (26 in xs)\n",
    "\n",
    "numbers = [1,26,143,431,53,6]\n",
    "find26(numbers)"
   ]
  },
  {
   "cell_type": "markdown",
   "metadata": {},
   "source": [
    "### firstsec\n",
    "\n",
    "✪ Write a function `firstsec(s)` that PRINTS the first and second word of a phrase.\n",
    "\n",
    "* to find a list of words, you can use `.split()` method\n",
    "\n",
    "```python\n",
    ">>> firstsec(\"ciao come stai?\")\n",
    "```\n",
    "```\n",
    "ciao come\n",
    "```"
   ]
  },
  {
   "cell_type": "code",
   "execution_count": 105,
   "metadata": {},
   "outputs": [
    {
     "name": "stdout",
     "output_type": "stream",
     "text": [
      "ciao come\n"
     ]
    }
   ],
   "source": [
    "# write here\n",
    "\n",
    "def firstsec(s):\n",
    "\n",
    "    my_list = phrase.split()      # DO *NOT* create a variable called 'list'  !!!!\n",
    "    print(my_list[0], my_list[1])\n",
    "    \n",
    "phrase = \"ciao come stai?\"\n",
    "firstsec(phrase)"
   ]
  },
  {
   "cell_type": "markdown",
   "metadata": {},
   "source": [
    "### threeven\n",
    "\n",
    "✪ Write a function that PRINTS `\"yes\"` if first three elements of a list are even numbers.\n",
    "Otherwise, the function must PRINT `\"no\"`. In case the list contains less than three elements, PRINT `\"not good\"`\n",
    "\n",
    "```python\n",
    ">>> threeven([6,4,8,4,5])\n",
    "True\n",
    ">>> threeven([2,5,6,3,4,5])\n",
    "False\n",
    ">>> threeven([4])\n",
    "not good\n",
    "```"
   ]
  },
  {
   "cell_type": "code",
   "execution_count": 106,
   "metadata": {},
   "outputs": [
    {
     "name": "stdout",
     "output_type": "stream",
     "text": [
      "True\n",
      "False\n",
      "not good\n"
     ]
    }
   ],
   "source": [
    "# write here\n",
    "\n",
    "def threeven(xs):\n",
    "    if len(xs) >= 3:\n",
    "        print(xs[0] % 2 == 0 and xs[1] % 2 == 0 and xs[2] % 2 == 0)\n",
    "    else:\n",
    "        print(\"not good\")\n",
    "\n",
    "threeven([6,4,8,4,5])\n",
    "threeven([2,5,6,3,4,5])\n",
    "threeven([4])"
   ]
  },
  {
   "cell_type": "markdown",
   "metadata": {},
   "source": [
    "### separate_ip\n",
    "\n",
    "✪ An IP address is a string with four sequences of numbers (of max length 3), separated by a dot `.`. For example, `192.168.19.34` and `255.31.1.0` are IP addresses. \n",
    "\n",
    "Write a function that given an IP address as input, PRINTS the numbers inside the IP address \n",
    "\n",
    "- NOTE: do NOT use `.replace` method !\n",
    "\n",
    "```python\n",
    ">>> separate_ip(\"192.168.0.1\")\n",
    "\n",
    "192\n",
    "168\n",
    "0\n",
    "1\n",
    "```"
   ]
  },
  {
   "cell_type": "code",
   "execution_count": 107,
   "metadata": {},
   "outputs": [
    {
     "name": "stdout",
     "output_type": "stream",
     "text": [
      "192\n",
      "168\n",
      "0\n",
      "1\n"
     ]
    }
   ],
   "source": [
    "# write here\n",
    "\n",
    "def separate_ip(s):\n",
    "    separated = s.split(\".\")\n",
    "    for element in separated:\n",
    "        print(element)\n",
    "    \n",
    "\n",
    "separate_ip(\"192.168.0.1\")"
   ]
  },
  {
   "cell_type": "markdown",
   "metadata": {},
   "source": [
    "### average\n",
    "\n",
    "✪ Given a list of integer numbers, write a function `average(xs)` that RETURNS the arithmetic average  of the numbers it contains. If the given list is empty, RETURN zero.\n",
    "\n",
    "\n",
    "```python\n",
    ">>> x = average([3,4,2,3])  # ( 10/4 => 2.5)\n",
    ">>> x\n",
    "2.5\n",
    ">>> y = average([])\n",
    ">>> y\n",
    "0\n",
    ">>> z = average([ 30, 28 , 20, 29 ])\n",
    ">>> z\n",
    "26.75\n",
    "```\n"
   ]
  },
  {
   "cell_type": "code",
   "execution_count": 108,
   "metadata": {},
   "outputs": [
    {
     "name": "stdout",
     "output_type": "stream",
     "text": [
      "0\n"
     ]
    },
    {
     "data": {
      "text/plain": [
       "26.75"
      ]
     },
     "execution_count": 108,
     "metadata": {},
     "output_type": "execute_result"
    }
   ],
   "source": [
    "# write here\n",
    "\n",
    "def average(xs):\n",
    "    \n",
    "    if len(xs) == 0:\n",
    "        return 0\n",
    "    else:\n",
    "        total = 0\n",
    "        for x in xs:\n",
    "            total = total + x\n",
    "\n",
    "        return(total / len(xs))\n",
    "\n",
    "av = average([])\n",
    "print(av)\n",
    "average([30,28,20,29])"
   ]
  },
  {
   "cell_type": "markdown",
   "metadata": {},
   "source": [
    "## Verify comprehension\n",
    "\n",
    "\n",
    "<div class=\"alert alert-warning\">\n",
    "\n",
    "**ATTENTION**\n",
    "\n",
    "Following exercises require you to know:\n",
    "\n",
    "<ul>\n",
    "<li>Complex statements: [Andrea Passerini slides A03](http://disi.unitn.it/~passerini/teaching/2019-2020/sci-pro/slides/A03-controlflow.pdf)</li>\n",
    "<li>Functions: [Andrea Passerini slides A04](http://disi.unitn.it/~passerini/teaching/2019-2020/sci-pro/slides/A04-functions.pdf)</li>\n",
    "<li>[Tests with asserts](https://datasciprolab.readthedocs.io/en/latest/exercises/errors-and-testing/errors-and-testing-solution.html#Testing-with-asserts): Following exercises contain automated tests to help you spot errors. To understand how to do them, read before [Error handling and testing](https://datasciprolab.readthedocs.io/en/latest/exercises/errors-and-testing/errors-and-testing-solution.html)</li>\n",
    "</ul>\n",
    "</div>\n",
    "\n",
    "\n",
    "We will discuss differences between _modifying_ a list and _returning a new one_, and look into basic operations like transform, filter, mapping."
   ]
  },
  {
   "cell_type": "markdown",
   "metadata": {},
   "source": [
    "### Mapping\n",
    "\n",
    "Generally speaking, mapping (or transform) operations take something in input and gives back the same type of thing with elements somehow changed.\n",
    "\n",
    "In these cases, pay attention if it is required to give back a NEW list or MODIFY the existing list."
   ]
  },
  {
   "cell_type": "markdown",
   "metadata": {},
   "source": [
    "### newdoublefor\n",
    "\n",
    "Difficulty: ✪"
   ]
  },
  {
   "cell_type": "code",
   "execution_count": 109,
   "metadata": {},
   "outputs": [],
   "source": [
    "def newdoublefor(lst):\n",
    "    \"\"\" Takes a list of integers in input and RETURN a NEW one with all \n",
    "        the numbers of lst doubled. Implement it with a for.\n",
    "\n",
    "        Example:\n",
    "        \n",
    "                newdouble([3,7,1])\n",
    "\n",
    "        returns:\n",
    "\n",
    "                [6,14,2]\n",
    "    \"\"\"\n",
    "    #jupman-raise    \n",
    "    ret = []\n",
    "    for x in lst:\n",
    "        ret.append(x*2)\n",
    "    return ret\n",
    "    #/jupman-raise    \n",
    "\n",
    "# TEST START - DO NOT TOUCH!      \n",
    "# if you wrote the whole code correct, and execute the cell, Python shouldn't raise `AssertionError`\n",
    "assert newdoublefor([]) == []\n",
    "assert newdoublefor([3]) == [6]\n",
    "assert newdoublefor([3,7,1]) == [6,14,2]\n",
    "\n",
    "l = [3,7,1]\n",
    "assert newdoublefor(l) == [6,14,2]\n",
    "assert l == [3,7,1]\n",
    "# TEST END"
   ]
  },
  {
   "cell_type": "markdown",
   "metadata": {},
   "source": [
    "### double\n",
    "\n",
    "Difficulty: ✪✪"
   ]
  },
  {
   "cell_type": "code",
   "execution_count": 110,
   "metadata": {},
   "outputs": [],
   "source": [
    "def double(lst):\n",
    "    \"\"\" Takes a list of integers in input and MODIFIES it by doubling all the numbers\n",
    "    \"\"\"\n",
    "    \n",
    "    #jupman-raise    \n",
    "    for i in range(len(lst)):\n",
    "        lst[i] = lst[i] * 2\n",
    "    #/jupman-raise\n",
    "      \n",
    "# TEST START - DO NOT TOUCH!      \n",
    "# if you wrote the whole code correct, and execute the cell, Python shouldn't raise `AssertionError`\n",
    "l = []\n",
    "double(l)\n",
    "assert l == []\n",
    "\n",
    "l = [3]\n",
    "double(l)\n",
    "assert l == [6]\n",
    "\n",
    "        \n",
    "l = [3,7,1]\n",
    "double(l)\n",
    "assert l == [6,14,2]\n",
    "# TEST END"
   ]
  },
  {
   "cell_type": "markdown",
   "metadata": {},
   "source": [
    "### newdoublecomp\n",
    "\n",
    "Difficulty: ✪"
   ]
  },
  {
   "cell_type": "code",
   "execution_count": 111,
   "metadata": {},
   "outputs": [],
   "source": [
    "def newdoublecomp(lst):\n",
    "    \"\"\" Takes a list of integers in input and RETURN a NEW one with all \n",
    "        the numbers of lst doubled. Implement it as a list comprehnsion\n",
    "\n",
    "        Example:\n",
    "        \n",
    "                newdouble([3,7,1])\n",
    "\n",
    "        returns:\n",
    "\n",
    "                [6,14,2]\n",
    "    \"\"\"\n",
    "    #jupman-raise\n",
    "    return [x*2 for x in lst]\n",
    "    #/jupman-raise\n",
    "    \n",
    "# TEST START - DO NOT TOUCH!      \n",
    "# if you wrote the whole code correct, and execute the cell, Python shouldn't raise `AssertionError`\n",
    "assert newdoublecomp([]) == []\n",
    "assert newdoublecomp([3]) == [6]\n",
    "assert newdoublecomp([3,7,1]) == [6,14,2]\n",
    "\n",
    "l = [3,7,1]\n",
    "assert newdoublecomp(l) == [6,14,2]\n",
    "assert l == [3,7,1]\n",
    "# TEST END"
   ]
  },
  {
   "cell_type": "markdown",
   "metadata": {},
   "source": [
    "### up\n",
    "\n",
    "Difficulty: ✪"
   ]
  },
  {
   "cell_type": "code",
   "execution_count": 112,
   "metadata": {},
   "outputs": [],
   "source": [
    "def up(lst):\n",
    "    \"\"\" Takes a list of strings and RETURN a NEW list having all the strings in lst in capital\n",
    "        (use .upper() method and a list comprehension )\n",
    "    \"\"\"\n",
    "    #jupman-raise    \n",
    "    return [x.upper() for x in lst]\n",
    "    #/jupman-raise\n",
    "    \n",
    "# TEST START - DO NOT TOUCH!      \n",
    "# if you wrote the whole code correct, and execute the cell, Python shouldn't raise `AssertionError`\n",
    "\n",
    "assert up([]) == []\n",
    "assert up(['']) == ['']\n",
    "assert up(['a']) == ['A']\n",
    "assert up(['aA']) == ['AA']\n",
    "assert up(['Ba']) == ['BA']\n",
    "assert up(['Ba', 'aC']) == ['BA','AC']\n",
    "assert up(['Ba dA']) == ['BA DA']\n",
    "\n",
    "l = ['ciAo']\n",
    "assert up(l) == ['CIAO']\n",
    "assert l == ['ciAo']\n",
    "# TEST END"
   ]
  },
  {
   "cell_type": "markdown",
   "metadata": {},
   "source": [
    "### Filter\n",
    "\n",
    "Generally speaking, filter operations take something in input and give back the same type of thing with elements somehow filtered out.\n",
    "\n",
    "In these cases, pay attention if it is required to give back a NEW list or MODIFY the existing list."
   ]
  },
  {
   "cell_type": "markdown",
   "metadata": {},
   "source": [
    "### remall\n",
    "\n",
    "Difficulty: ✪✪"
   ]
  },
  {
   "cell_type": "code",
   "execution_count": 113,
   "metadata": {},
   "outputs": [],
   "source": [
    "def remall(list1, list2):\n",
    "    \"\"\" RETURN a NEW list which has the elements from list2 except the elements in list1\n",
    "    \"\"\"  \n",
    "    #jupman-raise    \n",
    "    list3 = list2[:]\n",
    "    for x in list1:\n",
    "        if x in list3:\n",
    "            list3.remove(x)\n",
    "    \n",
    "    return list3\n",
    "    #/jupman-raise    \n",
    "\n",
    "    \n",
    "# TEST START - DO NOT TOUCH!      \n",
    "# if you wrote the whole code correct, and execute the cell, Python shouldn't raise `AssertionError`\n",
    "assert remall([],[]) == []\n",
    "assert remall(['a'], []) == []\n",
    "assert remall([], ['a']) == ['a']\n",
    "assert remall(['a'], ['a']) == []\n",
    "assert remall(['b'], ['a']) == ['a']\n",
    "assert remall(['a', 'b'], ['a','c','b']) == ['c']\n",
    "\n",
    "assert remall(['a','d'], ['a','c','d','b']) == ['c', 'b']\n",
    "# TEST END"
   ]
  },
  {
   "cell_type": "markdown",
   "metadata": {},
   "source": [
    "### only_capital_for\n",
    "\n",
    "Difficulty: ✪"
   ]
  },
  {
   "cell_type": "code",
   "execution_count": 114,
   "metadata": {},
   "outputs": [],
   "source": [
    "def only_capital_for(lst):\n",
    "    \"\"\" Takes a list of strings lst and RETURN a NEW list which only contains the strings \n",
    "        of lst which are all in capital letters (so keeps 'AB' but not 'aB')\n",
    "        \n",
    "        Implement it with a for\n",
    "    \"\"\"\n",
    "    #jupman-raise\n",
    "    ret = []\n",
    "    for el in lst:\n",
    "        if el.isupper():\n",
    "            ret.append(el)\n",
    "    return ret\n",
    "    #/jupman-raise\n",
    "\n",
    "    \n",
    "# TEST START - DO NOT TOUCH!      \n",
    "# if you wrote the whole code correct, and execute the cell, Python shouldn't raise `AssertionError`\n",
    "assert only_capital_for([\"CD\"]) == [ \"CD\"]    \n",
    "assert only_capital_for([\"ab\"]) == []\n",
    "assert only_capital_for([\"dE\"]) == []\n",
    "assert only_capital_for([\"De\"]) == []\n",
    "assert only_capital_for([\"ab\",\"DE\"]) == [\"DE\"]\n",
    "assert only_capital_for([\"ab\", \"CD\", \"Hb\", \"EF\"]) == [ \"CD\", \"EF\"]\n",
    "# TEST END"
   ]
  },
  {
   "cell_type": "markdown",
   "metadata": {},
   "source": [
    "### only_capital_comp\n",
    "\n",
    "Difficulty: ✪"
   ]
  },
  {
   "cell_type": "code",
   "execution_count": 115,
   "metadata": {},
   "outputs": [],
   "source": [
    "def only_capital_comp(lst):\n",
    "    \"\"\" Takes a list of strings lst and RETURN a NEW list which only contains the strings \n",
    "        of lst which are all in capital letters (so keeps 'AB' but not 'aB')\n",
    "        \n",
    "        Implement it with a list comprehension\n",
    "    \"\"\"\n",
    "    #jupman-raise\n",
    "    return [el for el in lst if el.isupper() ]\n",
    "    #/jupman-raise\n",
    "\n",
    "# TEST START - DO NOT TOUCH!      \n",
    "# if you wrote the whole code correct, and execute the cell, Python shouldn't raise `AssertionError`\n",
    "assert only_capital_comp([\"CD\"]) == [ \"CD\"]    \n",
    "assert only_capital_comp([\"ab\"]) == []\n",
    "assert only_capital_comp([\"dE\"]) == []\n",
    "assert only_capital_comp([\"De\"]) == []\n",
    "assert only_capital_comp([\"ab\",\"DE\"]) == [\"DE\"]\n",
    "assert only_capital_comp([\"ab\", \"CD\", \"Hb\", \"EF\"]) == [ \"CD\", \"EF\"]\n",
    "# END"
   ]
  },
  {
   "cell_type": "markdown",
   "metadata": {},
   "source": [
    "### Reduce \n",
    "\n",
    "Generally speaking, _reduce_ operations involve operating on sets of elements and giving back an often smaller result.\n",
    "\n",
    "In these cases, we operate on lists. Pay attention if it is required to give back a NEW list or MODIFY the existing list."
   ]
  },
  {
   "cell_type": "markdown",
   "metadata": {},
   "source": [
    "### sum_all\n",
    "\n",
    "Difficulty: ✪"
   ]
  },
  {
   "cell_type": "code",
   "execution_count": 116,
   "metadata": {},
   "outputs": [],
   "source": [
    "def sum_all(lst):\n",
    "    \"\"\" RETURN the sum of all elements in lst\n",
    "    \n",
    "        Implement it as you like.\n",
    "    \"\"\"\n",
    "    #jupman-raise        \n",
    "    return sum(lst)\n",
    "    #/jupman-raise    \n",
    "\n",
    "# TEST START - DO NOT TOUCH!      \n",
    "# if you wrote the whole code correct, and execute the cell, Python shouldn't raise `AssertionError`\n",
    "\n",
    "assert sum_all([]) == 0\n",
    "assert sum_all([7,5]) == 12\n",
    "assert sum_all([9,5,8]) == 22\n",
    "\n",
    "# TEST END"
   ]
  },
  {
   "cell_type": "markdown",
   "metadata": {},
   "source": [
    "### sum_all_even_for\n",
    "\n",
    "Difficulty: ✪"
   ]
  },
  {
   "cell_type": "code",
   "execution_count": 117,
   "metadata": {},
   "outputs": [],
   "source": [
    "def sum_all_even_for(lst):\n",
    "    \"\"\" RETURN the sum of all even elements in lst\n",
    "    \n",
    "        Implement it with a for\n",
    "    \"\"\"\n",
    "    #jupman-raise\n",
    "    ret = 0\n",
    "    for el in lst:\n",
    "        if el % 2 == 0:\n",
    "            ret += el\n",
    "    return ret\n",
    "    #/jupman-raise\n",
    "\n",
    "# TEST START - DO NOT TOUCH!      \n",
    "# if you wrote the whole code correct, and execute the cell, Python shouldn't raise `AssertionError`\n",
    "assert sum_all_even_for([]) == 0\n",
    "assert sum_all_even_for([9]) == 0\n",
    "assert sum_all_even_for([4]) == 4\n",
    "assert sum_all_even_for([7,2,5,8]) == 10\n",
    "# END"
   ]
  },
  {
   "cell_type": "markdown",
   "metadata": {},
   "source": [
    "### sum_all_even_comp\n",
    "\n",
    "Difficulty: ✪"
   ]
  },
  {
   "cell_type": "code",
   "execution_count": 118,
   "metadata": {},
   "outputs": [],
   "source": [
    "def sum_all_even_comp(lst):\n",
    "    \"\"\" RETURN the sum of all even elements in lst\n",
    "    \n",
    "        Implement it in one line as an operation on a list comprehension\n",
    "    \"\"\"\n",
    "    #jupman-raise    \n",
    "    return sum([el for el in lst if el % 2 == 0])\n",
    "    #/jupman-raise\n",
    "\n",
    "# TEST START - DO NOT TOUCH!      \n",
    "# if you wrote the whole code correct, and execute the cell, Python shouldn't raise `AssertionError`\n",
    "assert sum_all_even_comp([]) == 0\n",
    "assert sum_all_even_comp([9]) == 0\n",
    "assert sum_all_even_comp([4]) == 4\n",
    "assert sum_all_even_comp([7,2,5,8]) == 10\n",
    "# END"
   ]
  },
  {
   "cell_type": "markdown",
   "metadata": {},
   "source": [
    "### Other exercises"
   ]
  },
  {
   "cell_type": "markdown",
   "metadata": {},
   "source": [
    "### contains\n",
    "\n",
    "✪ RETURN `True` if `elem` is present in list, otherwise RETURN `False`"
   ]
  },
  {
   "cell_type": "code",
   "execution_count": 119,
   "metadata": {},
   "outputs": [],
   "source": [
    "def contains(xs, x):  \n",
    "    #jupman-raise\n",
    "    return x in xs\n",
    "    #/jupman-raise\n",
    "\n",
    "\n",
    "# TEST START - DO NOT TOUCH!      \n",
    "# if you wrote the whole code correct, and execute the cell, Python shouldn't raise `AssertionError`\n",
    "assert contains([],'a') == False\n",
    "assert contains(['a'],'a') == True\n",
    "assert contains(['a','b','c'],'b') == True\n",
    "assert contains(['a','b','c'],'z') == False\n",
    "# END TEST"
   ]
  },
  {
   "cell_type": "markdown",
   "metadata": {},
   "source": [
    "### firstn\n",
    "\n",
    "✪ RETURN a list with the first numbers from `0` included to `n` excluded\n",
    "\n",
    "- For example, `firstn(3)` must RETURN `[0,1,2]`\n",
    "\n",
    "- if `n` < 0, RETURN an empty list\n",
    "\n",
    "Ingredients:\n",
    "\n",
    "- variable list to return \n",
    "- variable counter\n",
    "- cycle `while` (there also other ways)\n",
    "- `return`"
   ]
  },
  {
   "cell_type": "code",
   "execution_count": 120,
   "metadata": {},
   "outputs": [],
   "source": [
    "\n",
    "def firstn(n):\n",
    "    #jupman-raise\n",
    "    ret = []\n",
    "    counter = 0\n",
    "    while counter < n:\n",
    "        ret.append(counter)        \n",
    "        counter += 1      \n",
    "    return ret\n",
    "    #/jupman-raise\n",
    "\n",
    "\n",
    "# TEST START - DO NOT TOUCH!      \n",
    "# if you wrote the whole code correct, and execute the cell, Python shouldn't raise `AssertionError`\n",
    "assert firstn(-1) == []\n",
    "assert firstn(-2) == []\n",
    "assert firstn(0) == []\n",
    "assert firstn(1) == [0]\n",
    "assert firstn(2) == [0,1]\n",
    "assert firstn(3) == [0,1,2]\n",
    "# TEST END"
   ]
  },
  {
   "cell_type": "markdown",
   "metadata": {},
   "source": [
    "### firstlast\n",
    "\n",
    "✪ RETURN `True` if the first element of a list is equal to the last one, otherwise RETURN `False`\n",
    "\n",
    "NOTE: you can assume the list always contains at least one element."
   ]
  },
  {
   "cell_type": "code",
   "execution_count": 121,
   "metadata": {},
   "outputs": [],
   "source": [
    "\n",
    "def firstlast(xs):\n",
    "    #jupman-raise\n",
    "    return xs[0] == xs[-1]\n",
    "\n",
    "    # note: the comparation xs[0] == xs[-1] is an EXPRESSION which generates a boolean, \n",
    "    #       in this case True if the first character is equal to the last one and False otherwise\n",
    "    #       so we can directly return the result of the expression\n",
    "    \n",
    "    #/jupman-raise\n",
    "    \n",
    "\n",
    "\n",
    "# TEST START - DO NOT TOUCH!      \n",
    "# if you wrote the whole code correct, and execute the cell, Python shouldn't raise `AssertionError`\n",
    "\n",
    "assert firstlast(['a']) == True\n",
    "assert firstlast(['a','a']) == True\n",
    "assert firstlast(['a','b']) == False\n",
    "assert firstlast(['a','b','a']) == True\n",
    "assert firstlast(['a','b','c','a']) == True\n",
    "assert firstlast(['a','b','c','d']) == False\n",
    "# TEST END\n"
   ]
  },
  {
   "cell_type": "markdown",
   "metadata": {},
   "source": [
    "### dup\n",
    "\n",
    "✪ RETURN a NEW list, in which each list element in input is duplicated. For example, \n",
    "\n",
    "\n",
    "```python\n",
    "dup(['ciao','mondo','python'])\n",
    "```\n",
    "\n",
    "must RETURN\n",
    "\n",
    "```python\n",
    "['ciao','ciao','mondo','mondo','python','python']\n",
    "```\n",
    "\n",
    "Ingredients: \n",
    "- variable for a new list\n",
    "- for cycle\n",
    "- return"
   ]
  },
  {
   "cell_type": "code",
   "execution_count": 122,
   "metadata": {},
   "outputs": [],
   "source": [
    "def dup(xs):\n",
    "    #jupman-raise\n",
    "    \n",
    "    ret = []\n",
    "    for x in xs:\n",
    "        ret.append(x)\n",
    "        ret.append(x)\n",
    "    return ret\n",
    "\n",
    "    #/jupman-raise\n",
    "        \n",
    "\n",
    "# TEST START - DO NOT TOUCH!      \n",
    "# if you wrote the whole code correct, and execute the cell, Python shouldn't raise `AssertionError`\n",
    "\n",
    "assert dup([]) ==  []\n",
    "assert dup(['a']) == ['a','a']\n",
    "assert dup(['a','b']) == ['a','a','b','b']\n",
    "assert dup(['a','b','c']) == ['a','a','b','b','c','c']\n",
    "assert dup(['a','a']) == ['a','a','a','a']\n",
    "assert dup(['a','a','b','b']) == ['a','a','a','a','b','b','b','b']\n",
    "# TEST END"
   ]
  },
  {
   "cell_type": "markdown",
   "metadata": {},
   "source": [
    "### hasdup\n",
    "\n",
    "✪✪ RETURN `True` if `xs` contains element `x` more than once, otherwise RETURN `False`."
   ]
  },
  {
   "cell_type": "code",
   "execution_count": 123,
   "metadata": {},
   "outputs": [],
   "source": [
    "def hasdup(x, xs):\n",
    "    #jupman-raise\n",
    "\n",
    "    counter = 0\n",
    "    \n",
    "    for y in xs:\n",
    "        if y == x:\n",
    "            counter += 1\n",
    "            if counter > 1:\n",
    "                return True\n",
    "    return False\n",
    "    #/jupman-raise\n",
    "\n",
    "# TEST START - DO NOT TOUCH!      \n",
    "# if you wrote the whole code correct, and execute the cell, Python shouldn't raise `AssertionError`\n",
    "assert hasdup(\"a\", []) == False\n",
    "assert hasdup(\"a\", [\"a\"]) == False\n",
    "assert hasdup(\"a\", [\"a\", \"a\"]) == True\n",
    "assert hasdup(\"a\", [\"a\", \"a\", \"a\"]) == True\n",
    "assert hasdup(\"a\", [\"b\", \"a\", \"a\"]) == True\n",
    "assert hasdup(\"a\", [\"b\", \"a\", \"a\", \"a\"]) == True\n",
    "assert hasdup(\"b\", [\"b\", \"a\", \"a\", \"a\"]) == False\n",
    "assert hasdup(\"b\", [\"b\", \"a\", \"b\", \"a\"]) == True\n",
    "# TEST END"
   ]
  },
  {
   "cell_type": "markdown",
   "metadata": {},
   "source": [
    "### ord3\n",
    "\n",
    "✪✪ RETURN `True` if provided list has first elements increasingly ordered, `False` otherwise\n",
    "\n",
    "- if `xs` has less than three elements, RETURN `False`"
   ]
  },
  {
   "cell_type": "code",
   "execution_count": 124,
   "metadata": {},
   "outputs": [],
   "source": [
    "def ord3(xs):\n",
    "    #jupman-raise\n",
    "    if len(xs) >= 3:\n",
    "        return xs[0] <= xs[1] and xs[1] <= xs[2]\n",
    "    else:\n",
    "        return False\n",
    "    #/jupman-raise\n",
    "\n",
    "# TEST START - DO NOT TOUCH!\n",
    "# if you wrote the whole code correct, and execute the cell, Python shouldn't raise `AssertionError`\n",
    "assert ord3([5]) == False\n",
    "assert ord3([4,7]) == False\n",
    "assert ord3([4,6,9]) == True       \n",
    "assert ord3([4,9,7]) == False\n",
    "assert ord3([9,5,7]) == False\n",
    "assert ord3([4,8,9,1,5]) == True     # first 3 elements increasing\n",
    "assert ord3([9,4,8,10,13]) == False  # first 3 elements NOT increasing\n",
    "# TEST END"
   ]
  },
  {
   "cell_type": "markdown",
   "metadata": {},
   "source": [
    "### filterab\n",
    "\n",
    "✪✪ Takes as input a list of characters, and RETURN a NEW list containing only the characters `'a'` and `'b'` found in the input list.\n",
    " \n",
    "Example:\n",
    "\n",
    "```python\n",
    "filterab(['c','a','c','d','b','a','c','a','b','e'])\n",
    "```\n",
    "\n",
    "must return\n",
    "\n",
    "```python\n",
    "['a','b','a','a','b']\n",
    "```\n"
   ]
  },
  {
   "cell_type": "code",
   "execution_count": 125,
   "metadata": {},
   "outputs": [],
   "source": [
    "def filterab(xs):\n",
    "    #jupman-raise\n",
    "    ret = []\n",
    "    for x in xs: \n",
    "        if x == 'a' or x == 'b':\n",
    "            ret.append(x)\n",
    "    return ret\n",
    "    #/jupman-raise\n",
    "\n",
    "\n",
    "# TEST START - DO NOT TOUCH!\n",
    "# if you wrote the whole code correct, and execute the cell, Python shouldn't raise `AssertionError`\n",
    "assert filterab([]) == []\n",
    "assert filterab(['a']) == ['a']\n",
    "assert filterab(['b']) == ['b']\n",
    "assert filterab(['a','b']) == ['a','b']\n",
    "assert filterab(['a','b','c']) == ['a','b']\n",
    "assert filterab(['a','c','b']) == ['a','b']\n",
    "assert filterab(['c','a','b']) == ['a','b']\n",
    "assert filterab(['c','a','c','d','b','a','c','a','b','e']) == ['a','b','a','a','b']\n",
    "\n",
    "l = ['a','c','b']\n",
    "assert filterab(l) == ['a','b'] # verify a NEW list is returned\n",
    "assert l == ['a','c','b']      # verify original list was NOT modified\n",
    "\n",
    "# TEST END"
   ]
  },
  {
   "cell_type": "markdown",
   "metadata": {},
   "source": [
    "### hill\n",
    "\n",
    "✪✪ RETURN a list having as with first elements the numbers from one to `n` increasing, and after `n` the decrease until `1` included. NOTE: `n` is contained only once.\n",
    "\n",
    "Example:\n",
    "\n",
    "```python\n",
    "hill(4)\n",
    "```\n",
    "\n",
    "must return\n",
    "\n",
    "```python\n",
    "[1,2,3,4,3,2,1]\n",
    "```\n",
    "\n",
    "Ingredients:\n",
    "- variable for the list to return \n",
    "- two for cycles one after the other and `range` functions or two `while` one after the other"
   ]
  },
  {
   "cell_type": "code",
   "execution_count": 126,
   "metadata": {},
   "outputs": [],
   "source": [
    "def hill(n):   \n",
    "    \n",
    "    #jupman-raise\n",
    "    ret = []\n",
    "    for i in range(1,n):\n",
    "        ret.append(i)\n",
    "    for i in range(n,0,-1):\n",
    "        ret.append(i)\n",
    "    return ret\n",
    "    #/jupman-raise\n",
    "\n",
    "# TEST START - DO NOT TOUCH!\n",
    "# if you wrote the whole code correct, and execute the cell, Python shouldn't raise `AssertionError`\n",
    "assert hill(0) == []\n",
    "assert hill(1) == [1]\n",
    "assert hill(2) == [1,2,1]\n",
    "assert hill(3) == [1,2,3,2,1]\n",
    "assert hill(4) == [1,2,3,4,3,2,1]\n",
    "assert hill(5) == [1,2,3,4,5,4,3,2,1]\n",
    "# TEST END\n"
   ]
  },
  {
   "cell_type": "markdown",
   "metadata": {},
   "source": [
    "### peak\n",
    "\n",
    "✪✪ Suppose in a list are saved the heights of a mountain road taking a measure every 3 km (we assume the road  constantly goes upward). At a certain point, you will arrive at the mountain peak where you will measure the height with respect to the sea. Of course, there is also a road to go down hill (constantly downward) and here also the height will be measured every 3 km.\n",
    "\n",
    "A measurement example is `[100, 400, 800, 1220, 1600, 1400, 1000, 300, 40]`\n",
    "\n",
    "Write a function that RETURNS the _value_ from the list which corresponds to the measurement taken at the peak\n",
    "\n",
    "* if the list contains less than three elements, raise exception `ValueError`\n",
    "\n",
    "```python\n",
    ">>> peak([100,400, 800, 1220, 1600, 1400, 1000, 300, 40])\n",
    "1600\n",
    "```"
   ]
  },
  {
   "cell_type": "code",
   "execution_count": 127,
   "metadata": {},
   "outputs": [],
   "source": [
    "\n",
    "def peak(xs):\n",
    "    #jupman-raise\n",
    "    if len(xs) < 3:\n",
    "        raise ValueError(\"Empty list !\")\n",
    "    if len(xs) == 1:\n",
    "        return xs[0]\n",
    "        \n",
    "    for i in range(len(xs)):\n",
    "        if xs[i] > xs[i+1]:\n",
    "            return xs[i]\n",
    "    \n",
    "    return xs[-i]  # road without way down\n",
    "                \n",
    "    #/jupman-raise\n",
    "\n",
    "\n",
    "# TEST START - DO NOT TOUCH!\n",
    "# if you wrote the whole code correct, and execute the cell, Python shouldn't raise `AssertionError`\n",
    "try:\n",
    "    peak([])         # with this anomalous list we expect the excpetion ValueError is raised\n",
    "    \n",
    "    raise Exception(\"Shouldn't arrive here!\") \n",
    "except ValueError:    # if exception is raised, it is behaving as expected and we do nothing\n",
    "    pass\n",
    "assert peak([5,40,7]) == 40\n",
    "assert peak([5,30,4]) == 30\n",
    "assert peak([5,70,70, 4]) == 70\n",
    "assert peak([5,10,80,25,2]) == 80\n",
    "assert peak([100,400, 800, 1220, 1600, 1400, 1000, 300, 40]) == 1600"
   ]
  },
  {
   "cell_type": "markdown",
   "metadata": {},
   "source": [
    "### even\n",
    "\n",
    "✪✪ RETURN a list containing the elements at even position, starting from zero which is considered even\n",
    "\n",
    "- you can assume the input list always contains an even number of elements\n",
    "- HINT: remember that `range` can take three parameters"
   ]
  },
  {
   "cell_type": "code",
   "execution_count": 128,
   "metadata": {},
   "outputs": [],
   "source": [
    "def even(xs):\n",
    "    #jupman-raise\n",
    "    ret = []\n",
    "    for i in range(0,len(xs),2):\n",
    "        ret.append(xs[i])\n",
    "    return ret\n",
    "    #/jupman-raise\n",
    "    \n",
    "\n",
    "\n",
    "# TEST START - DO NOT TOUCH!\n",
    "# if you wrote the whole code correct, and execute the cell, Python shouldn't raise `AssertionError`\n",
    "assert even([]) == []\n",
    "assert even(['a','b']) == ['a']\n",
    "assert even(['a','b','c','d']) == ['a', 'c']\n",
    "assert even(['a','b','a','c']) == ['a', 'a']\n",
    "assert even(['a','b','c','d','e','f']) == ['a', 'c','e']\n",
    "# TEST END\n",
    "    "
   ]
  },
  {
   "cell_type": "markdown",
   "metadata": {},
   "source": [
    "### mix\n",
    "\n",
    "✪✪ RETURN a NEW list in which the elements are taken in alternation from `lista` and `listb`\n",
    "\n",
    "- you can assume that `lista` and `listb` contain the same number of elements\n",
    "\n",
    "Example:\n",
    "\n",
    "```python\n",
    "    mix(['a', 'b','c'], ['x', 'y','z']) \n",
    "```\n",
    "\n",
    "must give\n",
    "\n",
    "```python\n",
    "    ['a', 'x', 'b','y', 'c','z']\n",
    "```"
   ]
  },
  {
   "cell_type": "code",
   "execution_count": 129,
   "metadata": {},
   "outputs": [],
   "source": [
    "\n",
    "def mix(lista, listb):\n",
    "    #jupman-raise\n",
    "    ret = []\n",
    "    for i in range(len(lista)):\n",
    "        ret.append(lista[i])\n",
    "        ret.append(listb[i])\n",
    "    return ret\n",
    "    #/jupman-raise\n",
    "\n",
    "\n",
    "# TEST START - DO NOT TOUCH!\n",
    "# if you wrote the whole code correct, and execute the cell, Python shouldn't raise `AssertionError`\n",
    "assert mix([], []) == []\n",
    "assert mix(['a'], ['x']) == ['a', 'x']\n",
    "assert mix(['a'], ['a']) == ['a', 'a']\n",
    "assert mix(['a', 'b'], ['x', 'y']) == ['a', 'x', 'b','y']\n",
    "assert mix(['a', 'b','c'], ['x', 'y','z']) == ['a', 'x', 'b','y', 'c','z']\n",
    "# TEST END\n"
   ]
  },
  {
   "cell_type": "markdown",
   "metadata": {},
   "source": [
    "\n",
    "### fill\n",
    "\n",
    "✪✪ Takes a list `lst1` of `n` elements and a list `lst2` of `m` elements, and MODIFIES `lst2` by copying all `lst1` elements in the first `n` positions of lst2\n",
    "        \n",
    "- If `n` > `m`, raises a ValueError\n",
    "    "
   ]
  },
  {
   "cell_type": "code",
   "execution_count": 130,
   "metadata": {},
   "outputs": [],
   "source": [
    "\n",
    "def fill(lst1, lst2):\n",
    "\n",
    "    #jupman-raise\n",
    "    if len(lst1) > len(lst2):\n",
    "        raise  ValueError(\"List 1 is bigger than list 2 ! lst_a = %s, lst_b = %s\" % (len(lst1), len(lst2)))\n",
    "    j = 0\n",
    "    for x in lst1:\n",
    "        lst2[j] = x\n",
    "        j += 1\n",
    "    #/jupman-raise\n",
    "\n",
    "# TEST START - DO NOT TOUCH!\n",
    "# if you wrote the whole code correct, and execute the cell, Python shouldn't raise `AssertionError`\n",
    "\n",
    "try:\n",
    "    fill(['a','b'], [None])\n",
    "    raise Exception(\"TEST FAILED: Should have failed before with a ValueError!\")\n",
    "except ValueError:\n",
    "    \"Test passed\"    \n",
    "\n",
    "try:\n",
    "    fill(['a','b','c'], [None,None])\n",
    "    raise Exception(\"TEST FAILED: Should have failed before with a ValueError!\")\n",
    "except ValueError:\n",
    "    \"Test passed\"    \n",
    "\n",
    "L1 = []\n",
    "R1 = []\n",
    "fill(L1, R1)\n",
    "\n",
    "assert L1 == []\n",
    "assert R1 == []\n",
    "\n",
    "\n",
    "L = []\n",
    "R = ['x']\n",
    "fill(L, R)\n",
    "\n",
    "assert L == []\n",
    "assert R == ['x']\n",
    "\n",
    "\n",
    "L = ['a']\n",
    "R = ['x']\n",
    "fill(L, R)\n",
    "\n",
    "assert L == ['a']\n",
    "assert R == ['a']\n",
    "\n",
    "\n",
    "L = ['a']\n",
    "R = ['x','y']\n",
    "fill(L, R)\n",
    "\n",
    "assert L == ['a']\n",
    "assert R == ['a','y']\n",
    "\n",
    "L = ['a','b']\n",
    "R = ['x','y']\n",
    "fill(L, R)\n",
    "\n",
    "assert L == ['a','b']\n",
    "assert R == ['a','b']\n",
    "\n",
    "L = ['a','b']\n",
    "R = ['x','y','z',]\n",
    "fill(L, R)\n",
    "\n",
    "assert L == ['a','b']\n",
    "assert R == ['a','b','z']\n",
    "\n",
    "\n",
    "L = ['a']\n",
    "R = ['x','y','z',]\n",
    "fill(L, R)\n",
    "\n",
    "assert L == ['a']\n",
    "assert R == ['a','y','z']\n",
    "# TEST END\n"
   ]
  },
  {
   "cell_type": "markdown",
   "metadata": {},
   "source": [
    "### nostop\n",
    "\n",
    "✪✪ When you analyze a phrase, it might be useful processing it to remove very common words, for example articles and prepositions: `\"a book on Python\"` can be simplified in `\"book Python\"`\n",
    "\n",
    "The 'not so useful' words  are called _stopwords_. For example, this process is done by search engines to reduce the complexity of input string provided ny the user.\n",
    "\n",
    "Implement a function which takes a string and RETURN the input string without stopwords\n",
    "\n",
    "Implementa una funzione che prende una stringa e RITORNA la stringa di input senza le stopwords\n",
    "\n",
    "**HINT 1**: Python strings are *immutable* ! To rimove words you need to create a _new_ string from the original string\n",
    "\n",
    "**HINT 2**: create a list of words with:\n",
    "\n",
    "```python\n",
    "words = stringa.split(\" \")\n",
    "```\n",
    "\n",
    "**HINT 3**: transform the list as needed, and then build the string to return with `\" \".join(lista)`\n"
   ]
  },
  {
   "cell_type": "code",
   "execution_count": 131,
   "metadata": {},
   "outputs": [],
   "source": [
    "\n",
    "def nostop(s, stopwords):\n",
    "    #jupman-raise\n",
    "    words = s.split(\" \")\n",
    "    for s in stopwords:\n",
    "        if s in words:\n",
    "            words.remove(s)\n",
    "    return \" \".join(words)\n",
    "    #/jupman-raise\n",
    "\n",
    "# TEST START - DO NOT TOUCH!\n",
    "# if you wrote the whole code correct, and execute the cell, Python shouldn't raise `AssertionError`\n",
    "assert nostop(\"a\", [\"a\"]) == \"\"\n",
    "assert nostop(\"a\", []) == \"a\"\n",
    "assert nostop(\"\", []) == \"\"\n",
    "assert nostop(\"\", [\"a\"]) == \"\"\n",
    "assert nostop(\"a book\", [\"a\"]) == \"book\"\n",
    "assert nostop(\"a book on Python\", [\"a\",\"on\"]) == \"book Python\"\n",
    "assert nostop(\"a book on Python for beginners\", [\"a\",\"the\",\"on\",\"at\",\"in\", \"of\", \"for\"]) == \"book Python beginners\"\n",
    "# TEST END"
   ]
  },
  {
   "cell_type": "markdown",
   "metadata": {},
   "source": [
    "### threes\n",
    "\n",
    "✪✪ To check if an integer is divisible for a number `n`, you can check the reminder of the integer division by `x` and `n` is equal to zero using the operator `%`:"
   ]
  },
  {
   "cell_type": "code",
   "execution_count": 132,
   "metadata": {},
   "outputs": [
    {
     "data": {
      "text/plain": [
       "0"
      ]
     },
     "execution_count": 132,
     "metadata": {},
     "output_type": "execute_result"
    }
   ],
   "source": [
    "0 % 3"
   ]
  },
  {
   "cell_type": "code",
   "execution_count": 133,
   "metadata": {},
   "outputs": [
    {
     "data": {
      "text/plain": [
       "1"
      ]
     },
     "execution_count": 133,
     "metadata": {},
     "output_type": "execute_result"
    }
   ],
   "source": [
    "1 % 3"
   ]
  },
  {
   "cell_type": "code",
   "execution_count": 134,
   "metadata": {},
   "outputs": [
    {
     "data": {
      "text/plain": [
       "2"
      ]
     },
     "execution_count": 134,
     "metadata": {},
     "output_type": "execute_result"
    }
   ],
   "source": [
    "2 % 3"
   ]
  },
  {
   "cell_type": "code",
   "execution_count": 135,
   "metadata": {},
   "outputs": [
    {
     "data": {
      "text/plain": [
       "0"
      ]
     },
     "execution_count": 135,
     "metadata": {},
     "output_type": "execute_result"
    }
   ],
   "source": [
    "3 % 3"
   ]
  },
  {
   "cell_type": "code",
   "execution_count": 136,
   "metadata": {},
   "outputs": [
    {
     "data": {
      "text/plain": [
       "1"
      ]
     },
     "execution_count": 136,
     "metadata": {},
     "output_type": "execute_result"
    }
   ],
   "source": [
    "4 % 3"
   ]
  },
  {
   "cell_type": "code",
   "execution_count": 137,
   "metadata": {},
   "outputs": [
    {
     "data": {
      "text/plain": [
       "2"
      ]
     },
     "execution_count": 137,
     "metadata": {},
     "output_type": "execute_result"
    }
   ],
   "source": [
    "5 % 3"
   ]
  },
  {
   "cell_type": "code",
   "execution_count": 138,
   "metadata": {},
   "outputs": [
    {
     "data": {
      "text/plain": [
       "0"
      ]
     },
     "execution_count": 138,
     "metadata": {},
     "output_type": "execute_result"
    }
   ],
   "source": [
    "6 % 3"
   ]
  },
  {
   "cell_type": "markdown",
   "metadata": {},
   "source": [
    "Now implement the following function:"
   ]
  },
  {
   "cell_type": "code",
   "execution_count": 139,
   "metadata": {},
   "outputs": [],
   "source": [
    "def threes(lst):\n",
    "    \"\"\" RETURN a NEW lst with the same elements of lst, except the ones at indeces which are divisible by 3.\n",
    "        In such cases, the output list will contain a the string 'z'\n",
    "    \"\"\"\n",
    "    #jupman-raise    \n",
    "    ret = []\n",
    "    for i in range(len(lst)):\n",
    "        if i % 3 == 0:\n",
    "            ret.append('z')\n",
    "        else:\n",
    "            ret.append(lst[i])\n",
    "    return ret\n",
    "    #/jupman-raise\n",
    "\n",
    "# TEST START - DO NOT TOUCH!      \n",
    "# if you wrote the whole code correct, and execute the cell, Python shouldn't raise `AssertionError`\n",
    "assert threes([]) == []\n",
    "assert threes(['a']) == ['z']\n",
    "assert threes(['a','b']) == ['z','b']\n",
    "assert threes(['a','b','c']) == ['z','b','c']\n",
    "assert threes(['a','b','c','d']) == ['z','b','c','z']\n",
    "assert threes(['f','c','s','g','a','w','a','b']) == ['z','c','s','z','a','w','z','b']\n",
    "# TEST END"
   ]
  },
  {
   "cell_type": "markdown",
   "metadata": {},
   "source": [
    "### list_to_int\n",
    "\n",
    "Given a non-empty array of digits representing a non-negative integer, return a proper python integer \n",
    "\n",
    "The digits are stored such that the most significant digit is at the head of the list, and each element in the array contain a single digit.\n",
    "\n",
    "You may assume the integer does not contain any leading zero, except the number 0 itself.\n",
    "\n",
    "Example: \n",
    "\n",
    "    Input:  [3,7,5]\n",
    "    Output: 375\n",
    "    \n",
    "    Input:  [2,0]\n",
    "    Output: 20\n",
    "    \n",
    "    Input:  [0]\n",
    "    Output: 0\n"
   ]
  },
  {
   "cell_type": "markdown",
   "metadata": {},
   "source": [
    "#### list_to_int_dirty\n",
    "\n",
    "✪✪ This is the totally dirty approach, but may be fun (never do this in real life - prefer instead the next `list_to_int_proper` approach).\n",
    "\n",
    "1. convert the list to a string `'[5,7,4]'` using the function `str()`\n",
    "2. remove from the string `[` , `']`  and the commas `,` using the method `.replace(str1, str2)` which returns a NEW string with `str1` replaced for `str2`\n",
    "3. convert the string to an integer using the special function `int()` and return it\n"
   ]
  },
  {
   "cell_type": "code",
   "execution_count": 140,
   "metadata": {},
   "outputs": [],
   "source": [
    "def list_to_int_dirty(lst):\n",
    "    #jupman-raise\n",
    "    s = str(lst)\n",
    "    stripped = s.replace('[', '').replace(']','').replace(',','').replace(' ', '')\n",
    "    n = int(stripped) \n",
    "    return n\n",
    "    #/jupman-raise\n",
    "\n",
    "# TEST START - DO NOT TOUCH!      \n",
    "# if you wrote the whole code correct, and execute the cell, Python shouldn't raise `AssertionError`\n",
    "assert list_to_int_dirty([0]) == 0\n",
    "assert list_to_int_dirty([1]) == 1\n",
    "assert list_to_int_dirty([2]) == 2\n",
    "assert list_to_int_dirty([92]) == 92\n",
    "assert list_to_int_dirty([5,7,4]) == 574\n",
    "# TEST END"
   ]
  },
  {
   "cell_type": "markdown",
   "metadata": {},
   "source": [
    "### list_to_int\n",
    "\n",
    "✪✪ The proper way is to follow rules of math. To do it, keep in mind that\n",
    "\n",
    "$$5746 = 5*1000 + 7*100 + 4 * 10 + 6 * 1$$\n",
    "\n",
    "For our purposes, it is better to rewrite the formula like this:\n",
    "\n",
    "$$5746 = 6 * 1 + 4 * 10 + 7*100 + 5*1000$$\n",
    "\n",
    "Basically, we are performing a sum $4$ times. Each time and starting from the least significant digit, the digit in consideration is multiplied for a progressivly bigger power of 10, starting from $10^0 = 1$ up to $10^4=1000$.\n",
    "\n",
    "To understand how it could work in Python, we might progressivly add stuff to a cumulator variable `c` like this:\n",
    "\n",
    "```python\n",
    "c = 0\n",
    "\n",
    "c = c + 6*1\n",
    "c = c + 4*10\n",
    "c = c + 7*100\n",
    "c = c + 5*1000\n",
    "```\n",
    "In a more pythonic and concise way, we would write:\n",
    "\n",
    "```python\n",
    "c = 0\n",
    "\n",
    "c += 6*1\n",
    "c += 4*10\n",
    "c += 7*100\n",
    "c += 5*1000\n",
    "```\n",
    "\n",
    "\n",
    "So first of all to get the 6,4,7,5 it might help to try scanning the list in reverse order using the function `reversed` (notice the `ed` at the end!)\n"
   ]
  },
  {
   "cell_type": "code",
   "execution_count": 141,
   "metadata": {},
   "outputs": [
    {
     "name": "stdout",
     "output_type": "stream",
     "text": [
      "6\n",
      "4\n",
      "7\n",
      "5\n"
     ]
    }
   ],
   "source": [
    "for x in reversed([5,7,4,6]):\n",
    "    print(x)"
   ]
  },
  {
   "cell_type": "markdown",
   "metadata": {},
   "source": [
    "Once we have such sequence, we need a way to get a sequence of progressively increasing powers of 10. To do so, we might use a variable `power`:"
   ]
  },
  {
   "cell_type": "code",
   "execution_count": 142,
   "metadata": {},
   "outputs": [
    {
     "name": "stdout",
     "output_type": "stream",
     "text": [
      "1\n",
      "10\n",
      "100\n",
      "1000\n"
     ]
    }
   ],
   "source": [
    "power = 1\n",
    "\n",
    "for x in reversed([5,7,4,6]):\n",
    "    print (power)\n",
    "    power = power * 10"
   ]
  },
  {
   "cell_type": "markdown",
   "metadata": {},
   "source": [
    "Now you should have the necessary elements to implement the required function by yourself.\n",
    "\n",
    "<div class=\"alert alert-info\">\n",
    "\n",
    "**PLEASE REMEMBER**: if you can't find a general solution, keep trying with constants and write down all the passages you do. Then in new cells try substituting the constants with variables and keep experimenting - it's the best method to spot patterns !\n",
    "</div>"
   ]
  },
  {
   "cell_type": "code",
   "execution_count": 143,
   "metadata": {},
   "outputs": [],
   "source": [
    "def list_to_int(lst):\n",
    "    \"\"\" RETURN a Python integer which is represented by the provided list of digits, which always \n",
    "        represent a number >= 0 and has no trailing zeroes except for special case of number 0.\n",
    "    \n",
    "        Example:\n",
    "\n",
    "        Input:  [3,7,5]\n",
    "        Output: 375\n",
    "\n",
    "        Input:  [2,0]\n",
    "        Output: 20\n",
    "\n",
    "        Input:  [0]\n",
    "        Output: 0\n",
    "    \n",
    "    \"\"\"\n",
    "    #jupman-raise\n",
    "    power = 1\n",
    "    num = 0\n",
    "    for digit in reversed(lst):\n",
    "        num += power * digit\n",
    "        power = power * 10\n",
    "    return num\n",
    "    #/jupman-raise\n",
    "\n",
    "# TEST START - DO NOT TOUCH!      \n",
    "# if you wrote the whole code correct, and execute the cell, Python shouldn't raise `AssertionError`\n",
    "assert list_to_int([0]) == 0\n",
    "assert list_to_int([1]) == 1\n",
    "assert list_to_int([2]) == 2\n",
    "assert list_to_int([92]) == 92\n",
    "assert list_to_int([90]) == 90\n",
    "assert list_to_int([5,7,4]) == 574\n",
    "# END"
   ]
  },
  {
   "cell_type": "markdown",
   "metadata": {},
   "source": [
    "### int_to_list\n",
    "\n",
    "✪✪ Let's now try the inverse operation, that is, going from a proper Python number like `574` to a list `[5,7,4]`\n",
    "\n",
    "To do so, we must exploit integer division `//` and reminder operator `%`. \n",
    "\n",
    "Let's say we want to get the final digit `4` out of `574`. To do so, we can notice that `4` is the reminder of  integer division between `547` and `10`:"
   ]
  },
  {
   "cell_type": "code",
   "execution_count": 144,
   "metadata": {},
   "outputs": [
    {
     "data": {
      "text/plain": [
       "4"
      ]
     },
     "execution_count": 144,
     "metadata": {},
     "output_type": "execute_result"
    }
   ],
   "source": [
    "574 % 10"
   ]
  },
  {
   "cell_type": "markdown",
   "metadata": {},
   "source": [
    "This extracts the four, but if we want to find an algorithm for our problem, we must also find a way to progressively reduce the problem size. To do so, we can exploit the integer division operator `//`:"
   ]
  },
  {
   "cell_type": "code",
   "execution_count": 145,
   "metadata": {},
   "outputs": [
    {
     "data": {
      "text/plain": [
       "57"
      ]
     },
     "execution_count": 145,
     "metadata": {},
     "output_type": "execute_result"
    }
   ],
   "source": [
    "574 // 10"
   ]
  },
  {
   "cell_type": "markdown",
   "metadata": {},
   "source": [
    "Now, given any integer number, you know how to \n",
    "\n",
    "a. extract last digit\n",
    "b. reduce the problem for the next iteration\n",
    "\n",
    "This should be sufficient to proceed. Pay attention to special case for input `0`. "
   ]
  },
  {
   "cell_type": "code",
   "execution_count": 146,
   "metadata": {},
   "outputs": [],
   "source": [
    "def int_to_list(num):\n",
    "    \"\"\" Takes an integer number >= 0 and RETURN a list of digits representing the number in base 10.\n",
    "    \n",
    "        Example: \n",
    "\n",
    "            Input:  375\n",
    "            Output: [3,7,5]\n",
    "\n",
    "            Input:  20\n",
    "            Output: [2,0]\n",
    "\n",
    "            Input:  0\n",
    "            Output: [0]\n",
    "    \n",
    "    \"\"\"\n",
    "    #jupman-raise\n",
    "    if num == 0:\n",
    "        return [0]\n",
    "    else:\n",
    "        ret = []\n",
    "        d = num\n",
    "        while d > 0:\n",
    "            digit = d % 10   # remainder of d divided by 10\n",
    "            ret.append(digit)\n",
    "            d = d // 10\n",
    "\n",
    "        return list(reversed(ret))\n",
    "        #/jupman-raise\n",
    "    \n",
    "# TEST START - DO NOT TOUCH!      \n",
    "# if you wrote the whole code correct, and execute the cell, Python shouldn't raise `AssertionError`\n",
    "assert int_to_list(0) == [0]\n",
    "assert int_to_list(1) == [1]\n",
    "assert int_to_list(2) == [2]\n",
    "assert int_to_list(92) == [9,2]\n",
    "assert int_to_list(90) == [9,0]\n",
    "assert int_to_list(574) == [5,7,4]    \n",
    "# TEST END"
   ]
  },
  {
   "cell_type": "markdown",
   "metadata": {},
   "source": [
    "### add one\n",
    "\n",
    "Given a non-empty array of digits representing a non-negative integer, adds one to the integer.\n",
    "\n",
    "The digits are stored such that the most significant digit is at the head of the list, and each element in the array contain a single digit.\n",
    "\n",
    "You may assume the integer does not contain any leading zero, except the number 0 itself.\n",
    "\n",
    "For example: \n",
    "\n",
    "    Input: [1,2,3]\n",
    "    Output: [1,2,4]\n",
    "\n",
    "    Input: [3,6,9,9]\n",
    "    Output: [3,7,0,0]\n",
    "\n",
    "    Input: [9,9,9,9]\n",
    "    Output: [1,0,0,0,0]\n",
    "\n",
    "There are two ways to solve this exercise: you can convert to a proper integer, add one, and then convert back to list which you will do in `add_one_conv`. The other way is to directly operate on a list, using a carry variable, which you will do in `add_one_carry`\n",
    "\n"
   ]
  },
  {
   "cell_type": "markdown",
   "metadata": {},
   "source": [
    "\n",
    "\n",
    "#### add_one_conv\n",
    "\n",
    "✪✪✪ You need to do three steps:\n",
    "\n",
    "1. Convert to a proper python integer\n",
    "2. add one to the python integer\n",
    "3. convert back to a list and return it\n"
   ]
  },
  {
   "cell_type": "code",
   "execution_count": 147,
   "metadata": {},
   "outputs": [],
   "source": [
    "def add_one_conv(lst):\n",
    "    \"\"\"\n",
    "        Takes a list of digits representing a >= 0 integer without trailing zeroes except zero itself\n",
    "        and RETURN a NEW a list representing the value of lst plus one.\n",
    "        \n",
    "        Implement by calling already used implemented functions.\n",
    "    \"\"\"\n",
    "    #jupman-raise\n",
    "    power = 1\n",
    "    num = list_to_int(lst)\n",
    "    \n",
    "    return int_to_list(num + 1)        \n",
    "    #/jupman-raise\n",
    "    \n",
    "# TEST START - DO NOT TOUCH!      \n",
    "# if you wrote the whole code correct, and execute the cell, Python shouldn't raise `AssertionError`\n",
    "assert add_one_conv([0]) == [1]\n",
    "assert add_one_conv([1]) == [2]\n",
    "assert add_one_conv([2]) == [3]\n",
    "assert add_one_conv([9]) == [1, 0]\n",
    "assert add_one_conv([5,7]) == [5, 8]\n",
    "assert add_one_conv([5,9]) == [6, 0]\n",
    "assert add_one_conv([9,9]) == [1, 0, 0]\n",
    "# TEST END\n"
   ]
  },
  {
   "cell_type": "markdown",
   "metadata": {},
   "source": [
    "#### add_one_carry\n",
    "\n",
    "✪✪✪ Given a non-empty array of digits representing a non-negative integer, adds one to the integer.\n",
    "\n",
    "The digits are stored such that the most significant digit is at the head of the list, and each element in the array contain a single digit.\n",
    "\n",
    "You may assume the integer does not contain any leading zero, except the number 0 itself.\n",
    "\n",
    "For example: \n",
    "\n",
    "    Input: [1,2,3]\n",
    "    Output: [1,2,4]\n",
    "\n",
    "    Input: [3,6,9,9]\n",
    "    Output: [3,7,0,0]\n",
    "\n",
    "    Input: [9,9,9,9]\n",
    "    Output: [1,0,0,0,0]\n",
    "\n",
    "To implement it,  directly operate on the list, using a `carry` variable (_riporto_ in italian).\n",
    "\n",
    "Just follow addition as done in elementary school. Start from the last digit and sum one:\n",
    "\n",
    "If you get a number <= 9, that is the result of summing last two digits, and the rest is easy:\n",
    "\n",
    "```\n",
    "596+    carry=0\n",
    "001      \n",
    "----\n",
    "  7     6 + 1 + carry = 7\n",
    "```\n",
    "\n",
    "```\n",
    "596+    carry=0\n",
    "001     \n",
    "----\n",
    " 97     9 + 0 + carry = 9\n",
    "```\n",
    "\n",
    "```\n",
    "596+    carry=0\n",
    "001\n",
    "----\n",
    " 07     5 + 0 + carry = 5\n",
    "```\n",
    "\n",
    "If you get a number bigger than 9, then you put zero and set `carry` to one:\n",
    "\n",
    "\n",
    "```\n",
    "3599+    carry=0\n",
    "0001      \n",
    "-----\n",
    "   0     9 + 1 + carry = 10    # >9, will write zero and set carry to 1\n",
    "```\n",
    "\n",
    "\n",
    "````\n",
    "3599+    carry=1\n",
    "0001     \n",
    "---- \n",
    "  00     9 + 0 + carry = 10   # >9, will write zero and set carry to 1\n",
    "```\n",
    "\n",
    "```\n",
    "3599+    carry=1\n",
    "0001\n",
    "-----\n",
    " 600     5 + 0 + carry = 6    # <= 9, will write result and set carry to zero\n",
    "```\n",
    "\n",
    "```\n",
    "3599+    carry=0\n",
    "0001\n",
    "-----\n",
    "3600     3 + 0 + carry = 3    # <= 9, will write result and set carry to zero\n",
    "```\n",
    "\n",
    "Credits: inspiration taken from [leetcode.com](https://leetcode.com/tag/array/)"
   ]
  },
  {
   "cell_type": "code",
   "execution_count": 148,
   "metadata": {},
   "outputs": [],
   "source": [
    "def add_one_carry(lst):\n",
    "    \"\"\"\n",
    "        Takes a list of digits representing a >= 0 integer without trailing zeroes except zero itself\n",
    "        and RETURN a NEW a list representing the value of lst plus one.\n",
    "        \n",
    "        Implement it using the carry method explained before.\n",
    "    \"\"\"\n",
    "    \n",
    "    #jupman-raise\n",
    "    ret = []\n",
    "    carry = 1\n",
    "    for digit in reversed(lst):\n",
    "        new_digit = digit + carry\n",
    "        if new_digit == 10:\n",
    "            ret.append(0)\n",
    "            carry = 1\n",
    "        else:\n",
    "            ret.append(new_digit)\n",
    "            carry = 0   \n",
    "    if carry == 1:\n",
    "        ret.append(carry)\n",
    "    ret.reverse()\n",
    "    return ret\n",
    "    #/jupman-raise\n",
    "    \n",
    "# TEST START - DO NOT TOUCH!      \n",
    "# if you wrote the whole code correct, and execute the cell, Python shouldn't raise `AssertionError`\n",
    "assert add_one_carry([0]) == [1]\n",
    "assert add_one_carry([1]) == [2]\n",
    "assert add_one_carry([2]) == [3]\n",
    "assert add_one_carry([9]) == [1, 0]\n",
    "assert add_one_carry([5,7]) == [5, 8]\n",
    "assert add_one_carry([5,9]) == [6, 0]\n",
    "assert add_one_carry([9,9]) == [1, 0, 0]\n",
    "# TEST END\n"
   ]
  },
  {
   "cell_type": "markdown",
   "metadata": {},
   "source": [
    "### collatz\n",
    "\n",
    "Difficulty: ✪✪✪\n",
    "\n",
    "More challenging, implement this function from Montresor slides (the Collatz conjecture says that starting from any n you end up to 1): \n",
    "\n",
    "The 3n +1 sequence is defined like this: given a number n , compute a new value for n as follow: if n is even, divide n by 2 . If n is odd, multiply it by 3 and add 1 . Stop when you reach the value of 1 . Example: for n = 3 , the sequence is [3 , 10 , 5 , 16 , 8 , 4 , 2 , 1] . Write a program that creates a list D , such that for each value n between 1 and 50 , D [ n ] contains the length of the sequence so generated. In case of n = 3 , the length is 8 . In case of n = 27 , the length is 111 .\n",
    "\n",
    "If you need to check your results, you can also try this [nice online tool](https://www.dcode.fr/collatz-conjecture)"
   ]
  },
  {
   "cell_type": "code",
   "execution_count": 149,
   "metadata": {},
   "outputs": [],
   "source": [
    "def collatz():\n",
    "    \"\"\" Return D\"\"\"\n",
    "    raise Exception(\"TODO IMPLEMENT ME !\")"
   ]
  },
  {
   "cell_type": "code",
   "execution_count": null,
   "metadata": {},
   "outputs": [],
   "source": []
  },
  {
   "cell_type": "markdown",
   "metadata": {},
   "source": [
    "## Recursive operations\n",
    "\n",
    "Here we deal with recursion. Before doing this, you might wait until doing [Montresor class on recursion theory](http://disi.unitn.it/~montreso/sp/handouts/A06-recursion.pdf)\n",
    "\n",
    "\n",
    "When we have a problem, we try to solve it by splitting its dimension in half (or more), look for solutions in each of the halves and then decide what to do with the found solutions, if any.\n",
    "\n",
    "Several cases may occur:\n",
    "\n",
    "1. No solution is found\n",
    "2. One solution is found\n",
    "3. Two solutions are found\n",
    "\n",
    "case 1): we can only give up. \n",
    "\n",
    "case 2): we have only one solution, so we can just return that one.\n",
    "\n",
    "case 3): we have two solutions, so we need to decide what is the purpose of the algorithm.\n",
    "\n",
    "Is the purpose to ...\n",
    "\n",
    "- find all possible solutions? Then we return both of them. \n",
    "\n",
    "- find the _best_ solution, according to some measure of 'goodness'? Then we measure each of the solutions and give back the highest scoring one.\n",
    "\n",
    "- always provide a _combination_ of existing solutions, according to some combination method? Then we combine the found solutions and give them back"
   ]
  },
  {
   "cell_type": "markdown",
   "metadata": {},
   "source": [
    "### gap_rec\n",
    "\n",
    "✪✪ In a list $L$ containing $n≥2$ integers, a gap is an index $i$, $0< i < n$, such that $L[i−1]< L[i]$\n",
    "\n",
    "If $n≥2$ and $L[0]< L[n−1]$, $L$ contains at least one gap\n",
    "\n",
    "Design an algorithm that, given a  list $L$ containing $n≥2$ integers such that $L[0]< L[n−1]$, finds a gap in the list.\n",
    "\n",
    "Try to code and test the `gap` function. To avoid displaying directly Python, here we wrote it as pseudocode:\n",
    "    \n",
    "![](img/recursive-gap.png)\n",
    "\n",
    "Use the following skeleton to code it and add some test to the provided testcase class.To understand what's going on, try copy pasting in [Python tutor](http://pythontutor.com/visualize.html#mode=edit)\n",
    "\n",
    "Notice that\n",
    "\n",
    "* We created a function `gap_rec` to differentiate it from the iterative one\n",
    "* Users of `gap_rec` function might want to call it by passing just a list, in order to find any gap in the whole list. So for convenience the new function `gap_rec(L)` only accepts a list, without indexes `i` and `j`. This function just calls the other function `gap_rec_helper` that will actually contain the recursive calls. So your task is to translate the pseudocode of `gap` into the Python code of `gap_rec_helper`, which takes as input the array and the indexes as `gap` does. Adding a helper function is a frequent pattern you can find when programming recursive functions.\n"
   ]
  },
  {
   "cell_type": "markdown",
   "metadata": {},
   "source": [
    "<div class=\"alert alert-warning\">\n",
    "\n",
    "**WARNING**: The specification of gap_rec assumes the input is always a list of at least\n",
    "    two elements, and that the first element is less or equal than the last one. <i>If these \n",
    "    conditions are not met, function behaviour could be completely erroneus! </i>\n",
    "</div>\n"
   ]
  },
  {
   "cell_type": "markdown",
   "metadata": {},
   "source": [
    "When preconditions are not met, execution could stop because of an error like index out of bounds, or, even worse, we might get back some wrong index as a gap! To prevent misuse of the function, a good idea can be putting a check at the beginning of the `gap_rec` function. Such check should immediately stop the execution and raise an error if the parameters don't satisfy the preconditions. One way to do this could be to to some [assertion](https://datasciprolab.readthedocs.io/en/latest/exercises/testing/testing.html#Assertions) like this: \n",
    "    \n",
    "```python\n",
    "    def gap_rec(L, i , j):\n",
    "        assert len(L) >= 2\n",
    "        assert L[0] <= L[len(L)-1]        \n",
    "\n",
    "```\n",
    "    \n",
    "* These commands will make python interrupt execution and throw an error as soon it detects list `L` is too small or with wrong values\n",
    "* This kind of behaviour is also called _fail fast_, which is better than returning wrong values! \n",
    "* You can put any condition you want after `assert`, but ideally they should be fast to execute.\n",
    "* asserts might be better here than `raise Exception` constructs because asserts can be disabled with a flag passed to the interpreter. So, when you debug you can take advantage of them, and when the code is production quality and supposed to be bug free you can disable all assertions at once to gain in execution speed.\n"
   ]
  },
  {
   "cell_type": "markdown",
   "metadata": {},
   "source": [
    "<div class=\"alert alert-info\">\n",
    "\n",
    "**GOOD PRACTICE**: Notice I wrote as a comment what the helper function is expected to receive. Writing down specs often \n",
    "    helps understanding what the function is supposed to do, and helps users of your code as well!\n",
    "</div>\n",
    "\n"
   ]
  },
  {
   "cell_type": "markdown",
   "metadata": {},
   "source": [
    "<div class=\"alert alert-info\" >\n",
    "**COMMANDMENT 2**: You shall also write on paper!\n",
    "</div>"
   ]
  },
  {
   "cell_type": "markdown",
   "metadata": {},
   "source": [
    "To get an idea of how `gap_rec` is working, draw histograms on paper like the following, with different heights at index `m`:"
   ]
  },
  {
   "cell_type": "markdown",
   "metadata": {},
   "source": [
    "![](img/gap-rec-histogram.png)"
   ]
  },
  {
   "cell_type": "markdown",
   "metadata": {},
   "source": [
    "Notice how at each recursive call, we end up with a histogram that is similar to the inital one, that is, it respects the same preconditions (a list of size >= 2 where first element is smaller or equal than the last one)"
   ]
  },
  {
   "cell_type": "code",
   "execution_count": 150,
   "metadata": {},
   "outputs": [],
   "source": [
    "def gap_rec(L, i, j):\n",
    "    #jupman-raise\n",
    "    if j == i+1:\n",
    "        return j\n",
    "    else:\n",
    "        m = (i+j) // 2\n",
    "        if L[m] < L[j]:\n",
    "            return gaprec(L,m,j)\n",
    "        else:\n",
    "            return gaprec(L,i,m)        \n",
    "    #/jupman-raise\n",
    "\n",
    "def gap(L):\n",
    "    #jupman-raise\n",
    "    return gap_rec(L, 0, len(L) - 1)\n",
    "    #/jupman-raise\n",
    "    \n",
    "# try also to write asserts\n"
   ]
  },
  {
   "cell_type": "markdown",
   "metadata": {},
   "source": [
    "## Further resources\n",
    "\n",
    "Have a look at [leetcode array problems](https://leetcode.com/tag/array/) sorting by _Acceptance_ and _Easy_.\n",
    "\n",
    "In particular, you may check:\n",
    "\n",
    "* [Contains Duplicate](https://leetcode.com/problems/contains-duplicate/description/)\n",
    "* [Sort array by parity](https://leetcode.com/problems/sort-array-by-parity/description/)\n",
    "* [Max consecutive ones](https://leetcode.com/problems/max-consecutive-ones/description/)\n",
    "* [Fair Candy Swap](https://leetcode.com/problems/fair-candy-swap/description/)\n",
    "* [Move Zeros](https://leetcode.com/problems/move-zeroes/description/)\n",
    "* [Rotated Digits](https://leetcode.com/problems/rotated-digits/description/)\n",
    "* [Missing number](https://leetcode.com/problems/missing-number/description/) - has many possible solutions\n",
    "* [Find all numbers disappeared in an array](https://leetcode.com/problems/find-all-numbers-disappeared-in-an-array/description/)\n",
    "* [Majority Element](https://leetcode.com/problems/majority-element/description/)\n",
    "* [Degree of an array](https://leetcode.com/problems/degree-of-an-array/description/)\n",
    "* [Array partition 1](https://leetcode.com/problems/array-partition-i/description/) actually a bit hard but makes you think\n",
    "\n"
   ]
  },
  {
   "cell_type": "code",
   "execution_count": null,
   "metadata": {},
   "outputs": [],
   "source": []
  }
 ],
 "metadata": {
  "celltoolbar": "Edit Metadata",
  "kernelspec": {
   "display_name": "Python 3",
   "language": "python",
   "name": "python3"
  },
  "language_info": {
   "codemirror_mode": {
    "name": "ipython",
    "version": 3
   },
   "file_extension": ".py",
   "mimetype": "text/x-python",
   "name": "python",
   "nbconvert_exporter": "python",
   "pygments_lexer": "ipython3",
   "version": "3.7.3"
  },
  "toc": {
   "base_numbering": 1,
   "nav_menu": {},
   "number_sections": false,
   "sideBar": true,
   "skip_h1_title": false,
   "title_cell": "Table of Contents",
   "title_sidebar": "Contents",
   "toc_cell": false,
   "toc_position": {
    "height": "calc(100% - 180px)",
    "left": "10px",
    "top": "150px",
    "width": "378px"
   },
   "toc_section_display": true,
   "toc_window_display": true
  }
 },
 "nbformat": 4,
 "nbformat_minor": 2
}
