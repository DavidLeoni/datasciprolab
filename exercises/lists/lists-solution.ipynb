{
 "cells": [
  {
   "cell_type": "code",
   "execution_count": 1,
   "metadata": {
    "nbsphinx": "hidden"
   },
   "outputs": [],
   "source": [
    "#Please execute this cell\n",
    "import sys;\n",
    "sys.path.append('../../'); \n",
    "import jupman;\n"
   ]
  },
  {
   "cell_type": "markdown",
   "metadata": {},
   "source": [
    "# Lists solutions\n",
    "\n",
    "## [Download exercises zip](../../_static/lists-exercises.zip)\n",
    "\n",
    "[Browse files online](https://github.com/DavidLeoni/datasciprolab/tree/master/exercises/lists)\n",
    "\n",
    "\n",
    "\n"
   ]
  },
  {
   "cell_type": "markdown",
   "metadata": {},
   "source": [
    "\n",
    "## What to do\n",
    "\n",
    "- unzip exercises in a folder, you should get something like this: \n",
    "\n",
    "```\n",
    "\n",
    "-jupman.py\n",
    "-sciprog.py\n",
    "-other stuff ...\n",
    "-exercises\n",
    "     |- lists\n",
    "         |- lists-exercise.ipynb     \n",
    "         |- lists-solution.ipynb\n",
    "         |- other stuff ..\n",
    "```\n",
    "\n",
    "<div class=\"alert alert-warning\">\n",
    "\n",
    "**WARNING**: to correctly visualize the notebook, it MUST be in an unzipped folder !\n",
    "</div>\n",
    "\n",
    "\n",
    "- open Jupyter Notebook from that folder. Two things should open, first a console and then browser. The browser should show a file list: navigate the list and open the notebook `exercises/lists/lists-exercise.ipynb`\n",
    "\n",
    "<div class=\"alert alert-warning\">\n",
    "\n",
    "**WARNING 2**: DO NOT use the _Upload_ button in Jupyter, instead navigate in Jupyter browser to the unzipped folder !\n",
    "</div>\n",
    "\n",
    "\n",
    "- Go on reading that notebook, and follow instuctions inside.\n",
    "\n",
    "\n",
    "Shortcut keys:\n",
    "\n",
    "- to execute Python code inside a Jupyter cell, press `Control + Enter`\n",
    "- to execute Python code inside a Jupyter cell AND select next cell, press `Shift + Enter`\n",
    "- to execute Python code inside a Jupyter cell AND a create a new cell aftwerwards, press `Alt + Enter`\n",
    "- If the notebooks look stuck, try to select `Kernel -> Restart`\n",
    "\n",
    "\n",
    "\n"
   ]
  },
  {
   "cell_type": "markdown",
   "metadata": {},
   "source": [
    "## Implement functions\n",
    "\n",
    "We will discuss differences between _modifying_ a list and _returnin a new one_, and look into basic operations like transform, filter, mapping."
   ]
  },
  {
   "cell_type": "markdown",
   "metadata": {},
   "source": [
    "## Mapping\n",
    "\n",
    "Generally speaking, mapping (or transform) operations take something in input and gives back the same type of thing with elements somehow changed.\n",
    "\n",
    "In these cases, pay attention if it is required to give back a NEW list or MODIFY the existing list."
   ]
  },
  {
   "cell_type": "markdown",
   "metadata": {},
   "source": [
    "### newdoublefor\n",
    "\n",
    "Difficulty: ✪"
   ]
  },
  {
   "cell_type": "code",
   "execution_count": 2,
   "metadata": {},
   "outputs": [],
   "source": [
    "def newdoublefor(lst):\n",
    "    \"\"\" Takes a list of integers in input and RETURN a NEW one with all \n",
    "        the numbers of lst doubled. Implement it with a for.\n",
    "\n",
    "        Example:\n",
    "        \n",
    "                newdouble([3,7,1])\n",
    "\n",
    "        returns:\n",
    "\n",
    "                [6,14,2]\n",
    "    \"\"\"\n",
    "    #jupman-raise    \n",
    "    ret = []\n",
    "    for x in lst:\n",
    "        ret.append(x*2)\n",
    "    return ret\n",
    "    #/jupman-raise    \n",
    "\n",
    "assert newdoublefor([]) == []\n",
    "assert newdoublefor([3]) == [6]\n",
    "assert newdoublefor([3,7,1]) == [6,14,2]\n",
    "\n",
    "l = [3,7,1]\n",
    "assert newdoublefor(l) == [6,14,2]\n",
    "assert l == [3,7,1]\n"
   ]
  },
  {
   "cell_type": "markdown",
   "metadata": {},
   "source": [
    "### double\n",
    "\n",
    "Difficulty: ✪✪"
   ]
  },
  {
   "cell_type": "code",
   "execution_count": 3,
   "metadata": {},
   "outputs": [],
   "source": [
    "def double(lst):\n",
    "    \"\"\" Takes a list of integers in input and MODIFIES it by doubling all the numbers\n",
    "    \"\"\"\n",
    "    \n",
    "    #jupman-raise    \n",
    "    for i in range(len(lst)):\n",
    "        lst[i] = lst[i] * 2\n",
    "    #/jupman-raise\n",
    "        \n",
    "l = []\n",
    "double(l)\n",
    "assert l == []\n",
    "\n",
    "l = [3]\n",
    "double(l)\n",
    "assert l == [6]\n",
    "\n",
    "        \n",
    "l = [3,7,1]\n",
    "double(l)\n",
    "assert l == [6,14,2]"
   ]
  },
  {
   "cell_type": "markdown",
   "metadata": {},
   "source": [
    "### newdoublecomp\n",
    "\n",
    "Difficulty: ✪"
   ]
  },
  {
   "cell_type": "code",
   "execution_count": 4,
   "metadata": {},
   "outputs": [],
   "source": [
    "def newdoublecomp(lst):\n",
    "    \"\"\" Takes a list of integers in input and RETURN a NEW one with all \n",
    "        the numbers of lst doubled. Implement it as a list comprehnsion\n",
    "\n",
    "        Example:\n",
    "        \n",
    "                newdouble([3,7,1])\n",
    "\n",
    "        returns:\n",
    "\n",
    "                [6,14,2]\n",
    "    \"\"\"\n",
    "    #jupman-raise\n",
    "    return [x*2 for x in lst]\n",
    "    #/jupman-raise\n",
    "    \n",
    "assert newdoublecomp([]) == []\n",
    "assert newdoublecomp([3]) == [6]\n",
    "assert newdoublecomp([3,7,1]) == [6,14,2]\n",
    "\n",
    "l = [3,7,1]\n",
    "assert newdoublecomp(l) == [6,14,2]\n",
    "assert l == [3,7,1]"
   ]
  },
  {
   "cell_type": "markdown",
   "metadata": {},
   "source": [
    "### up\n",
    "\n",
    "Difficulty: ✪"
   ]
  },
  {
   "cell_type": "code",
   "execution_count": 5,
   "metadata": {},
   "outputs": [],
   "source": [
    "def up(lst):\n",
    "    \"\"\" Takes a list of strings and RETURN a NEW list having all the strings in lst in capital\n",
    "        (use .upper() method and a list comprehension )\n",
    "    \"\"\"\n",
    "    #jupman-raise    \n",
    "    return [x.upper() for x in lst]\n",
    "    #/jupman-raise\n",
    "    \n",
    "assert up([]) == []\n",
    "assert up(['']) == ['']\n",
    "assert up(['a']) == ['A']\n",
    "assert up(['aA']) == ['AA']\n",
    "assert up(['Ba']) == ['BA']\n",
    "assert up(['Ba', 'aC']) == ['BA','AC']\n",
    "assert up(['Ba dA']) == ['BA DA']\n",
    "\n",
    "l = ['ciAo']\n",
    "assert up(l) == ['CIAO']\n",
    "assert l == ['ciAo']"
   ]
  },
  {
   "cell_type": "markdown",
   "metadata": {},
   "source": [
    "## Filter\n",
    "\n",
    "Generally speaking, filter operations take something in input and give back the same type of thing with elements somehow filtered out.\n",
    "\n",
    "In these cases, pay attention if it is required to give back a NEW list or MODIFY the existing list."
   ]
  },
  {
   "cell_type": "markdown",
   "metadata": {},
   "source": [
    "### remall\n",
    "\n",
    "Difficulty: ✪✪"
   ]
  },
  {
   "cell_type": "code",
   "execution_count": 6,
   "metadata": {},
   "outputs": [],
   "source": [
    "def remall(list1, list2):\n",
    "    \"\"\" RETURN a NEW list which has the elements from list2 except the elements in list1\n",
    "    \"\"\"  \n",
    "    #jupman-raise    \n",
    "    list3 = list2[:]\n",
    "    for x in list1:\n",
    "        if x in list3:\n",
    "            list3.remove(x)\n",
    "    \n",
    "    return list3\n",
    "    #/jupman-raise    \n",
    "\n",
    "    \n",
    "\n",
    "assert remall([],[]) == []\n",
    "assert remall(['a'], []) == []\n",
    "assert remall([], ['a']) == ['a']\n",
    "assert remall(['a'], ['a']) == []\n",
    "assert remall(['b'], ['a']) == ['a']\n",
    "assert remall(['a', 'b'], ['a','c','b']) == ['c']\n",
    "\n",
    "assert remall(['a','d'], ['a','c','d','b']) == ['c', 'b']"
   ]
  },
  {
   "cell_type": "markdown",
   "metadata": {},
   "source": [
    "### only_capital_for\n",
    "\n",
    "Difficulty: ✪"
   ]
  },
  {
   "cell_type": "code",
   "execution_count": 7,
   "metadata": {},
   "outputs": [],
   "source": [
    "def only_capital_for(lst):\n",
    "    \"\"\" Takes a list of strings lst and RETURN a NEW list which only contains the strings \n",
    "        of lst which are all in capital letters (so keeps 'AB' but not 'aB')\n",
    "        \n",
    "        Implement it with a for\n",
    "    \"\"\"\n",
    "    #jupman-raise\n",
    "    ret = []\n",
    "    for el in lst:\n",
    "        if el.isupper():\n",
    "            ret.append(el)\n",
    "    return ret\n",
    "    #/jupman-raise\n",
    "\n",
    "assert only_capital_for([\"CD\"]) == [ \"CD\"]    \n",
    "assert only_capital_for([\"ab\"]) == []\n",
    "assert only_capital_for([\"dE\"]) == []\n",
    "assert only_capital_for([\"De\"]) == []\n",
    "assert only_capital_for([\"ab\",\"DE\"]) == [\"DE\"]\n",
    "assert only_capital_for([\"ab\", \"CD\", \"Hb\", \"EF\"]) == [ \"CD\", \"EF\"]"
   ]
  },
  {
   "cell_type": "markdown",
   "metadata": {},
   "source": [
    "### only_capital_comp\n",
    "\n",
    "Difficulty: ✪"
   ]
  },
  {
   "cell_type": "code",
   "execution_count": 8,
   "metadata": {},
   "outputs": [],
   "source": [
    "def only_capital_comp(lst):\n",
    "    \"\"\" Takes a list of strings lst and RETURN a NEW list which only contains the strings \n",
    "        of lst which are all in capital letters (so keeps 'AB' but not 'aB')\n",
    "        \n",
    "        Implement it with a list comprehension\n",
    "    \"\"\"\n",
    "    #jupman-raise\n",
    "    return [el for el in lst if el.isupper() ]\n",
    "    #/jupman-raise\n",
    "\n",
    "assert only_capital_comp([\"CD\"]) == [ \"CD\"]    \n",
    "assert only_capital_comp([\"ab\"]) == []\n",
    "assert only_capital_comp([\"dE\"]) == []\n",
    "assert only_capital_comp([\"De\"]) == []\n",
    "assert only_capital_comp([\"ab\",\"DE\"]) == [\"DE\"]\n",
    "assert only_capital_comp([\"ab\", \"CD\", \"Hb\", \"EF\"]) == [ \"CD\", \"EF\"]"
   ]
  },
  {
   "cell_type": "markdown",
   "metadata": {},
   "source": [
    "## Reduce \n",
    "\n",
    "Generally speaking, _reduce_ operations involve operating on sets of elements and giving back an often smaller result.\n",
    "\n",
    "In these cases, we operate on lists. Pay attention if it is required to give back a NEW list or MODIFY the existing list."
   ]
  },
  {
   "cell_type": "markdown",
   "metadata": {},
   "source": [
    "### sum_all\n",
    "\n",
    "Difficulty: ✪"
   ]
  },
  {
   "cell_type": "code",
   "execution_count": 9,
   "metadata": {},
   "outputs": [],
   "source": [
    "def sum_all(lst):\n",
    "    \"\"\" RETURN the sum of all elements in lst\n",
    "    \n",
    "        Implement it as you like.\n",
    "    \"\"\"\n",
    "    #jupman-raise        \n",
    "    return sum(lst)\n",
    "    #/jupman-raise    \n",
    "    \n",
    "assert sum_all([]) == 0\n",
    "assert sum_all([7,5]) == 12\n",
    "assert sum_all([9,5,8]) == 22\n"
   ]
  },
  {
   "cell_type": "markdown",
   "metadata": {},
   "source": [
    "### sum_all_even_for\n",
    "\n",
    "Difficulty: ✪"
   ]
  },
  {
   "cell_type": "code",
   "execution_count": 10,
   "metadata": {},
   "outputs": [],
   "source": [
    "def sum_all_even_for(lst):\n",
    "    \"\"\" RETURN the sum of all even elements in lst\n",
    "    \n",
    "        Implement it with a for\n",
    "    \"\"\"\n",
    "    #jupman-raise\n",
    "    ret = 0\n",
    "    for el in lst:\n",
    "        if el % 2 == 0:\n",
    "            ret += el\n",
    "    return ret\n",
    "    #/jupman-raise\n",
    "\n",
    "assert sum_all_even_for([]) == 0\n",
    "assert sum_all_even_for([9]) == 0\n",
    "assert sum_all_even_for([4]) == 4\n",
    "assert sum_all_even_for([7,2,5,8]) == 10"
   ]
  },
  {
   "cell_type": "markdown",
   "metadata": {},
   "source": [
    "### sum_all_even_comp\n",
    "\n",
    "Difficulty: ✪"
   ]
  },
  {
   "cell_type": "code",
   "execution_count": 11,
   "metadata": {},
   "outputs": [],
   "source": [
    "def sum_all_even_comp(lst):\n",
    "    \"\"\" RETURN the sum of all even elements in lst\n",
    "    \n",
    "        Implement it in one line as an operation on a list comprehension\n",
    "    \"\"\"\n",
    "    #jupman-raise    \n",
    "    return sum([el for el in lst if el % 2 == 0])\n",
    "    #/jupman-raise\n",
    "\n",
    "assert sum_all_even_comp([]) == 0\n",
    "assert sum_all_even_comp([9]) == 0\n",
    "assert sum_all_even_comp([4]) == 4\n",
    "assert sum_all_even_comp([7,2,5,8]) == 10"
   ]
  },
  {
   "cell_type": "markdown",
   "metadata": {},
   "source": [
    "## Other exercises"
   ]
  },
  {
   "cell_type": "markdown",
   "metadata": {},
   "source": [
    "### collatz\n",
    "\n",
    "Difficulty: ✪✪✪\n",
    "\n",
    "More challenging, implement this function from Montresor slides (the Collatz conjecture says that starting from any n you end up to 1): \n",
    "\n",
    "The 3n +1 sequence is defined like this: given a number n , compute a new value for n as follow: if n is even, divide n by 2 . If n is odd, multiply it by 3 and add 1 . Stop when you reach the value of 1 . Example: for n = 3 , the sequence is [3 , 10 , 5 , 16 , 8 , 4 , 2 , 1] . Write a program that creates a list D , such that for each value n between 1 and 50 , D [ n ] contains the length of the sequence so generated. In case of n = 3 , the length is 8 . In case of n = 27 , the length is 111 .\n",
    "\n",
    "If you need to check your results, you can also try this [nice online tool](https://www.dcode.fr/collatz-conjecture)"
   ]
  },
  {
   "cell_type": "code",
   "execution_count": 12,
   "metadata": {},
   "outputs": [],
   "source": [
    "def collatz():\n",
    "    \"\"\" Return D\"\"\"\n",
    "    raise Exception(\"TODO IMPLEMENT ME !\")"
   ]
  },
  {
   "cell_type": "markdown",
   "metadata": {},
   "source": [
    "### threes\n",
    "\n",
    "✪✪ To check if an integer is divisible for a number `n`, you can check the reminder of the integer division by `x` and `n` is equal to zero using the operator `%`:"
   ]
  },
  {
   "cell_type": "code",
   "execution_count": 13,
   "metadata": {},
   "outputs": [
    {
     "data": {
      "text/plain": [
       "0"
      ]
     },
     "execution_count": 13,
     "metadata": {},
     "output_type": "execute_result"
    }
   ],
   "source": [
    "0 % 3"
   ]
  },
  {
   "cell_type": "code",
   "execution_count": 14,
   "metadata": {},
   "outputs": [
    {
     "data": {
      "text/plain": [
       "1"
      ]
     },
     "execution_count": 14,
     "metadata": {},
     "output_type": "execute_result"
    }
   ],
   "source": [
    "1 % 3"
   ]
  },
  {
   "cell_type": "code",
   "execution_count": 15,
   "metadata": {},
   "outputs": [
    {
     "data": {
      "text/plain": [
       "2"
      ]
     },
     "execution_count": 15,
     "metadata": {},
     "output_type": "execute_result"
    }
   ],
   "source": [
    "2 % 3"
   ]
  },
  {
   "cell_type": "code",
   "execution_count": 16,
   "metadata": {},
   "outputs": [
    {
     "data": {
      "text/plain": [
       "0"
      ]
     },
     "execution_count": 16,
     "metadata": {},
     "output_type": "execute_result"
    }
   ],
   "source": [
    "3 % 3"
   ]
  },
  {
   "cell_type": "code",
   "execution_count": 17,
   "metadata": {},
   "outputs": [
    {
     "data": {
      "text/plain": [
       "1"
      ]
     },
     "execution_count": 17,
     "metadata": {},
     "output_type": "execute_result"
    }
   ],
   "source": [
    "4 % 3"
   ]
  },
  {
   "cell_type": "code",
   "execution_count": 18,
   "metadata": {},
   "outputs": [
    {
     "data": {
      "text/plain": [
       "2"
      ]
     },
     "execution_count": 18,
     "metadata": {},
     "output_type": "execute_result"
    }
   ],
   "source": [
    "5 % 3"
   ]
  },
  {
   "cell_type": "code",
   "execution_count": 19,
   "metadata": {},
   "outputs": [
    {
     "data": {
      "text/plain": [
       "0"
      ]
     },
     "execution_count": 19,
     "metadata": {},
     "output_type": "execute_result"
    }
   ],
   "source": [
    "6 % 3"
   ]
  },
  {
   "cell_type": "markdown",
   "metadata": {},
   "source": [
    "Now implement the following function:"
   ]
  },
  {
   "cell_type": "code",
   "execution_count": 20,
   "metadata": {},
   "outputs": [],
   "source": [
    "def threes(lst):\n",
    "    \"\"\" RETURN a NEW lst with the same elements of lst, except the ones at indeces which are divisible by 3.\n",
    "        In such cases, the output list will contain a the string 'z'\n",
    "    \"\"\"\n",
    "    #jupman-raise    \n",
    "    ret = []\n",
    "    for i in range(len(lst)):\n",
    "        if i % 3 == 0:\n",
    "            ret.append('z')\n",
    "        else:\n",
    "            ret.append(lst[i])\n",
    "    return ret\n",
    "    #/jupman-raise\n",
    "\n",
    "assert threes([]) == []\n",
    "assert threes(['a']) == ['z']\n",
    "assert threes(['a','b']) == ['z','b']\n",
    "assert threes(['a','b','c']) == ['z','b','c']\n",
    "assert threes(['a','b','c','d']) == ['z','b','c','z']\n",
    "assert threes(['f','c','s','g','a','w','a','b']) == ['z','c','s','z','a','w','z','b']"
   ]
  },
  {
   "cell_type": "markdown",
   "metadata": {},
   "source": [
    "### list_to_int\n",
    "\n",
    "Given a non-empty array of digits representing a non-negative integer, return a proper python integer \n",
    "\n",
    "The digits are stored such that the most significant digit is at the head of the list, and each element in the array contain a single digit.\n",
    "\n",
    "You may assume the integer does not contain any leading zero, except the number 0 itself.\n",
    "\n",
    "Example: \n",
    "\n",
    "    Input:  [3,7,5]\n",
    "    Output: 375\n",
    "    \n",
    "    Input:  [2,0]\n",
    "    Output: 20\n",
    "    \n",
    "    Input:  [0]\n",
    "    Output: 0\n"
   ]
  },
  {
   "cell_type": "markdown",
   "metadata": {},
   "source": [
    "#### list_to_int_dirty\n",
    "\n",
    "✪✪ This is the totally dirty approach, but may be fun (never do this in real life - prefer instead the next `list_to_int_proper` approach).\n",
    "\n",
    "1. convert the list to a string `'[5,7,4]'` using the function `str()`\n",
    "2. remove from the string `[` , `']`  and the commas `,` using the method `.replace(str1, str2)` which returns a NEW string with `str1` replaced for `str2`\n",
    "3. convert the string to an integer using the special function `int()` and return it\n"
   ]
  },
  {
   "cell_type": "code",
   "execution_count": 21,
   "metadata": {},
   "outputs": [],
   "source": [
    "def list_to_int_dirty(lst):\n",
    "    #jupman-raise\n",
    "    s = str(lst)\n",
    "    stripped = s.replace('[', '').replace(']','').replace(',','').replace(' ', '')\n",
    "    n = int(stripped) \n",
    "    return n\n",
    "    #/jupman-raise\n",
    "\n",
    "assert list_to_int_dirty([0]) == 0\n",
    "assert list_to_int_dirty([1]) == 1\n",
    "assert list_to_int_dirty([2]) == 2\n",
    "assert list_to_int_dirty([92]) == 92\n",
    "assert list_to_int_dirty([5,7,4]) == 574\n"
   ]
  },
  {
   "cell_type": "markdown",
   "metadata": {},
   "source": [
    "### list_to_int\n",
    "\n",
    "✪✪ The proper way is to follow rules of math. To do it, keep in mind that\n",
    "\n",
    "$$5746 = 5*1000 + 7*100 + 4 * 10 + 6 * 1$$\n",
    "\n",
    "For our purposes, it is better to rewrite the formula like this:\n",
    "\n",
    "$$5746 = 6 * 1 + 4 * 10 + 7*100 + 5*1000$$\n",
    "\n",
    "Basically, we are performing a sum $4$ times. Each time and starting from the least significant digit, the digit in consideration is multiplied for a progressivly bigger power of 10, starting from $10^0 = 1$ up to $10^4=1000$.\n",
    "\n",
    "To understand how it could work in Python, we might progressivly add stuff to a cumulator variable `c` like this:\n",
    "\n",
    "```python\n",
    "c = 0\n",
    "\n",
    "c = c + 6*1\n",
    "c = c + 4*10\n",
    "c = c + 7*100\n",
    "c = c + 5*1000\n",
    "```\n",
    "In a more pythonic and concise way, we would write:\n",
    "\n",
    "```python\n",
    "c = 0\n",
    "\n",
    "c += 6*1\n",
    "c += 4*10\n",
    "c += 7*100\n",
    "c += 5*1000\n",
    "```\n",
    "\n",
    "\n",
    "So first of all to get the 6,4,7,5 it might help to try scanning the list in reverse order using the function `reversed` (notice the `ed` at the end!)\n"
   ]
  },
  {
   "cell_type": "code",
   "execution_count": 22,
   "metadata": {},
   "outputs": [
    {
     "name": "stdout",
     "output_type": "stream",
     "text": [
      "6\n",
      "4\n",
      "7\n",
      "5\n"
     ]
    }
   ],
   "source": [
    "for x in reversed([5,7,4,6]):\n",
    "    print(x)"
   ]
  },
  {
   "cell_type": "markdown",
   "metadata": {},
   "source": [
    "Once we have such sequence, we need a way to get a sequence of progressively increasing powers of 10. To do so, we might use a variable `power`:"
   ]
  },
  {
   "cell_type": "code",
   "execution_count": 23,
   "metadata": {},
   "outputs": [
    {
     "name": "stdout",
     "output_type": "stream",
     "text": [
      "1\n",
      "10\n",
      "100\n",
      "1000\n"
     ]
    }
   ],
   "source": [
    "power = 1\n",
    "\n",
    "for x in reversed([5,7,4,6]):\n",
    "    print (power)\n",
    "    power = power * 10"
   ]
  },
  {
   "cell_type": "markdown",
   "metadata": {},
   "source": [
    "Now you should have the necessary elements to implement the required function by yourself.\n",
    "\n",
    "<div class=\"alert alert-info\">\n",
    "\n",
    "**PLEASE REMEMBER**: if you can't find a general solution, keep trying with constants and write down all the passages you do. Then in new cells try substituting the constants with variables and keep experimenting - it's the best method to spot patterns !\n",
    "</div>"
   ]
  },
  {
   "cell_type": "code",
   "execution_count": 24,
   "metadata": {},
   "outputs": [],
   "source": [
    "def list_to_int(lst):\n",
    "    \"\"\" RETURN a Python integer which is represented by the provided list of digits, which always \n",
    "        represent a number >= 0 and has no trailing zeroes except for special case of number 0.\n",
    "    \n",
    "        Example:\n",
    "\n",
    "        Input:  [3,7,5]\n",
    "        Output: 375\n",
    "\n",
    "        Input:  [2,0]\n",
    "        Output: 20\n",
    "\n",
    "        Input:  [0]\n",
    "        Output: 0\n",
    "    \n",
    "    \"\"\"\n",
    "    #jupman-raise\n",
    "    power = 1\n",
    "    num = 0\n",
    "    for digit in reversed(lst):\n",
    "        num += power * digit\n",
    "        power = power * 10\n",
    "    return num\n",
    "    #/jupman-raise\n",
    "\n",
    "assert list_to_int([0]) == 0\n",
    "assert list_to_int([1]) == 1\n",
    "assert list_to_int([2]) == 2\n",
    "assert list_to_int([92]) == 92\n",
    "assert list_to_int([90]) == 90\n",
    "assert list_to_int([5,7,4]) == 574"
   ]
  },
  {
   "cell_type": "markdown",
   "metadata": {},
   "source": [
    "### int_to_list\n",
    "\n",
    "✪✪ Let's now try the inverse operation, that is, going from a proper Python number like `574` to a list `[5,7,4]`\n",
    "\n",
    "To do so, we must exploit integer division `//` and reminder operator `%`. \n",
    "\n",
    "Let's say we want to get the final digit `4` out of `574`. To do so, we can notice that `4` is the reminder of  integer division between `547` and `10`:"
   ]
  },
  {
   "cell_type": "code",
   "execution_count": 25,
   "metadata": {},
   "outputs": [
    {
     "data": {
      "text/plain": [
       "4"
      ]
     },
     "execution_count": 25,
     "metadata": {},
     "output_type": "execute_result"
    }
   ],
   "source": [
    "574 % 10"
   ]
  },
  {
   "cell_type": "markdown",
   "metadata": {},
   "source": [
    "This extracts the four, but if we want to find an algorithm for our problem, we must also find a way to progressively reduce the problem size. To do so, we can exploit the integer division operator `//`:"
   ]
  },
  {
   "cell_type": "code",
   "execution_count": 26,
   "metadata": {},
   "outputs": [
    {
     "data": {
      "text/plain": [
       "57"
      ]
     },
     "execution_count": 26,
     "metadata": {},
     "output_type": "execute_result"
    }
   ],
   "source": [
    "574 // 10"
   ]
  },
  {
   "cell_type": "markdown",
   "metadata": {},
   "source": [
    "Now, given any integer number, you know how to \n",
    "\n",
    "a. extract last digit\n",
    "b. reduce the problem for the next iteration\n",
    "\n",
    "This should be sufficient to proceed. Pay attention to special case for input `0`. "
   ]
  },
  {
   "cell_type": "code",
   "execution_count": 27,
   "metadata": {},
   "outputs": [],
   "source": [
    "def int_to_list(num):\n",
    "    \"\"\" Takes an integer number >= 0 and RETURN a list of digits representing the number in base 10.\n",
    "    \n",
    "        Example: \n",
    "\n",
    "            Input:  375\n",
    "            Output: [3,7,5]\n",
    "\n",
    "            Input:  20\n",
    "            Output: [2,0]\n",
    "\n",
    "            Input:  0\n",
    "            Output: [0]\n",
    "    \n",
    "    \"\"\"\n",
    "    #jupman-raise\n",
    "    if num == 0:\n",
    "        return [0]\n",
    "    else:\n",
    "        ret = []\n",
    "        d = num\n",
    "        while d > 0:\n",
    "            digit = d % 10   # remainder of d divided by 10\n",
    "            ret.append(digit)\n",
    "            d = d // 10\n",
    "\n",
    "        return list(reversed(ret))\n",
    "        #/jupman-raise\n",
    "    \n",
    "assert int_to_list(0) == [0]\n",
    "assert int_to_list(1) == [1]\n",
    "assert int_to_list(2) == [2]\n",
    "assert int_to_list(92) == [9,2]\n",
    "assert int_to_list(90) == [9,0]\n",
    "assert int_to_list(574) == [5,7,4,]    "
   ]
  },
  {
   "cell_type": "markdown",
   "metadata": {},
   "source": [
    "### add one\n",
    "\n",
    "Given a non-empty array of digits representing a non-negative integer, adds one to the integer.\n",
    "\n",
    "The digits are stored such that the most significant digit is at the head of the list, and each element in the array contain a single digit.\n",
    "\n",
    "You may assume the integer does not contain any leading zero, except the number 0 itself.\n",
    "\n",
    "For example: \n",
    "\n",
    "    Input: [1,2,3]\n",
    "    Output: [1,2,4]\n",
    "\n",
    "    Input: [3,6,9,9]\n",
    "    Output: [3,7,0,0]\n",
    "\n",
    "    Input: [9,9,9,9]\n",
    "    Output: [1,0,0,0,0]\n",
    "\n",
    "There are two ways to solve this exercise: you can convert to a proper integer, add one, and then convert back to list which you will do in `add_one_conv`. The other way is to directly operate on a list, using a carry variable, which you will do in `add_one_carry`\n",
    "\n"
   ]
  },
  {
   "cell_type": "markdown",
   "metadata": {},
   "source": [
    "\n",
    "\n",
    "#### add_one_conv\n",
    "\n",
    "✪✪✪ You need to do three steps:\n",
    "\n",
    "1. Convert to a proper python integer\n",
    "2. add one to the python integer\n",
    "3. convert back to a list and return it\n"
   ]
  },
  {
   "cell_type": "code",
   "execution_count": 28,
   "metadata": {},
   "outputs": [],
   "source": [
    "def add_one_conv(lst):\n",
    "    \"\"\"\n",
    "        Takes a list of digits representing a >= 0 integer without trailing zeroes except zero itself\n",
    "        and RETURN a NEW a list representing the value of lst plus one.\n",
    "        \n",
    "        Implement by calling already used implemented functions.\n",
    "    \"\"\"\n",
    "    #jupman-raise\n",
    "    power = 1\n",
    "    num = list_to_int(lst)\n",
    "    \n",
    "    return int_to_list(num + 1)        \n",
    "    #/jupman-raise\n",
    "    \n",
    "\n",
    "assert add_one_conv([0]) == [1]\n",
    "assert add_one_conv([1]) == [2]\n",
    "assert add_one_conv([2]) == [3]\n",
    "assert add_one_conv([9]) == [1, 0]\n",
    "assert add_one_conv([5,7]) == [5, 8]\n",
    "assert add_one_conv([5,9]) == [6, 0]\n",
    "assert add_one_conv([9,9]) == [1, 0, 0]\n"
   ]
  },
  {
   "cell_type": "markdown",
   "metadata": {},
   "source": [
    "#### add_one_carry\n",
    "\n",
    "✪✪✪ Given a non-empty array of digits representing a non-negative integer, adds one to the integer.\n",
    "\n",
    "The digits are stored such that the most significant digit is at the head of the list, and each element in the array contain a single digit.\n",
    "\n",
    "You may assume the integer does not contain any leading zero, except the number 0 itself.\n",
    "\n",
    "For example: \n",
    "\n",
    "    Input: [1,2,3]\n",
    "    Output: [1,2,4]\n",
    "\n",
    "    Input: [3,6,9,9]\n",
    "    Output: [3,7,0,0]\n",
    "\n",
    "    Input: [9,9,9,9]\n",
    "    Output: [1,0,0,0,0]\n",
    "\n",
    "To implement it,  directly operate on the list, using a `carry` variable (_riporto_ in italian).\n",
    "\n",
    "Just follow addition as done in elementary school. Start from the last digit and sum one:\n",
    "\n",
    "If you get a number <= 9, that is the result of summing last two digits, and the rest is easy:\n",
    "\n",
    "```\n",
    "596+    carry=0\n",
    "001      \n",
    "----\n",
    "  7     6 + 1 + carry = 7\n",
    "```\n",
    "\n",
    "```\n",
    "596+    carry=0\n",
    "001     \n",
    "----\n",
    " 97     9 + 0 + carry = 9\n",
    "```\n",
    "\n",
    "```\n",
    "596+    carry=0\n",
    "001\n",
    "----\n",
    " 07     5 + 0 + carry = 5\n",
    "```\n",
    "\n",
    "If you get a number bigger than 9, then you put zero and set `carry` to one:\n",
    "\n",
    "\n",
    "```\n",
    "3599+    carry=0\n",
    "0001      \n",
    "-----\n",
    "   0     9 + 1 + carry = 10    # >9, will write zero and set carry to 1\n",
    "```\n",
    "\n",
    "\n",
    "````\n",
    "3599+    carry=1\n",
    "0001     \n",
    "---- \n",
    "  00     9 + 0 + carry = 10   # >9, will write zero and set carry to 1\n",
    "```\n",
    "\n",
    "```\n",
    "3599+    carry=1\n",
    "0001\n",
    "-----\n",
    " 600     5 + 0 + carry = 6    # <= 9, will write result and set carry to zero\n",
    "```\n",
    "\n",
    "```\n",
    "3599+    carry=0\n",
    "0001\n",
    "-----\n",
    "3600     3 + 0 + carry = 3    # <= 9, will write result and set carry to zero\n",
    "```\n",
    "\n",
    "Credits: inspiration taken from [leetcode.com](https://leetcode.com/tag/array/)"
   ]
  },
  {
   "cell_type": "code",
   "execution_count": 29,
   "metadata": {},
   "outputs": [],
   "source": [
    "def add_one_carry(lst):\n",
    "    \"\"\"\n",
    "        Takes a list of digits representing a >= 0 integer without trailing zeroes except zero itself\n",
    "        and RETURN a NEW a list representing the value of lst plus one.\n",
    "        \n",
    "        Implement it using the carry method explained before.\n",
    "    \"\"\"\n",
    "    \n",
    "    #jupman-raise\n",
    "    ret = []\n",
    "    carry = 1\n",
    "    for digit in reversed(lst):\n",
    "        new_digit = digit + carry\n",
    "        if new_digit == 10:\n",
    "            ret.append(0)\n",
    "            carry = 1\n",
    "        else:\n",
    "            ret.append(new_digit)\n",
    "            carry = 0   \n",
    "    if carry == 1:\n",
    "        ret.append(carry)\n",
    "    ret.reverse()\n",
    "    return ret\n",
    "    #/jupman-raise\n",
    "    \n",
    "assert add_one_carry([0]) == [1]\n",
    "assert add_one_carry([1]) == [2]\n",
    "assert add_one_carry([2]) == [3]\n",
    "assert add_one_carry([9]) == [1, 0]\n",
    "assert add_one_carry([5,7]) == [5, 8]\n",
    "assert add_one_carry([5,9]) == [6, 0]\n",
    "assert add_one_carry([9,9]) == [1, 0, 0]\n",
    "\n"
   ]
  },
  {
   "cell_type": "markdown",
   "metadata": {},
   "source": [
    "## Recursive operations\n",
    "\n",
    "Here we deal with recursion. Before doing this, you might wait until doing [Montresor class on recursion theory](http://disi.unitn.it/~montreso/sp/handouts/A06-recursion.pdf)\n",
    "\n",
    "\n",
    "When we have a problem, we try to solve it by splitting its dimension in half (or more), look for solutions in each of the halves and then decide what to do with the found solutions, if any.\n",
    "\n",
    "Several cases may occur:\n",
    "\n",
    "1. No solution is found\n",
    "2. One solution is found\n",
    "3. Two solutions are found\n",
    "\n",
    "case 1): we can only give up. \n",
    "\n",
    "case 2): we have only one solution, so we can just return that one.\n",
    "\n",
    "case 3): we have two solutions, so we need to decide what is the purpose of the algorithm.\n",
    "\n",
    "Is the purpose to ...\n",
    "\n",
    "- find all possible solutions? Then we return both of them. \n",
    "\n",
    "- find the _best_ solution, according to some measure of 'goodness'? Then we measure each of the solutions and give back the highest scoring one.\n",
    "\n",
    "- always provide a _combination_ of existing solutions, according to some combination method? Then we combine the found solutions and give them back"
   ]
  },
  {
   "cell_type": "markdown",
   "metadata": {},
   "source": [
    "### gap_rec\n",
    "\n",
    "✪✪ In a list $L$ containing $n≥2$ integers, a gap is an index $i$, $0< i < n$, such that $L[i−1]< L[i]$\n",
    "\n",
    "If $n≥2$ and $L[0]< L[n−1]$, $L$ contains at least one gap\n",
    "\n",
    "Design an algorithm that, given a  list $L$ containing $n≥2$ integers such that $L[0]< L[n−1]$, finds a gap in the list.\n",
    "\n",
    "Try to code and test the `gap` function. To avoid displaying directly Python, here we wrote it as pseudocode:\n",
    "    \n",
    "![](img/recursive-gap.png)\n",
    "\n",
    "Use the following skeleton to code it and add some test to the provided testcase class.To understand what's going on, try copy pasting in [Python tutor](http://pythontutor.com/visualize.html#mode=edit)\n",
    "\n",
    "Notice that\n",
    "\n",
    "* We created a function `gap_rec` to differentiate it from the iterative one\n",
    "* Users of `gap_rec` function might want to call it by passing just a list, in order to find any gap in the whole list. So for convenience the new function `gap_rec(L)` only accepts a list, without indexes `i` and `j`. This function just calls the other function `gap_rec_helper` that will actually contain the recursive calls. So your task is to translate the pseudocode of `gap` into the Python code of `gap_rec_helper`, which takes as input the array and the indexes as `gap` does. Adding a helper function is a frequent pattern you can find when programming recursive functions.\n"
   ]
  },
  {
   "cell_type": "markdown",
   "metadata": {},
   "source": [
    "<div class=\"alert alert-warning\">\n",
    "\n",
    "**WARNING**: The specification of gap_rec assumes the input is always a list of at least\n",
    "    two elements, and that the first element is less or equal than the last one. <i>If these \n",
    "    conditions are not met, function behaviour could be completely erroneus! </i>\n",
    "</div>\n"
   ]
  },
  {
   "cell_type": "markdown",
   "metadata": {},
   "source": [
    "When preconditions are not met, execution could stop because of an error like index out of bounds, or, even worse, we might get back some wrong index as a gap! To prevent misuse of the function, a good idea can be putting a check at the beginning of the `gap_rec` function. Such check should immediately stop the execution and raise an error if the parameters don't satisfy the preconditions. One way to do this could be to to some [assertion](https://datasciprolab.readthedocs.io/en/latest/exercises/testing/testing.html#Assertions) like this: \n",
    "    \n",
    "```python\n",
    "    def gap_rec(L, i , j):\n",
    "        assert len(L) >= 2\n",
    "        assert L[0] <= L[len(L)-1]        \n",
    "\n",
    "```\n",
    "    \n",
    "* These commands will make python interrupt execution and throw an error as soon it detects list `L` is too small or with wrong values\n",
    "* This kind of behaviour is also called _fail fast_, which is better than returning wrong values! \n",
    "* You can put any condition you want after `assert`, but ideally they should be fast to execute.\n",
    "* asserts might be better here than `raise Exception` constructs because asserts can be disabled with a flag passed to the interpreter. So, when you debug you can take advantage of them, and when the code is production quality and supposed to be bug free you can disable all assertions at once to gain in execution speed.\n"
   ]
  },
  {
   "cell_type": "markdown",
   "metadata": {},
   "source": [
    "<div class=\"alert alert-info\">\n",
    "\n",
    "**GOOD PRACTICE**: Notice I wrote as a comment what the helper function is expected to receive. Writing down specs often \n",
    "    helps understanding what the function is supposed to do, and helps users of your code as well!\n",
    "</div>\n",
    "\n"
   ]
  },
  {
   "cell_type": "markdown",
   "metadata": {},
   "source": [
    "<div class=\"alert alert-info\" >\n",
    "**COMMANDMENT 2**: You shall also write on paper!\n",
    "</div>"
   ]
  },
  {
   "cell_type": "markdown",
   "metadata": {},
   "source": [
    "To get an idea of how `gap_rec` is working, draw histograms on paper like the following, with different heights at index `m`:"
   ]
  },
  {
   "cell_type": "markdown",
   "metadata": {},
   "source": [
    "![](img/gap-rec-histogram.png)"
   ]
  },
  {
   "cell_type": "markdown",
   "metadata": {},
   "source": [
    "Notice how at each recursive call, we end up with a histogram that is similar to the inital one, that is, it respects the same preconditions (a list of size >= 2 where first element is smaller or equal than the last one)"
   ]
  },
  {
   "cell_type": "code",
   "execution_count": 30,
   "metadata": {},
   "outputs": [],
   "source": [
    "def gap_rec(L, i, j):\n",
    "    #jupman-raise\n",
    "    if j == i+1:\n",
    "        return j\n",
    "    else:\n",
    "        m = (i+j) // 2\n",
    "        if L[m] < L[j]:\n",
    "            return gaprec(L,m,j)\n",
    "        else:\n",
    "            return gaprec(L,i,m)        \n",
    "    #/jupman-raise\n",
    "\n",
    "def gap(L):\n",
    "    #jupman-raise\n",
    "    return gap_rec(L, 0, len(L) - 1)\n",
    "    #/jupman-raise\n",
    "    \n",
    "# try also to write asserts\n"
   ]
  },
  {
   "cell_type": "markdown",
   "metadata": {},
   "source": [
    "## Further resources\n",
    "\n",
    "Have a look at [leetcode array problems](https://leetcode.com/tag/array/) sorting by _Acceptance_ and _Easy_.\n",
    "\n",
    "In particular, you may check:\n",
    "\n",
    "* [Contains Duplicate](https://leetcode.com/problems/contains-duplicate/description/)\n",
    "* [Sort array by parity](https://leetcode.com/problems/sort-array-by-parity/description/)\n",
    "* [Max consecutive ones](https://leetcode.com/problems/max-consecutive-ones/description/)\n",
    "* [Fair Candy Swap](https://leetcode.com/problems/fair-candy-swap/description/)\n",
    "* [Move Zeros](https://leetcode.com/problems/move-zeroes/description/)\n",
    "* [Rotated Digits](https://leetcode.com/problems/rotated-digits/description/)\n",
    "* [Missing number](https://leetcode.com/problems/missing-number/description/) - has many possible solutions\n",
    "* [Find all numbers disappeared in an array](https://leetcode.com/problems/find-all-numbers-disappeared-in-an-array/description/)\n",
    "* [Majority Element](https://leetcode.com/problems/majority-element/description/)\n",
    "* [Degree of an array](https://leetcode.com/problems/degree-of-an-array/description/)\n",
    "* [Array partition 1](https://leetcode.com/problems/array-partition-i/description/) actually a bit hard but makes you think\n",
    "\n"
   ]
  },
  {
   "cell_type": "code",
   "execution_count": null,
   "metadata": {},
   "outputs": [],
   "source": []
  }
 ],
 "metadata": {
  "celltoolbar": "Edit Metadata",
  "kernelspec": {
   "display_name": "Python 3",
   "language": "python",
   "name": "python3"
  },
  "language_info": {
   "codemirror_mode": {
    "name": "ipython",
    "version": 3
   },
   "file_extension": ".py",
   "mimetype": "text/x-python",
   "name": "python",
   "nbconvert_exporter": "python",
   "pygments_lexer": "ipython3",
   "version": "3.5.2"
  },
  "toc": {
   "base_numbering": 1,
   "nav_menu": {},
   "number_sections": false,
   "sideBar": true,
   "skip_h1_title": false,
   "title_cell": "Table of Contents",
   "title_sidebar": "Contents",
   "toc_cell": false,
   "toc_position": {
    "height": "calc(100% - 180px)",
    "left": "10px",
    "top": "150px",
    "width": "378px"
   },
   "toc_section_display": true,
   "toc_window_display": true
  }
 },
 "nbformat": 4,
 "nbformat_minor": 2
}
