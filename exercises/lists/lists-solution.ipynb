{
 "cells": [
  {
   "cell_type": "code",
   "execution_count": 1,
   "metadata": {
    "nbsphinx": "hidden"
   },
   "outputs": [],
   "source": [
    "#Please execute this cell\n",
    "import sys;\n",
    "sys.path.append('../../'); \n",
    "import jupman;\n"
   ]
  },
  {
   "cell_type": "markdown",
   "metadata": {},
   "source": [
    "# Lists solutions\n",
    "\n",
    "## [Download exercises zip](../../_static/lists-exercises.zip)\n",
    "\n",
    "[Browse files online](https://github.com/DavidLeoni/datasciprolab/tree/master/exercises/lists)\n",
    "\n",
    "\n",
    "\n"
   ]
  },
  {
   "cell_type": "markdown",
   "metadata": {},
   "source": [
    "\n",
    "## What to do\n",
    "\n",
    "- unzip exercises in a folder, you should get something like this: \n",
    "\n",
    "```\n",
    "\n",
    "-jupman.py\n",
    "-my_lib.py\n",
    "-other stuff ...\n",
    "-exercises\n",
    "     |- lists\n",
    "         |- lists-exercise.ipynb     \n",
    "         |- lists-solution.ipynb\n",
    "         |- other stuff ..\n",
    "```\n",
    "\n",
    "<div class=\"alert alert-warning\">\n",
    "\n",
    "**WARNING**: to correctly visualize the notebook, it MUST be in an unzipped folder !\n",
    "</div>\n",
    "\n",
    "\n",
    "- open Jupyter Notebook from that folder. Two things should open, first a console and then browser. The browser should show a file list: navigate the list and open the notebook `exercises/lists/lists-exercise.ipynb`\n",
    "\n",
    "<div class=\"alert alert-warning\">\n",
    "\n",
    "**WARNING 2**: DO NOT use the _Upload_ button in Jupyter, instead navigate in Jupyter browser to the unzipped folder !\n",
    "</div>\n",
    "\n",
    "\n",
    "- Go on reading that notebook, and follow instuctions inside.\n",
    "\n",
    "\n",
    "Shortcut keys:\n",
    "\n",
    "- to execute Python code inside a Jupyter cell, press `Control + Enter`\n",
    "- to execute Python code inside a Jupyter cell AND select next cell, press `Shift + Enter`\n",
    "- to execute Python code inside a Jupyter cell AND a create a new cell aftwerwards, press `Alt + Enter`\n",
    "- If the notebooks look stuck, try to select `Kernel -> Restart`\n",
    "\n",
    "\n",
    "\n"
   ]
  },
  {
   "cell_type": "markdown",
   "metadata": {},
   "source": [
    "## Implement functions"
   ]
  },
  {
   "cell_type": "markdown",
   "metadata": {},
   "source": [
    "### newdoublefor"
   ]
  },
  {
   "cell_type": "code",
   "execution_count": 2,
   "metadata": {},
   "outputs": [],
   "source": [
    "def newdoublefor(lst):\n",
    "    \"\"\" Takes a list of integers in input and RETURN a NEW one with all \n",
    "        the numbers of lst doubled. Implement it with a for.\n",
    "\n",
    "        Example:\n",
    "        \n",
    "                newdouble([3,7,1])\n",
    "\n",
    "        returns:\n",
    "\n",
    "                [6,14,2]\n",
    "    \"\"\"\n",
    "    #jupman-raise    \n",
    "    ret = []\n",
    "    for x in lst:\n",
    "        ret.append(x*2)\n",
    "    return ret\n",
    "    #/jupman-raise    \n",
    "\n",
    "assert newdoublefor([]) == []\n",
    "assert newdoublefor([3]) == [6]\n",
    "assert newdoublefor([3,7,1]) == [6,14,2]\n",
    "\n",
    "l = [3,7,1]\n",
    "assert newdoublefor(l) == [6,14,2]\n",
    "assert l == [3,7,1]\n"
   ]
  },
  {
   "cell_type": "markdown",
   "metadata": {},
   "source": [
    "### double"
   ]
  },
  {
   "cell_type": "code",
   "execution_count": 3,
   "metadata": {},
   "outputs": [],
   "source": [
    "def double(lst):\n",
    "    \"\"\" Takes a list of integers in input and MODIFIES it by doubling all the numbers\n",
    "    \"\"\"\n",
    "    \n",
    "    #jupman-raise    \n",
    "    for i in range(len(lst)):\n",
    "        lst[i] = lst[i] * 2\n",
    "    #/jupman-raise\n",
    "        \n",
    "l = []\n",
    "double(l)\n",
    "assert l == []\n",
    "\n",
    "l = [3]\n",
    "double(l)\n",
    "assert l == [6]\n",
    "\n",
    "        \n",
    "l = [3,7,1]\n",
    "double(l)\n",
    "assert l == [6,14,2]"
   ]
  },
  {
   "cell_type": "markdown",
   "metadata": {},
   "source": [
    "### newdoublecomp"
   ]
  },
  {
   "cell_type": "code",
   "execution_count": 4,
   "metadata": {},
   "outputs": [],
   "source": [
    "def newdoublecomp(lst):\n",
    "    \"\"\" Takes a list of integers in input and RETURN a NEW one with all \n",
    "        the numbers of lst doubled. Implement it as a list comprehnsion\n",
    "\n",
    "        Example:\n",
    "        \n",
    "                newdouble([3,7,1])\n",
    "\n",
    "        returns:\n",
    "\n",
    "                [6,14,2]\n",
    "    \"\"\"\n",
    "    #jupman-raise\n",
    "    return [x*2 for x in lst]\n",
    "    #/jupman-raise\n",
    "    \n",
    "assert newdoublecomp([]) == []\n",
    "assert newdoublecomp([3]) == [6]\n",
    "assert newdoublecomp([3,7,1]) == [6,14,2]\n",
    "\n",
    "l = [3,7,1]\n",
    "assert newdoublecomp(l) == [6,14,2]\n",
    "assert l == [3,7,1]"
   ]
  },
  {
   "cell_type": "markdown",
   "metadata": {},
   "source": [
    "### up"
   ]
  },
  {
   "cell_type": "code",
   "execution_count": 5,
   "metadata": {},
   "outputs": [],
   "source": [
    "def up(lst):\n",
    "    \"\"\" Takes a list of strings and RETURN a NEW list having all the strings in lst in capital\n",
    "        (use .upper() method and a list comprehension )\n",
    "    \"\"\"\n",
    "    #jupman-raise    \n",
    "    return [x.upper() for x in lst]\n",
    "    #/jupman-raise\n",
    "    \n",
    "assert up([]) == []\n",
    "assert up(['']) == ['']\n",
    "assert up(['a']) == ['A']\n",
    "assert up(['aA']) == ['AA']\n",
    "assert up(['Ba']) == ['BA']\n",
    "assert up(['Ba', 'aC']) == ['BA','AC']\n",
    "assert up(['Ba dA']) == ['BA DA']\n",
    "\n",
    "l = ['ciAo']\n",
    "assert up(l) == ['CIAO']\n",
    "assert l == ['ciAo']"
   ]
  },
  {
   "cell_type": "markdown",
   "metadata": {},
   "source": [
    "### remall"
   ]
  },
  {
   "cell_type": "code",
   "execution_count": 6,
   "metadata": {},
   "outputs": [],
   "source": [
    "def remall(list1, list2):\n",
    "    \"\"\" RETURN a NEW list which has the elements from list2 except the elements in list1\n",
    "    \"\"\"  \n",
    "    #jupman-raise    \n",
    "    list3 = list2[:]\n",
    "    for x in list1:\n",
    "        if x in list3:\n",
    "            list3.remove(x)\n",
    "    \n",
    "    return list3\n",
    "    #/jupman-raise    \n",
    "\n",
    "    \n",
    "\n",
    "assert remall([],[]) == []\n",
    "assert remall(['a'], []) == []\n",
    "assert remall([], ['a']) == ['a']\n",
    "assert remall(['a'], ['a']) == []\n",
    "assert remall(['b'], ['a']) == ['a']\n",
    "assert remall(['a', 'b'], ['a','c','b']) == ['c']\n",
    "\n",
    "assert remall(['a','d'], ['a','c','d','b']) == ['c', 'b']"
   ]
  },
  {
   "cell_type": "markdown",
   "metadata": {},
   "source": [
    "### collatz\n",
    "\n",
    "More challenging, implement this function from Montresor slides (the Collatz conjecture says that starting from any n you end up to 1): \n",
    "\n",
    "The 3n +1 sequence is defined like this: given a number n , compute a new value for n as follow: if n is even, divide n by 2 . If n is odd, multiply it by 3 and add 1 . Stop when you reach the value of 1 . Example: for n = 3 , the sequence is [3 , 10 , 5 , 16 , 8 , 4 , 2 , 1] . Write a program that creates a list D , such that for each value n between 1 and 50 , D [ n ] contains the length of the sequence so generated. In case of n = 3 , the length is 8 . In case of n = 27 , the length is 111 .\n",
    "\n",
    "If you need to check your results, you can also try this [nice online tool](https://www.dcode.fr/collatz-conjecture)"
   ]
  },
  {
   "cell_type": "code",
   "execution_count": 7,
   "metadata": {},
   "outputs": [],
   "source": [
    "def collatz():\n",
    "    \"\"\" Return D\"\"\"\n",
    "    raise Exception(\"TODO IMPLEMENT ME !\")"
   ]
  },
  {
   "cell_type": "markdown",
   "metadata": {},
   "source": [
    "### gap_rec\n",
    "\n",
    "In a list $L$ containing $n≥2$ integers, a gap is an index $i$, $0< i < n$, such that $L[i−1]< L[i]$\n",
    "\n",
    "If $n≥2$ and $L[0]< L[n−1]$, $L$ contains at least one gap\n",
    "\n",
    "Design an algorithm that, given a  list $L$ containing $n≥2$ integers such that $L[0]< L[n−1]$, finds a gap in the list.\n",
    "\n",
    "Try to code and test the `gap` function. To avoid displaying directly Python, here we wrote it as pseudocode:\n",
    "    \n",
    "![](img/recursive-gap.png)\n",
    "\n",
    "Use the following skeleton to code it and add some test to the provided testcase class.To understand what's going on, try copy pasting in [Python tutor](http://pythontutor.com/visualize.html#mode=edit)\n",
    "\n",
    "Notice that\n",
    "\n",
    "* We created a function `gap_rec` to differentiate it from the iterative one\n",
    "* Users of `gap_rec` function might want to call it by passing just a list, in order to find any gap in the whole list. So for convenience the new function `gap_rec(L)` only accepts a list, without indexes `i` and `j`. This function just calls the other function `gap_rec_helper` that will actually contain the recursive calls. So your task is to translate the pseudocode of `gap` into the Python code of `gap_rec_helper`, which takes as input the array and the indexes as `gap` does. Adding a helper function is a frequent pattern you can find when programming recursive functions.\n"
   ]
  },
  {
   "cell_type": "markdown",
   "metadata": {},
   "source": [
    "<div class=\"alert alert-warning\">\n",
    "\n",
    "**WARNING**: The specification of gap_rec assumes the input is always a list of at least\n",
    "    two elements, and that the first element is less or equal than the last one. <i>If these \n",
    "    conditions are not met, function behaviour could be completely erroneus! </i>\n",
    "</div>\n"
   ]
  },
  {
   "cell_type": "markdown",
   "metadata": {},
   "source": [
    "When preconditions are not met, execution could stop because of an error like index out of bounds, or, even worse, we might get back some wrong index as a gap! To prevent misuse of the function, a good idea can be putting a check at the beginning of the `gap_rec` function. Such check should immediately stop the execution and raise an error if the parameters don't satisfy the preconditions. One way to do this could be to write some [assertion](testing#Assertions) like this: \n",
    "    \n",
    "```python\n",
    "    assert len(L) >= 2\n",
    "    assert L[0] <= L[len(L)-1]        \n",
    "\n",
    "```\n",
    "    \n",
    "* These commands will make python interrupt execution and throw an error as soon it detects list `L` is too small or with wrong values\n",
    "* This kind of behaviour is also called _fail fast_, which is better than returning wrong values! \n",
    "* You can put any condition you want after `assert`, but ideally they should be fast to execute.\n"
   ]
  },
  {
   "cell_type": "markdown",
   "metadata": {},
   "source": [
    "<div class=\"alert alert-info\">\n",
    "\n",
    "**GOOD PRACTICE**: Notice I wrote as a comment what the helper function is expected to receive. Writing down specs often \n",
    "    helps understanding what the function is supposed to do, and helps users of your code as well!\n",
    "</div>\n",
    "\n"
   ]
  },
  {
   "cell_type": "markdown",
   "metadata": {},
   "source": [
    "<div class=\"alert alert-info\" >\n",
    "**COMMANDMENT 2**: You shall also write on paper!\n",
    "</div>"
   ]
  },
  {
   "cell_type": "markdown",
   "metadata": {},
   "source": [
    "To get an idea of how `gap_rec` is working, draw histograms on paper like the following, with different heights at index `m`:"
   ]
  },
  {
   "cell_type": "markdown",
   "metadata": {},
   "source": [
    "![](img/gap-rec-histogram.png)"
   ]
  },
  {
   "cell_type": "markdown",
   "metadata": {},
   "source": [
    "Notice how at each recursive call, we end up with a histogram that is similar to the inital one, that is, it respects the same preconditions (a list of size >= 2 where first element is smaller or equal than the last one)"
   ]
  },
  {
   "cell_type": "code",
   "execution_count": 8,
   "metadata": {},
   "outputs": [],
   "source": [
    "def gap_rec(L, i, j):\n",
    "    #jupman-raise\n",
    "    if j == i+1:\n",
    "        return j\n",
    "    else:\n",
    "        m = (i+j) // 2\n",
    "        if L[m] < L[j]:\n",
    "            return gaprec(L,m,j)\n",
    "        else:\n",
    "            return gaprec(L,i,m)        \n",
    "    #/jupman-raise\n",
    "\n",
    "def gap(L):\n",
    "    #jupman-raise\n",
    "    return gap_rec(L, 0, len(L) - 1)\n",
    "    #/jupman-raise\n",
    "    \n",
    "# try also to write asserts\n"
   ]
  }
 ],
 "metadata": {
  "celltoolbar": "Edit Metadata",
  "kernelspec": {
   "display_name": "Python 3",
   "language": "python",
   "name": "python3"
  },
  "language_info": {
   "codemirror_mode": {
    "name": "ipython",
    "version": 3
   },
   "file_extension": ".py",
   "mimetype": "text/x-python",
   "name": "python",
   "nbconvert_exporter": "python",
   "pygments_lexer": "ipython3",
   "version": "3.5.2"
  },
  "toc": {
   "base_numbering": 1,
   "nav_menu": {},
   "number_sections": false,
   "sideBar": true,
   "skip_h1_title": false,
   "title_cell": "Table of Contents",
   "title_sidebar": "Contents",
   "toc_cell": false,
   "toc_position": {},
   "toc_section_display": true,
   "toc_window_display": true
  }
 },
 "nbformat": 4,
 "nbformat_minor": 2
}
