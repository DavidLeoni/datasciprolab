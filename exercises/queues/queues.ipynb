{
 "cells": [
  {
   "cell_type": "code",
   "execution_count": 1,
   "metadata": {
    "nbsphinx": "hidden"
   },
   "outputs": [],
   "source": [
    "#Please execute this cell\n",
    "import sys;\n",
    "sys.path.append('../../'); \n",
    "import jupman;"
   ]
  },
  {
   "cell_type": "markdown",
   "metadata": {
    "collapsed": true
   },
   "source": [
    "\n",
    "#  Queues\n",
    "\n",
    "\n",
    "## [Download exercises zip](../../_static/queues-exercises.zip) \n",
    "(before editing read whole introduction section 0.x)\n",
    "\n",
    "[Browse files online](https://github.com/DavidLeoni/datasciprolab/tree/master/exercises/queues)\n",
    "\n",
    "\n",
    "\n",
    "### What to do\n",
    "\n",
    "- unzip exercises in a folder, you should get something like this: \n",
    "\n",
    "```\n",
    "\n",
    "-jupman.py\n",
    "-sciprog.py\n",
    "-other stuff ...\n",
    "-exercises\n",
    "     |-queues\n",
    "         |- queues.ipynb         \n",
    "         |- circular_queue_exercise.py\n",
    "         |- circular_queue_test.py\n",
    "         |- circular_queue_solution.py\n",
    "         |- other stuff ..\n",
    "```\n",
    "\n",
    "\n",
    "- open the editor of your choice (for example Visual Studio Code, Spyder or PyCharme), you will edit the files ending in `_exercise.py` files\n",
    "- Go on reading this notebook, and follow instuctions inside.\n"
   ]
  },
  {
   "cell_type": "markdown",
   "metadata": {},
   "source": [
    "## Introduction\n",
    "\n",
    "In these exercises, you will be implementing a `CircularQueue` and an `ItalianQueue`.\n",
    "\n",
    "* See [theory slides](http://disi.unitn.it/~montreso/sp/slides/B02-strutture.pdf) from slide 57 (Queue)\n",
    "* See [Queue Abstract Data Type](http://interactivepython.org/runestone/static/pythonds/BasicDS/WhatIsaQueue.html) on the book\n",
    "* See [Implementing a Queue in Python](http://interactivepython.org/runestone/static/pythonds/BasicDS/ImplementingaQueueinPython.html) on the book\n",
    "\n",
    "\n",
    "## 1 Circular Queue\n",
    "\n",
    "### 1.0 Introduction\n",
    "\n",
    "From the slides you can use this pseudo code: \n",
    "\n",
    "![](img/circular-queue-pseudocode.png)\n",
    "\n"
   ]
  },
  {
   "cell_type": "markdown",
   "metadata": {},
   "source": [
    "**QUESTION 1.1**: Pseudo code is meant to give a general overview of the algorithms, and can often leave out implementation details, such as defining what to do when things don't work as expected. If you were to implement this in a real life scenario, do you see any particular problem? \n",
    "\n",
    "In our implementation, we will:\n",
    "\n",
    "* use more pythonic names, with underscores instead of camelcase.\n",
    "* explicitly handle exceptions and corner cases\n",
    "* be able to insert any kind of object in the queue\n",
    "* Initial queue will be populated with `None` objects, and will have length set to provided capacity\n",
    "* `_size` is the current dimension of the queue, which is different from the initial provided `capacity`.\n",
    "* we consider `capacity` as fixed: it will never change during execution. For this reason, since we use a Python list to represent the data, we don't need an extra variable to hold it, just getting the list length will suffice.\n",
    "* `_head` is an _index_ pointing to the _next_ element to be dequeued\n",
    "* elements are inserted at the position pointed to by `(_head + _size) % capacity()`, and dequeued from position pointed by `_head`. The module `%` operator allows using a list as it were circular, that is, if an index apparently falls outside the list, with the modulus it gets transformed to a small index. Since `_size` can never exceed `capacity()`,  the formula `(_head + _size) % capacity()` never points to a place which could overwrite elements not yet dequeued, except cases when the queue has `_size==0` or `_size==capacity()` which are to be treated as special.\n",
    "* enqueuing and dequeing operations **don't** modify list length !\n",
    "\n",
    "**QUESTION 1.2**: If we can insert any kind of object in the queue including `None`, are we going to have troubles with definitions like `top()` above?\n"
   ]
  },
  {
   "cell_type": "markdown",
   "metadata": {},
   "source": [
    "### 1.1 Implementation\n",
    "\n",
    "Implement methods in file `circular_queue_exercise.py` in the order they are presented, and test them with `circular_queue_test.py`\n",
    "\n",
    "```bash\n",
    "python3 -m unittest circular_queue_test\n",
    "```\n"
   ]
  },
  {
   "cell_type": "markdown",
   "metadata": {},
   "source": [
    "## 2 Italian Queue\n",
    "\n",
    "You will implement an `ItalianQueue`, modelled as a LinkedList with two pointers, a `_head` and a `_tail`.\n",
    "\n",
    "* an element is enqueued scanning from `_head` until a matching group is found, in which case are inserted after (that is, at the right) of the matching group, otherwise the element is appended at the `_tail` \n",
    "* an element is dequeued from the `_head`\n",
    "\n",
    "Implement methods in file `italian_queue_exercise.py` in the order they are presented, and test them with `italian_queue_test.py`\n",
    "\n",
    "```bash\n",
    "python3 -m unittest italian_queue_test\n",
    "```\n",
    "\n",
    "To gain some understanding about the data structure, look at the following excerpts.\n",
    "\n",
    "Excerpt from `Node`:\n",
    "\n",
    "```python\n",
    "\n",
    "class Node:\n",
    "    \"\"\" A Node of an ItalianQueue. \n",
    "        Holds both data and group provided by the user. \n",
    "    \"\"\"\n",
    "    \n",
    "    def __init__(self, initdata, initgroup):\n",
    "    def get_data(self):\n",
    "    def get_group(self):    \n",
    "    def get_next(self):\n",
    "    \n",
    "    # etc ..\n",
    "```\n",
    "\n",
    "\n",
    "Excerpt from `ItalianQueue` class:\n",
    "\n",
    "```python\n",
    "\n",
    "class ItalianQueue:\n",
    "    \"\"\" An Italian circular queue, v1.  \n",
    "    \n",
    "        - Implemented as a LinkedList\n",
    "        - Worst case enqueue is O(n)\n",
    "        - has extra methods, for accessing groups and tail:\n",
    "            - top_group()\n",
    "            - tail()\n",
    "            - tail_group()\n",
    "                        \n",
    "        Each element is assigned a group; during enqueing, queue is scanned from head to tail\n",
    "        to find if there is another element with a matching group. \n",
    "        - If there is, element to be enqueued is inserted after the last element in the same\n",
    "          group sequence (that is, to the right of the group)\n",
    "        - otherwise the element is inserted at the end of the queue\n",
    "    \"\"\"\n",
    "    \n",
    "    def __init__(self):\n",
    "        \"\"\" Initializes the queue. Note there is no capacity as parameter\n",
    "                \n",
    "            - Complexity: O(1)\n",
    "        \"\"\"\n",
    "```\n",
    "\n",
    "\n",
    "\n",
    "### 2.1  Slow enqueue\n",
    "\n",
    "Implement methods in `italian_queue.py`, in the order they are listed, so to have a version 1 with an  `enqueue` running in $O(n)$ where $n$ is the queue size.  \n",
    "\n",
    "Run tests with this:\n",
    "\n",
    "```bash\n",
    "python3 -m unittest italian_queue_test\n",
    "```\n",
    "\n",
    "**QUESTION**: The ItalianQueue was implemented as a LinkedList. Even if this time we don't care much about perfomance, if we wanted an efficient `enqueue` operation, could we start with a circular data structure ? Or would you prefer improving a LinkedList ?\n",
    "\n",
    "\n",
    "### 2.2 Fast enqueue - hard \n",
    "\n",
    "#### 2.2.1 Save a copy of your work\n",
    "\n",
    "You already wrote a lot of code, and you don't want to lose it, right? Since we are going to make many modifications, when you reach a point when the code does something useful, it is good practice to save a copy of what you have done somewhere, so if you later screw up something, you can always restore the copy.\n",
    "\n",
    "* Copy the whole folder `queues` in a new folder `queues_v1` \n",
    "* Add also in the copied folder a separate `README.txt` file, writing inside the version (like `1.0`), the date, and a description of the main features you implemented (for example \"Simple Italian Queue, not particularly performant\").\n",
    "* Backing up the work is a form of the so-called _versioning_ : there are much better ways to do it (like using [git](https://git-scm.com)) but we don't address them here.\n",
    "\n",
    "<br/>\n",
    "\n",
    "<div class=\"alert alert-warning\" >\n",
    "\n",
    "**WARNING:** **DO NOT SKIP THIS STEP!** \n",
    "\n",
    "No matter how smart you are, you _will_ fail, and a backup may be the only way out. \n",
    "</div>\n",
    "\n",
    "\n",
    "#### 2.2.2 Improve enqueue \n",
    "\n",
    "Improve `enqueue` so it works in $O(1)$ \n",
    "\n",
    "**HINT**: \n",
    "\n",
    "* You will need an extra data structure that keeps track of the starting points of each group and how they are ordered\n",
    "* You will also need to update this data structure as `enqueue` and `dequeue` calls are made\n"
   ]
  },
  {
   "cell_type": "markdown",
   "metadata": {},
   "source": [
    "## 3 LinkedQueue \n",
    "\n",
    "Open `linked_queue_exercise.py`. \n",
    "\n",
    "You are given a queue implemented as a LinkedList, with usual `_head` pointer plus additional `_tail` pointer and `_size` counter\n",
    "\n",
    "- Data in enqueued at he right, in the tail\n",
    "- Data is dequeued at the left, removing it from the head\n",
    "\n",
    "Example, where the arrows represent _next pointers:\n",
    "\n",
    "```\n",
    "_head                        _tail\n",
    "    a -> b -> c -> d -> e -> f\n",
    "```\n",
    "\n",
    "In this exercise you will implement the methods `enqn(lst)` and `deqn(n)` which respectively enqueue a python list of n elements and dequeue n elements, returning python a list of them.\n",
    "\n",
    "Here we show an example usage, see to next points for detailed instructions.\n",
    "\n",
    "**Example:**"
   ]
  },
  {
   "cell_type": "code",
   "execution_count": 2,
   "metadata": {},
   "outputs": [],
   "source": [
    "from linked_queue_solution import *"
   ]
  },
  {
   "cell_type": "code",
   "execution_count": 3,
   "metadata": {},
   "outputs": [],
   "source": [
    "q = LinkedQueue()"
   ]
  },
  {
   "cell_type": "code",
   "execution_count": 4,
   "metadata": {},
   "outputs": [
    {
     "name": "stdout",
     "output_type": "stream",
     "text": [
      "LinkedQueue: \n"
     ]
    }
   ],
   "source": [
    "print(q)"
   ]
  },
  {
   "cell_type": "code",
   "execution_count": 5,
   "metadata": {},
   "outputs": [],
   "source": [
    "q.enqn(['a','b','c'])"
   ]
  },
  {
   "cell_type": "markdown",
   "metadata": {},
   "source": [
    "Return nothing, queue becomes:        \n",
    "\n",
    "```\n",
    "         _head         _tail\n",
    "              a -> b -> c\n",
    "```\n"
   ]
  },
  {
   "cell_type": "code",
   "execution_count": 6,
   "metadata": {},
   "outputs": [],
   "source": [
    "q.enqn(['d'])"
   ]
  },
  {
   "cell_type": "markdown",
   "metadata": {},
   "source": [
    "Return nothing, queue becomes:\n",
    "\n",
    "```        \n",
    "          _head              _tail\n",
    "              a -> b -> c -> d\n",
    "```        "
   ]
  },
  {
   "cell_type": "code",
   "execution_count": 7,
   "metadata": {},
   "outputs": [],
   "source": [
    "q.enqn(['e','f'])\n",
    "\n"
   ]
  },
  {
   "cell_type": "markdown",
   "metadata": {},
   "source": [
    "Return nothing, queue becomes:\n",
    "\n",
    "```\n",
    "          _head                        _tail\n",
    "              a -> b -> c -> d -> e -> f\n",
    "```\n",
    "\n"
   ]
  },
  {
   "cell_type": "code",
   "execution_count": 8,
   "metadata": {},
   "outputs": [
    {
     "data": {
      "text/plain": [
       "['a', 'b', 'c']"
      ]
     },
     "execution_count": 8,
     "metadata": {},
     "output_type": "execute_result"
    }
   ],
   "source": [
    "q.deqn(3)\n",
    "\n"
   ]
  },
  {
   "cell_type": "markdown",
   "metadata": {},
   "source": [
    "Returns ['d', 'e', 'f'] and queue becomes:\n",
    "\n",
    "```\n",
    "        _head         _tail\n",
    "              a -> b -> c\n",
    "```\n"
   ]
  },
  {
   "cell_type": "code",
   "execution_count": 9,
   "metadata": {},
   "outputs": [
    {
     "data": {
      "text/plain": [
       "['d']"
      ]
     },
     "execution_count": 9,
     "metadata": {},
     "output_type": "execute_result"
    }
   ],
   "source": [
    "q.deqn(1)\n",
    "\n"
   ]
  },
  {
   "cell_type": "markdown",
   "metadata": {},
   "source": [
    "Returns ['c'] and queue becomes:\n",
    "\n",
    "```\n",
    "          _head    _tail\n",
    "              a -> b\n",
    "```\n"
   ]
  },
  {
   "cell_type": "markdown",
   "metadata": {},
   "source": [
    "```python\n",
    "q.deqn(5)\n",
    "\n",
    "---------------------------------------------------------------------------\n",
    "LookupError                               Traceback (most recent call last)\n",
    "<ipython-input-55-e68c2e9949d0> in <module>()\n",
    "      1 \n",
    "----> 2 q.deqn(5)\n",
    "\n",
    "~/Da/prj/datasciprolab/prj/exercises/queues/linked_queue_solution.py in deqn(self, n)\n",
    "    202         #jupman-raise\n",
    "    203         if n > self._size:\n",
    "--> 204             raise LookupError('Asked to dequeue %s elements, but only %s are available!' % (n, self._size))\n",
    "    205 \n",
    "    206         ret = []\n",
    "\n",
    "LookupError: Asked to dequeue 5 elements, but only 2 are available!\n",
    "\n",
    "```"
   ]
  },
  {
   "cell_type": "markdown",
   "metadata": {},
   "source": [
    "Raises `LookupError` as there aren't enough elements to remove\n"
   ]
  },
  {
   "cell_type": "markdown",
   "metadata": {},
   "source": [
    "### 3.1 enqn\n",
    "\n",
    "Implement the method `enqn`:\n",
    "\n",
    "```python\n",
    "    def enqn(self, lst):\n",
    "        \"\"\" Enqueues provided list of elements at the tail of the queue\n",
    "\n",
    "            - Required complexity: O(len(lst))\n",
    "            - NOTE: remember to update the _size and _tail\n",
    "\n",
    "            Example: supposing arrows represent _next pointers:\n",
    "\n",
    "          _head         _tail\n",
    "              a -> b -> c\n",
    "\n",
    "            Calling\n",
    "\n",
    "            q.enqn(['d', 'e', 'f', 'g'])\n",
    "\n",
    "            will produce the queue:\n",
    "\n",
    "          _head                             _tail\n",
    "              a -> b -> c -> d -> e -> f -> g\n",
    "\n",
    "```\n",
    "\n",
    "**Testing**: `python3 -m unittest linked_queue_test.EnqnTest`"
   ]
  },
  {
   "cell_type": "markdown",
   "metadata": {},
   "source": [
    "### 3.2 deqn\n",
    "\n",
    "\n",
    "Implement the method `deqn`:\n",
    "\n",
    "```python\n",
    "\n",
    "    def deqn(self, n):\n",
    "        \"\"\" Removes n elements from the head, and return them as a Python list,\n",
    "            where the first element that was enqueued will appear at the *beginning* of\n",
    "            the returned Python list.\n",
    "\n",
    "            - if n is greater than the size of the queue, raises a LookupError.\n",
    "            - required complexity: O(n)\n",
    "\n",
    "            NOTE 1: return a list of the *DATA* in the nodes, *NOT* the nodes themselves\n",
    "            NOTE 2: DO NOT try to convert the whole queue to a Python list for playing with splices.\n",
    "            NOTE 3: remember to update _size, _head and _tail when needed.\n",
    "\n",
    "\n",
    "            For example, supposing arrows represent _next pointers:\n",
    "\n",
    "\n",
    "          _head                             _tail\n",
    "              a -> b -> c -> d -> e -> f -> g\n",
    "\n",
    "            q.deqn(3) will return the Python list ['a', 'b', 'c']\n",
    "\n",
    "            After the call, the queue will be like this:\n",
    "\n",
    "          _head              _tail\n",
    "              d -> e -> f -> g\n",
    "\n",
    "        \"\"\"\n",
    "\n",
    "```\n",
    "\n",
    "**Testing**: `python3 -m unittest linked_queue_test.DeqnTest`"
   ]
  },
  {
   "cell_type": "markdown",
   "metadata": {},
   "source": [
    "## 4 Supermarket queues\n",
    "\n",
    "\n",
    "In this exercises, you will try to model a supermarket containing several cash queues. \n",
    "\n",
    "\n",
    "### CashQueue \n",
    "\n",
    "\n",
    "<div class=\"alert alert-warning\">\n",
    "\n",
    "**WARNING: DO _NOT_ MODIFY CashQueue CLASS**\n",
    "</div>\n",
    "\n",
    "For us, a `CashQueue` is a simple queue of clients represented as strings. A `CashQueue`\n",
    "supports the `enqueue`, `dequeue`, `size` and `is_empty` operations:\n",
    "\n",
    "\n",
    "- Clients are enqueued at the right, in the tail\n",
    "- Clients are dequeued from the left, removing them from the head\n",
    "\n",
    "For example:\n",
    "\n",
    "```python\n",
    "q = CashQueue()\n",
    "\n",
    "q.is_empty()      # True\n",
    "\n",
    "q.enqueue('a')    #  a\n",
    "q.enqueue('b')    #  a,b\n",
    "q.enqueue('c')    #  a,b,c\n",
    "\n",
    "q.size()          # 3\n",
    "\n",
    "q.dequeue()   #       returns:  a\n",
    "              # queue becomes:  [b,c]\n",
    "\n",
    "q.dequeue()   #       returns:  b\n",
    "              # queue becomes:  [c]\n",
    "\n",
    "q.dequeue()   #       returns:  c\n",
    "              # queue becomes:  []\n",
    "\n",
    "q.dequeue()   # raises LookupError as there aren't enough elements to remove\n",
    "```\n",
    "\n",
    "### Supermarket \n",
    "\n",
    "A `Supermarket` contains several cash queues. It is possible to initialize a `Supermarket` by providing queues as simple python lists, where the first clients arrived are on the left, and the last clients are on the right. \n",
    "\n",
    "For example, by calling:\n",
    "\n",
    "```python\n",
    "s = Supermarket([\n",
    "    ['a','b','c'],     # <------ clients arrive from right\n",
    "    ['d'],\n",
    "    ['f','g']\n",
    "])\n",
    "```\n",
    "\n",
    "internally three `CashQueue` objects are created. Looking at the first queue with clients `['a','b','c']`, `a` at the head arrived first and `c` at the tail arrived last\n",
    "\n",
    "```python\n",
    ">>> print(s)\n",
    "\n",
    "Supermarket\n",
    "0 CashQueue: ['a', 'b', 'c']\n",
    "1 CashQueue: ['d']\n",
    "2 CashQueue: ['f', 'g']\n",
    "\n",
    "```\n",
    "\n",
    "Note a supermarket must have at least one queue, which may be empty:\n",
    "\n",
    "```python\n",
    "\n",
    "s = Supermarket( [[]] )\n",
    "\n",
    ">>> print(s)\n",
    "\n",
    "Supermarket\n",
    "0 CashQueue: []\n",
    "```\n",
    "\n",
    "### Supermarket as a queue\n",
    "\n",
    "Our `Supermarket` should maximize the number of served clients (we assume each clients is served in an equal amount of time). To do so, the whole supermarket itself can be seen as a particular kind of queue, which allows the `enqueue` and `dequeue` operations described as follows:\n",
    "\n",
    "* by calling `supermarket.enqueue(client)` a client gets enqueued in the shortest `CashQueue`.\n",
    "\n",
    "* by calling `supermarket.dequeue()`, all clients which are at the heads of non-empty `CashQueue`s are dequeued all at once, and their list is returned (this simulates parallelism).\n",
    "\n",
    "### Implementation \n",
    "\n",
    "Now start editing `supermarket_exercise.py` implementing methods in the following points."
   ]
  },
  {
   "cell_type": "markdown",
   "metadata": {},
   "source": [
    "### 4.1 Supermarket  size\n",
    "\n",
    "Implement `Supermarket.size` : \n",
    "\n",
    "```python\n",
    "    def size(self):\n",
    "        \"\"\" Return the total number of clients present in all cash queues.\n",
    "        \"\"\"\n",
    "```\n",
    "\n",
    "**Testing**: `python3 -m unittest supermarket_test.SizeTest`\n",
    "\n"
   ]
  },
  {
   "cell_type": "markdown",
   "metadata": {},
   "source": [
    "### 4.2 Supermarket dequeue\n",
    "\n",
    "Implement `Supermarket.dequeue` : \n",
    "\n",
    "```python\n",
    "    def dequeue(self):\n",
    "        \"\"\" Dequeue all the clients which are at the heads of non-empty cash queues,\n",
    "            and return a list of such clients.\n",
    "\n",
    "            - clients are returned in the same order as found in the queues\n",
    "            - if supermarket is empty, an empty list is returned\n",
    "\n",
    "            For example, suppose we have following supermarket:\n",
    "\n",
    "            0  ['a','b','c']\n",
    "            1  []\n",
    "            2  ['d','e']\n",
    "            3  ['f']\n",
    "            \n",
    "\n",
    "            A call to deque() will return ['a','d','f']\n",
    "            and the supermarket will now look like this:\n",
    "            \n",
    "            0  ['b','c']\n",
    "            1  []\n",
    "            2  ['e']\n",
    "            3  []         \n",
    "         \"\"\"\n",
    "\n",
    "```\n",
    "\n",
    "**Testing**: `python3 -m unittest supermarket_test.DequeueTest`\n",
    "\n"
   ]
  },
  {
   "cell_type": "markdown",
   "metadata": {},
   "source": [
    "### 4.3 Supermarket enqueue\n",
    "\n",
    "Implement `Supermarket.enqueue` : \n",
    "\n",
    "```python\n",
    "    def enqueue(self, client):    \n",
    "        \"\"\" Enqueue provided client in the cash queue with minimal length.\n",
    "            \n",
    "            If more than one minimal length cash queue is available, the one\n",
    "            with smallest index is chosen. \n",
    "            \n",
    "            For example:\n",
    "\n",
    "            If we have supermarket\n",
    "\n",
    "            0  ['a','b','c']\n",
    "            1  ['d','e','f','g']\n",
    "            2  ['h','i']\n",
    "            3  ['m','n']\n",
    "\n",
    "            since queues 2 and 3 have both minimal length 2, supermarket.enqueue('z') \n",
    "            will enqueue the client on queue 2: \n",
    "\n",
    "            0  ['a','b','c']\n",
    "            1  ['d','e','f','g']\n",
    "            2  ['h','i','z']\n",
    "            3  ['m','n']\n",
    "        \"\"\"\n",
    "```\n",
    "\n",
    "**Testing**: `python3 -m unittest supermarket_test.EnqueueTest`"
   ]
  },
  {
   "cell_type": "markdown",
   "metadata": {},
   "source": [
    "## 5 Shopping mall queues\n",
    "\n",
    "\n",
    "In this exercises, you will try to model a shopping mall containing several shops and clients. \n",
    "\n",
    "### Client\n",
    "\n",
    "<div class=\"alert alert-warning\">\n",
    "\n",
    "**WARNING: DO _NOT_ MODIFY Client CLASS**\n",
    "</div>\n",
    "\n",
    "For us, a `Client` is composed by a name (in the exercise we will use `a`, `b`, `c` ...) and a list of shops he wants to visit as a list. We will identify the shops with letters such as `x`, `y`, `z` ...\n",
    "\n",
    "Note: shops to visit are a Python list intended as a stack, so **the first shop to visit is at end (top) of the list**\n",
    "\n",
    "Example:\n",
    "\n",
    "```python\n",
    "c = Client('f', ['y','x','z'])\n",
    "```\n",
    "creates a `Client` named `f` who wants to visit first the shop `z`, then `x` and finally `y`\n",
    "\n",
    "Methods: \n",
    "\n",
    "```python\n",
    ">>> print(c.name()) \n",
    "a\n",
    ">>> print(c.to_visit())\n",
    "['z','x','y']\n",
    "```"
   ]
  },
  {
   "cell_type": "markdown",
   "metadata": {},
   "source": [
    "### Shop\n",
    "\n",
    "\n",
    "<div class=\"alert alert-warning\">\n",
    "\n",
    "**WARNING: DO _NOT_ MODIFY Shop CLASS**\n",
    "</div>\n",
    "\n",
    "For us, a `Shop` is a class with a name and a queue of clients.\n",
    "A `Shop` supports the `name`, `enqueue`, `dequeue`, `size` and `is_empty` operations:\n",
    "\n",
    "\n",
    "- Clients are enqueued at the right, in the tail\n",
    "- Clients are dequeued from the left, removing them from the head\n",
    "\n",
    "For example:\n",
    "\n",
    "\n",
    "```python\n",
    "s = Shop('x')  # creates a shop named 'x'\n",
    "\n",
    "print(s.name())   # prints  x\n",
    "\n",
    "s.is_empty()      # True\n",
    "\n",
    "s.enqueue('a')    #  a        enqueues client 'a'\n",
    "s.enqueue('b')    #  a,b\n",
    "s.enqueue('c')    #  a,b,c\n",
    "\n",
    "s.size()          # 3\n",
    "\n",
    "s.dequeue()   #       returns:  a\n",
    "              # queue becomes:  [b,c]\n",
    "\n",
    "s.dequeue()   #       returns:  b\n",
    "              # queue becomes:  [c]\n",
    "\n",
    "s.dequeue()   #       returns:  c\n",
    "              # queue becomes:  []\n",
    "\n",
    "s.dequeue()   # raises LookupError as there aren't enough elements to remove\n",
    "```\n",
    "\n"
   ]
  },
  {
   "cell_type": "markdown",
   "metadata": {},
   "source": [
    "### Mall \n",
    "\n",
    "A shopping `Mall` contains several shops and clients. It is possible to initialize a `Mall` by providing \n",
    "\n",
    "1. shops as a list of values `shop name , client list`, where the first clients arrived are on the left, and the last clients are on the right. \n",
    "2. clients as a list of values `client name , shop to visit list`\n",
    "\n",
    "For example, by calling:\n",
    "\n",
    "```python\n",
    "m = Mall(\n",
    "[\n",
    "    'x', ['a','b','c'],     # <------ clients arrive from right\n",
    "    'y', ['d'],\n",
    "    'z', ['f','g']\n",
    "],\n",
    "[                         \n",
    "    'a',['y','x'],        \n",
    "    'b',['x'],\n",
    "    'c',['x'],\n",
    "    'd',['z','y'],        # IMPORTANT: shops to visit stack grows from right, so\n",
    "    'f',['y','x','z'],    # client 'f' wants to visit first shop 'z', then 'x', and finally 'y'\n",
    "    'g',['x','z']\n",
    "])\n",
    "\n",
    "```\n",
    "\n",
    "Internally:\n",
    "\n",
    "* three `Shop` objects are created in an `OrderedDict`. Looking at the first queue with clients `['a','b','c']`, `a` at the head arrived first and `c` at the tail arrived last.\n",
    "* 6 `Client` objects are created in an `OrderedDict`. Note if a client is in a particular shop queue, that shop must be his top desired shop to visit in its stack.\n",
    "\n",
    "```python\n",
    ">>> print(s)\n",
    "\n",
    "Mall\n",
    "  Shop x: ['a', 'b', 'c']\n",
    "  Shop y: ['d']\n",
    "  Shop z: ['f', 'g']\n",
    "\n",
    "  Client a: ['y','x']\n",
    "  Client b: ['x']\n",
    "  Client c: ['x']\n",
    "  Client d: ['z','y']\n",
    "  Client f: ['x','y','z']\n",
    "  Client g: ['x','z']\n",
    "    \n",
    "```\n",
    "\n",
    "Methods:\n",
    "\n",
    "```python\n",
    ">>> m.shops()\n",
    "\n",
    "OrderedDict([\n",
    "              ('x', Shop x: ['a', 'b', 'c'])\n",
    "              ('y', Shop y: ['d'])\n",
    "              ('z', Shop z: ['f', 'g'])    \n",
    "            ])\n",
    "\n",
    ">>> m.clients()\n",
    "\n",
    "OrderedDict([\n",
    "  ('a', Client a: ['y','x']),\n",
    "  ('b', Client b: ['x']),\n",
    "  ('c', Client c: ['x']),\n",
    "  ('d', Client d: ['z','y']),\n",
    "  ('f', Client f: ['x','y','z']),\n",
    "  ('g', Client g: ['x','z'])  \n",
    "])\n",
    "\n",
    "```\n",
    "\n",
    "\n",
    "Note a mall must have at least one shop and may have zero clients:\n",
    "\n",
    "```python\n",
    "\n",
    "m = Mall( {'x':[]}, {} )\n",
    "\n",
    ">>> print(m)\n",
    "\n",
    "Mall\n",
    "   Shop x: []\n",
    "```"
   ]
  },
  {
   "cell_type": "markdown",
   "metadata": {},
   "source": [
    "#### Mall as a queue\n",
    "\n",
    "Our `Mall` should maximize the number of served clients (we assume each clients is served in an equal amount of time). To do so, the whole mall itself can be seen as a particular kind of queue, which allows the `enqueue` and `dequeue` operations described as follows:\n",
    "\n",
    "* by calling `mall.enqueue(client)` a client gets enqueued in the top `Shop` he wants to visit (its desired shop to visit list doesn't change)\n",
    "\n",
    "* by calling `mall.dequeue()`\n",
    "    - all clients which are at the heads of non-empty `Shop`s are dequeued all at once \n",
    "    - their top desired shop to visit is removed\n",
    "    - if a client has any shop to visit left, he is automatically enqueued in that `Shop`\n",
    "    - the list of clients with no shops to visit is returned (this simulates parallelism)\n"
   ]
  },
  {
   "cell_type": "markdown",
   "metadata": {},
   "source": [
    "#### Implementation \n",
    "\n",
    "Now start editing `mall_exercise.py` implementing methods in the following points."
   ]
  },
  {
   "cell_type": "markdown",
   "metadata": {},
   "source": [
    "\n",
    "### 5.1 Mall enqueue\n",
    "\n",
    "Implement `Mall.enqueue` method: \n",
    "\n",
    "```python\n",
    "    def enqueue(self, client):    \n",
    "        \"\"\" Enqueue provided client in the top shop he wants to visit\n",
    "\n",
    "            - If client is already in the mall, raise ValueError \n",
    "            - if client has no shop to visit, raise ValueError\n",
    "            - If any of the shops to visit are not in the mall, raise ValueError\n",
    "\n",
    "            For example:\n",
    "\n",
    "            If we have this mall:\n",
    "\n",
    "            Mall\n",
    "                Shop x: ['a','b']\n",
    "                Shop y: ['c']\n",
    "\n",
    "                Client a: ['y','x']\n",
    "                Client b: ['x']\n",
    "                Client c: ['x','y']\n",
    "                \n",
    "            mall.enqueue(Client('d',['x','y'])) will enqueue the client in Shop y : \n",
    "\n",
    "            Mall\n",
    "                Shop x: ['a','b']\n",
    "                Shop y: ['c','d']\n",
    "\n",
    "                Client a: ['y','x']\n",
    "                Client b: ['x']\n",
    "                Client c: ['x','y']\n",
    "                Client d: ['x','y']\n",
    "\n",
    "        \"\"\"    \n",
    "       \n",
    "```\n",
    "\n",
    "**Testing**: `python3 -m unittest mall_test.EnqueueTest` \n"
   ]
  },
  {
   "cell_type": "markdown",
   "metadata": {},
   "source": [
    "\n",
    "\n",
    "\n",
    "### 5.2 Mall dequeue\n",
    "\n",
    "Implement `Mall.dequeue` method:\n",
    "\n",
    "```python\n",
    "    def dequeue(self):\n",
    "        \"\"\" Dequeue all the clients which are at the heads of non-empty shop queues,\n",
    "            enqueues clients in their next shop to visit and return a list of names of clients\n",
    "            that exit the mall.\n",
    "\n",
    "            In detail: \n",
    "            - shop list is scanned, and all clients which are at the heads of non-empty Shops\n",
    "              are dequeued\n",
    "              VERY IMPORTANT HINT: FIRST put all this clients in a list, \n",
    "                                   THEN using that list do all of the following\n",
    "\n",
    "            - for each dequeued client, his top desired shop is removed from his visit list\n",
    "            - if a client has a shop to visit left, he is automatically enqueued in that Shop\n",
    "                - clients are enqueued in the same order they were dequeued from shops\n",
    "            - the list of clients with no shops to visit anymore is returned (this \n",
    "              simulates parallelism)\n",
    "                - clients are returned in the same order they were dequeued from shops\n",
    "            - if mall has no clients, an empty list is returned\n",
    "\n",
    "        \"\"\"\n",
    "```\n",
    "\n",
    "**Testing**: `python3 -m unittest mall_test.DequeueTest` \n",
    "\n",
    "\n",
    "For example, suppose we have following mall:\n",
    "\n"
   ]
  },
  {
   "cell_type": "code",
   "execution_count": 10,
   "metadata": {},
   "outputs": [],
   "source": [
    "from mall_solution import *"
   ]
  },
  {
   "cell_type": "code",
   "execution_count": 11,
   "metadata": {},
   "outputs": [],
   "source": [
    "m = Mall([\n",
    "            'x', ['a', 'b', 'c'],\n",
    "            'y', ['d'],\n",
    "            'z', ['f', 'g']\n",
    "        ],\n",
    "        [\n",
    "            'a', ['y', 'x'],\n",
    "            'b', ['x'],\n",
    "            'c', ['x'],\n",
    "            'd', ['z','y'],\n",
    "            'f', ['y','x','z'],\n",
    "            'g', ['x','z']\n",
    "        ])"
   ]
  },
  {
   "cell_type": "code",
   "execution_count": 12,
   "metadata": {},
   "outputs": [
    {
     "name": "stdout",
     "output_type": "stream",
     "text": [
      "Mall\n",
      "  Shop x : ['a', 'b', 'c']\n",
      "  Shop y : ['d']\n",
      "  Shop z : ['f', 'g']\n",
      "\n",
      "  Client a : ['y', 'x']\n",
      "  Client b : ['x']\n",
      "  Client c : ['x']\n",
      "  Client d : ['z', 'y']\n",
      "  Client f : ['y', 'x', 'z']\n",
      "  Client g : ['x', 'z']\n",
      "\n"
     ]
    }
   ],
   "source": [
    "print(m)"
   ]
  },
  {
   "cell_type": "code",
   "execution_count": 13,
   "metadata": {},
   "outputs": [
    {
     "data": {
      "text/plain": [
       "[]"
      ]
     },
     "execution_count": 13,
     "metadata": {},
     "output_type": "execute_result"
    }
   ],
   "source": [
    "m.dequeue()  # first call"
   ]
  },
  {
   "cell_type": "markdown",
   "metadata": {},
   "source": [
    "Clients 'a', 'd' and 'f' change shop, the others stay in their current shop.\n",
    "The mall will now look like this:\n"
   ]
  },
  {
   "cell_type": "code",
   "execution_count": 14,
   "metadata": {},
   "outputs": [
    {
     "name": "stdout",
     "output_type": "stream",
     "text": [
      "Mall\n",
      "  Shop x : ['b', 'c', 'f']\n",
      "  Shop y : ['a']\n",
      "  Shop z : ['g', 'd']\n",
      "\n",
      "  Client a : ['y']\n",
      "  Client b : ['x']\n",
      "  Client c : ['x']\n",
      "  Client d : ['z']\n",
      "  Client f : ['y', 'x']\n",
      "  Client g : ['x', 'z']\n",
      "\n"
     ]
    }
   ],
   "source": [
    "print(m)"
   ]
  },
  {
   "cell_type": "code",
   "execution_count": 15,
   "metadata": {},
   "outputs": [
    {
     "data": {
      "text/plain": [
       "['b', 'a']"
      ]
     },
     "execution_count": 15,
     "metadata": {},
     "output_type": "execute_result"
    }
   ],
   "source": [
    "m.dequeue()  # second call"
   ]
  },
  {
   "cell_type": "markdown",
   "metadata": {},
   "source": [
    "because client 'b' was top shop in the list, 'a' in the second, and both clients\n",
    "had nothing else to visit. Client 'g' changes shop, the others remain in their current shop.\n",
    "\n",
    "The mall will now look like this:\n"
   ]
  },
  {
   "cell_type": "code",
   "execution_count": 16,
   "metadata": {},
   "outputs": [
    {
     "name": "stdout",
     "output_type": "stream",
     "text": [
      "Mall\n",
      "  Shop x : ['c', 'f', 'g']\n",
      "  Shop y : []\n",
      "  Shop z : ['d']\n",
      "\n",
      "  Client c : ['x']\n",
      "  Client d : ['z']\n",
      "  Client f : ['y', 'x']\n",
      "  Client g : ['x']\n",
      "\n"
     ]
    }
   ],
   "source": [
    "print(m)   # Clients a and b are gone"
   ]
  },
  {
   "cell_type": "code",
   "execution_count": 17,
   "metadata": {},
   "outputs": [
    {
     "data": {
      "text/plain": [
       "['c', 'd']"
      ]
     },
     "execution_count": 17,
     "metadata": {},
     "output_type": "execute_result"
    }
   ],
   "source": [
    "m.dequeue() # third call"
   ]
  },
  {
   "cell_type": "code",
   "execution_count": 18,
   "metadata": {},
   "outputs": [
    {
     "name": "stdout",
     "output_type": "stream",
     "text": [
      "Mall\n",
      "  Shop x : ['f', 'g']\n",
      "  Shop y : []\n",
      "  Shop z : []\n",
      "\n",
      "  Client f : ['y', 'x']\n",
      "  Client g : ['x']\n",
      "\n"
     ]
    }
   ],
   "source": [
    "print(m)"
   ]
  },
  {
   "cell_type": "code",
   "execution_count": 19,
   "metadata": {},
   "outputs": [
    {
     "data": {
      "text/plain": [
       "[]"
      ]
     },
     "execution_count": 19,
     "metadata": {},
     "output_type": "execute_result"
    }
   ],
   "source": [
    "m.dequeue()  # fourth call"
   ]
  },
  {
   "cell_type": "code",
   "execution_count": 20,
   "metadata": {},
   "outputs": [
    {
     "name": "stdout",
     "output_type": "stream",
     "text": [
      "Mall\n",
      "  Shop x : ['g']\n",
      "  Shop y : ['f']\n",
      "  Shop z : []\n",
      "\n",
      "  Client f : ['y']\n",
      "  Client g : ['x']\n",
      "\n"
     ]
    }
   ],
   "source": [
    "print(m)"
   ]
  },
  {
   "cell_type": "code",
   "execution_count": 21,
   "metadata": {},
   "outputs": [
    {
     "data": {
      "text/plain": [
       "['g', 'f']"
      ]
     },
     "execution_count": 21,
     "metadata": {},
     "output_type": "execute_result"
    }
   ],
   "source": [
    "m.dequeue()  # fifth call"
   ]
  },
  {
   "cell_type": "code",
   "execution_count": 22,
   "metadata": {},
   "outputs": [
    {
     "name": "stdout",
     "output_type": "stream",
     "text": [
      "Mall\n",
      "  Shop x : []\n",
      "  Shop y : []\n",
      "  Shop z : []\n",
      "\n",
      "\n"
     ]
    }
   ],
   "source": [
    "print(m)"
   ]
  },
  {
   "cell_type": "code",
   "execution_count": 23,
   "metadata": {},
   "outputs": [
    {
     "data": {
      "text/plain": [
       "[]"
      ]
     },
     "execution_count": 23,
     "metadata": {},
     "output_type": "execute_result"
    }
   ],
   "source": [
    " m.dequeue()  # no clients left"
   ]
  },
  {
   "cell_type": "code",
   "execution_count": 24,
   "metadata": {
    "nbsphinx": "hidden"
   },
   "outputs": [
    {
     "name": "stderr",
     "output_type": "stream",
     "text": [
      "............\n",
      "----------------------------------------------------------------------\n",
      "Ran 12 tests in 0.009s\n",
      "\n",
      "OK\n",
      "........\n",
      "----------------------------------------------------------------------\n",
      "Ran 8 tests in 0.007s\n",
      "\n",
      "OK\n",
      "..........\n",
      "----------------------------------------------------------------------\n",
      "Ran 10 tests in 0.007s\n",
      "\n",
      "OK\n",
      "...............\n",
      "----------------------------------------------------------------------\n",
      "Ran 15 tests in 0.010s\n",
      "\n",
      "OK\n",
      ".................\n",
      "----------------------------------------------------------------------\n",
      "Ran 17 tests in 0.015s\n",
      "\n",
      "OK\n"
     ]
    }
   ],
   "source": [
    "# ignore this cell\n",
    "import circular_queue_test\n",
    "jupman.run(circular_queue_test)\n",
    "import italian_queue_test\n",
    "jupman.run(italian_queue_test)\n",
    "import linked_queue_test\n",
    "jupman.run(linked_queue_test)\n",
    "import supermarket_test\n",
    "jupman.run(supermarket_test)\n",
    "import mall_test\n",
    "jupman.run(mall_test)"
   ]
  },
  {
   "cell_type": "code",
   "execution_count": null,
   "metadata": {},
   "outputs": [],
   "source": []
  }
 ],
 "metadata": {
  "kernelspec": {
   "display_name": "Python 3",
   "language": "python",
   "name": "python3"
  },
  "language_info": {
   "codemirror_mode": {
    "name": "ipython",
    "version": 3
   },
   "file_extension": ".py",
   "mimetype": "text/x-python",
   "name": "python",
   "nbconvert_exporter": "python",
   "pygments_lexer": "ipython3",
   "version": "3.5.2"
  },
  "toc": {
   "base_numbering": 1,
   "nav_menu": {},
   "number_sections": false,
   "sideBar": true,
   "skip_h1_title": false,
   "title_cell": "Table of Contents",
   "title_sidebar": "Contents",
   "toc_cell": false,
   "toc_position": {},
   "toc_section_display": true,
   "toc_window_display": true
  }
 },
 "nbformat": 4,
 "nbformat_minor": 2
}
