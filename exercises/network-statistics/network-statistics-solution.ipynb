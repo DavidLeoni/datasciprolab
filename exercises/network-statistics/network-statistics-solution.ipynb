{
 "cells": [
  {
   "cell_type": "code",
   "execution_count": 16,
   "metadata": {
    "nbsphinx": "hidden"
   },
   "outputs": [],
   "source": [
    "#Please execute this cell\n",
    "import sys\n",
    "sys.path.append('../../')\n",
    "import jupman\n",
    "from sciprog import draw_mat\n",
    "from sciprog import draw_nx\n",
    "from sciprog import draw_adj\n",
    "%matplotlib inline"
   ]
  },
  {
   "cell_type": "markdown",
   "metadata": {},
   "source": [
    "# Network statistics solutions\n",
    "\n",
    "## [Download exercises zip](../../_static/network-statistics-exercises.zip)\n",
    "\n",
    "[Browse files online](https://github.com/DavidLeoni/datasciprolab/tree/master/exercises/network-statistics)\n"
   ]
  },
  {
   "cell_type": "markdown",
   "metadata": {},
   "source": [
    "## What to do\n",
    "\n",
    "- **Make sure you have installed** [the required libraries](https://datasciprolab.readthedocs.io/en/latest/exercises/matrix-networks/matrix-networks-solution.html#Required-libraries)\n",
    "- unzip exercises in a folder, you should get something like this: \n",
    "\n",
    "```\n",
    "\n",
    "-jupman.py\n",
    "-sciprog.py\n",
    "-other stuff ...\n",
    "-exercises\n",
    "     |- network-statistics\n",
    "         |- network-statistics-exercise.ipynb     \n",
    "         |- network-statistics-solution.ipynb\n",
    "         |- other stuff ..\n",
    "```\n",
    "\n",
    "<div class=\"alert alert-warning\">\n",
    "\n",
    "**WARNING 1**: to correctly visualize the notebook, it MUST be in an unzipped folder !\n",
    "</div>\n",
    "\n",
    "\n",
    "- open Jupyter Notebook from that folder. Two things should open, first a console and then browser. \n",
    "- The browser should show a file list: navigate the list and open the notebook `exercises/network-statistics/network-statistics-exercise.ipynb`\n",
    "\n",
    "<div class=\"alert alert-warning\">\n",
    "\n",
    "**WARNING 2**: DO NOT use the _Upload_ button in Jupyter, instead navigate in Jupyter browser to the unzipped folder !\n",
    "</div>\n",
    "\n",
    "- Go on reading that notebook, and follow instuctions inside.\n",
    "\n",
    "\n",
    "Shortcut keys:\n",
    "\n",
    "- to execute Python code inside a Jupyter cell, press `Control + Enter`\n",
    "- to execute Python code inside a Jupyter cell AND select next cell, press `Shift + Enter`\n",
    "- to execute Python code inside a Jupyter cell AND a create a new cell aftwerwards, press `Alt + Enter`\n",
    "- If the notebooks look stuck, try to select `Kernel -> Restart`\n",
    "\n",
    "\n",
    "\n"
   ]
  },
  {
   "cell_type": "markdown",
   "metadata": {},
   "source": [
    "## Simple statistics\n",
    "\n",
    "<div class=\"alert alert-warning\">\n",
    "\n",
    "**WARNING**: Before proceeding any further, make sure you did the [exercises about binary relations](https://datasciprolab.readthedocs.io/en/latest/exercises/binary-relations/binary-relations-solution.html)\n",
    "</div>"
   ]
  },
  {
   "cell_type": "markdown",
   "metadata": {},
   "source": [
    "\n",
    "### Outdegrees and indegrees\n",
    "\n",
    "The _out-degree_ $\\deg^+(v)$ of a node $v$ is the number of edges going out from it, while the _in-degree_ $\\deg^-(v)$ is the number of edges going into it. \n",
    "\n",
    "_NOTE_: the out-degree and in-degree are _not_ the sum of weights ! They just count presence or absence of edges.\n",
    "\n",
    "For example, consider this graph:\n"
   ]
  },
  {
   "cell_type": "code",
   "execution_count": 2,
   "metadata": {},
   "outputs": [
    {
     "data": {
      "image/png": "[encoded data removed]",
      "text/plain": [
       "<IPython.core.display.Image object>"
      ]
     },
     "metadata": {},
     "output_type": "display_data"
    }
   ],
   "source": [
    "from sciprog import draw_adj\n",
    "\n",
    "d = {\n",
    "    'a' : ['b','c'],  \n",
    "    'b' : ['b','d'],  \n",
    "    'c' : ['a','b','c','d'],  \n",
    "    'd' : ['b','d']   \n",
    "}\n",
    "\n",
    "\n",
    "draw_adj(d)"
   ]
  },
  {
   "cell_type": "markdown",
   "metadata": {},
   "source": [
    "The out-degree of `d` is 2, because it has one outgoing edge to `b` but also an outgoing edge to itself. The indegree of `d` is 3, because it has an edge coming from `b`, one from `c` and one self-loop from `d` itself."
   ]
  },
  {
   "cell_type": "markdown",
   "metadata": {},
   "source": [
    "### outdegree_adj"
   ]
  },
  {
   "cell_type": "code",
   "execution_count": 3,
   "metadata": {},
   "outputs": [],
   "source": [
    "def outdegree_adj(d, v):\n",
    "    \"\"\" RETURN the outdegree of a node from graph d represented as a dictionary of adjacency lists\n",
    "    \n",
    "        If v is not a vertex of d, raise ValueError\n",
    "    \"\"\"\n",
    "    #jupman-raise\n",
    "    if v not in d:\n",
    "        raise ValueError(\"Vertex %s is not in %s\" % (v, d))\n",
    "    \n",
    "    return len(d[v])\n",
    "    #/jupman-raise\n",
    "\n",
    "try: \n",
    "    outdegree_adj({'a':[]},'b')\n",
    "    raise Exception(\"SHOULD HAVE FAILED !\")  \n",
    "except ValueError: \n",
    "    \"passed test\"\n",
    "    \n",
    "assert outdegree_adj({\n",
    "        'a':[]\n",
    "},'a') == 0\n",
    "\n",
    "assert outdegree_adj({\n",
    "        'a':['a']\n",
    "},'a') == 1\n",
    "\n",
    "assert outdegree_adj({\n",
    "        'a':['a','b'],\n",
    "        'b':[]\n",
    "},'a') == 2\n",
    "\n",
    "assert outdegree_adj({\n",
    "        'a':['a','b'],\n",
    "        'b':['a','b','c'],\n",
    "        'c':[]\n",
    "},'b') == 3\n",
    "\n",
    "\n"
   ]
  },
  {
   "cell_type": "markdown",
   "metadata": {},
   "source": [
    "### outdegree_mat\n",
    "\n",
    "Difficulty: ✪✪\n"
   ]
  },
  {
   "cell_type": "code",
   "execution_count": 4,
   "metadata": {},
   "outputs": [],
   "source": [
    "def outdegree_mat(mat, i):\n",
    "    \"\"\" RETURN the outdegree of a node i from a graph boolean matrix nxn represented as a list of lists\n",
    "    \n",
    "        If i is not a node of the graph, raise ValueError\n",
    "    \"\"\"\n",
    "    #jupman-raise\n",
    "    n = len(mat)\n",
    "    if i < 0 or i > n: \n",
    "        raise ValueError(\"i %s is not a row of matrix %s\" % (i, mat))\n",
    "    ret = 0    \n",
    "    for j in range(n):\n",
    "        if mat[i][j]:\n",
    "            ret += 1\n",
    "    return ret\n",
    "    #/jupman-raise\n",
    "\n",
    "try: \n",
    "    outdegree_mat([[False]],7)\n",
    "    raise Exception(\"SHOULD HAVE FAILED !\")  \n",
    "except ValueError: \n",
    "    \"passed test\"\n",
    "\n",
    "try: \n",
    "    outdegree_mat([[False]],-1)\n",
    "    raise Exception(\"SHOULD HAVE FAILED !\")  \n",
    "except ValueError: \n",
    "    \"passed test\"\n",
    "\n",
    "    \n",
    "assert outdegree_mat(\n",
    "        [\n",
    "            [False]\n",
    "        ]\n",
    ",0) == 0\n",
    "\n",
    "assert outdegree_mat(\n",
    "        [\n",
    "            [True]\n",
    "        ],0) == 1\n",
    "\n",
    "assert outdegree_mat(\n",
    "        [\n",
    "            [True, True],\n",
    "            [False, False]\n",
    "        ],0) == 2\n",
    "\n",
    "assert outdegree_mat(\n",
    "        [\n",
    "            [True, True, False],\n",
    "            [True, True, True],\n",
    "            [False, False, False],            \n",
    "        ]\n",
    ",1) == 3\n"
   ]
  },
  {
   "cell_type": "markdown",
   "metadata": {},
   "source": [
    "### outdegree_avg\n",
    "\n",
    "Difficulty: ✪✪\n"
   ]
  },
  {
   "cell_type": "code",
   "execution_count": 5,
   "metadata": {},
   "outputs": [],
   "source": [
    "def outdegree_avg(d):\n",
    "    \"\"\"\n",
    "    RETURN the average outdegree of nodes in graph d, represented as dictionary of adjacency lists. \n",
    "    \n",
    "    Assume all nodes are in the keys.\n",
    "    \"\"\"\n",
    "    #jupman-raise\n",
    "    s = 0\n",
    "    for k in d: \n",
    "        s += len(d[k])\n",
    "    return s / len(d)\n",
    "    #/jupman-raise\n",
    "    \n",
    "assert outdegree_avg({\n",
    "        'a':[]\n",
    "}) == 0\n",
    "\n",
    "assert round(\n",
    "                outdegree_avg({\n",
    "                    'a':['a']\n",
    "                })\n",
    "            ,2) == 1.00 / 1.00\n",
    "\n",
    "assert round(\n",
    "                outdegree_avg({\n",
    "                    'a':['a','b'],\n",
    "                    'b':[]\n",
    "                })\n",
    "            ,2) == (2 + 0) / 2\n",
    "\n",
    "assert round(\n",
    "                outdegree_avg({\n",
    "                    'a':['a','b'],\n",
    "                    'b':['a','b','c'],\n",
    "                    'c':[]\n",
    "                }) \n",
    "        ,2) == round( (2 + 3) / 3 , 2)"
   ]
  },
  {
   "cell_type": "markdown",
   "metadata": {},
   "source": [
    "### indegree_adj\n",
    "\n",
    "✪✪ The indegree of a node $v$ s the number of edges going into it. \n"
   ]
  },
  {
   "cell_type": "code",
   "execution_count": 6,
   "metadata": {},
   "outputs": [],
   "source": [
    "def indegree_adj(d, v):\n",
    "    \"\"\" RETURN the indegree of node v in graph d, represented as a dictionary of adjacency lists\n",
    "    \n",
    "        If v is not a node of the graph, raise ValueError\n",
    "    \"\"\"\n",
    "    #jupman-raise\n",
    "    if v not in d:\n",
    "        raise ValueError(\"Vertex %s is not in %s\" % (v, d))\n",
    "    ret = 0\n",
    "    for k in d:\n",
    "        if v in d[k]:\n",
    "            ret += 1\n",
    "    return ret\n",
    "    #/jupman-raise\n",
    "    \n",
    "try: \n",
    "    indegree_adj({'a':[]},'b')\n",
    "    raise Exception(\"SHOULD HAVE FAILED !\")  \n",
    "except ValueError: \n",
    "    \"passed test\"\n",
    "\n",
    "\n",
    "assert indegree_adj({\n",
    "        'a':[]\n",
    "},'a') == 0\n",
    "\n",
    "assert indegree_adj({\n",
    "        'a':['a']\n",
    "},'a') == 1\n",
    "\n",
    "assert indegree_adj({\n",
    "        'a':['a','b'],\n",
    "        'b':[]\n",
    "},'a') == 1\n",
    "\n",
    "assert indegree_adj({\n",
    "        'a':['a','b'],\n",
    "        'b':['a','b','c'],\n",
    "        'c':[]\n",
    "},'b') == 2\n",
    "\n"
   ]
  },
  {
   "cell_type": "markdown",
   "metadata": {},
   "source": [
    "### indegree_mat\n",
    "\n",
    "Difficulty: ✪✪"
   ]
  },
  {
   "cell_type": "code",
   "execution_count": 7,
   "metadata": {},
   "outputs": [],
   "source": [
    "\n",
    "def indegree_mat(mat, i):\n",
    "    \"\"\" RETURN the indegree of a node i from a graph boolean matrix nxn represented as a list of lists\n",
    "    \n",
    "        If i is not a node of the graph, raise ValueError\n",
    "    \"\"\"\n",
    "    #jupman-raise\n",
    "    n = len(mat)\n",
    "    if i < 0 or i > n: \n",
    "        raise ValueError(\"i %s is not a row of matrix %s\" % (i, mat))\n",
    "    ret = 0    \n",
    "    for k in range(n):\n",
    "        if mat[k][i]:\n",
    "            ret += 1\n",
    "    return ret\n",
    "    #/jupman-raise\n",
    "    \n",
    "\n",
    "\n",
    "try: \n",
    "    indegree_mat([[False]],7)\n",
    "    raise Exception(\"SHOULD HAVE FAILED !\")  \n",
    "except ValueError: \n",
    "    \"passed test\"\n",
    "    \n",
    "assert indegree_mat(\n",
    "        [\n",
    "            [False]\n",
    "        ]\n",
    ",0) == 0\n",
    "\n",
    "assert indegree_mat(\n",
    "        [\n",
    "            [True]\n",
    "        ],0) == 1\n",
    "\n",
    "assert indegree_mat(\n",
    "        [\n",
    "            [True, True],\n",
    "            [False, False]\n",
    "        ],0) == 1\n",
    "\n",
    "assert indegree_mat(\n",
    "        [\n",
    "            [True, True, False],\n",
    "            [True, True, True],\n",
    "            [False, False, False],            \n",
    "        ]\n",
    ",1) == 2\n"
   ]
  },
  {
   "cell_type": "markdown",
   "metadata": {},
   "source": [
    "### indegree_avg\n",
    "\n",
    "Difficulty: ✪✪"
   ]
  },
  {
   "cell_type": "code",
   "execution_count": 8,
   "metadata": {},
   "outputs": [],
   "source": [
    "def indegree_avg(d):\n",
    "    \"\"\"\n",
    "    RETURN the average indegree of nodes in graph d, represented as dictionary of adjacency lists. \n",
    "    \n",
    "    Assume all nodes are in the keys.\n",
    "    \"\"\"\n",
    "    #jupman-raise\n",
    "    s = 0\n",
    "    for k in d: \n",
    "        s += len(d[k])\n",
    "    return s / len(d)\n",
    "    #/jupman-raise\n",
    "    \n",
    "assert indegree_avg({\n",
    "        'a':[]\n",
    "}) == 0\n",
    "\n",
    "assert round(\n",
    "                indegree_avg({\n",
    "                    'a':['a']\n",
    "                })\n",
    "            ,2) == 1.00 / 1.00\n",
    "\n",
    "assert round(\n",
    "                indegree_avg({\n",
    "                    'a':['a','b'],\n",
    "                    'b':[]\n",
    "                })\n",
    "            ,2) == (1 + 1) / 2\n",
    "\n",
    "assert round(\n",
    "                indegree_avg({\n",
    "                    'a':['a','b'],\n",
    "                    'b':['a','b','c'],\n",
    "                    'c':[]\n",
    "                }) \n",
    "        ,2) == round( (2 + 2 + 1) / 3 , 2)"
   ]
  },
  {
   "cell_type": "markdown",
   "metadata": {},
   "source": [
    "### Was it worth it?\n",
    "\n",
    "**QUESTION**: Is there any difference between the results of `indegree_avg` and `outdegree_avg` ?"
   ]
  },
  {
   "cell_type": "markdown",
   "metadata": {},
   "source": [
    "**ANSWER**: They give the same result. Think about what you did: for `outdegree_avg` you summed over all rows and then divided by `n`. For `indegree_avg` you summed over all columns, and then divided by `n`. \n",
    "\n",
    "\n",
    "More formally, we have that the so-called _degree sum formula_ holds (see [Wikipedia](https://en.wikipedia.org/wiki/Directed_graph#Indegree_and_outdegree) for more info):\n",
    "\n",
    "\n",
    "$\\sum_{v \\in V} \\deg^-(v) = \\sum_{v \\in V} \\deg^+(v) = |A|$"
   ]
  },
  {
   "cell_type": "markdown",
   "metadata": {},
   "source": [
    "## Partitioning the graph"
   ]
  },
  {
   "cell_type": "markdown",
   "metadata": {},
   "source": [
    "**Before proceeding please make sure you read** [recursions on lists](https://datasciprolab.readthedocs.io/en/latest/exercises/lists/lists-solution.html) **chapter**"
   ]
  },
  {
   "cell_type": "markdown",
   "metadata": {},
   "source": [
    "### min_outdeg\n",
    "\n",
    "Difficulty: ✪✪✪"
   ]
  },
  {
   "cell_type": "code",
   "execution_count": 9,
   "metadata": {},
   "outputs": [],
   "source": [
    "\n",
    "def helper(mat, start, end):\n",
    "    \"\"\"\n",
    "        Takes a graph as matrix of list of lists  and RETURN the minimum \n",
    "        outdegree of nodes with row index between indeces start (included) \n",
    "        and end included\n",
    "        \n",
    "        This function MUST be recursive, so it must call itself.\n",
    "        \n",
    "        - HINT: REMEMBER to put return instructions in all 'if' branches!\n",
    "    \"\"\"\n",
    "    #jupman-raise\n",
    "    n = len(mat)\n",
    "    if start == end:\n",
    "        return mat[start].count(True)\n",
    "    else:\n",
    "        half = (start + end) // 2\n",
    "        min_left = helper(mat, 0, half)\n",
    "        min_right = helper(mat, half+1, end)\n",
    "        return min(min_left, min_right)\n",
    "    #/jupman-raise\n",
    "    \n",
    "def min_outdeg(mat):\n",
    "    \"\"\"\n",
    "        Takes a graph as matrix of list of lists  and RETURN the minimum \n",
    "        outdegree of nodes by calling function helper. \n",
    "        min_outdeg function is *not* recursive, only function helper is.\n",
    "    \"\"\"    \n",
    "    #jupman-raise\n",
    "    n = len(mat)\n",
    "    return helper(mat, 0, len(mat) - 1)\n",
    "    #/jupman-raise\n",
    "\n",
    "assert min_outdeg(\n",
    "        [\n",
    "            [False]\n",
    "        ]) == 0\n",
    "\n",
    "assert min_outdeg(\n",
    "        [\n",
    "            [True]\n",
    "        ]) == 1\n",
    "\n",
    "assert min_outdeg(\n",
    "        [\n",
    "            [False, True],\n",
    "            [True, False]\n",
    "        ]) == 1\n",
    "\n",
    "assert min_outdeg(\n",
    "        [\n",
    "            [True, True, False],\n",
    "            [True, True, True],\n",
    "            [False, True, True],            \n",
    "        ]) == 2\n",
    "\n",
    "\n",
    "assert min_outdeg(\n",
    "        [\n",
    "            [True, True, False],\n",
    "            [True, True, True],\n",
    "            [False, True, False],            \n",
    "        ]) == 1\n",
    "\n",
    "\n",
    "assert min_outdeg(\n",
    "        [\n",
    "            [True, True, True],\n",
    "            [True, True, True],\n",
    "            [False, True, False],            \n",
    "        ]) == 1\n",
    "\n",
    "\n",
    "        "
   ]
  },
  {
   "cell_type": "markdown",
   "metadata": {},
   "source": [
    "## networkx\n",
    "\n",
    "**Before continuing, make sure to read** [Graph formats chapter](https://datasciprolab.readthedocs.io/en/latest/exercises/graph-formats/graph-formats-solution.html#Networkx)"
   ]
  },
  {
   "cell_type": "markdown",
   "metadata": {},
   "source": [
    "### networkx Indegrees and outdegrees \n",
    "\n",
    "As a first benefit, with Networkx we can easily calculate indegrees and outdegrees of a node:"
   ]
  },
  {
   "cell_type": "code",
   "execution_count": 10,
   "metadata": {},
   "outputs": [
    {
     "data": {
      "image/png": "[encoded data removed]",
      "text/plain": [
       "<IPython.core.display.Image object>"
      ]
     },
     "metadata": {},
     "output_type": "display_data"
    }
   ],
   "source": [
    "\n",
    "import networkx as nx\n",
    "\n",
    "# notice with networkx if nodes are already referenced to in an adjacency list \n",
    "# you do not need to put them as keys:\n",
    "\n",
    "G=nx.DiGraph({\n",
    "    'a':['b','c'],        # node a links to b and c\n",
    "    'b':['b','c', 'd']    # node b links to b itself, c and d\n",
    "})\n",
    "\n",
    "draw_nx(G)"
   ]
  },
  {
   "cell_type": "code",
   "execution_count": 15,
   "metadata": {},
   "outputs": [
    {
     "data": {
      "text/plain": [
       "2"
      ]
     },
     "execution_count": 15,
     "metadata": {},
     "output_type": "execute_result"
    }
   ],
   "source": [
    "G.out_degree('a')"
   ]
  },
  {
   "cell_type": "markdown",
   "metadata": {},
   "source": [
    "**QUESTION**: What is the outdegree of `'b'` ? Try to think about it and then confirm your thoughts with networkx:"
   ]
  },
  {
   "cell_type": "code",
   "execution_count": 12,
   "metadata": {},
   "outputs": [],
   "source": [
    "# write here\n",
    "#print(\"indegree  b:  %s\" % G.in_degree('b'))\n",
    "#print(\"outdegree b:  %s\" % G.out_degree('b'))"
   ]
  },
  {
   "cell_type": "markdown",
   "metadata": {},
   "source": [
    "**QUESTION**: We defined _indegree_ and _outdegree_. Can you guess what the _degree_ might be ? In particular, for a self pointing node like `'b'`, what could it be? Try to use `G.degree('b')` methods to validate your thoughts."
   ]
  },
  {
   "cell_type": "code",
   "execution_count": 13,
   "metadata": {},
   "outputs": [],
   "source": [
    "# write here\n",
    "#print(\"degree  b:  %s\" % G.degree('b'))"
   ]
  },
  {
   "cell_type": "markdown",
   "metadata": {},
   "source": [
    "**ANSWER**: it is the sum of indegree and outdegree. In presence of a self-loop like for `'b'`, we count the self-loop twice, once as outgoing edge and one as incident edge"
   ]
  },
  {
   "cell_type": "code",
   "execution_count": 14,
   "metadata": {},
   "outputs": [],
   "source": [
    "# write here\n",
    "#G.degree('b')"
   ]
  },
  {
   "cell_type": "markdown",
   "metadata": {},
   "source": [
    "<div class=\"alert alert-warning\">\n",
    "\n",
    "**TO BE CONTINUED ...**\n",
    "</a>"
   ]
  }
 ],
 "metadata": {
  "celltoolbar": "Edit Metadata",
  "kernelspec": {
   "display_name": "Python 3",
   "language": "python",
   "name": "python3"
  },
  "language_info": {
   "codemirror_mode": {
    "name": "ipython",
    "version": 3
   },
   "file_extension": ".py",
   "mimetype": "text/x-python",
   "name": "python",
   "nbconvert_exporter": "python",
   "pygments_lexer": "ipython3",
   "version": "3.5.2"
  },
  "toc": {
   "base_numbering": 1,
   "nav_menu": {},
   "number_sections": false,
   "sideBar": true,
   "skip_h1_title": false,
   "title_cell": "Table of Contents",
   "title_sidebar": "Contents",
   "toc_cell": false,
   "toc_position": {},
   "toc_section_display": true,
   "toc_window_display": true
  }
 },
 "nbformat": 4,
 "nbformat_minor": 2
}
