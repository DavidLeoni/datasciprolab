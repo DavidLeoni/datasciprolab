{
 "cells": [
  {
   "cell_type": "code",
   "execution_count": 1,
   "metadata": {
    "nbsphinx": "hidden"
   },
   "outputs": [],
   "source": [
    "#Please execute this cell\n",
    "import sys\n",
    "sys.path.append('../../')\n",
    "import jupman\n",
    "from sciprog import draw_mat\n",
    "from sciprog import draw_nx\n",
    "%matplotlib inline"
   ]
  },
  {
   "cell_type": "markdown",
   "metadata": {},
   "source": [
    "# Network statistics solutions\n",
    "\n",
    "## [Download exercises zip](../../_static/network-statistics-exercises.zip)\n",
    "\n",
    "[Browse files online](https://github.com/DavidLeoni/datasciprolab/tree/master/exercises/network-statistics)\n"
   ]
  },
  {
   "cell_type": "markdown",
   "metadata": {},
   "source": [
    "## What to do\n",
    "\n",
    "- **Make sure you have installed** [the required libraries](https://datasciprolab.readthedocs.io/en/latest/exercises/matrix-networks/matrix-networks-solution.html#Required-libraries)\n",
    "- unzip exercises in a folder, you should get something like this: \n",
    "\n",
    "```\n",
    "\n",
    "-jupman.py\n",
    "-sciprog.py\n",
    "-other stuff ...\n",
    "-exercises\n",
    "     |- network-statistics\n",
    "         |- network-statistics-exercise.ipynb     \n",
    "         |- network-statistics-solution.ipynb\n",
    "         |- other stuff ..\n",
    "```\n",
    "\n",
    "<div class=\"alert alert-warning\">\n",
    "\n",
    "**WARNING 1**: to correctly visualize the notebook, it MUST be in an unzipped folder !\n",
    "</div>\n",
    "\n",
    "\n",
    "- open Jupyter Notebook from that folder. Two things should open, first a console and then browser. \n",
    "- The browser should show a file list: navigate the list and open the notebook `exercises/network-statistics/network-statistics-exercise.ipynb`\n",
    "\n",
    "<div class=\"alert alert-warning\">\n",
    "\n",
    "**WARNING 2**: DO NOT use the _Upload_ button in Jupyter, instead navigate in Jupyter browser to the unzipped folder !\n",
    "</div>\n",
    "\n",
    "- Go on reading that notebook, and follow instuctions inside.\n",
    "\n",
    "\n",
    "Shortcut keys:\n",
    "\n",
    "- to execute Python code inside a Jupyter cell, press `Control + Enter`\n",
    "- to execute Python code inside a Jupyter cell AND select next cell, press `Shift + Enter`\n",
    "- to execute Python code inside a Jupyter cell AND a create a new cell aftwerwards, press `Alt + Enter`\n",
    "- If the notebooks look stuck, try to select `Kernel -> Restart`\n",
    "\n",
    "\n",
    "\n"
   ]
  },
  {
   "cell_type": "markdown",
   "metadata": {},
   "source": [
    "## Graph formats"
   ]
  },
  {
   "cell_type": "markdown",
   "metadata": {},
   "source": [
    "**Before proceeding further, make sure you did the** [exercises about dictionaries](https://datasciprolab.readthedocs.io/en/latest/exercises/dictionaries/dictionaries-solution.html)"
   ]
  },
  {
   "cell_type": "markdown",
   "metadata": {},
   "source": [
    "### Adjacency lists\n",
    "\n",
    "So far, we represented graphs as matrices, saying they are good when the graph is dense, that is any given node is likely to be connected to almost all other nodes - or equivalently, many cell entries in the matrix are different from zero. But if this is not the case, other representations might be needed. For example, we can represent a graph as a _adjacency lists_.\n",
    "\n",
    "Let's look at this 6x6 boolean matrix:\n"
   ]
  },
  {
   "cell_type": "code",
   "execution_count": 2,
   "metadata": {},
   "outputs": [],
   "source": [
    "m = [\n",
    "    [False, False, False, False, False, False],\n",
    "    [False, False, False, False, False, False],\n",
    "    [True,  False, False, True,  False, False],\n",
    "    [False, False, False, False, False, False],\n",
    "    [False, False, False, False, False, False],\n",
    "    [False, False, True,  False, False, False]\n",
    "]\n"
   ]
  },
  {
   "cell_type": "markdown",
   "metadata": {},
   "source": [
    "We see just a few `True`, so by drawing it we don't expect to see many edges:"
   ]
  },
  {
   "cell_type": "code",
   "execution_count": 3,
   "metadata": {},
   "outputs": [
    {
     "data": {
      "image/png": "[encoded data removed]",
      "text/plain": [
       "<IPython.core.display.Image object>"
      ]
     },
     "metadata": {},
     "output_type": "display_data"
    }
   ],
   "source": [
    "draw_mat(m)"
   ]
  },
  {
   "cell_type": "markdown",
   "metadata": {},
   "source": [
    "As a more compact representation, we might represent the data as a dictionary of _adjacency lists_ where the keys are the node indexes and the to each node we associate a list with the target nodes it points to.\n",
    "\n",
    "To reproduce the example above, we can write like this:"
   ]
  },
  {
   "cell_type": "code",
   "execution_count": 4,
   "metadata": {},
   "outputs": [],
   "source": [
    "\n",
    "d = {\n",
    "         0: [],     # node 0 links to nothing\n",
    "         1: [],     # node 1 links to nothing\n",
    "         2: [0,3],  # node 2 links to node 0 and 3\n",
    "         3: [],     # node 3 links to nothing\n",
    "         4: [],     # node 4 links to nothing\n",
    "         5: [2]     # node 5 links to node 2\n",
    "       }\n"
   ]
  },
  {
   "cell_type": "markdown",
   "metadata": {},
   "source": [
    "In `sciprog.py`, we provide also a function `sciprog.draw_adj` to quickly inspect such data structure:"
   ]
  },
  {
   "cell_type": "code",
   "execution_count": 5,
   "metadata": {},
   "outputs": [
    {
     "data": {
      "image/png": "[encoded data removed]",
      "text/plain": [
       "<IPython.core.display.Image object>"
      ]
     },
     "metadata": {},
     "output_type": "display_data"
    }
   ],
   "source": [
    "from sciprog import draw_adj\n",
    "\n",
    "draw_adj(d)"
   ]
  },
  {
   "cell_type": "markdown",
   "metadata": {},
   "source": [
    "As expected, the resulting graph is the name as for the equivalent matrix representation."
   ]
  },
  {
   "cell_type": "markdown",
   "metadata": {},
   "source": [
    "### mat_to_adj\n",
    "\n",
    "Implement the following function. Remember that to create an empty dict you have to write `dict()`"
   ]
  },
  {
   "cell_type": "code",
   "execution_count": 6,
   "metadata": {},
   "outputs": [],
   "source": [
    "def mat_to_adj(bool_mat):\n",
    "    \"\"\"\n",
    "        Takes a boolean nxn matrix and RETURN the equivalent representation as dictionary of adjacency lists\n",
    "    \"\"\"\n",
    "    #jupman-raise\n",
    "    ret = dict()\n",
    "    n = len(bool_mat)\n",
    "    for i in range(n):\n",
    "        ret[i] = []\n",
    "        for j in range(n):\n",
    "            if bool_mat[i][j]:\n",
    "                ret[i].append(j)\n",
    "    return ret\n",
    "    #/jupman-raise\n",
    "\n",
    "m1 = [\n",
    "        [False]\n",
    "    ]\n",
    "\n",
    "d1 =  {\n",
    "         0:[]\n",
    "     }\n",
    "\n",
    "assert mat_to_adj(m1) == d1\n",
    "\n",
    "m2 = [\n",
    "        [True]\n",
    "    ]\n",
    "\n",
    "d2 =  {\n",
    "         0:[0]\n",
    "     }\n",
    "\n",
    "assert mat_to_adj(m2) == d2\n",
    "\n",
    "\n",
    "m3 = [\n",
    "        [False,False],\n",
    "        [False,False]\n",
    "    ]\n",
    "\n",
    "d3 =  {\n",
    "         0:[],\n",
    "         1:[]\n",
    "     }\n",
    "\n",
    "\n",
    "assert mat_to_adj(m3) == d3\n",
    "\n",
    "\n",
    "m4 = [\n",
    "        [True,True],\n",
    "        [True,True]\n",
    "    ]\n",
    "\n",
    "d4 =  {\n",
    "         0:[0,1],\n",
    "         1:[0,1]\n",
    "     }\n",
    "\n",
    "\n",
    "assert mat_to_adj(m4) == d4\n",
    "\n",
    "m5 = [\n",
    "        [False,False],\n",
    "        [False,True]\n",
    "    ]\n",
    "\n",
    "d5 =  {\n",
    "         0:[],\n",
    "         1:[1]\n",
    "     }\n",
    "\n",
    "\n",
    "assert mat_to_adj(m5) == d5\n",
    "\n",
    "\n",
    "m6 = [\n",
    "        [True,False,False],\n",
    "        [True, True,False],\n",
    "        [False,True,False]  \n",
    "    ]\n",
    "\n",
    "d6 =  {\n",
    "         0:[0],\n",
    "         1:[0,1],\n",
    "         2:[1]\n",
    "     }\n",
    "\n",
    "\n",
    "assert mat_to_adj(m6) == d6\n",
    "                 "
   ]
  },
  {
   "cell_type": "markdown",
   "metadata": {},
   "source": [
    "### mat_ids_to_adj"
   ]
  },
  {
   "cell_type": "code",
   "execution_count": 7,
   "metadata": {},
   "outputs": [],
   "source": [
    "def mat_ids_to_adj(bool_mat, ids):\n",
    "    \"\"\"\n",
    "        Takes a boolean nxn matrix and a list of immutable identifiers for the nodes, and \n",
    "        RETURN the equivalent representation as dictionary of adjacency lists.\n",
    "        \n",
    "        If matrix is not nxn or ids length does not match n, raise ValueError\n",
    "    \"\"\"    \n",
    "    #jupman-raise\n",
    "    \n",
    "    ret = dict()\n",
    "    n = len(bool_mat)\n",
    "    m = len(bool_mat[0])\n",
    "    if n != m:\n",
    "        raise ValueError('matrix is not nxn !')\n",
    "    if n != len(ids):\n",
    "        raise ValueError(\"Identifiers quantity is different from matrix size!\" )\n",
    "    for i in range(n):\n",
    "        ret[ids[i]] = []\n",
    "        for j in range(n):\n",
    "            if bool_mat[i][j]:\n",
    "                ret[ids[i]].append(ids[j])\n",
    "    return ret\n",
    "    #/jupman-raise\n",
    "    \n",
    "\n",
    "try: \n",
    "    mat_ids_to_adj([[False, True]], ['a','b'])\n",
    "    raise Exception(\"SHOULD HAVE FAILED !\")  \n",
    "except ValueError: \n",
    "    \"passed test\"  \n",
    "\n",
    "try: \n",
    "    mat_ids_to_adj([[False]], ['a','b'])\n",
    "    raise Exception(\"SHOULD HAVE FAILED !\")  \n",
    "except ValueError: \n",
    "    \"passed test\"      \n",
    "    \n",
    "m1 = [\n",
    "        [False]\n",
    "    ]\n",
    "\n",
    "d1 =  { 'a':[] }\n",
    "assert mat_ids_to_adj(m1, ['a']) == d1\n",
    "\n",
    "m2 = [\n",
    "        [True]\n",
    "    ]\n",
    "\n",
    "d2 =  { 'a':['a'] }\n",
    "assert mat_ids_to_adj(m2, ['a']) == d2\n",
    "\n",
    "\n",
    "m3 = [\n",
    "        [False,False],\n",
    "        [False,False]\n",
    "    ]\n",
    "\n",
    "d3 =  {\n",
    "         'a':[],\n",
    "         'b':[]\n",
    "     }\n",
    "assert mat_ids_to_adj(m3,['a','b']) == d3\n",
    "\n",
    "\n",
    "m4 = [\n",
    "        [True,True],\n",
    "        [True,True]\n",
    "    ]\n",
    "\n",
    "d4 =  {\n",
    "         'a':['a','b'],\n",
    "         'b':['a','b']\n",
    "     }\n",
    "assert mat_ids_to_adj(m4, ['a','b']) == d4\n",
    "\n",
    "m5 = [\n",
    "        [False,False],\n",
    "        [False,True]\n",
    "    ]\n",
    "\n",
    "d5 =  {\n",
    "         'a':[],\n",
    "         'b':['b']\n",
    "     }\n",
    "\n",
    "\n",
    "assert mat_ids_to_adj(m5,['a','b']) == d5\n",
    "\n",
    "\n",
    "m6 = [\n",
    "        [True,False,False],\n",
    "        [True, True,False],\n",
    "        [False,True,False]  \n",
    "    ]\n",
    "\n",
    "d6 =  {\n",
    "         'a':['a'],\n",
    "         'b':['a','b'],\n",
    "         'c':['b']\n",
    "     }\n",
    "\n",
    "\n",
    "assert mat_ids_to_adj(m6,['a','b','c']) == d6\n",
    "                 "
   ]
  },
  {
   "cell_type": "markdown",
   "metadata": {},
   "source": [
    "### adj_to_mat\n",
    "\n",
    "Try now conversion from dictionary of adjacency list to matrix  (this is a bit hard). \n",
    "\n",
    "To solve this, the general idea is that you have to fill an nxn matrix to return. During the filling of a cell at row `i` and column `j`, you have to decide whether to put a `True` or a `False`. You should put `True` if in the `d` list value corresponding to the `i-th` key, there is contained a number equal to `j`. Otherwise, you should put `False`.\n",
    "\n",
    "If you look at the tests, as inputs we are passing `OrderedDict`. The reason is that when we check the output matrix of your function, we want to be sure the matrix rows are ordered in a certain way.\n",
    "\n",
    "But you have to assume  d can contain arbitrary ids with no precise ordering, so:\n",
    "\n",
    "1. first you should scan the dictionary and lists to save the mapping between indexes to ids in a separate list\n",
    " \n",
    " **NOTE**: `d.keys()` is not exactly a list (does not allow access by index), so you must convert to list with this:  `list(d.keys())`\n",
    " \n",
    "2. then you should build the matrix to return, using the previously built list when needed.\n",
    "\n",
    "\n",
    "Now implement the function: "
   ]
  },
  {
   "cell_type": "code",
   "execution_count": 8,
   "metadata": {},
   "outputs": [],
   "source": [
    "def adj_to_mat(d):\n",
    "    \"\"\" Take a dictionary of adjacency lists with arbitrary ids and\n",
    "        RETURN its representation as an nxn boolean matrix (assume all nodes are present as keys)\n",
    "        \n",
    "        - Assume d is a simple dictionary (not necessarily an OrderedDict)\n",
    "                      \n",
    "    \"\"\"\n",
    "    #jupman-raise\n",
    "    ret = []\n",
    "    n = len(d)\n",
    "    ids_to_row_indexes = dict()\n",
    "    # first maps row indexes to keys \n",
    "    row_indexes_to_ids = list(d.keys()) # because d.keys() is *not* indexable !\n",
    "    i = 0\n",
    "    for key in d: \n",
    "        row = []\n",
    "        ret.append(row)\n",
    "        for j in range(n):\n",
    "            if  row_indexes_to_ids[j] in d[key]:\n",
    "                row.append(True)\n",
    "            else:\n",
    "                row.append(False)\n",
    "        i += 1\n",
    "    return ret\n",
    "    #/jupman-raise\n",
    "\n",
    "from collections import OrderedDict\n",
    "od1 = OrderedDict([\n",
    "                    ('a',[])\n",
    "                 ])\n",
    "m1 = [ [False] ]\n",
    "assert adj_to_mat(od1) == m1\n",
    "\n",
    "od2 = OrderedDict([\n",
    "                    ('a',['a'])\n",
    "                 ])\n",
    "m2 = [ [True] ]\n",
    "\n",
    "assert adj_to_mat(od2) == m2\n",
    "\n",
    "od3 = OrderedDict([\n",
    "                    ('a',['a','b']),\n",
    "                    ('b',['a','b']),\n",
    "                 ])\n",
    "m3 = [ \n",
    "        [True, True],\n",
    "        [True, True]\n",
    "     ]\n",
    "\n",
    "assert adj_to_mat(od3) == m3\n",
    "\n",
    "\n",
    "od4 = OrderedDict([\n",
    "                    ('a',[]),\n",
    "                    ('b',[]),\n",
    "                 ])\n",
    "\n",
    "m4 = [ \n",
    "        [False, False],\n",
    "        [False, False]\n",
    "     ]\n",
    "\n",
    "assert adj_to_mat(od4) == m4\n",
    "\n",
    "od5 = OrderedDict([\n",
    "                    ('a',['a']),\n",
    "                    ('b',['a','b']),\n",
    "                 ])\n",
    "\n",
    "m5 = [ \n",
    "        [True, False],\n",
    "        [True, True]\n",
    "     ]\n",
    "\n",
    "assert adj_to_mat(od5) == m5\n",
    "\n",
    "\n",
    "od6 = OrderedDict([\n",
    "                    ('a',['a','c']),\n",
    "                    ('b',['c']),\n",
    "                    ('c',['a','b']),\n",
    "                 ])\n",
    "\n",
    "m6 = [ \n",
    "        [True, False, True],\n",
    "        [False, False, True],\n",
    "        [True, True, False],\n",
    "     ]\n",
    "\n",
    "assert adj_to_mat(od6) == m6"
   ]
  },
  {
   "cell_type": "markdown",
   "metadata": {},
   "source": [
    "## Simple statistics"
   ]
  },
  {
   "cell_type": "markdown",
   "metadata": {},
   "source": [
    "### outdegree_adj\n",
    "\n",
    "The out-degree of a node $v$ is the number of edges going out from it. Let's try to calculate it. \n"
   ]
  },
  {
   "cell_type": "code",
   "execution_count": 9,
   "metadata": {},
   "outputs": [],
   "source": [
    "def outdegree_adj(d, v):\n",
    "    \"\"\" RETURN the outdegree of a node from graph d represented as a dictionary of adjacency lists\n",
    "    \n",
    "        If v is not a vertex of d, raise ValueError\n",
    "    \"\"\"\n",
    "    #jupman-raise\n",
    "    if v not in d:\n",
    "        raise ValueError(\"Vertex %s is not in %s\" % (v, d))\n",
    "    \n",
    "    return len(d[v])\n",
    "    #/jupman-raise\n",
    "\n",
    "try: \n",
    "    outdegree_adj({'a':[]},'b')\n",
    "    raise Exception(\"SHOULD HAVE FAILED !\")  \n",
    "except ValueError: \n",
    "    \"passed test\"\n",
    "    \n",
    "assert outdegree_adj({\n",
    "        'a':[]\n",
    "},'a') == 0\n",
    "\n",
    "assert outdegree_adj({\n",
    "        'a':['a']\n",
    "},'a') == 1\n",
    "\n",
    "assert outdegree_adj({\n",
    "        'a':['a','b'],\n",
    "        'b':[]\n",
    "},'a') == 2\n",
    "\n",
    "assert outdegree_adj({\n",
    "        'a':['a','b'],\n",
    "        'b':['a','b','c'],\n",
    "        'c':[]\n",
    "},'b') == 3\n",
    "\n",
    "\n"
   ]
  },
  {
   "cell_type": "markdown",
   "metadata": {},
   "source": [
    "### outdegree_mat\n"
   ]
  },
  {
   "cell_type": "code",
   "execution_count": 10,
   "metadata": {},
   "outputs": [],
   "source": [
    "def outdegree_mat(mat, i):\n",
    "    \"\"\" RETURN the outdegree of a node i from a graph boolean matrix nxn represented as a list of lists\n",
    "    \n",
    "        If i is not a node of the graph, raise ValueError\n",
    "    \"\"\"\n",
    "    #jupman-raise\n",
    "    n = len(mat)\n",
    "    if i < 0 or i > n: \n",
    "        raise ValueError(\"i %s is not a row of matrix %s\" % (i, mat))\n",
    "    ret = 0    \n",
    "    for j in range(n):\n",
    "        if mat[i][j]:\n",
    "            ret += 1\n",
    "    return ret\n",
    "    #/jupman-raise\n",
    "\n",
    "try: \n",
    "    outdegree_mat([[False]],7)\n",
    "    raise Exception(\"SHOULD HAVE FAILED !\")  \n",
    "except ValueError: \n",
    "    \"passed test\"\n",
    "\n",
    "try: \n",
    "    outdegree_mat([[False]],-1)\n",
    "    raise Exception(\"SHOULD HAVE FAILED !\")  \n",
    "except ValueError: \n",
    "    \"passed test\"\n",
    "\n",
    "    \n",
    "assert outdegree_mat(\n",
    "        [\n",
    "            [False]\n",
    "        ]\n",
    ",0) == 0\n",
    "\n",
    "assert outdegree_mat(\n",
    "        [\n",
    "            [True]\n",
    "        ],0) == 1\n",
    "\n",
    "assert outdegree_mat(\n",
    "        [\n",
    "            [True, True],\n",
    "            [False, False]\n",
    "        ],0) == 2\n",
    "\n",
    "assert outdegree_mat(\n",
    "        [\n",
    "            [True, True, False],\n",
    "            [True, True, True],\n",
    "            [False, False, False],            \n",
    "        ]\n",
    ",1) == 3\n"
   ]
  },
  {
   "cell_type": "markdown",
   "metadata": {},
   "source": [
    "### outdegree_avg\n",
    "\n"
   ]
  },
  {
   "cell_type": "code",
   "execution_count": 11,
   "metadata": {},
   "outputs": [],
   "source": [
    "def outdegree_avg(d):\n",
    "    \"\"\"\n",
    "    RETURN the average outdegree of nodes in graph d, represented as dictionary of adjacency lists. \n",
    "    \n",
    "    Assume all nodes are in the keys.\n",
    "    \"\"\"\n",
    "    #jupman-raise\n",
    "    s = 0\n",
    "    for k in d: \n",
    "        s += len(d[k])\n",
    "    return s / len(d)\n",
    "    #/jupman-raise\n",
    "    \n",
    "assert outdegree_avg({\n",
    "        'a':[]\n",
    "}) == 0\n",
    "\n",
    "assert round(\n",
    "                outdegree_avg({\n",
    "                    'a':['a']\n",
    "                })\n",
    "            ,2) == 1.00 / 1.00\n",
    "\n",
    "assert round(\n",
    "                outdegree_avg({\n",
    "                    'a':['a','b'],\n",
    "                    'b':[]\n",
    "                })\n",
    "            ,2) == (2 + 0) / 2\n",
    "\n",
    "assert round(\n",
    "                outdegree_avg({\n",
    "                    'a':['a','b'],\n",
    "                    'b':['a','b','c'],\n",
    "                    'c':[]\n",
    "                }) \n",
    "        ,2) == round( (2 + 3) / 3 , 2)"
   ]
  },
  {
   "cell_type": "markdown",
   "metadata": {},
   "source": [
    "### indegree_adj\n",
    "\n",
    "The indegree of a node $v$ s the number of edges going into it. \n"
   ]
  },
  {
   "cell_type": "code",
   "execution_count": 12,
   "metadata": {},
   "outputs": [],
   "source": [
    "def indegree_adj(d, v):\n",
    "    \"\"\" RETURN the indegree of node v in graph d, represented as a dictionary of adjacency lists\n",
    "    \n",
    "        If v is not a node of the graph, raise ValueError\n",
    "    \"\"\"\n",
    "    #jupman-raise\n",
    "    if v not in d:\n",
    "        raise ValueError(\"Vertex %s is not in %s\" % (v, d))\n",
    "    ret = 0\n",
    "    for k in d:\n",
    "        if v in d[k]:\n",
    "            ret += 1\n",
    "    return ret\n",
    "    #/jupman-raise\n",
    "    \n",
    "try: \n",
    "    indegree_adj({'a':[]},'b')\n",
    "    raise Exception(\"SHOULD HAVE FAILED !\")  \n",
    "except ValueError: \n",
    "    \"passed test\"\n",
    "\n",
    "\n",
    "assert indegree_adj({\n",
    "        'a':[]\n",
    "},'a') == 0\n",
    "\n",
    "assert indegree_adj({\n",
    "        'a':['a']\n",
    "},'a') == 1\n",
    "\n",
    "assert indegree_adj({\n",
    "        'a':['a','b'],\n",
    "        'b':[]\n",
    "},'a') == 1\n",
    "\n",
    "assert indegree_adj({\n",
    "        'a':['a','b'],\n",
    "        'b':['a','b','c'],\n",
    "        'c':[]\n",
    "},'b') == 2\n",
    "\n"
   ]
  },
  {
   "cell_type": "code",
   "execution_count": 13,
   "metadata": {},
   "outputs": [],
   "source": [
    "\n",
    "def indegree_mat(mat, i):\n",
    "    \"\"\" RETURN the indegree of a node i from a graph boolean matrix nxn represented as a list of lists\n",
    "    \n",
    "        If i is not a node of the graph, raise ValueError\n",
    "    \"\"\"\n",
    "    #jupman-raise\n",
    "    n = len(mat)\n",
    "    if i < 0 or i > n: \n",
    "        raise ValueError(\"i %s is not a row of matrix %s\" % (i, mat))\n",
    "    ret = 0    \n",
    "    for k in range(n):\n",
    "        if mat[k][i]:\n",
    "            ret += 1\n",
    "    return ret\n",
    "    #/jupman-raise\n",
    "    \n",
    "\n",
    "\n",
    "try: \n",
    "    indegree_mat([[False]],7)\n",
    "    raise Exception(\"SHOULD HAVE FAILED !\")  \n",
    "except ValueError: \n",
    "    \"passed test\"\n",
    "    \n",
    "assert indegree_mat(\n",
    "        [\n",
    "            [False]\n",
    "        ]\n",
    ",0) == 0\n",
    "\n",
    "assert indegree_mat(\n",
    "        [\n",
    "            [True]\n",
    "        ],0) == 1\n",
    "\n",
    "assert indegree_mat(\n",
    "        [\n",
    "            [True, True],\n",
    "            [False, False]\n",
    "        ],0) == 1\n",
    "\n",
    "assert indegree_mat(\n",
    "        [\n",
    "            [True, True, False],\n",
    "            [True, True, True],\n",
    "            [False, False, False],            \n",
    "        ]\n",
    ",1) == 2\n"
   ]
  },
  {
   "cell_type": "markdown",
   "metadata": {},
   "source": [
    "### indegree_avg"
   ]
  },
  {
   "cell_type": "code",
   "execution_count": 14,
   "metadata": {},
   "outputs": [],
   "source": [
    "def indegree_avg(d):\n",
    "    \"\"\"\n",
    "    RETURN the average indegree of nodes in graph d, represented as dictionary of adjacency lists. \n",
    "    \n",
    "    Assume all nodes are in the keys.\n",
    "    \"\"\"\n",
    "    #jupman-raise\n",
    "    s = 0\n",
    "    for k in d: \n",
    "        s += len(d[k])\n",
    "    return s / len(d)\n",
    "    #/jupman-raise\n",
    "    \n",
    "assert indegree_avg({\n",
    "        'a':[]\n",
    "}) == 0\n",
    "\n",
    "assert round(\n",
    "                indegree_avg({\n",
    "                    'a':['a']\n",
    "                })\n",
    "            ,2) == 1.00 / 1.00\n",
    "\n",
    "assert round(\n",
    "                indegree_avg({\n",
    "                    'a':['a','b'],\n",
    "                    'b':[]\n",
    "                })\n",
    "            ,2) == (1 + 1) / 2\n",
    "\n",
    "assert round(\n",
    "                indegree_avg({\n",
    "                    'a':['a','b'],\n",
    "                    'b':['a','b','c'],\n",
    "                    'c':[]\n",
    "                }) \n",
    "        ,2) == round( (2 + 2 + 1) / 3 , 2)"
   ]
  },
  {
   "cell_type": "markdown",
   "metadata": {},
   "source": [
    "## Partitioning the graph"
   ]
  },
  {
   "cell_type": "markdown",
   "metadata": {},
   "source": [
    "When we have a problem, we try to solve it by splitting its dimension in half (or more), look for solutions in each of the halves and then decide what to do with the found solutions, if any.\n",
    "\n",
    "Several cases may occur:\n",
    "\n",
    "1. No solution is found\n",
    "2. One solution is found\n",
    "3. Two solutions are found\n",
    "\n",
    "case 1): we can only give up. \n",
    "\n",
    "case 2): we have only one solution, so we can just return that one.\n",
    "\n",
    "case 3): we have two solutions, so we need to decide what is the purpose of the algorithm.\n",
    "\n",
    "- Is it to find all possible solutions? Then we return both of them. \n",
    "\n",
    "- Is it to find the _best_ solution, according to some measure of 'goodness'? Then we measure each of the solutions and give back the highest scoring one.\n",
    "\n",
    "- Is it to always provide a _combination_ of existing solutions, according to some combination method? Then we combine the found solutions and give them back"
   ]
  },
  {
   "cell_type": "markdown",
   "metadata": {},
   "source": [
    "### min_outdeg"
   ]
  },
  {
   "cell_type": "code",
   "execution_count": 15,
   "metadata": {},
   "outputs": [],
   "source": [
    "\n",
    "def helper(mat, start, end):\n",
    "    \"\"\"\n",
    "        Takes a graph as matrix of list of lists  and RETURN the minimum \n",
    "        outdegree of nodes with row index between indeces start (included) \n",
    "        and end included\n",
    "        \n",
    "        This function MUST be recursive, so it must call itself.\n",
    "    \"\"\"\n",
    "    #jupman-raise\n",
    "    n = len(mat)\n",
    "    if start == end:\n",
    "        return mat[start].count(True)\n",
    "    else:\n",
    "        half = (start + end) // 2\n",
    "        min_left = helper(mat, 0, half)\n",
    "        min_right = helper(mat, half+1, end)\n",
    "        return min(min_left, min_right)\n",
    "    #/jupman-raise\n",
    "    \n",
    "def min_outdeg(mat):\n",
    "    \"\"\"\n",
    "        Takes a graph as matrix of list of lists  and RETURN the minimum \n",
    "        outdegree of nodes by calling funciton helper. \n",
    "        This function is *not* recursive, only function helper is.\n",
    "    \"\"\"    \n",
    "    #jupman-raise\n",
    "    n = len(mat)\n",
    "    return helper(mat, 0, len(mat) - 1)\n",
    "    #/jupman-raise\n",
    "\n",
    "assert min_outdeg(\n",
    "        [\n",
    "            [False]\n",
    "        ]) == 0\n",
    "\n",
    "assert min_outdeg(\n",
    "        [\n",
    "            [True]\n",
    "        ]) == 1\n",
    "\n",
    "assert min_outdeg(\n",
    "        [\n",
    "            [False, True],\n",
    "            [True, False]\n",
    "        ]) == 1\n",
    "\n",
    "assert min_outdeg(\n",
    "        [\n",
    "            [True, True, False],\n",
    "            [True, True, True],\n",
    "            [False, True, True],            \n",
    "        ]) == 2\n",
    "\n",
    "\n",
    "assert min_outdeg(\n",
    "        [\n",
    "            [True, True, False],\n",
    "            [True, True, True],\n",
    "            [False, True, False],            \n",
    "        ]) == 1\n",
    "\n",
    "\n",
    "assert min_outdeg(\n",
    "        [\n",
    "            [True, True, True],\n",
    "            [True, True, True],\n",
    "            [False, True, False],            \n",
    "        ]) == 1\n",
    "\n",
    "\n",
    "        "
   ]
  },
  {
   "cell_type": "markdown",
   "metadata": {},
   "source": [
    "## networkx\n",
    "\n",
    "To easily perform statistics on networks, you can use the library `networkx`. You can initialize networkx objects with the dictionary of adjacency lists we've alredy seen:"
   ]
  },
  {
   "cell_type": "code",
   "execution_count": 16,
   "metadata": {},
   "outputs": [],
   "source": [
    "import networkx as nx"
   ]
  },
  {
   "cell_type": "code",
   "execution_count": 17,
   "metadata": {},
   "outputs": [],
   "source": [
    "G=nx.DiGraph({\n",
    "    'a':['b','c'],        # node a links to b and c\n",
    "    'b':['b','c', 'd']    # node b links to b itself, c and d\n",
    "})\n",
    "\n"
   ]
  },
  {
   "cell_type": "markdown",
   "metadata": {},
   "source": [
    "The resulting object is not a simple dict, but something more complex:"
   ]
  },
  {
   "cell_type": "code",
   "execution_count": 18,
   "metadata": {},
   "outputs": [
    {
     "data": {
      "text/plain": [
       "<networkx.classes.digraph.DiGraph at 0x7fba24271b00>"
      ]
     },
     "execution_count": 18,
     "metadata": {},
     "output_type": "execute_result"
    }
   ],
   "source": [
    "G"
   ]
  },
  {
   "cell_type": "markdown",
   "metadata": {},
   "source": [
    "To display it in a way uniform with the rest of the course, we developed a function called `sciprog.draw_nx` :"
   ]
  },
  {
   "cell_type": "code",
   "execution_count": 19,
   "metadata": {},
   "outputs": [],
   "source": [
    "from sciprog import draw_nx"
   ]
  },
  {
   "cell_type": "code",
   "execution_count": 20,
   "metadata": {},
   "outputs": [
    {
     "data": {
      "image/png": "[encoded data removed]",
      "text/plain": [
       "<IPython.core.display.Image object>"
      ]
     },
     "metadata": {},
     "output_type": "display_data"
    }
   ],
   "source": [
    "draw_nx(G)"
   ]
  },
  {
   "cell_type": "markdown",
   "metadata": {},
   "source": [
    "From the picture above, we notice there are no weights displayed, because in networkx they are just  considered optional attributes of edges. To see all the attributes of an edge, we can write like this:"
   ]
  },
  {
   "cell_type": "code",
   "execution_count": 21,
   "metadata": {},
   "outputs": [
    {
     "data": {
      "text/plain": [
       "{}"
      ]
     },
     "execution_count": 21,
     "metadata": {},
     "output_type": "execute_result"
    }
   ],
   "source": [
    "G['a']['b']"
   ]
  },
  {
   "cell_type": "markdown",
   "metadata": {},
   "source": [
    "This graph has no attributes for the node, so we get back an empty dict. If we wanted to add a weight of `123` to that particular `a b` edge, we could write like this:"
   ]
  },
  {
   "cell_type": "code",
   "execution_count": 22,
   "metadata": {},
   "outputs": [],
   "source": [
    "G['a']['b']['weight'] = 123"
   ]
  },
  {
   "cell_type": "code",
   "execution_count": 23,
   "metadata": {},
   "outputs": [
    {
     "data": {
      "text/plain": [
       "{'weight': 123}"
      ]
     },
     "execution_count": 23,
     "metadata": {},
     "output_type": "execute_result"
    }
   ],
   "source": [
    "G['a']['b']"
   ]
  },
  {
   "cell_type": "markdown",
   "metadata": {},
   "source": [
    "Let's try to display it:"
   ]
  },
  {
   "cell_type": "code",
   "execution_count": 24,
   "metadata": {},
   "outputs": [
    {
     "data": {
      "image/png": "[encoded data removed]",
      "text/plain": [
       "<IPython.core.display.Image object>"
      ]
     },
     "metadata": {},
     "output_type": "display_data"
    }
   ],
   "source": [
    "draw_nx(G)"
   ]
  },
  {
   "cell_type": "markdown",
   "metadata": {},
   "source": [
    "We still don't see the weight as weight can be one of many properties, the only thing that gets displayed is the propery `label`. So let's set label equal to the weight:"
   ]
  },
  {
   "cell_type": "code",
   "execution_count": 25,
   "metadata": {},
   "outputs": [],
   "source": [
    "G['a']['b']['label'] = 123"
   ]
  },
  {
   "cell_type": "code",
   "execution_count": 26,
   "metadata": {},
   "outputs": [
    {
     "data": {
      "image/png": "[encoded data removed]",
      "text/plain": [
       "<IPython.core.display.Image object>"
      ]
     },
     "metadata": {},
     "output_type": "display_data"
    }
   ],
   "source": [
    "draw_nx(G)"
   ]
  },
  {
   "cell_type": "markdown",
   "metadata": {},
   "source": [
    "<div class=\"alert alert-warning\">\n",
    "\n",
    "**TO BE CONTINUED ...**\n",
    "</a>"
   ]
  }
 ],
 "metadata": {
  "celltoolbar": "Edit Metadata",
  "kernelspec": {
   "display_name": "Python 3",
   "language": "python",
   "name": "python3"
  },
  "language_info": {
   "codemirror_mode": {
    "name": "ipython",
    "version": 3
   },
   "file_extension": ".py",
   "mimetype": "text/x-python",
   "name": "python",
   "nbconvert_exporter": "python",
   "pygments_lexer": "ipython3",
   "version": "3.5.2"
  },
  "toc": {
   "base_numbering": 1,
   "nav_menu": {},
   "number_sections": false,
   "sideBar": true,
   "skip_h1_title": false,
   "title_cell": "Table of Contents",
   "title_sidebar": "Contents",
   "toc_cell": false,
   "toc_position": {},
   "toc_section_display": true,
   "toc_window_display": true
  }
 },
 "nbformat": 4,
 "nbformat_minor": 2
}
